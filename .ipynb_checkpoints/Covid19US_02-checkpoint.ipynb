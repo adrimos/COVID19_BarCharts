{
 "cells": [
  {
   "cell_type": "code",
   "execution_count": 2,
   "metadata": {},
   "outputs": [],
   "source": [
    "# Setting up the environment.\n",
    "import numpy as np\n",
    "import pandas as pd\n",
    "import matplotlib.pyplot as plt\n",
    "import matplotlib as mpl\n",
    "import seaborn as sns\n",
    "from scipy import stats\n",
    "from matplotlib.ticker import FuncFormatter\n",
    "from cycler import cycler"
   ]
  },
  {
   "cell_type": "code",
   "execution_count": 3,
   "metadata": {},
   "outputs": [],
   "source": [
    "# Load the data from the John Hopkins github repo\n",
    "df = pd.read_csv('https://raw.githubusercontent.com/CSSEGISandData/COVID-19/master/csse_covid_19_data/csse_covid_19_daily_reports/03-24-2020.csv', index_col=0)\n",
    "latest = '3/24/20'"
   ]
  },
  {
   "cell_type": "code",
   "execution_count": 4,
   "metadata": {},
   "outputs": [
    {
     "data": {
      "text/html": [
       "<div>\n",
       "<style scoped>\n",
       "    .dataframe tbody tr th:only-of-type {\n",
       "        vertical-align: middle;\n",
       "    }\n",
       "\n",
       "    .dataframe tbody tr th {\n",
       "        vertical-align: top;\n",
       "    }\n",
       "\n",
       "    .dataframe thead th {\n",
       "        text-align: right;\n",
       "    }\n",
       "</style>\n",
       "<table border=\"1\" class=\"dataframe\">\n",
       "  <thead>\n",
       "    <tr style=\"text-align: right;\">\n",
       "      <th></th>\n",
       "      <th>Admin2</th>\n",
       "      <th>Province_State</th>\n",
       "      <th>Country_Region</th>\n",
       "      <th>Last_Update</th>\n",
       "      <th>Lat</th>\n",
       "      <th>Long_</th>\n",
       "      <th>Confirmed</th>\n",
       "      <th>Deaths</th>\n",
       "      <th>Recovered</th>\n",
       "      <th>Active</th>\n",
       "      <th>Combined_Key</th>\n",
       "    </tr>\n",
       "    <tr>\n",
       "      <th>FIPS</th>\n",
       "      <th></th>\n",
       "      <th></th>\n",
       "      <th></th>\n",
       "      <th></th>\n",
       "      <th></th>\n",
       "      <th></th>\n",
       "      <th></th>\n",
       "      <th></th>\n",
       "      <th></th>\n",
       "      <th></th>\n",
       "      <th></th>\n",
       "    </tr>\n",
       "  </thead>\n",
       "  <tbody>\n",
       "    <tr>\n",
       "      <th>45001.0</th>\n",
       "      <td>Abbeville</td>\n",
       "      <td>South Carolina</td>\n",
       "      <td>US</td>\n",
       "      <td>2020-03-24 23:37:31</td>\n",
       "      <td>34.223334</td>\n",
       "      <td>-82.461707</td>\n",
       "      <td>1</td>\n",
       "      <td>0</td>\n",
       "      <td>0</td>\n",
       "      <td>0</td>\n",
       "      <td>Abbeville, South Carolina, US</td>\n",
       "    </tr>\n",
       "    <tr>\n",
       "      <th>22001.0</th>\n",
       "      <td>Acadia</td>\n",
       "      <td>Louisiana</td>\n",
       "      <td>US</td>\n",
       "      <td>2020-03-24 23:37:31</td>\n",
       "      <td>30.295065</td>\n",
       "      <td>-92.414197</td>\n",
       "      <td>2</td>\n",
       "      <td>0</td>\n",
       "      <td>0</td>\n",
       "      <td>0</td>\n",
       "      <td>Acadia, Louisiana, US</td>\n",
       "    </tr>\n",
       "    <tr>\n",
       "      <th>51001.0</th>\n",
       "      <td>Accomack</td>\n",
       "      <td>Virginia</td>\n",
       "      <td>US</td>\n",
       "      <td>2020-03-24 23:37:31</td>\n",
       "      <td>37.767072</td>\n",
       "      <td>-75.632346</td>\n",
       "      <td>1</td>\n",
       "      <td>0</td>\n",
       "      <td>0</td>\n",
       "      <td>0</td>\n",
       "      <td>Accomack, Virginia, US</td>\n",
       "    </tr>\n",
       "    <tr>\n",
       "      <th>16001.0</th>\n",
       "      <td>Ada</td>\n",
       "      <td>Idaho</td>\n",
       "      <td>US</td>\n",
       "      <td>2020-03-24 23:37:31</td>\n",
       "      <td>43.452658</td>\n",
       "      <td>-116.241552</td>\n",
       "      <td>19</td>\n",
       "      <td>0</td>\n",
       "      <td>0</td>\n",
       "      <td>0</td>\n",
       "      <td>Ada, Idaho, US</td>\n",
       "    </tr>\n",
       "    <tr>\n",
       "      <th>19001.0</th>\n",
       "      <td>Adair</td>\n",
       "      <td>Iowa</td>\n",
       "      <td>US</td>\n",
       "      <td>2020-03-24 23:37:31</td>\n",
       "      <td>41.330756</td>\n",
       "      <td>-94.471059</td>\n",
       "      <td>1</td>\n",
       "      <td>0</td>\n",
       "      <td>0</td>\n",
       "      <td>0</td>\n",
       "      <td>Adair, Iowa, US</td>\n",
       "    </tr>\n",
       "  </tbody>\n",
       "</table>\n",
       "</div>"
      ],
      "text/plain": [
       "            Admin2  Province_State Country_Region          Last_Update  \\\n",
       "FIPS                                                                     \n",
       "45001.0  Abbeville  South Carolina             US  2020-03-24 23:37:31   \n",
       "22001.0     Acadia       Louisiana             US  2020-03-24 23:37:31   \n",
       "51001.0   Accomack        Virginia             US  2020-03-24 23:37:31   \n",
       "16001.0        Ada           Idaho             US  2020-03-24 23:37:31   \n",
       "19001.0      Adair            Iowa             US  2020-03-24 23:37:31   \n",
       "\n",
       "               Lat       Long_  Confirmed  Deaths  Recovered  Active  \\\n",
       "FIPS                                                                   \n",
       "45001.0  34.223334  -82.461707          1       0          0       0   \n",
       "22001.0  30.295065  -92.414197          2       0          0       0   \n",
       "51001.0  37.767072  -75.632346          1       0          0       0   \n",
       "16001.0  43.452658 -116.241552         19       0          0       0   \n",
       "19001.0  41.330756  -94.471059          1       0          0       0   \n",
       "\n",
       "                          Combined_Key  \n",
       "FIPS                                    \n",
       "45001.0  Abbeville, South Carolina, US  \n",
       "22001.0          Acadia, Louisiana, US  \n",
       "51001.0         Accomack, Virginia, US  \n",
       "16001.0                 Ada, Idaho, US  \n",
       "19001.0                Adair, Iowa, US  "
      ]
     },
     "execution_count": 4,
     "metadata": {},
     "output_type": "execute_result"
    }
   ],
   "source": [
    "df.head(5)"
   ]
  },
  {
   "cell_type": "code",
   "execution_count": 5,
   "metadata": {},
   "outputs": [
    {
     "data": {
      "text/html": [
       "<div>\n",
       "<style scoped>\n",
       "    .dataframe tbody tr th:only-of-type {\n",
       "        vertical-align: middle;\n",
       "    }\n",
       "\n",
       "    .dataframe tbody tr th {\n",
       "        vertical-align: top;\n",
       "    }\n",
       "\n",
       "    .dataframe thead th {\n",
       "        text-align: right;\n",
       "    }\n",
       "</style>\n",
       "<table border=\"1\" class=\"dataframe\">\n",
       "  <thead>\n",
       "    <tr style=\"text-align: right;\">\n",
       "      <th></th>\n",
       "      <th>FIPS</th>\n",
       "      <th>County</th>\n",
       "      <th>State</th>\n",
       "      <th>Country</th>\n",
       "      <th>Confirmed</th>\n",
       "      <th>Deaths</th>\n",
       "      <th>County/State</th>\n",
       "    </tr>\n",
       "  </thead>\n",
       "  <tbody>\n",
       "    <tr>\n",
       "      <th>0</th>\n",
       "      <td>1001.0</td>\n",
       "      <td>Autauga</td>\n",
       "      <td>Alabama</td>\n",
       "      <td>US</td>\n",
       "      <td>1</td>\n",
       "      <td>0</td>\n",
       "      <td>Autauga, Alabama</td>\n",
       "    </tr>\n",
       "    <tr>\n",
       "      <th>1</th>\n",
       "      <td>1059.0</td>\n",
       "      <td>Franklin</td>\n",
       "      <td>Alabama</td>\n",
       "      <td>US</td>\n",
       "      <td>1</td>\n",
       "      <td>0</td>\n",
       "      <td>Franklin, Alabama</td>\n",
       "    </tr>\n",
       "    <tr>\n",
       "      <th>2</th>\n",
       "      <td>1069.0</td>\n",
       "      <td>Houston</td>\n",
       "      <td>Alabama</td>\n",
       "      <td>US</td>\n",
       "      <td>1</td>\n",
       "      <td>0</td>\n",
       "      <td>Houston, Alabama</td>\n",
       "    </tr>\n",
       "    <tr>\n",
       "      <th>3</th>\n",
       "      <td>1075.0</td>\n",
       "      <td>Lamar</td>\n",
       "      <td>Alabama</td>\n",
       "      <td>US</td>\n",
       "      <td>1</td>\n",
       "      <td>0</td>\n",
       "      <td>Lamar, Alabama</td>\n",
       "    </tr>\n",
       "    <tr>\n",
       "      <th>4</th>\n",
       "      <td>1093.0</td>\n",
       "      <td>Marion</td>\n",
       "      <td>Alabama</td>\n",
       "      <td>US</td>\n",
       "      <td>1</td>\n",
       "      <td>0</td>\n",
       "      <td>Marion, Alabama</td>\n",
       "    </tr>\n",
       "  </tbody>\n",
       "</table>\n",
       "</div>"
      ],
      "text/plain": [
       "     FIPS    County    State Country  Confirmed  Deaths       County/State\n",
       "0  1001.0   Autauga  Alabama      US          1       0   Autauga, Alabama\n",
       "1  1059.0  Franklin  Alabama      US          1       0  Franklin, Alabama\n",
       "2  1069.0   Houston  Alabama      US          1       0   Houston, Alabama\n",
       "3  1075.0     Lamar  Alabama      US          1       0     Lamar, Alabama\n",
       "4  1093.0    Marion  Alabama      US          1       0    Marion, Alabama"
      ]
     },
     "execution_count": 5,
     "metadata": {},
     "output_type": "execute_result"
    }
   ],
   "source": [
    "# Dropping some columns and sorting\n",
    "\n",
    "df1 = df[[\"Admin2\", \"Province_State\", \"Country_Region\", \"Confirmed\", \"Deaths\", \"Combined_Key\"]] #getting the columns I want\n",
    "df1 = df1[df1['Confirmed'] !=0] #dropping States with 0 confirmed\n",
    "df1 = df1[(df1[\"Country_Region\"] == \"US\")] #dropping countries other than the US\n",
    "df1 = df1.sort_values(by=['Province_State','Confirmed'], ascending=True) #sorting by State and then Confirmed\n",
    "df1 = df1.dropna() #dropping NA values\n",
    "df1 = df1[df1.Province_State != 'Wuhan Evacuee'] #dropping this row because it is not US\n",
    "df1['Combined_Key'] = df1['Combined_Key'].str.replace(r', US', '') #removing US from Combined key so it looks better in the hover text\n",
    "#df1 = df1.groupby(['Province_State'])\n",
    "df1 = df1.reset_index() #resetting index so FIPS is not the index\n",
    "df1 = df1.rename(columns={'Province_State': 'State'})\n",
    "df1 = df1.rename(columns={'Admin2': 'County'})\n",
    "df1 = df1.rename(columns={'Country_Region': 'Country'})\n",
    "df1 = df1.rename(columns={'Combined_Key': 'County/State'})\n",
    "df1.head(5)\n",
    "#df1.shape"
   ]
  },
  {
   "cell_type": "code",
   "execution_count": 230,
   "metadata": {
    "collapsed": true,
    "jupyter": {
     "outputs_hidden": true,
     "source_hidden": true
    }
   },
   "outputs": [
    {
     "data": {
      "text/html": [
       "<div>\n",
       "<style scoped>\n",
       "    .dataframe tbody tr th:only-of-type {\n",
       "        vertical-align: middle;\n",
       "    }\n",
       "\n",
       "    .dataframe tbody tr th {\n",
       "        vertical-align: top;\n",
       "    }\n",
       "\n",
       "    .dataframe thead th {\n",
       "        text-align: right;\n",
       "    }\n",
       "</style>\n",
       "<table border=\"1\" class=\"dataframe\">\n",
       "  <thead>\n",
       "    <tr style=\"text-align: right;\">\n",
       "      <th></th>\n",
       "      <th>Province_State</th>\n",
       "      <th>Total Confirmed</th>\n",
       "      <th>Total Deaths</th>\n",
       "    </tr>\n",
       "  </thead>\n",
       "  <tbody>\n",
       "    <tr>\n",
       "      <th>32</th>\n",
       "      <td>New York</td>\n",
       "      <td>25681</td>\n",
       "      <td>171</td>\n",
       "    </tr>\n",
       "    <tr>\n",
       "      <th>30</th>\n",
       "      <td>New Jersey</td>\n",
       "      <td>3675</td>\n",
       "      <td>44</td>\n",
       "    </tr>\n",
       "    <tr>\n",
       "      <th>4</th>\n",
       "      <td>California</td>\n",
       "      <td>2538</td>\n",
       "      <td>50</td>\n",
       "    </tr>\n",
       "    <tr>\n",
       "      <th>47</th>\n",
       "      <td>Washington</td>\n",
       "      <td>2328</td>\n",
       "      <td>116</td>\n",
       "    </tr>\n",
       "    <tr>\n",
       "      <th>22</th>\n",
       "      <td>Michigan</td>\n",
       "      <td>1793</td>\n",
       "      <td>24</td>\n",
       "    </tr>\n",
       "  </tbody>\n",
       "</table>\n",
       "</div>"
      ],
      "text/plain": [
       "   Province_State  Total Confirmed  Total Deaths\n",
       "32       New York            25681           171\n",
       "30     New Jersey             3675            44\n",
       "4      California             2538            50\n",
       "47     Washington             2328           116\n",
       "22       Michigan             1793            24"
      ]
     },
     "execution_count": 230,
     "metadata": {},
     "output_type": "execute_result"
    }
   ],
   "source": [
    "df2 = df1.groupby(['Province_State']).sum()\n",
    "df2 = df2.rename(columns={'Confirmed': 'Total Confirmed'})\n",
    "df2 = df2.rename(columns={'Deaths': 'Total Deaths'})\n",
    "df2 = df2.reset_index()\n",
    "#df2 = df2[df['Confirmed'] > 20]\n",
    "df2 = df2.sort_values(by=['Total Confirmed', 'Province_State'], ascending=False)\n",
    "df2.head(5)"
   ]
  },
  {
   "cell_type": "code",
   "execution_count": 229,
   "metadata": {
    "collapsed": true,
    "jupyter": {
     "outputs_hidden": true,
     "source_hidden": true
    }
   },
   "outputs": [
    {
     "data": {
      "text/html": [
       "<div>\n",
       "<style scoped>\n",
       "    .dataframe tbody tr th:only-of-type {\n",
       "        vertical-align: middle;\n",
       "    }\n",
       "\n",
       "    .dataframe tbody tr th {\n",
       "        vertical-align: top;\n",
       "    }\n",
       "\n",
       "    .dataframe thead th {\n",
       "        text-align: right;\n",
       "    }\n",
       "</style>\n",
       "<table border=\"1\" class=\"dataframe\">\n",
       "  <thead>\n",
       "    <tr style=\"text-align: right;\">\n",
       "      <th></th>\n",
       "      <th>Admin2</th>\n",
       "      <th>Province_State</th>\n",
       "      <th>Country_Region</th>\n",
       "      <th>Confirmed</th>\n",
       "      <th>Deaths</th>\n",
       "      <th>Combined_Key</th>\n",
       "      <th>Total Confirmed</th>\n",
       "      <th>Total Deaths</th>\n",
       "    </tr>\n",
       "  </thead>\n",
       "  <tbody>\n",
       "    <tr>\n",
       "      <th>1001.0</th>\n",
       "      <td>Autauga</td>\n",
       "      <td>Alabama</td>\n",
       "      <td>US</td>\n",
       "      <td>1.0</td>\n",
       "      <td>0.0</td>\n",
       "      <td>Autauga, Alabama, US</td>\n",
       "      <td>NaN</td>\n",
       "      <td>NaN</td>\n",
       "    </tr>\n",
       "    <tr>\n",
       "      <th>1059.0</th>\n",
       "      <td>Franklin</td>\n",
       "      <td>Alabama</td>\n",
       "      <td>US</td>\n",
       "      <td>1.0</td>\n",
       "      <td>0.0</td>\n",
       "      <td>Franklin, Alabama, US</td>\n",
       "      <td>NaN</td>\n",
       "      <td>NaN</td>\n",
       "    </tr>\n",
       "    <tr>\n",
       "      <th>1069.0</th>\n",
       "      <td>Houston</td>\n",
       "      <td>Alabama</td>\n",
       "      <td>US</td>\n",
       "      <td>1.0</td>\n",
       "      <td>0.0</td>\n",
       "      <td>Houston, Alabama, US</td>\n",
       "      <td>NaN</td>\n",
       "      <td>NaN</td>\n",
       "    </tr>\n",
       "    <tr>\n",
       "      <th>1075.0</th>\n",
       "      <td>Lamar</td>\n",
       "      <td>Alabama</td>\n",
       "      <td>US</td>\n",
       "      <td>1.0</td>\n",
       "      <td>0.0</td>\n",
       "      <td>Lamar, Alabama, US</td>\n",
       "      <td>NaN</td>\n",
       "      <td>NaN</td>\n",
       "    </tr>\n",
       "    <tr>\n",
       "      <th>1093.0</th>\n",
       "      <td>Marion</td>\n",
       "      <td>Alabama</td>\n",
       "      <td>US</td>\n",
       "      <td>1.0</td>\n",
       "      <td>0.0</td>\n",
       "      <td>Marion, Alabama, US</td>\n",
       "      <td>NaN</td>\n",
       "      <td>NaN</td>\n",
       "    </tr>\n",
       "  </tbody>\n",
       "</table>\n",
       "</div>"
      ],
      "text/plain": [
       "          Admin2 Province_State Country_Region  Confirmed  Deaths  \\\n",
       "1001.0   Autauga        Alabama             US        1.0     0.0   \n",
       "1059.0  Franklin        Alabama             US        1.0     0.0   \n",
       "1069.0   Houston        Alabama             US        1.0     0.0   \n",
       "1075.0     Lamar        Alabama             US        1.0     0.0   \n",
       "1093.0    Marion        Alabama             US        1.0     0.0   \n",
       "\n",
       "                 Combined_Key  Total Confirmed  Total Deaths  \n",
       "1001.0   Autauga, Alabama, US              NaN           NaN  \n",
       "1059.0  Franklin, Alabama, US              NaN           NaN  \n",
       "1069.0   Houston, Alabama, US              NaN           NaN  \n",
       "1075.0     Lamar, Alabama, US              NaN           NaN  \n",
       "1093.0    Marion, Alabama, US              NaN           NaN  "
      ]
     },
     "execution_count": 229,
     "metadata": {},
     "output_type": "execute_result"
    }
   ],
   "source": [
    "frames = [df1, df2]\n",
    "#df3 = pd.concat([df1, df2], axis=0, sort=False)\n",
    "df3 = pd.concat(frames)\n",
    "df3.head(5)"
   ]
  },
  {
   "cell_type": "code",
   "execution_count": 219,
   "metadata": {
    "collapsed": true,
    "jupyter": {
     "outputs_hidden": true,
     "source_hidden": true
    }
   },
   "outputs": [
    {
     "data": {
      "text/html": [
       "<div>\n",
       "<style scoped>\n",
       "    .dataframe tbody tr th:only-of-type {\n",
       "        vertical-align: middle;\n",
       "    }\n",
       "\n",
       "    .dataframe tbody tr th {\n",
       "        vertical-align: top;\n",
       "    }\n",
       "\n",
       "    .dataframe thead th {\n",
       "        text-align: right;\n",
       "    }\n",
       "</style>\n",
       "<table border=\"1\" class=\"dataframe\">\n",
       "  <thead>\n",
       "    <tr style=\"text-align: right;\">\n",
       "      <th></th>\n",
       "      <th>Admin2</th>\n",
       "      <th>Province_State</th>\n",
       "      <th>Country_Region</th>\n",
       "      <th>Confirmed</th>\n",
       "      <th>Deaths</th>\n",
       "      <th>Combined_Key</th>\n",
       "    </tr>\n",
       "    <tr>\n",
       "      <th>FIPS</th>\n",
       "      <th></th>\n",
       "      <th></th>\n",
       "      <th></th>\n",
       "      <th></th>\n",
       "      <th></th>\n",
       "      <th></th>\n",
       "    </tr>\n",
       "  </thead>\n",
       "  <tbody>\n",
       "  </tbody>\n",
       "</table>\n",
       "</div>"
      ],
      "text/plain": [
       "Empty DataFrame\n",
       "Columns: [Admin2, Province_State, Country_Region, Confirmed, Deaths, Combined_Key]\n",
       "Index: []"
      ]
     },
     "execution_count": 219,
     "metadata": {},
     "output_type": "execute_result"
    }
   ],
   "source": [
    "dd = df1.loc[df1['Province_State']=='Wuhan Evacuee'] \n",
    "dd.head()"
   ]
  },
  {
   "cell_type": "code",
   "execution_count": 216,
   "metadata": {
    "collapsed": true,
    "jupyter": {
     "outputs_hidden": true,
     "source_hidden": true
    }
   },
   "outputs": [
    {
     "data": {
      "text/html": [
       "<div>\n",
       "<style scoped>\n",
       "    .dataframe tbody tr th:only-of-type {\n",
       "        vertical-align: middle;\n",
       "    }\n",
       "\n",
       "    .dataframe tbody tr th {\n",
       "        vertical-align: top;\n",
       "    }\n",
       "\n",
       "    .dataframe thead th {\n",
       "        text-align: right;\n",
       "    }\n",
       "</style>\n",
       "<table border=\"1\" class=\"dataframe\">\n",
       "  <thead>\n",
       "    <tr style=\"text-align: right;\">\n",
       "      <th></th>\n",
       "      <th>Admin2</th>\n",
       "      <th>Province_State</th>\n",
       "      <th>Country_Region</th>\n",
       "      <th>Last_Update</th>\n",
       "      <th>Lat</th>\n",
       "      <th>Long_</th>\n",
       "      <th>Confirmed</th>\n",
       "      <th>Deaths</th>\n",
       "      <th>Recovered</th>\n",
       "      <th>Active</th>\n",
       "      <th>Combined_Key</th>\n",
       "    </tr>\n",
       "    <tr>\n",
       "      <th>FIPS</th>\n",
       "      <th></th>\n",
       "      <th></th>\n",
       "      <th></th>\n",
       "      <th></th>\n",
       "      <th></th>\n",
       "      <th></th>\n",
       "      <th></th>\n",
       "      <th></th>\n",
       "      <th></th>\n",
       "      <th></th>\n",
       "      <th></th>\n",
       "    </tr>\n",
       "  </thead>\n",
       "  <tbody>\n",
       "    <tr>\n",
       "      <th>36001.0</th>\n",
       "      <td>Albany</td>\n",
       "      <td>New York</td>\n",
       "      <td>US</td>\n",
       "      <td>2020-03-24 23:37:31</td>\n",
       "      <td>42.600603</td>\n",
       "      <td>-73.977239</td>\n",
       "      <td>146</td>\n",
       "      <td>0</td>\n",
       "      <td>0</td>\n",
       "      <td>0</td>\n",
       "      <td>Albany, New York, US</td>\n",
       "    </tr>\n",
       "    <tr>\n",
       "      <th>36003.0</th>\n",
       "      <td>Allegany</td>\n",
       "      <td>New York</td>\n",
       "      <td>US</td>\n",
       "      <td>2020-03-24 23:37:31</td>\n",
       "      <td>42.257484</td>\n",
       "      <td>-78.027505</td>\n",
       "      <td>2</td>\n",
       "      <td>0</td>\n",
       "      <td>0</td>\n",
       "      <td>0</td>\n",
       "      <td>Allegany, New York, US</td>\n",
       "    </tr>\n",
       "    <tr>\n",
       "      <th>36005.0</th>\n",
       "      <td>Bronx</td>\n",
       "      <td>New York</td>\n",
       "      <td>US</td>\n",
       "      <td>2020-03-24 23:37:31</td>\n",
       "      <td>40.852093</td>\n",
       "      <td>-73.862828</td>\n",
       "      <td>0</td>\n",
       "      <td>0</td>\n",
       "      <td>0</td>\n",
       "      <td>0</td>\n",
       "      <td>Bronx, New York, US</td>\n",
       "    </tr>\n",
       "    <tr>\n",
       "      <th>36007.0</th>\n",
       "      <td>Broome</td>\n",
       "      <td>New York</td>\n",
       "      <td>US</td>\n",
       "      <td>2020-03-24 23:37:31</td>\n",
       "      <td>42.159032</td>\n",
       "      <td>-75.813261</td>\n",
       "      <td>9</td>\n",
       "      <td>1</td>\n",
       "      <td>0</td>\n",
       "      <td>0</td>\n",
       "      <td>Broome, New York, US</td>\n",
       "    </tr>\n",
       "    <tr>\n",
       "      <th>36009.0</th>\n",
       "      <td>Cattaraugus</td>\n",
       "      <td>New York</td>\n",
       "      <td>US</td>\n",
       "      <td>2020-03-24 23:37:31</td>\n",
       "      <td>42.247782</td>\n",
       "      <td>-78.679231</td>\n",
       "      <td>0</td>\n",
       "      <td>0</td>\n",
       "      <td>0</td>\n",
       "      <td>0</td>\n",
       "      <td>Cattaraugus, New York, US</td>\n",
       "    </tr>\n",
       "  </tbody>\n",
       "</table>\n",
       "</div>"
      ],
      "text/plain": [
       "              Admin2 Province_State Country_Region          Last_Update  \\\n",
       "FIPS                                                                      \n",
       "36001.0       Albany       New York             US  2020-03-24 23:37:31   \n",
       "36003.0     Allegany       New York             US  2020-03-24 23:37:31   \n",
       "36005.0        Bronx       New York             US  2020-03-24 23:37:31   \n",
       "36007.0       Broome       New York             US  2020-03-24 23:37:31   \n",
       "36009.0  Cattaraugus       New York             US  2020-03-24 23:37:31   \n",
       "\n",
       "               Lat      Long_  Confirmed  Deaths  Recovered  Active  \\\n",
       "FIPS                                                                  \n",
       "36001.0  42.600603 -73.977239        146       0          0       0   \n",
       "36003.0  42.257484 -78.027505          2       0          0       0   \n",
       "36005.0  40.852093 -73.862828          0       0          0       0   \n",
       "36007.0  42.159032 -75.813261          9       1          0       0   \n",
       "36009.0  42.247782 -78.679231          0       0          0       0   \n",
       "\n",
       "                      Combined_Key  \n",
       "FIPS                                \n",
       "36001.0       Albany, New York, US  \n",
       "36003.0     Allegany, New York, US  \n",
       "36005.0        Bronx, New York, US  \n",
       "36007.0       Broome, New York, US  \n",
       "36009.0  Cattaraugus, New York, US  "
      ]
     },
     "execution_count": 216,
     "metadata": {},
     "output_type": "execute_result"
    }
   ],
   "source": [
    "dftop = df.loc[df['Province_State']=='New York']\n",
    "#dftop = df.loc[df['Province_State']=='New York', 'New Jersey', 'California', 'Washington', 'Michigan']\n",
    "#dftop = df2[(df2['Province_State'] == 'New York') & (df2['Province_State'] == 'New Jersey')]\n",
    "#print(dfwa['Confirmed'].sum())\n",
    "watotal = dfwa[dfwa['Province_State']=='Washington']['Confirmed'].sum()\n",
    "#print(watotal)\n",
    "dftop.head(5)"
   ]
  },
  {
   "cell_type": "code",
   "execution_count": 8,
   "metadata": {},
   "outputs": [
    {
     "data": {
      "application/vnd.plotly.v1+json": {
       "config": {
        "plotlyServerURL": "https://plot.ly"
       },
       "data": [
        {
         "alignmentgroup": "True",
         "customdata": [
          [
           1,
           0
          ],
          [
           1,
           0
          ],
          [
           1,
           0
          ],
          [
           1,
           0
          ],
          [
           1,
           0
          ],
          [
           1,
           0
          ],
          [
           2,
           0
          ],
          [
           2,
           0
          ],
          [
           2,
           0
          ],
          [
           2,
           0
          ],
          [
           2,
           0
          ],
          [
           3,
           0
          ],
          [
           3,
           0
          ],
          [
           4,
           0
          ],
          [
           4,
           0
          ],
          [
           4,
           0
          ],
          [
           5,
           0
          ],
          [
           5,
           0
          ],
          [
           6,
           0
          ],
          [
           8,
           0
          ],
          [
           9,
           0
          ],
          [
           10,
           0
          ],
          [
           21,
           0
          ],
          [
           26,
           0
          ],
          [
           27,
           0
          ],
          [
           91,
           0
          ]
         ],
         "hoverlabel": {
          "namelength": 0
         },
         "hovertemplate": "<b>%{hovertext}</b><br><br>State=%{y}<br>Confirmed=%{text}<br>Deaths=%{customdata[1]}",
         "hovertext": [
          "Autauga",
          "Franklin",
          "Houston",
          "Lamar",
          "Marion",
          "Washington",
          "Calhoun",
          "Jackson",
          "Morgan",
          "Talladega",
          "Tallapoosa",
          "Cullman",
          "Lauderdale",
          "Baldwin",
          "Limestone",
          "St. Clair",
          "Chambers",
          "Walker",
          "Mobile",
          "Elmore",
          "Montgomery",
          "Tuscaloosa",
          "Madison",
          "Lee",
          "Shelby",
          "Jefferson"
         ],
         "legendgroup": "Alabama",
         "marker": {
          "color": "#636efa"
         },
         "name": "Alabama",
         "offsetgroup": "Alabama",
         "orientation": "h",
         "showlegend": true,
         "text": [
          1,
          1,
          1,
          1,
          1,
          1,
          2,
          2,
          2,
          2,
          2,
          3,
          3,
          4,
          4,
          4,
          5,
          5,
          6,
          8,
          9,
          10,
          21,
          26,
          27,
          91
         ],
         "textposition": "inside",
         "texttemplate": "%{text:.2s}",
         "type": "bar",
         "x": [
          1,
          1,
          1,
          1,
          1,
          1,
          2,
          2,
          2,
          2,
          2,
          3,
          3,
          4,
          4,
          4,
          5,
          5,
          6,
          8,
          9,
          10,
          21,
          26,
          27,
          91
         ],
         "xaxis": "x",
         "y": [
          "Alabama",
          "Alabama",
          "Alabama",
          "Alabama",
          "Alabama",
          "Alabama",
          "Alabama",
          "Alabama",
          "Alabama",
          "Alabama",
          "Alabama",
          "Alabama",
          "Alabama",
          "Alabama",
          "Alabama",
          "Alabama",
          "Alabama",
          "Alabama",
          "Alabama",
          "Alabama",
          "Alabama",
          "Alabama",
          "Alabama",
          "Alabama",
          "Alabama",
          "Alabama"
         ],
         "yaxis": "y"
        },
        {
         "alignmentgroup": "True",
         "customdata": [
          [
           1,
           0
          ],
          [
           3,
           0
          ],
          [
           6,
           0
          ],
          [
           7,
           0
          ],
          [
           17,
           0
          ]
         ],
         "hoverlabel": {
          "namelength": 0
         },
         "hovertemplate": "<b>%{hovertext}</b><br><br>State=%{y}<br>Confirmed=%{text}<br>Deaths=%{customdata[1]}",
         "hovertext": [
          "Juneau",
          "Kenai Peninsula",
          "Ketchikan Gateway",
          "Fairbanks North Star",
          "Anchorage"
         ],
         "legendgroup": "Alaska",
         "marker": {
          "color": "#EF553B"
         },
         "name": "Alaska",
         "offsetgroup": "Alaska",
         "orientation": "h",
         "showlegend": true,
         "text": [
          1,
          3,
          6,
          7,
          17
         ],
         "textposition": "inside",
         "texttemplate": "%{text:.2s}",
         "type": "bar",
         "x": [
          1,
          3,
          6,
          7,
          17
         ],
         "xaxis": "x",
         "y": [
          "Alaska",
          "Alaska",
          "Alaska",
          "Alaska",
          "Alaska"
         ],
         "yaxis": "y"
        },
        {
         "alignmentgroup": "True",
         "customdata": [
          [
           1,
           0
          ],
          [
           1,
           0
          ],
          [
           2,
           0
          ],
          [
           2,
           0
          ],
          [
           3,
           0
          ],
          [
           4,
           0
          ],
          [
           18,
           0
          ],
          [
           22,
           0
          ],
          [
           32,
           0
          ],
          [
           42,
           1
          ],
          [
           199,
           2
          ]
         ],
         "hoverlabel": {
          "namelength": 0
         },
         "hovertemplate": "<b>%{hovertext}</b><br><br>State=%{y}<br>Confirmed=%{text}<br>Deaths=%{customdata[1]}",
         "hovertext": [
          "Cochise",
          "Santa Cruz",
          "Graham",
          "Yuma",
          "Yavapai",
          "Apache",
          "Coconino",
          "Pinal",
          "Navajo",
          "Pima",
          "Maricopa"
         ],
         "legendgroup": "Arizona",
         "marker": {
          "color": "#00cc96"
         },
         "name": "Arizona",
         "offsetgroup": "Arizona",
         "orientation": "h",
         "showlegend": true,
         "text": [
          1,
          1,
          2,
          2,
          3,
          4,
          18,
          22,
          32,
          42,
          199
         ],
         "textposition": "inside",
         "texttemplate": "%{text:.2s}",
         "type": "bar",
         "x": [
          1,
          1,
          2,
          2,
          3,
          4,
          18,
          22,
          32,
          42,
          199
         ],
         "xaxis": "x",
         "y": [
          "Arizona",
          "Arizona",
          "Arizona",
          "Arizona",
          "Arizona",
          "Arizona",
          "Arizona",
          "Arizona",
          "Arizona",
          "Arizona",
          "Arizona"
         ],
         "yaxis": "y"
        },
        {
         "alignmentgroup": "True",
         "customdata": [
          [
           1,
           0
          ],
          [
           1,
           0
          ],
          [
           1,
           0
          ],
          [
           1,
           0
          ],
          [
           1,
           0
          ],
          [
           1,
           0
          ],
          [
           1,
           0
          ],
          [
           1,
           0
          ],
          [
           1,
           0
          ],
          [
           1,
           0
          ],
          [
           1,
           0
          ],
          [
           1,
           0
          ],
          [
           1,
           0
          ],
          [
           1,
           0
          ],
          [
           1,
           0
          ],
          [
           1,
           0
          ],
          [
           1,
           0
          ],
          [
           1,
           0
          ],
          [
           1,
           0
          ],
          [
           2,
           0
          ],
          [
           2,
           0
          ],
          [
           2,
           0
          ],
          [
           3,
           0
          ],
          [
           3,
           0
          ],
          [
           3,
           0
          ],
          [
           3,
           0
          ],
          [
           4,
           0
          ],
          [
           4,
           0
          ],
          [
           4,
           0
          ],
          [
           5,
           0
          ],
          [
           5,
           0
          ],
          [
           6,
           0
          ],
          [
           10,
           0
          ],
          [
           13,
           1
          ],
          [
           14,
           0
          ],
          [
           21,
           0
          ],
          [
           32,
           1
          ],
          [
           64,
           0
          ]
         ],
         "hoverlabel": {
          "namelength": 0
         },
         "hovertemplate": "<b>%{hovertext}</b><br><br>State=%{y}<br>Confirmed=%{text}<br>Deaths=%{customdata[1]}",
         "hovertext": [
          "Benton",
          "Boone",
          "Columbia",
          "Conway",
          "Crawford",
          "Crittenden",
          "Cross",
          "Greene",
          "Hempstead",
          "Lawrence",
          "Pike",
          "Polk",
          "Pope",
          "Sebastian",
          "Sevier",
          "Stone",
          "Union",
          "White",
          "Woodruff",
          "Desha",
          "Lincoln",
          "Searcy",
          "Cleveland",
          "Grant",
          "Independence",
          "Poinsett",
          "Bradley",
          "Craighead",
          "Saline",
          "Van Buren",
          "Washington",
          "Clark",
          "Garland",
          "Unassigned",
          "Faulkner",
          "Jefferson",
          "Cleburne",
          "Pulaski"
         ],
         "legendgroup": "Arkansas",
         "marker": {
          "color": "#ab63fa"
         },
         "name": "Arkansas",
         "offsetgroup": "Arkansas",
         "orientation": "h",
         "showlegend": true,
         "text": [
          1,
          1,
          1,
          1,
          1,
          1,
          1,
          1,
          1,
          1,
          1,
          1,
          1,
          1,
          1,
          1,
          1,
          1,
          1,
          2,
          2,
          2,
          3,
          3,
          3,
          3,
          4,
          4,
          4,
          5,
          5,
          6,
          10,
          13,
          14,
          21,
          32,
          64
         ],
         "textposition": "inside",
         "texttemplate": "%{text:.2s}",
         "type": "bar",
         "x": [
          1,
          1,
          1,
          1,
          1,
          1,
          1,
          1,
          1,
          1,
          1,
          1,
          1,
          1,
          1,
          1,
          1,
          1,
          1,
          2,
          2,
          2,
          3,
          3,
          3,
          3,
          4,
          4,
          4,
          5,
          5,
          6,
          10,
          13,
          14,
          21,
          32,
          64
         ],
         "xaxis": "x",
         "y": [
          "Arkansas",
          "Arkansas",
          "Arkansas",
          "Arkansas",
          "Arkansas",
          "Arkansas",
          "Arkansas",
          "Arkansas",
          "Arkansas",
          "Arkansas",
          "Arkansas",
          "Arkansas",
          "Arkansas",
          "Arkansas",
          "Arkansas",
          "Arkansas",
          "Arkansas",
          "Arkansas",
          "Arkansas",
          "Arkansas",
          "Arkansas",
          "Arkansas",
          "Arkansas",
          "Arkansas",
          "Arkansas",
          "Arkansas",
          "Arkansas",
          "Arkansas",
          "Arkansas",
          "Arkansas",
          "Arkansas",
          "Arkansas",
          "Arkansas",
          "Arkansas",
          "Arkansas",
          "Arkansas",
          "Arkansas",
          "Arkansas"
         ],
         "yaxis": "y"
        },
        {
         "alignmentgroup": "True",
         "customdata": [
          [
           1,
           0
          ],
          [
           1,
           0
          ],
          [
           2,
           0
          ],
          [
           2,
           0
          ],
          [
           2,
           0
          ],
          [
           2,
           0
          ],
          [
           2,
           0
          ],
          [
           2,
           0
          ],
          [
           2,
           0
          ],
          [
           2,
           0
          ],
          [
           3,
           0
          ],
          [
           3,
           0
          ],
          [
           4,
           0
          ],
          [
           6,
           0
          ],
          [
           6,
           0
          ],
          [
           6,
           1
          ],
          [
           8,
           1
          ],
          [
           11,
           0
          ],
          [
           13,
           0
          ],
          [
           13,
           0
          ],
          [
           17,
           0
          ],
          [
           18,
           0
          ],
          [
           20,
           1
          ],
          [
           20,
           1
          ],
          [
           21,
           0
          ],
          [
           22,
           0
          ],
          [
           29,
           1
          ],
          [
           31,
           0
          ],
          [
           35,
           1
          ],
          [
           42,
           0
          ],
          [
           47,
           0
          ],
          [
           51,
           2
          ],
          [
           57,
           6
          ],
          [
           86,
           1
          ],
          [
           88,
           4
          ],
          [
           135,
           2
          ],
          [
           152,
           0
          ],
          [
           152,
           0
          ],
          [
           161,
           1
          ],
          [
           226,
           1
          ],
          [
           375,
           16
          ],
          [
           662,
           11
          ]
         ],
         "hoverlabel": {
          "namelength": 0
         },
         "hovertemplate": "<b>%{hovertext}</b><br><br>State=%{y}<br>Confirmed=%{text}<br>Deaths=%{customdata[1]}",
         "hovertext": [
          "Merced",
          "Mono",
          "Amador",
          "Butte",
          "Calaveras",
          "El Dorado",
          "Mendocino",
          "Napa",
          "Shasta",
          "Siskiyou",
          "Nevada",
          "Yuba",
          "Humboldt",
          "Imperial",
          "Madera",
          "San Benito",
          "Yolo",
          "Stanislaus",
          "Fresno",
          "Kern",
          "Tulare",
          "Santa Barbara",
          "Monterey",
          "Placer",
          "Solano",
          "Santa Cruz",
          "Sonoma",
          "San Bernardino",
          "Ventura",
          "San Luis Obispo",
          "Marin",
          "San Joaquin",
          "Riverside",
          "Contra Costa",
          "Sacramento",
          "Alameda",
          "Orange",
          "San Francisco",
          "San Mateo",
          "San Diego",
          "Santa Clara",
          "Los Angeles"
         ],
         "legendgroup": "California",
         "marker": {
          "color": "#FFA15A"
         },
         "name": "California",
         "offsetgroup": "California",
         "orientation": "h",
         "showlegend": true,
         "text": [
          1,
          1,
          2,
          2,
          2,
          2,
          2,
          2,
          2,
          2,
          3,
          3,
          4,
          6,
          6,
          6,
          8,
          11,
          13,
          13,
          17,
          18,
          20,
          20,
          21,
          22,
          29,
          31,
          35,
          42,
          47,
          51,
          57,
          86,
          88,
          135,
          152,
          152,
          161,
          226,
          375,
          662
         ],
         "textposition": "inside",
         "texttemplate": "%{text:.2s}",
         "type": "bar",
         "x": [
          1,
          1,
          2,
          2,
          2,
          2,
          2,
          2,
          2,
          2,
          3,
          3,
          4,
          6,
          6,
          6,
          8,
          11,
          13,
          13,
          17,
          18,
          20,
          20,
          21,
          22,
          29,
          31,
          35,
          42,
          47,
          51,
          57,
          86,
          88,
          135,
          152,
          152,
          161,
          226,
          375,
          662
         ],
         "xaxis": "x",
         "y": [
          "California",
          "California",
          "California",
          "California",
          "California",
          "California",
          "California",
          "California",
          "California",
          "California",
          "California",
          "California",
          "California",
          "California",
          "California",
          "California",
          "California",
          "California",
          "California",
          "California",
          "California",
          "California",
          "California",
          "California",
          "California",
          "California",
          "California",
          "California",
          "California",
          "California",
          "California",
          "California",
          "California",
          "California",
          "California",
          "California",
          "California",
          "California",
          "California",
          "California",
          "California",
          "California"
         ],
         "yaxis": "y"
        },
        {
         "alignmentgroup": "True",
         "customdata": [
          [
           1,
           1
          ],
          [
           1,
           0
          ],
          [
           1,
           0
          ],
          [
           1,
           0
          ],
          [
           1,
           0
          ],
          [
           1,
           0
          ],
          [
           2,
           0
          ],
          [
           2,
           0
          ],
          [
           2,
           0
          ],
          [
           3,
           0
          ],
          [
           3,
           0
          ],
          [
           3,
           0
          ],
          [
           3,
           0
          ],
          [
           3,
           0
          ],
          [
           3,
           0
          ],
          [
           3,
           0
          ],
          [
           5,
           0
          ],
          [
           5,
           0
          ],
          [
           8,
           0
          ],
          [
           8,
           0
          ],
          [
           18,
           0
          ],
          [
           25,
           0
          ],
          [
           28,
           0
          ],
          [
           34,
           0
          ],
          [
           39,
           0
          ],
          [
           48,
           0
          ],
          [
           50,
           2
          ],
          [
           55,
           0
          ],
          [
           58,
           0
          ],
          [
           69,
           4
          ],
          [
           92,
           1
          ],
          [
           148,
           0
          ]
         ],
         "hoverlabel": {
          "namelength": 0
         },
         "hovertemplate": "<b>%{hovertext}</b><br><br>State=%{y}<br>Confirmed=%{text}<br>Deaths=%{customdata[1]}",
         "hovertext": [
          "Crowley",
          "Hinsdale",
          "Montrose",
          "Park",
          "San Miguel",
          "Yuma",
          "Broomfield",
          "Grand",
          "Logan",
          "Chaffee",
          "Clear Creek",
          "Elbert",
          "Morgan",
          "Pueblo",
          "Routt",
          "Teller",
          "Mesa",
          "Unassigned",
          "Garfield",
          "Summit",
          "Pitkin",
          "Adams",
          "Gunnison",
          "Larimer",
          "Boulder",
          "Douglas",
          "Weld",
          "Jefferson",
          "Arapahoe",
          "El Paso",
          "Eagle",
          "Denver"
         ],
         "legendgroup": "Colorado",
         "marker": {
          "color": "#19d3f3"
         },
         "name": "Colorado",
         "offsetgroup": "Colorado",
         "orientation": "h",
         "showlegend": true,
         "text": [
          1,
          1,
          1,
          1,
          1,
          1,
          2,
          2,
          2,
          3,
          3,
          3,
          3,
          3,
          3,
          3,
          5,
          5,
          8,
          8,
          18,
          25,
          28,
          34,
          39,
          48,
          50,
          55,
          58,
          69,
          92,
          148
         ],
         "textposition": "inside",
         "texttemplate": "%{text:.2s}",
         "type": "bar",
         "x": [
          1,
          1,
          1,
          1,
          1,
          1,
          2,
          2,
          2,
          3,
          3,
          3,
          3,
          3,
          3,
          3,
          5,
          5,
          8,
          8,
          18,
          25,
          28,
          34,
          39,
          48,
          50,
          55,
          58,
          69,
          92,
          148
         ],
         "xaxis": "x",
         "y": [
          "Colorado",
          "Colorado",
          "Colorado",
          "Colorado",
          "Colorado",
          "Colorado",
          "Colorado",
          "Colorado",
          "Colorado",
          "Colorado",
          "Colorado",
          "Colorado",
          "Colorado",
          "Colorado",
          "Colorado",
          "Colorado",
          "Colorado",
          "Colorado",
          "Colorado",
          "Colorado",
          "Colorado",
          "Colorado",
          "Colorado",
          "Colorado",
          "Colorado",
          "Colorado",
          "Colorado",
          "Colorado",
          "Colorado",
          "Colorado",
          "Colorado",
          "Colorado"
         ],
         "yaxis": "y"
        },
        {
         "alignmentgroup": "True",
         "customdata": [
          [
           2,
           0
          ],
          [
           6,
           0
          ],
          [
           8,
           0
          ],
          [
           19,
           3
          ],
          [
           22,
           0
          ],
          [
           88,
           2
          ],
          [
           89,
           0
          ],
          [
           384,
           7
          ]
         ],
         "hoverlabel": {
          "namelength": 0
         },
         "hovertemplate": "<b>%{hovertext}</b><br><br>State=%{y}<br>Confirmed=%{text}<br>Deaths=%{customdata[1]}",
         "hovertext": [
          "Windham",
          "New London",
          "Middlesex",
          "Tolland",
          "Litchfield",
          "Hartford",
          "New Haven",
          "Fairfield"
         ],
         "legendgroup": "Connecticut",
         "marker": {
          "color": "#FF6692"
         },
         "name": "Connecticut",
         "offsetgroup": "Connecticut",
         "orientation": "h",
         "showlegend": true,
         "text": [
          2,
          6,
          8,
          19,
          22,
          88,
          89,
          384
         ],
         "textposition": "inside",
         "texttemplate": "%{text:.2s}",
         "type": "bar",
         "x": [
          2,
          6,
          8,
          19,
          22,
          88,
          89,
          384
         ],
         "xaxis": "x",
         "y": [
          "Connecticut",
          "Connecticut",
          "Connecticut",
          "Connecticut",
          "Connecticut",
          "Connecticut",
          "Connecticut",
          "Connecticut"
         ],
         "yaxis": "y"
        },
        {
         "alignmentgroup": "True",
         "customdata": [
          [
           10,
           0
          ],
          [
           23,
           0
          ],
          [
           71,
           0
          ]
         ],
         "hoverlabel": {
          "namelength": 0
         },
         "hovertemplate": "<b>%{hovertext}</b><br><br>State=%{y}<br>Confirmed=%{text}<br>Deaths=%{customdata[1]}",
         "hovertext": [
          "Kent",
          "Sussex",
          "New Castle"
         ],
         "legendgroup": "Delaware",
         "marker": {
          "color": "#B6E880"
         },
         "name": "Delaware",
         "offsetgroup": "Delaware",
         "orientation": "h",
         "showlegend": true,
         "text": [
          10,
          23,
          71
         ],
         "textposition": "inside",
         "texttemplate": "%{text:.2s}",
         "type": "bar",
         "x": [
          10,
          23,
          71
         ],
         "xaxis": "x",
         "y": [
          "Delaware",
          "Delaware",
          "Delaware"
         ],
         "yaxis": "y"
        },
        {
         "alignmentgroup": "True",
         "customdata": [
          [
           141,
           2
          ]
         ],
         "hoverlabel": {
          "namelength": 0
         },
         "hovertemplate": "<b>%{hovertext}</b><br><br>State=%{y}<br>Confirmed=%{text}<br>Deaths=%{customdata[1]}",
         "hovertext": [
          "District of Columbia"
         ],
         "legendgroup": "District of Columbia",
         "marker": {
          "color": "#FF97FF"
         },
         "name": "District of Columbia",
         "offsetgroup": "District of Columbia",
         "orientation": "h",
         "showlegend": true,
         "text": [
          141
         ],
         "textposition": "inside",
         "texttemplate": "%{text:.2s}",
         "type": "bar",
         "x": [
          141
         ],
         "xaxis": "x",
         "y": [
          "District of Columbia"
         ],
         "yaxis": "y"
        },
        {
         "alignmentgroup": "True",
         "customdata": [
          [
           1,
           0
          ],
          [
           1,
           0
          ],
          [
           1,
           0
          ],
          [
           1,
           0
          ],
          [
           1,
           0
          ],
          [
           1,
           0
          ],
          [
           2,
           0
          ],
          [
           3,
           0
          ],
          [
           3,
           0
          ],
          [
           3,
           0
          ],
          [
           4,
           0
          ],
          [
           4,
           0
          ],
          [
           4,
           0
          ],
          [
           4,
           0
          ],
          [
           4,
           0
          ],
          [
           4,
           1
          ],
          [
           5,
           0
          ],
          [
           6,
           0
          ],
          [
           8,
           1
          ],
          [
           9,
           0
          ],
          [
           9,
           0
          ],
          [
           10,
           2
          ],
          [
           10,
           0
          ],
          [
           10,
           0
          ],
          [
           10,
           0
          ],
          [
           11,
           0
          ],
          [
           13,
           0
          ],
          [
           14,
           0
          ],
          [
           14,
           0
          ],
          [
           15,
           1
          ],
          [
           16,
           1
          ],
          [
           18,
           0
          ],
          [
           22,
           0
          ],
          [
           23,
           0
          ],
          [
           26,
           0
          ],
          [
           26,
           0
          ],
          [
           32,
           2
          ],
          [
           37,
           0
          ],
          [
           41,
           0
          ],
          [
           45,
           0
          ],
          [
           50,
           1
          ],
          [
           50,
           2
          ],
          [
           91,
           0
          ],
          [
           101,
           3
          ],
          [
           311,
           3
          ],
          [
           338,
           0
          ]
         ],
         "hoverlabel": {
          "namelength": 0
         },
         "hovertemplate": "<b>%{hovertext}</b><br><br>State=%{y}<br>Confirmed=%{text}<br>Deaths=%{customdata[1]}",
         "hovertext": [
          "Bay",
          "Bradford",
          "DeSoto",
          "Gadsden",
          "Jackson",
          "Nassau",
          "Putnam",
          "Charlotte",
          "Columbia",
          "Monroe",
          "Baker",
          "Flagler",
          "Highlands",
          "Marion",
          "Martin",
          "Santa Rosa",
          "Hernando",
          "St. Lucie",
          "Leon",
          "Brevard",
          "Citrus",
          "Clay",
          "Escambia",
          "Sumter",
          "Walton",
          "Indian River",
          "Polk",
          "Lake",
          "Okaloosa",
          "Pasco",
          "Manatee",
          "Volusia",
          "St. Johns",
          "Seminole",
          "Osceola",
          "Sarasota",
          "Lee",
          "Alachua",
          "Collier",
          "Pinellas",
          "Duval",
          "Orange",
          "Hillsborough",
          "Palm Beach",
          "Broward",
          "Miami-Dade"
         ],
         "legendgroup": "Florida",
         "marker": {
          "color": "#FECB52"
         },
         "name": "Florida",
         "offsetgroup": "Florida",
         "orientation": "h",
         "showlegend": true,
         "text": [
          1,
          1,
          1,
          1,
          1,
          1,
          2,
          3,
          3,
          3,
          4,
          4,
          4,
          4,
          4,
          4,
          5,
          6,
          8,
          9,
          9,
          10,
          10,
          10,
          10,
          11,
          13,
          14,
          14,
          15,
          16,
          18,
          22,
          23,
          26,
          26,
          32,
          37,
          41,
          45,
          50,
          50,
          91,
          101,
          311,
          338
         ],
         "textposition": "inside",
         "texttemplate": "%{text:.2s}",
         "type": "bar",
         "x": [
          1,
          1,
          1,
          1,
          1,
          1,
          2,
          3,
          3,
          3,
          4,
          4,
          4,
          4,
          4,
          4,
          5,
          6,
          8,
          9,
          9,
          10,
          10,
          10,
          10,
          11,
          13,
          14,
          14,
          15,
          16,
          18,
          22,
          23,
          26,
          26,
          32,
          37,
          41,
          45,
          50,
          50,
          91,
          101,
          311,
          338
         ],
         "xaxis": "x",
         "y": [
          "Florida",
          "Florida",
          "Florida",
          "Florida",
          "Florida",
          "Florida",
          "Florida",
          "Florida",
          "Florida",
          "Florida",
          "Florida",
          "Florida",
          "Florida",
          "Florida",
          "Florida",
          "Florida",
          "Florida",
          "Florida",
          "Florida",
          "Florida",
          "Florida",
          "Florida",
          "Florida",
          "Florida",
          "Florida",
          "Florida",
          "Florida",
          "Florida",
          "Florida",
          "Florida",
          "Florida",
          "Florida",
          "Florida",
          "Florida",
          "Florida",
          "Florida",
          "Florida",
          "Florida",
          "Florida",
          "Florida",
          "Florida",
          "Florida",
          "Florida",
          "Florida",
          "Florida",
          "Florida"
         ],
         "yaxis": "y"
        },
        {
         "alignmentgroup": "True",
         "customdata": [
          [
           1,
           0
          ],
          [
           1,
           0
          ],
          [
           1,
           0
          ],
          [
           1,
           0
          ],
          [
           1,
           0
          ],
          [
           1,
           0
          ],
          [
           1,
           0
          ],
          [
           1,
           0
          ],
          [
           1,
           0
          ],
          [
           1,
           0
          ],
          [
           1,
           0
          ],
          [
           1,
           0
          ],
          [
           1,
           0
          ],
          [
           1,
           0
          ],
          [
           1,
           0
          ],
          [
           1,
           0
          ],
          [
           1,
           0
          ],
          [
           1,
           0
          ],
          [
           1,
           0
          ],
          [
           1,
           0
          ],
          [
           1,
           0
          ],
          [
           1,
           0
          ],
          [
           1,
           0
          ],
          [
           1,
           0
          ],
          [
           1,
           0
          ],
          [
           1,
           0
          ],
          [
           1,
           0
          ],
          [
           1,
           0
          ],
          [
           1,
           0
          ],
          [
           1,
           0
          ],
          [
           2,
           0
          ],
          [
           2,
           0
          ],
          [
           2,
           0
          ],
          [
           2,
           0
          ],
          [
           2,
           0
          ],
          [
           2,
           0
          ],
          [
           2,
           1
          ],
          [
           2,
           0
          ],
          [
           2,
           0
          ],
          [
           2,
           0
          ],
          [
           2,
           0
          ],
          [
           3,
           0
          ],
          [
           3,
           0
          ],
          [
           3,
           0
          ],
          [
           3,
           0
          ],
          [
           3,
           0
          ],
          [
           3,
           0
          ],
          [
           3,
           0
          ],
          [
           3,
           0
          ],
          [
           3,
           0
          ],
          [
           4,
           0
          ],
          [
           4,
           0
          ],
          [
           4,
           0
          ],
          [
           4,
           0
          ],
          [
           5,
           0
          ],
          [
           5,
           0
          ],
          [
           5,
           0
          ],
          [
           5,
           0
          ],
          [
           5,
           0
          ],
          [
           6,
           0
          ],
          [
           6,
           0
          ],
          [
           7,
           0
          ],
          [
           7,
           0
          ],
          [
           7,
           0
          ],
          [
           8,
           0
          ],
          [
           8,
           0
          ],
          [
           10,
           0
          ],
          [
           10,
           0
          ],
          [
           11,
           0
          ],
          [
           11,
           1
          ],
          [
           11,
           0
          ],
          [
           12,
           1
          ],
          [
           13,
           0
          ],
          [
           14,
           0
          ],
          [
           16,
           0
          ],
          [
           20,
           0
          ],
          [
           21,
           0
          ],
          [
           26,
           0
          ],
          [
           28,
           0
          ],
          [
           45,
           1
          ],
          [
           74,
           1
          ],
          [
           81,
           17
          ],
          [
           86,
           2
          ],
          [
           90,
           6
          ],
          [
           94,
           0
          ],
          [
           184,
           2
          ]
         ],
         "hoverlabel": {
          "namelength": 0
         },
         "hovertemplate": "<b>%{hovertext}</b><br><br>State=%{y}<br>Confirmed=%{text}<br>Deaths=%{customdata[1]}",
         "hovertext": [
          "Barrow",
          "Ben Hill",
          "Burke",
          "Camden",
          "Catoosa",
          "Charlton",
          "Chattooga",
          "Clinch",
          "Dawson",
          "Greene",
          "Harris",
          "Heard",
          "Irwin",
          "Jasper",
          "Liberty",
          "Lincoln",
          "Macon",
          "Madison",
          "Meriwether",
          "Miller",
          "Morgan",
          "Pierce",
          "Pulaski",
          "Randolph",
          "Stephens",
          "Tattnall",
          "Turner",
          "Twiggs",
          "Walton",
          "Washington",
          "Baker",
          "Baldwin",
          "Bryan",
          "Butts",
          "Coffee",
          "Colquitt",
          "Early",
          "Effingham",
          "Sumter",
          "Tift",
          "Whitfield",
          "Crisp",
          "Houston",
          "Lamar",
          "Lumpkin",
          "Mitchell",
          "Monroe",
          "Muscogee",
          "Peach",
          "Terrell",
          "Bibb",
          "Columbia",
          "Pickens",
          "Worth",
          "Glynn",
          "Laurens",
          "Newton",
          "Oconee",
          "Spalding",
          "Paulding",
          "Troup",
          "Chatham",
          "Gordon",
          "Rockdale",
          "Forsyth",
          "Polk",
          "Coweta",
          "Lowndes",
          "Douglas",
          "Floyd",
          "Richmond",
          "Fayette",
          "Henry",
          "Hall",
          "Clarke",
          "Lee",
          "Clayton",
          "Carroll",
          "Cherokee",
          "Gwinnett",
          "Bartow",
          "Unassigned",
          "Cobb",
          "Dougherty",
          "DeKalb",
          "Fulton"
         ],
         "legendgroup": "Georgia",
         "marker": {
          "color": "#636efa"
         },
         "name": "Georgia",
         "offsetgroup": "Georgia",
         "orientation": "h",
         "showlegend": true,
         "text": [
          1,
          1,
          1,
          1,
          1,
          1,
          1,
          1,
          1,
          1,
          1,
          1,
          1,
          1,
          1,
          1,
          1,
          1,
          1,
          1,
          1,
          1,
          1,
          1,
          1,
          1,
          1,
          1,
          1,
          1,
          2,
          2,
          2,
          2,
          2,
          2,
          2,
          2,
          2,
          2,
          2,
          3,
          3,
          3,
          3,
          3,
          3,
          3,
          3,
          3,
          4,
          4,
          4,
          4,
          5,
          5,
          5,
          5,
          5,
          6,
          6,
          7,
          7,
          7,
          8,
          8,
          10,
          10,
          11,
          11,
          11,
          12,
          13,
          14,
          16,
          20,
          21,
          26,
          28,
          45,
          74,
          81,
          86,
          90,
          94,
          184
         ],
         "textposition": "inside",
         "texttemplate": "%{text:.2s}",
         "type": "bar",
         "x": [
          1,
          1,
          1,
          1,
          1,
          1,
          1,
          1,
          1,
          1,
          1,
          1,
          1,
          1,
          1,
          1,
          1,
          1,
          1,
          1,
          1,
          1,
          1,
          1,
          1,
          1,
          1,
          1,
          1,
          1,
          2,
          2,
          2,
          2,
          2,
          2,
          2,
          2,
          2,
          2,
          2,
          3,
          3,
          3,
          3,
          3,
          3,
          3,
          3,
          3,
          4,
          4,
          4,
          4,
          5,
          5,
          5,
          5,
          5,
          6,
          6,
          7,
          7,
          7,
          8,
          8,
          10,
          10,
          11,
          11,
          11,
          12,
          13,
          14,
          16,
          20,
          21,
          26,
          28,
          45,
          74,
          81,
          86,
          90,
          94,
          184
         ],
         "xaxis": "x",
         "y": [
          "Georgia",
          "Georgia",
          "Georgia",
          "Georgia",
          "Georgia",
          "Georgia",
          "Georgia",
          "Georgia",
          "Georgia",
          "Georgia",
          "Georgia",
          "Georgia",
          "Georgia",
          "Georgia",
          "Georgia",
          "Georgia",
          "Georgia",
          "Georgia",
          "Georgia",
          "Georgia",
          "Georgia",
          "Georgia",
          "Georgia",
          "Georgia",
          "Georgia",
          "Georgia",
          "Georgia",
          "Georgia",
          "Georgia",
          "Georgia",
          "Georgia",
          "Georgia",
          "Georgia",
          "Georgia",
          "Georgia",
          "Georgia",
          "Georgia",
          "Georgia",
          "Georgia",
          "Georgia",
          "Georgia",
          "Georgia",
          "Georgia",
          "Georgia",
          "Georgia",
          "Georgia",
          "Georgia",
          "Georgia",
          "Georgia",
          "Georgia",
          "Georgia",
          "Georgia",
          "Georgia",
          "Georgia",
          "Georgia",
          "Georgia",
          "Georgia",
          "Georgia",
          "Georgia",
          "Georgia",
          "Georgia",
          "Georgia",
          "Georgia",
          "Georgia",
          "Georgia",
          "Georgia",
          "Georgia",
          "Georgia",
          "Georgia",
          "Georgia",
          "Georgia",
          "Georgia",
          "Georgia",
          "Georgia",
          "Georgia",
          "Georgia",
          "Georgia",
          "Georgia",
          "Georgia",
          "Georgia",
          "Georgia",
          "Georgia",
          "Georgia",
          "Georgia",
          "Georgia",
          "Georgia"
         ],
         "yaxis": "y"
        },
        {
         "alignmentgroup": "True",
         "customdata": [
          [
           1,
           0
          ],
          [
           2,
           0
          ],
          [
           9,
           0
          ],
          [
           20,
           0
          ],
          [
           58,
           1
          ]
         ],
         "hoverlabel": {
          "namelength": 0
         },
         "hovertemplate": "<b>%{hovertext}</b><br><br>State=%{y}<br>Confirmed=%{text}<br>Deaths=%{customdata[1]}",
         "hovertext": [
          "Kauai",
          "Hawaii",
          "Maui",
          "Unassigned",
          "Honolulu"
         ],
         "legendgroup": "Hawaii",
         "marker": {
          "color": "#EF553B"
         },
         "name": "Hawaii",
         "offsetgroup": "Hawaii",
         "orientation": "h",
         "showlegend": true,
         "text": [
          1,
          2,
          9,
          20,
          58
         ],
         "textposition": "inside",
         "texttemplate": "%{text:.2s}",
         "type": "bar",
         "x": [
          1,
          2,
          9,
          20,
          58
         ],
         "xaxis": "x",
         "y": [
          "Hawaii",
          "Hawaii",
          "Hawaii",
          "Hawaii",
          "Hawaii"
         ],
         "yaxis": "y"
        },
        {
         "alignmentgroup": "True",
         "customdata": [
          [
           1,
           0
          ],
          [
           1,
           0
          ],
          [
           1,
           0
          ],
          [
           2,
           0
          ],
          [
           2,
           0
          ],
          [
           2,
           0
          ],
          [
           2,
           0
          ],
          [
           2,
           0
          ],
          [
           5,
           0
          ],
          [
           8,
           0
          ],
          [
           19,
           0
          ],
          [
           36,
           0
          ]
         ],
         "hoverlabel": {
          "namelength": 0
         },
         "hovertemplate": "<b>%{hovertext}</b><br><br>State=%{y}<br>Confirmed=%{text}<br>Deaths=%{customdata[1]}",
         "hovertext": [
          "Cassia",
          "Twin Falls",
          "Valley",
          "Bannock",
          "Bingham",
          "Jefferson",
          "Madison",
          "Teton",
          "Canyon",
          "Kootenai",
          "Ada",
          "Blaine"
         ],
         "legendgroup": "Idaho",
         "marker": {
          "color": "#00cc96"
         },
         "name": "Idaho",
         "offsetgroup": "Idaho",
         "orientation": "h",
         "showlegend": true,
         "text": [
          1,
          1,
          1,
          2,
          2,
          2,
          2,
          2,
          5,
          8,
          19,
          36
         ],
         "textposition": "inside",
         "texttemplate": "%{text:.2s}",
         "type": "bar",
         "x": [
          1,
          1,
          1,
          2,
          2,
          2,
          2,
          2,
          5,
          8,
          19,
          36
         ],
         "xaxis": "x",
         "y": [
          "Idaho",
          "Idaho",
          "Idaho",
          "Idaho",
          "Idaho",
          "Idaho",
          "Idaho",
          "Idaho",
          "Idaho",
          "Idaho",
          "Idaho",
          "Idaho"
         ],
         "yaxis": "y"
        },
        {
         "alignmentgroup": "True",
         "customdata": [
          [
           1,
           0
          ],
          [
           1,
           0
          ],
          [
           1,
           0
          ],
          [
           1,
           0
          ],
          [
           1,
           0
          ],
          [
           1,
           0
          ],
          [
           1,
           0
          ],
          [
           1,
           0
          ],
          [
           1,
           0
          ],
          [
           1,
           0
          ],
          [
           1,
           0
          ],
          [
           1,
           0
          ],
          [
           1,
           0
          ],
          [
           2,
           0
          ],
          [
           3,
           0
          ],
          [
           3,
           0
          ],
          [
           3,
           0
          ],
          [
           3,
           0
          ],
          [
           4,
           0
          ],
          [
           4,
           0
          ],
          [
           4,
           0
          ],
          [
           5,
           1
          ],
          [
           5,
           0
          ],
          [
           7,
           1
          ],
          [
           7,
           0
          ],
          [
           14,
           0
          ],
          [
           24,
           0
          ],
          [
           28,
           1
          ],
          [
           103,
           0
          ],
          [
           111,
           0
          ],
          [
           1194,
           9
          ]
         ],
         "hoverlabel": {
          "namelength": 0
         },
         "hovertemplate": "<b>%{hovertext}</b><br><br>State=%{y}<br>Confirmed=%{text}<br>Deaths=%{customdata[1]}",
         "hovertext": [
          "Adams",
          "Christian",
          "Cumberland",
          "DeKalb",
          "Grundy",
          "Jackson",
          "Jo Daviess",
          "Livingston",
          "Monroe",
          "Rock Island",
          "Stephenson",
          "Washington",
          "Whiteside",
          "Madison",
          "Clinton",
          "LaSalle",
          "Peoria",
          "Woodford",
          "Champaign",
          "Kankakee",
          "Kendall",
          "Sangamon",
          "Winnebago",
          "McLean",
          "St. Clair",
          "McHenry",
          "Kane",
          "Will",
          "DuPage",
          "Lake",
          "Cook"
         ],
         "legendgroup": "Illinois",
         "marker": {
          "color": "#ab63fa"
         },
         "name": "Illinois",
         "offsetgroup": "Illinois",
         "orientation": "h",
         "showlegend": true,
         "text": [
          1,
          1,
          1,
          1,
          1,
          1,
          1,
          1,
          1,
          1,
          1,
          1,
          1,
          2,
          3,
          3,
          3,
          3,
          4,
          4,
          4,
          5,
          5,
          7,
          7,
          14,
          24,
          28,
          103,
          111,
          1194
         ],
         "textposition": "inside",
         "texttemplate": "%{text:.2s}",
         "type": "bar",
         "x": [
          1,
          1,
          1,
          1,
          1,
          1,
          1,
          1,
          1,
          1,
          1,
          1,
          1,
          2,
          3,
          3,
          3,
          3,
          4,
          4,
          4,
          5,
          5,
          7,
          7,
          14,
          24,
          28,
          103,
          111,
          1194
         ],
         "xaxis": "x",
         "y": [
          "Illinois",
          "Illinois",
          "Illinois",
          "Illinois",
          "Illinois",
          "Illinois",
          "Illinois",
          "Illinois",
          "Illinois",
          "Illinois",
          "Illinois",
          "Illinois",
          "Illinois",
          "Illinois",
          "Illinois",
          "Illinois",
          "Illinois",
          "Illinois",
          "Illinois",
          "Illinois",
          "Illinois",
          "Illinois",
          "Illinois",
          "Illinois",
          "Illinois",
          "Illinois",
          "Illinois",
          "Illinois",
          "Illinois",
          "Illinois",
          "Illinois"
         ],
         "yaxis": "y"
        },
        {
         "alignmentgroup": "True",
         "customdata": [
          [
           1,
           0
          ],
          [
           1,
           0
          ],
          [
           1,
           0
          ],
          [
           1,
           0
          ],
          [
           1,
           0
          ],
          [
           1,
           0
          ],
          [
           1,
           0
          ],
          [
           1,
           0
          ],
          [
           1,
           0
          ],
          [
           1,
           0
          ],
          [
           1,
           0
          ],
          [
           1,
           0
          ],
          [
           1,
           1
          ],
          [
           1,
           0
          ],
          [
           1,
           0
          ],
          [
           1,
           0
          ],
          [
           1,
           0
          ],
          [
           2,
           0
          ],
          [
           2,
           0
          ],
          [
           2,
           0
          ],
          [
           2,
           0
          ],
          [
           2,
           0
          ],
          [
           2,
           0
          ],
          [
           2,
           0
          ],
          [
           2,
           0
          ],
          [
           2,
           0
          ],
          [
           3,
           0
          ],
          [
           3,
           0
          ],
          [
           3,
           0
          ],
          [
           3,
           0
          ],
          [
           3,
           0
          ],
          [
           3,
           0
          ],
          [
           3,
           0
          ],
          [
           4,
           1
          ],
          [
           4,
           0
          ],
          [
           4,
           0
          ],
          [
           5,
           0
          ],
          [
           5,
           0
          ],
          [
           6,
           0
          ],
          [
           6,
           0
          ],
          [
           6,
           0
          ],
          [
           6,
           0
          ],
          [
           7,
           1
          ],
          [
           7,
           0
          ],
          [
           13,
           0
          ],
          [
           17,
           0
          ],
          [
           18,
           3
          ],
          [
           18,
           0
          ],
          [
           25,
           0
          ],
          [
           161,
           6
          ]
         ],
         "hoverlabel": {
          "namelength": 0
         },
         "hovertemplate": "<b>%{hovertext}</b><br><br>State=%{y}<br>Confirmed=%{text}<br>Deaths=%{customdata[1]}",
         "hovertext": [
          "Adams",
          "Brown",
          "Dubois",
          "Greene",
          "Jackson",
          "Lawrence",
          "Miami",
          "Montgomery",
          "Noble",
          "Ohio",
          "Porter",
          "Putnam",
          "Scott",
          "Shelby",
          "Vanderburgh",
          "Warrick",
          "Wells",
          "Dearborn",
          "Fayette",
          "Gibson",
          "Jennings",
          "LaPorte",
          "Owen",
          "Starke",
          "Tipton",
          "Washington",
          "Boone",
          "Grant",
          "Madison",
          "Monroe",
          "Morgan",
          "Tippecanoe",
          "Vigo",
          "Delaware",
          "Elkhart",
          "Hancock",
          "Bartholomew",
          "Clark",
          "Decatur",
          "Floyd",
          "Howard",
          "Ripley",
          "Allen",
          "Franklin",
          "Hendricks",
          "Lake",
          "Johnson",
          "St. Joseph",
          "Hamilton",
          "Marion"
         ],
         "legendgroup": "Indiana",
         "marker": {
          "color": "#FFA15A"
         },
         "name": "Indiana",
         "offsetgroup": "Indiana",
         "orientation": "h",
         "showlegend": true,
         "text": [
          1,
          1,
          1,
          1,
          1,
          1,
          1,
          1,
          1,
          1,
          1,
          1,
          1,
          1,
          1,
          1,
          1,
          2,
          2,
          2,
          2,
          2,
          2,
          2,
          2,
          2,
          3,
          3,
          3,
          3,
          3,
          3,
          3,
          4,
          4,
          4,
          5,
          5,
          6,
          6,
          6,
          6,
          7,
          7,
          13,
          17,
          18,
          18,
          25,
          161
         ],
         "textposition": "inside",
         "texttemplate": "%{text:.2s}",
         "type": "bar",
         "x": [
          1,
          1,
          1,
          1,
          1,
          1,
          1,
          1,
          1,
          1,
          1,
          1,
          1,
          1,
          1,
          1,
          1,
          2,
          2,
          2,
          2,
          2,
          2,
          2,
          2,
          2,
          3,
          3,
          3,
          3,
          3,
          3,
          3,
          4,
          4,
          4,
          5,
          5,
          6,
          6,
          6,
          6,
          7,
          7,
          13,
          17,
          18,
          18,
          25,
          161
         ],
         "xaxis": "x",
         "y": [
          "Indiana",
          "Indiana",
          "Indiana",
          "Indiana",
          "Indiana",
          "Indiana",
          "Indiana",
          "Indiana",
          "Indiana",
          "Indiana",
          "Indiana",
          "Indiana",
          "Indiana",
          "Indiana",
          "Indiana",
          "Indiana",
          "Indiana",
          "Indiana",
          "Indiana",
          "Indiana",
          "Indiana",
          "Indiana",
          "Indiana",
          "Indiana",
          "Indiana",
          "Indiana",
          "Indiana",
          "Indiana",
          "Indiana",
          "Indiana",
          "Indiana",
          "Indiana",
          "Indiana",
          "Indiana",
          "Indiana",
          "Indiana",
          "Indiana",
          "Indiana",
          "Indiana",
          "Indiana",
          "Indiana",
          "Indiana",
          "Indiana",
          "Indiana",
          "Indiana",
          "Indiana",
          "Indiana",
          "Indiana",
          "Indiana",
          "Indiana"
         ],
         "yaxis": "y"
        },
        {
         "alignmentgroup": "True",
         "customdata": [
          [
           1,
           0
          ],
          [
           1,
           0
          ],
          [
           1,
           0
          ],
          [
           1,
           0
          ],
          [
           1,
           0
          ],
          [
           1,
           0
          ],
          [
           1,
           0
          ],
          [
           1,
           0
          ],
          [
           1,
           0
          ],
          [
           1,
           0
          ],
          [
           1,
           0
          ],
          [
           1,
           0
          ],
          [
           1,
           0
          ],
          [
           2,
           0
          ],
          [
           2,
           0
          ],
          [
           2,
           0
          ],
          [
           2,
           0
          ],
          [
           2,
           0
          ],
          [
           2,
           0
          ],
          [
           2,
           0
          ],
          [
           3,
           0
          ],
          [
           4,
           0
          ],
          [
           4,
           0
          ],
          [
           4,
           0
          ],
          [
           5,
           0
          ],
          [
           6,
           0
          ],
          [
           6,
           0
          ],
          [
           6,
           0
          ],
          [
           7,
           0
          ],
          [
           15,
           0
          ],
          [
           37,
           0
          ]
         ],
         "hoverlabel": {
          "namelength": 0
         },
         "hovertemplate": "<b>%{hovertext}</b><br><br>State=%{y}<br>Confirmed=%{text}<br>Deaths=%{customdata[1]}",
         "hovertext": [
          "Adair",
          "Buchanan",
          "Carroll",
          "Cedar",
          "Fayette",
          "Henry",
          "Jasper",
          "Kossuth",
          "Scott",
          "Sioux",
          "Wapello",
          "Warren",
          "Winneshiek",
          "Cerro Gordo",
          "Hancock",
          "Pottawattamie",
          "Poweshiek",
          "Story",
          "Unassigned",
          "Woodbury",
          "Harrison",
          "Black Hawk",
          "Tama",
          "Washington",
          "Muscatine",
          "Allamakee",
          "Dubuque",
          "Linn",
          "Dallas",
          "Polk",
          "Johnson"
         ],
         "legendgroup": "Iowa",
         "marker": {
          "color": "#19d3f3"
         },
         "name": "Iowa",
         "offsetgroup": "Iowa",
         "orientation": "h",
         "showlegend": true,
         "text": [
          1,
          1,
          1,
          1,
          1,
          1,
          1,
          1,
          1,
          1,
          1,
          1,
          1,
          2,
          2,
          2,
          2,
          2,
          2,
          2,
          3,
          4,
          4,
          4,
          5,
          6,
          6,
          6,
          7,
          15,
          37
         ],
         "textposition": "inside",
         "texttemplate": "%{text:.2s}",
         "type": "bar",
         "x": [
          1,
          1,
          1,
          1,
          1,
          1,
          1,
          1,
          1,
          1,
          1,
          1,
          1,
          2,
          2,
          2,
          2,
          2,
          2,
          2,
          3,
          4,
          4,
          4,
          5,
          6,
          6,
          6,
          7,
          15,
          37
         ],
         "xaxis": "x",
         "y": [
          "Iowa",
          "Iowa",
          "Iowa",
          "Iowa",
          "Iowa",
          "Iowa",
          "Iowa",
          "Iowa",
          "Iowa",
          "Iowa",
          "Iowa",
          "Iowa",
          "Iowa",
          "Iowa",
          "Iowa",
          "Iowa",
          "Iowa",
          "Iowa",
          "Iowa",
          "Iowa",
          "Iowa",
          "Iowa",
          "Iowa",
          "Iowa",
          "Iowa",
          "Iowa",
          "Iowa",
          "Iowa",
          "Iowa",
          "Iowa",
          "Iowa"
         ],
         "yaxis": "y"
        },
        {
         "alignmentgroup": "True",
         "customdata": [
          [
           1,
           0
          ],
          [
           1,
           0
          ],
          [
           1,
           0
          ],
          [
           1,
           0
          ],
          [
           1,
           0
          ],
          [
           1,
           0
          ],
          [
           1,
           0
          ],
          [
           2,
           0
          ],
          [
           2,
           0
          ],
          [
           2,
           0
          ],
          [
           2,
           0
          ],
          [
           2,
           0
          ],
          [
           2,
           0
          ],
          [
           3,
           0
          ],
          [
           6,
           0
          ],
          [
           7,
           0
          ],
          [
           7,
           0
          ],
          [
           22,
           1
          ],
          [
           36,
           1
          ]
         ],
         "hoverlabel": {
          "namelength": 0
         },
         "hovertemplate": "<b>%{hovertext}</b><br><br>State=%{y}<br>Confirmed=%{text}<br>Deaths=%{customdata[1]}",
         "hovertext": [
          "Bourbon",
          "Doniphan",
          "Franklin",
          "Jackson",
          "Mitchell",
          "Pottawatomie",
          "Woodson",
          "Cherokee",
          "Crawford",
          "Linn",
          "Lyon",
          "Morris",
          "Reno",
          "Butler",
          "Douglas",
          "Leavenworth",
          "Sedgwick",
          "Wyandotte",
          "Johnson"
         ],
         "legendgroup": "Kansas",
         "marker": {
          "color": "#FF6692"
         },
         "name": "Kansas",
         "offsetgroup": "Kansas",
         "orientation": "h",
         "showlegend": true,
         "text": [
          1,
          1,
          1,
          1,
          1,
          1,
          1,
          2,
          2,
          2,
          2,
          2,
          2,
          3,
          6,
          7,
          7,
          22,
          36
         ],
         "textposition": "inside",
         "texttemplate": "%{text:.2s}",
         "type": "bar",
         "x": [
          1,
          1,
          1,
          1,
          1,
          1,
          1,
          2,
          2,
          2,
          2,
          2,
          2,
          3,
          6,
          7,
          7,
          22,
          36
         ],
         "xaxis": "x",
         "y": [
          "Kansas",
          "Kansas",
          "Kansas",
          "Kansas",
          "Kansas",
          "Kansas",
          "Kansas",
          "Kansas",
          "Kansas",
          "Kansas",
          "Kansas",
          "Kansas",
          "Kansas",
          "Kansas",
          "Kansas",
          "Kansas",
          "Kansas",
          "Kansas",
          "Kansas"
         ],
         "yaxis": "y"
        },
        {
         "alignmentgroup": "True",
         "customdata": [
          [
           1,
           0
          ],
          [
           1,
           0
          ],
          [
           1,
           0
          ],
          [
           1,
           0
          ],
          [
           1,
           0
          ],
          [
           1,
           0
          ],
          [
           1,
           0
          ],
          [
           1,
           0
          ],
          [
           1,
           0
          ],
          [
           1,
           0
          ],
          [
           1,
           0
          ],
          [
           1,
           0
          ],
          [
           1,
           0
          ],
          [
           1,
           0
          ],
          [
           1,
           0
          ],
          [
           1,
           0
          ],
          [
           1,
           0
          ],
          [
           2,
           1
          ],
          [
           2,
           1
          ],
          [
           2,
           0
          ],
          [
           2,
           0
          ],
          [
           2,
           0
          ],
          [
           2,
           0
          ],
          [
           2,
           0
          ],
          [
           2,
           0
          ],
          [
           2,
           0
          ],
          [
           2,
           0
          ],
          [
           3,
           0
          ],
          [
           4,
           0
          ],
          [
           5,
           0
          ],
          [
           8,
           0
          ],
          [
           11,
           0
          ],
          [
           15,
           1
          ],
          [
           33,
           1
          ],
          [
           46,
           0
          ]
         ],
         "hoverlabel": {
          "namelength": 0
         },
         "hovertemplate": "<b>%{hovertext}</b><br><br>State=%{y}<br>Confirmed=%{text}<br>Deaths=%{customdata[1]}",
         "hovertext": [
          "Boone",
          "Breathitt",
          "Calloway",
          "Campbell",
          "Jessamine",
          "Laurel",
          "Logan",
          "Lyon",
          "Martin",
          "McCracken",
          "Menifee",
          "Nelson",
          "Oldham",
          "Scott",
          "Simpson",
          "Spencer",
          "Webster",
          "Anderson",
          "Bourbon",
          "Christian",
          "Clark",
          "Franklin",
          "Hardin",
          "Henderson",
          "Madison",
          "Montgomery",
          "Muhlenberg",
          "Pulaski",
          "Warren",
          "Kenton",
          "Harrison",
          "Daviess",
          "Fayette",
          "Jefferson",
          "Unassigned"
         ],
         "legendgroup": "Kentucky",
         "marker": {
          "color": "#B6E880"
         },
         "name": "Kentucky",
         "offsetgroup": "Kentucky",
         "orientation": "h",
         "showlegend": true,
         "text": [
          1,
          1,
          1,
          1,
          1,
          1,
          1,
          1,
          1,
          1,
          1,
          1,
          1,
          1,
          1,
          1,
          1,
          2,
          2,
          2,
          2,
          2,
          2,
          2,
          2,
          2,
          2,
          3,
          4,
          5,
          8,
          11,
          15,
          33,
          46
         ],
         "textposition": "inside",
         "texttemplate": "%{text:.2s}",
         "type": "bar",
         "x": [
          1,
          1,
          1,
          1,
          1,
          1,
          1,
          1,
          1,
          1,
          1,
          1,
          1,
          1,
          1,
          1,
          1,
          2,
          2,
          2,
          2,
          2,
          2,
          2,
          2,
          2,
          2,
          3,
          4,
          5,
          8,
          11,
          15,
          33,
          46
         ],
         "xaxis": "x",
         "y": [
          "Kentucky",
          "Kentucky",
          "Kentucky",
          "Kentucky",
          "Kentucky",
          "Kentucky",
          "Kentucky",
          "Kentucky",
          "Kentucky",
          "Kentucky",
          "Kentucky",
          "Kentucky",
          "Kentucky",
          "Kentucky",
          "Kentucky",
          "Kentucky",
          "Kentucky",
          "Kentucky",
          "Kentucky",
          "Kentucky",
          "Kentucky",
          "Kentucky",
          "Kentucky",
          "Kentucky",
          "Kentucky",
          "Kentucky",
          "Kentucky",
          "Kentucky",
          "Kentucky",
          "Kentucky",
          "Kentucky",
          "Kentucky",
          "Kentucky",
          "Kentucky",
          "Kentucky"
         ],
         "yaxis": "y"
        },
        {
         "alignmentgroup": "True",
         "customdata": [
          [
           1,
           0
          ],
          [
           1,
           1
          ],
          [
           1,
           0
          ],
          [
           1,
           0
          ],
          [
           1,
           0
          ],
          [
           2,
           0
          ],
          [
           2,
           0
          ],
          [
           2,
           0
          ],
          [
           2,
           0
          ],
          [
           2,
           0
          ],
          [
           2,
           0
          ],
          [
           2,
           0
          ],
          [
           2,
           0
          ],
          [
           2,
           0
          ],
          [
           2,
           0
          ],
          [
           2,
           0
          ],
          [
           3,
           0
          ],
          [
           3,
           0
          ],
          [
           3,
           1
          ],
          [
           3,
           1
          ],
          [
           4,
           0
          ],
          [
           5,
           1
          ],
          [
           5,
           1
          ],
          [
           6,
           0
          ],
          [
           6,
           0
          ],
          [
           7,
           1
          ],
          [
           8,
           0
          ],
          [
           9,
           1
          ],
          [
           10,
           1
          ],
          [
           12,
           0
          ],
          [
           12,
           0
          ],
          [
           12,
           1
          ],
          [
           14,
           1
          ],
          [
           14,
           0
          ],
          [
           15,
           0
          ],
          [
           16,
           0
          ],
          [
           19,
           0
          ],
          [
           21,
           0
          ],
          [
           36,
           1
          ],
          [
           40,
           0
          ],
          [
           52,
           1
          ],
          [
           58,
           2
          ],
          [
           293,
           6
          ],
          [
           675,
           26
          ]
         ],
         "hoverlabel": {
          "namelength": 0
         },
         "hovertemplate": "<b>%{hovertext}</b><br><br>State=%{y}<br>Confirmed=%{text}<br>Deaths=%{customdata[1]}",
         "hovertext": [
          "Bienville",
          "Catahoula",
          "Grant",
          "Richland",
          "St. Martin",
          "Acadia",
          "Allen",
          "Assumption",
          "Beauregard",
          "Claiborne",
          "Evangeline",
          "Iberia",
          "Lincoln",
          "Natchitoches",
          "St. Mary",
          "Vernon",
          "Avoyelles",
          "St. Landry",
          "Washington",
          "Webster",
          "Tangipahoa",
          "Calcasieu",
          "West Baton Rouge",
          "De Soto",
          "Livingston",
          "Ouachita",
          "Plaquemines",
          "St. James",
          "Rapides",
          "Bossier",
          "Lafayette",
          "Unassigned",
          "Iberville",
          "Terrebonne",
          "St. Charles",
          "Lafourche",
          "St. Bernard",
          "St. John the Baptist",
          "Ascension",
          "Caddo",
          "St. Tammany",
          "East Baton Rouge",
          "Jefferson",
          "Orleans"
         ],
         "legendgroup": "Louisiana",
         "marker": {
          "color": "#FF97FF"
         },
         "name": "Louisiana",
         "offsetgroup": "Louisiana",
         "orientation": "h",
         "showlegend": true,
         "text": [
          1,
          1,
          1,
          1,
          1,
          2,
          2,
          2,
          2,
          2,
          2,
          2,
          2,
          2,
          2,
          2,
          3,
          3,
          3,
          3,
          4,
          5,
          5,
          6,
          6,
          7,
          8,
          9,
          10,
          12,
          12,
          12,
          14,
          14,
          15,
          16,
          19,
          21,
          36,
          40,
          52,
          58,
          293,
          675
         ],
         "textposition": "inside",
         "texttemplate": "%{text:.2s}",
         "type": "bar",
         "x": [
          1,
          1,
          1,
          1,
          1,
          2,
          2,
          2,
          2,
          2,
          2,
          2,
          2,
          2,
          2,
          2,
          3,
          3,
          3,
          3,
          4,
          5,
          5,
          6,
          6,
          7,
          8,
          9,
          10,
          12,
          12,
          12,
          14,
          14,
          15,
          16,
          19,
          21,
          36,
          40,
          52,
          58,
          293,
          675
         ],
         "xaxis": "x",
         "y": [
          "Louisiana",
          "Louisiana",
          "Louisiana",
          "Louisiana",
          "Louisiana",
          "Louisiana",
          "Louisiana",
          "Louisiana",
          "Louisiana",
          "Louisiana",
          "Louisiana",
          "Louisiana",
          "Louisiana",
          "Louisiana",
          "Louisiana",
          "Louisiana",
          "Louisiana",
          "Louisiana",
          "Louisiana",
          "Louisiana",
          "Louisiana",
          "Louisiana",
          "Louisiana",
          "Louisiana",
          "Louisiana",
          "Louisiana",
          "Louisiana",
          "Louisiana",
          "Louisiana",
          "Louisiana",
          "Louisiana",
          "Louisiana",
          "Louisiana",
          "Louisiana",
          "Louisiana",
          "Louisiana",
          "Louisiana",
          "Louisiana",
          "Louisiana",
          "Louisiana",
          "Louisiana",
          "Louisiana",
          "Louisiana",
          "Louisiana"
         ],
         "yaxis": "y"
        },
        {
         "alignmentgroup": "True",
         "customdata": [
          [
           1,
           0
          ],
          [
           1,
           0
          ],
          [
           3,
           0
          ],
          [
           3,
           0
          ],
          [
           4,
           0
          ],
          [
           5,
           0
          ],
          [
           5,
           0
          ],
          [
           6,
           0
          ],
          [
           16,
           0
          ],
          [
           74,
           0
          ]
         ],
         "hoverlabel": {
          "namelength": 0
         },
         "hovertemplate": "<b>%{hovertext}</b><br><br>State=%{y}<br>Confirmed=%{text}<br>Deaths=%{customdata[1]}",
         "hovertext": [
          "Knox",
          "Waldo",
          "Androscoggin",
          "Sagadahoc",
          "Penobscot",
          "Kennebec",
          "Lincoln",
          "Oxford",
          "York",
          "Cumberland"
         ],
         "legendgroup": "Maine",
         "marker": {
          "color": "#FECB52"
         },
         "name": "Maine",
         "offsetgroup": "Maine",
         "orientation": "h",
         "showlegend": true,
         "text": [
          1,
          1,
          3,
          3,
          4,
          5,
          5,
          6,
          16,
          74
         ],
         "textposition": "inside",
         "texttemplate": "%{text:.2s}",
         "type": "bar",
         "x": [
          1,
          1,
          3,
          3,
          4,
          5,
          5,
          6,
          16,
          74
         ],
         "xaxis": "x",
         "y": [
          "Maine",
          "Maine",
          "Maine",
          "Maine",
          "Maine",
          "Maine",
          "Maine",
          "Maine",
          "Maine",
          "Maine"
         ],
         "yaxis": "y"
        },
        {
         "alignmentgroup": "True",
         "customdata": [
          [
           1,
           0
          ],
          [
           1,
           0
          ],
          [
           1,
           0
          ],
          [
           1,
           0
          ],
          [
           2,
           0
          ],
          [
           2,
           0
          ],
          [
           2,
           0
          ],
          [
           3,
           0
          ],
          [
           3,
           0
          ],
          [
           3,
           0
          ],
          [
           4,
           0
          ],
          [
           4,
           0
          ],
          [
           5,
           0
          ],
          [
           5,
           0
          ],
          [
           5,
           0
          ],
          [
           24,
           0
          ],
          [
           30,
           0
          ],
          [
           41,
           0
          ],
          [
           42,
           1
          ],
          [
           63,
           2
          ],
          [
           107,
           1
          ]
         ],
         "hoverlabel": {
          "namelength": 0
         },
         "hovertemplate": "<b>%{hovertext}</b><br><br>State=%{y}<br>Confirmed=%{text}<br>Deaths=%{customdata[1]}",
         "hovertext": [
          "Caroline",
          "Queen Anne's",
          "Somerset",
          "Talbot",
          "St. Mary's",
          "Washington",
          "Worcester",
          "Calvert",
          "Cecil",
          "Garrett",
          "Frederick",
          "Wicomico",
          "Carroll",
          "Charles",
          "Harford",
          "Anne Arundel",
          "Howard",
          "Baltimore City",
          "Baltimore",
          "Prince George's",
          "Montgomery"
         ],
         "legendgroup": "Maryland",
         "marker": {
          "color": "#636efa"
         },
         "name": "Maryland",
         "offsetgroup": "Maryland",
         "orientation": "h",
         "showlegend": true,
         "text": [
          1,
          1,
          1,
          1,
          2,
          2,
          2,
          3,
          3,
          3,
          4,
          4,
          5,
          5,
          5,
          24,
          30,
          41,
          42,
          63,
          107
         ],
         "textposition": "inside",
         "texttemplate": "%{text:.2s}",
         "type": "bar",
         "x": [
          1,
          1,
          1,
          1,
          2,
          2,
          2,
          3,
          3,
          3,
          4,
          4,
          5,
          5,
          5,
          24,
          30,
          41,
          42,
          63,
          107
         ],
         "xaxis": "x",
         "y": [
          "Maryland",
          "Maryland",
          "Maryland",
          "Maryland",
          "Maryland",
          "Maryland",
          "Maryland",
          "Maryland",
          "Maryland",
          "Maryland",
          "Maryland",
          "Maryland",
          "Maryland",
          "Maryland",
          "Maryland",
          "Maryland",
          "Maryland",
          "Maryland",
          "Maryland",
          "Maryland",
          "Maryland"
         ],
         "yaxis": "y"
        },
        {
         "alignmentgroup": "True",
         "customdata": [
          [
           2,
           0
          ],
          [
           8,
           0
          ],
          [
           10,
           0
          ],
          [
           24,
           0
          ],
          [
           31,
           0
          ],
          [
           37,
           0
          ],
          [
           40,
           0
          ],
          [
           64,
           0
          ],
          [
           73,
           0
          ],
          [
           85,
           9
          ],
          [
           118,
           0
          ],
          [
           129,
           0
          ],
          [
           234,
           1
          ],
          [
           304,
           1
          ]
         ],
         "hoverlabel": {
          "namelength": 0
         },
         "hovertemplate": "<b>%{hovertext}</b><br><br>State=%{y}<br>Confirmed=%{text}<br>Deaths=%{customdata[1]}",
         "hovertext": [
          "Dukes and Nantucket",
          "Hampshire",
          "Franklin",
          "Hampden",
          "Bristol",
          "Berkshire",
          "Barnstable",
          "Plymouth",
          "Worcester",
          "Unassigned",
          "Essex",
          "Norfolk",
          "Suffolk",
          "Middlesex"
         ],
         "legendgroup": "Massachusetts",
         "marker": {
          "color": "#EF553B"
         },
         "name": "Massachusetts",
         "offsetgroup": "Massachusetts",
         "orientation": "h",
         "showlegend": true,
         "text": [
          2,
          8,
          10,
          24,
          31,
          37,
          40,
          64,
          73,
          85,
          118,
          129,
          234,
          304
         ],
         "textposition": "inside",
         "texttemplate": "%{text:.2s}",
         "type": "bar",
         "x": [
          2,
          8,
          10,
          24,
          31,
          37,
          40,
          64,
          73,
          85,
          118,
          129,
          234,
          304
         ],
         "xaxis": "x",
         "y": [
          "Massachusetts",
          "Massachusetts",
          "Massachusetts",
          "Massachusetts",
          "Massachusetts",
          "Massachusetts",
          "Massachusetts",
          "Massachusetts",
          "Massachusetts",
          "Massachusetts",
          "Massachusetts",
          "Massachusetts",
          "Massachusetts",
          "Massachusetts"
         ],
         "yaxis": "y"
        },
        {
         "alignmentgroup": "True",
         "customdata": [
          [
           1,
           0
          ],
          [
           1,
           0
          ],
          [
           1,
           0
          ],
          [
           1,
           0
          ],
          [
           1,
           0
          ],
          [
           1,
           0
          ],
          [
           1,
           0
          ],
          [
           1,
           0
          ],
          [
           1,
           0
          ],
          [
           1,
           0
          ],
          [
           1,
           0
          ],
          [
           1,
           0
          ],
          [
           1,
           0
          ],
          [
           1,
           0
          ],
          [
           2,
           0
          ],
          [
           2,
           0
          ],
          [
           2,
           0
          ],
          [
           2,
           0
          ],
          [
           2,
           0
          ],
          [
           3,
           0
          ],
          [
           3,
           0
          ],
          [
           3,
           0
          ],
          [
           3,
           0
          ],
          [
           3,
           0
          ],
          [
           4,
           0
          ],
          [
           5,
           0
          ],
          [
           5,
           0
          ],
          [
           5,
           0
          ],
          [
           6,
           0
          ],
          [
           6,
           0
          ],
          [
           8,
           0
          ],
          [
           8,
           0
          ],
          [
           8,
           0
          ],
          [
           12,
           0
          ],
          [
           13,
           0
          ],
          [
           15,
           0
          ],
          [
           15,
           0
          ],
          [
           31,
           1
          ],
          [
           34,
           0
          ],
          [
           50,
           3
          ],
          [
           225,
           3
          ],
          [
           428,
           4
          ],
          [
           876,
           13
          ]
         ],
         "hoverlabel": {
          "namelength": 0
         },
         "hovertemplate": "<b>%{hovertext}</b><br><br>State=%{y}<br>Confirmed=%{text}<br>Deaths=%{customdata[1]}",
         "hovertext": [
          "Allegan",
          "Barry",
          "Chippewa",
          "Clare",
          "Hillsdale",
          "Kalkaska",
          "Lapeer",
          "Leelanau",
          "Manistee",
          "Marquette",
          "Montcalm",
          "Roscommon",
          "Tuscola",
          "Wexford",
          "Bay",
          "Emmet",
          "Gladwin",
          "Isabella",
          "Newaygo",
          "Charlevoix",
          "Eaton",
          "Grand Traverse",
          "Kalamazoo",
          "Muskegon",
          "Calhoun",
          "Clinton",
          "Midland",
          "Otsego",
          "Jackson",
          "Out of MI",
          "Berrien",
          "Saginaw",
          "St. Clair",
          "Monroe",
          "Livingston",
          "Ingham",
          "Ottawa",
          "Kent",
          "Genesee",
          "Washtenaw",
          "Macomb",
          "Oakland",
          "Wayne"
         ],
         "legendgroup": "Michigan",
         "marker": {
          "color": "#00cc96"
         },
         "name": "Michigan",
         "offsetgroup": "Michigan",
         "orientation": "h",
         "showlegend": true,
         "text": [
          1,
          1,
          1,
          1,
          1,
          1,
          1,
          1,
          1,
          1,
          1,
          1,
          1,
          1,
          2,
          2,
          2,
          2,
          2,
          3,
          3,
          3,
          3,
          3,
          4,
          5,
          5,
          5,
          6,
          6,
          8,
          8,
          8,
          12,
          13,
          15,
          15,
          31,
          34,
          50,
          225,
          428,
          876
         ],
         "textposition": "inside",
         "texttemplate": "%{text:.2s}",
         "type": "bar",
         "x": [
          1,
          1,
          1,
          1,
          1,
          1,
          1,
          1,
          1,
          1,
          1,
          1,
          1,
          1,
          2,
          2,
          2,
          2,
          2,
          3,
          3,
          3,
          3,
          3,
          4,
          5,
          5,
          5,
          6,
          6,
          8,
          8,
          8,
          12,
          13,
          15,
          15,
          31,
          34,
          50,
          225,
          428,
          876
         ],
         "xaxis": "x",
         "y": [
          "Michigan",
          "Michigan",
          "Michigan",
          "Michigan",
          "Michigan",
          "Michigan",
          "Michigan",
          "Michigan",
          "Michigan",
          "Michigan",
          "Michigan",
          "Michigan",
          "Michigan",
          "Michigan",
          "Michigan",
          "Michigan",
          "Michigan",
          "Michigan",
          "Michigan",
          "Michigan",
          "Michigan",
          "Michigan",
          "Michigan",
          "Michigan",
          "Michigan",
          "Michigan",
          "Michigan",
          "Michigan",
          "Michigan",
          "Michigan",
          "Michigan",
          "Michigan",
          "Michigan",
          "Michigan",
          "Michigan",
          "Michigan",
          "Michigan",
          "Michigan",
          "Michigan",
          "Michigan",
          "Michigan",
          "Michigan",
          "Michigan"
         ],
         "yaxis": "y"
        },
        {
         "alignmentgroup": "True",
         "customdata": [
          [
           1,
           0
          ],
          [
           1,
           0
          ],
          [
           1,
           0
          ],
          [
           1,
           0
          ],
          [
           1,
           0
          ],
          [
           1,
           0
          ],
          [
           1,
           0
          ],
          [
           1,
           0
          ],
          [
           2,
           0
          ],
          [
           2,
           0
          ],
          [
           2,
           0
          ],
          [
           3,
           0
          ],
          [
           3,
           0
          ],
          [
           3,
           0
          ],
          [
           3,
           0
          ],
          [
           3,
           0
          ],
          [
           5,
           0
          ],
          [
           5,
           0
          ],
          [
           5,
           0
          ],
          [
           5,
           0
          ],
          [
           5,
           0
          ],
          [
           6,
           0
          ],
          [
           7,
           0
          ],
          [
           8,
           0
          ],
          [
           8,
           0
          ],
          [
           10,
           0
          ],
          [
           18,
           0
          ],
          [
           21,
           0
          ],
          [
           26,
           1
          ],
          [
           103,
           0
          ]
         ],
         "hoverlabel": {
          "namelength": 0
         },
         "hovertemplate": "<b>%{hovertext}</b><br><br>State=%{y}<br>Confirmed=%{text}<br>Deaths=%{customdata[1]}",
         "hovertext": [
          "Benton",
          "Big Stone",
          "Cass",
          "Jackson",
          "Renville",
          "Sherburne",
          "Wabasha",
          "Waseca",
          "Chisago",
          "Rice",
          "St. Louis",
          "Clay",
          "Dodge",
          "Fillmore",
          "Nicollet",
          "Wright",
          "Blue Earth",
          "Le Sueur",
          "Scott",
          "Stearns",
          "Steele",
          "Mower",
          "Anoka",
          "Carver",
          "Martin",
          "Washington",
          "Olmsted",
          "Dakota",
          "Ramsey",
          "Hennepin"
         ],
         "legendgroup": "Minnesota",
         "marker": {
          "color": "#ab63fa"
         },
         "name": "Minnesota",
         "offsetgroup": "Minnesota",
         "orientation": "h",
         "showlegend": true,
         "text": [
          1,
          1,
          1,
          1,
          1,
          1,
          1,
          1,
          2,
          2,
          2,
          3,
          3,
          3,
          3,
          3,
          5,
          5,
          5,
          5,
          5,
          6,
          7,
          8,
          8,
          10,
          18,
          21,
          26,
          103
         ],
         "textposition": "inside",
         "texttemplate": "%{text:.2s}",
         "type": "bar",
         "x": [
          1,
          1,
          1,
          1,
          1,
          1,
          1,
          1,
          2,
          2,
          2,
          3,
          3,
          3,
          3,
          3,
          5,
          5,
          5,
          5,
          5,
          6,
          7,
          8,
          8,
          10,
          18,
          21,
          26,
          103
         ],
         "xaxis": "x",
         "y": [
          "Minnesota",
          "Minnesota",
          "Minnesota",
          "Minnesota",
          "Minnesota",
          "Minnesota",
          "Minnesota",
          "Minnesota",
          "Minnesota",
          "Minnesota",
          "Minnesota",
          "Minnesota",
          "Minnesota",
          "Minnesota",
          "Minnesota",
          "Minnesota",
          "Minnesota",
          "Minnesota",
          "Minnesota",
          "Minnesota",
          "Minnesota",
          "Minnesota",
          "Minnesota",
          "Minnesota",
          "Minnesota",
          "Minnesota",
          "Minnesota",
          "Minnesota",
          "Minnesota",
          "Minnesota"
         ],
         "yaxis": "y"
        },
        {
         "alignmentgroup": "True",
         "customdata": [
          [
           1,
           0
          ],
          [
           1,
           0
          ],
          [
           1,
           0
          ],
          [
           1,
           0
          ],
          [
           1,
           0
          ],
          [
           1,
           0
          ],
          [
           1,
           0
          ],
          [
           1,
           0
          ],
          [
           1,
           0
          ],
          [
           1,
           0
          ],
          [
           1,
           0
          ],
          [
           1,
           0
          ],
          [
           1,
           0
          ],
          [
           2,
           0
          ],
          [
           2,
           0
          ],
          [
           2,
           0
          ],
          [
           2,
           0
          ],
          [
           2,
           0
          ],
          [
           2,
           0
          ],
          [
           2,
           0
          ],
          [
           2,
           0
          ],
          [
           2,
           0
          ],
          [
           2,
           0
          ],
          [
           2,
           0
          ],
          [
           2,
           0
          ],
          [
           2,
           0
          ],
          [
           3,
           0
          ],
          [
           3,
           0
          ],
          [
           3,
           0
          ],
          [
           3,
           0
          ],
          [
           3,
           0
          ],
          [
           3,
           0
          ],
          [
           3,
           0
          ],
          [
           3,
           0
          ],
          [
           4,
           0
          ],
          [
           4,
           0
          ],
          [
           4,
           0
          ],
          [
           5,
           0
          ],
          [
           5,
           1
          ],
          [
           5,
           0
          ],
          [
           5,
           0
          ],
          [
           6,
           0
          ],
          [
           6,
           0
          ],
          [
           6,
           0
          ],
          [
           7,
           0
          ],
          [
           8,
           0
          ],
          [
           10,
           0
          ],
          [
           10,
           0
          ],
          [
           11,
           0
          ],
          [
           11,
           0
          ],
          [
           12,
           0
          ],
          [
           13,
           0
          ],
          [
           13,
           0
          ],
          [
           14,
           0
          ],
          [
           14,
           0
          ],
          [
           24,
           0
          ],
          [
           29,
           0
          ],
          [
           31,
           0
          ]
         ],
         "hoverlabel": {
          "namelength": 0
         },
         "hovertemplate": "<b>%{hovertext}</b><br><br>State=%{y}<br>Confirmed=%{text}<br>Deaths=%{customdata[1]}",
         "hovertext": [
          "Choctaw",
          "Clay",
          "George",
          "Humphreys",
          "Jones",
          "Marion",
          "Newton",
          "Noxubee",
          "Perry",
          "Simpson",
          "Smith",
          "Tate",
          "Union",
          "Adams",
          "Grenada",
          "Lamar",
          "Lawrence",
          "Leake",
          "Montgomery",
          "Panola",
          "Pontotoc",
          "Scott",
          "Tallahatchie",
          "Walthall",
          "Webster",
          "Winston",
          "Attala",
          "Franklin",
          "Itawamba",
          "Marshall",
          "Monroe",
          "Sunflower",
          "Tunica",
          "Yazoo",
          "Bolivar",
          "Lincoln",
          "Wilkinson",
          "Copiah",
          "Hancock",
          "Oktibbeha",
          "Washington",
          "Chickasaw",
          "Holmes",
          "Lowndes",
          "Pike",
          "Lafayette",
          "Jackson",
          "Leflore",
          "Coahoma",
          "Tippah",
          "Lee",
          "Pearl River",
          "Rankin",
          "Forrest",
          "Madison",
          "Harrison",
          "DeSoto",
          "Hinds"
         ],
         "legendgroup": "Mississippi",
         "marker": {
          "color": "#FFA15A"
         },
         "name": "Mississippi",
         "offsetgroup": "Mississippi",
         "orientation": "h",
         "showlegend": true,
         "text": [
          1,
          1,
          1,
          1,
          1,
          1,
          1,
          1,
          1,
          1,
          1,
          1,
          1,
          2,
          2,
          2,
          2,
          2,
          2,
          2,
          2,
          2,
          2,
          2,
          2,
          2,
          3,
          3,
          3,
          3,
          3,
          3,
          3,
          3,
          4,
          4,
          4,
          5,
          5,
          5,
          5,
          6,
          6,
          6,
          7,
          8,
          10,
          10,
          11,
          11,
          12,
          13,
          13,
          14,
          14,
          24,
          29,
          31
         ],
         "textposition": "inside",
         "texttemplate": "%{text:.2s}",
         "type": "bar",
         "x": [
          1,
          1,
          1,
          1,
          1,
          1,
          1,
          1,
          1,
          1,
          1,
          1,
          1,
          2,
          2,
          2,
          2,
          2,
          2,
          2,
          2,
          2,
          2,
          2,
          2,
          2,
          3,
          3,
          3,
          3,
          3,
          3,
          3,
          3,
          4,
          4,
          4,
          5,
          5,
          5,
          5,
          6,
          6,
          6,
          7,
          8,
          10,
          10,
          11,
          11,
          12,
          13,
          13,
          14,
          14,
          24,
          29,
          31
         ],
         "xaxis": "x",
         "y": [
          "Mississippi",
          "Mississippi",
          "Mississippi",
          "Mississippi",
          "Mississippi",
          "Mississippi",
          "Mississippi",
          "Mississippi",
          "Mississippi",
          "Mississippi",
          "Mississippi",
          "Mississippi",
          "Mississippi",
          "Mississippi",
          "Mississippi",
          "Mississippi",
          "Mississippi",
          "Mississippi",
          "Mississippi",
          "Mississippi",
          "Mississippi",
          "Mississippi",
          "Mississippi",
          "Mississippi",
          "Mississippi",
          "Mississippi",
          "Mississippi",
          "Mississippi",
          "Mississippi",
          "Mississippi",
          "Mississippi",
          "Mississippi",
          "Mississippi",
          "Mississippi",
          "Mississippi",
          "Mississippi",
          "Mississippi",
          "Mississippi",
          "Mississippi",
          "Mississippi",
          "Mississippi",
          "Mississippi",
          "Mississippi",
          "Mississippi",
          "Mississippi",
          "Mississippi",
          "Mississippi",
          "Mississippi",
          "Mississippi",
          "Mississippi",
          "Mississippi",
          "Mississippi",
          "Mississippi",
          "Mississippi",
          "Mississippi",
          "Mississippi",
          "Mississippi",
          "Mississippi"
         ],
         "yaxis": "y"
        },
        {
         "alignmentgroup": "True",
         "customdata": [
          [
           1,
           0
          ],
          [
           1,
           0
          ],
          [
           1,
           0
          ],
          [
           1,
           0
          ],
          [
           1,
           0
          ],
          [
           1,
           0
          ],
          [
           1,
           0
          ],
          [
           1,
           0
          ],
          [
           1,
           0
          ],
          [
           1,
           0
          ],
          [
           1,
           0
          ],
          [
           1,
           0
          ],
          [
           1,
           0
          ],
          [
           1,
           0
          ],
          [
           2,
           0
          ],
          [
           2,
           0
          ],
          [
           2,
           0
          ],
          [
           2,
           0
          ],
          [
           2,
           0
          ],
          [
           3,
           0
          ],
          [
           4,
           0
          ],
          [
           4,
           0
          ],
          [
           5,
           0
          ],
          [
           6,
           0
          ],
          [
           6,
           0
          ],
          [
           8,
           0
          ],
          [
           14,
           1
          ],
          [
           19,
           3
          ],
          [
           20,
           1
          ],
          [
           21,
           0
          ],
          [
           23,
           1
          ],
          [
           100,
           1
          ]
         ],
         "hoverlabel": {
          "namelength": 0
         },
         "hovertemplate": "<b>%{hovertext}</b><br><br>State=%{y}<br>Confirmed=%{text}<br>Deaths=%{customdata[1]}",
         "hovertext": [
          "Adair",
          "Bates",
          "Camden",
          "Clinton",
          "Dunklin",
          "Henry",
          "Jasper",
          "Johnson",
          "Lafayette",
          "Moniteau",
          "Pemiscot",
          "Randolph",
          "Scott",
          "Taney",
          "Callaway",
          "Christian",
          "Perry",
          "Platte",
          "St. Francois",
          "Clay",
          "Jefferson",
          "Pulaski",
          "Cole",
          "Cass",
          "Unassigned",
          "St. Charles",
          "Jackson",
          "Greene",
          "Boone",
          "Kansas City",
          "St. Louis City",
          "St. Louis"
         ],
         "legendgroup": "Missouri",
         "marker": {
          "color": "#19d3f3"
         },
         "name": "Missouri",
         "offsetgroup": "Missouri",
         "orientation": "h",
         "showlegend": true,
         "text": [
          1,
          1,
          1,
          1,
          1,
          1,
          1,
          1,
          1,
          1,
          1,
          1,
          1,
          1,
          2,
          2,
          2,
          2,
          2,
          3,
          4,
          4,
          5,
          6,
          6,
          8,
          14,
          19,
          20,
          21,
          23,
          100
         ],
         "textposition": "inside",
         "texttemplate": "%{text:.2s}",
         "type": "bar",
         "x": [
          1,
          1,
          1,
          1,
          1,
          1,
          1,
          1,
          1,
          1,
          1,
          1,
          1,
          1,
          2,
          2,
          2,
          2,
          2,
          3,
          4,
          4,
          5,
          6,
          6,
          8,
          14,
          19,
          20,
          21,
          23,
          100
         ],
         "xaxis": "x",
         "y": [
          "Missouri",
          "Missouri",
          "Missouri",
          "Missouri",
          "Missouri",
          "Missouri",
          "Missouri",
          "Missouri",
          "Missouri",
          "Missouri",
          "Missouri",
          "Missouri",
          "Missouri",
          "Missouri",
          "Missouri",
          "Missouri",
          "Missouri",
          "Missouri",
          "Missouri",
          "Missouri",
          "Missouri",
          "Missouri",
          "Missouri",
          "Missouri",
          "Missouri",
          "Missouri",
          "Missouri",
          "Missouri",
          "Missouri",
          "Missouri",
          "Missouri",
          "Missouri"
         ],
         "yaxis": "y"
        },
        {
         "alignmentgroup": "True",
         "customdata": [
          [
           1,
           0
          ],
          [
           1,
           0
          ],
          [
           1,
           0
          ],
          [
           1,
           0
          ],
          [
           2,
           0
          ],
          [
           3,
           0
          ],
          [
           3,
           0
          ],
          [
           4,
           0
          ],
          [
           6,
           0
          ],
          [
           6,
           0
          ],
          [
           7,
           0
          ],
          [
           16,
           0
          ]
         ],
         "hoverlabel": {
          "namelength": 0
         },
         "hovertemplate": "<b>%{hovertext}</b><br><br>State=%{y}<br>Confirmed=%{text}<br>Deaths=%{customdata[1]}",
         "hovertext": [
          "Broadwater",
          "Madison",
          "Ravalli",
          "Roosevelt",
          "Silver Bow",
          "Cascade",
          "Lewis and Clark",
          "Flathead",
          "Missoula",
          "Unassigned",
          "Yellowstone",
          "Gallatin"
         ],
         "legendgroup": "Montana",
         "marker": {
          "color": "#FF6692"
         },
         "name": "Montana",
         "offsetgroup": "Montana",
         "orientation": "h",
         "showlegend": true,
         "text": [
          1,
          1,
          1,
          1,
          2,
          3,
          3,
          4,
          6,
          6,
          7,
          16
         ],
         "textposition": "inside",
         "texttemplate": "%{text:.2s}",
         "type": "bar",
         "x": [
          1,
          1,
          1,
          1,
          2,
          3,
          3,
          4,
          6,
          6,
          7,
          16
         ],
         "xaxis": "x",
         "y": [
          "Montana",
          "Montana",
          "Montana",
          "Montana",
          "Montana",
          "Montana",
          "Montana",
          "Montana",
          "Montana",
          "Montana",
          "Montana",
          "Montana"
         ],
         "yaxis": "y"
        },
        {
         "alignmentgroup": "True",
         "customdata": [
          [
           1,
           0
          ],
          [
           1,
           0
          ],
          [
           1,
           0
          ],
          [
           1,
           0
          ],
          [
           1,
           0
          ],
          [
           2,
           0
          ],
          [
           2,
           0
          ],
          [
           2,
           0
          ],
          [
           2,
           0
          ],
          [
           3,
           0
          ],
          [
           3,
           0
          ],
          [
           8,
           0
          ],
          [
           39,
           0
          ]
         ],
         "hoverlabel": {
          "namelength": 0
         },
         "hovertemplate": "<b>%{hovertext}</b><br><br>State=%{y}<br>Confirmed=%{text}<br>Deaths=%{customdata[1]}",
         "hovertext": [
          "Adams",
          "Gage",
          "Madison",
          "Nemaha",
          "Saunders",
          "Buffalo",
          "Cass",
          "Knox",
          "Lancaster",
          "Lincoln",
          "Washington",
          "Sarpy",
          "Douglas"
         ],
         "legendgroup": "Nebraska",
         "marker": {
          "color": "#B6E880"
         },
         "name": "Nebraska",
         "offsetgroup": "Nebraska",
         "orientation": "h",
         "showlegend": true,
         "text": [
          1,
          1,
          1,
          1,
          1,
          2,
          2,
          2,
          2,
          3,
          3,
          8,
          39
         ],
         "textposition": "inside",
         "texttemplate": "%{text:.2s}",
         "type": "bar",
         "x": [
          1,
          1,
          1,
          1,
          1,
          2,
          2,
          2,
          2,
          3,
          3,
          8,
          39
         ],
         "xaxis": "x",
         "y": [
          "Nebraska",
          "Nebraska",
          "Nebraska",
          "Nebraska",
          "Nebraska",
          "Nebraska",
          "Nebraska",
          "Nebraska",
          "Nebraska",
          "Nebraska",
          "Nebraska",
          "Nebraska",
          "Nebraska"
         ],
         "yaxis": "y"
        },
        {
         "alignmentgroup": "True",
         "customdata": [
          [
           1,
           0
          ],
          [
           2,
           0
          ],
          [
           2,
           0
          ],
          [
           2,
           0
          ],
          [
           15,
           0
          ],
          [
           44,
           0
          ],
          [
           212,
           4
          ]
         ],
         "hoverlabel": {
          "namelength": 0
         },
         "hovertemplate": "<b>%{hovertext}</b><br><br>State=%{y}<br>Confirmed=%{text}<br>Deaths=%{customdata[1]}",
         "hovertext": [
          "Nye",
          "Carson City",
          "Douglas",
          "Elko County",
          "Unassigned",
          "Washoe",
          "Clark"
         ],
         "legendgroup": "Nevada",
         "marker": {
          "color": "#FF97FF"
         },
         "name": "Nevada",
         "offsetgroup": "Nevada",
         "orientation": "h",
         "showlegend": true,
         "text": [
          1,
          2,
          2,
          2,
          15,
          44,
          212
         ],
         "textposition": "inside",
         "texttemplate": "%{text:.2s}",
         "type": "bar",
         "x": [
          1,
          2,
          2,
          2,
          15,
          44,
          212
         ],
         "xaxis": "x",
         "y": [
          "Nevada",
          "Nevada",
          "Nevada",
          "Nevada",
          "Nevada",
          "Nevada",
          "Nevada"
         ],
         "yaxis": "y"
        },
        {
         "alignmentgroup": "True",
         "customdata": [
          [
           1,
           0
          ],
          [
           1,
           0
          ],
          [
           4,
           0
          ],
          [
           4,
           0
          ],
          [
           7,
           0
          ],
          [
           7,
           0
          ],
          [
           19,
           1
          ],
          [
           20,
           0
          ],
          [
           38,
           0
          ]
         ],
         "hoverlabel": {
          "namelength": 0
         },
         "hovertemplate": "<b>%{hovertext}</b><br><br>State=%{y}<br>Confirmed=%{text}<br>Deaths=%{customdata[1]}",
         "hovertext": [
          "Cheshire",
          "Sullivan",
          "Merrimack",
          "Strafford",
          "Belknap",
          "Carroll",
          "Hillsborough",
          "Grafton",
          "Rockingham"
         ],
         "legendgroup": "New Hampshire",
         "marker": {
          "color": "#FECB52"
         },
         "name": "New Hampshire",
         "offsetgroup": "New Hampshire",
         "orientation": "h",
         "showlegend": true,
         "text": [
          1,
          1,
          4,
          4,
          7,
          7,
          19,
          20,
          38
         ],
         "textposition": "inside",
         "texttemplate": "%{text:.2s}",
         "type": "bar",
         "x": [
          1,
          1,
          4,
          4,
          7,
          7,
          19,
          20,
          38
         ],
         "xaxis": "x",
         "y": [
          "New Hampshire",
          "New Hampshire",
          "New Hampshire",
          "New Hampshire",
          "New Hampshire",
          "New Hampshire",
          "New Hampshire",
          "New Hampshire",
          "New Hampshire"
         ],
         "yaxis": "y"
        },
        {
         "alignmentgroup": "True",
         "customdata": [
          [
           1,
           0
          ],
          [
           2,
           0
          ],
          [
           3,
           0
          ],
          [
           6,
           0
          ],
          [
           15,
           0
          ],
          [
           18,
           0
          ],
          [
           19,
           0
          ],
          [
           25,
           0
          ],
          [
           42,
           0
          ],
          [
           51,
           1
          ],
          [
           58,
           0
          ],
          [
           102,
           1
          ],
          [
           180,
           1
          ],
          [
           204,
           1
          ],
          [
           216,
           0
          ],
          [
           234,
           1
          ],
          [
           246,
           0
          ],
          [
           277,
           0
          ],
          [
           288,
           3
          ],
          [
           342,
           4
          ],
          [
           645,
           26
          ],
          [
           701,
           6
          ]
         ],
         "hoverlabel": {
          "namelength": 0
         },
         "hovertemplate": "<b>%{hovertext}</b><br><br>State=%{y}<br>Confirmed=%{text}<br>Deaths=%{customdata[1]}",
         "hovertext": [
          "Salem",
          "Cumberland",
          "Cape May",
          "Atlantic",
          "Warren",
          "Sussex",
          "Gloucester",
          "Hunterdon",
          "Burlington",
          "Camden",
          "Mercer",
          "Somerset",
          "Ocean",
          "Morris",
          "Passaic",
          "Hudson",
          "Union",
          "Middlesex",
          "Monmouth",
          "Essex",
          "Unassigned",
          "Bergen"
         ],
         "legendgroup": "New Jersey",
         "marker": {
          "color": "#636efa"
         },
         "name": "New Jersey",
         "offsetgroup": "New Jersey",
         "orientation": "h",
         "showlegend": true,
         "text": [
          1,
          2,
          3,
          6,
          15,
          18,
          19,
          25,
          42,
          51,
          58,
          102,
          180,
          204,
          216,
          234,
          246,
          277,
          288,
          342,
          645,
          701
         ],
         "textposition": "inside",
         "texttemplate": "%{text:.2s}",
         "type": "bar",
         "x": [
          1,
          2,
          3,
          6,
          15,
          18,
          19,
          25,
          42,
          51,
          58,
          102,
          180,
          204,
          216,
          234,
          246,
          277,
          288,
          342,
          645,
          701
         ],
         "xaxis": "x",
         "y": [
          "New Jersey",
          "New Jersey",
          "New Jersey",
          "New Jersey",
          "New Jersey",
          "New Jersey",
          "New Jersey",
          "New Jersey",
          "New Jersey",
          "New Jersey",
          "New Jersey",
          "New Jersey",
          "New Jersey",
          "New Jersey",
          "New Jersey",
          "New Jersey",
          "New Jersey",
          "New Jersey",
          "New Jersey",
          "New Jersey",
          "New Jersey",
          "New Jersey"
         ],
         "yaxis": "y"
        },
        {
         "alignmentgroup": "True",
         "customdata": [
          [
           1,
           0
          ],
          [
           1,
           0
          ],
          [
           1,
           0
          ],
          [
           1,
           0
          ],
          [
           2,
           0
          ],
          [
           3,
           0
          ],
          [
           3,
           0
          ],
          [
           4,
           0
          ],
          [
           7,
           0
          ],
          [
           7,
           0
          ],
          [
           13,
           0
          ],
          [
           14,
           0
          ],
          [
           43,
           0
          ]
         ],
         "hoverlabel": {
          "namelength": 0
         },
         "hovertemplate": "<b>%{hovertext}</b><br><br>State=%{y}<br>Confirmed=%{text}<br>Deaths=%{customdata[1]}",
         "hovertext": [
          "Cibola",
          "Curry",
          "Lea",
          "San Miguel",
          "Socorro",
          "McKinley",
          "Taos",
          "Chaves",
          "San Juan",
          "Sandoval",
          "Dona Ana",
          "Santa Fe",
          "Bernalillo"
         ],
         "legendgroup": "New Mexico",
         "marker": {
          "color": "#EF553B"
         },
         "name": "New Mexico",
         "offsetgroup": "New Mexico",
         "orientation": "h",
         "showlegend": true,
         "text": [
          1,
          1,
          1,
          1,
          2,
          3,
          3,
          4,
          7,
          7,
          13,
          14,
          43
         ],
         "textposition": "inside",
         "texttemplate": "%{text:.2s}",
         "type": "bar",
         "x": [
          1,
          1,
          1,
          1,
          2,
          3,
          3,
          4,
          7,
          7,
          13,
          14,
          43
         ],
         "xaxis": "x",
         "y": [
          "New Mexico",
          "New Mexico",
          "New Mexico",
          "New Mexico",
          "New Mexico",
          "New Mexico",
          "New Mexico",
          "New Mexico",
          "New Mexico",
          "New Mexico",
          "New Mexico",
          "New Mexico",
          "New Mexico"
         ],
         "yaxis": "y"
        },
        {
         "alignmentgroup": "True",
         "customdata": [
          [
           1,
           0
          ],
          [
           1,
           0
          ],
          [
           1,
           0
          ],
          [
           1,
           0
          ],
          [
           1,
           0
          ],
          [
           1,
           0
          ],
          [
           2,
           0
          ],
          [
           2,
           0
          ],
          [
           2,
           0
          ],
          [
           2,
           0
          ],
          [
           2,
           0
          ],
          [
           2,
           0
          ],
          [
           2,
           0
          ],
          [
           2,
           0
          ],
          [
           3,
           0
          ],
          [
           3,
           0
          ],
          [
           3,
           0
          ],
          [
           3,
           0
          ],
          [
           3,
           0
          ],
          [
           3,
           0
          ],
          [
           3,
           0
          ],
          [
           4,
           0
          ],
          [
           4,
           0
          ],
          [
           4,
           1
          ],
          [
           4,
           1
          ],
          [
           6,
           0
          ],
          [
           6,
           0
          ],
          [
           6,
           0
          ],
          [
           8,
           0
          ],
          [
           9,
           1
          ],
          [
           10,
           0
          ],
          [
           10,
           0
          ],
          [
           16,
           0
          ],
          [
           18,
           0
          ],
          [
           23,
           0
          ],
          [
           33,
           0
          ],
          [
           35,
           0
          ],
          [
           44,
           0
          ],
          [
           53,
           0
          ],
          [
           60,
           1
          ],
          [
           82,
           0
          ],
          [
           106,
           3
          ],
          [
           114,
           0
          ],
          [
           124,
           1
          ],
          [
           146,
           0
          ],
          [
           498,
           0
          ],
          [
           671,
           5
          ],
          [
           1880,
           17
          ],
          [
           2869,
           9
          ],
          [
           3891,
           1
          ],
          [
           14904,
           131
          ]
         ],
         "hoverlabel": {
          "namelength": 0
         },
         "hovertemplate": "<b>%{hovertext}</b><br><br>State=%{y}<br>Confirmed=%{text}<br>Deaths=%{customdata[1]}",
         "hovertext": [
          "Fulton",
          "Genesee",
          "Otsego",
          "Schoharie",
          "St. Lawrence",
          "Tioga",
          "Allegany",
          "Cayuga",
          "Chautauqua",
          "Cortland",
          "Hamilton",
          "Jefferson",
          "Oswego",
          "Warren",
          "Chemung",
          "Chenango",
          "Delaware",
          "Essex",
          "Livingston",
          "Montgomery",
          "Washington",
          "Greene",
          "Herkimer",
          "Madison",
          "Wyoming",
          "Clinton",
          "Ontario",
          "Wayne",
          "Steuben",
          "Broome",
          "Niagara",
          "Oneida",
          "Tompkins",
          "Columbia",
          "Sullivan",
          "Rensselaer",
          "Ulster",
          "Schenectady",
          "Saratoga",
          "Onondaga",
          "Putnam",
          "Monroe",
          "Erie",
          "Dutchess",
          "Albany",
          "Orange",
          "Rockland",
          "Suffolk",
          "Nassau",
          "Westchester",
          "New York City"
         ],
         "legendgroup": "New York",
         "marker": {
          "color": "#00cc96"
         },
         "name": "New York",
         "offsetgroup": "New York",
         "orientation": "h",
         "showlegend": true,
         "text": [
          1,
          1,
          1,
          1,
          1,
          1,
          2,
          2,
          2,
          2,
          2,
          2,
          2,
          2,
          3,
          3,
          3,
          3,
          3,
          3,
          3,
          4,
          4,
          4,
          4,
          6,
          6,
          6,
          8,
          9,
          10,
          10,
          16,
          18,
          23,
          33,
          35,
          44,
          53,
          60,
          82,
          106,
          114,
          124,
          146,
          498,
          671,
          1880,
          2869,
          3891,
          14904
         ],
         "textposition": "inside",
         "texttemplate": "%{text:.2s}",
         "type": "bar",
         "x": [
          1,
          1,
          1,
          1,
          1,
          1,
          2,
          2,
          2,
          2,
          2,
          2,
          2,
          2,
          3,
          3,
          3,
          3,
          3,
          3,
          3,
          4,
          4,
          4,
          4,
          6,
          6,
          6,
          8,
          9,
          10,
          10,
          16,
          18,
          23,
          33,
          35,
          44,
          53,
          60,
          82,
          106,
          114,
          124,
          146,
          498,
          671,
          1880,
          2869,
          3891,
          14904
         ],
         "xaxis": "x",
         "y": [
          "New York",
          "New York",
          "New York",
          "New York",
          "New York",
          "New York",
          "New York",
          "New York",
          "New York",
          "New York",
          "New York",
          "New York",
          "New York",
          "New York",
          "New York",
          "New York",
          "New York",
          "New York",
          "New York",
          "New York",
          "New York",
          "New York",
          "New York",
          "New York",
          "New York",
          "New York",
          "New York",
          "New York",
          "New York",
          "New York",
          "New York",
          "New York",
          "New York",
          "New York",
          "New York",
          "New York",
          "New York",
          "New York",
          "New York",
          "New York",
          "New York",
          "New York",
          "New York",
          "New York",
          "New York",
          "New York",
          "New York",
          "New York",
          "New York",
          "New York",
          "New York"
         ],
         "yaxis": "y"
        },
        {
         "alignmentgroup": "True",
         "customdata": [
          [
           1,
           0
          ],
          [
           1,
           0
          ],
          [
           1,
           0
          ],
          [
           1,
           0
          ],
          [
           1,
           0
          ],
          [
           1,
           0
          ],
          [
           1,
           0
          ],
          [
           1,
           0
          ],
          [
           1,
           0
          ],
          [
           1,
           0
          ],
          [
           1,
           0
          ],
          [
           1,
           0
          ],
          [
           1,
           0
          ],
          [
           1,
           0
          ],
          [
           1,
           0
          ],
          [
           1,
           0
          ],
          [
           1,
           0
          ],
          [
           1,
           0
          ],
          [
           1,
           0
          ],
          [
           1,
           0
          ],
          [
           2,
           0
          ],
          [
           2,
           0
          ],
          [
           2,
           0
          ],
          [
           2,
           0
          ],
          [
           2,
           0
          ],
          [
           2,
           0
          ],
          [
           3,
           0
          ],
          [
           3,
           0
          ],
          [
           3,
           0
          ],
          [
           3,
           0
          ],
          [
           3,
           0
          ],
          [
           3,
           0
          ],
          [
           3,
           0
          ],
          [
           4,
           0
          ],
          [
           4,
           0
          ],
          [
           4,
           0
          ],
          [
           4,
           0
          ],
          [
           4,
           0
          ],
          [
           4,
           0
          ],
          [
           4,
           0
          ],
          [
           5,
           0
          ],
          [
           5,
           0
          ],
          [
           5,
           0
          ],
          [
           6,
           0
          ],
          [
           6,
           0
          ],
          [
           9,
           0
          ],
          [
           9,
           0
          ],
          [
           10,
           0
          ],
          [
           10,
           0
          ],
          [
           10,
           0
          ],
          [
           12,
           0
          ],
          [
           14,
           0
          ],
          [
           16,
           0
          ],
          [
           18,
           0
          ],
          [
           66,
           0
          ],
          [
           71,
           0
          ],
          [
           142,
           0
          ]
         ],
         "hoverlabel": {
          "namelength": 0
         },
         "hovertemplate": "<b>%{hovertext}</b><br><br>State=%{y}<br>Confirmed=%{text}<br>Deaths=%{customdata[1]}",
         "hovertext": [
          "Bertie",
          "Caldwell",
          "Chowan",
          "Davie",
          "Duplin",
          "Granville",
          "Hertford",
          "Hoke",
          "Hyde",
          "Jackson",
          "Lee",
          "Lenoir",
          "Lincoln",
          "Montgomery",
          "Northampton",
          "Pasquotank",
          "Sampson",
          "Scotland",
          "Transylvania",
          "Vance",
          "Beaufort",
          "Henderson",
          "McDowell",
          "Moore",
          "Robeson",
          "Wayne",
          "Alamance",
          "Chatham",
          "Craven",
          "Davidson",
          "Onslow",
          "Randolph",
          "Watauga",
          "Catawba",
          "Cherokee",
          "Franklin",
          "Gaston",
          "Johnston",
          "Nash",
          "Wilson",
          "Carteret",
          "Cumberland",
          "Rowan",
          "Orange",
          "Pitt",
          "Harnett",
          "Iredell",
          "Brunswick",
          "Cabarrus",
          "New Hanover",
          "Buncombe",
          "Forsyth",
          "Guilford",
          "Union",
          "Wake",
          "Durham",
          "Mecklenburg"
         ],
         "legendgroup": "North Carolina",
         "marker": {
          "color": "#ab63fa"
         },
         "name": "North Carolina",
         "offsetgroup": "North Carolina",
         "orientation": "h",
         "showlegend": true,
         "text": [
          1,
          1,
          1,
          1,
          1,
          1,
          1,
          1,
          1,
          1,
          1,
          1,
          1,
          1,
          1,
          1,
          1,
          1,
          1,
          1,
          2,
          2,
          2,
          2,
          2,
          2,
          3,
          3,
          3,
          3,
          3,
          3,
          3,
          4,
          4,
          4,
          4,
          4,
          4,
          4,
          5,
          5,
          5,
          6,
          6,
          9,
          9,
          10,
          10,
          10,
          12,
          14,
          16,
          18,
          66,
          71,
          142
         ],
         "textposition": "inside",
         "texttemplate": "%{text:.2s}",
         "type": "bar",
         "x": [
          1,
          1,
          1,
          1,
          1,
          1,
          1,
          1,
          1,
          1,
          1,
          1,
          1,
          1,
          1,
          1,
          1,
          1,
          1,
          1,
          2,
          2,
          2,
          2,
          2,
          2,
          3,
          3,
          3,
          3,
          3,
          3,
          3,
          4,
          4,
          4,
          4,
          4,
          4,
          4,
          5,
          5,
          5,
          6,
          6,
          9,
          9,
          10,
          10,
          10,
          12,
          14,
          16,
          18,
          66,
          71,
          142
         ],
         "xaxis": "x",
         "y": [
          "North Carolina",
          "North Carolina",
          "North Carolina",
          "North Carolina",
          "North Carolina",
          "North Carolina",
          "North Carolina",
          "North Carolina",
          "North Carolina",
          "North Carolina",
          "North Carolina",
          "North Carolina",
          "North Carolina",
          "North Carolina",
          "North Carolina",
          "North Carolina",
          "North Carolina",
          "North Carolina",
          "North Carolina",
          "North Carolina",
          "North Carolina",
          "North Carolina",
          "North Carolina",
          "North Carolina",
          "North Carolina",
          "North Carolina",
          "North Carolina",
          "North Carolina",
          "North Carolina",
          "North Carolina",
          "North Carolina",
          "North Carolina",
          "North Carolina",
          "North Carolina",
          "North Carolina",
          "North Carolina",
          "North Carolina",
          "North Carolina",
          "North Carolina",
          "North Carolina",
          "North Carolina",
          "North Carolina",
          "North Carolina",
          "North Carolina",
          "North Carolina",
          "North Carolina",
          "North Carolina",
          "North Carolina",
          "North Carolina",
          "North Carolina",
          "North Carolina",
          "North Carolina",
          "North Carolina",
          "North Carolina",
          "North Carolina",
          "North Carolina",
          "North Carolina"
         ],
         "yaxis": "y"
        },
        {
         "alignmentgroup": "True",
         "customdata": [
          [
           1,
           0
          ],
          [
           1,
           0
          ],
          [
           1,
           0
          ],
          [
           2,
           0
          ],
          [
           3,
           0
          ],
          [
           3,
           0
          ],
          [
           7,
           0
          ],
          [
           18,
           0
          ]
         ],
         "hoverlabel": {
          "namelength": 0
         },
         "hovertemplate": "<b>%{hovertext}</b><br><br>State=%{y}<br>Confirmed=%{text}<br>Deaths=%{customdata[1]}",
         "hovertext": [
          "Dunn",
          "Ramsey",
          "Walsh",
          "Pierce",
          "Cass",
          "Ward",
          "Morton",
          "Burleigh"
         ],
         "legendgroup": "North Dakota",
         "marker": {
          "color": "#FFA15A"
         },
         "name": "North Dakota",
         "offsetgroup": "North Dakota",
         "orientation": "h",
         "showlegend": true,
         "text": [
          1,
          1,
          1,
          2,
          3,
          3,
          7,
          18
         ],
         "textposition": "inside",
         "texttemplate": "%{text:.2s}",
         "type": "bar",
         "x": [
          1,
          1,
          1,
          2,
          3,
          3,
          7,
          18
         ],
         "xaxis": "x",
         "y": [
          "North Dakota",
          "North Dakota",
          "North Dakota",
          "North Dakota",
          "North Dakota",
          "North Dakota",
          "North Dakota",
          "North Dakota"
         ],
         "yaxis": "y"
        },
        {
         "alignmentgroup": "True",
         "customdata": [
          [
           1,
           0
          ],
          [
           1,
           0
          ],
          [
           1,
           0
          ],
          [
           1,
           0
          ],
          [
           1,
           0
          ],
          [
           1,
           1
          ],
          [
           1,
           1
          ],
          [
           1,
           0
          ],
          [
           1,
           0
          ],
          [
           1,
           0
          ],
          [
           1,
           0
          ],
          [
           1,
           0
          ],
          [
           1,
           0
          ],
          [
           1,
           0
          ],
          [
           2,
           0
          ],
          [
           2,
           0
          ],
          [
           2,
           0
          ],
          [
           2,
           0
          ],
          [
           2,
           0
          ],
          [
           2,
           0
          ],
          [
           2,
           0
          ],
          [
           2,
           0
          ],
          [
           2,
           0
          ],
          [
           3,
           0
          ],
          [
           3,
           0
          ],
          [
           3,
           0
          ],
          [
           3,
           0
          ],
          [
           3,
           0
          ],
          [
           3,
           0
          ],
          [
           4,
           0
          ],
          [
           4,
           0
          ],
          [
           4,
           0
          ],
          [
           4,
           0
          ],
          [
           5,
           0
          ],
          [
           5,
           0
          ],
          [
           7,
           0
          ],
          [
           10,
           0
          ],
          [
           11,
           0
          ],
          [
           11,
           0
          ],
          [
           13,
           1
          ],
          [
           13,
           1
          ],
          [
           15,
           0
          ],
          [
           18,
           0
          ],
          [
           19,
           0
          ],
          [
           28,
           0
          ],
          [
           30,
           0
          ],
          [
           36,
           0
          ],
          [
           38,
           0
          ],
          [
           75,
           2
          ],
          [
           167,
           2
          ]
         ],
         "hoverlabel": {
          "namelength": 0
         },
         "hovertemplate": "<b>%{hovertext}</b><br><br>State=%{y}<br>Confirmed=%{text}<br>Deaths=%{customdata[1]}",
         "hovertext": [
          "Ashland",
          "Champaign",
          "Clinton",
          "Crawford",
          "Darke",
          "Erie",
          "Gallia",
          "Hancock",
          "Highland",
          "Knox",
          "Madison",
          "Sandusky",
          "Seneca",
          "Washington",
          "Belmont",
          "Clark",
          "Defiance",
          "Fairfield",
          "Huron",
          "Licking",
          "Logan",
          "Union",
          "Wood",
          "Ashtabula",
          "Carroll",
          "Columbiana",
          "Coshocton",
          "Greene",
          "Tuscarawas",
          "Marion",
          "Portage",
          "Richland",
          "Trumbull",
          "Clermont",
          "Geauga",
          "Warren",
          "Montgomery",
          "Delaware",
          "Lake",
          "Lucas",
          "Stark",
          "Medina",
          "Butler",
          "Miami",
          "Mahoning",
          "Lorain",
          "Summit",
          "Hamilton",
          "Franklin",
          "Cuyahoga"
         ],
         "legendgroup": "Ohio",
         "marker": {
          "color": "#19d3f3"
         },
         "name": "Ohio",
         "offsetgroup": "Ohio",
         "orientation": "h",
         "showlegend": true,
         "text": [
          1,
          1,
          1,
          1,
          1,
          1,
          1,
          1,
          1,
          1,
          1,
          1,
          1,
          1,
          2,
          2,
          2,
          2,
          2,
          2,
          2,
          2,
          2,
          3,
          3,
          3,
          3,
          3,
          3,
          4,
          4,
          4,
          4,
          5,
          5,
          7,
          10,
          11,
          11,
          13,
          13,
          15,
          18,
          19,
          28,
          30,
          36,
          38,
          75,
          167
         ],
         "textposition": "inside",
         "texttemplate": "%{text:.2s}",
         "type": "bar",
         "x": [
          1,
          1,
          1,
          1,
          1,
          1,
          1,
          1,
          1,
          1,
          1,
          1,
          1,
          1,
          2,
          2,
          2,
          2,
          2,
          2,
          2,
          2,
          2,
          3,
          3,
          3,
          3,
          3,
          3,
          4,
          4,
          4,
          4,
          5,
          5,
          7,
          10,
          11,
          11,
          13,
          13,
          15,
          18,
          19,
          28,
          30,
          36,
          38,
          75,
          167
         ],
         "xaxis": "x",
         "y": [
          "Ohio",
          "Ohio",
          "Ohio",
          "Ohio",
          "Ohio",
          "Ohio",
          "Ohio",
          "Ohio",
          "Ohio",
          "Ohio",
          "Ohio",
          "Ohio",
          "Ohio",
          "Ohio",
          "Ohio",
          "Ohio",
          "Ohio",
          "Ohio",
          "Ohio",
          "Ohio",
          "Ohio",
          "Ohio",
          "Ohio",
          "Ohio",
          "Ohio",
          "Ohio",
          "Ohio",
          "Ohio",
          "Ohio",
          "Ohio",
          "Ohio",
          "Ohio",
          "Ohio",
          "Ohio",
          "Ohio",
          "Ohio",
          "Ohio",
          "Ohio",
          "Ohio",
          "Ohio",
          "Ohio",
          "Ohio",
          "Ohio",
          "Ohio",
          "Ohio",
          "Ohio",
          "Ohio",
          "Ohio",
          "Ohio",
          "Ohio"
         ],
         "yaxis": "y"
        },
        {
         "alignmentgroup": "True",
         "customdata": [
          [
           1,
           0
          ],
          [
           1,
           0
          ],
          [
           1,
           0
          ],
          [
           1,
           0
          ],
          [
           1,
           0
          ],
          [
           1,
           0
          ],
          [
           1,
           0
          ],
          [
           2,
           0
          ],
          [
           2,
           0
          ],
          [
           2,
           0
          ],
          [
           2,
           0
          ],
          [
           3,
           0
          ],
          [
           4,
           0
          ],
          [
           4,
           1
          ],
          [
           5,
           0
          ],
          [
           12,
           1
          ],
          [
           22,
           1
          ],
          [
           41,
           0
          ]
         ],
         "hoverlabel": {
          "namelength": 0
         },
         "hovertemplate": "<b>%{hovertext}</b><br><br>State=%{y}<br>Confirmed=%{text}<br>Deaths=%{customdata[1]}",
         "hovertext": [
          "Grady",
          "Jackson",
          "Logan",
          "Mayes",
          "McClain",
          "Muskogee",
          "Pontotoc",
          "Custer",
          "Garvin",
          "Noble",
          "Washington",
          "Payne",
          "Canadian",
          "Pawnee",
          "Kay",
          "Tulsa",
          "Cleveland",
          "Oklahoma"
         ],
         "legendgroup": "Oklahoma",
         "marker": {
          "color": "#FF6692"
         },
         "name": "Oklahoma",
         "offsetgroup": "Oklahoma",
         "orientation": "h",
         "showlegend": true,
         "text": [
          1,
          1,
          1,
          1,
          1,
          1,
          1,
          2,
          2,
          2,
          2,
          3,
          4,
          4,
          5,
          12,
          22,
          41
         ],
         "textposition": "inside",
         "texttemplate": "%{text:.2s}",
         "type": "bar",
         "x": [
          1,
          1,
          1,
          1,
          1,
          1,
          1,
          2,
          2,
          2,
          2,
          3,
          4,
          4,
          5,
          12,
          22,
          41
         ],
         "xaxis": "x",
         "y": [
          "Oklahoma",
          "Oklahoma",
          "Oklahoma",
          "Oklahoma",
          "Oklahoma",
          "Oklahoma",
          "Oklahoma",
          "Oklahoma",
          "Oklahoma",
          "Oklahoma",
          "Oklahoma",
          "Oklahoma",
          "Oklahoma",
          "Oklahoma",
          "Oklahoma",
          "Oklahoma",
          "Oklahoma",
          "Oklahoma"
         ],
         "yaxis": "y"
        },
        {
         "alignmentgroup": "True",
         "customdata": [
          [
           1,
           0
          ],
          [
           1,
           0
          ],
          [
           1,
           0
          ],
          [
           1,
           0
          ],
          [
           1,
           0
          ],
          [
           1,
           0
          ],
          [
           1,
           0
          ],
          [
           2,
           0
          ],
          [
           3,
           0
          ],
          [
           3,
           0
          ],
          [
           4,
           0
          ],
          [
           4,
           1
          ],
          [
           6,
           0
          ],
          [
           10,
           0
          ],
          [
           17,
           1
          ],
          [
           21,
           1
          ],
          [
           25,
           2
          ],
          [
           32,
           1
          ],
          [
           76,
           2
          ]
         ],
         "hoverlabel": {
          "namelength": 0
         },
         "hovertemplate": "<b>%{hovertext}</b><br><br>State=%{y}<br>Confirmed=%{text}<br>Deaths=%{customdata[1]}",
         "hovertext": [
          "Clatsop",
          "Douglas",
          "Grant",
          "Hood River",
          "Josephine",
          "Klamath",
          "Union",
          "Umatilla",
          "Jackson",
          "Polk",
          "Benton",
          "Lane",
          "Yamhill",
          "Deschutes",
          "Clackamas",
          "Linn",
          "Multnomah",
          "Marion",
          "Washington"
         ],
         "legendgroup": "Oregon",
         "marker": {
          "color": "#B6E880"
         },
         "name": "Oregon",
         "offsetgroup": "Oregon",
         "orientation": "h",
         "showlegend": true,
         "text": [
          1,
          1,
          1,
          1,
          1,
          1,
          1,
          2,
          3,
          3,
          4,
          4,
          6,
          10,
          17,
          21,
          25,
          32,
          76
         ],
         "textposition": "inside",
         "texttemplate": "%{text:.2s}",
         "type": "bar",
         "x": [
          1,
          1,
          1,
          1,
          1,
          1,
          1,
          2,
          3,
          3,
          4,
          4,
          6,
          10,
          17,
          21,
          25,
          32,
          76
         ],
         "xaxis": "x",
         "y": [
          "Oregon",
          "Oregon",
          "Oregon",
          "Oregon",
          "Oregon",
          "Oregon",
          "Oregon",
          "Oregon",
          "Oregon",
          "Oregon",
          "Oregon",
          "Oregon",
          "Oregon",
          "Oregon",
          "Oregon",
          "Oregon",
          "Oregon",
          "Oregon",
          "Oregon"
         ],
         "yaxis": "y"
        },
        {
         "alignmentgroup": "True",
         "customdata": [
          [
           1,
           0
          ],
          [
           1,
           0
          ],
          [
           1,
           0
          ],
          [
           1,
           0
          ],
          [
           1,
           0
          ],
          [
           1,
           0
          ],
          [
           1,
           0
          ],
          [
           1,
           0
          ],
          [
           1,
           0
          ],
          [
           2,
           0
          ],
          [
           2,
           0
          ],
          [
           3,
           0
          ],
          [
           3,
           0
          ],
          [
           3,
           0
          ],
          [
           3,
           0
          ],
          [
           4,
           0
          ],
          [
           4,
           0
          ],
          [
           4,
           0
          ],
          [
           5,
           0
          ],
          [
           5,
           0
          ],
          [
           6,
           0
          ],
          [
           6,
           0
          ],
          [
           7,
           0
          ],
          [
           9,
           0
          ],
          [
           10,
           0
          ],
          [
           11,
           0
          ],
          [
           13,
           0
          ],
          [
           15,
           1
          ],
          [
           16,
           0
          ],
          [
           18,
           0
          ],
          [
           21,
           0
          ],
          [
           27,
           1
          ],
          [
           33,
           2
          ],
          [
           40,
           0
          ],
          [
           45,
           1
          ],
          [
           58,
           2
          ],
          [
           69,
           0
          ],
          [
           84,
           0
          ],
          [
           159,
           1
          ],
          [
           252,
           0
          ]
         ],
         "hoverlabel": {
          "namelength": 0
         },
         "hovertemplate": "<b>%{hovertext}</b><br><br>State=%{y}<br>Confirmed=%{text}<br>Deaths=%{customdata[1]}",
         "hovertext": [
          "Armstrong",
          "Bradford",
          "Cambria",
          "Carbon",
          "Clearfield",
          "Columbia",
          "Juniata",
          "Potter",
          "Somerset",
          "Fayette",
          "Mercer",
          "Beaver",
          "Franklin",
          "Lebanon",
          "Montour",
          "Dauphin",
          "Pike",
          "Wayne",
          "Erie",
          "Schuylkill",
          "Adams",
          "Butler",
          "Centre",
          "Washington",
          "Lancaster",
          "Westmoreland",
          "Cumberland",
          "Lackawanna",
          "Berks",
          "York",
          "Luzerne",
          "Lehigh",
          "Northampton",
          "Chester",
          "Monroe",
          "Allegheny",
          "Bucks",
          "Delaware",
          "Montgomery",
          "Philadelphia"
         ],
         "legendgroup": "Pennsylvania",
         "marker": {
          "color": "#FF97FF"
         },
         "name": "Pennsylvania",
         "offsetgroup": "Pennsylvania",
         "orientation": "h",
         "showlegend": true,
         "text": [
          1,
          1,
          1,
          1,
          1,
          1,
          1,
          1,
          1,
          2,
          2,
          3,
          3,
          3,
          3,
          4,
          4,
          4,
          5,
          5,
          6,
          6,
          7,
          9,
          10,
          11,
          13,
          15,
          16,
          18,
          21,
          27,
          33,
          40,
          45,
          58,
          69,
          84,
          159,
          252
         ],
         "textposition": "inside",
         "texttemplate": "%{text:.2s}",
         "type": "bar",
         "x": [
          1,
          1,
          1,
          1,
          1,
          1,
          1,
          1,
          1,
          2,
          2,
          3,
          3,
          3,
          3,
          4,
          4,
          4,
          5,
          5,
          6,
          6,
          7,
          9,
          10,
          11,
          13,
          15,
          16,
          18,
          21,
          27,
          33,
          40,
          45,
          58,
          69,
          84,
          159,
          252
         ],
         "xaxis": "x",
         "y": [
          "Pennsylvania",
          "Pennsylvania",
          "Pennsylvania",
          "Pennsylvania",
          "Pennsylvania",
          "Pennsylvania",
          "Pennsylvania",
          "Pennsylvania",
          "Pennsylvania",
          "Pennsylvania",
          "Pennsylvania",
          "Pennsylvania",
          "Pennsylvania",
          "Pennsylvania",
          "Pennsylvania",
          "Pennsylvania",
          "Pennsylvania",
          "Pennsylvania",
          "Pennsylvania",
          "Pennsylvania",
          "Pennsylvania",
          "Pennsylvania",
          "Pennsylvania",
          "Pennsylvania",
          "Pennsylvania",
          "Pennsylvania",
          "Pennsylvania",
          "Pennsylvania",
          "Pennsylvania",
          "Pennsylvania",
          "Pennsylvania",
          "Pennsylvania",
          "Pennsylvania",
          "Pennsylvania",
          "Pennsylvania",
          "Pennsylvania",
          "Pennsylvania",
          "Pennsylvania",
          "Pennsylvania",
          "Pennsylvania"
         ],
         "yaxis": "y"
        },
        {
         "alignmentgroup": "True",
         "customdata": [
          [
           7,
           0
          ],
          [
           9,
           0
          ],
          [
           9,
           0
          ],
          [
           23,
           0
          ],
          [
           24,
           0
          ],
          [
           52,
           0
          ]
         ],
         "hoverlabel": {
          "namelength": 0
         },
         "hovertemplate": "<b>%{hovertext}</b><br><br>State=%{y}<br>Confirmed=%{text}<br>Deaths=%{customdata[1]}",
         "hovertext": [
          "Kent",
          "Newport",
          "Washington",
          "Unassigned",
          "Bristol",
          "Providence"
         ],
         "legendgroup": "Rhode Island",
         "marker": {
          "color": "#FECB52"
         },
         "name": "Rhode Island",
         "offsetgroup": "Rhode Island",
         "orientation": "h",
         "showlegend": true,
         "text": [
          7,
          9,
          9,
          23,
          24,
          52
         ],
         "textposition": "inside",
         "texttemplate": "%{text:.2s}",
         "type": "bar",
         "x": [
          7,
          9,
          9,
          23,
          24,
          52
         ],
         "xaxis": "x",
         "y": [
          "Rhode Island",
          "Rhode Island",
          "Rhode Island",
          "Rhode Island",
          "Rhode Island",
          "Rhode Island"
         ],
         "yaxis": "y"
        },
        {
         "alignmentgroup": "True",
         "customdata": [
          [
           1,
           0
          ],
          [
           1,
           0
          ],
          [
           1,
           0
          ],
          [
           1,
           0
          ],
          [
           1,
           0
          ],
          [
           1,
           0
          ],
          [
           1,
           0
          ],
          [
           1,
           0
          ],
          [
           1,
           0
          ],
          [
           1,
           0
          ],
          [
           1,
           0
          ],
          [
           2,
           0
          ],
          [
           2,
           0
          ],
          [
           2,
           0
          ],
          [
           2,
           0
          ],
          [
           2,
           0
          ],
          [
           2,
           0
          ],
          [
           2,
           0
          ],
          [
           3,
           0
          ],
          [
           4,
           0
          ],
          [
           4,
           0
          ],
          [
           5,
           1
          ],
          [
           5,
           1
          ],
          [
           7,
           0
          ],
          [
           8,
           0
          ],
          [
           8,
           0
          ],
          [
           8,
           0
          ],
          [
           11,
           0
          ],
          [
           16,
           0
          ],
          [
           19,
           0
          ],
          [
           19,
           1
          ],
          [
           22,
           0
          ],
          [
           36,
           1
          ],
          [
           39,
           0
          ],
          [
           45,
           0
          ],
          [
           58,
           1
          ]
         ],
         "hoverlabel": {
          "namelength": 0
         },
         "hovertemplate": "<b>%{hovertext}</b><br><br>State=%{y}<br>Confirmed=%{text}<br>Deaths=%{customdata[1]}",
         "hovertext": [
          "Abbeville",
          "Calhoun",
          "Chester",
          "Chesterfield",
          "Colleton",
          "Dillon",
          "Edgefield",
          "Marlboro",
          "Newberry",
          "Pickens",
          "Saluda",
          "Aiken",
          "Fairfield",
          "Georgetown",
          "Greenwood",
          "Jasper",
          "Lee",
          "Oconee",
          "Dorchester",
          "Berkeley",
          "Spartanburg",
          "Clarendon",
          "Florence",
          "Lancaster",
          "Darlington",
          "Orangeburg",
          "Sumter",
          "York",
          "Anderson",
          "Horry",
          "Lexington",
          "Beaufort",
          "Charleston",
          "Greenville",
          "Richland",
          "Kershaw"
         ],
         "legendgroup": "South Carolina",
         "marker": {
          "color": "#636efa"
         },
         "name": "South Carolina",
         "offsetgroup": "South Carolina",
         "orientation": "h",
         "showlegend": true,
         "text": [
          1,
          1,
          1,
          1,
          1,
          1,
          1,
          1,
          1,
          1,
          1,
          2,
          2,
          2,
          2,
          2,
          2,
          2,
          3,
          4,
          4,
          5,
          5,
          7,
          8,
          8,
          8,
          11,
          16,
          19,
          19,
          22,
          36,
          39,
          45,
          58
         ],
         "textposition": "inside",
         "texttemplate": "%{text:.2s}",
         "type": "bar",
         "x": [
          1,
          1,
          1,
          1,
          1,
          1,
          1,
          1,
          1,
          1,
          1,
          2,
          2,
          2,
          2,
          2,
          2,
          2,
          3,
          4,
          4,
          5,
          5,
          7,
          8,
          8,
          8,
          11,
          16,
          19,
          19,
          22,
          36,
          39,
          45,
          58
         ],
         "xaxis": "x",
         "y": [
          "South Carolina",
          "South Carolina",
          "South Carolina",
          "South Carolina",
          "South Carolina",
          "South Carolina",
          "South Carolina",
          "South Carolina",
          "South Carolina",
          "South Carolina",
          "South Carolina",
          "South Carolina",
          "South Carolina",
          "South Carolina",
          "South Carolina",
          "South Carolina",
          "South Carolina",
          "South Carolina",
          "South Carolina",
          "South Carolina",
          "South Carolina",
          "South Carolina",
          "South Carolina",
          "South Carolina",
          "South Carolina",
          "South Carolina",
          "South Carolina",
          "South Carolina",
          "South Carolina",
          "South Carolina",
          "South Carolina",
          "South Carolina",
          "South Carolina",
          "South Carolina",
          "South Carolina",
          "South Carolina"
         ],
         "yaxis": "y"
        },
        {
         "alignmentgroup": "True",
         "customdata": [
          [
           1,
           0
          ],
          [
           1,
           0
          ],
          [
           1,
           0
          ],
          [
           1,
           0
          ],
          [
           1,
           0
          ],
          [
           1,
           0
          ],
          [
           1,
           0
          ],
          [
           1,
           1
          ],
          [
           2,
           0
          ],
          [
           2,
           0
          ],
          [
           5,
           0
          ],
          [
           13,
           0
          ]
         ],
         "hoverlabel": {
          "namelength": 0
         },
         "hovertemplate": "<b>%{hovertext}</b><br><br>State=%{y}<br>Confirmed=%{text}<br>Deaths=%{customdata[1]}",
         "hovertext": [
          "Bon Homme",
          "Brookings",
          "Brown",
          "Charles Mix",
          "Codington",
          "Hughes",
          "Lyman",
          "Pennington",
          "Davison",
          "McCook",
          "Minnehaha",
          "Beadle"
         ],
         "legendgroup": "South Dakota",
         "marker": {
          "color": "#EF553B"
         },
         "name": "South Dakota",
         "offsetgroup": "South Dakota",
         "orientation": "h",
         "showlegend": true,
         "text": [
          1,
          1,
          1,
          1,
          1,
          1,
          1,
          1,
          2,
          2,
          5,
          13
         ],
         "textposition": "inside",
         "texttemplate": "%{text:.2s}",
         "type": "bar",
         "x": [
          1,
          1,
          1,
          1,
          1,
          1,
          1,
          1,
          2,
          2,
          5,
          13
         ],
         "xaxis": "x",
         "y": [
          "South Dakota",
          "South Dakota",
          "South Dakota",
          "South Dakota",
          "South Dakota",
          "South Dakota",
          "South Dakota",
          "South Dakota",
          "South Dakota",
          "South Dakota",
          "South Dakota",
          "South Dakota"
         ],
         "yaxis": "y"
        },
        {
         "alignmentgroup": "True",
         "customdata": [
          [
           1,
           0
          ],
          [
           1,
           0
          ],
          [
           1,
           0
          ],
          [
           1,
           0
          ],
          [
           1,
           0
          ],
          [
           1,
           0
          ],
          [
           1,
           0
          ],
          [
           1,
           0
          ],
          [
           1,
           0
          ],
          [
           1,
           0
          ],
          [
           1,
           0
          ],
          [
           1,
           0
          ],
          [
           1,
           0
          ],
          [
           1,
           0
          ],
          [
           1,
           0
          ],
          [
           2,
           0
          ],
          [
           2,
           0
          ],
          [
           2,
           0
          ],
          [
           2,
           0
          ],
          [
           2,
           0
          ],
          [
           2,
           0
          ],
          [
           2,
           0
          ],
          [
           2,
           0
          ],
          [
           2,
           0
          ],
          [
           2,
           0
          ],
          [
           2,
           0
          ],
          [
           3,
           0
          ],
          [
           3,
           0
          ],
          [
           3,
           0
          ],
          [
           4,
           0
          ],
          [
           5,
           0
          ],
          [
           5,
           0
          ],
          [
           5,
           0
          ],
          [
           6,
           0
          ],
          [
           6,
           0
          ],
          [
           6,
           0
          ],
          [
           7,
           0
          ],
          [
           7,
           0
          ],
          [
           8,
           0
          ],
          [
           8,
           0
          ],
          [
           12,
           0
          ],
          [
           13,
           0
          ],
          [
           15,
           0
          ],
          [
           34,
           0
          ],
          [
           38,
           0
          ],
          [
           64,
           0
          ],
          [
           95,
           0
          ],
          [
           135,
           0
          ],
          [
           253,
           2
          ]
         ],
         "hoverlabel": {
          "namelength": 0
         },
         "hovertemplate": "<b>%{hovertext}</b><br><br>State=%{y}<br>Confirmed=%{text}<br>Deaths=%{customdata[1]}",
         "hovertext": [
          "Anderson",
          "Chester",
          "Claiborne",
          "Cocke",
          "Franklin",
          "Grundy",
          "Hardin",
          "Houston",
          "Lincoln",
          "Madison",
          "Marion",
          "Overton",
          "Perry",
          "Roane",
          "Scott",
          "Bradley",
          "Campbell",
          "Dyer",
          "Fayette",
          "Gibson",
          "Hamblen",
          "Loudon",
          "McMinn",
          "Monroe",
          "Sevier",
          "Sullivan",
          "Blount",
          "Carroll",
          "Cumberland",
          "Jefferson",
          "Cheatham",
          "Dickson",
          "Greene",
          "Maury",
          "Montgomery",
          "Tipton",
          "Washington",
          "Wilson",
          "Hamilton",
          "Putnam",
          "Robertson",
          "Rutherford",
          "Knox",
          "Sumner",
          "Unassigned",
          "Williamson",
          "Out of TN",
          "Shelby",
          "Davidson"
         ],
         "legendgroup": "Tennessee",
         "marker": {
          "color": "#00cc96"
         },
         "name": "Tennessee",
         "offsetgroup": "Tennessee",
         "orientation": "h",
         "showlegend": true,
         "text": [
          1,
          1,
          1,
          1,
          1,
          1,
          1,
          1,
          1,
          1,
          1,
          1,
          1,
          1,
          1,
          2,
          2,
          2,
          2,
          2,
          2,
          2,
          2,
          2,
          2,
          2,
          3,
          3,
          3,
          4,
          5,
          5,
          5,
          6,
          6,
          6,
          7,
          7,
          8,
          8,
          12,
          13,
          15,
          34,
          38,
          64,
          95,
          135,
          253
         ],
         "textposition": "inside",
         "texttemplate": "%{text:.2s}",
         "type": "bar",
         "x": [
          1,
          1,
          1,
          1,
          1,
          1,
          1,
          1,
          1,
          1,
          1,
          1,
          1,
          1,
          1,
          2,
          2,
          2,
          2,
          2,
          2,
          2,
          2,
          2,
          2,
          2,
          3,
          3,
          3,
          4,
          5,
          5,
          5,
          6,
          6,
          6,
          7,
          7,
          8,
          8,
          12,
          13,
          15,
          34,
          38,
          64,
          95,
          135,
          253
         ],
         "xaxis": "x",
         "y": [
          "Tennessee",
          "Tennessee",
          "Tennessee",
          "Tennessee",
          "Tennessee",
          "Tennessee",
          "Tennessee",
          "Tennessee",
          "Tennessee",
          "Tennessee",
          "Tennessee",
          "Tennessee",
          "Tennessee",
          "Tennessee",
          "Tennessee",
          "Tennessee",
          "Tennessee",
          "Tennessee",
          "Tennessee",
          "Tennessee",
          "Tennessee",
          "Tennessee",
          "Tennessee",
          "Tennessee",
          "Tennessee",
          "Tennessee",
          "Tennessee",
          "Tennessee",
          "Tennessee",
          "Tennessee",
          "Tennessee",
          "Tennessee",
          "Tennessee",
          "Tennessee",
          "Tennessee",
          "Tennessee",
          "Tennessee",
          "Tennessee",
          "Tennessee",
          "Tennessee",
          "Tennessee",
          "Tennessee",
          "Tennessee",
          "Tennessee",
          "Tennessee",
          "Tennessee",
          "Tennessee",
          "Tennessee",
          "Tennessee"
         ],
         "yaxis": "y"
        },
        {
         "alignmentgroup": "True",
         "customdata": [
          [
           1,
           0
          ],
          [
           1,
           0
          ],
          [
           1,
           0
          ],
          [
           1,
           0
          ],
          [
           1,
           0
          ],
          [
           1,
           0
          ],
          [
           1,
           0
          ],
          [
           1,
           0
          ],
          [
           1,
           0
          ],
          [
           1,
           0
          ],
          [
           1,
           0
          ],
          [
           1,
           0
          ],
          [
           1,
           0
          ],
          [
           1,
           0
          ],
          [
           1,
           0
          ],
          [
           1,
           0
          ],
          [
           1,
           0
          ],
          [
           1,
           0
          ],
          [
           1,
           0
          ],
          [
           1,
           0
          ],
          [
           1,
           0
          ],
          [
           1,
           0
          ],
          [
           1,
           0
          ],
          [
           1,
           0
          ],
          [
           1,
           1
          ],
          [
           1,
           0
          ],
          [
           1,
           0
          ],
          [
           1,
           0
          ],
          [
           1,
           0
          ],
          [
           1,
           0
          ],
          [
           1,
           0
          ],
          [
           1,
           0
          ],
          [
           1,
           0
          ],
          [
           1,
           0
          ],
          [
           1,
           0
          ],
          [
           2,
           0
          ],
          [
           2,
           0
          ],
          [
           2,
           0
          ],
          [
           2,
           0
          ],
          [
           2,
           0
          ],
          [
           2,
           0
          ],
          [
           2,
           0
          ],
          [
           2,
           0
          ],
          [
           2,
           0
          ],
          [
           2,
           0
          ],
          [
           3,
           0
          ],
          [
           3,
           1
          ],
          [
           3,
           0
          ],
          [
           3,
           0
          ],
          [
           4,
           0
          ],
          [
           4,
           1
          ],
          [
           4,
           0
          ],
          [
           5,
           0
          ],
          [
           5,
           0
          ],
          [
           6,
           0
          ],
          [
           6,
           0
          ],
          [
           6,
           0
          ],
          [
           6,
           0
          ],
          [
           7,
           0
          ],
          [
           10,
           0
          ],
          [
           12,
           0
          ],
          [
           14,
           0
          ],
          [
           14,
           0
          ],
          [
           16,
           0
          ],
          [
           18,
           0
          ],
          [
           18,
           0
          ],
          [
           23,
           0
          ],
          [
           24,
           0
          ],
          [
           28,
           0
          ],
          [
           38,
           0
          ],
          [
           45,
           1
          ],
          [
           46,
           0
          ],
          [
           69,
           1
          ],
          [
           71,
           1
          ],
          [
           86,
           0
          ],
          [
           134,
           1
          ],
          [
           169,
           5
          ]
         ],
         "hoverlabel": {
          "namelength": 0
         },
         "hovertemplate": "<b>%{hovertext}</b><br><br>State=%{y}<br>Confirmed=%{text}<br>Deaths=%{customdata[1]}",
         "hovertext": [
          "Bastrop",
          "Blanco",
          "Bowie",
          "Burnet",
          "Chambers",
          "Crane",
          "DeWitt",
          "Deaf Smith",
          "Eastland",
          "Erath",
          "Falls",
          "Fannin",
          "Fayette",
          "Gaines",
          "Gregg",
          "Hopkins",
          "Hunt",
          "Kendall",
          "Lamar",
          "Lavaca",
          "Liberty",
          "Llano",
          "Maverick",
          "Medina",
          "Oldham",
          "Orange",
          "Parker",
          "Robertson",
          "Rusk",
          "Terry",
          "Tom Green",
          "Van Zandt",
          "Walker",
          "Waller",
          "Wharton",
          "Atascosa",
          "Brown",
          "Castro",
          "Grayson",
          "Grimes",
          "Hardin",
          "Hidalgo",
          "Johnson",
          "Milam",
          "Randall",
          "Hockley",
          "Midland",
          "Potter",
          "Victoria",
          "Guadalupe",
          "Matagorda",
          "Webb",
          "Comal",
          "Wichita",
          "Cameron",
          "Ellis",
          "Jefferson",
          "Nueces",
          "Hays",
          "El Paso",
          "Lubbock",
          "Smith",
          "Williamson",
          "Brazos",
          "Bell",
          "Galveston",
          "Montgomery",
          "McLennan",
          "Brazoria",
          "Denton",
          "Collin",
          "Fort Bend",
          "Bexar",
          "Tarrant",
          "Travis",
          "Harris",
          "Dallas"
         ],
         "legendgroup": "Texas",
         "marker": {
          "color": "#ab63fa"
         },
         "name": "Texas",
         "offsetgroup": "Texas",
         "orientation": "h",
         "showlegend": true,
         "text": [
          1,
          1,
          1,
          1,
          1,
          1,
          1,
          1,
          1,
          1,
          1,
          1,
          1,
          1,
          1,
          1,
          1,
          1,
          1,
          1,
          1,
          1,
          1,
          1,
          1,
          1,
          1,
          1,
          1,
          1,
          1,
          1,
          1,
          1,
          1,
          2,
          2,
          2,
          2,
          2,
          2,
          2,
          2,
          2,
          2,
          3,
          3,
          3,
          3,
          4,
          4,
          4,
          5,
          5,
          6,
          6,
          6,
          6,
          7,
          10,
          12,
          14,
          14,
          16,
          18,
          18,
          23,
          24,
          28,
          38,
          45,
          46,
          69,
          71,
          86,
          134,
          169
         ],
         "textposition": "inside",
         "texttemplate": "%{text:.2s}",
         "type": "bar",
         "x": [
          1,
          1,
          1,
          1,
          1,
          1,
          1,
          1,
          1,
          1,
          1,
          1,
          1,
          1,
          1,
          1,
          1,
          1,
          1,
          1,
          1,
          1,
          1,
          1,
          1,
          1,
          1,
          1,
          1,
          1,
          1,
          1,
          1,
          1,
          1,
          2,
          2,
          2,
          2,
          2,
          2,
          2,
          2,
          2,
          2,
          3,
          3,
          3,
          3,
          4,
          4,
          4,
          5,
          5,
          6,
          6,
          6,
          6,
          7,
          10,
          12,
          14,
          14,
          16,
          18,
          18,
          23,
          24,
          28,
          38,
          45,
          46,
          69,
          71,
          86,
          134,
          169
         ],
         "xaxis": "x",
         "y": [
          "Texas",
          "Texas",
          "Texas",
          "Texas",
          "Texas",
          "Texas",
          "Texas",
          "Texas",
          "Texas",
          "Texas",
          "Texas",
          "Texas",
          "Texas",
          "Texas",
          "Texas",
          "Texas",
          "Texas",
          "Texas",
          "Texas",
          "Texas",
          "Texas",
          "Texas",
          "Texas",
          "Texas",
          "Texas",
          "Texas",
          "Texas",
          "Texas",
          "Texas",
          "Texas",
          "Texas",
          "Texas",
          "Texas",
          "Texas",
          "Texas",
          "Texas",
          "Texas",
          "Texas",
          "Texas",
          "Texas",
          "Texas",
          "Texas",
          "Texas",
          "Texas",
          "Texas",
          "Texas",
          "Texas",
          "Texas",
          "Texas",
          "Texas",
          "Texas",
          "Texas",
          "Texas",
          "Texas",
          "Texas",
          "Texas",
          "Texas",
          "Texas",
          "Texas",
          "Texas",
          "Texas",
          "Texas",
          "Texas",
          "Texas",
          "Texas",
          "Texas",
          "Texas",
          "Texas",
          "Texas",
          "Texas",
          "Texas",
          "Texas",
          "Texas",
          "Texas",
          "Texas",
          "Texas",
          "Texas"
         ],
         "yaxis": "y"
        },
        {
         "alignmentgroup": "True",
         "customdata": [
          [
           1,
           0
          ],
          [
           2,
           0
          ],
          [
           3,
           0
          ],
          [
           5,
           0
          ],
          [
           9,
           0
          ],
          [
           13,
           0
          ],
          [
           13,
           0
          ],
          [
           15,
           0
          ],
          [
           31,
           1
          ],
          [
           82,
           0
          ],
          [
           124,
           0
          ]
         ],
         "hoverlabel": {
          "namelength": 0
         },
         "hovertemplate": "<b>%{hovertext}</b><br><br>State=%{y}<br>Confirmed=%{text}<br>Deaths=%{customdata[1]}",
         "hovertext": [
          "Box Elder",
          "Tooele",
          "Cache",
          "Washington",
          "Weber",
          "Out of UT",
          "Utah",
          "Wasatch",
          "Davis",
          "Summit",
          "Salt Lake"
         ],
         "legendgroup": "Utah",
         "marker": {
          "color": "#FFA15A"
         },
         "name": "Utah",
         "offsetgroup": "Utah",
         "orientation": "h",
         "showlegend": true,
         "text": [
          1,
          2,
          3,
          5,
          9,
          13,
          13,
          15,
          31,
          82,
          124
         ],
         "textposition": "inside",
         "texttemplate": "%{text:.2s}",
         "type": "bar",
         "x": [
          1,
          2,
          3,
          5,
          9,
          13,
          13,
          15,
          31,
          82,
          124
         ],
         "xaxis": "x",
         "y": [
          "Utah",
          "Utah",
          "Utah",
          "Utah",
          "Utah",
          "Utah",
          "Utah",
          "Utah",
          "Utah",
          "Utah",
          "Utah"
         ],
         "yaxis": "y"
        },
        {
         "alignmentgroup": "True",
         "customdata": [
          [
           1,
           0
          ],
          [
           2,
           0
          ],
          [
           2,
           0
          ],
          [
           2,
           0
          ],
          [
           3,
           0
          ],
          [
           3,
           0
          ],
          [
           5,
           0
          ],
          [
           5,
           0
          ],
          [
           8,
           0
          ],
          [
           9,
           0
          ],
          [
           15,
           1
          ],
          [
           40,
           4
          ]
         ],
         "hoverlabel": {
          "namelength": 0
         },
         "hovertemplate": "<b>%{hovertext}</b><br><br>State=%{y}<br>Confirmed=%{text}<br>Deaths=%{customdata[1]}",
         "hovertext": [
          "Caledonia",
          "Franklin",
          "Lamoille",
          "Orleans",
          "Orange",
          "Washington",
          "Rutland",
          "Windham",
          "Addison",
          "Bennington",
          "Windsor",
          "Chittenden"
         ],
         "legendgroup": "Vermont",
         "marker": {
          "color": "#19d3f3"
         },
         "name": "Vermont",
         "offsetgroup": "Vermont",
         "orientation": "h",
         "showlegend": true,
         "text": [
          1,
          2,
          2,
          2,
          3,
          3,
          5,
          5,
          8,
          9,
          15,
          40
         ],
         "textposition": "inside",
         "texttemplate": "%{text:.2s}",
         "type": "bar",
         "x": [
          1,
          2,
          2,
          2,
          3,
          3,
          5,
          5,
          8,
          9,
          15,
          40
         ],
         "xaxis": "x",
         "y": [
          "Vermont",
          "Vermont",
          "Vermont",
          "Vermont",
          "Vermont",
          "Vermont",
          "Vermont",
          "Vermont",
          "Vermont",
          "Vermont",
          "Vermont",
          "Vermont"
         ],
         "yaxis": "y"
        },
        {
         "alignmentgroup": "True",
         "customdata": [
          [
           1,
           0
          ],
          [
           1,
           0
          ],
          [
           1,
           0
          ],
          [
           1,
           0
          ],
          [
           1,
           0
          ],
          [
           1,
           0
          ],
          [
           1,
           0
          ],
          [
           1,
           0
          ],
          [
           1,
           0
          ],
          [
           1,
           0
          ],
          [
           1,
           0
          ],
          [
           1,
           0
          ],
          [
           1,
           0
          ],
          [
           1,
           0
          ],
          [
           1,
           0
          ],
          [
           1,
           0
          ],
          [
           1,
           0
          ],
          [
           1,
           0
          ],
          [
           2,
           0
          ],
          [
           2,
           0
          ],
          [
           2,
           0
          ],
          [
           2,
           0
          ],
          [
           2,
           0
          ],
          [
           2,
           0
          ],
          [
           2,
           0
          ],
          [
           2,
           0
          ],
          [
           3,
           0
          ],
          [
           3,
           1
          ],
          [
           3,
           0
          ],
          [
           5,
           0
          ],
          [
           5,
           1
          ],
          [
           6,
           0
          ],
          [
           6,
           1
          ],
          [
           8,
           0
          ],
          [
           8,
           0
          ],
          [
           10,
           0
          ],
          [
           11,
           0
          ],
          [
           14,
           2
          ],
          [
           17,
           1
          ],
          [
           18,
           0
          ],
          [
           23,
           0
          ],
          [
           36,
           0
          ],
          [
           37,
           2
          ],
          [
           46,
           1
          ]
         ],
         "hoverlabel": {
          "namelength": 0
         },
         "hovertemplate": "<b>%{hovertext}</b><br><br>State=%{y}<br>Confirmed=%{text}<br>Deaths=%{customdata[1]}",
         "hovertext": [
          "Accomack",
          "Amherst",
          "Bedford",
          "Botetourt",
          "Charles City",
          "Chesapeake",
          "Danville",
          "Fluvanna",
          "Franklin",
          "Halifax",
          "Hanover",
          "Harrisonburg",
          "Madison",
          "Nelson",
          "Orange",
          "Prince Edward",
          "Rockbridge",
          "Suffolk",
          "Albemarle",
          "Culpeper",
          "Gloucester",
          "Isle of Wight",
          "Lee",
          "Louisa",
          "Mecklenburg",
          "Spotsylvania",
          "Goochland",
          "Newport News",
          "Rockingham",
          "Charlottesville",
          "Williamsburg",
          "Stafford",
          "York",
          "Alexandria",
          "Norfolk",
          "Chesterfield",
          "Richmond City",
          "Henrico",
          "Virginia Beach",
          "Loudoun",
          "Prince William",
          "Arlington",
          "James City",
          "Fairfax"
         ],
         "legendgroup": "Virginia",
         "marker": {
          "color": "#FF6692"
         },
         "name": "Virginia",
         "offsetgroup": "Virginia",
         "orientation": "h",
         "showlegend": true,
         "text": [
          1,
          1,
          1,
          1,
          1,
          1,
          1,
          1,
          1,
          1,
          1,
          1,
          1,
          1,
          1,
          1,
          1,
          1,
          2,
          2,
          2,
          2,
          2,
          2,
          2,
          2,
          3,
          3,
          3,
          5,
          5,
          6,
          6,
          8,
          8,
          10,
          11,
          14,
          17,
          18,
          23,
          36,
          37,
          46
         ],
         "textposition": "inside",
         "texttemplate": "%{text:.2s}",
         "type": "bar",
         "x": [
          1,
          1,
          1,
          1,
          1,
          1,
          1,
          1,
          1,
          1,
          1,
          1,
          1,
          1,
          1,
          1,
          1,
          1,
          2,
          2,
          2,
          2,
          2,
          2,
          2,
          2,
          3,
          3,
          3,
          5,
          5,
          6,
          6,
          8,
          8,
          10,
          11,
          14,
          17,
          18,
          23,
          36,
          37,
          46
         ],
         "xaxis": "x",
         "y": [
          "Virginia",
          "Virginia",
          "Virginia",
          "Virginia",
          "Virginia",
          "Virginia",
          "Virginia",
          "Virginia",
          "Virginia",
          "Virginia",
          "Virginia",
          "Virginia",
          "Virginia",
          "Virginia",
          "Virginia",
          "Virginia",
          "Virginia",
          "Virginia",
          "Virginia",
          "Virginia",
          "Virginia",
          "Virginia",
          "Virginia",
          "Virginia",
          "Virginia",
          "Virginia",
          "Virginia",
          "Virginia",
          "Virginia",
          "Virginia",
          "Virginia",
          "Virginia",
          "Virginia",
          "Virginia",
          "Virginia",
          "Virginia",
          "Virginia",
          "Virginia",
          "Virginia",
          "Virginia",
          "Virginia",
          "Virginia",
          "Virginia",
          "Virginia"
         ],
         "yaxis": "y"
        },
        {
         "alignmentgroup": "True",
         "customdata": [
          [
           1,
           0
          ],
          [
           1,
           0
          ],
          [
           1,
           0
          ],
          [
           1,
           0
          ],
          [
           1,
           0
          ],
          [
           1,
           0
          ],
          [
           1,
           0
          ],
          [
           1,
           0
          ],
          [
           1,
           0
          ],
          [
           2,
           0
          ],
          [
           2,
           0
          ],
          [
           3,
           0
          ],
          [
           4,
           0
          ],
          [
           4,
           0
          ],
          [
           5,
           0
          ],
          [
           5,
           0
          ],
          [
           6,
           0
          ],
          [
           8,
           0
          ],
          [
           9,
           3
          ],
          [
           11,
           0
          ],
          [
           13,
           4
          ],
          [
           18,
           0
          ],
          [
           23,
           1
          ],
          [
           25,
           1
          ],
          [
           25,
           0
          ],
          [
           29,
           0
          ],
          [
           45,
           1
          ],
          [
           48,
           2
          ],
          [
           112,
           0
          ],
          [
           138,
           1
          ],
          [
           614,
           16
          ],
          [
           1170,
           87
          ]
         ],
         "hoverlabel": {
          "namelength": 0
         },
         "hovertemplate": "<b>%{hovertext}</b><br><br>State=%{y}<br>Confirmed=%{text}<br>Deaths=%{customdata[1]}",
         "hovertext": [
          "Adams",
          "Columbia",
          "Douglas",
          "Grays Harbor",
          "Lincoln",
          "Mason",
          "San Juan",
          "Stevens",
          "Walla Walla",
          "Lewis",
          "Whitman",
          "Cowlitz",
          "Clallam",
          "Klickitat",
          "Franklin",
          "Kittitas",
          "Chelan",
          "Jefferson",
          "Benton",
          "Thurston",
          "Clark",
          "Kitsap",
          "Grant",
          "Island",
          "Yakima",
          "Spokane",
          "Skagit",
          "Whatcom",
          "Unassigned",
          "Pierce",
          "Snohomish",
          "King"
         ],
         "legendgroup": "Washington",
         "marker": {
          "color": "#B6E880"
         },
         "name": "Washington",
         "offsetgroup": "Washington",
         "orientation": "h",
         "showlegend": true,
         "text": [
          1,
          1,
          1,
          1,
          1,
          1,
          1,
          1,
          1,
          2,
          2,
          3,
          4,
          4,
          5,
          5,
          6,
          8,
          9,
          11,
          13,
          18,
          23,
          25,
          25,
          29,
          45,
          48,
          112,
          138,
          614,
          1170
         ],
         "textposition": "inside",
         "texttemplate": "%{text:.2s}",
         "type": "bar",
         "x": [
          1,
          1,
          1,
          1,
          1,
          1,
          1,
          1,
          1,
          2,
          2,
          3,
          4,
          4,
          5,
          5,
          6,
          8,
          9,
          11,
          13,
          18,
          23,
          25,
          25,
          29,
          45,
          48,
          112,
          138,
          614,
          1170
         ],
         "xaxis": "x",
         "y": [
          "Washington",
          "Washington",
          "Washington",
          "Washington",
          "Washington",
          "Washington",
          "Washington",
          "Washington",
          "Washington",
          "Washington",
          "Washington",
          "Washington",
          "Washington",
          "Washington",
          "Washington",
          "Washington",
          "Washington",
          "Washington",
          "Washington",
          "Washington",
          "Washington",
          "Washington",
          "Washington",
          "Washington",
          "Washington",
          "Washington",
          "Washington",
          "Washington",
          "Washington",
          "Washington",
          "Washington",
          "Washington"
         ],
         "yaxis": "y"
        },
        {
         "alignmentgroup": "True",
         "customdata": [
          [
           1,
           0
          ],
          [
           1,
           0
          ],
          [
           2,
           0
          ],
          [
           2,
           0
          ],
          [
           2,
           0
          ],
          [
           2,
           0
          ],
          [
           3,
           0
          ],
          [
           4,
           0
          ],
          [
           5,
           0
          ]
         ],
         "hoverlabel": {
          "namelength": 0
         },
         "hovertemplate": "<b>%{hovertext}</b><br><br>State=%{y}<br>Confirmed=%{text}<br>Deaths=%{customdata[1]}",
         "hovertext": [
          "Jackson",
          "Putnam",
          "Harrison",
          "Marshall",
          "Mercer",
          "Tucker",
          "Jefferson",
          "Kanawha",
          "Monongalia"
         ],
         "legendgroup": "West Virginia",
         "marker": {
          "color": "#FF97FF"
         },
         "name": "West Virginia",
         "offsetgroup": "West Virginia",
         "orientation": "h",
         "showlegend": true,
         "text": [
          1,
          1,
          2,
          2,
          2,
          2,
          3,
          4,
          5
         ],
         "textposition": "inside",
         "texttemplate": "%{text:.2s}",
         "type": "bar",
         "x": [
          1,
          1,
          2,
          2,
          2,
          2,
          3,
          4,
          5
         ],
         "xaxis": "x",
         "y": [
          "West Virginia",
          "West Virginia",
          "West Virginia",
          "West Virginia",
          "West Virginia",
          "West Virginia",
          "West Virginia",
          "West Virginia",
          "West Virginia"
         ],
         "yaxis": "y"
        },
        {
         "alignmentgroup": "True",
         "customdata": [
          [
           1,
           0
          ],
          [
           1,
           0
          ],
          [
           1,
           0
          ],
          [
           1,
           0
          ],
          [
           1,
           0
          ],
          [
           1,
           0
          ],
          [
           1,
           0
          ],
          [
           1,
           0
          ],
          [
           2,
           0
          ],
          [
           2,
           0
          ],
          [
           3,
           0
          ],
          [
           3,
           0
          ],
          [
           3,
           0
          ],
          [
           4,
           0
          ],
          [
           4,
           0
          ],
          [
           4,
           0
          ],
          [
           4,
           0
          ],
          [
           4,
           0
          ],
          [
           4,
           0
          ],
          [
           5,
           0
          ],
          [
           5,
           0
          ],
          [
           5,
           0
          ],
          [
           5,
           0
          ],
          [
           6,
           0
          ],
          [
           13,
           0
          ],
          [
           16,
           1
          ],
          [
           17,
           0
          ],
          [
           18,
           1
          ],
          [
           31,
           0
          ],
          [
           72,
           0
          ],
          [
           243,
           3
          ]
         ],
         "hoverlabel": {
          "namelength": 0
         },
         "hovertemplate": "<b>%{hovertext}</b><br><br>State=%{y}<br>Confirmed=%{text}<br>Deaths=%{customdata[1]}",
         "hovertext": [
          "Bayfield",
          "Calumet",
          "Chippewa",
          "Dunn",
          "Green",
          "Iowa",
          "Marathon",
          "Wood",
          "Dodge",
          "Outagamie",
          "Brown",
          "Pierce",
          "Rock",
          "Douglas",
          "Eau Claire",
          "Jefferson",
          "Sauk",
          "St. Croix",
          "Walworth",
          "Columbia",
          "La Crosse",
          "Racine",
          "Winnebago",
          "Sheboygan",
          "Kenosha",
          "Ozaukee",
          "Washington",
          "Fond du Lac",
          "Waukesha",
          "Dane",
          "Milwaukee"
         ],
         "legendgroup": "Wisconsin",
         "marker": {
          "color": "#FECB52"
         },
         "name": "Wisconsin",
         "offsetgroup": "Wisconsin",
         "orientation": "h",
         "showlegend": true,
         "text": [
          1,
          1,
          1,
          1,
          1,
          1,
          1,
          1,
          2,
          2,
          3,
          3,
          3,
          4,
          4,
          4,
          4,
          4,
          4,
          5,
          5,
          5,
          5,
          6,
          13,
          16,
          17,
          18,
          31,
          72,
          243
         ],
         "textposition": "inside",
         "texttemplate": "%{text:.2s}",
         "type": "bar",
         "x": [
          1,
          1,
          1,
          1,
          1,
          1,
          1,
          1,
          2,
          2,
          3,
          3,
          3,
          4,
          4,
          4,
          4,
          4,
          4,
          5,
          5,
          5,
          5,
          6,
          13,
          16,
          17,
          18,
          31,
          72,
          243
         ],
         "xaxis": "x",
         "y": [
          "Wisconsin",
          "Wisconsin",
          "Wisconsin",
          "Wisconsin",
          "Wisconsin",
          "Wisconsin",
          "Wisconsin",
          "Wisconsin",
          "Wisconsin",
          "Wisconsin",
          "Wisconsin",
          "Wisconsin",
          "Wisconsin",
          "Wisconsin",
          "Wisconsin",
          "Wisconsin",
          "Wisconsin",
          "Wisconsin",
          "Wisconsin",
          "Wisconsin",
          "Wisconsin",
          "Wisconsin",
          "Wisconsin",
          "Wisconsin",
          "Wisconsin",
          "Wisconsin",
          "Wisconsin",
          "Wisconsin",
          "Wisconsin",
          "Wisconsin",
          "Wisconsin"
         ],
         "yaxis": "y"
        },
        {
         "alignmentgroup": "True",
         "customdata": [
          [
           1,
           0
          ],
          [
           1,
           0
          ],
          [
           2,
           0
          ],
          [
           2,
           0
          ],
          [
           2,
           0
          ],
          [
           4,
           0
          ],
          [
           7,
           0
          ],
          [
           10,
           0
          ]
         ],
         "hoverlabel": {
          "namelength": 0
         },
         "hovertemplate": "<b>%{hovertext}</b><br><br>State=%{y}<br>Confirmed=%{text}<br>Deaths=%{customdata[1]}",
         "hovertext": [
          "Campbell",
          "Park",
          "Carbon",
          "Natrona",
          "Teton",
          "Sheridan",
          "Laramie",
          "Fremont"
         ],
         "legendgroup": "Wyoming",
         "marker": {
          "color": "#636efa"
         },
         "name": "Wyoming",
         "offsetgroup": "Wyoming",
         "orientation": "h",
         "showlegend": true,
         "text": [
          1,
          1,
          2,
          2,
          2,
          4,
          7,
          10
         ],
         "textposition": "inside",
         "texttemplate": "%{text:.2s}",
         "type": "bar",
         "x": [
          1,
          1,
          2,
          2,
          2,
          4,
          7,
          10
         ],
         "xaxis": "x",
         "y": [
          "Wyoming",
          "Wyoming",
          "Wyoming",
          "Wyoming",
          "Wyoming",
          "Wyoming",
          "Wyoming",
          "Wyoming"
         ],
         "yaxis": "y"
        }
       ],
       "layout": {
        "autosize": true,
        "barmode": "relative",
        "font": {
         "color": "#7f7f7f",
         "size": 16
        },
        "legend": {
         "title": {
          "text": "State"
         },
         "tracegroupgap": 0
        },
        "margin": {
         "t": 60
        },
        "showlegend": false,
        "template": {
         "data": {
          "bar": [
           {
            "error_x": {
             "color": "#2a3f5f"
            },
            "error_y": {
             "color": "#2a3f5f"
            },
            "marker": {
             "line": {
              "color": "#E5ECF6",
              "width": 0.5
             }
            },
            "type": "bar"
           }
          ],
          "barpolar": [
           {
            "marker": {
             "line": {
              "color": "#E5ECF6",
              "width": 0.5
             }
            },
            "type": "barpolar"
           }
          ],
          "carpet": [
           {
            "aaxis": {
             "endlinecolor": "#2a3f5f",
             "gridcolor": "white",
             "linecolor": "white",
             "minorgridcolor": "white",
             "startlinecolor": "#2a3f5f"
            },
            "baxis": {
             "endlinecolor": "#2a3f5f",
             "gridcolor": "white",
             "linecolor": "white",
             "minorgridcolor": "white",
             "startlinecolor": "#2a3f5f"
            },
            "type": "carpet"
           }
          ],
          "choropleth": [
           {
            "colorbar": {
             "outlinewidth": 0,
             "ticks": ""
            },
            "type": "choropleth"
           }
          ],
          "contour": [
           {
            "colorbar": {
             "outlinewidth": 0,
             "ticks": ""
            },
            "colorscale": [
             [
              0,
              "#0d0887"
             ],
             [
              0.1111111111111111,
              "#46039f"
             ],
             [
              0.2222222222222222,
              "#7201a8"
             ],
             [
              0.3333333333333333,
              "#9c179e"
             ],
             [
              0.4444444444444444,
              "#bd3786"
             ],
             [
              0.5555555555555556,
              "#d8576b"
             ],
             [
              0.6666666666666666,
              "#ed7953"
             ],
             [
              0.7777777777777778,
              "#fb9f3a"
             ],
             [
              0.8888888888888888,
              "#fdca26"
             ],
             [
              1,
              "#f0f921"
             ]
            ],
            "type": "contour"
           }
          ],
          "contourcarpet": [
           {
            "colorbar": {
             "outlinewidth": 0,
             "ticks": ""
            },
            "type": "contourcarpet"
           }
          ],
          "heatmap": [
           {
            "colorbar": {
             "outlinewidth": 0,
             "ticks": ""
            },
            "colorscale": [
             [
              0,
              "#0d0887"
             ],
             [
              0.1111111111111111,
              "#46039f"
             ],
             [
              0.2222222222222222,
              "#7201a8"
             ],
             [
              0.3333333333333333,
              "#9c179e"
             ],
             [
              0.4444444444444444,
              "#bd3786"
             ],
             [
              0.5555555555555556,
              "#d8576b"
             ],
             [
              0.6666666666666666,
              "#ed7953"
             ],
             [
              0.7777777777777778,
              "#fb9f3a"
             ],
             [
              0.8888888888888888,
              "#fdca26"
             ],
             [
              1,
              "#f0f921"
             ]
            ],
            "type": "heatmap"
           }
          ],
          "heatmapgl": [
           {
            "colorbar": {
             "outlinewidth": 0,
             "ticks": ""
            },
            "colorscale": [
             [
              0,
              "#0d0887"
             ],
             [
              0.1111111111111111,
              "#46039f"
             ],
             [
              0.2222222222222222,
              "#7201a8"
             ],
             [
              0.3333333333333333,
              "#9c179e"
             ],
             [
              0.4444444444444444,
              "#bd3786"
             ],
             [
              0.5555555555555556,
              "#d8576b"
             ],
             [
              0.6666666666666666,
              "#ed7953"
             ],
             [
              0.7777777777777778,
              "#fb9f3a"
             ],
             [
              0.8888888888888888,
              "#fdca26"
             ],
             [
              1,
              "#f0f921"
             ]
            ],
            "type": "heatmapgl"
           }
          ],
          "histogram": [
           {
            "marker": {
             "colorbar": {
              "outlinewidth": 0,
              "ticks": ""
             }
            },
            "type": "histogram"
           }
          ],
          "histogram2d": [
           {
            "colorbar": {
             "outlinewidth": 0,
             "ticks": ""
            },
            "colorscale": [
             [
              0,
              "#0d0887"
             ],
             [
              0.1111111111111111,
              "#46039f"
             ],
             [
              0.2222222222222222,
              "#7201a8"
             ],
             [
              0.3333333333333333,
              "#9c179e"
             ],
             [
              0.4444444444444444,
              "#bd3786"
             ],
             [
              0.5555555555555556,
              "#d8576b"
             ],
             [
              0.6666666666666666,
              "#ed7953"
             ],
             [
              0.7777777777777778,
              "#fb9f3a"
             ],
             [
              0.8888888888888888,
              "#fdca26"
             ],
             [
              1,
              "#f0f921"
             ]
            ],
            "type": "histogram2d"
           }
          ],
          "histogram2dcontour": [
           {
            "colorbar": {
             "outlinewidth": 0,
             "ticks": ""
            },
            "colorscale": [
             [
              0,
              "#0d0887"
             ],
             [
              0.1111111111111111,
              "#46039f"
             ],
             [
              0.2222222222222222,
              "#7201a8"
             ],
             [
              0.3333333333333333,
              "#9c179e"
             ],
             [
              0.4444444444444444,
              "#bd3786"
             ],
             [
              0.5555555555555556,
              "#d8576b"
             ],
             [
              0.6666666666666666,
              "#ed7953"
             ],
             [
              0.7777777777777778,
              "#fb9f3a"
             ],
             [
              0.8888888888888888,
              "#fdca26"
             ],
             [
              1,
              "#f0f921"
             ]
            ],
            "type": "histogram2dcontour"
           }
          ],
          "mesh3d": [
           {
            "colorbar": {
             "outlinewidth": 0,
             "ticks": ""
            },
            "type": "mesh3d"
           }
          ],
          "parcoords": [
           {
            "line": {
             "colorbar": {
              "outlinewidth": 0,
              "ticks": ""
             }
            },
            "type": "parcoords"
           }
          ],
          "pie": [
           {
            "automargin": true,
            "type": "pie"
           }
          ],
          "scatter": [
           {
            "marker": {
             "colorbar": {
              "outlinewidth": 0,
              "ticks": ""
             }
            },
            "type": "scatter"
           }
          ],
          "scatter3d": [
           {
            "line": {
             "colorbar": {
              "outlinewidth": 0,
              "ticks": ""
             }
            },
            "marker": {
             "colorbar": {
              "outlinewidth": 0,
              "ticks": ""
             }
            },
            "type": "scatter3d"
           }
          ],
          "scattercarpet": [
           {
            "marker": {
             "colorbar": {
              "outlinewidth": 0,
              "ticks": ""
             }
            },
            "type": "scattercarpet"
           }
          ],
          "scattergeo": [
           {
            "marker": {
             "colorbar": {
              "outlinewidth": 0,
              "ticks": ""
             }
            },
            "type": "scattergeo"
           }
          ],
          "scattergl": [
           {
            "marker": {
             "colorbar": {
              "outlinewidth": 0,
              "ticks": ""
             }
            },
            "type": "scattergl"
           }
          ],
          "scattermapbox": [
           {
            "marker": {
             "colorbar": {
              "outlinewidth": 0,
              "ticks": ""
             }
            },
            "type": "scattermapbox"
           }
          ],
          "scatterpolar": [
           {
            "marker": {
             "colorbar": {
              "outlinewidth": 0,
              "ticks": ""
             }
            },
            "type": "scatterpolar"
           }
          ],
          "scatterpolargl": [
           {
            "marker": {
             "colorbar": {
              "outlinewidth": 0,
              "ticks": ""
             }
            },
            "type": "scatterpolargl"
           }
          ],
          "scatterternary": [
           {
            "marker": {
             "colorbar": {
              "outlinewidth": 0,
              "ticks": ""
             }
            },
            "type": "scatterternary"
           }
          ],
          "surface": [
           {
            "colorbar": {
             "outlinewidth": 0,
             "ticks": ""
            },
            "colorscale": [
             [
              0,
              "#0d0887"
             ],
             [
              0.1111111111111111,
              "#46039f"
             ],
             [
              0.2222222222222222,
              "#7201a8"
             ],
             [
              0.3333333333333333,
              "#9c179e"
             ],
             [
              0.4444444444444444,
              "#bd3786"
             ],
             [
              0.5555555555555556,
              "#d8576b"
             ],
             [
              0.6666666666666666,
              "#ed7953"
             ],
             [
              0.7777777777777778,
              "#fb9f3a"
             ],
             [
              0.8888888888888888,
              "#fdca26"
             ],
             [
              1,
              "#f0f921"
             ]
            ],
            "type": "surface"
           }
          ],
          "table": [
           {
            "cells": {
             "fill": {
              "color": "#EBF0F8"
             },
             "line": {
              "color": "white"
             }
            },
            "header": {
             "fill": {
              "color": "#C8D4E3"
             },
             "line": {
              "color": "white"
             }
            },
            "type": "table"
           }
          ]
         },
         "layout": {
          "annotationdefaults": {
           "arrowcolor": "#2a3f5f",
           "arrowhead": 0,
           "arrowwidth": 1
          },
          "coloraxis": {
           "colorbar": {
            "outlinewidth": 0,
            "ticks": ""
           }
          },
          "colorscale": {
           "diverging": [
            [
             0,
             "#8e0152"
            ],
            [
             0.1,
             "#c51b7d"
            ],
            [
             0.2,
             "#de77ae"
            ],
            [
             0.3,
             "#f1b6da"
            ],
            [
             0.4,
             "#fde0ef"
            ],
            [
             0.5,
             "#f7f7f7"
            ],
            [
             0.6,
             "#e6f5d0"
            ],
            [
             0.7,
             "#b8e186"
            ],
            [
             0.8,
             "#7fbc41"
            ],
            [
             0.9,
             "#4d9221"
            ],
            [
             1,
             "#276419"
            ]
           ],
           "sequential": [
            [
             0,
             "#0d0887"
            ],
            [
             0.1111111111111111,
             "#46039f"
            ],
            [
             0.2222222222222222,
             "#7201a8"
            ],
            [
             0.3333333333333333,
             "#9c179e"
            ],
            [
             0.4444444444444444,
             "#bd3786"
            ],
            [
             0.5555555555555556,
             "#d8576b"
            ],
            [
             0.6666666666666666,
             "#ed7953"
            ],
            [
             0.7777777777777778,
             "#fb9f3a"
            ],
            [
             0.8888888888888888,
             "#fdca26"
            ],
            [
             1,
             "#f0f921"
            ]
           ],
           "sequentialminus": [
            [
             0,
             "#0d0887"
            ],
            [
             0.1111111111111111,
             "#46039f"
            ],
            [
             0.2222222222222222,
             "#7201a8"
            ],
            [
             0.3333333333333333,
             "#9c179e"
            ],
            [
             0.4444444444444444,
             "#bd3786"
            ],
            [
             0.5555555555555556,
             "#d8576b"
            ],
            [
             0.6666666666666666,
             "#ed7953"
            ],
            [
             0.7777777777777778,
             "#fb9f3a"
            ],
            [
             0.8888888888888888,
             "#fdca26"
            ],
            [
             1,
             "#f0f921"
            ]
           ]
          },
          "colorway": [
           "#636efa",
           "#EF553B",
           "#00cc96",
           "#ab63fa",
           "#FFA15A",
           "#19d3f3",
           "#FF6692",
           "#B6E880",
           "#FF97FF",
           "#FECB52"
          ],
          "font": {
           "color": "#2a3f5f"
          },
          "geo": {
           "bgcolor": "white",
           "lakecolor": "white",
           "landcolor": "#E5ECF6",
           "showlakes": true,
           "showland": true,
           "subunitcolor": "white"
          },
          "hoverlabel": {
           "align": "left"
          },
          "hovermode": "closest",
          "mapbox": {
           "style": "light"
          },
          "paper_bgcolor": "white",
          "plot_bgcolor": "#E5ECF6",
          "polar": {
           "angularaxis": {
            "gridcolor": "white",
            "linecolor": "white",
            "ticks": ""
           },
           "bgcolor": "#E5ECF6",
           "radialaxis": {
            "gridcolor": "white",
            "linecolor": "white",
            "ticks": ""
           }
          },
          "scene": {
           "xaxis": {
            "backgroundcolor": "#E5ECF6",
            "gridcolor": "white",
            "gridwidth": 2,
            "linecolor": "white",
            "showbackground": true,
            "ticks": "",
            "zerolinecolor": "white"
           },
           "yaxis": {
            "backgroundcolor": "#E5ECF6",
            "gridcolor": "white",
            "gridwidth": 2,
            "linecolor": "white",
            "showbackground": true,
            "ticks": "",
            "zerolinecolor": "white"
           },
           "zaxis": {
            "backgroundcolor": "#E5ECF6",
            "gridcolor": "white",
            "gridwidth": 2,
            "linecolor": "white",
            "showbackground": true,
            "ticks": "",
            "zerolinecolor": "white"
           }
          },
          "shapedefaults": {
           "line": {
            "color": "#2a3f5f"
           }
          },
          "ternary": {
           "aaxis": {
            "gridcolor": "white",
            "linecolor": "white",
            "ticks": ""
           },
           "baxis": {
            "gridcolor": "white",
            "linecolor": "white",
            "ticks": ""
           },
           "bgcolor": "#E5ECF6",
           "caxis": {
            "gridcolor": "white",
            "linecolor": "white",
            "ticks": ""
           }
          },
          "title": {
           "x": 0.05
          },
          "xaxis": {
           "automargin": true,
           "gridcolor": "white",
           "linecolor": "white",
           "ticks": "",
           "title": {
            "standoff": 15
           },
           "zerolinecolor": "white",
           "zerolinewidth": 2
          },
          "yaxis": {
           "automargin": true,
           "gridcolor": "white",
           "linecolor": "white",
           "ticks": "",
           "title": {
            "standoff": 15
           },
           "zerolinecolor": "white",
           "zerolinewidth": 2
          }
         }
        },
        "title": {
         "text": "Confirmed COVID19 Cases in the United States as of March 24, 2020",
         "x": 0.54,
         "xanchor": "center",
         "y": 0.98,
         "yanchor": "top"
        },
        "uniformtext": {
         "minsize": 12,
         "mode": "hide"
        },
        "xaxis": {
         "anchor": "y",
         "autorange": true,
         "categoryorder": "category ascending",
         "domain": [
          0,
          1
         ],
         "linewidth": 0.2,
         "range": [
          0,
          27032.631578947367
         ],
         "showline": true,
         "title": {
          "text": "Confirmed"
         },
         "type": "linear"
        },
        "yaxis": {
         "anchor": "x",
         "autorange": true,
         "categoryarray": [
          "Wyoming",
          "Wisconsin",
          "West Virginia",
          "Washington",
          "Virginia",
          "Vermont",
          "Utah",
          "Texas",
          "Tennessee",
          "South Dakota",
          "South Carolina",
          "Rhode Island",
          "Pennsylvania",
          "Oregon",
          "Oklahoma",
          "Ohio",
          "North Dakota",
          "North Carolina",
          "New York",
          "New Mexico",
          "New Jersey",
          "New Hampshire",
          "Nevada",
          "Nebraska",
          "Montana",
          "Missouri",
          "Mississippi",
          "Minnesota",
          "Michigan",
          "Massachusetts",
          "Maryland",
          "Maine",
          "Louisiana",
          "Kentucky",
          "Kansas",
          "Iowa",
          "Indiana",
          "Illinois",
          "Idaho",
          "Hawaii",
          "Georgia",
          "Florida",
          "District of Columbia",
          "Delaware",
          "Connecticut",
          "Colorado",
          "California",
          "Arkansas",
          "Arizona",
          "Alaska",
          "Alabama"
         ],
         "categoryorder": "total descending",
         "domain": [
          0,
          1
         ],
         "range": [
          50.5,
          -0.5
         ],
         "title": {
          "text": ""
         },
         "type": "category"
        }
       }
      },
      "image/png": "[encoded data removed]",
      "text/html": [
       "<div>\n",
       "        \n",
       "        \n",
       "            <div id=\"9adffb45-7f3e-4060-afa0-babdceef3adf\" class=\"plotly-graph-div\" style=\"height:1700px; width:100%;\"></div>\n",
       "            <script type=\"text/javascript\">\n",
       "                require([\"plotly\"], function(Plotly) {\n",
       "                    window.PLOTLYENV=window.PLOTLYENV || {};\n",
       "                    \n",
       "                if (document.getElementById(\"9adffb45-7f3e-4060-afa0-babdceef3adf\")) {\n",
       "                    Plotly.newPlot(\n",
       "                        '9adffb45-7f3e-4060-afa0-babdceef3adf',\n",
       "                        [{\"alignmentgroup\": \"True\", \"customdata\": [[1, 0], [1, 0], [1, 0], [1, 0], [1, 0], [1, 0], [2, 0], [2, 0], [2, 0], [2, 0], [2, 0], [3, 0], [3, 0], [4, 0], [4, 0], [4, 0], [5, 0], [5, 0], [6, 0], [8, 0], [9, 0], [10, 0], [21, 0], [26, 0], [27, 0], [91, 0]], \"hoverlabel\": {\"namelength\": 0}, \"hovertemplate\": \"<b>%{hovertext}</b><br><br>State=%{y}<br>Confirmed=%{text}<br>Deaths=%{customdata[1]}\", \"hovertext\": [\"Autauga\", \"Franklin\", \"Houston\", \"Lamar\", \"Marion\", \"Washington\", \"Calhoun\", \"Jackson\", \"Morgan\", \"Talladega\", \"Tallapoosa\", \"Cullman\", \"Lauderdale\", \"Baldwin\", \"Limestone\", \"St. Clair\", \"Chambers\", \"Walker\", \"Mobile\", \"Elmore\", \"Montgomery\", \"Tuscaloosa\", \"Madison\", \"Lee\", \"Shelby\", \"Jefferson\"], \"legendgroup\": \"Alabama\", \"marker\": {\"color\": \"#636efa\"}, \"name\": \"Alabama\", \"offsetgroup\": \"Alabama\", \"orientation\": \"h\", \"showlegend\": true, \"text\": [1.0, 1.0, 1.0, 1.0, 1.0, 1.0, 2.0, 2.0, 2.0, 2.0, 2.0, 3.0, 3.0, 4.0, 4.0, 4.0, 5.0, 5.0, 6.0, 8.0, 9.0, 10.0, 21.0, 26.0, 27.0, 91.0], \"textposition\": \"inside\", \"texttemplate\": \"%{text:.2s}\", \"type\": \"bar\", \"x\": [1, 1, 1, 1, 1, 1, 2, 2, 2, 2, 2, 3, 3, 4, 4, 4, 5, 5, 6, 8, 9, 10, 21, 26, 27, 91], \"xaxis\": \"x\", \"y\": [\"Alabama\", \"Alabama\", \"Alabama\", \"Alabama\", \"Alabama\", \"Alabama\", \"Alabama\", \"Alabama\", \"Alabama\", \"Alabama\", \"Alabama\", \"Alabama\", \"Alabama\", \"Alabama\", \"Alabama\", \"Alabama\", \"Alabama\", \"Alabama\", \"Alabama\", \"Alabama\", \"Alabama\", \"Alabama\", \"Alabama\", \"Alabama\", \"Alabama\", \"Alabama\"], \"yaxis\": \"y\"}, {\"alignmentgroup\": \"True\", \"customdata\": [[1, 0], [3, 0], [6, 0], [7, 0], [17, 0]], \"hoverlabel\": {\"namelength\": 0}, \"hovertemplate\": \"<b>%{hovertext}</b><br><br>State=%{y}<br>Confirmed=%{text}<br>Deaths=%{customdata[1]}\", \"hovertext\": [\"Juneau\", \"Kenai Peninsula\", \"Ketchikan Gateway\", \"Fairbanks North Star\", \"Anchorage\"], \"legendgroup\": \"Alaska\", \"marker\": {\"color\": \"#EF553B\"}, \"name\": \"Alaska\", \"offsetgroup\": \"Alaska\", \"orientation\": \"h\", \"showlegend\": true, \"text\": [1.0, 3.0, 6.0, 7.0, 17.0], \"textposition\": \"inside\", \"texttemplate\": \"%{text:.2s}\", \"type\": \"bar\", \"x\": [1, 3, 6, 7, 17], \"xaxis\": \"x\", \"y\": [\"Alaska\", \"Alaska\", \"Alaska\", \"Alaska\", \"Alaska\"], \"yaxis\": \"y\"}, {\"alignmentgroup\": \"True\", \"customdata\": [[1, 0], [1, 0], [2, 0], [2, 0], [3, 0], [4, 0], [18, 0], [22, 0], [32, 0], [42, 1], [199, 2]], \"hoverlabel\": {\"namelength\": 0}, \"hovertemplate\": \"<b>%{hovertext}</b><br><br>State=%{y}<br>Confirmed=%{text}<br>Deaths=%{customdata[1]}\", \"hovertext\": [\"Cochise\", \"Santa Cruz\", \"Graham\", \"Yuma\", \"Yavapai\", \"Apache\", \"Coconino\", \"Pinal\", \"Navajo\", \"Pima\", \"Maricopa\"], \"legendgroup\": \"Arizona\", \"marker\": {\"color\": \"#00cc96\"}, \"name\": \"Arizona\", \"offsetgroup\": \"Arizona\", \"orientation\": \"h\", \"showlegend\": true, \"text\": [1.0, 1.0, 2.0, 2.0, 3.0, 4.0, 18.0, 22.0, 32.0, 42.0, 199.0], \"textposition\": \"inside\", \"texttemplate\": \"%{text:.2s}\", \"type\": \"bar\", \"x\": [1, 1, 2, 2, 3, 4, 18, 22, 32, 42, 199], \"xaxis\": \"x\", \"y\": [\"Arizona\", \"Arizona\", \"Arizona\", \"Arizona\", \"Arizona\", \"Arizona\", \"Arizona\", \"Arizona\", \"Arizona\", \"Arizona\", \"Arizona\"], \"yaxis\": \"y\"}, {\"alignmentgroup\": \"True\", \"customdata\": [[1, 0], [1, 0], [1, 0], [1, 0], [1, 0], [1, 0], [1, 0], [1, 0], [1, 0], [1, 0], [1, 0], [1, 0], [1, 0], [1, 0], [1, 0], [1, 0], [1, 0], [1, 0], [1, 0], [2, 0], [2, 0], [2, 0], [3, 0], [3, 0], [3, 0], [3, 0], [4, 0], [4, 0], [4, 0], [5, 0], [5, 0], [6, 0], [10, 0], [13, 1], [14, 0], [21, 0], [32, 1], [64, 0]], \"hoverlabel\": {\"namelength\": 0}, \"hovertemplate\": \"<b>%{hovertext}</b><br><br>State=%{y}<br>Confirmed=%{text}<br>Deaths=%{customdata[1]}\", \"hovertext\": [\"Benton\", \"Boone\", \"Columbia\", \"Conway\", \"Crawford\", \"Crittenden\", \"Cross\", \"Greene\", \"Hempstead\", \"Lawrence\", \"Pike\", \"Polk\", \"Pope\", \"Sebastian\", \"Sevier\", \"Stone\", \"Union\", \"White\", \"Woodruff\", \"Desha\", \"Lincoln\", \"Searcy\", \"Cleveland\", \"Grant\", \"Independence\", \"Poinsett\", \"Bradley\", \"Craighead\", \"Saline\", \"Van Buren\", \"Washington\", \"Clark\", \"Garland\", \"Unassigned\", \"Faulkner\", \"Jefferson\", \"Cleburne\", \"Pulaski\"], \"legendgroup\": \"Arkansas\", \"marker\": {\"color\": \"#ab63fa\"}, \"name\": \"Arkansas\", \"offsetgroup\": \"Arkansas\", \"orientation\": \"h\", \"showlegend\": true, \"text\": [1.0, 1.0, 1.0, 1.0, 1.0, 1.0, 1.0, 1.0, 1.0, 1.0, 1.0, 1.0, 1.0, 1.0, 1.0, 1.0, 1.0, 1.0, 1.0, 2.0, 2.0, 2.0, 3.0, 3.0, 3.0, 3.0, 4.0, 4.0, 4.0, 5.0, 5.0, 6.0, 10.0, 13.0, 14.0, 21.0, 32.0, 64.0], \"textposition\": \"inside\", \"texttemplate\": \"%{text:.2s}\", \"type\": \"bar\", \"x\": [1, 1, 1, 1, 1, 1, 1, 1, 1, 1, 1, 1, 1, 1, 1, 1, 1, 1, 1, 2, 2, 2, 3, 3, 3, 3, 4, 4, 4, 5, 5, 6, 10, 13, 14, 21, 32, 64], \"xaxis\": \"x\", \"y\": [\"Arkansas\", \"Arkansas\", \"Arkansas\", \"Arkansas\", \"Arkansas\", \"Arkansas\", \"Arkansas\", \"Arkansas\", \"Arkansas\", \"Arkansas\", \"Arkansas\", \"Arkansas\", \"Arkansas\", \"Arkansas\", \"Arkansas\", \"Arkansas\", \"Arkansas\", \"Arkansas\", \"Arkansas\", \"Arkansas\", \"Arkansas\", \"Arkansas\", \"Arkansas\", \"Arkansas\", \"Arkansas\", \"Arkansas\", \"Arkansas\", \"Arkansas\", \"Arkansas\", \"Arkansas\", \"Arkansas\", \"Arkansas\", \"Arkansas\", \"Arkansas\", \"Arkansas\", \"Arkansas\", \"Arkansas\", \"Arkansas\"], \"yaxis\": \"y\"}, {\"alignmentgroup\": \"True\", \"customdata\": [[1, 0], [1, 0], [2, 0], [2, 0], [2, 0], [2, 0], [2, 0], [2, 0], [2, 0], [2, 0], [3, 0], [3, 0], [4, 0], [6, 0], [6, 0], [6, 1], [8, 1], [11, 0], [13, 0], [13, 0], [17, 0], [18, 0], [20, 1], [20, 1], [21, 0], [22, 0], [29, 1], [31, 0], [35, 1], [42, 0], [47, 0], [51, 2], [57, 6], [86, 1], [88, 4], [135, 2], [152, 0], [152, 0], [161, 1], [226, 1], [375, 16], [662, 11]], \"hoverlabel\": {\"namelength\": 0}, \"hovertemplate\": \"<b>%{hovertext}</b><br><br>State=%{y}<br>Confirmed=%{text}<br>Deaths=%{customdata[1]}\", \"hovertext\": [\"Merced\", \"Mono\", \"Amador\", \"Butte\", \"Calaveras\", \"El Dorado\", \"Mendocino\", \"Napa\", \"Shasta\", \"Siskiyou\", \"Nevada\", \"Yuba\", \"Humboldt\", \"Imperial\", \"Madera\", \"San Benito\", \"Yolo\", \"Stanislaus\", \"Fresno\", \"Kern\", \"Tulare\", \"Santa Barbara\", \"Monterey\", \"Placer\", \"Solano\", \"Santa Cruz\", \"Sonoma\", \"San Bernardino\", \"Ventura\", \"San Luis Obispo\", \"Marin\", \"San Joaquin\", \"Riverside\", \"Contra Costa\", \"Sacramento\", \"Alameda\", \"Orange\", \"San Francisco\", \"San Mateo\", \"San Diego\", \"Santa Clara\", \"Los Angeles\"], \"legendgroup\": \"California\", \"marker\": {\"color\": \"#FFA15A\"}, \"name\": \"California\", \"offsetgroup\": \"California\", \"orientation\": \"h\", \"showlegend\": true, \"text\": [1.0, 1.0, 2.0, 2.0, 2.0, 2.0, 2.0, 2.0, 2.0, 2.0, 3.0, 3.0, 4.0, 6.0, 6.0, 6.0, 8.0, 11.0, 13.0, 13.0, 17.0, 18.0, 20.0, 20.0, 21.0, 22.0, 29.0, 31.0, 35.0, 42.0, 47.0, 51.0, 57.0, 86.0, 88.0, 135.0, 152.0, 152.0, 161.0, 226.0, 375.0, 662.0], \"textposition\": \"inside\", \"texttemplate\": \"%{text:.2s}\", \"type\": \"bar\", \"x\": [1, 1, 2, 2, 2, 2, 2, 2, 2, 2, 3, 3, 4, 6, 6, 6, 8, 11, 13, 13, 17, 18, 20, 20, 21, 22, 29, 31, 35, 42, 47, 51, 57, 86, 88, 135, 152, 152, 161, 226, 375, 662], \"xaxis\": \"x\", \"y\": [\"California\", \"California\", \"California\", \"California\", \"California\", \"California\", \"California\", \"California\", \"California\", \"California\", \"California\", \"California\", \"California\", \"California\", \"California\", \"California\", \"California\", \"California\", \"California\", \"California\", \"California\", \"California\", \"California\", \"California\", \"California\", \"California\", \"California\", \"California\", \"California\", \"California\", \"California\", \"California\", \"California\", \"California\", \"California\", \"California\", \"California\", \"California\", \"California\", \"California\", \"California\", \"California\"], \"yaxis\": \"y\"}, {\"alignmentgroup\": \"True\", \"customdata\": [[1, 1], [1, 0], [1, 0], [1, 0], [1, 0], [1, 0], [2, 0], [2, 0], [2, 0], [3, 0], [3, 0], [3, 0], [3, 0], [3, 0], [3, 0], [3, 0], [5, 0], [5, 0], [8, 0], [8, 0], [18, 0], [25, 0], [28, 0], [34, 0], [39, 0], [48, 0], [50, 2], [55, 0], [58, 0], [69, 4], [92, 1], [148, 0]], \"hoverlabel\": {\"namelength\": 0}, \"hovertemplate\": \"<b>%{hovertext}</b><br><br>State=%{y}<br>Confirmed=%{text}<br>Deaths=%{customdata[1]}\", \"hovertext\": [\"Crowley\", \"Hinsdale\", \"Montrose\", \"Park\", \"San Miguel\", \"Yuma\", \"Broomfield\", \"Grand\", \"Logan\", \"Chaffee\", \"Clear Creek\", \"Elbert\", \"Morgan\", \"Pueblo\", \"Routt\", \"Teller\", \"Mesa\", \"Unassigned\", \"Garfield\", \"Summit\", \"Pitkin\", \"Adams\", \"Gunnison\", \"Larimer\", \"Boulder\", \"Douglas\", \"Weld\", \"Jefferson\", \"Arapahoe\", \"El Paso\", \"Eagle\", \"Denver\"], \"legendgroup\": \"Colorado\", \"marker\": {\"color\": \"#19d3f3\"}, \"name\": \"Colorado\", \"offsetgroup\": \"Colorado\", \"orientation\": \"h\", \"showlegend\": true, \"text\": [1.0, 1.0, 1.0, 1.0, 1.0, 1.0, 2.0, 2.0, 2.0, 3.0, 3.0, 3.0, 3.0, 3.0, 3.0, 3.0, 5.0, 5.0, 8.0, 8.0, 18.0, 25.0, 28.0, 34.0, 39.0, 48.0, 50.0, 55.0, 58.0, 69.0, 92.0, 148.0], \"textposition\": \"inside\", \"texttemplate\": \"%{text:.2s}\", \"type\": \"bar\", \"x\": [1, 1, 1, 1, 1, 1, 2, 2, 2, 3, 3, 3, 3, 3, 3, 3, 5, 5, 8, 8, 18, 25, 28, 34, 39, 48, 50, 55, 58, 69, 92, 148], \"xaxis\": \"x\", \"y\": [\"Colorado\", \"Colorado\", \"Colorado\", \"Colorado\", \"Colorado\", \"Colorado\", \"Colorado\", \"Colorado\", \"Colorado\", \"Colorado\", \"Colorado\", \"Colorado\", \"Colorado\", \"Colorado\", \"Colorado\", \"Colorado\", \"Colorado\", \"Colorado\", \"Colorado\", \"Colorado\", \"Colorado\", \"Colorado\", \"Colorado\", \"Colorado\", \"Colorado\", \"Colorado\", \"Colorado\", \"Colorado\", \"Colorado\", \"Colorado\", \"Colorado\", \"Colorado\"], \"yaxis\": \"y\"}, {\"alignmentgroup\": \"True\", \"customdata\": [[2, 0], [6, 0], [8, 0], [19, 3], [22, 0], [88, 2], [89, 0], [384, 7]], \"hoverlabel\": {\"namelength\": 0}, \"hovertemplate\": \"<b>%{hovertext}</b><br><br>State=%{y}<br>Confirmed=%{text}<br>Deaths=%{customdata[1]}\", \"hovertext\": [\"Windham\", \"New London\", \"Middlesex\", \"Tolland\", \"Litchfield\", \"Hartford\", \"New Haven\", \"Fairfield\"], \"legendgroup\": \"Connecticut\", \"marker\": {\"color\": \"#FF6692\"}, \"name\": \"Connecticut\", \"offsetgroup\": \"Connecticut\", \"orientation\": \"h\", \"showlegend\": true, \"text\": [2.0, 6.0, 8.0, 19.0, 22.0, 88.0, 89.0, 384.0], \"textposition\": \"inside\", \"texttemplate\": \"%{text:.2s}\", \"type\": \"bar\", \"x\": [2, 6, 8, 19, 22, 88, 89, 384], \"xaxis\": \"x\", \"y\": [\"Connecticut\", \"Connecticut\", \"Connecticut\", \"Connecticut\", \"Connecticut\", \"Connecticut\", \"Connecticut\", \"Connecticut\"], \"yaxis\": \"y\"}, {\"alignmentgroup\": \"True\", \"customdata\": [[10, 0], [23, 0], [71, 0]], \"hoverlabel\": {\"namelength\": 0}, \"hovertemplate\": \"<b>%{hovertext}</b><br><br>State=%{y}<br>Confirmed=%{text}<br>Deaths=%{customdata[1]}\", \"hovertext\": [\"Kent\", \"Sussex\", \"New Castle\"], \"legendgroup\": \"Delaware\", \"marker\": {\"color\": \"#B6E880\"}, \"name\": \"Delaware\", \"offsetgroup\": \"Delaware\", \"orientation\": \"h\", \"showlegend\": true, \"text\": [10.0, 23.0, 71.0], \"textposition\": \"inside\", \"texttemplate\": \"%{text:.2s}\", \"type\": \"bar\", \"x\": [10, 23, 71], \"xaxis\": \"x\", \"y\": [\"Delaware\", \"Delaware\", \"Delaware\"], \"yaxis\": \"y\"}, {\"alignmentgroup\": \"True\", \"customdata\": [[141, 2]], \"hoverlabel\": {\"namelength\": 0}, \"hovertemplate\": \"<b>%{hovertext}</b><br><br>State=%{y}<br>Confirmed=%{text}<br>Deaths=%{customdata[1]}\", \"hovertext\": [\"District of Columbia\"], \"legendgroup\": \"District of Columbia\", \"marker\": {\"color\": \"#FF97FF\"}, \"name\": \"District of Columbia\", \"offsetgroup\": \"District of Columbia\", \"orientation\": \"h\", \"showlegend\": true, \"text\": [141.0], \"textposition\": \"inside\", \"texttemplate\": \"%{text:.2s}\", \"type\": \"bar\", \"x\": [141], \"xaxis\": \"x\", \"y\": [\"District of Columbia\"], \"yaxis\": \"y\"}, {\"alignmentgroup\": \"True\", \"customdata\": [[1, 0], [1, 0], [1, 0], [1, 0], [1, 0], [1, 0], [2, 0], [3, 0], [3, 0], [3, 0], [4, 0], [4, 0], [4, 0], [4, 0], [4, 0], [4, 1], [5, 0], [6, 0], [8, 1], [9, 0], [9, 0], [10, 2], [10, 0], [10, 0], [10, 0], [11, 0], [13, 0], [14, 0], [14, 0], [15, 1], [16, 1], [18, 0], [22, 0], [23, 0], [26, 0], [26, 0], [32, 2], [37, 0], [41, 0], [45, 0], [50, 1], [50, 2], [91, 0], [101, 3], [311, 3], [338, 0]], \"hoverlabel\": {\"namelength\": 0}, \"hovertemplate\": \"<b>%{hovertext}</b><br><br>State=%{y}<br>Confirmed=%{text}<br>Deaths=%{customdata[1]}\", \"hovertext\": [\"Bay\", \"Bradford\", \"DeSoto\", \"Gadsden\", \"Jackson\", \"Nassau\", \"Putnam\", \"Charlotte\", \"Columbia\", \"Monroe\", \"Baker\", \"Flagler\", \"Highlands\", \"Marion\", \"Martin\", \"Santa Rosa\", \"Hernando\", \"St. Lucie\", \"Leon\", \"Brevard\", \"Citrus\", \"Clay\", \"Escambia\", \"Sumter\", \"Walton\", \"Indian River\", \"Polk\", \"Lake\", \"Okaloosa\", \"Pasco\", \"Manatee\", \"Volusia\", \"St. Johns\", \"Seminole\", \"Osceola\", \"Sarasota\", \"Lee\", \"Alachua\", \"Collier\", \"Pinellas\", \"Duval\", \"Orange\", \"Hillsborough\", \"Palm Beach\", \"Broward\", \"Miami-Dade\"], \"legendgroup\": \"Florida\", \"marker\": {\"color\": \"#FECB52\"}, \"name\": \"Florida\", \"offsetgroup\": \"Florida\", \"orientation\": \"h\", \"showlegend\": true, \"text\": [1.0, 1.0, 1.0, 1.0, 1.0, 1.0, 2.0, 3.0, 3.0, 3.0, 4.0, 4.0, 4.0, 4.0, 4.0, 4.0, 5.0, 6.0, 8.0, 9.0, 9.0, 10.0, 10.0, 10.0, 10.0, 11.0, 13.0, 14.0, 14.0, 15.0, 16.0, 18.0, 22.0, 23.0, 26.0, 26.0, 32.0, 37.0, 41.0, 45.0, 50.0, 50.0, 91.0, 101.0, 311.0, 338.0], \"textposition\": \"inside\", \"texttemplate\": \"%{text:.2s}\", \"type\": \"bar\", \"x\": [1, 1, 1, 1, 1, 1, 2, 3, 3, 3, 4, 4, 4, 4, 4, 4, 5, 6, 8, 9, 9, 10, 10, 10, 10, 11, 13, 14, 14, 15, 16, 18, 22, 23, 26, 26, 32, 37, 41, 45, 50, 50, 91, 101, 311, 338], \"xaxis\": \"x\", \"y\": [\"Florida\", \"Florida\", \"Florida\", \"Florida\", \"Florida\", \"Florida\", \"Florida\", \"Florida\", \"Florida\", \"Florida\", \"Florida\", \"Florida\", \"Florida\", \"Florida\", \"Florida\", \"Florida\", \"Florida\", \"Florida\", \"Florida\", \"Florida\", \"Florida\", \"Florida\", \"Florida\", \"Florida\", \"Florida\", \"Florida\", \"Florida\", \"Florida\", \"Florida\", \"Florida\", \"Florida\", \"Florida\", \"Florida\", \"Florida\", \"Florida\", \"Florida\", \"Florida\", \"Florida\", \"Florida\", \"Florida\", \"Florida\", \"Florida\", \"Florida\", \"Florida\", \"Florida\", \"Florida\"], \"yaxis\": \"y\"}, {\"alignmentgroup\": \"True\", \"customdata\": [[1, 0], [1, 0], [1, 0], [1, 0], [1, 0], [1, 0], [1, 0], [1, 0], [1, 0], [1, 0], [1, 0], [1, 0], [1, 0], [1, 0], [1, 0], [1, 0], [1, 0], [1, 0], [1, 0], [1, 0], [1, 0], [1, 0], [1, 0], [1, 0], [1, 0], [1, 0], [1, 0], [1, 0], [1, 0], [1, 0], [2, 0], [2, 0], [2, 0], [2, 0], [2, 0], [2, 0], [2, 1], [2, 0], [2, 0], [2, 0], [2, 0], [3, 0], [3, 0], [3, 0], [3, 0], [3, 0], [3, 0], [3, 0], [3, 0], [3, 0], [4, 0], [4, 0], [4, 0], [4, 0], [5, 0], [5, 0], [5, 0], [5, 0], [5, 0], [6, 0], [6, 0], [7, 0], [7, 0], [7, 0], [8, 0], [8, 0], [10, 0], [10, 0], [11, 0], [11, 1], [11, 0], [12, 1], [13, 0], [14, 0], [16, 0], [20, 0], [21, 0], [26, 0], [28, 0], [45, 1], [74, 1], [81, 17], [86, 2], [90, 6], [94, 0], [184, 2]], \"hoverlabel\": {\"namelength\": 0}, \"hovertemplate\": \"<b>%{hovertext}</b><br><br>State=%{y}<br>Confirmed=%{text}<br>Deaths=%{customdata[1]}\", \"hovertext\": [\"Barrow\", \"Ben Hill\", \"Burke\", \"Camden\", \"Catoosa\", \"Charlton\", \"Chattooga\", \"Clinch\", \"Dawson\", \"Greene\", \"Harris\", \"Heard\", \"Irwin\", \"Jasper\", \"Liberty\", \"Lincoln\", \"Macon\", \"Madison\", \"Meriwether\", \"Miller\", \"Morgan\", \"Pierce\", \"Pulaski\", \"Randolph\", \"Stephens\", \"Tattnall\", \"Turner\", \"Twiggs\", \"Walton\", \"Washington\", \"Baker\", \"Baldwin\", \"Bryan\", \"Butts\", \"Coffee\", \"Colquitt\", \"Early\", \"Effingham\", \"Sumter\", \"Tift\", \"Whitfield\", \"Crisp\", \"Houston\", \"Lamar\", \"Lumpkin\", \"Mitchell\", \"Monroe\", \"Muscogee\", \"Peach\", \"Terrell\", \"Bibb\", \"Columbia\", \"Pickens\", \"Worth\", \"Glynn\", \"Laurens\", \"Newton\", \"Oconee\", \"Spalding\", \"Paulding\", \"Troup\", \"Chatham\", \"Gordon\", \"Rockdale\", \"Forsyth\", \"Polk\", \"Coweta\", \"Lowndes\", \"Douglas\", \"Floyd\", \"Richmond\", \"Fayette\", \"Henry\", \"Hall\", \"Clarke\", \"Lee\", \"Clayton\", \"Carroll\", \"Cherokee\", \"Gwinnett\", \"Bartow\", \"Unassigned\", \"Cobb\", \"Dougherty\", \"DeKalb\", \"Fulton\"], \"legendgroup\": \"Georgia\", \"marker\": {\"color\": \"#636efa\"}, \"name\": \"Georgia\", \"offsetgroup\": \"Georgia\", \"orientation\": \"h\", \"showlegend\": true, \"text\": [1.0, 1.0, 1.0, 1.0, 1.0, 1.0, 1.0, 1.0, 1.0, 1.0, 1.0, 1.0, 1.0, 1.0, 1.0, 1.0, 1.0, 1.0, 1.0, 1.0, 1.0, 1.0, 1.0, 1.0, 1.0, 1.0, 1.0, 1.0, 1.0, 1.0, 2.0, 2.0, 2.0, 2.0, 2.0, 2.0, 2.0, 2.0, 2.0, 2.0, 2.0, 3.0, 3.0, 3.0, 3.0, 3.0, 3.0, 3.0, 3.0, 3.0, 4.0, 4.0, 4.0, 4.0, 5.0, 5.0, 5.0, 5.0, 5.0, 6.0, 6.0, 7.0, 7.0, 7.0, 8.0, 8.0, 10.0, 10.0, 11.0, 11.0, 11.0, 12.0, 13.0, 14.0, 16.0, 20.0, 21.0, 26.0, 28.0, 45.0, 74.0, 81.0, 86.0, 90.0, 94.0, 184.0], \"textposition\": \"inside\", \"texttemplate\": \"%{text:.2s}\", \"type\": \"bar\", \"x\": [1, 1, 1, 1, 1, 1, 1, 1, 1, 1, 1, 1, 1, 1, 1, 1, 1, 1, 1, 1, 1, 1, 1, 1, 1, 1, 1, 1, 1, 1, 2, 2, 2, 2, 2, 2, 2, 2, 2, 2, 2, 3, 3, 3, 3, 3, 3, 3, 3, 3, 4, 4, 4, 4, 5, 5, 5, 5, 5, 6, 6, 7, 7, 7, 8, 8, 10, 10, 11, 11, 11, 12, 13, 14, 16, 20, 21, 26, 28, 45, 74, 81, 86, 90, 94, 184], \"xaxis\": \"x\", \"y\": [\"Georgia\", \"Georgia\", \"Georgia\", \"Georgia\", \"Georgia\", \"Georgia\", \"Georgia\", \"Georgia\", \"Georgia\", \"Georgia\", \"Georgia\", \"Georgia\", \"Georgia\", \"Georgia\", \"Georgia\", \"Georgia\", \"Georgia\", \"Georgia\", \"Georgia\", \"Georgia\", \"Georgia\", \"Georgia\", \"Georgia\", \"Georgia\", \"Georgia\", \"Georgia\", \"Georgia\", \"Georgia\", \"Georgia\", \"Georgia\", \"Georgia\", \"Georgia\", \"Georgia\", \"Georgia\", \"Georgia\", \"Georgia\", \"Georgia\", \"Georgia\", \"Georgia\", \"Georgia\", \"Georgia\", \"Georgia\", \"Georgia\", \"Georgia\", \"Georgia\", \"Georgia\", \"Georgia\", \"Georgia\", \"Georgia\", \"Georgia\", \"Georgia\", \"Georgia\", \"Georgia\", \"Georgia\", \"Georgia\", \"Georgia\", \"Georgia\", \"Georgia\", \"Georgia\", \"Georgia\", \"Georgia\", \"Georgia\", \"Georgia\", \"Georgia\", \"Georgia\", \"Georgia\", \"Georgia\", \"Georgia\", \"Georgia\", \"Georgia\", \"Georgia\", \"Georgia\", \"Georgia\", \"Georgia\", \"Georgia\", \"Georgia\", \"Georgia\", \"Georgia\", \"Georgia\", \"Georgia\", \"Georgia\", \"Georgia\", \"Georgia\", \"Georgia\", \"Georgia\", \"Georgia\"], \"yaxis\": \"y\"}, {\"alignmentgroup\": \"True\", \"customdata\": [[1, 0], [2, 0], [9, 0], [20, 0], [58, 1]], \"hoverlabel\": {\"namelength\": 0}, \"hovertemplate\": \"<b>%{hovertext}</b><br><br>State=%{y}<br>Confirmed=%{text}<br>Deaths=%{customdata[1]}\", \"hovertext\": [\"Kauai\", \"Hawaii\", \"Maui\", \"Unassigned\", \"Honolulu\"], \"legendgroup\": \"Hawaii\", \"marker\": {\"color\": \"#EF553B\"}, \"name\": \"Hawaii\", \"offsetgroup\": \"Hawaii\", \"orientation\": \"h\", \"showlegend\": true, \"text\": [1.0, 2.0, 9.0, 20.0, 58.0], \"textposition\": \"inside\", \"texttemplate\": \"%{text:.2s}\", \"type\": \"bar\", \"x\": [1, 2, 9, 20, 58], \"xaxis\": \"x\", \"y\": [\"Hawaii\", \"Hawaii\", \"Hawaii\", \"Hawaii\", \"Hawaii\"], \"yaxis\": \"y\"}, {\"alignmentgroup\": \"True\", \"customdata\": [[1, 0], [1, 0], [1, 0], [2, 0], [2, 0], [2, 0], [2, 0], [2, 0], [5, 0], [8, 0], [19, 0], [36, 0]], \"hoverlabel\": {\"namelength\": 0}, \"hovertemplate\": \"<b>%{hovertext}</b><br><br>State=%{y}<br>Confirmed=%{text}<br>Deaths=%{customdata[1]}\", \"hovertext\": [\"Cassia\", \"Twin Falls\", \"Valley\", \"Bannock\", \"Bingham\", \"Jefferson\", \"Madison\", \"Teton\", \"Canyon\", \"Kootenai\", \"Ada\", \"Blaine\"], \"legendgroup\": \"Idaho\", \"marker\": {\"color\": \"#00cc96\"}, \"name\": \"Idaho\", \"offsetgroup\": \"Idaho\", \"orientation\": \"h\", \"showlegend\": true, \"text\": [1.0, 1.0, 1.0, 2.0, 2.0, 2.0, 2.0, 2.0, 5.0, 8.0, 19.0, 36.0], \"textposition\": \"inside\", \"texttemplate\": \"%{text:.2s}\", \"type\": \"bar\", \"x\": [1, 1, 1, 2, 2, 2, 2, 2, 5, 8, 19, 36], \"xaxis\": \"x\", \"y\": [\"Idaho\", \"Idaho\", \"Idaho\", \"Idaho\", \"Idaho\", \"Idaho\", \"Idaho\", \"Idaho\", \"Idaho\", \"Idaho\", \"Idaho\", \"Idaho\"], \"yaxis\": \"y\"}, {\"alignmentgroup\": \"True\", \"customdata\": [[1, 0], [1, 0], [1, 0], [1, 0], [1, 0], [1, 0], [1, 0], [1, 0], [1, 0], [1, 0], [1, 0], [1, 0], [1, 0], [2, 0], [3, 0], [3, 0], [3, 0], [3, 0], [4, 0], [4, 0], [4, 0], [5, 1], [5, 0], [7, 1], [7, 0], [14, 0], [24, 0], [28, 1], [103, 0], [111, 0], [1194, 9]], \"hoverlabel\": {\"namelength\": 0}, \"hovertemplate\": \"<b>%{hovertext}</b><br><br>State=%{y}<br>Confirmed=%{text}<br>Deaths=%{customdata[1]}\", \"hovertext\": [\"Adams\", \"Christian\", \"Cumberland\", \"DeKalb\", \"Grundy\", \"Jackson\", \"Jo Daviess\", \"Livingston\", \"Monroe\", \"Rock Island\", \"Stephenson\", \"Washington\", \"Whiteside\", \"Madison\", \"Clinton\", \"LaSalle\", \"Peoria\", \"Woodford\", \"Champaign\", \"Kankakee\", \"Kendall\", \"Sangamon\", \"Winnebago\", \"McLean\", \"St. Clair\", \"McHenry\", \"Kane\", \"Will\", \"DuPage\", \"Lake\", \"Cook\"], \"legendgroup\": \"Illinois\", \"marker\": {\"color\": \"#ab63fa\"}, \"name\": \"Illinois\", \"offsetgroup\": \"Illinois\", \"orientation\": \"h\", \"showlegend\": true, \"text\": [1.0, 1.0, 1.0, 1.0, 1.0, 1.0, 1.0, 1.0, 1.0, 1.0, 1.0, 1.0, 1.0, 2.0, 3.0, 3.0, 3.0, 3.0, 4.0, 4.0, 4.0, 5.0, 5.0, 7.0, 7.0, 14.0, 24.0, 28.0, 103.0, 111.0, 1194.0], \"textposition\": \"inside\", \"texttemplate\": \"%{text:.2s}\", \"type\": \"bar\", \"x\": [1, 1, 1, 1, 1, 1, 1, 1, 1, 1, 1, 1, 1, 2, 3, 3, 3, 3, 4, 4, 4, 5, 5, 7, 7, 14, 24, 28, 103, 111, 1194], \"xaxis\": \"x\", \"y\": [\"Illinois\", \"Illinois\", \"Illinois\", \"Illinois\", \"Illinois\", \"Illinois\", \"Illinois\", \"Illinois\", \"Illinois\", \"Illinois\", \"Illinois\", \"Illinois\", \"Illinois\", \"Illinois\", \"Illinois\", \"Illinois\", \"Illinois\", \"Illinois\", \"Illinois\", \"Illinois\", \"Illinois\", \"Illinois\", \"Illinois\", \"Illinois\", \"Illinois\", \"Illinois\", \"Illinois\", \"Illinois\", \"Illinois\", \"Illinois\", \"Illinois\"], \"yaxis\": \"y\"}, {\"alignmentgroup\": \"True\", \"customdata\": [[1, 0], [1, 0], [1, 0], [1, 0], [1, 0], [1, 0], [1, 0], [1, 0], [1, 0], [1, 0], [1, 0], [1, 0], [1, 1], [1, 0], [1, 0], [1, 0], [1, 0], [2, 0], [2, 0], [2, 0], [2, 0], [2, 0], [2, 0], [2, 0], [2, 0], [2, 0], [3, 0], [3, 0], [3, 0], [3, 0], [3, 0], [3, 0], [3, 0], [4, 1], [4, 0], [4, 0], [5, 0], [5, 0], [6, 0], [6, 0], [6, 0], [6, 0], [7, 1], [7, 0], [13, 0], [17, 0], [18, 3], [18, 0], [25, 0], [161, 6]], \"hoverlabel\": {\"namelength\": 0}, \"hovertemplate\": \"<b>%{hovertext}</b><br><br>State=%{y}<br>Confirmed=%{text}<br>Deaths=%{customdata[1]}\", \"hovertext\": [\"Adams\", \"Brown\", \"Dubois\", \"Greene\", \"Jackson\", \"Lawrence\", \"Miami\", \"Montgomery\", \"Noble\", \"Ohio\", \"Porter\", \"Putnam\", \"Scott\", \"Shelby\", \"Vanderburgh\", \"Warrick\", \"Wells\", \"Dearborn\", \"Fayette\", \"Gibson\", \"Jennings\", \"LaPorte\", \"Owen\", \"Starke\", \"Tipton\", \"Washington\", \"Boone\", \"Grant\", \"Madison\", \"Monroe\", \"Morgan\", \"Tippecanoe\", \"Vigo\", \"Delaware\", \"Elkhart\", \"Hancock\", \"Bartholomew\", \"Clark\", \"Decatur\", \"Floyd\", \"Howard\", \"Ripley\", \"Allen\", \"Franklin\", \"Hendricks\", \"Lake\", \"Johnson\", \"St. Joseph\", \"Hamilton\", \"Marion\"], \"legendgroup\": \"Indiana\", \"marker\": {\"color\": \"#FFA15A\"}, \"name\": \"Indiana\", \"offsetgroup\": \"Indiana\", \"orientation\": \"h\", \"showlegend\": true, \"text\": [1.0, 1.0, 1.0, 1.0, 1.0, 1.0, 1.0, 1.0, 1.0, 1.0, 1.0, 1.0, 1.0, 1.0, 1.0, 1.0, 1.0, 2.0, 2.0, 2.0, 2.0, 2.0, 2.0, 2.0, 2.0, 2.0, 3.0, 3.0, 3.0, 3.0, 3.0, 3.0, 3.0, 4.0, 4.0, 4.0, 5.0, 5.0, 6.0, 6.0, 6.0, 6.0, 7.0, 7.0, 13.0, 17.0, 18.0, 18.0, 25.0, 161.0], \"textposition\": \"inside\", \"texttemplate\": \"%{text:.2s}\", \"type\": \"bar\", \"x\": [1, 1, 1, 1, 1, 1, 1, 1, 1, 1, 1, 1, 1, 1, 1, 1, 1, 2, 2, 2, 2, 2, 2, 2, 2, 2, 3, 3, 3, 3, 3, 3, 3, 4, 4, 4, 5, 5, 6, 6, 6, 6, 7, 7, 13, 17, 18, 18, 25, 161], \"xaxis\": \"x\", \"y\": [\"Indiana\", \"Indiana\", \"Indiana\", \"Indiana\", \"Indiana\", \"Indiana\", \"Indiana\", \"Indiana\", \"Indiana\", \"Indiana\", \"Indiana\", \"Indiana\", \"Indiana\", \"Indiana\", \"Indiana\", \"Indiana\", \"Indiana\", \"Indiana\", \"Indiana\", \"Indiana\", \"Indiana\", \"Indiana\", \"Indiana\", \"Indiana\", \"Indiana\", \"Indiana\", \"Indiana\", \"Indiana\", \"Indiana\", \"Indiana\", \"Indiana\", \"Indiana\", \"Indiana\", \"Indiana\", \"Indiana\", \"Indiana\", \"Indiana\", \"Indiana\", \"Indiana\", \"Indiana\", \"Indiana\", \"Indiana\", \"Indiana\", \"Indiana\", \"Indiana\", \"Indiana\", \"Indiana\", \"Indiana\", \"Indiana\", \"Indiana\"], \"yaxis\": \"y\"}, {\"alignmentgroup\": \"True\", \"customdata\": [[1, 0], [1, 0], [1, 0], [1, 0], [1, 0], [1, 0], [1, 0], [1, 0], [1, 0], [1, 0], [1, 0], [1, 0], [1, 0], [2, 0], [2, 0], [2, 0], [2, 0], [2, 0], [2, 0], [2, 0], [3, 0], [4, 0], [4, 0], [4, 0], [5, 0], [6, 0], [6, 0], [6, 0], [7, 0], [15, 0], [37, 0]], \"hoverlabel\": {\"namelength\": 0}, \"hovertemplate\": \"<b>%{hovertext}</b><br><br>State=%{y}<br>Confirmed=%{text}<br>Deaths=%{customdata[1]}\", \"hovertext\": [\"Adair\", \"Buchanan\", \"Carroll\", \"Cedar\", \"Fayette\", \"Henry\", \"Jasper\", \"Kossuth\", \"Scott\", \"Sioux\", \"Wapello\", \"Warren\", \"Winneshiek\", \"Cerro Gordo\", \"Hancock\", \"Pottawattamie\", \"Poweshiek\", \"Story\", \"Unassigned\", \"Woodbury\", \"Harrison\", \"Black Hawk\", \"Tama\", \"Washington\", \"Muscatine\", \"Allamakee\", \"Dubuque\", \"Linn\", \"Dallas\", \"Polk\", \"Johnson\"], \"legendgroup\": \"Iowa\", \"marker\": {\"color\": \"#19d3f3\"}, \"name\": \"Iowa\", \"offsetgroup\": \"Iowa\", \"orientation\": \"h\", \"showlegend\": true, \"text\": [1.0, 1.0, 1.0, 1.0, 1.0, 1.0, 1.0, 1.0, 1.0, 1.0, 1.0, 1.0, 1.0, 2.0, 2.0, 2.0, 2.0, 2.0, 2.0, 2.0, 3.0, 4.0, 4.0, 4.0, 5.0, 6.0, 6.0, 6.0, 7.0, 15.0, 37.0], \"textposition\": \"inside\", \"texttemplate\": \"%{text:.2s}\", \"type\": \"bar\", \"x\": [1, 1, 1, 1, 1, 1, 1, 1, 1, 1, 1, 1, 1, 2, 2, 2, 2, 2, 2, 2, 3, 4, 4, 4, 5, 6, 6, 6, 7, 15, 37], \"xaxis\": \"x\", \"y\": [\"Iowa\", \"Iowa\", \"Iowa\", \"Iowa\", \"Iowa\", \"Iowa\", \"Iowa\", \"Iowa\", \"Iowa\", \"Iowa\", \"Iowa\", \"Iowa\", \"Iowa\", \"Iowa\", \"Iowa\", \"Iowa\", \"Iowa\", \"Iowa\", \"Iowa\", \"Iowa\", \"Iowa\", \"Iowa\", \"Iowa\", \"Iowa\", \"Iowa\", \"Iowa\", \"Iowa\", \"Iowa\", \"Iowa\", \"Iowa\", \"Iowa\"], \"yaxis\": \"y\"}, {\"alignmentgroup\": \"True\", \"customdata\": [[1, 0], [1, 0], [1, 0], [1, 0], [1, 0], [1, 0], [1, 0], [2, 0], [2, 0], [2, 0], [2, 0], [2, 0], [2, 0], [3, 0], [6, 0], [7, 0], [7, 0], [22, 1], [36, 1]], \"hoverlabel\": {\"namelength\": 0}, \"hovertemplate\": \"<b>%{hovertext}</b><br><br>State=%{y}<br>Confirmed=%{text}<br>Deaths=%{customdata[1]}\", \"hovertext\": [\"Bourbon\", \"Doniphan\", \"Franklin\", \"Jackson\", \"Mitchell\", \"Pottawatomie\", \"Woodson\", \"Cherokee\", \"Crawford\", \"Linn\", \"Lyon\", \"Morris\", \"Reno\", \"Butler\", \"Douglas\", \"Leavenworth\", \"Sedgwick\", \"Wyandotte\", \"Johnson\"], \"legendgroup\": \"Kansas\", \"marker\": {\"color\": \"#FF6692\"}, \"name\": \"Kansas\", \"offsetgroup\": \"Kansas\", \"orientation\": \"h\", \"showlegend\": true, \"text\": [1.0, 1.0, 1.0, 1.0, 1.0, 1.0, 1.0, 2.0, 2.0, 2.0, 2.0, 2.0, 2.0, 3.0, 6.0, 7.0, 7.0, 22.0, 36.0], \"textposition\": \"inside\", \"texttemplate\": \"%{text:.2s}\", \"type\": \"bar\", \"x\": [1, 1, 1, 1, 1, 1, 1, 2, 2, 2, 2, 2, 2, 3, 6, 7, 7, 22, 36], \"xaxis\": \"x\", \"y\": [\"Kansas\", \"Kansas\", \"Kansas\", \"Kansas\", \"Kansas\", \"Kansas\", \"Kansas\", \"Kansas\", \"Kansas\", \"Kansas\", \"Kansas\", \"Kansas\", \"Kansas\", \"Kansas\", \"Kansas\", \"Kansas\", \"Kansas\", \"Kansas\", \"Kansas\"], \"yaxis\": \"y\"}, {\"alignmentgroup\": \"True\", \"customdata\": [[1, 0], [1, 0], [1, 0], [1, 0], [1, 0], [1, 0], [1, 0], [1, 0], [1, 0], [1, 0], [1, 0], [1, 0], [1, 0], [1, 0], [1, 0], [1, 0], [1, 0], [2, 1], [2, 1], [2, 0], [2, 0], [2, 0], [2, 0], [2, 0], [2, 0], [2, 0], [2, 0], [3, 0], [4, 0], [5, 0], [8, 0], [11, 0], [15, 1], [33, 1], [46, 0]], \"hoverlabel\": {\"namelength\": 0}, \"hovertemplate\": \"<b>%{hovertext}</b><br><br>State=%{y}<br>Confirmed=%{text}<br>Deaths=%{customdata[1]}\", \"hovertext\": [\"Boone\", \"Breathitt\", \"Calloway\", \"Campbell\", \"Jessamine\", \"Laurel\", \"Logan\", \"Lyon\", \"Martin\", \"McCracken\", \"Menifee\", \"Nelson\", \"Oldham\", \"Scott\", \"Simpson\", \"Spencer\", \"Webster\", \"Anderson\", \"Bourbon\", \"Christian\", \"Clark\", \"Franklin\", \"Hardin\", \"Henderson\", \"Madison\", \"Montgomery\", \"Muhlenberg\", \"Pulaski\", \"Warren\", \"Kenton\", \"Harrison\", \"Daviess\", \"Fayette\", \"Jefferson\", \"Unassigned\"], \"legendgroup\": \"Kentucky\", \"marker\": {\"color\": \"#B6E880\"}, \"name\": \"Kentucky\", \"offsetgroup\": \"Kentucky\", \"orientation\": \"h\", \"showlegend\": true, \"text\": [1.0, 1.0, 1.0, 1.0, 1.0, 1.0, 1.0, 1.0, 1.0, 1.0, 1.0, 1.0, 1.0, 1.0, 1.0, 1.0, 1.0, 2.0, 2.0, 2.0, 2.0, 2.0, 2.0, 2.0, 2.0, 2.0, 2.0, 3.0, 4.0, 5.0, 8.0, 11.0, 15.0, 33.0, 46.0], \"textposition\": \"inside\", \"texttemplate\": \"%{text:.2s}\", \"type\": \"bar\", \"x\": [1, 1, 1, 1, 1, 1, 1, 1, 1, 1, 1, 1, 1, 1, 1, 1, 1, 2, 2, 2, 2, 2, 2, 2, 2, 2, 2, 3, 4, 5, 8, 11, 15, 33, 46], \"xaxis\": \"x\", \"y\": [\"Kentucky\", \"Kentucky\", \"Kentucky\", \"Kentucky\", \"Kentucky\", \"Kentucky\", \"Kentucky\", \"Kentucky\", \"Kentucky\", \"Kentucky\", \"Kentucky\", \"Kentucky\", \"Kentucky\", \"Kentucky\", \"Kentucky\", \"Kentucky\", \"Kentucky\", \"Kentucky\", \"Kentucky\", \"Kentucky\", \"Kentucky\", \"Kentucky\", \"Kentucky\", \"Kentucky\", \"Kentucky\", \"Kentucky\", \"Kentucky\", \"Kentucky\", \"Kentucky\", \"Kentucky\", \"Kentucky\", \"Kentucky\", \"Kentucky\", \"Kentucky\", \"Kentucky\"], \"yaxis\": \"y\"}, {\"alignmentgroup\": \"True\", \"customdata\": [[1, 0], [1, 1], [1, 0], [1, 0], [1, 0], [2, 0], [2, 0], [2, 0], [2, 0], [2, 0], [2, 0], [2, 0], [2, 0], [2, 0], [2, 0], [2, 0], [3, 0], [3, 0], [3, 1], [3, 1], [4, 0], [5, 1], [5, 1], [6, 0], [6, 0], [7, 1], [8, 0], [9, 1], [10, 1], [12, 0], [12, 0], [12, 1], [14, 1], [14, 0], [15, 0], [16, 0], [19, 0], [21, 0], [36, 1], [40, 0], [52, 1], [58, 2], [293, 6], [675, 26]], \"hoverlabel\": {\"namelength\": 0}, \"hovertemplate\": \"<b>%{hovertext}</b><br><br>State=%{y}<br>Confirmed=%{text}<br>Deaths=%{customdata[1]}\", \"hovertext\": [\"Bienville\", \"Catahoula\", \"Grant\", \"Richland\", \"St. Martin\", \"Acadia\", \"Allen\", \"Assumption\", \"Beauregard\", \"Claiborne\", \"Evangeline\", \"Iberia\", \"Lincoln\", \"Natchitoches\", \"St. Mary\", \"Vernon\", \"Avoyelles\", \"St. Landry\", \"Washington\", \"Webster\", \"Tangipahoa\", \"Calcasieu\", \"West Baton Rouge\", \"De Soto\", \"Livingston\", \"Ouachita\", \"Plaquemines\", \"St. James\", \"Rapides\", \"Bossier\", \"Lafayette\", \"Unassigned\", \"Iberville\", \"Terrebonne\", \"St. Charles\", \"Lafourche\", \"St. Bernard\", \"St. John the Baptist\", \"Ascension\", \"Caddo\", \"St. Tammany\", \"East Baton Rouge\", \"Jefferson\", \"Orleans\"], \"legendgroup\": \"Louisiana\", \"marker\": {\"color\": \"#FF97FF\"}, \"name\": \"Louisiana\", \"offsetgroup\": \"Louisiana\", \"orientation\": \"h\", \"showlegend\": true, \"text\": [1.0, 1.0, 1.0, 1.0, 1.0, 2.0, 2.0, 2.0, 2.0, 2.0, 2.0, 2.0, 2.0, 2.0, 2.0, 2.0, 3.0, 3.0, 3.0, 3.0, 4.0, 5.0, 5.0, 6.0, 6.0, 7.0, 8.0, 9.0, 10.0, 12.0, 12.0, 12.0, 14.0, 14.0, 15.0, 16.0, 19.0, 21.0, 36.0, 40.0, 52.0, 58.0, 293.0, 675.0], \"textposition\": \"inside\", \"texttemplate\": \"%{text:.2s}\", \"type\": \"bar\", \"x\": [1, 1, 1, 1, 1, 2, 2, 2, 2, 2, 2, 2, 2, 2, 2, 2, 3, 3, 3, 3, 4, 5, 5, 6, 6, 7, 8, 9, 10, 12, 12, 12, 14, 14, 15, 16, 19, 21, 36, 40, 52, 58, 293, 675], \"xaxis\": \"x\", \"y\": [\"Louisiana\", \"Louisiana\", \"Louisiana\", \"Louisiana\", \"Louisiana\", \"Louisiana\", \"Louisiana\", \"Louisiana\", \"Louisiana\", \"Louisiana\", \"Louisiana\", \"Louisiana\", \"Louisiana\", \"Louisiana\", \"Louisiana\", \"Louisiana\", \"Louisiana\", \"Louisiana\", \"Louisiana\", \"Louisiana\", \"Louisiana\", \"Louisiana\", \"Louisiana\", \"Louisiana\", \"Louisiana\", \"Louisiana\", \"Louisiana\", \"Louisiana\", \"Louisiana\", \"Louisiana\", \"Louisiana\", \"Louisiana\", \"Louisiana\", \"Louisiana\", \"Louisiana\", \"Louisiana\", \"Louisiana\", \"Louisiana\", \"Louisiana\", \"Louisiana\", \"Louisiana\", \"Louisiana\", \"Louisiana\", \"Louisiana\"], \"yaxis\": \"y\"}, {\"alignmentgroup\": \"True\", \"customdata\": [[1, 0], [1, 0], [3, 0], [3, 0], [4, 0], [5, 0], [5, 0], [6, 0], [16, 0], [74, 0]], \"hoverlabel\": {\"namelength\": 0}, \"hovertemplate\": \"<b>%{hovertext}</b><br><br>State=%{y}<br>Confirmed=%{text}<br>Deaths=%{customdata[1]}\", \"hovertext\": [\"Knox\", \"Waldo\", \"Androscoggin\", \"Sagadahoc\", \"Penobscot\", \"Kennebec\", \"Lincoln\", \"Oxford\", \"York\", \"Cumberland\"], \"legendgroup\": \"Maine\", \"marker\": {\"color\": \"#FECB52\"}, \"name\": \"Maine\", \"offsetgroup\": \"Maine\", \"orientation\": \"h\", \"showlegend\": true, \"text\": [1.0, 1.0, 3.0, 3.0, 4.0, 5.0, 5.0, 6.0, 16.0, 74.0], \"textposition\": \"inside\", \"texttemplate\": \"%{text:.2s}\", \"type\": \"bar\", \"x\": [1, 1, 3, 3, 4, 5, 5, 6, 16, 74], \"xaxis\": \"x\", \"y\": [\"Maine\", \"Maine\", \"Maine\", \"Maine\", \"Maine\", \"Maine\", \"Maine\", \"Maine\", \"Maine\", \"Maine\"], \"yaxis\": \"y\"}, {\"alignmentgroup\": \"True\", \"customdata\": [[1, 0], [1, 0], [1, 0], [1, 0], [2, 0], [2, 0], [2, 0], [3, 0], [3, 0], [3, 0], [4, 0], [4, 0], [5, 0], [5, 0], [5, 0], [24, 0], [30, 0], [41, 0], [42, 1], [63, 2], [107, 1]], \"hoverlabel\": {\"namelength\": 0}, \"hovertemplate\": \"<b>%{hovertext}</b><br><br>State=%{y}<br>Confirmed=%{text}<br>Deaths=%{customdata[1]}\", \"hovertext\": [\"Caroline\", \"Queen Anne's\", \"Somerset\", \"Talbot\", \"St. Mary's\", \"Washington\", \"Worcester\", \"Calvert\", \"Cecil\", \"Garrett\", \"Frederick\", \"Wicomico\", \"Carroll\", \"Charles\", \"Harford\", \"Anne Arundel\", \"Howard\", \"Baltimore City\", \"Baltimore\", \"Prince George's\", \"Montgomery\"], \"legendgroup\": \"Maryland\", \"marker\": {\"color\": \"#636efa\"}, \"name\": \"Maryland\", \"offsetgroup\": \"Maryland\", \"orientation\": \"h\", \"showlegend\": true, \"text\": [1.0, 1.0, 1.0, 1.0, 2.0, 2.0, 2.0, 3.0, 3.0, 3.0, 4.0, 4.0, 5.0, 5.0, 5.0, 24.0, 30.0, 41.0, 42.0, 63.0, 107.0], \"textposition\": \"inside\", \"texttemplate\": \"%{text:.2s}\", \"type\": \"bar\", \"x\": [1, 1, 1, 1, 2, 2, 2, 3, 3, 3, 4, 4, 5, 5, 5, 24, 30, 41, 42, 63, 107], \"xaxis\": \"x\", \"y\": [\"Maryland\", \"Maryland\", \"Maryland\", \"Maryland\", \"Maryland\", \"Maryland\", \"Maryland\", \"Maryland\", \"Maryland\", \"Maryland\", \"Maryland\", \"Maryland\", \"Maryland\", \"Maryland\", \"Maryland\", \"Maryland\", \"Maryland\", \"Maryland\", \"Maryland\", \"Maryland\", \"Maryland\"], \"yaxis\": \"y\"}, {\"alignmentgroup\": \"True\", \"customdata\": [[2, 0], [8, 0], [10, 0], [24, 0], [31, 0], [37, 0], [40, 0], [64, 0], [73, 0], [85, 9], [118, 0], [129, 0], [234, 1], [304, 1]], \"hoverlabel\": {\"namelength\": 0}, \"hovertemplate\": \"<b>%{hovertext}</b><br><br>State=%{y}<br>Confirmed=%{text}<br>Deaths=%{customdata[1]}\", \"hovertext\": [\"Dukes and Nantucket\", \"Hampshire\", \"Franklin\", \"Hampden\", \"Bristol\", \"Berkshire\", \"Barnstable\", \"Plymouth\", \"Worcester\", \"Unassigned\", \"Essex\", \"Norfolk\", \"Suffolk\", \"Middlesex\"], \"legendgroup\": \"Massachusetts\", \"marker\": {\"color\": \"#EF553B\"}, \"name\": \"Massachusetts\", \"offsetgroup\": \"Massachusetts\", \"orientation\": \"h\", \"showlegend\": true, \"text\": [2.0, 8.0, 10.0, 24.0, 31.0, 37.0, 40.0, 64.0, 73.0, 85.0, 118.0, 129.0, 234.0, 304.0], \"textposition\": \"inside\", \"texttemplate\": \"%{text:.2s}\", \"type\": \"bar\", \"x\": [2, 8, 10, 24, 31, 37, 40, 64, 73, 85, 118, 129, 234, 304], \"xaxis\": \"x\", \"y\": [\"Massachusetts\", \"Massachusetts\", \"Massachusetts\", \"Massachusetts\", \"Massachusetts\", \"Massachusetts\", \"Massachusetts\", \"Massachusetts\", \"Massachusetts\", \"Massachusetts\", \"Massachusetts\", \"Massachusetts\", \"Massachusetts\", \"Massachusetts\"], \"yaxis\": \"y\"}, {\"alignmentgroup\": \"True\", \"customdata\": [[1, 0], [1, 0], [1, 0], [1, 0], [1, 0], [1, 0], [1, 0], [1, 0], [1, 0], [1, 0], [1, 0], [1, 0], [1, 0], [1, 0], [2, 0], [2, 0], [2, 0], [2, 0], [2, 0], [3, 0], [3, 0], [3, 0], [3, 0], [3, 0], [4, 0], [5, 0], [5, 0], [5, 0], [6, 0], [6, 0], [8, 0], [8, 0], [8, 0], [12, 0], [13, 0], [15, 0], [15, 0], [31, 1], [34, 0], [50, 3], [225, 3], [428, 4], [876, 13]], \"hoverlabel\": {\"namelength\": 0}, \"hovertemplate\": \"<b>%{hovertext}</b><br><br>State=%{y}<br>Confirmed=%{text}<br>Deaths=%{customdata[1]}\", \"hovertext\": [\"Allegan\", \"Barry\", \"Chippewa\", \"Clare\", \"Hillsdale\", \"Kalkaska\", \"Lapeer\", \"Leelanau\", \"Manistee\", \"Marquette\", \"Montcalm\", \"Roscommon\", \"Tuscola\", \"Wexford\", \"Bay\", \"Emmet\", \"Gladwin\", \"Isabella\", \"Newaygo\", \"Charlevoix\", \"Eaton\", \"Grand Traverse\", \"Kalamazoo\", \"Muskegon\", \"Calhoun\", \"Clinton\", \"Midland\", \"Otsego\", \"Jackson\", \"Out of MI\", \"Berrien\", \"Saginaw\", \"St. Clair\", \"Monroe\", \"Livingston\", \"Ingham\", \"Ottawa\", \"Kent\", \"Genesee\", \"Washtenaw\", \"Macomb\", \"Oakland\", \"Wayne\"], \"legendgroup\": \"Michigan\", \"marker\": {\"color\": \"#00cc96\"}, \"name\": \"Michigan\", \"offsetgroup\": \"Michigan\", \"orientation\": \"h\", \"showlegend\": true, \"text\": [1.0, 1.0, 1.0, 1.0, 1.0, 1.0, 1.0, 1.0, 1.0, 1.0, 1.0, 1.0, 1.0, 1.0, 2.0, 2.0, 2.0, 2.0, 2.0, 3.0, 3.0, 3.0, 3.0, 3.0, 4.0, 5.0, 5.0, 5.0, 6.0, 6.0, 8.0, 8.0, 8.0, 12.0, 13.0, 15.0, 15.0, 31.0, 34.0, 50.0, 225.0, 428.0, 876.0], \"textposition\": \"inside\", \"texttemplate\": \"%{text:.2s}\", \"type\": \"bar\", \"x\": [1, 1, 1, 1, 1, 1, 1, 1, 1, 1, 1, 1, 1, 1, 2, 2, 2, 2, 2, 3, 3, 3, 3, 3, 4, 5, 5, 5, 6, 6, 8, 8, 8, 12, 13, 15, 15, 31, 34, 50, 225, 428, 876], \"xaxis\": \"x\", \"y\": [\"Michigan\", \"Michigan\", \"Michigan\", \"Michigan\", \"Michigan\", \"Michigan\", \"Michigan\", \"Michigan\", \"Michigan\", \"Michigan\", \"Michigan\", \"Michigan\", \"Michigan\", \"Michigan\", \"Michigan\", \"Michigan\", \"Michigan\", \"Michigan\", \"Michigan\", \"Michigan\", \"Michigan\", \"Michigan\", \"Michigan\", \"Michigan\", \"Michigan\", \"Michigan\", \"Michigan\", \"Michigan\", \"Michigan\", \"Michigan\", \"Michigan\", \"Michigan\", \"Michigan\", \"Michigan\", \"Michigan\", \"Michigan\", \"Michigan\", \"Michigan\", \"Michigan\", \"Michigan\", \"Michigan\", \"Michigan\", \"Michigan\"], \"yaxis\": \"y\"}, {\"alignmentgroup\": \"True\", \"customdata\": [[1, 0], [1, 0], [1, 0], [1, 0], [1, 0], [1, 0], [1, 0], [1, 0], [2, 0], [2, 0], [2, 0], [3, 0], [3, 0], [3, 0], [3, 0], [3, 0], [5, 0], [5, 0], [5, 0], [5, 0], [5, 0], [6, 0], [7, 0], [8, 0], [8, 0], [10, 0], [18, 0], [21, 0], [26, 1], [103, 0]], \"hoverlabel\": {\"namelength\": 0}, \"hovertemplate\": \"<b>%{hovertext}</b><br><br>State=%{y}<br>Confirmed=%{text}<br>Deaths=%{customdata[1]}\", \"hovertext\": [\"Benton\", \"Big Stone\", \"Cass\", \"Jackson\", \"Renville\", \"Sherburne\", \"Wabasha\", \"Waseca\", \"Chisago\", \"Rice\", \"St. Louis\", \"Clay\", \"Dodge\", \"Fillmore\", \"Nicollet\", \"Wright\", \"Blue Earth\", \"Le Sueur\", \"Scott\", \"Stearns\", \"Steele\", \"Mower\", \"Anoka\", \"Carver\", \"Martin\", \"Washington\", \"Olmsted\", \"Dakota\", \"Ramsey\", \"Hennepin\"], \"legendgroup\": \"Minnesota\", \"marker\": {\"color\": \"#ab63fa\"}, \"name\": \"Minnesota\", \"offsetgroup\": \"Minnesota\", \"orientation\": \"h\", \"showlegend\": true, \"text\": [1.0, 1.0, 1.0, 1.0, 1.0, 1.0, 1.0, 1.0, 2.0, 2.0, 2.0, 3.0, 3.0, 3.0, 3.0, 3.0, 5.0, 5.0, 5.0, 5.0, 5.0, 6.0, 7.0, 8.0, 8.0, 10.0, 18.0, 21.0, 26.0, 103.0], \"textposition\": \"inside\", \"texttemplate\": \"%{text:.2s}\", \"type\": \"bar\", \"x\": [1, 1, 1, 1, 1, 1, 1, 1, 2, 2, 2, 3, 3, 3, 3, 3, 5, 5, 5, 5, 5, 6, 7, 8, 8, 10, 18, 21, 26, 103], \"xaxis\": \"x\", \"y\": [\"Minnesota\", \"Minnesota\", \"Minnesota\", \"Minnesota\", \"Minnesota\", \"Minnesota\", \"Minnesota\", \"Minnesota\", \"Minnesota\", \"Minnesota\", \"Minnesota\", \"Minnesota\", \"Minnesota\", \"Minnesota\", \"Minnesota\", \"Minnesota\", \"Minnesota\", \"Minnesota\", \"Minnesota\", \"Minnesota\", \"Minnesota\", \"Minnesota\", \"Minnesota\", \"Minnesota\", \"Minnesota\", \"Minnesota\", \"Minnesota\", \"Minnesota\", \"Minnesota\", \"Minnesota\"], \"yaxis\": \"y\"}, {\"alignmentgroup\": \"True\", \"customdata\": [[1, 0], [1, 0], [1, 0], [1, 0], [1, 0], [1, 0], [1, 0], [1, 0], [1, 0], [1, 0], [1, 0], [1, 0], [1, 0], [2, 0], [2, 0], [2, 0], [2, 0], [2, 0], [2, 0], [2, 0], [2, 0], [2, 0], [2, 0], [2, 0], [2, 0], [2, 0], [3, 0], [3, 0], [3, 0], [3, 0], [3, 0], [3, 0], [3, 0], [3, 0], [4, 0], [4, 0], [4, 0], [5, 0], [5, 1], [5, 0], [5, 0], [6, 0], [6, 0], [6, 0], [7, 0], [8, 0], [10, 0], [10, 0], [11, 0], [11, 0], [12, 0], [13, 0], [13, 0], [14, 0], [14, 0], [24, 0], [29, 0], [31, 0]], \"hoverlabel\": {\"namelength\": 0}, \"hovertemplate\": \"<b>%{hovertext}</b><br><br>State=%{y}<br>Confirmed=%{text}<br>Deaths=%{customdata[1]}\", \"hovertext\": [\"Choctaw\", \"Clay\", \"George\", \"Humphreys\", \"Jones\", \"Marion\", \"Newton\", \"Noxubee\", \"Perry\", \"Simpson\", \"Smith\", \"Tate\", \"Union\", \"Adams\", \"Grenada\", \"Lamar\", \"Lawrence\", \"Leake\", \"Montgomery\", \"Panola\", \"Pontotoc\", \"Scott\", \"Tallahatchie\", \"Walthall\", \"Webster\", \"Winston\", \"Attala\", \"Franklin\", \"Itawamba\", \"Marshall\", \"Monroe\", \"Sunflower\", \"Tunica\", \"Yazoo\", \"Bolivar\", \"Lincoln\", \"Wilkinson\", \"Copiah\", \"Hancock\", \"Oktibbeha\", \"Washington\", \"Chickasaw\", \"Holmes\", \"Lowndes\", \"Pike\", \"Lafayette\", \"Jackson\", \"Leflore\", \"Coahoma\", \"Tippah\", \"Lee\", \"Pearl River\", \"Rankin\", \"Forrest\", \"Madison\", \"Harrison\", \"DeSoto\", \"Hinds\"], \"legendgroup\": \"Mississippi\", \"marker\": {\"color\": \"#FFA15A\"}, \"name\": \"Mississippi\", \"offsetgroup\": \"Mississippi\", \"orientation\": \"h\", \"showlegend\": true, \"text\": [1.0, 1.0, 1.0, 1.0, 1.0, 1.0, 1.0, 1.0, 1.0, 1.0, 1.0, 1.0, 1.0, 2.0, 2.0, 2.0, 2.0, 2.0, 2.0, 2.0, 2.0, 2.0, 2.0, 2.0, 2.0, 2.0, 3.0, 3.0, 3.0, 3.0, 3.0, 3.0, 3.0, 3.0, 4.0, 4.0, 4.0, 5.0, 5.0, 5.0, 5.0, 6.0, 6.0, 6.0, 7.0, 8.0, 10.0, 10.0, 11.0, 11.0, 12.0, 13.0, 13.0, 14.0, 14.0, 24.0, 29.0, 31.0], \"textposition\": \"inside\", \"texttemplate\": \"%{text:.2s}\", \"type\": \"bar\", \"x\": [1, 1, 1, 1, 1, 1, 1, 1, 1, 1, 1, 1, 1, 2, 2, 2, 2, 2, 2, 2, 2, 2, 2, 2, 2, 2, 3, 3, 3, 3, 3, 3, 3, 3, 4, 4, 4, 5, 5, 5, 5, 6, 6, 6, 7, 8, 10, 10, 11, 11, 12, 13, 13, 14, 14, 24, 29, 31], \"xaxis\": \"x\", \"y\": [\"Mississippi\", \"Mississippi\", \"Mississippi\", \"Mississippi\", \"Mississippi\", \"Mississippi\", \"Mississippi\", \"Mississippi\", \"Mississippi\", \"Mississippi\", \"Mississippi\", \"Mississippi\", \"Mississippi\", \"Mississippi\", \"Mississippi\", \"Mississippi\", \"Mississippi\", \"Mississippi\", \"Mississippi\", \"Mississippi\", \"Mississippi\", \"Mississippi\", \"Mississippi\", \"Mississippi\", \"Mississippi\", \"Mississippi\", \"Mississippi\", \"Mississippi\", \"Mississippi\", \"Mississippi\", \"Mississippi\", \"Mississippi\", \"Mississippi\", \"Mississippi\", \"Mississippi\", \"Mississippi\", \"Mississippi\", \"Mississippi\", \"Mississippi\", \"Mississippi\", \"Mississippi\", \"Mississippi\", \"Mississippi\", \"Mississippi\", \"Mississippi\", \"Mississippi\", \"Mississippi\", \"Mississippi\", \"Mississippi\", \"Mississippi\", \"Mississippi\", \"Mississippi\", \"Mississippi\", \"Mississippi\", \"Mississippi\", \"Mississippi\", \"Mississippi\", \"Mississippi\"], \"yaxis\": \"y\"}, {\"alignmentgroup\": \"True\", \"customdata\": [[1, 0], [1, 0], [1, 0], [1, 0], [1, 0], [1, 0], [1, 0], [1, 0], [1, 0], [1, 0], [1, 0], [1, 0], [1, 0], [1, 0], [2, 0], [2, 0], [2, 0], [2, 0], [2, 0], [3, 0], [4, 0], [4, 0], [5, 0], [6, 0], [6, 0], [8, 0], [14, 1], [19, 3], [20, 1], [21, 0], [23, 1], [100, 1]], \"hoverlabel\": {\"namelength\": 0}, \"hovertemplate\": \"<b>%{hovertext}</b><br><br>State=%{y}<br>Confirmed=%{text}<br>Deaths=%{customdata[1]}\", \"hovertext\": [\"Adair\", \"Bates\", \"Camden\", \"Clinton\", \"Dunklin\", \"Henry\", \"Jasper\", \"Johnson\", \"Lafayette\", \"Moniteau\", \"Pemiscot\", \"Randolph\", \"Scott\", \"Taney\", \"Callaway\", \"Christian\", \"Perry\", \"Platte\", \"St. Francois\", \"Clay\", \"Jefferson\", \"Pulaski\", \"Cole\", \"Cass\", \"Unassigned\", \"St. Charles\", \"Jackson\", \"Greene\", \"Boone\", \"Kansas City\", \"St. Louis City\", \"St. Louis\"], \"legendgroup\": \"Missouri\", \"marker\": {\"color\": \"#19d3f3\"}, \"name\": \"Missouri\", \"offsetgroup\": \"Missouri\", \"orientation\": \"h\", \"showlegend\": true, \"text\": [1.0, 1.0, 1.0, 1.0, 1.0, 1.0, 1.0, 1.0, 1.0, 1.0, 1.0, 1.0, 1.0, 1.0, 2.0, 2.0, 2.0, 2.0, 2.0, 3.0, 4.0, 4.0, 5.0, 6.0, 6.0, 8.0, 14.0, 19.0, 20.0, 21.0, 23.0, 100.0], \"textposition\": \"inside\", \"texttemplate\": \"%{text:.2s}\", \"type\": \"bar\", \"x\": [1, 1, 1, 1, 1, 1, 1, 1, 1, 1, 1, 1, 1, 1, 2, 2, 2, 2, 2, 3, 4, 4, 5, 6, 6, 8, 14, 19, 20, 21, 23, 100], \"xaxis\": \"x\", \"y\": [\"Missouri\", \"Missouri\", \"Missouri\", \"Missouri\", \"Missouri\", \"Missouri\", \"Missouri\", \"Missouri\", \"Missouri\", \"Missouri\", \"Missouri\", \"Missouri\", \"Missouri\", \"Missouri\", \"Missouri\", \"Missouri\", \"Missouri\", \"Missouri\", \"Missouri\", \"Missouri\", \"Missouri\", \"Missouri\", \"Missouri\", \"Missouri\", \"Missouri\", \"Missouri\", \"Missouri\", \"Missouri\", \"Missouri\", \"Missouri\", \"Missouri\", \"Missouri\"], \"yaxis\": \"y\"}, {\"alignmentgroup\": \"True\", \"customdata\": [[1, 0], [1, 0], [1, 0], [1, 0], [2, 0], [3, 0], [3, 0], [4, 0], [6, 0], [6, 0], [7, 0], [16, 0]], \"hoverlabel\": {\"namelength\": 0}, \"hovertemplate\": \"<b>%{hovertext}</b><br><br>State=%{y}<br>Confirmed=%{text}<br>Deaths=%{customdata[1]}\", \"hovertext\": [\"Broadwater\", \"Madison\", \"Ravalli\", \"Roosevelt\", \"Silver Bow\", \"Cascade\", \"Lewis and Clark\", \"Flathead\", \"Missoula\", \"Unassigned\", \"Yellowstone\", \"Gallatin\"], \"legendgroup\": \"Montana\", \"marker\": {\"color\": \"#FF6692\"}, \"name\": \"Montana\", \"offsetgroup\": \"Montana\", \"orientation\": \"h\", \"showlegend\": true, \"text\": [1.0, 1.0, 1.0, 1.0, 2.0, 3.0, 3.0, 4.0, 6.0, 6.0, 7.0, 16.0], \"textposition\": \"inside\", \"texttemplate\": \"%{text:.2s}\", \"type\": \"bar\", \"x\": [1, 1, 1, 1, 2, 3, 3, 4, 6, 6, 7, 16], \"xaxis\": \"x\", \"y\": [\"Montana\", \"Montana\", \"Montana\", \"Montana\", \"Montana\", \"Montana\", \"Montana\", \"Montana\", \"Montana\", \"Montana\", \"Montana\", \"Montana\"], \"yaxis\": \"y\"}, {\"alignmentgroup\": \"True\", \"customdata\": [[1, 0], [1, 0], [1, 0], [1, 0], [1, 0], [2, 0], [2, 0], [2, 0], [2, 0], [3, 0], [3, 0], [8, 0], [39, 0]], \"hoverlabel\": {\"namelength\": 0}, \"hovertemplate\": \"<b>%{hovertext}</b><br><br>State=%{y}<br>Confirmed=%{text}<br>Deaths=%{customdata[1]}\", \"hovertext\": [\"Adams\", \"Gage\", \"Madison\", \"Nemaha\", \"Saunders\", \"Buffalo\", \"Cass\", \"Knox\", \"Lancaster\", \"Lincoln\", \"Washington\", \"Sarpy\", \"Douglas\"], \"legendgroup\": \"Nebraska\", \"marker\": {\"color\": \"#B6E880\"}, \"name\": \"Nebraska\", \"offsetgroup\": \"Nebraska\", \"orientation\": \"h\", \"showlegend\": true, \"text\": [1.0, 1.0, 1.0, 1.0, 1.0, 2.0, 2.0, 2.0, 2.0, 3.0, 3.0, 8.0, 39.0], \"textposition\": \"inside\", \"texttemplate\": \"%{text:.2s}\", \"type\": \"bar\", \"x\": [1, 1, 1, 1, 1, 2, 2, 2, 2, 3, 3, 8, 39], \"xaxis\": \"x\", \"y\": [\"Nebraska\", \"Nebraska\", \"Nebraska\", \"Nebraska\", \"Nebraska\", \"Nebraska\", \"Nebraska\", \"Nebraska\", \"Nebraska\", \"Nebraska\", \"Nebraska\", \"Nebraska\", \"Nebraska\"], \"yaxis\": \"y\"}, {\"alignmentgroup\": \"True\", \"customdata\": [[1, 0], [2, 0], [2, 0], [2, 0], [15, 0], [44, 0], [212, 4]], \"hoverlabel\": {\"namelength\": 0}, \"hovertemplate\": \"<b>%{hovertext}</b><br><br>State=%{y}<br>Confirmed=%{text}<br>Deaths=%{customdata[1]}\", \"hovertext\": [\"Nye\", \"Carson City\", \"Douglas\", \"Elko County\", \"Unassigned\", \"Washoe\", \"Clark\"], \"legendgroup\": \"Nevada\", \"marker\": {\"color\": \"#FF97FF\"}, \"name\": \"Nevada\", \"offsetgroup\": \"Nevada\", \"orientation\": \"h\", \"showlegend\": true, \"text\": [1.0, 2.0, 2.0, 2.0, 15.0, 44.0, 212.0], \"textposition\": \"inside\", \"texttemplate\": \"%{text:.2s}\", \"type\": \"bar\", \"x\": [1, 2, 2, 2, 15, 44, 212], \"xaxis\": \"x\", \"y\": [\"Nevada\", \"Nevada\", \"Nevada\", \"Nevada\", \"Nevada\", \"Nevada\", \"Nevada\"], \"yaxis\": \"y\"}, {\"alignmentgroup\": \"True\", \"customdata\": [[1, 0], [1, 0], [4, 0], [4, 0], [7, 0], [7, 0], [19, 1], [20, 0], [38, 0]], \"hoverlabel\": {\"namelength\": 0}, \"hovertemplate\": \"<b>%{hovertext}</b><br><br>State=%{y}<br>Confirmed=%{text}<br>Deaths=%{customdata[1]}\", \"hovertext\": [\"Cheshire\", \"Sullivan\", \"Merrimack\", \"Strafford\", \"Belknap\", \"Carroll\", \"Hillsborough\", \"Grafton\", \"Rockingham\"], \"legendgroup\": \"New Hampshire\", \"marker\": {\"color\": \"#FECB52\"}, \"name\": \"New Hampshire\", \"offsetgroup\": \"New Hampshire\", \"orientation\": \"h\", \"showlegend\": true, \"text\": [1.0, 1.0, 4.0, 4.0, 7.0, 7.0, 19.0, 20.0, 38.0], \"textposition\": \"inside\", \"texttemplate\": \"%{text:.2s}\", \"type\": \"bar\", \"x\": [1, 1, 4, 4, 7, 7, 19, 20, 38], \"xaxis\": \"x\", \"y\": [\"New Hampshire\", \"New Hampshire\", \"New Hampshire\", \"New Hampshire\", \"New Hampshire\", \"New Hampshire\", \"New Hampshire\", \"New Hampshire\", \"New Hampshire\"], \"yaxis\": \"y\"}, {\"alignmentgroup\": \"True\", \"customdata\": [[1, 0], [2, 0], [3, 0], [6, 0], [15, 0], [18, 0], [19, 0], [25, 0], [42, 0], [51, 1], [58, 0], [102, 1], [180, 1], [204, 1], [216, 0], [234, 1], [246, 0], [277, 0], [288, 3], [342, 4], [645, 26], [701, 6]], \"hoverlabel\": {\"namelength\": 0}, \"hovertemplate\": \"<b>%{hovertext}</b><br><br>State=%{y}<br>Confirmed=%{text}<br>Deaths=%{customdata[1]}\", \"hovertext\": [\"Salem\", \"Cumberland\", \"Cape May\", \"Atlantic\", \"Warren\", \"Sussex\", \"Gloucester\", \"Hunterdon\", \"Burlington\", \"Camden\", \"Mercer\", \"Somerset\", \"Ocean\", \"Morris\", \"Passaic\", \"Hudson\", \"Union\", \"Middlesex\", \"Monmouth\", \"Essex\", \"Unassigned\", \"Bergen\"], \"legendgroup\": \"New Jersey\", \"marker\": {\"color\": \"#636efa\"}, \"name\": \"New Jersey\", \"offsetgroup\": \"New Jersey\", \"orientation\": \"h\", \"showlegend\": true, \"text\": [1.0, 2.0, 3.0, 6.0, 15.0, 18.0, 19.0, 25.0, 42.0, 51.0, 58.0, 102.0, 180.0, 204.0, 216.0, 234.0, 246.0, 277.0, 288.0, 342.0, 645.0, 701.0], \"textposition\": \"inside\", \"texttemplate\": \"%{text:.2s}\", \"type\": \"bar\", \"x\": [1, 2, 3, 6, 15, 18, 19, 25, 42, 51, 58, 102, 180, 204, 216, 234, 246, 277, 288, 342, 645, 701], \"xaxis\": \"x\", \"y\": [\"New Jersey\", \"New Jersey\", \"New Jersey\", \"New Jersey\", \"New Jersey\", \"New Jersey\", \"New Jersey\", \"New Jersey\", \"New Jersey\", \"New Jersey\", \"New Jersey\", \"New Jersey\", \"New Jersey\", \"New Jersey\", \"New Jersey\", \"New Jersey\", \"New Jersey\", \"New Jersey\", \"New Jersey\", \"New Jersey\", \"New Jersey\", \"New Jersey\"], \"yaxis\": \"y\"}, {\"alignmentgroup\": \"True\", \"customdata\": [[1, 0], [1, 0], [1, 0], [1, 0], [2, 0], [3, 0], [3, 0], [4, 0], [7, 0], [7, 0], [13, 0], [14, 0], [43, 0]], \"hoverlabel\": {\"namelength\": 0}, \"hovertemplate\": \"<b>%{hovertext}</b><br><br>State=%{y}<br>Confirmed=%{text}<br>Deaths=%{customdata[1]}\", \"hovertext\": [\"Cibola\", \"Curry\", \"Lea\", \"San Miguel\", \"Socorro\", \"McKinley\", \"Taos\", \"Chaves\", \"San Juan\", \"Sandoval\", \"Dona Ana\", \"Santa Fe\", \"Bernalillo\"], \"legendgroup\": \"New Mexico\", \"marker\": {\"color\": \"#EF553B\"}, \"name\": \"New Mexico\", \"offsetgroup\": \"New Mexico\", \"orientation\": \"h\", \"showlegend\": true, \"text\": [1.0, 1.0, 1.0, 1.0, 2.0, 3.0, 3.0, 4.0, 7.0, 7.0, 13.0, 14.0, 43.0], \"textposition\": \"inside\", \"texttemplate\": \"%{text:.2s}\", \"type\": \"bar\", \"x\": [1, 1, 1, 1, 2, 3, 3, 4, 7, 7, 13, 14, 43], \"xaxis\": \"x\", \"y\": [\"New Mexico\", \"New Mexico\", \"New Mexico\", \"New Mexico\", \"New Mexico\", \"New Mexico\", \"New Mexico\", \"New Mexico\", \"New Mexico\", \"New Mexico\", \"New Mexico\", \"New Mexico\", \"New Mexico\"], \"yaxis\": \"y\"}, {\"alignmentgroup\": \"True\", \"customdata\": [[1, 0], [1, 0], [1, 0], [1, 0], [1, 0], [1, 0], [2, 0], [2, 0], [2, 0], [2, 0], [2, 0], [2, 0], [2, 0], [2, 0], [3, 0], [3, 0], [3, 0], [3, 0], [3, 0], [3, 0], [3, 0], [4, 0], [4, 0], [4, 1], [4, 1], [6, 0], [6, 0], [6, 0], [8, 0], [9, 1], [10, 0], [10, 0], [16, 0], [18, 0], [23, 0], [33, 0], [35, 0], [44, 0], [53, 0], [60, 1], [82, 0], [106, 3], [114, 0], [124, 1], [146, 0], [498, 0], [671, 5], [1880, 17], [2869, 9], [3891, 1], [14904, 131]], \"hoverlabel\": {\"namelength\": 0}, \"hovertemplate\": \"<b>%{hovertext}</b><br><br>State=%{y}<br>Confirmed=%{text}<br>Deaths=%{customdata[1]}\", \"hovertext\": [\"Fulton\", \"Genesee\", \"Otsego\", \"Schoharie\", \"St. Lawrence\", \"Tioga\", \"Allegany\", \"Cayuga\", \"Chautauqua\", \"Cortland\", \"Hamilton\", \"Jefferson\", \"Oswego\", \"Warren\", \"Chemung\", \"Chenango\", \"Delaware\", \"Essex\", \"Livingston\", \"Montgomery\", \"Washington\", \"Greene\", \"Herkimer\", \"Madison\", \"Wyoming\", \"Clinton\", \"Ontario\", \"Wayne\", \"Steuben\", \"Broome\", \"Niagara\", \"Oneida\", \"Tompkins\", \"Columbia\", \"Sullivan\", \"Rensselaer\", \"Ulster\", \"Schenectady\", \"Saratoga\", \"Onondaga\", \"Putnam\", \"Monroe\", \"Erie\", \"Dutchess\", \"Albany\", \"Orange\", \"Rockland\", \"Suffolk\", \"Nassau\", \"Westchester\", \"New York City\"], \"legendgroup\": \"New York\", \"marker\": {\"color\": \"#00cc96\"}, \"name\": \"New York\", \"offsetgroup\": \"New York\", \"orientation\": \"h\", \"showlegend\": true, \"text\": [1.0, 1.0, 1.0, 1.0, 1.0, 1.0, 2.0, 2.0, 2.0, 2.0, 2.0, 2.0, 2.0, 2.0, 3.0, 3.0, 3.0, 3.0, 3.0, 3.0, 3.0, 4.0, 4.0, 4.0, 4.0, 6.0, 6.0, 6.0, 8.0, 9.0, 10.0, 10.0, 16.0, 18.0, 23.0, 33.0, 35.0, 44.0, 53.0, 60.0, 82.0, 106.0, 114.0, 124.0, 146.0, 498.0, 671.0, 1880.0, 2869.0, 3891.0, 14904.0], \"textposition\": \"inside\", \"texttemplate\": \"%{text:.2s}\", \"type\": \"bar\", \"x\": [1, 1, 1, 1, 1, 1, 2, 2, 2, 2, 2, 2, 2, 2, 3, 3, 3, 3, 3, 3, 3, 4, 4, 4, 4, 6, 6, 6, 8, 9, 10, 10, 16, 18, 23, 33, 35, 44, 53, 60, 82, 106, 114, 124, 146, 498, 671, 1880, 2869, 3891, 14904], \"xaxis\": \"x\", \"y\": [\"New York\", \"New York\", \"New York\", \"New York\", \"New York\", \"New York\", \"New York\", \"New York\", \"New York\", \"New York\", \"New York\", \"New York\", \"New York\", \"New York\", \"New York\", \"New York\", \"New York\", \"New York\", \"New York\", \"New York\", \"New York\", \"New York\", \"New York\", \"New York\", \"New York\", \"New York\", \"New York\", \"New York\", \"New York\", \"New York\", \"New York\", \"New York\", \"New York\", \"New York\", \"New York\", \"New York\", \"New York\", \"New York\", \"New York\", \"New York\", \"New York\", \"New York\", \"New York\", \"New York\", \"New York\", \"New York\", \"New York\", \"New York\", \"New York\", \"New York\", \"New York\"], \"yaxis\": \"y\"}, {\"alignmentgroup\": \"True\", \"customdata\": [[1, 0], [1, 0], [1, 0], [1, 0], [1, 0], [1, 0], [1, 0], [1, 0], [1, 0], [1, 0], [1, 0], [1, 0], [1, 0], [1, 0], [1, 0], [1, 0], [1, 0], [1, 0], [1, 0], [1, 0], [2, 0], [2, 0], [2, 0], [2, 0], [2, 0], [2, 0], [3, 0], [3, 0], [3, 0], [3, 0], [3, 0], [3, 0], [3, 0], [4, 0], [4, 0], [4, 0], [4, 0], [4, 0], [4, 0], [4, 0], [5, 0], [5, 0], [5, 0], [6, 0], [6, 0], [9, 0], [9, 0], [10, 0], [10, 0], [10, 0], [12, 0], [14, 0], [16, 0], [18, 0], [66, 0], [71, 0], [142, 0]], \"hoverlabel\": {\"namelength\": 0}, \"hovertemplate\": \"<b>%{hovertext}</b><br><br>State=%{y}<br>Confirmed=%{text}<br>Deaths=%{customdata[1]}\", \"hovertext\": [\"Bertie\", \"Caldwell\", \"Chowan\", \"Davie\", \"Duplin\", \"Granville\", \"Hertford\", \"Hoke\", \"Hyde\", \"Jackson\", \"Lee\", \"Lenoir\", \"Lincoln\", \"Montgomery\", \"Northampton\", \"Pasquotank\", \"Sampson\", \"Scotland\", \"Transylvania\", \"Vance\", \"Beaufort\", \"Henderson\", \"McDowell\", \"Moore\", \"Robeson\", \"Wayne\", \"Alamance\", \"Chatham\", \"Craven\", \"Davidson\", \"Onslow\", \"Randolph\", \"Watauga\", \"Catawba\", \"Cherokee\", \"Franklin\", \"Gaston\", \"Johnston\", \"Nash\", \"Wilson\", \"Carteret\", \"Cumberland\", \"Rowan\", \"Orange\", \"Pitt\", \"Harnett\", \"Iredell\", \"Brunswick\", \"Cabarrus\", \"New Hanover\", \"Buncombe\", \"Forsyth\", \"Guilford\", \"Union\", \"Wake\", \"Durham\", \"Mecklenburg\"], \"legendgroup\": \"North Carolina\", \"marker\": {\"color\": \"#ab63fa\"}, \"name\": \"North Carolina\", \"offsetgroup\": \"North Carolina\", \"orientation\": \"h\", \"showlegend\": true, \"text\": [1.0, 1.0, 1.0, 1.0, 1.0, 1.0, 1.0, 1.0, 1.0, 1.0, 1.0, 1.0, 1.0, 1.0, 1.0, 1.0, 1.0, 1.0, 1.0, 1.0, 2.0, 2.0, 2.0, 2.0, 2.0, 2.0, 3.0, 3.0, 3.0, 3.0, 3.0, 3.0, 3.0, 4.0, 4.0, 4.0, 4.0, 4.0, 4.0, 4.0, 5.0, 5.0, 5.0, 6.0, 6.0, 9.0, 9.0, 10.0, 10.0, 10.0, 12.0, 14.0, 16.0, 18.0, 66.0, 71.0, 142.0], \"textposition\": \"inside\", \"texttemplate\": \"%{text:.2s}\", \"type\": \"bar\", \"x\": [1, 1, 1, 1, 1, 1, 1, 1, 1, 1, 1, 1, 1, 1, 1, 1, 1, 1, 1, 1, 2, 2, 2, 2, 2, 2, 3, 3, 3, 3, 3, 3, 3, 4, 4, 4, 4, 4, 4, 4, 5, 5, 5, 6, 6, 9, 9, 10, 10, 10, 12, 14, 16, 18, 66, 71, 142], \"xaxis\": \"x\", \"y\": [\"North Carolina\", \"North Carolina\", \"North Carolina\", \"North Carolina\", \"North Carolina\", \"North Carolina\", \"North Carolina\", \"North Carolina\", \"North Carolina\", \"North Carolina\", \"North Carolina\", \"North Carolina\", \"North Carolina\", \"North Carolina\", \"North Carolina\", \"North Carolina\", \"North Carolina\", \"North Carolina\", \"North Carolina\", \"North Carolina\", \"North Carolina\", \"North Carolina\", \"North Carolina\", \"North Carolina\", \"North Carolina\", \"North Carolina\", \"North Carolina\", \"North Carolina\", \"North Carolina\", \"North Carolina\", \"North Carolina\", \"North Carolina\", \"North Carolina\", \"North Carolina\", \"North Carolina\", \"North Carolina\", \"North Carolina\", \"North Carolina\", \"North Carolina\", \"North Carolina\", \"North Carolina\", \"North Carolina\", \"North Carolina\", \"North Carolina\", \"North Carolina\", \"North Carolina\", \"North Carolina\", \"North Carolina\", \"North Carolina\", \"North Carolina\", \"North Carolina\", \"North Carolina\", \"North Carolina\", \"North Carolina\", \"North Carolina\", \"North Carolina\", \"North Carolina\"], \"yaxis\": \"y\"}, {\"alignmentgroup\": \"True\", \"customdata\": [[1, 0], [1, 0], [1, 0], [2, 0], [3, 0], [3, 0], [7, 0], [18, 0]], \"hoverlabel\": {\"namelength\": 0}, \"hovertemplate\": \"<b>%{hovertext}</b><br><br>State=%{y}<br>Confirmed=%{text}<br>Deaths=%{customdata[1]}\", \"hovertext\": [\"Dunn\", \"Ramsey\", \"Walsh\", \"Pierce\", \"Cass\", \"Ward\", \"Morton\", \"Burleigh\"], \"legendgroup\": \"North Dakota\", \"marker\": {\"color\": \"#FFA15A\"}, \"name\": \"North Dakota\", \"offsetgroup\": \"North Dakota\", \"orientation\": \"h\", \"showlegend\": true, \"text\": [1.0, 1.0, 1.0, 2.0, 3.0, 3.0, 7.0, 18.0], \"textposition\": \"inside\", \"texttemplate\": \"%{text:.2s}\", \"type\": \"bar\", \"x\": [1, 1, 1, 2, 3, 3, 7, 18], \"xaxis\": \"x\", \"y\": [\"North Dakota\", \"North Dakota\", \"North Dakota\", \"North Dakota\", \"North Dakota\", \"North Dakota\", \"North Dakota\", \"North Dakota\"], \"yaxis\": \"y\"}, {\"alignmentgroup\": \"True\", \"customdata\": [[1, 0], [1, 0], [1, 0], [1, 0], [1, 0], [1, 1], [1, 1], [1, 0], [1, 0], [1, 0], [1, 0], [1, 0], [1, 0], [1, 0], [2, 0], [2, 0], [2, 0], [2, 0], [2, 0], [2, 0], [2, 0], [2, 0], [2, 0], [3, 0], [3, 0], [3, 0], [3, 0], [3, 0], [3, 0], [4, 0], [4, 0], [4, 0], [4, 0], [5, 0], [5, 0], [7, 0], [10, 0], [11, 0], [11, 0], [13, 1], [13, 1], [15, 0], [18, 0], [19, 0], [28, 0], [30, 0], [36, 0], [38, 0], [75, 2], [167, 2]], \"hoverlabel\": {\"namelength\": 0}, \"hovertemplate\": \"<b>%{hovertext}</b><br><br>State=%{y}<br>Confirmed=%{text}<br>Deaths=%{customdata[1]}\", \"hovertext\": [\"Ashland\", \"Champaign\", \"Clinton\", \"Crawford\", \"Darke\", \"Erie\", \"Gallia\", \"Hancock\", \"Highland\", \"Knox\", \"Madison\", \"Sandusky\", \"Seneca\", \"Washington\", \"Belmont\", \"Clark\", \"Defiance\", \"Fairfield\", \"Huron\", \"Licking\", \"Logan\", \"Union\", \"Wood\", \"Ashtabula\", \"Carroll\", \"Columbiana\", \"Coshocton\", \"Greene\", \"Tuscarawas\", \"Marion\", \"Portage\", \"Richland\", \"Trumbull\", \"Clermont\", \"Geauga\", \"Warren\", \"Montgomery\", \"Delaware\", \"Lake\", \"Lucas\", \"Stark\", \"Medina\", \"Butler\", \"Miami\", \"Mahoning\", \"Lorain\", \"Summit\", \"Hamilton\", \"Franklin\", \"Cuyahoga\"], \"legendgroup\": \"Ohio\", \"marker\": {\"color\": \"#19d3f3\"}, \"name\": \"Ohio\", \"offsetgroup\": \"Ohio\", \"orientation\": \"h\", \"showlegend\": true, \"text\": [1.0, 1.0, 1.0, 1.0, 1.0, 1.0, 1.0, 1.0, 1.0, 1.0, 1.0, 1.0, 1.0, 1.0, 2.0, 2.0, 2.0, 2.0, 2.0, 2.0, 2.0, 2.0, 2.0, 3.0, 3.0, 3.0, 3.0, 3.0, 3.0, 4.0, 4.0, 4.0, 4.0, 5.0, 5.0, 7.0, 10.0, 11.0, 11.0, 13.0, 13.0, 15.0, 18.0, 19.0, 28.0, 30.0, 36.0, 38.0, 75.0, 167.0], \"textposition\": \"inside\", \"texttemplate\": \"%{text:.2s}\", \"type\": \"bar\", \"x\": [1, 1, 1, 1, 1, 1, 1, 1, 1, 1, 1, 1, 1, 1, 2, 2, 2, 2, 2, 2, 2, 2, 2, 3, 3, 3, 3, 3, 3, 4, 4, 4, 4, 5, 5, 7, 10, 11, 11, 13, 13, 15, 18, 19, 28, 30, 36, 38, 75, 167], \"xaxis\": \"x\", \"y\": [\"Ohio\", \"Ohio\", \"Ohio\", \"Ohio\", \"Ohio\", \"Ohio\", \"Ohio\", \"Ohio\", \"Ohio\", \"Ohio\", \"Ohio\", \"Ohio\", \"Ohio\", \"Ohio\", \"Ohio\", \"Ohio\", \"Ohio\", \"Ohio\", \"Ohio\", \"Ohio\", \"Ohio\", \"Ohio\", \"Ohio\", \"Ohio\", \"Ohio\", \"Ohio\", \"Ohio\", \"Ohio\", \"Ohio\", \"Ohio\", \"Ohio\", \"Ohio\", \"Ohio\", \"Ohio\", \"Ohio\", \"Ohio\", \"Ohio\", \"Ohio\", \"Ohio\", \"Ohio\", \"Ohio\", \"Ohio\", \"Ohio\", \"Ohio\", \"Ohio\", \"Ohio\", \"Ohio\", \"Ohio\", \"Ohio\", \"Ohio\"], \"yaxis\": \"y\"}, {\"alignmentgroup\": \"True\", \"customdata\": [[1, 0], [1, 0], [1, 0], [1, 0], [1, 0], [1, 0], [1, 0], [2, 0], [2, 0], [2, 0], [2, 0], [3, 0], [4, 0], [4, 1], [5, 0], [12, 1], [22, 1], [41, 0]], \"hoverlabel\": {\"namelength\": 0}, \"hovertemplate\": \"<b>%{hovertext}</b><br><br>State=%{y}<br>Confirmed=%{text}<br>Deaths=%{customdata[1]}\", \"hovertext\": [\"Grady\", \"Jackson\", \"Logan\", \"Mayes\", \"McClain\", \"Muskogee\", \"Pontotoc\", \"Custer\", \"Garvin\", \"Noble\", \"Washington\", \"Payne\", \"Canadian\", \"Pawnee\", \"Kay\", \"Tulsa\", \"Cleveland\", \"Oklahoma\"], \"legendgroup\": \"Oklahoma\", \"marker\": {\"color\": \"#FF6692\"}, \"name\": \"Oklahoma\", \"offsetgroup\": \"Oklahoma\", \"orientation\": \"h\", \"showlegend\": true, \"text\": [1.0, 1.0, 1.0, 1.0, 1.0, 1.0, 1.0, 2.0, 2.0, 2.0, 2.0, 3.0, 4.0, 4.0, 5.0, 12.0, 22.0, 41.0], \"textposition\": \"inside\", \"texttemplate\": \"%{text:.2s}\", \"type\": \"bar\", \"x\": [1, 1, 1, 1, 1, 1, 1, 2, 2, 2, 2, 3, 4, 4, 5, 12, 22, 41], \"xaxis\": \"x\", \"y\": [\"Oklahoma\", \"Oklahoma\", \"Oklahoma\", \"Oklahoma\", \"Oklahoma\", \"Oklahoma\", \"Oklahoma\", \"Oklahoma\", \"Oklahoma\", \"Oklahoma\", \"Oklahoma\", \"Oklahoma\", \"Oklahoma\", \"Oklahoma\", \"Oklahoma\", \"Oklahoma\", \"Oklahoma\", \"Oklahoma\"], \"yaxis\": \"y\"}, {\"alignmentgroup\": \"True\", \"customdata\": [[1, 0], [1, 0], [1, 0], [1, 0], [1, 0], [1, 0], [1, 0], [2, 0], [3, 0], [3, 0], [4, 0], [4, 1], [6, 0], [10, 0], [17, 1], [21, 1], [25, 2], [32, 1], [76, 2]], \"hoverlabel\": {\"namelength\": 0}, \"hovertemplate\": \"<b>%{hovertext}</b><br><br>State=%{y}<br>Confirmed=%{text}<br>Deaths=%{customdata[1]}\", \"hovertext\": [\"Clatsop\", \"Douglas\", \"Grant\", \"Hood River\", \"Josephine\", \"Klamath\", \"Union\", \"Umatilla\", \"Jackson\", \"Polk\", \"Benton\", \"Lane\", \"Yamhill\", \"Deschutes\", \"Clackamas\", \"Linn\", \"Multnomah\", \"Marion\", \"Washington\"], \"legendgroup\": \"Oregon\", \"marker\": {\"color\": \"#B6E880\"}, \"name\": \"Oregon\", \"offsetgroup\": \"Oregon\", \"orientation\": \"h\", \"showlegend\": true, \"text\": [1.0, 1.0, 1.0, 1.0, 1.0, 1.0, 1.0, 2.0, 3.0, 3.0, 4.0, 4.0, 6.0, 10.0, 17.0, 21.0, 25.0, 32.0, 76.0], \"textposition\": \"inside\", \"texttemplate\": \"%{text:.2s}\", \"type\": \"bar\", \"x\": [1, 1, 1, 1, 1, 1, 1, 2, 3, 3, 4, 4, 6, 10, 17, 21, 25, 32, 76], \"xaxis\": \"x\", \"y\": [\"Oregon\", \"Oregon\", \"Oregon\", \"Oregon\", \"Oregon\", \"Oregon\", \"Oregon\", \"Oregon\", \"Oregon\", \"Oregon\", \"Oregon\", \"Oregon\", \"Oregon\", \"Oregon\", \"Oregon\", \"Oregon\", \"Oregon\", \"Oregon\", \"Oregon\"], \"yaxis\": \"y\"}, {\"alignmentgroup\": \"True\", \"customdata\": [[1, 0], [1, 0], [1, 0], [1, 0], [1, 0], [1, 0], [1, 0], [1, 0], [1, 0], [2, 0], [2, 0], [3, 0], [3, 0], [3, 0], [3, 0], [4, 0], [4, 0], [4, 0], [5, 0], [5, 0], [6, 0], [6, 0], [7, 0], [9, 0], [10, 0], [11, 0], [13, 0], [15, 1], [16, 0], [18, 0], [21, 0], [27, 1], [33, 2], [40, 0], [45, 1], [58, 2], [69, 0], [84, 0], [159, 1], [252, 0]], \"hoverlabel\": {\"namelength\": 0}, \"hovertemplate\": \"<b>%{hovertext}</b><br><br>State=%{y}<br>Confirmed=%{text}<br>Deaths=%{customdata[1]}\", \"hovertext\": [\"Armstrong\", \"Bradford\", \"Cambria\", \"Carbon\", \"Clearfield\", \"Columbia\", \"Juniata\", \"Potter\", \"Somerset\", \"Fayette\", \"Mercer\", \"Beaver\", \"Franklin\", \"Lebanon\", \"Montour\", \"Dauphin\", \"Pike\", \"Wayne\", \"Erie\", \"Schuylkill\", \"Adams\", \"Butler\", \"Centre\", \"Washington\", \"Lancaster\", \"Westmoreland\", \"Cumberland\", \"Lackawanna\", \"Berks\", \"York\", \"Luzerne\", \"Lehigh\", \"Northampton\", \"Chester\", \"Monroe\", \"Allegheny\", \"Bucks\", \"Delaware\", \"Montgomery\", \"Philadelphia\"], \"legendgroup\": \"Pennsylvania\", \"marker\": {\"color\": \"#FF97FF\"}, \"name\": \"Pennsylvania\", \"offsetgroup\": \"Pennsylvania\", \"orientation\": \"h\", \"showlegend\": true, \"text\": [1.0, 1.0, 1.0, 1.0, 1.0, 1.0, 1.0, 1.0, 1.0, 2.0, 2.0, 3.0, 3.0, 3.0, 3.0, 4.0, 4.0, 4.0, 5.0, 5.0, 6.0, 6.0, 7.0, 9.0, 10.0, 11.0, 13.0, 15.0, 16.0, 18.0, 21.0, 27.0, 33.0, 40.0, 45.0, 58.0, 69.0, 84.0, 159.0, 252.0], \"textposition\": \"inside\", \"texttemplate\": \"%{text:.2s}\", \"type\": \"bar\", \"x\": [1, 1, 1, 1, 1, 1, 1, 1, 1, 2, 2, 3, 3, 3, 3, 4, 4, 4, 5, 5, 6, 6, 7, 9, 10, 11, 13, 15, 16, 18, 21, 27, 33, 40, 45, 58, 69, 84, 159, 252], \"xaxis\": \"x\", \"y\": [\"Pennsylvania\", \"Pennsylvania\", \"Pennsylvania\", \"Pennsylvania\", \"Pennsylvania\", \"Pennsylvania\", \"Pennsylvania\", \"Pennsylvania\", \"Pennsylvania\", \"Pennsylvania\", \"Pennsylvania\", \"Pennsylvania\", \"Pennsylvania\", \"Pennsylvania\", \"Pennsylvania\", \"Pennsylvania\", \"Pennsylvania\", \"Pennsylvania\", \"Pennsylvania\", \"Pennsylvania\", \"Pennsylvania\", \"Pennsylvania\", \"Pennsylvania\", \"Pennsylvania\", \"Pennsylvania\", \"Pennsylvania\", \"Pennsylvania\", \"Pennsylvania\", \"Pennsylvania\", \"Pennsylvania\", \"Pennsylvania\", \"Pennsylvania\", \"Pennsylvania\", \"Pennsylvania\", \"Pennsylvania\", \"Pennsylvania\", \"Pennsylvania\", \"Pennsylvania\", \"Pennsylvania\", \"Pennsylvania\"], \"yaxis\": \"y\"}, {\"alignmentgroup\": \"True\", \"customdata\": [[7, 0], [9, 0], [9, 0], [23, 0], [24, 0], [52, 0]], \"hoverlabel\": {\"namelength\": 0}, \"hovertemplate\": \"<b>%{hovertext}</b><br><br>State=%{y}<br>Confirmed=%{text}<br>Deaths=%{customdata[1]}\", \"hovertext\": [\"Kent\", \"Newport\", \"Washington\", \"Unassigned\", \"Bristol\", \"Providence\"], \"legendgroup\": \"Rhode Island\", \"marker\": {\"color\": \"#FECB52\"}, \"name\": \"Rhode Island\", \"offsetgroup\": \"Rhode Island\", \"orientation\": \"h\", \"showlegend\": true, \"text\": [7.0, 9.0, 9.0, 23.0, 24.0, 52.0], \"textposition\": \"inside\", \"texttemplate\": \"%{text:.2s}\", \"type\": \"bar\", \"x\": [7, 9, 9, 23, 24, 52], \"xaxis\": \"x\", \"y\": [\"Rhode Island\", \"Rhode Island\", \"Rhode Island\", \"Rhode Island\", \"Rhode Island\", \"Rhode Island\"], \"yaxis\": \"y\"}, {\"alignmentgroup\": \"True\", \"customdata\": [[1, 0], [1, 0], [1, 0], [1, 0], [1, 0], [1, 0], [1, 0], [1, 0], [1, 0], [1, 0], [1, 0], [2, 0], [2, 0], [2, 0], [2, 0], [2, 0], [2, 0], [2, 0], [3, 0], [4, 0], [4, 0], [5, 1], [5, 1], [7, 0], [8, 0], [8, 0], [8, 0], [11, 0], [16, 0], [19, 0], [19, 1], [22, 0], [36, 1], [39, 0], [45, 0], [58, 1]], \"hoverlabel\": {\"namelength\": 0}, \"hovertemplate\": \"<b>%{hovertext}</b><br><br>State=%{y}<br>Confirmed=%{text}<br>Deaths=%{customdata[1]}\", \"hovertext\": [\"Abbeville\", \"Calhoun\", \"Chester\", \"Chesterfield\", \"Colleton\", \"Dillon\", \"Edgefield\", \"Marlboro\", \"Newberry\", \"Pickens\", \"Saluda\", \"Aiken\", \"Fairfield\", \"Georgetown\", \"Greenwood\", \"Jasper\", \"Lee\", \"Oconee\", \"Dorchester\", \"Berkeley\", \"Spartanburg\", \"Clarendon\", \"Florence\", \"Lancaster\", \"Darlington\", \"Orangeburg\", \"Sumter\", \"York\", \"Anderson\", \"Horry\", \"Lexington\", \"Beaufort\", \"Charleston\", \"Greenville\", \"Richland\", \"Kershaw\"], \"legendgroup\": \"South Carolina\", \"marker\": {\"color\": \"#636efa\"}, \"name\": \"South Carolina\", \"offsetgroup\": \"South Carolina\", \"orientation\": \"h\", \"showlegend\": true, \"text\": [1.0, 1.0, 1.0, 1.0, 1.0, 1.0, 1.0, 1.0, 1.0, 1.0, 1.0, 2.0, 2.0, 2.0, 2.0, 2.0, 2.0, 2.0, 3.0, 4.0, 4.0, 5.0, 5.0, 7.0, 8.0, 8.0, 8.0, 11.0, 16.0, 19.0, 19.0, 22.0, 36.0, 39.0, 45.0, 58.0], \"textposition\": \"inside\", \"texttemplate\": \"%{text:.2s}\", \"type\": \"bar\", \"x\": [1, 1, 1, 1, 1, 1, 1, 1, 1, 1, 1, 2, 2, 2, 2, 2, 2, 2, 3, 4, 4, 5, 5, 7, 8, 8, 8, 11, 16, 19, 19, 22, 36, 39, 45, 58], \"xaxis\": \"x\", \"y\": [\"South Carolina\", \"South Carolina\", \"South Carolina\", \"South Carolina\", \"South Carolina\", \"South Carolina\", \"South Carolina\", \"South Carolina\", \"South Carolina\", \"South Carolina\", \"South Carolina\", \"South Carolina\", \"South Carolina\", \"South Carolina\", \"South Carolina\", \"South Carolina\", \"South Carolina\", \"South Carolina\", \"South Carolina\", \"South Carolina\", \"South Carolina\", \"South Carolina\", \"South Carolina\", \"South Carolina\", \"South Carolina\", \"South Carolina\", \"South Carolina\", \"South Carolina\", \"South Carolina\", \"South Carolina\", \"South Carolina\", \"South Carolina\", \"South Carolina\", \"South Carolina\", \"South Carolina\", \"South Carolina\"], \"yaxis\": \"y\"}, {\"alignmentgroup\": \"True\", \"customdata\": [[1, 0], [1, 0], [1, 0], [1, 0], [1, 0], [1, 0], [1, 0], [1, 1], [2, 0], [2, 0], [5, 0], [13, 0]], \"hoverlabel\": {\"namelength\": 0}, \"hovertemplate\": \"<b>%{hovertext}</b><br><br>State=%{y}<br>Confirmed=%{text}<br>Deaths=%{customdata[1]}\", \"hovertext\": [\"Bon Homme\", \"Brookings\", \"Brown\", \"Charles Mix\", \"Codington\", \"Hughes\", \"Lyman\", \"Pennington\", \"Davison\", \"McCook\", \"Minnehaha\", \"Beadle\"], \"legendgroup\": \"South Dakota\", \"marker\": {\"color\": \"#EF553B\"}, \"name\": \"South Dakota\", \"offsetgroup\": \"South Dakota\", \"orientation\": \"h\", \"showlegend\": true, \"text\": [1.0, 1.0, 1.0, 1.0, 1.0, 1.0, 1.0, 1.0, 2.0, 2.0, 5.0, 13.0], \"textposition\": \"inside\", \"texttemplate\": \"%{text:.2s}\", \"type\": \"bar\", \"x\": [1, 1, 1, 1, 1, 1, 1, 1, 2, 2, 5, 13], \"xaxis\": \"x\", \"y\": [\"South Dakota\", \"South Dakota\", \"South Dakota\", \"South Dakota\", \"South Dakota\", \"South Dakota\", \"South Dakota\", \"South Dakota\", \"South Dakota\", \"South Dakota\", \"South Dakota\", \"South Dakota\"], \"yaxis\": \"y\"}, {\"alignmentgroup\": \"True\", \"customdata\": [[1, 0], [1, 0], [1, 0], [1, 0], [1, 0], [1, 0], [1, 0], [1, 0], [1, 0], [1, 0], [1, 0], [1, 0], [1, 0], [1, 0], [1, 0], [2, 0], [2, 0], [2, 0], [2, 0], [2, 0], [2, 0], [2, 0], [2, 0], [2, 0], [2, 0], [2, 0], [3, 0], [3, 0], [3, 0], [4, 0], [5, 0], [5, 0], [5, 0], [6, 0], [6, 0], [6, 0], [7, 0], [7, 0], [8, 0], [8, 0], [12, 0], [13, 0], [15, 0], [34, 0], [38, 0], [64, 0], [95, 0], [135, 0], [253, 2]], \"hoverlabel\": {\"namelength\": 0}, \"hovertemplate\": \"<b>%{hovertext}</b><br><br>State=%{y}<br>Confirmed=%{text}<br>Deaths=%{customdata[1]}\", \"hovertext\": [\"Anderson\", \"Chester\", \"Claiborne\", \"Cocke\", \"Franklin\", \"Grundy\", \"Hardin\", \"Houston\", \"Lincoln\", \"Madison\", \"Marion\", \"Overton\", \"Perry\", \"Roane\", \"Scott\", \"Bradley\", \"Campbell\", \"Dyer\", \"Fayette\", \"Gibson\", \"Hamblen\", \"Loudon\", \"McMinn\", \"Monroe\", \"Sevier\", \"Sullivan\", \"Blount\", \"Carroll\", \"Cumberland\", \"Jefferson\", \"Cheatham\", \"Dickson\", \"Greene\", \"Maury\", \"Montgomery\", \"Tipton\", \"Washington\", \"Wilson\", \"Hamilton\", \"Putnam\", \"Robertson\", \"Rutherford\", \"Knox\", \"Sumner\", \"Unassigned\", \"Williamson\", \"Out of TN\", \"Shelby\", \"Davidson\"], \"legendgroup\": \"Tennessee\", \"marker\": {\"color\": \"#00cc96\"}, \"name\": \"Tennessee\", \"offsetgroup\": \"Tennessee\", \"orientation\": \"h\", \"showlegend\": true, \"text\": [1.0, 1.0, 1.0, 1.0, 1.0, 1.0, 1.0, 1.0, 1.0, 1.0, 1.0, 1.0, 1.0, 1.0, 1.0, 2.0, 2.0, 2.0, 2.0, 2.0, 2.0, 2.0, 2.0, 2.0, 2.0, 2.0, 3.0, 3.0, 3.0, 4.0, 5.0, 5.0, 5.0, 6.0, 6.0, 6.0, 7.0, 7.0, 8.0, 8.0, 12.0, 13.0, 15.0, 34.0, 38.0, 64.0, 95.0, 135.0, 253.0], \"textposition\": \"inside\", \"texttemplate\": \"%{text:.2s}\", \"type\": \"bar\", \"x\": [1, 1, 1, 1, 1, 1, 1, 1, 1, 1, 1, 1, 1, 1, 1, 2, 2, 2, 2, 2, 2, 2, 2, 2, 2, 2, 3, 3, 3, 4, 5, 5, 5, 6, 6, 6, 7, 7, 8, 8, 12, 13, 15, 34, 38, 64, 95, 135, 253], \"xaxis\": \"x\", \"y\": [\"Tennessee\", \"Tennessee\", \"Tennessee\", \"Tennessee\", \"Tennessee\", \"Tennessee\", \"Tennessee\", \"Tennessee\", \"Tennessee\", \"Tennessee\", \"Tennessee\", \"Tennessee\", \"Tennessee\", \"Tennessee\", \"Tennessee\", \"Tennessee\", \"Tennessee\", \"Tennessee\", \"Tennessee\", \"Tennessee\", \"Tennessee\", \"Tennessee\", \"Tennessee\", \"Tennessee\", \"Tennessee\", \"Tennessee\", \"Tennessee\", \"Tennessee\", \"Tennessee\", \"Tennessee\", \"Tennessee\", \"Tennessee\", \"Tennessee\", \"Tennessee\", \"Tennessee\", \"Tennessee\", \"Tennessee\", \"Tennessee\", \"Tennessee\", \"Tennessee\", \"Tennessee\", \"Tennessee\", \"Tennessee\", \"Tennessee\", \"Tennessee\", \"Tennessee\", \"Tennessee\", \"Tennessee\", \"Tennessee\"], \"yaxis\": \"y\"}, {\"alignmentgroup\": \"True\", \"customdata\": [[1, 0], [1, 0], [1, 0], [1, 0], [1, 0], [1, 0], [1, 0], [1, 0], [1, 0], [1, 0], [1, 0], [1, 0], [1, 0], [1, 0], [1, 0], [1, 0], [1, 0], [1, 0], [1, 0], [1, 0], [1, 0], [1, 0], [1, 0], [1, 0], [1, 1], [1, 0], [1, 0], [1, 0], [1, 0], [1, 0], [1, 0], [1, 0], [1, 0], [1, 0], [1, 0], [2, 0], [2, 0], [2, 0], [2, 0], [2, 0], [2, 0], [2, 0], [2, 0], [2, 0], [2, 0], [3, 0], [3, 1], [3, 0], [3, 0], [4, 0], [4, 1], [4, 0], [5, 0], [5, 0], [6, 0], [6, 0], [6, 0], [6, 0], [7, 0], [10, 0], [12, 0], [14, 0], [14, 0], [16, 0], [18, 0], [18, 0], [23, 0], [24, 0], [28, 0], [38, 0], [45, 1], [46, 0], [69, 1], [71, 1], [86, 0], [134, 1], [169, 5]], \"hoverlabel\": {\"namelength\": 0}, \"hovertemplate\": \"<b>%{hovertext}</b><br><br>State=%{y}<br>Confirmed=%{text}<br>Deaths=%{customdata[1]}\", \"hovertext\": [\"Bastrop\", \"Blanco\", \"Bowie\", \"Burnet\", \"Chambers\", \"Crane\", \"DeWitt\", \"Deaf Smith\", \"Eastland\", \"Erath\", \"Falls\", \"Fannin\", \"Fayette\", \"Gaines\", \"Gregg\", \"Hopkins\", \"Hunt\", \"Kendall\", \"Lamar\", \"Lavaca\", \"Liberty\", \"Llano\", \"Maverick\", \"Medina\", \"Oldham\", \"Orange\", \"Parker\", \"Robertson\", \"Rusk\", \"Terry\", \"Tom Green\", \"Van Zandt\", \"Walker\", \"Waller\", \"Wharton\", \"Atascosa\", \"Brown\", \"Castro\", \"Grayson\", \"Grimes\", \"Hardin\", \"Hidalgo\", \"Johnson\", \"Milam\", \"Randall\", \"Hockley\", \"Midland\", \"Potter\", \"Victoria\", \"Guadalupe\", \"Matagorda\", \"Webb\", \"Comal\", \"Wichita\", \"Cameron\", \"Ellis\", \"Jefferson\", \"Nueces\", \"Hays\", \"El Paso\", \"Lubbock\", \"Smith\", \"Williamson\", \"Brazos\", \"Bell\", \"Galveston\", \"Montgomery\", \"McLennan\", \"Brazoria\", \"Denton\", \"Collin\", \"Fort Bend\", \"Bexar\", \"Tarrant\", \"Travis\", \"Harris\", \"Dallas\"], \"legendgroup\": \"Texas\", \"marker\": {\"color\": \"#ab63fa\"}, \"name\": \"Texas\", \"offsetgroup\": \"Texas\", \"orientation\": \"h\", \"showlegend\": true, \"text\": [1.0, 1.0, 1.0, 1.0, 1.0, 1.0, 1.0, 1.0, 1.0, 1.0, 1.0, 1.0, 1.0, 1.0, 1.0, 1.0, 1.0, 1.0, 1.0, 1.0, 1.0, 1.0, 1.0, 1.0, 1.0, 1.0, 1.0, 1.0, 1.0, 1.0, 1.0, 1.0, 1.0, 1.0, 1.0, 2.0, 2.0, 2.0, 2.0, 2.0, 2.0, 2.0, 2.0, 2.0, 2.0, 3.0, 3.0, 3.0, 3.0, 4.0, 4.0, 4.0, 5.0, 5.0, 6.0, 6.0, 6.0, 6.0, 7.0, 10.0, 12.0, 14.0, 14.0, 16.0, 18.0, 18.0, 23.0, 24.0, 28.0, 38.0, 45.0, 46.0, 69.0, 71.0, 86.0, 134.0, 169.0], \"textposition\": \"inside\", \"texttemplate\": \"%{text:.2s}\", \"type\": \"bar\", \"x\": [1, 1, 1, 1, 1, 1, 1, 1, 1, 1, 1, 1, 1, 1, 1, 1, 1, 1, 1, 1, 1, 1, 1, 1, 1, 1, 1, 1, 1, 1, 1, 1, 1, 1, 1, 2, 2, 2, 2, 2, 2, 2, 2, 2, 2, 3, 3, 3, 3, 4, 4, 4, 5, 5, 6, 6, 6, 6, 7, 10, 12, 14, 14, 16, 18, 18, 23, 24, 28, 38, 45, 46, 69, 71, 86, 134, 169], \"xaxis\": \"x\", \"y\": [\"Texas\", \"Texas\", \"Texas\", \"Texas\", \"Texas\", \"Texas\", \"Texas\", \"Texas\", \"Texas\", \"Texas\", \"Texas\", \"Texas\", \"Texas\", \"Texas\", \"Texas\", \"Texas\", \"Texas\", \"Texas\", \"Texas\", \"Texas\", \"Texas\", \"Texas\", \"Texas\", \"Texas\", \"Texas\", \"Texas\", \"Texas\", \"Texas\", \"Texas\", \"Texas\", \"Texas\", \"Texas\", \"Texas\", \"Texas\", \"Texas\", \"Texas\", \"Texas\", \"Texas\", \"Texas\", \"Texas\", \"Texas\", \"Texas\", \"Texas\", \"Texas\", \"Texas\", \"Texas\", \"Texas\", \"Texas\", \"Texas\", \"Texas\", \"Texas\", \"Texas\", \"Texas\", \"Texas\", \"Texas\", \"Texas\", \"Texas\", \"Texas\", \"Texas\", \"Texas\", \"Texas\", \"Texas\", \"Texas\", \"Texas\", \"Texas\", \"Texas\", \"Texas\", \"Texas\", \"Texas\", \"Texas\", \"Texas\", \"Texas\", \"Texas\", \"Texas\", \"Texas\", \"Texas\", \"Texas\"], \"yaxis\": \"y\"}, {\"alignmentgroup\": \"True\", \"customdata\": [[1, 0], [2, 0], [3, 0], [5, 0], [9, 0], [13, 0], [13, 0], [15, 0], [31, 1], [82, 0], [124, 0]], \"hoverlabel\": {\"namelength\": 0}, \"hovertemplate\": \"<b>%{hovertext}</b><br><br>State=%{y}<br>Confirmed=%{text}<br>Deaths=%{customdata[1]}\", \"hovertext\": [\"Box Elder\", \"Tooele\", \"Cache\", \"Washington\", \"Weber\", \"Out of UT\", \"Utah\", \"Wasatch\", \"Davis\", \"Summit\", \"Salt Lake\"], \"legendgroup\": \"Utah\", \"marker\": {\"color\": \"#FFA15A\"}, \"name\": \"Utah\", \"offsetgroup\": \"Utah\", \"orientation\": \"h\", \"showlegend\": true, \"text\": [1.0, 2.0, 3.0, 5.0, 9.0, 13.0, 13.0, 15.0, 31.0, 82.0, 124.0], \"textposition\": \"inside\", \"texttemplate\": \"%{text:.2s}\", \"type\": \"bar\", \"x\": [1, 2, 3, 5, 9, 13, 13, 15, 31, 82, 124], \"xaxis\": \"x\", \"y\": [\"Utah\", \"Utah\", \"Utah\", \"Utah\", \"Utah\", \"Utah\", \"Utah\", \"Utah\", \"Utah\", \"Utah\", \"Utah\"], \"yaxis\": \"y\"}, {\"alignmentgroup\": \"True\", \"customdata\": [[1, 0], [2, 0], [2, 0], [2, 0], [3, 0], [3, 0], [5, 0], [5, 0], [8, 0], [9, 0], [15, 1], [40, 4]], \"hoverlabel\": {\"namelength\": 0}, \"hovertemplate\": \"<b>%{hovertext}</b><br><br>State=%{y}<br>Confirmed=%{text}<br>Deaths=%{customdata[1]}\", \"hovertext\": [\"Caledonia\", \"Franklin\", \"Lamoille\", \"Orleans\", \"Orange\", \"Washington\", \"Rutland\", \"Windham\", \"Addison\", \"Bennington\", \"Windsor\", \"Chittenden\"], \"legendgroup\": \"Vermont\", \"marker\": {\"color\": \"#19d3f3\"}, \"name\": \"Vermont\", \"offsetgroup\": \"Vermont\", \"orientation\": \"h\", \"showlegend\": true, \"text\": [1.0, 2.0, 2.0, 2.0, 3.0, 3.0, 5.0, 5.0, 8.0, 9.0, 15.0, 40.0], \"textposition\": \"inside\", \"texttemplate\": \"%{text:.2s}\", \"type\": \"bar\", \"x\": [1, 2, 2, 2, 3, 3, 5, 5, 8, 9, 15, 40], \"xaxis\": \"x\", \"y\": [\"Vermont\", \"Vermont\", \"Vermont\", \"Vermont\", \"Vermont\", \"Vermont\", \"Vermont\", \"Vermont\", \"Vermont\", \"Vermont\", \"Vermont\", \"Vermont\"], \"yaxis\": \"y\"}, {\"alignmentgroup\": \"True\", \"customdata\": [[1, 0], [1, 0], [1, 0], [1, 0], [1, 0], [1, 0], [1, 0], [1, 0], [1, 0], [1, 0], [1, 0], [1, 0], [1, 0], [1, 0], [1, 0], [1, 0], [1, 0], [1, 0], [2, 0], [2, 0], [2, 0], [2, 0], [2, 0], [2, 0], [2, 0], [2, 0], [3, 0], [3, 1], [3, 0], [5, 0], [5, 1], [6, 0], [6, 1], [8, 0], [8, 0], [10, 0], [11, 0], [14, 2], [17, 1], [18, 0], [23, 0], [36, 0], [37, 2], [46, 1]], \"hoverlabel\": {\"namelength\": 0}, \"hovertemplate\": \"<b>%{hovertext}</b><br><br>State=%{y}<br>Confirmed=%{text}<br>Deaths=%{customdata[1]}\", \"hovertext\": [\"Accomack\", \"Amherst\", \"Bedford\", \"Botetourt\", \"Charles City\", \"Chesapeake\", \"Danville\", \"Fluvanna\", \"Franklin\", \"Halifax\", \"Hanover\", \"Harrisonburg\", \"Madison\", \"Nelson\", \"Orange\", \"Prince Edward\", \"Rockbridge\", \"Suffolk\", \"Albemarle\", \"Culpeper\", \"Gloucester\", \"Isle of Wight\", \"Lee\", \"Louisa\", \"Mecklenburg\", \"Spotsylvania\", \"Goochland\", \"Newport News\", \"Rockingham\", \"Charlottesville\", \"Williamsburg\", \"Stafford\", \"York\", \"Alexandria\", \"Norfolk\", \"Chesterfield\", \"Richmond City\", \"Henrico\", \"Virginia Beach\", \"Loudoun\", \"Prince William\", \"Arlington\", \"James City\", \"Fairfax\"], \"legendgroup\": \"Virginia\", \"marker\": {\"color\": \"#FF6692\"}, \"name\": \"Virginia\", \"offsetgroup\": \"Virginia\", \"orientation\": \"h\", \"showlegend\": true, \"text\": [1.0, 1.0, 1.0, 1.0, 1.0, 1.0, 1.0, 1.0, 1.0, 1.0, 1.0, 1.0, 1.0, 1.0, 1.0, 1.0, 1.0, 1.0, 2.0, 2.0, 2.0, 2.0, 2.0, 2.0, 2.0, 2.0, 3.0, 3.0, 3.0, 5.0, 5.0, 6.0, 6.0, 8.0, 8.0, 10.0, 11.0, 14.0, 17.0, 18.0, 23.0, 36.0, 37.0, 46.0], \"textposition\": \"inside\", \"texttemplate\": \"%{text:.2s}\", \"type\": \"bar\", \"x\": [1, 1, 1, 1, 1, 1, 1, 1, 1, 1, 1, 1, 1, 1, 1, 1, 1, 1, 2, 2, 2, 2, 2, 2, 2, 2, 3, 3, 3, 5, 5, 6, 6, 8, 8, 10, 11, 14, 17, 18, 23, 36, 37, 46], \"xaxis\": \"x\", \"y\": [\"Virginia\", \"Virginia\", \"Virginia\", \"Virginia\", \"Virginia\", \"Virginia\", \"Virginia\", \"Virginia\", \"Virginia\", \"Virginia\", \"Virginia\", \"Virginia\", \"Virginia\", \"Virginia\", \"Virginia\", \"Virginia\", \"Virginia\", \"Virginia\", \"Virginia\", \"Virginia\", \"Virginia\", \"Virginia\", \"Virginia\", \"Virginia\", \"Virginia\", \"Virginia\", \"Virginia\", \"Virginia\", \"Virginia\", \"Virginia\", \"Virginia\", \"Virginia\", \"Virginia\", \"Virginia\", \"Virginia\", \"Virginia\", \"Virginia\", \"Virginia\", \"Virginia\", \"Virginia\", \"Virginia\", \"Virginia\", \"Virginia\", \"Virginia\"], \"yaxis\": \"y\"}, {\"alignmentgroup\": \"True\", \"customdata\": [[1, 0], [1, 0], [1, 0], [1, 0], [1, 0], [1, 0], [1, 0], [1, 0], [1, 0], [2, 0], [2, 0], [3, 0], [4, 0], [4, 0], [5, 0], [5, 0], [6, 0], [8, 0], [9, 3], [11, 0], [13, 4], [18, 0], [23, 1], [25, 1], [25, 0], [29, 0], [45, 1], [48, 2], [112, 0], [138, 1], [614, 16], [1170, 87]], \"hoverlabel\": {\"namelength\": 0}, \"hovertemplate\": \"<b>%{hovertext}</b><br><br>State=%{y}<br>Confirmed=%{text}<br>Deaths=%{customdata[1]}\", \"hovertext\": [\"Adams\", \"Columbia\", \"Douglas\", \"Grays Harbor\", \"Lincoln\", \"Mason\", \"San Juan\", \"Stevens\", \"Walla Walla\", \"Lewis\", \"Whitman\", \"Cowlitz\", \"Clallam\", \"Klickitat\", \"Franklin\", \"Kittitas\", \"Chelan\", \"Jefferson\", \"Benton\", \"Thurston\", \"Clark\", \"Kitsap\", \"Grant\", \"Island\", \"Yakima\", \"Spokane\", \"Skagit\", \"Whatcom\", \"Unassigned\", \"Pierce\", \"Snohomish\", \"King\"], \"legendgroup\": \"Washington\", \"marker\": {\"color\": \"#B6E880\"}, \"name\": \"Washington\", \"offsetgroup\": \"Washington\", \"orientation\": \"h\", \"showlegend\": true, \"text\": [1.0, 1.0, 1.0, 1.0, 1.0, 1.0, 1.0, 1.0, 1.0, 2.0, 2.0, 3.0, 4.0, 4.0, 5.0, 5.0, 6.0, 8.0, 9.0, 11.0, 13.0, 18.0, 23.0, 25.0, 25.0, 29.0, 45.0, 48.0, 112.0, 138.0, 614.0, 1170.0], \"textposition\": \"inside\", \"texttemplate\": \"%{text:.2s}\", \"type\": \"bar\", \"x\": [1, 1, 1, 1, 1, 1, 1, 1, 1, 2, 2, 3, 4, 4, 5, 5, 6, 8, 9, 11, 13, 18, 23, 25, 25, 29, 45, 48, 112, 138, 614, 1170], \"xaxis\": \"x\", \"y\": [\"Washington\", \"Washington\", \"Washington\", \"Washington\", \"Washington\", \"Washington\", \"Washington\", \"Washington\", \"Washington\", \"Washington\", \"Washington\", \"Washington\", \"Washington\", \"Washington\", \"Washington\", \"Washington\", \"Washington\", \"Washington\", \"Washington\", \"Washington\", \"Washington\", \"Washington\", \"Washington\", \"Washington\", \"Washington\", \"Washington\", \"Washington\", \"Washington\", \"Washington\", \"Washington\", \"Washington\", \"Washington\"], \"yaxis\": \"y\"}, {\"alignmentgroup\": \"True\", \"customdata\": [[1, 0], [1, 0], [2, 0], [2, 0], [2, 0], [2, 0], [3, 0], [4, 0], [5, 0]], \"hoverlabel\": {\"namelength\": 0}, \"hovertemplate\": \"<b>%{hovertext}</b><br><br>State=%{y}<br>Confirmed=%{text}<br>Deaths=%{customdata[1]}\", \"hovertext\": [\"Jackson\", \"Putnam\", \"Harrison\", \"Marshall\", \"Mercer\", \"Tucker\", \"Jefferson\", \"Kanawha\", \"Monongalia\"], \"legendgroup\": \"West Virginia\", \"marker\": {\"color\": \"#FF97FF\"}, \"name\": \"West Virginia\", \"offsetgroup\": \"West Virginia\", \"orientation\": \"h\", \"showlegend\": true, \"text\": [1.0, 1.0, 2.0, 2.0, 2.0, 2.0, 3.0, 4.0, 5.0], \"textposition\": \"inside\", \"texttemplate\": \"%{text:.2s}\", \"type\": \"bar\", \"x\": [1, 1, 2, 2, 2, 2, 3, 4, 5], \"xaxis\": \"x\", \"y\": [\"West Virginia\", \"West Virginia\", \"West Virginia\", \"West Virginia\", \"West Virginia\", \"West Virginia\", \"West Virginia\", \"West Virginia\", \"West Virginia\"], \"yaxis\": \"y\"}, {\"alignmentgroup\": \"True\", \"customdata\": [[1, 0], [1, 0], [1, 0], [1, 0], [1, 0], [1, 0], [1, 0], [1, 0], [2, 0], [2, 0], [3, 0], [3, 0], [3, 0], [4, 0], [4, 0], [4, 0], [4, 0], [4, 0], [4, 0], [5, 0], [5, 0], [5, 0], [5, 0], [6, 0], [13, 0], [16, 1], [17, 0], [18, 1], [31, 0], [72, 0], [243, 3]], \"hoverlabel\": {\"namelength\": 0}, \"hovertemplate\": \"<b>%{hovertext}</b><br><br>State=%{y}<br>Confirmed=%{text}<br>Deaths=%{customdata[1]}\", \"hovertext\": [\"Bayfield\", \"Calumet\", \"Chippewa\", \"Dunn\", \"Green\", \"Iowa\", \"Marathon\", \"Wood\", \"Dodge\", \"Outagamie\", \"Brown\", \"Pierce\", \"Rock\", \"Douglas\", \"Eau Claire\", \"Jefferson\", \"Sauk\", \"St. Croix\", \"Walworth\", \"Columbia\", \"La Crosse\", \"Racine\", \"Winnebago\", \"Sheboygan\", \"Kenosha\", \"Ozaukee\", \"Washington\", \"Fond du Lac\", \"Waukesha\", \"Dane\", \"Milwaukee\"], \"legendgroup\": \"Wisconsin\", \"marker\": {\"color\": \"#FECB52\"}, \"name\": \"Wisconsin\", \"offsetgroup\": \"Wisconsin\", \"orientation\": \"h\", \"showlegend\": true, \"text\": [1.0, 1.0, 1.0, 1.0, 1.0, 1.0, 1.0, 1.0, 2.0, 2.0, 3.0, 3.0, 3.0, 4.0, 4.0, 4.0, 4.0, 4.0, 4.0, 5.0, 5.0, 5.0, 5.0, 6.0, 13.0, 16.0, 17.0, 18.0, 31.0, 72.0, 243.0], \"textposition\": \"inside\", \"texttemplate\": \"%{text:.2s}\", \"type\": \"bar\", \"x\": [1, 1, 1, 1, 1, 1, 1, 1, 2, 2, 3, 3, 3, 4, 4, 4, 4, 4, 4, 5, 5, 5, 5, 6, 13, 16, 17, 18, 31, 72, 243], \"xaxis\": \"x\", \"y\": [\"Wisconsin\", \"Wisconsin\", \"Wisconsin\", \"Wisconsin\", \"Wisconsin\", \"Wisconsin\", \"Wisconsin\", \"Wisconsin\", \"Wisconsin\", \"Wisconsin\", \"Wisconsin\", \"Wisconsin\", \"Wisconsin\", \"Wisconsin\", \"Wisconsin\", \"Wisconsin\", \"Wisconsin\", \"Wisconsin\", \"Wisconsin\", \"Wisconsin\", \"Wisconsin\", \"Wisconsin\", \"Wisconsin\", \"Wisconsin\", \"Wisconsin\", \"Wisconsin\", \"Wisconsin\", \"Wisconsin\", \"Wisconsin\", \"Wisconsin\", \"Wisconsin\"], \"yaxis\": \"y\"}, {\"alignmentgroup\": \"True\", \"customdata\": [[1, 0], [1, 0], [2, 0], [2, 0], [2, 0], [4, 0], [7, 0], [10, 0]], \"hoverlabel\": {\"namelength\": 0}, \"hovertemplate\": \"<b>%{hovertext}</b><br><br>State=%{y}<br>Confirmed=%{text}<br>Deaths=%{customdata[1]}\", \"hovertext\": [\"Campbell\", \"Park\", \"Carbon\", \"Natrona\", \"Teton\", \"Sheridan\", \"Laramie\", \"Fremont\"], \"legendgroup\": \"Wyoming\", \"marker\": {\"color\": \"#636efa\"}, \"name\": \"Wyoming\", \"offsetgroup\": \"Wyoming\", \"orientation\": \"h\", \"showlegend\": true, \"text\": [1.0, 1.0, 2.0, 2.0, 2.0, 4.0, 7.0, 10.0], \"textposition\": \"inside\", \"texttemplate\": \"%{text:.2s}\", \"type\": \"bar\", \"x\": [1, 1, 2, 2, 2, 4, 7, 10], \"xaxis\": \"x\", \"y\": [\"Wyoming\", \"Wyoming\", \"Wyoming\", \"Wyoming\", \"Wyoming\", \"Wyoming\", \"Wyoming\", \"Wyoming\"], \"yaxis\": \"y\"}],\n",
       "                        {\"barmode\": \"relative\", \"font\": {\"color\": \"#7f7f7f\", \"size\": 16}, \"height\": 1700, \"legend\": {\"title\": {\"text\": \"State\"}, \"tracegroupgap\": 0}, \"margin\": {\"t\": 60}, \"showlegend\": false, \"template\": {\"data\": {\"bar\": [{\"error_x\": {\"color\": \"#2a3f5f\"}, \"error_y\": {\"color\": \"#2a3f5f\"}, \"marker\": {\"line\": {\"color\": \"#E5ECF6\", \"width\": 0.5}}, \"type\": \"bar\"}], \"barpolar\": [{\"marker\": {\"line\": {\"color\": \"#E5ECF6\", \"width\": 0.5}}, \"type\": \"barpolar\"}], \"carpet\": [{\"aaxis\": {\"endlinecolor\": \"#2a3f5f\", \"gridcolor\": \"white\", \"linecolor\": \"white\", \"minorgridcolor\": \"white\", \"startlinecolor\": \"#2a3f5f\"}, \"baxis\": {\"endlinecolor\": \"#2a3f5f\", \"gridcolor\": \"white\", \"linecolor\": \"white\", \"minorgridcolor\": \"white\", \"startlinecolor\": \"#2a3f5f\"}, \"type\": \"carpet\"}], \"choropleth\": [{\"colorbar\": {\"outlinewidth\": 0, \"ticks\": \"\"}, \"type\": \"choropleth\"}], \"contour\": [{\"colorbar\": {\"outlinewidth\": 0, \"ticks\": \"\"}, \"colorscale\": [[0.0, \"#0d0887\"], [0.1111111111111111, \"#46039f\"], [0.2222222222222222, \"#7201a8\"], [0.3333333333333333, \"#9c179e\"], [0.4444444444444444, \"#bd3786\"], [0.5555555555555556, \"#d8576b\"], [0.6666666666666666, \"#ed7953\"], [0.7777777777777778, \"#fb9f3a\"], [0.8888888888888888, \"#fdca26\"], [1.0, \"#f0f921\"]], \"type\": \"contour\"}], \"contourcarpet\": [{\"colorbar\": {\"outlinewidth\": 0, \"ticks\": \"\"}, \"type\": \"contourcarpet\"}], \"heatmap\": [{\"colorbar\": {\"outlinewidth\": 0, \"ticks\": \"\"}, \"colorscale\": [[0.0, \"#0d0887\"], [0.1111111111111111, \"#46039f\"], [0.2222222222222222, \"#7201a8\"], [0.3333333333333333, \"#9c179e\"], [0.4444444444444444, \"#bd3786\"], [0.5555555555555556, \"#d8576b\"], [0.6666666666666666, \"#ed7953\"], [0.7777777777777778, \"#fb9f3a\"], [0.8888888888888888, \"#fdca26\"], [1.0, \"#f0f921\"]], \"type\": \"heatmap\"}], \"heatmapgl\": [{\"colorbar\": {\"outlinewidth\": 0, \"ticks\": \"\"}, \"colorscale\": [[0.0, \"#0d0887\"], [0.1111111111111111, \"#46039f\"], [0.2222222222222222, \"#7201a8\"], [0.3333333333333333, \"#9c179e\"], [0.4444444444444444, \"#bd3786\"], [0.5555555555555556, \"#d8576b\"], [0.6666666666666666, \"#ed7953\"], [0.7777777777777778, \"#fb9f3a\"], [0.8888888888888888, \"#fdca26\"], [1.0, \"#f0f921\"]], \"type\": \"heatmapgl\"}], \"histogram\": [{\"marker\": {\"colorbar\": {\"outlinewidth\": 0, \"ticks\": \"\"}}, \"type\": \"histogram\"}], \"histogram2d\": [{\"colorbar\": {\"outlinewidth\": 0, \"ticks\": \"\"}, \"colorscale\": [[0.0, \"#0d0887\"], [0.1111111111111111, \"#46039f\"], [0.2222222222222222, \"#7201a8\"], [0.3333333333333333, \"#9c179e\"], [0.4444444444444444, \"#bd3786\"], [0.5555555555555556, \"#d8576b\"], [0.6666666666666666, \"#ed7953\"], [0.7777777777777778, \"#fb9f3a\"], [0.8888888888888888, \"#fdca26\"], [1.0, \"#f0f921\"]], \"type\": \"histogram2d\"}], \"histogram2dcontour\": [{\"colorbar\": {\"outlinewidth\": 0, \"ticks\": \"\"}, \"colorscale\": [[0.0, \"#0d0887\"], [0.1111111111111111, \"#46039f\"], [0.2222222222222222, \"#7201a8\"], [0.3333333333333333, \"#9c179e\"], [0.4444444444444444, \"#bd3786\"], [0.5555555555555556, \"#d8576b\"], [0.6666666666666666, \"#ed7953\"], [0.7777777777777778, \"#fb9f3a\"], [0.8888888888888888, \"#fdca26\"], [1.0, \"#f0f921\"]], \"type\": \"histogram2dcontour\"}], \"mesh3d\": [{\"colorbar\": {\"outlinewidth\": 0, \"ticks\": \"\"}, \"type\": \"mesh3d\"}], \"parcoords\": [{\"line\": {\"colorbar\": {\"outlinewidth\": 0, \"ticks\": \"\"}}, \"type\": \"parcoords\"}], \"pie\": [{\"automargin\": true, \"type\": \"pie\"}], \"scatter\": [{\"marker\": {\"colorbar\": {\"outlinewidth\": 0, \"ticks\": \"\"}}, \"type\": \"scatter\"}], \"scatter3d\": [{\"line\": {\"colorbar\": {\"outlinewidth\": 0, \"ticks\": \"\"}}, \"marker\": {\"colorbar\": {\"outlinewidth\": 0, \"ticks\": \"\"}}, \"type\": \"scatter3d\"}], \"scattercarpet\": [{\"marker\": {\"colorbar\": {\"outlinewidth\": 0, \"ticks\": \"\"}}, \"type\": \"scattercarpet\"}], \"scattergeo\": [{\"marker\": {\"colorbar\": {\"outlinewidth\": 0, \"ticks\": \"\"}}, \"type\": \"scattergeo\"}], \"scattergl\": [{\"marker\": {\"colorbar\": {\"outlinewidth\": 0, \"ticks\": \"\"}}, \"type\": \"scattergl\"}], \"scattermapbox\": [{\"marker\": {\"colorbar\": {\"outlinewidth\": 0, \"ticks\": \"\"}}, \"type\": \"scattermapbox\"}], \"scatterpolar\": [{\"marker\": {\"colorbar\": {\"outlinewidth\": 0, \"ticks\": \"\"}}, \"type\": \"scatterpolar\"}], \"scatterpolargl\": [{\"marker\": {\"colorbar\": {\"outlinewidth\": 0, \"ticks\": \"\"}}, \"type\": \"scatterpolargl\"}], \"scatterternary\": [{\"marker\": {\"colorbar\": {\"outlinewidth\": 0, \"ticks\": \"\"}}, \"type\": \"scatterternary\"}], \"surface\": [{\"colorbar\": {\"outlinewidth\": 0, \"ticks\": \"\"}, \"colorscale\": [[0.0, \"#0d0887\"], [0.1111111111111111, \"#46039f\"], [0.2222222222222222, \"#7201a8\"], [0.3333333333333333, \"#9c179e\"], [0.4444444444444444, \"#bd3786\"], [0.5555555555555556, \"#d8576b\"], [0.6666666666666666, \"#ed7953\"], [0.7777777777777778, \"#fb9f3a\"], [0.8888888888888888, \"#fdca26\"], [1.0, \"#f0f921\"]], \"type\": \"surface\"}], \"table\": [{\"cells\": {\"fill\": {\"color\": \"#EBF0F8\"}, \"line\": {\"color\": \"white\"}}, \"header\": {\"fill\": {\"color\": \"#C8D4E3\"}, \"line\": {\"color\": \"white\"}}, \"type\": \"table\"}]}, \"layout\": {\"annotationdefaults\": {\"arrowcolor\": \"#2a3f5f\", \"arrowhead\": 0, \"arrowwidth\": 1}, \"coloraxis\": {\"colorbar\": {\"outlinewidth\": 0, \"ticks\": \"\"}}, \"colorscale\": {\"diverging\": [[0, \"#8e0152\"], [0.1, \"#c51b7d\"], [0.2, \"#de77ae\"], [0.3, \"#f1b6da\"], [0.4, \"#fde0ef\"], [0.5, \"#f7f7f7\"], [0.6, \"#e6f5d0\"], [0.7, \"#b8e186\"], [0.8, \"#7fbc41\"], [0.9, \"#4d9221\"], [1, \"#276419\"]], \"sequential\": [[0.0, \"#0d0887\"], [0.1111111111111111, \"#46039f\"], [0.2222222222222222, \"#7201a8\"], [0.3333333333333333, \"#9c179e\"], [0.4444444444444444, \"#bd3786\"], [0.5555555555555556, \"#d8576b\"], [0.6666666666666666, \"#ed7953\"], [0.7777777777777778, \"#fb9f3a\"], [0.8888888888888888, \"#fdca26\"], [1.0, \"#f0f921\"]], \"sequentialminus\": [[0.0, \"#0d0887\"], [0.1111111111111111, \"#46039f\"], [0.2222222222222222, \"#7201a8\"], [0.3333333333333333, \"#9c179e\"], [0.4444444444444444, \"#bd3786\"], [0.5555555555555556, \"#d8576b\"], [0.6666666666666666, \"#ed7953\"], [0.7777777777777778, \"#fb9f3a\"], [0.8888888888888888, \"#fdca26\"], [1.0, \"#f0f921\"]]}, \"colorway\": [\"#636efa\", \"#EF553B\", \"#00cc96\", \"#ab63fa\", \"#FFA15A\", \"#19d3f3\", \"#FF6692\", \"#B6E880\", \"#FF97FF\", \"#FECB52\"], \"font\": {\"color\": \"#2a3f5f\"}, \"geo\": {\"bgcolor\": \"white\", \"lakecolor\": \"white\", \"landcolor\": \"#E5ECF6\", \"showlakes\": true, \"showland\": true, \"subunitcolor\": \"white\"}, \"hoverlabel\": {\"align\": \"left\"}, \"hovermode\": \"closest\", \"mapbox\": {\"style\": \"light\"}, \"paper_bgcolor\": \"white\", \"plot_bgcolor\": \"#E5ECF6\", \"polar\": {\"angularaxis\": {\"gridcolor\": \"white\", \"linecolor\": \"white\", \"ticks\": \"\"}, \"bgcolor\": \"#E5ECF6\", \"radialaxis\": {\"gridcolor\": \"white\", \"linecolor\": \"white\", \"ticks\": \"\"}}, \"scene\": {\"xaxis\": {\"backgroundcolor\": \"#E5ECF6\", \"gridcolor\": \"white\", \"gridwidth\": 2, \"linecolor\": \"white\", \"showbackground\": true, \"ticks\": \"\", \"zerolinecolor\": \"white\"}, \"yaxis\": {\"backgroundcolor\": \"#E5ECF6\", \"gridcolor\": \"white\", \"gridwidth\": 2, \"linecolor\": \"white\", \"showbackground\": true, \"ticks\": \"\", \"zerolinecolor\": \"white\"}, \"zaxis\": {\"backgroundcolor\": \"#E5ECF6\", \"gridcolor\": \"white\", \"gridwidth\": 2, \"linecolor\": \"white\", \"showbackground\": true, \"ticks\": \"\", \"zerolinecolor\": \"white\"}}, \"shapedefaults\": {\"line\": {\"color\": \"#2a3f5f\"}}, \"ternary\": {\"aaxis\": {\"gridcolor\": \"white\", \"linecolor\": \"white\", \"ticks\": \"\"}, \"baxis\": {\"gridcolor\": \"white\", \"linecolor\": \"white\", \"ticks\": \"\"}, \"bgcolor\": \"#E5ECF6\", \"caxis\": {\"gridcolor\": \"white\", \"linecolor\": \"white\", \"ticks\": \"\"}}, \"title\": {\"x\": 0.05}, \"xaxis\": {\"automargin\": true, \"gridcolor\": \"white\", \"linecolor\": \"white\", \"ticks\": \"\", \"title\": {\"standoff\": 15}, \"zerolinecolor\": \"white\", \"zerolinewidth\": 2}, \"yaxis\": {\"automargin\": true, \"gridcolor\": \"white\", \"linecolor\": \"white\", \"ticks\": \"\", \"title\": {\"standoff\": 15}, \"zerolinecolor\": \"white\", \"zerolinewidth\": 2}}}, \"title\": {\"text\": \"Confirmed COVID19 Cases in the United States as of March 24, 2020\", \"x\": 0.54, \"xanchor\": \"center\", \"y\": 0.98, \"yanchor\": \"top\"}, \"uniformtext\": {\"minsize\": 12, \"mode\": \"hide\"}, \"xaxis\": {\"anchor\": \"y\", \"categoryorder\": \"category ascending\", \"domain\": [0.0, 1.0], \"linewidth\": 0.2, \"showline\": true, \"title\": {\"text\": \"Confirmed\"}}, \"yaxis\": {\"anchor\": \"x\", \"autorange\": \"reversed\", \"categoryarray\": [\"Wyoming\", \"Wisconsin\", \"West Virginia\", \"Washington\", \"Virginia\", \"Vermont\", \"Utah\", \"Texas\", \"Tennessee\", \"South Dakota\", \"South Carolina\", \"Rhode Island\", \"Pennsylvania\", \"Oregon\", \"Oklahoma\", \"Ohio\", \"North Dakota\", \"North Carolina\", \"New York\", \"New Mexico\", \"New Jersey\", \"New Hampshire\", \"Nevada\", \"Nebraska\", \"Montana\", \"Missouri\", \"Mississippi\", \"Minnesota\", \"Michigan\", \"Massachusetts\", \"Maryland\", \"Maine\", \"Louisiana\", \"Kentucky\", \"Kansas\", \"Iowa\", \"Indiana\", \"Illinois\", \"Idaho\", \"Hawaii\", \"Georgia\", \"Florida\", \"District of Columbia\", \"Delaware\", \"Connecticut\", \"Colorado\", \"California\", \"Arkansas\", \"Arizona\", \"Alaska\", \"Alabama\"], \"categoryorder\": \"total descending\", \"domain\": [0.0, 1.0], \"title\": {\"text\": \"\"}}},\n",
       "                        {\"responsive\": true}\n",
       "                    ).then(function(){\n",
       "                            \n",
       "var gd = document.getElementById('9adffb45-7f3e-4060-afa0-babdceef3adf');\n",
       "var x = new MutationObserver(function (mutations, observer) {{\n",
       "        var display = window.getComputedStyle(gd).display;\n",
       "        if (!display || display === 'none') {{\n",
       "            console.log([gd, 'removed!']);\n",
       "            Plotly.purge(gd);\n",
       "            observer.disconnect();\n",
       "        }}\n",
       "}});\n",
       "\n",
       "// Listen for the removal of the full notebook cells\n",
       "var notebookContainer = gd.closest('#notebook-container');\n",
       "if (notebookContainer) {{\n",
       "    x.observe(notebookContainer, {childList: true});\n",
       "}}\n",
       "\n",
       "// Listen for the clearing of the current output cell\n",
       "var outputEl = gd.closest('.output');\n",
       "if (outputEl) {{\n",
       "    x.observe(outputEl, {childList: true});\n",
       "}}\n",
       "\n",
       "                        })\n",
       "                };\n",
       "                });\n",
       "            </script>\n",
       "        </div>"
      ]
     },
     "metadata": {},
     "output_type": "display_data"
    }
   ],
   "source": [
    "import plotly.express as px\n",
    "import plotly.graph_objects as go\n",
    "\n",
    "fig = go.Figure()\n",
    "\n",
    "#Confirmed = df1['Confirmed'],\n",
    "#Deaths = df1['Deaths'],\n",
    "#Total_Confirmed = df1['Confirmed'].sum(),\n",
    "\n",
    "fig = px.bar(df1, \n",
    "             x=\"Confirmed\", \n",
    "             y=\"State\",\n",
    "             text=\"Confirmed\", #this adds the numbers inside the bars when possible or outside to the right\n",
    "             color='State', \n",
    "             orientation='h',\n",
    "             hover_name=\"County\", hover_data=[\"Confirmed\", \"Deaths\"],\n",
    "             height=1700,\n",
    "             color_continuous_scale='Magenta',\n",
    "            )\n",
    "             \n",
    "fig.update_layout(\n",
    "    title={\n",
    "        'text': \"Confirmed COVID19 Cases in the United States as of March 24, 2020\",\n",
    "        'y':0.98,\n",
    "        'x':0.54,\n",
    "        'xanchor': 'center',\n",
    "        'yanchor': 'top'},\n",
    "    showlegend=False,\n",
    "    xaxis={'categoryorder':'category ascending'},\n",
    "    yaxis_title=\"\",\n",
    "    yaxis=dict(autorange=\"reversed\"),\n",
    "    yaxis_categoryorder = 'total descending',\n",
    "    \n",
    "    font=dict(\n",
    "        #family=\"Times New Roman\",\n",
    "        size=16,\n",
    "        color=\"#7f7f7f\"),\n",
    "    \n",
    "    uniformtext_minsize=12, uniformtext_mode='hide',\n",
    ")\n",
    "\n",
    "fig.update_xaxes(showline=True, linewidth=0.2)\n",
    "fig.update_traces(texttemplate='%{text:.2s}', textposition='inside')\n",
    "    \n",
    "fig.show()\n",
    "\n",
    "import plotly.io as pio\n",
    "pio.write_html(fig, file='barhMarch24_2020.html', auto_open=True)"
   ]
  },
  {
   "cell_type": "code",
   "execution_count": 7,
   "metadata": {},
   "outputs": [
    {
     "data": {
      "application/vnd.plotly.v1+json": {
       "config": {
        "plotlyServerURL": "https://plot.ly"
       },
       "data": [
        {
         "branchvalues": "total",
         "domain": {
          "x": [
           0,
           1
          ],
          "y": [
           0,
           1
          ]
         },
         "hoverlabel": {
          "namelength": 0
         },
         "hovertemplate": "labels=%{label}<br>Confirmed=%{value}<br>parent=%{parent}<br>id=%{id}",
         "ids": [
          "South Carolina/Abbeville",
          "Louisiana/Acadia",
          "Virginia/Accomack",
          "Idaho/Ada",
          "Iowa/Adair",
          "Missouri/Adair",
          "Colorado/Adams",
          "Illinois/Adams",
          "Indiana/Adams",
          "Mississippi/Adams",
          "Nebraska/Adams",
          "Pennsylvania/Adams",
          "Washington/Adams",
          "Vermont/Addison",
          "South Carolina/Aiken",
          "Florida/Alachua",
          "North Carolina/Alamance",
          "California/Alameda",
          "New York/Albany",
          "Virginia/Albemarle",
          "Virginia/Alexandria",
          "Iowa/Allamakee",
          "Michigan/Allegan",
          "New York/Allegany",
          "Pennsylvania/Allegheny",
          "Indiana/Allen",
          "Louisiana/Allen",
          "California/Amador",
          "Virginia/Amherst",
          "Alaska/Anchorage",
          "Kentucky/Anderson",
          "South Carolina/Anderson",
          "Tennessee/Anderson",
          "Maine/Androscoggin",
          "Maryland/Anne Arundel",
          "Minnesota/Anoka",
          "Arizona/Apache",
          "Colorado/Arapahoe",
          "Virginia/Arlington",
          "Pennsylvania/Armstrong",
          "Louisiana/Ascension",
          "Ohio/Ashland",
          "Ohio/Ashtabula",
          "Louisiana/Assumption",
          "Texas/Atascosa",
          "New Jersey/Atlantic",
          "Mississippi/Attala",
          "Alabama/Autauga",
          "Louisiana/Avoyelles",
          "Florida/Baker",
          "Georgia/Baker",
          "Alabama/Baldwin",
          "Georgia/Baldwin",
          "Maryland/Baltimore",
          "Maryland/Baltimore City",
          "Idaho/Bannock",
          "Massachusetts/Barnstable",
          "Georgia/Barrow",
          "Michigan/Barry",
          "Indiana/Bartholomew",
          "Georgia/Bartow",
          "Texas/Bastrop",
          "Missouri/Bates",
          "Florida/Bay",
          "Michigan/Bay",
          "Wisconsin/Bayfield",
          "South Dakota/Beadle",
          "North Carolina/Beaufort",
          "South Carolina/Beaufort",
          "Louisiana/Beauregard",
          "Pennsylvania/Beaver",
          "Virginia/Bedford",
          "New Hampshire/Belknap",
          "Texas/Bell",
          "Ohio/Belmont",
          "Georgia/Ben Hill",
          "Vermont/Bennington",
          "Arkansas/Benton",
          "Minnesota/Benton",
          "Oregon/Benton",
          "Washington/Benton",
          "New Jersey/Bergen",
          "South Carolina/Berkeley",
          "Pennsylvania/Berks",
          "Massachusetts/Berkshire",
          "New Mexico/Bernalillo",
          "Michigan/Berrien",
          "North Carolina/Bertie",
          "Texas/Bexar",
          "Georgia/Bibb",
          "Louisiana/Bienville",
          "Minnesota/Big Stone",
          "Idaho/Bingham",
          "Iowa/Black Hawk",
          "Idaho/Blaine",
          "Texas/Blanco",
          "Tennessee/Blount",
          "Minnesota/Blue Earth",
          "Mississippi/Bolivar",
          "South Dakota/Bon Homme",
          "Arkansas/Boone",
          "Indiana/Boone",
          "Kentucky/Boone",
          "Missouri/Boone",
          "Louisiana/Bossier",
          "Virginia/Botetourt",
          "Colorado/Boulder",
          "Kansas/Bourbon",
          "Kentucky/Bourbon",
          "Texas/Bowie",
          "Utah/Box Elder",
          "Florida/Bradford",
          "Pennsylvania/Bradford",
          "Arkansas/Bradley",
          "Tennessee/Bradley",
          "Texas/Brazoria",
          "Texas/Brazos",
          "Kentucky/Breathitt",
          "Florida/Brevard",
          "Massachusetts/Bristol",
          "Rhode Island/Bristol",
          "Montana/Broadwater",
          "South Dakota/Brookings",
          "New York/Broome",
          "Colorado/Broomfield",
          "Florida/Broward",
          "Indiana/Brown",
          "South Dakota/Brown",
          "Texas/Brown",
          "Wisconsin/Brown",
          "North Carolina/Brunswick",
          "Georgia/Bryan",
          "Iowa/Buchanan",
          "Pennsylvania/Bucks",
          "Nebraska/Buffalo",
          "North Carolina/Buncombe",
          "Georgia/Burke",
          "North Dakota/Burleigh",
          "New Jersey/Burlington",
          "Texas/Burnet",
          "Kansas/Butler",
          "Ohio/Butler",
          "Pennsylvania/Butler",
          "California/Butte",
          "Georgia/Butts",
          "North Carolina/Cabarrus",
          "Utah/Cache",
          "Louisiana/Caddo",
          "California/Calaveras",
          "Louisiana/Calcasieu",
          "North Carolina/Caldwell",
          "Vermont/Caledonia",
          "Alabama/Calhoun",
          "Michigan/Calhoun",
          "South Carolina/Calhoun",
          "Missouri/Callaway",
          "Kentucky/Calloway",
          "Wisconsin/Calumet",
          "Maryland/Calvert",
          "Pennsylvania/Cambria",
          "Georgia/Camden",
          "Missouri/Camden",
          "New Jersey/Camden",
          "Texas/Cameron",
          "Kentucky/Campbell",
          "Tennessee/Campbell",
          "Wyoming/Campbell",
          "Oklahoma/Canadian",
          "Idaho/Canyon",
          "New Jersey/Cape May",
          "Pennsylvania/Carbon",
          "Wyoming/Carbon",
          "Maryland/Caroline",
          "Georgia/Carroll",
          "Iowa/Carroll",
          "Maryland/Carroll",
          "New Hampshire/Carroll",
          "Ohio/Carroll",
          "Tennessee/Carroll",
          "Nevada/Carson City",
          "North Carolina/Carteret",
          "Minnesota/Carver",
          "Montana/Cascade",
          "Minnesota/Cass",
          "Missouri/Cass",
          "Nebraska/Cass",
          "North Dakota/Cass",
          "Idaho/Cassia",
          "Texas/Castro",
          "Louisiana/Catahoula",
          "North Carolina/Catawba",
          "Georgia/Catoosa",
          "New York/Cayuga",
          "Maryland/Cecil",
          "Iowa/Cedar",
          "Pennsylvania/Centre",
          "Iowa/Cerro Gordo",
          "Colorado/Chaffee",
          "Alabama/Chambers",
          "Texas/Chambers",
          "Illinois/Champaign",
          "Ohio/Champaign",
          "Maryland/Charles",
          "Virginia/Charles City",
          "South Dakota/Charles Mix",
          "South Carolina/Charleston",
          "Michigan/Charlevoix",
          "Florida/Charlotte",
          "Virginia/Charlottesville",
          "Georgia/Charlton",
          "Georgia/Chatham",
          "North Carolina/Chatham",
          "Georgia/Chattooga",
          "New York/Chautauqua",
          "New Mexico/Chaves",
          "Tennessee/Cheatham",
          "Washington/Chelan",
          "New York/Chemung",
          "New York/Chenango",
          "Georgia/Cherokee",
          "Kansas/Cherokee",
          "North Carolina/Cherokee",
          "Virginia/Chesapeake",
          "New Hampshire/Cheshire",
          "Pennsylvania/Chester",
          "South Carolina/Chester",
          "Tennessee/Chester",
          "South Carolina/Chesterfield",
          "Virginia/Chesterfield",
          "Mississippi/Chickasaw",
          "Michigan/Chippewa",
          "Wisconsin/Chippewa",
          "Minnesota/Chisago",
          "Vermont/Chittenden",
          "Mississippi/Choctaw",
          "North Carolina/Chowan",
          "Illinois/Christian",
          "Kentucky/Christian",
          "Missouri/Christian",
          "New Mexico/Cibola",
          "Florida/Citrus",
          "Oregon/Clackamas",
          "Louisiana/Claiborne",
          "Tennessee/Claiborne",
          "Washington/Clallam",
          "Michigan/Clare",
          "South Carolina/Clarendon",
          "Arkansas/Clark",
          "Indiana/Clark",
          "Kentucky/Clark",
          "Nevada/Clark",
          "Ohio/Clark",
          "Washington/Clark",
          "Georgia/Clarke",
          "Oregon/Clatsop",
          "Florida/Clay",
          "Minnesota/Clay",
          "Mississippi/Clay",
          "Missouri/Clay",
          "Georgia/Clayton",
          "Colorado/Clear Creek",
          "Pennsylvania/Clearfield",
          "Arkansas/Cleburne",
          "Ohio/Clermont",
          "Arkansas/Cleveland",
          "Oklahoma/Cleveland",
          "Georgia/Clinch",
          "Illinois/Clinton",
          "Michigan/Clinton",
          "Missouri/Clinton",
          "New York/Clinton",
          "Ohio/Clinton",
          "Mississippi/Coahoma",
          "Georgia/Cobb",
          "Arizona/Cochise",
          "Tennessee/Cocke",
          "Arizona/Coconino",
          "South Dakota/Codington",
          "Georgia/Coffee",
          "Missouri/Cole",
          "South Carolina/Colleton",
          "Florida/Collier",
          "Texas/Collin",
          "Georgia/Colquitt",
          "Arkansas/Columbia",
          "Florida/Columbia",
          "Georgia/Columbia",
          "New York/Columbia",
          "Pennsylvania/Columbia",
          "Washington/Columbia",
          "Wisconsin/Columbia",
          "Ohio/Columbiana",
          "Texas/Comal",
          "California/Contra Costa",
          "Arkansas/Conway",
          "Illinois/Cook",
          "Mississippi/Copiah",
          "New York/Cortland",
          "Ohio/Coshocton",
          "Georgia/Coweta",
          "Washington/Cowlitz",
          "Arkansas/Craighead",
          "Texas/Crane",
          "North Carolina/Craven",
          "Arkansas/Crawford",
          "Kansas/Crawford",
          "Ohio/Crawford",
          "Georgia/Crisp",
          "Arkansas/Crittenden",
          "Arkansas/Cross",
          "Colorado/Crowley",
          "Alabama/Cullman",
          "Virginia/Culpeper",
          "Illinois/Cumberland",
          "Maine/Cumberland",
          "New Jersey/Cumberland",
          "North Carolina/Cumberland",
          "Pennsylvania/Cumberland",
          "Tennessee/Cumberland",
          "New Mexico/Curry",
          "Oklahoma/Custer",
          "Ohio/Cuyahoga",
          "Minnesota/Dakota",
          "Iowa/Dallas",
          "Texas/Dallas",
          "Wisconsin/Dane",
          "Virginia/Danville",
          "Ohio/Darke",
          "South Carolina/Darlington",
          "Pennsylvania/Dauphin",
          "North Carolina/Davidson",
          "Tennessee/Davidson",
          "North Carolina/Davie",
          "Kentucky/Daviess",
          "Utah/Davis",
          "South Dakota/Davison",
          "Georgia/Dawson",
          "Louisiana/De Soto",
          "Georgia/DeKalb",
          "Illinois/DeKalb",
          "Florida/DeSoto",
          "Mississippi/DeSoto",
          "Texas/DeWitt",
          "Texas/Deaf Smith",
          "Indiana/Dearborn",
          "Indiana/Decatur",
          "Ohio/Defiance",
          "Indiana/Delaware",
          "New York/Delaware",
          "Ohio/Delaware",
          "Pennsylvania/Delaware",
          "Texas/Denton",
          "Colorado/Denver",
          "Oregon/Deschutes",
          "Arkansas/Desha",
          "Tennessee/Dickson",
          "South Carolina/Dillon",
          "District of Columbia/District of Columbia",
          "Minnesota/Dodge",
          "Wisconsin/Dodge",
          "New Mexico/Dona Ana",
          "Kansas/Doniphan",
          "South Carolina/Dorchester",
          "Georgia/Dougherty",
          "Colorado/Douglas",
          "Georgia/Douglas",
          "Kansas/Douglas",
          "Nebraska/Douglas",
          "Nevada/Douglas",
          "Oregon/Douglas",
          "Washington/Douglas",
          "Wisconsin/Douglas",
          "Illinois/DuPage",
          "Indiana/Dubois",
          "Iowa/Dubuque",
          "Massachusetts/Dukes and Nantucket",
          "Missouri/Dunklin",
          "North Dakota/Dunn",
          "Wisconsin/Dunn",
          "North Carolina/Duplin",
          "North Carolina/Durham",
          "New York/Dutchess",
          "Florida/Duval",
          "Tennessee/Dyer",
          "Colorado/Eagle",
          "Georgia/Early",
          "Louisiana/East Baton Rouge",
          "Texas/Eastland",
          "Michigan/Eaton",
          "Wisconsin/Eau Claire",
          "South Carolina/Edgefield",
          "Georgia/Effingham",
          "California/El Dorado",
          "Colorado/El Paso",
          "Texas/El Paso",
          "Colorado/Elbert",
          "Indiana/Elkhart",
          "Nevada/Elko County",
          "Texas/Ellis",
          "Alabama/Elmore",
          "Michigan/Emmet",
          "Texas/Erath",
          "New York/Erie",
          "Ohio/Erie",
          "Pennsylvania/Erie",
          "Florida/Escambia",
          "Massachusetts/Essex",
          "New Jersey/Essex",
          "New York/Essex",
          "Louisiana/Evangeline",
          "Alaska/Fairbanks North Star",
          "Virginia/Fairfax",
          "Connecticut/Fairfield",
          "Ohio/Fairfield",
          "South Carolina/Fairfield",
          "Texas/Falls",
          "Texas/Fannin",
          "Arkansas/Faulkner",
          "Georgia/Fayette",
          "Indiana/Fayette",
          "Iowa/Fayette",
          "Kentucky/Fayette",
          "Pennsylvania/Fayette",
          "Tennessee/Fayette",
          "Texas/Fayette",
          "Minnesota/Fillmore",
          "Florida/Flagler",
          "Montana/Flathead",
          "South Carolina/Florence",
          "Georgia/Floyd",
          "Indiana/Floyd",
          "Virginia/Fluvanna",
          "Wisconsin/Fond du Lac",
          "Mississippi/Forrest",
          "Georgia/Forsyth",
          "North Carolina/Forsyth",
          "Texas/Fort Bend",
          "Alabama/Franklin",
          "Indiana/Franklin",
          "Kansas/Franklin",
          "Kentucky/Franklin",
          "Massachusetts/Franklin",
          "Mississippi/Franklin",
          "North Carolina/Franklin",
          "Ohio/Franklin",
          "Pennsylvania/Franklin",
          "Tennessee/Franklin",
          "Vermont/Franklin",
          "Virginia/Franklin",
          "Washington/Franklin",
          "Maryland/Frederick",
          "Wyoming/Fremont",
          "California/Fresno",
          "Georgia/Fulton",
          "New York/Fulton",
          "Florida/Gadsden",
          "Nebraska/Gage",
          "Texas/Gaines",
          "Montana/Gallatin",
          "Ohio/Gallia",
          "Texas/Galveston",
          "Colorado/Garfield",
          "Arkansas/Garland",
          "Maryland/Garrett",
          "Oklahoma/Garvin",
          "North Carolina/Gaston",
          "Ohio/Geauga",
          "Michigan/Genesee",
          "New York/Genesee",
          "Mississippi/George",
          "South Carolina/Georgetown",
          "Indiana/Gibson",
          "Tennessee/Gibson",
          "Michigan/Gladwin",
          "New Jersey/Gloucester",
          "Virginia/Gloucester",
          "Georgia/Glynn",
          "Virginia/Goochland",
          "Georgia/Gordon",
          "Oklahoma/Grady",
          "New Hampshire/Grafton",
          "Arizona/Graham",
          "Colorado/Grand",
          "Michigan/Grand Traverse",
          "Arkansas/Grant",
          "Indiana/Grant",
          "Louisiana/Grant",
          "Oregon/Grant",
          "Washington/Grant",
          "North Carolina/Granville",
          "Washington/Grays Harbor",
          "Texas/Grayson",
          "Wisconsin/Green",
          "Arkansas/Greene",
          "Georgia/Greene",
          "Indiana/Greene",
          "Missouri/Greene",
          "New York/Greene",
          "Ohio/Greene",
          "Tennessee/Greene",
          "South Carolina/Greenville",
          "South Carolina/Greenwood",
          "Texas/Gregg",
          "Mississippi/Grenada",
          "Texas/Grimes",
          "Illinois/Grundy",
          "Tennessee/Grundy",
          "Texas/Guadalupe",
          "North Carolina/Guilford",
          "Colorado/Gunnison",
          "Georgia/Gwinnett",
          "Virginia/Halifax",
          "Georgia/Hall",
          "Tennessee/Hamblen",
          "Indiana/Hamilton",
          "New York/Hamilton",
          "Ohio/Hamilton",
          "Tennessee/Hamilton",
          "Massachusetts/Hampden",
          "Massachusetts/Hampshire",
          "Indiana/Hancock",
          "Iowa/Hancock",
          "Mississippi/Hancock",
          "Ohio/Hancock",
          "Virginia/Hanover",
          "Kentucky/Hardin",
          "Tennessee/Hardin",
          "Texas/Hardin",
          "Maryland/Harford",
          "North Carolina/Harnett",
          "Georgia/Harris",
          "Texas/Harris",
          "Iowa/Harrison",
          "Kentucky/Harrison",
          "Mississippi/Harrison",
          "West Virginia/Harrison",
          "Virginia/Harrisonburg",
          "Connecticut/Hartford",
          "Hawaii/Hawaii",
          "Texas/Hays",
          "Georgia/Heard",
          "Arkansas/Hempstead",
          "Kentucky/Henderson",
          "North Carolina/Henderson",
          "Indiana/Hendricks",
          "Minnesota/Hennepin",
          "Virginia/Henrico",
          "Georgia/Henry",
          "Iowa/Henry",
          "Missouri/Henry",
          "New York/Herkimer",
          "Florida/Hernando",
          "North Carolina/Hertford",
          "Texas/Hidalgo",
          "Ohio/Highland",
          "Florida/Highlands",
          "Florida/Hillsborough",
          "New Hampshire/Hillsborough",
          "Michigan/Hillsdale",
          "Mississippi/Hinds",
          "Colorado/Hinsdale",
          "Texas/Hockley",
          "North Carolina/Hoke",
          "Mississippi/Holmes",
          "Hawaii/Honolulu",
          "Oregon/Hood River",
          "Texas/Hopkins",
          "South Carolina/Horry",
          "Alabama/Houston",
          "Georgia/Houston",
          "Tennessee/Houston",
          "Indiana/Howard",
          "Maryland/Howard",
          "New Jersey/Hudson",
          "South Dakota/Hughes",
          "California/Humboldt",
          "Mississippi/Humphreys",
          "Texas/Hunt",
          "New Jersey/Hunterdon",
          "Ohio/Huron",
          "North Carolina/Hyde",
          "Louisiana/Iberia",
          "Louisiana/Iberville",
          "California/Imperial",
          "Arkansas/Independence",
          "Florida/Indian River",
          "Michigan/Ingham",
          "Wisconsin/Iowa",
          "North Carolina/Iredell",
          "Georgia/Irwin",
          "Michigan/Isabella",
          "Washington/Island",
          "Virginia/Isle of Wight",
          "Mississippi/Itawamba",
          "Alabama/Jackson",
          "Florida/Jackson",
          "Illinois/Jackson",
          "Indiana/Jackson",
          "Kansas/Jackson",
          "Michigan/Jackson",
          "Minnesota/Jackson",
          "Mississippi/Jackson",
          "Missouri/Jackson",
          "North Carolina/Jackson",
          "Oklahoma/Jackson",
          "Oregon/Jackson",
          "West Virginia/Jackson",
          "Virginia/James City",
          "Georgia/Jasper",
          "Iowa/Jasper",
          "Missouri/Jasper",
          "South Carolina/Jasper",
          "Alabama/Jefferson",
          "Arkansas/Jefferson",
          "Colorado/Jefferson",
          "Idaho/Jefferson",
          "Kentucky/Jefferson",
          "Louisiana/Jefferson",
          "Missouri/Jefferson",
          "New York/Jefferson",
          "Tennessee/Jefferson",
          "Texas/Jefferson",
          "Washington/Jefferson",
          "West Virginia/Jefferson",
          "Wisconsin/Jefferson",
          "Indiana/Jennings",
          "Kentucky/Jessamine",
          "Illinois/Jo Daviess",
          "Indiana/Johnson",
          "Iowa/Johnson",
          "Kansas/Johnson",
          "Missouri/Johnson",
          "Texas/Johnson",
          "North Carolina/Johnston",
          "Mississippi/Jones",
          "Oregon/Josephine",
          "Alaska/Juneau",
          "Pennsylvania/Juniata",
          "Michigan/Kalamazoo",
          "Michigan/Kalkaska",
          "West Virginia/Kanawha",
          "Illinois/Kane",
          "Illinois/Kankakee",
          "Missouri/Kansas City",
          "Hawaii/Kauai",
          "Oklahoma/Kay",
          "Alaska/Kenai Peninsula",
          "Illinois/Kendall",
          "Texas/Kendall",
          "Maine/Kennebec",
          "Wisconsin/Kenosha",
          "Delaware/Kent",
          "Michigan/Kent",
          "Rhode Island/Kent",
          "Kentucky/Kenton",
          "California/Kern",
          "South Carolina/Kershaw",
          "Alaska/Ketchikan Gateway",
          "Washington/King",
          "Washington/Kitsap",
          "Washington/Kittitas",
          "Oregon/Klamath",
          "Washington/Klickitat",
          "Maine/Knox",
          "Nebraska/Knox",
          "Ohio/Knox",
          "Tennessee/Knox",
          "Idaho/Kootenai",
          "Iowa/Kossuth",
          "Wisconsin/La Crosse",
          "Indiana/LaPorte",
          "Illinois/LaSalle",
          "Pennsylvania/Lackawanna",
          "Louisiana/Lafayette",
          "Mississippi/Lafayette",
          "Missouri/Lafayette",
          "Louisiana/Lafourche",
          "Florida/Lake",
          "Illinois/Lake",
          "Indiana/Lake",
          "Ohio/Lake",
          "Alabama/Lamar",
          "Georgia/Lamar",
          "Mississippi/Lamar",
          "Texas/Lamar",
          "Vermont/Lamoille",
          "Nebraska/Lancaster",
          "Pennsylvania/Lancaster",
          "South Carolina/Lancaster",
          "Oregon/Lane",
          "Michigan/Lapeer",
          "Wyoming/Laramie",
          "Colorado/Larimer",
          "Alabama/Lauderdale",
          "Kentucky/Laurel",
          "Georgia/Laurens",
          "Texas/Lavaca",
          "Arkansas/Lawrence",
          "Indiana/Lawrence",
          "Mississippi/Lawrence",
          "Minnesota/Le Sueur",
          "New Mexico/Lea",
          "Mississippi/Leake",
          "Kansas/Leavenworth",
          "Pennsylvania/Lebanon",
          "Alabama/Lee",
          "Florida/Lee",
          "Georgia/Lee",
          "Mississippi/Lee",
          "North Carolina/Lee",
          "South Carolina/Lee",
          "Virginia/Lee",
          "Michigan/Leelanau",
          "Mississippi/Leflore",
          "Pennsylvania/Lehigh",
          "North Carolina/Lenoir",
          "Florida/Leon",
          "Washington/Lewis",
          "Montana/Lewis and Clark",
          "South Carolina/Lexington",
          "Georgia/Liberty",
          "Texas/Liberty",
          "Ohio/Licking",
          "Alabama/Limestone",
          "Arkansas/Lincoln",
          "Georgia/Lincoln",
          "Louisiana/Lincoln",
          "Maine/Lincoln",
          "Mississippi/Lincoln",
          "Nebraska/Lincoln",
          "North Carolina/Lincoln",
          "Tennessee/Lincoln",
          "Washington/Lincoln",
          "Iowa/Linn",
          "Kansas/Linn",
          "Oregon/Linn",
          "Connecticut/Litchfield",
          "Illinois/Livingston",
          "Louisiana/Livingston",
          "Michigan/Livingston",
          "New York/Livingston",
          "Texas/Llano",
          "Colorado/Logan",
          "Kentucky/Logan",
          "Ohio/Logan",
          "Oklahoma/Logan",
          "Ohio/Lorain",
          "California/Los Angeles",
          "Tennessee/Loudon",
          "Virginia/Loudoun",
          "Virginia/Louisa",
          "Georgia/Lowndes",
          "Mississippi/Lowndes",
          "Texas/Lubbock",
          "Ohio/Lucas",
          "Georgia/Lumpkin",
          "Pennsylvania/Luzerne",
          "South Dakota/Lyman",
          "Kansas/Lyon",
          "Kentucky/Lyon",
          "Michigan/Macomb",
          "Georgia/Macon",
          "California/Madera",
          "Alabama/Madison",
          "Georgia/Madison",
          "Idaho/Madison",
          "Illinois/Madison",
          "Indiana/Madison",
          "Kentucky/Madison",
          "Mississippi/Madison",
          "Montana/Madison",
          "Nebraska/Madison",
          "New York/Madison",
          "Ohio/Madison",
          "Tennessee/Madison",
          "Virginia/Madison",
          "Ohio/Mahoning",
          "Florida/Manatee",
          "Michigan/Manistee",
          "Wisconsin/Marathon",
          "Arizona/Maricopa",
          "California/Marin",
          "Alabama/Marion",
          "Florida/Marion",
          "Indiana/Marion",
          "Mississippi/Marion",
          "Ohio/Marion",
          "Oregon/Marion",
          "Tennessee/Marion",
          "South Carolina/Marlboro",
          "Michigan/Marquette",
          "Mississippi/Marshall",
          "West Virginia/Marshall",
          "Florida/Martin",
          "Kentucky/Martin",
          "Minnesota/Martin",
          "Washington/Mason",
          "Texas/Matagorda",
          "Hawaii/Maui",
          "Tennessee/Maury",
          "Texas/Maverick",
          "Oklahoma/Mayes",
          "Oklahoma/McClain",
          "South Dakota/McCook",
          "Kentucky/McCracken",
          "North Carolina/McDowell",
          "Illinois/McHenry",
          "New Mexico/McKinley",
          "Illinois/McLean",
          "Texas/McLennan",
          "Tennessee/McMinn",
          "North Carolina/Mecklenburg",
          "Virginia/Mecklenburg",
          "Ohio/Medina",
          "Texas/Medina",
          "California/Mendocino",
          "Kentucky/Menifee",
          "California/Merced",
          "New Jersey/Mercer",
          "Pennsylvania/Mercer",
          "West Virginia/Mercer",
          "Georgia/Meriwether",
          "New Hampshire/Merrimack",
          "Colorado/Mesa",
          "Indiana/Miami",
          "Ohio/Miami",
          "Florida/Miami-Dade",
          "Connecticut/Middlesex",
          "Massachusetts/Middlesex",
          "New Jersey/Middlesex",
          "Michigan/Midland",
          "Texas/Midland",
          "Texas/Milam",
          "Georgia/Miller",
          "Wisconsin/Milwaukee",
          "South Dakota/Minnehaha",
          "Montana/Missoula",
          "Georgia/Mitchell",
          "Kansas/Mitchell",
          "Alabama/Mobile",
          "Missouri/Moniteau",
          "New Jersey/Monmouth",
          "California/Mono",
          "West Virginia/Monongalia",
          "Florida/Monroe",
          "Georgia/Monroe",
          "Illinois/Monroe",
          "Indiana/Monroe",
          "Michigan/Monroe",
          "Mississippi/Monroe",
          "New York/Monroe",
          "Pennsylvania/Monroe",
          "Tennessee/Monroe",
          "Michigan/Montcalm",
          "California/Monterey",
          "Alabama/Montgomery",
          "Indiana/Montgomery",
          "Kentucky/Montgomery",
          "Maryland/Montgomery",
          "Mississippi/Montgomery",
          "New York/Montgomery",
          "North Carolina/Montgomery",
          "Ohio/Montgomery",
          "Pennsylvania/Montgomery",
          "Tennessee/Montgomery",
          "Texas/Montgomery",
          "Pennsylvania/Montour",
          "Colorado/Montrose",
          "North Carolina/Moore",
          "Alabama/Morgan",
          "Colorado/Morgan",
          "Georgia/Morgan",
          "Indiana/Morgan",
          "Kansas/Morris",
          "New Jersey/Morris",
          "North Dakota/Morton",
          "Minnesota/Mower",
          "Kentucky/Muhlenberg",
          "Oregon/Multnomah",
          "Iowa/Muscatine",
          "Georgia/Muscogee",
          "Michigan/Muskegon",
          "Oklahoma/Muskogee",
          "California/Napa",
          "North Carolina/Nash",
          "Florida/Nassau",
          "New York/Nassau",
          "Louisiana/Natchitoches",
          "Wyoming/Natrona",
          "Arizona/Navajo",
          "Kentucky/Nelson",
          "Virginia/Nelson",
          "Nebraska/Nemaha",
          "California/Nevada",
          "Delaware/New Castle",
          "North Carolina/New Hanover",
          "Connecticut/New Haven",
          "Connecticut/New London",
          "New York/New York City",
          "Michigan/Newaygo",
          "South Carolina/Newberry",
          "Rhode Island/Newport",
          "Virginia/Newport News",
          "Georgia/Newton",
          "Mississippi/Newton",
          "New York/Niagara",
          "Minnesota/Nicollet",
          "Indiana/Noble",
          "Oklahoma/Noble",
          "Massachusetts/Norfolk",
          "Virginia/Norfolk",
          "North Carolina/Northampton",
          "Pennsylvania/Northampton",
          "Mississippi/Noxubee",
          "Texas/Nueces",
          "Nevada/Nye",
          "Michigan/Oakland",
          "New Jersey/Ocean",
          "Georgia/Oconee",
          "South Carolina/Oconee",
          "Indiana/Ohio",
          "Florida/Okaloosa",
          "Oklahoma/Oklahoma",
          "Mississippi/Oktibbeha",
          "Kentucky/Oldham",
          "Texas/Oldham",
          "Minnesota/Olmsted",
          "New York/Oneida",
          "New York/Onondaga",
          "North Carolina/Onslow",
          "New York/Ontario",
          "California/Orange",
          "Florida/Orange",
          "New York/Orange",
          "North Carolina/Orange",
          "Texas/Orange",
          "Vermont/Orange",
          "Virginia/Orange",
          "South Carolina/Orangeburg",
          "Louisiana/Orleans",
          "Vermont/Orleans",
          "Florida/Osceola",
          "New York/Oswego",
          "Michigan/Otsego",
          "New York/Otsego",
          "Michigan/Ottawa",
          "Louisiana/Ouachita",
          "Michigan/Out of MI",
          "Tennessee/Out of TN",
          "Utah/Out of UT",
          "Wisconsin/Outagamie",
          "Tennessee/Overton",
          "Indiana/Owen",
          "Maine/Oxford",
          "Wisconsin/Ozaukee",
          "Florida/Palm Beach",
          "Mississippi/Panola",
          "Colorado/Park",
          "Wyoming/Park",
          "Texas/Parker",
          "Florida/Pasco",
          "North Carolina/Pasquotank",
          "New Jersey/Passaic",
          "Georgia/Paulding",
          "Oklahoma/Pawnee",
          "Oklahoma/Payne",
          "Georgia/Peach",
          "Mississippi/Pearl River",
          "Missouri/Pemiscot",
          "South Dakota/Pennington",
          "Maine/Penobscot",
          "Illinois/Peoria",
          "Mississippi/Perry",
          "Missouri/Perry",
          "Tennessee/Perry",
          "Pennsylvania/Philadelphia",
          "Georgia/Pickens",
          "South Carolina/Pickens",
          "Georgia/Pierce",
          "North Dakota/Pierce",
          "Washington/Pierce",
          "Wisconsin/Pierce",
          "Arkansas/Pike",
          "Mississippi/Pike",
          "Pennsylvania/Pike",
          "Arizona/Pima",
          "Arizona/Pinal",
          "Florida/Pinellas",
          "Colorado/Pitkin",
          "North Carolina/Pitt",
          "California/Placer",
          "Louisiana/Plaquemines",
          "Missouri/Platte",
          "Massachusetts/Plymouth",
          "Arkansas/Poinsett",
          "Arkansas/Polk",
          "Florida/Polk",
          "Georgia/Polk",
          "Iowa/Polk",
          "Oregon/Polk",
          "Mississippi/Pontotoc",
          "Oklahoma/Pontotoc",
          "Arkansas/Pope",
          "Ohio/Portage",
          "Indiana/Porter",
          "Kansas/Pottawatomie",
          "Iowa/Pottawattamie",
          "Pennsylvania/Potter",
          "Texas/Potter",
          "Iowa/Poweshiek",
          "Virginia/Prince Edward",
          "Maryland/Prince George's",
          "Virginia/Prince William",
          "Rhode Island/Providence",
          "Colorado/Pueblo",
          "Arkansas/Pulaski",
          "Georgia/Pulaski",
          "Kentucky/Pulaski",
          "Missouri/Pulaski",
          "Florida/Putnam",
          "Indiana/Putnam",
          "New York/Putnam",
          "Tennessee/Putnam",
          "West Virginia/Putnam",
          "Maryland/Queen Anne's",
          "Wisconsin/Racine",
          "Minnesota/Ramsey",
          "North Dakota/Ramsey",
          "Texas/Randall",
          "Georgia/Randolph",
          "Missouri/Randolph",
          "North Carolina/Randolph",
          "Mississippi/Rankin",
          "Louisiana/Rapides",
          "Montana/Ravalli",
          "Kansas/Reno",
          "New York/Rensselaer",
          "Minnesota/Renville",
          "Minnesota/Rice",
          "Louisiana/Richland",
          "Ohio/Richland",
          "South Carolina/Richland",
          "Georgia/Richmond",
          "Virginia/Richmond City",
          "Indiana/Ripley",
          "California/Riverside",
          "Tennessee/Roane",
          "Tennessee/Robertson",
          "Texas/Robertson",
          "North Carolina/Robeson",
          "Wisconsin/Rock",
          "Illinois/Rock Island",
          "Virginia/Rockbridge",
          "Georgia/Rockdale",
          "New Hampshire/Rockingham",
          "Virginia/Rockingham",
          "New York/Rockland",
          "Montana/Roosevelt",
          "Michigan/Roscommon",
          "Colorado/Routt",
          "North Carolina/Rowan",
          "Texas/Rusk",
          "Tennessee/Rutherford",
          "Vermont/Rutland",
          "California/Sacramento",
          "Maine/Sagadahoc",
          "Michigan/Saginaw",
          "New Jersey/Salem",
          "Arkansas/Saline",
          "Utah/Salt Lake",
          "South Carolina/Saluda",
          "North Carolina/Sampson",
          "California/San Benito",
          "California/San Bernardino",
          "California/San Diego",
          "California/San Francisco",
          "California/San Joaquin",
          "New Mexico/San Juan",
          "Washington/San Juan",
          "California/San Luis Obispo",
          "California/San Mateo",
          "Colorado/San Miguel",
          "New Mexico/San Miguel",
          "New Mexico/Sandoval",
          "Ohio/Sandusky",
          "Illinois/Sangamon",
          "California/Santa Barbara",
          "California/Santa Clara",
          "Arizona/Santa Cruz",
          "California/Santa Cruz",
          "New Mexico/Santa Fe",
          "Florida/Santa Rosa",
          "Florida/Sarasota",
          "New York/Saratoga",
          "Nebraska/Sarpy",
          "Wisconsin/Sauk",
          "Nebraska/Saunders",
          "New York/Schenectady",
          "New York/Schoharie",
          "Pennsylvania/Schuylkill",
          "North Carolina/Scotland",
          "Indiana/Scott",
          "Iowa/Scott",
          "Kentucky/Scott",
          "Minnesota/Scott",
          "Mississippi/Scott",
          "Missouri/Scott",
          "Tennessee/Scott",
          "Arkansas/Searcy",
          "Arkansas/Sebastian",
          "Kansas/Sedgwick",
          "Florida/Seminole",
          "Ohio/Seneca",
          "Arkansas/Sevier",
          "Tennessee/Sevier",
          "California/Shasta",
          "Wisconsin/Sheboygan",
          "Alabama/Shelby",
          "Indiana/Shelby",
          "Tennessee/Shelby",
          "Minnesota/Sherburne",
          "Wyoming/Sheridan",
          "Montana/Silver Bow",
          "Kentucky/Simpson",
          "Mississippi/Simpson",
          "Iowa/Sioux",
          "California/Siskiyou",
          "Washington/Skagit",
          "Mississippi/Smith",
          "Texas/Smith",
          "Washington/Snohomish",
          "New Mexico/Socorro",
          "California/Solano",
          "Maryland/Somerset",
          "New Jersey/Somerset",
          "Pennsylvania/Somerset",
          "California/Sonoma",
          "Georgia/Spalding",
          "South Carolina/Spartanburg",
          "Kentucky/Spencer",
          "Washington/Spokane",
          "Virginia/Spotsylvania",
          "Louisiana/St. Bernard",
          "Louisiana/St. Charles",
          "Missouri/St. Charles",
          "Alabama/St. Clair",
          "Illinois/St. Clair",
          "Michigan/St. Clair",
          "Wisconsin/St. Croix",
          "Missouri/St. Francois",
          "Louisiana/St. James",
          "Louisiana/St. John the Baptist",
          "Florida/St. Johns",
          "Indiana/St. Joseph",
          "Louisiana/St. Landry",
          "New York/St. Lawrence",
          "Minnesota/St. Louis",
          "Missouri/St. Louis",
          "Missouri/St. Louis City",
          "Florida/St. Lucie",
          "Louisiana/St. Martin",
          "Louisiana/St. Mary",
          "Maryland/St. Mary's",
          "Louisiana/St. Tammany",
          "Virginia/Stafford",
          "California/Stanislaus",
          "Ohio/Stark",
          "Indiana/Starke",
          "Minnesota/Stearns",
          "Minnesota/Steele",
          "Georgia/Stephens",
          "Illinois/Stephenson",
          "New York/Steuben",
          "Washington/Stevens",
          "Arkansas/Stone",
          "Iowa/Story",
          "New Hampshire/Strafford",
          "Massachusetts/Suffolk",
          "New York/Suffolk",
          "Virginia/Suffolk",
          "New Hampshire/Sullivan",
          "New York/Sullivan",
          "Tennessee/Sullivan",
          "Colorado/Summit",
          "Ohio/Summit",
          "Utah/Summit",
          "Tennessee/Sumner",
          "Florida/Sumter",
          "Georgia/Sumter",
          "South Carolina/Sumter",
          "Mississippi/Sunflower",
          "Delaware/Sussex",
          "New Jersey/Sussex",
          "Maryland/Talbot",
          "Alabama/Talladega",
          "Mississippi/Tallahatchie",
          "Alabama/Tallapoosa",
          "Iowa/Tama",
          "Missouri/Taney",
          "Louisiana/Tangipahoa",
          "New Mexico/Taos",
          "Texas/Tarrant",
          "Mississippi/Tate",
          "Georgia/Tattnall",
          "Colorado/Teller",
          "Louisiana/Terrebonne",
          "Georgia/Terrell",
          "Texas/Terry",
          "Idaho/Teton",
          "Wyoming/Teton",
          "Washington/Thurston",
          "Georgia/Tift",
          "New York/Tioga",
          "Mississippi/Tippah",
          "Indiana/Tippecanoe",
          "Indiana/Tipton",
          "Tennessee/Tipton",
          "Connecticut/Tolland",
          "Texas/Tom Green",
          "New York/Tompkins",
          "Utah/Tooele",
          "North Carolina/Transylvania",
          "Texas/Travis",
          "Georgia/Troup",
          "Ohio/Trumbull",
          "West Virginia/Tucker",
          "California/Tulare",
          "Oklahoma/Tulsa",
          "Mississippi/Tunica",
          "Georgia/Turner",
          "Alabama/Tuscaloosa",
          "Ohio/Tuscarawas",
          "Michigan/Tuscola",
          "Georgia/Twiggs",
          "Idaho/Twin Falls",
          "New York/Ulster",
          "Oregon/Umatilla",
          "Arkansas/Unassigned",
          "Colorado/Unassigned",
          "Georgia/Unassigned",
          "Hawaii/Unassigned",
          "Iowa/Unassigned",
          "Kentucky/Unassigned",
          "Louisiana/Unassigned",
          "Massachusetts/Unassigned",
          "Missouri/Unassigned",
          "Montana/Unassigned",
          "Nevada/Unassigned",
          "New Jersey/Unassigned",
          "Rhode Island/Unassigned",
          "Tennessee/Unassigned",
          "Washington/Unassigned",
          "Arkansas/Union",
          "Mississippi/Union",
          "New Jersey/Union",
          "North Carolina/Union",
          "Ohio/Union",
          "Oregon/Union",
          "Utah/Utah",
          "Idaho/Valley",
          "Arkansas/Van Buren",
          "Texas/Van Zandt",
          "North Carolina/Vance",
          "Indiana/Vanderburgh",
          "California/Ventura",
          "Louisiana/Vernon",
          "Texas/Victoria",
          "Indiana/Vigo",
          "Virginia/Virginia Beach",
          "Florida/Volusia",
          "Minnesota/Wabasha",
          "North Carolina/Wake",
          "Maine/Waldo",
          "Alabama/Walker",
          "Texas/Walker",
          "Washington/Walla Walla",
          "Texas/Waller",
          "North Dakota/Walsh",
          "Mississippi/Walthall",
          "Florida/Walton",
          "Georgia/Walton",
          "Wisconsin/Walworth",
          "Iowa/Wapello",
          "North Dakota/Ward",
          "Iowa/Warren",
          "Kentucky/Warren",
          "New Jersey/Warren",
          "New York/Warren",
          "Ohio/Warren",
          "Indiana/Warrick",
          "Utah/Wasatch",
          "Minnesota/Waseca",
          "Alabama/Washington",
          "Arkansas/Washington",
          "Georgia/Washington",
          "Illinois/Washington",
          "Indiana/Washington",
          "Iowa/Washington",
          "Louisiana/Washington",
          "Maryland/Washington",
          "Minnesota/Washington",
          "Mississippi/Washington",
          "Nebraska/Washington",
          "New York/Washington",
          "Ohio/Washington",
          "Oklahoma/Washington",
          "Oregon/Washington",
          "Pennsylvania/Washington",
          "Rhode Island/Washington",
          "Tennessee/Washington",
          "Utah/Washington",
          "Vermont/Washington",
          "Wisconsin/Washington",
          "Nevada/Washoe",
          "Michigan/Washtenaw",
          "North Carolina/Watauga",
          "Wisconsin/Waukesha",
          "Michigan/Wayne",
          "New York/Wayne",
          "North Carolina/Wayne",
          "Pennsylvania/Wayne",
          "Texas/Webb",
          "Utah/Weber",
          "Kentucky/Webster",
          "Louisiana/Webster",
          "Mississippi/Webster",
          "Colorado/Weld",
          "Indiana/Wells",
          "Louisiana/West Baton Rouge",
          "New York/Westchester",
          "Pennsylvania/Westmoreland",
          "Michigan/Wexford",
          "Texas/Wharton",
          "Washington/Whatcom",
          "Arkansas/White",
          "Illinois/Whiteside",
          "Georgia/Whitfield",
          "Washington/Whitman",
          "Texas/Wichita",
          "Maryland/Wicomico",
          "Mississippi/Wilkinson",
          "Illinois/Will",
          "Virginia/Williamsburg",
          "Tennessee/Williamson",
          "Texas/Williamson",
          "North Carolina/Wilson",
          "Tennessee/Wilson",
          "Connecticut/Windham",
          "Vermont/Windham",
          "Vermont/Windsor",
          "Illinois/Winnebago",
          "Wisconsin/Winnebago",
          "Iowa/Winneshiek",
          "Mississippi/Winston",
          "Ohio/Wood",
          "Wisconsin/Wood",
          "Iowa/Woodbury",
          "Illinois/Woodford",
          "Arkansas/Woodruff",
          "Kansas/Woodson",
          "Maryland/Worcester",
          "Massachusetts/Worcester",
          "Georgia/Worth",
          "Minnesota/Wright",
          "Kansas/Wyandotte",
          "New York/Wyoming",
          "Washington/Yakima",
          "Oregon/Yamhill",
          "Arizona/Yavapai",
          "Mississippi/Yazoo",
          "Montana/Yellowstone",
          "California/Yolo",
          "Maine/York",
          "Pennsylvania/York",
          "South Carolina/York",
          "Virginia/York",
          "California/Yuba",
          "Arizona/Yuma",
          "Colorado/Yuma",
          "Alabama",
          "Alaska",
          "Arizona",
          "Arkansas",
          "California",
          "Colorado",
          "Connecticut",
          "Delaware",
          "District of Columbia",
          "Florida",
          "Georgia",
          "Hawaii",
          "Idaho",
          "Illinois",
          "Indiana",
          "Iowa",
          "Kansas",
          "Kentucky",
          "Louisiana",
          "Maine",
          "Maryland",
          "Massachusetts",
          "Michigan",
          "Minnesota",
          "Mississippi",
          "Missouri",
          "Montana",
          "Nebraska",
          "Nevada",
          "New Hampshire",
          "New Jersey",
          "New Mexico",
          "New York",
          "North Carolina",
          "North Dakota",
          "Ohio",
          "Oklahoma",
          "Oregon",
          "Pennsylvania",
          "Rhode Island",
          "South Carolina",
          "South Dakota",
          "Tennessee",
          "Texas",
          "Utah",
          "Vermont",
          "Virginia",
          "Washington",
          "West Virginia",
          "Wisconsin",
          "Wyoming"
         ],
         "labels": [
          "Abbeville",
          "Acadia",
          "Accomack",
          "Ada",
          "Adair",
          "Adair",
          "Adams",
          "Adams",
          "Adams",
          "Adams",
          "Adams",
          "Adams",
          "Adams",
          "Addison",
          "Aiken",
          "Alachua",
          "Alamance",
          "Alameda",
          "Albany",
          "Albemarle",
          "Alexandria",
          "Allamakee",
          "Allegan",
          "Allegany",
          "Allegheny",
          "Allen",
          "Allen",
          "Amador",
          "Amherst",
          "Anchorage",
          "Anderson",
          "Anderson",
          "Anderson",
          "Androscoggin",
          "Anne Arundel",
          "Anoka",
          "Apache",
          "Arapahoe",
          "Arlington",
          "Armstrong",
          "Ascension",
          "Ashland",
          "Ashtabula",
          "Assumption",
          "Atascosa",
          "Atlantic",
          "Attala",
          "Autauga",
          "Avoyelles",
          "Baker",
          "Baker",
          "Baldwin",
          "Baldwin",
          "Baltimore",
          "Baltimore City",
          "Bannock",
          "Barnstable",
          "Barrow",
          "Barry",
          "Bartholomew",
          "Bartow",
          "Bastrop",
          "Bates",
          "Bay",
          "Bay",
          "Bayfield",
          "Beadle",
          "Beaufort",
          "Beaufort",
          "Beauregard",
          "Beaver",
          "Bedford",
          "Belknap",
          "Bell",
          "Belmont",
          "Ben Hill",
          "Bennington",
          "Benton",
          "Benton",
          "Benton",
          "Benton",
          "Bergen",
          "Berkeley",
          "Berks",
          "Berkshire",
          "Bernalillo",
          "Berrien",
          "Bertie",
          "Bexar",
          "Bibb",
          "Bienville",
          "Big Stone",
          "Bingham",
          "Black Hawk",
          "Blaine",
          "Blanco",
          "Blount",
          "Blue Earth",
          "Bolivar",
          "Bon Homme",
          "Boone",
          "Boone",
          "Boone",
          "Boone",
          "Bossier",
          "Botetourt",
          "Boulder",
          "Bourbon",
          "Bourbon",
          "Bowie",
          "Box Elder",
          "Bradford",
          "Bradford",
          "Bradley",
          "Bradley",
          "Brazoria",
          "Brazos",
          "Breathitt",
          "Brevard",
          "Bristol",
          "Bristol",
          "Broadwater",
          "Brookings",
          "Broome",
          "Broomfield",
          "Broward",
          "Brown",
          "Brown",
          "Brown",
          "Brown",
          "Brunswick",
          "Bryan",
          "Buchanan",
          "Bucks",
          "Buffalo",
          "Buncombe",
          "Burke",
          "Burleigh",
          "Burlington",
          "Burnet",
          "Butler",
          "Butler",
          "Butler",
          "Butte",
          "Butts",
          "Cabarrus",
          "Cache",
          "Caddo",
          "Calaveras",
          "Calcasieu",
          "Caldwell",
          "Caledonia",
          "Calhoun",
          "Calhoun",
          "Calhoun",
          "Callaway",
          "Calloway",
          "Calumet",
          "Calvert",
          "Cambria",
          "Camden",
          "Camden",
          "Camden",
          "Cameron",
          "Campbell",
          "Campbell",
          "Campbell",
          "Canadian",
          "Canyon",
          "Cape May",
          "Carbon",
          "Carbon",
          "Caroline",
          "Carroll",
          "Carroll",
          "Carroll",
          "Carroll",
          "Carroll",
          "Carroll",
          "Carson City",
          "Carteret",
          "Carver",
          "Cascade",
          "Cass",
          "Cass",
          "Cass",
          "Cass",
          "Cassia",
          "Castro",
          "Catahoula",
          "Catawba",
          "Catoosa",
          "Cayuga",
          "Cecil",
          "Cedar",
          "Centre",
          "Cerro Gordo",
          "Chaffee",
          "Chambers",
          "Chambers",
          "Champaign",
          "Champaign",
          "Charles",
          "Charles City",
          "Charles Mix",
          "Charleston",
          "Charlevoix",
          "Charlotte",
          "Charlottesville",
          "Charlton",
          "Chatham",
          "Chatham",
          "Chattooga",
          "Chautauqua",
          "Chaves",
          "Cheatham",
          "Chelan",
          "Chemung",
          "Chenango",
          "Cherokee",
          "Cherokee",
          "Cherokee",
          "Chesapeake",
          "Cheshire",
          "Chester",
          "Chester",
          "Chester",
          "Chesterfield",
          "Chesterfield",
          "Chickasaw",
          "Chippewa",
          "Chippewa",
          "Chisago",
          "Chittenden",
          "Choctaw",
          "Chowan",
          "Christian",
          "Christian",
          "Christian",
          "Cibola",
          "Citrus",
          "Clackamas",
          "Claiborne",
          "Claiborne",
          "Clallam",
          "Clare",
          "Clarendon",
          "Clark",
          "Clark",
          "Clark",
          "Clark",
          "Clark",
          "Clark",
          "Clarke",
          "Clatsop",
          "Clay",
          "Clay",
          "Clay",
          "Clay",
          "Clayton",
          "Clear Creek",
          "Clearfield",
          "Cleburne",
          "Clermont",
          "Cleveland",
          "Cleveland",
          "Clinch",
          "Clinton",
          "Clinton",
          "Clinton",
          "Clinton",
          "Clinton",
          "Coahoma",
          "Cobb",
          "Cochise",
          "Cocke",
          "Coconino",
          "Codington",
          "Coffee",
          "Cole",
          "Colleton",
          "Collier",
          "Collin",
          "Colquitt",
          "Columbia",
          "Columbia",
          "Columbia",
          "Columbia",
          "Columbia",
          "Columbia",
          "Columbia",
          "Columbiana",
          "Comal",
          "Contra Costa",
          "Conway",
          "Cook",
          "Copiah",
          "Cortland",
          "Coshocton",
          "Coweta",
          "Cowlitz",
          "Craighead",
          "Crane",
          "Craven",
          "Crawford",
          "Crawford",
          "Crawford",
          "Crisp",
          "Crittenden",
          "Cross",
          "Crowley",
          "Cullman",
          "Culpeper",
          "Cumberland",
          "Cumberland",
          "Cumberland",
          "Cumberland",
          "Cumberland",
          "Cumberland",
          "Curry",
          "Custer",
          "Cuyahoga",
          "Dakota",
          "Dallas",
          "Dallas",
          "Dane",
          "Danville",
          "Darke",
          "Darlington",
          "Dauphin",
          "Davidson",
          "Davidson",
          "Davie",
          "Daviess",
          "Davis",
          "Davison",
          "Dawson",
          "De Soto",
          "DeKalb",
          "DeKalb",
          "DeSoto",
          "DeSoto",
          "DeWitt",
          "Deaf Smith",
          "Dearborn",
          "Decatur",
          "Defiance",
          "Delaware",
          "Delaware",
          "Delaware",
          "Delaware",
          "Denton",
          "Denver",
          "Deschutes",
          "Desha",
          "Dickson",
          "Dillon",
          "District of Columbia",
          "Dodge",
          "Dodge",
          "Dona Ana",
          "Doniphan",
          "Dorchester",
          "Dougherty",
          "Douglas",
          "Douglas",
          "Douglas",
          "Douglas",
          "Douglas",
          "Douglas",
          "Douglas",
          "Douglas",
          "DuPage",
          "Dubois",
          "Dubuque",
          "Dukes and Nantucket",
          "Dunklin",
          "Dunn",
          "Dunn",
          "Duplin",
          "Durham",
          "Dutchess",
          "Duval",
          "Dyer",
          "Eagle",
          "Early",
          "East Baton Rouge",
          "Eastland",
          "Eaton",
          "Eau Claire",
          "Edgefield",
          "Effingham",
          "El Dorado",
          "El Paso",
          "El Paso",
          "Elbert",
          "Elkhart",
          "Elko County",
          "Ellis",
          "Elmore",
          "Emmet",
          "Erath",
          "Erie",
          "Erie",
          "Erie",
          "Escambia",
          "Essex",
          "Essex",
          "Essex",
          "Evangeline",
          "Fairbanks North Star",
          "Fairfax",
          "Fairfield",
          "Fairfield",
          "Fairfield",
          "Falls",
          "Fannin",
          "Faulkner",
          "Fayette",
          "Fayette",
          "Fayette",
          "Fayette",
          "Fayette",
          "Fayette",
          "Fayette",
          "Fillmore",
          "Flagler",
          "Flathead",
          "Florence",
          "Floyd",
          "Floyd",
          "Fluvanna",
          "Fond du Lac",
          "Forrest",
          "Forsyth",
          "Forsyth",
          "Fort Bend",
          "Franklin",
          "Franklin",
          "Franklin",
          "Franklin",
          "Franklin",
          "Franklin",
          "Franklin",
          "Franklin",
          "Franklin",
          "Franklin",
          "Franklin",
          "Franklin",
          "Franklin",
          "Frederick",
          "Fremont",
          "Fresno",
          "Fulton",
          "Fulton",
          "Gadsden",
          "Gage",
          "Gaines",
          "Gallatin",
          "Gallia",
          "Galveston",
          "Garfield",
          "Garland",
          "Garrett",
          "Garvin",
          "Gaston",
          "Geauga",
          "Genesee",
          "Genesee",
          "George",
          "Georgetown",
          "Gibson",
          "Gibson",
          "Gladwin",
          "Gloucester",
          "Gloucester",
          "Glynn",
          "Goochland",
          "Gordon",
          "Grady",
          "Grafton",
          "Graham",
          "Grand",
          "Grand Traverse",
          "Grant",
          "Grant",
          "Grant",
          "Grant",
          "Grant",
          "Granville",
          "Grays Harbor",
          "Grayson",
          "Green",
          "Greene",
          "Greene",
          "Greene",
          "Greene",
          "Greene",
          "Greene",
          "Greene",
          "Greenville",
          "Greenwood",
          "Gregg",
          "Grenada",
          "Grimes",
          "Grundy",
          "Grundy",
          "Guadalupe",
          "Guilford",
          "Gunnison",
          "Gwinnett",
          "Halifax",
          "Hall",
          "Hamblen",
          "Hamilton",
          "Hamilton",
          "Hamilton",
          "Hamilton",
          "Hampden",
          "Hampshire",
          "Hancock",
          "Hancock",
          "Hancock",
          "Hancock",
          "Hanover",
          "Hardin",
          "Hardin",
          "Hardin",
          "Harford",
          "Harnett",
          "Harris",
          "Harris",
          "Harrison",
          "Harrison",
          "Harrison",
          "Harrison",
          "Harrisonburg",
          "Hartford",
          "Hawaii",
          "Hays",
          "Heard",
          "Hempstead",
          "Henderson",
          "Henderson",
          "Hendricks",
          "Hennepin",
          "Henrico",
          "Henry",
          "Henry",
          "Henry",
          "Herkimer",
          "Hernando",
          "Hertford",
          "Hidalgo",
          "Highland",
          "Highlands",
          "Hillsborough",
          "Hillsborough",
          "Hillsdale",
          "Hinds",
          "Hinsdale",
          "Hockley",
          "Hoke",
          "Holmes",
          "Honolulu",
          "Hood River",
          "Hopkins",
          "Horry",
          "Houston",
          "Houston",
          "Houston",
          "Howard",
          "Howard",
          "Hudson",
          "Hughes",
          "Humboldt",
          "Humphreys",
          "Hunt",
          "Hunterdon",
          "Huron",
          "Hyde",
          "Iberia",
          "Iberville",
          "Imperial",
          "Independence",
          "Indian River",
          "Ingham",
          "Iowa",
          "Iredell",
          "Irwin",
          "Isabella",
          "Island",
          "Isle of Wight",
          "Itawamba",
          "Jackson",
          "Jackson",
          "Jackson",
          "Jackson",
          "Jackson",
          "Jackson",
          "Jackson",
          "Jackson",
          "Jackson",
          "Jackson",
          "Jackson",
          "Jackson",
          "Jackson",
          "James City",
          "Jasper",
          "Jasper",
          "Jasper",
          "Jasper",
          "Jefferson",
          "Jefferson",
          "Jefferson",
          "Jefferson",
          "Jefferson",
          "Jefferson",
          "Jefferson",
          "Jefferson",
          "Jefferson",
          "Jefferson",
          "Jefferson",
          "Jefferson",
          "Jefferson",
          "Jennings",
          "Jessamine",
          "Jo Daviess",
          "Johnson",
          "Johnson",
          "Johnson",
          "Johnson",
          "Johnson",
          "Johnston",
          "Jones",
          "Josephine",
          "Juneau",
          "Juniata",
          "Kalamazoo",
          "Kalkaska",
          "Kanawha",
          "Kane",
          "Kankakee",
          "Kansas City",
          "Kauai",
          "Kay",
          "Kenai Peninsula",
          "Kendall",
          "Kendall",
          "Kennebec",
          "Kenosha",
          "Kent",
          "Kent",
          "Kent",
          "Kenton",
          "Kern",
          "Kershaw",
          "Ketchikan Gateway",
          "King",
          "Kitsap",
          "Kittitas",
          "Klamath",
          "Klickitat",
          "Knox",
          "Knox",
          "Knox",
          "Knox",
          "Kootenai",
          "Kossuth",
          "La Crosse",
          "LaPorte",
          "LaSalle",
          "Lackawanna",
          "Lafayette",
          "Lafayette",
          "Lafayette",
          "Lafourche",
          "Lake",
          "Lake",
          "Lake",
          "Lake",
          "Lamar",
          "Lamar",
          "Lamar",
          "Lamar",
          "Lamoille",
          "Lancaster",
          "Lancaster",
          "Lancaster",
          "Lane",
          "Lapeer",
          "Laramie",
          "Larimer",
          "Lauderdale",
          "Laurel",
          "Laurens",
          "Lavaca",
          "Lawrence",
          "Lawrence",
          "Lawrence",
          "Le Sueur",
          "Lea",
          "Leake",
          "Leavenworth",
          "Lebanon",
          "Lee",
          "Lee",
          "Lee",
          "Lee",
          "Lee",
          "Lee",
          "Lee",
          "Leelanau",
          "Leflore",
          "Lehigh",
          "Lenoir",
          "Leon",
          "Lewis",
          "Lewis and Clark",
          "Lexington",
          "Liberty",
          "Liberty",
          "Licking",
          "Limestone",
          "Lincoln",
          "Lincoln",
          "Lincoln",
          "Lincoln",
          "Lincoln",
          "Lincoln",
          "Lincoln",
          "Lincoln",
          "Lincoln",
          "Linn",
          "Linn",
          "Linn",
          "Litchfield",
          "Livingston",
          "Livingston",
          "Livingston",
          "Livingston",
          "Llano",
          "Logan",
          "Logan",
          "Logan",
          "Logan",
          "Lorain",
          "Los Angeles",
          "Loudon",
          "Loudoun",
          "Louisa",
          "Lowndes",
          "Lowndes",
          "Lubbock",
          "Lucas",
          "Lumpkin",
          "Luzerne",
          "Lyman",
          "Lyon",
          "Lyon",
          "Macomb",
          "Macon",
          "Madera",
          "Madison",
          "Madison",
          "Madison",
          "Madison",
          "Madison",
          "Madison",
          "Madison",
          "Madison",
          "Madison",
          "Madison",
          "Madison",
          "Madison",
          "Madison",
          "Mahoning",
          "Manatee",
          "Manistee",
          "Marathon",
          "Maricopa",
          "Marin",
          "Marion",
          "Marion",
          "Marion",
          "Marion",
          "Marion",
          "Marion",
          "Marion",
          "Marlboro",
          "Marquette",
          "Marshall",
          "Marshall",
          "Martin",
          "Martin",
          "Martin",
          "Mason",
          "Matagorda",
          "Maui",
          "Maury",
          "Maverick",
          "Mayes",
          "McClain",
          "McCook",
          "McCracken",
          "McDowell",
          "McHenry",
          "McKinley",
          "McLean",
          "McLennan",
          "McMinn",
          "Mecklenburg",
          "Mecklenburg",
          "Medina",
          "Medina",
          "Mendocino",
          "Menifee",
          "Merced",
          "Mercer",
          "Mercer",
          "Mercer",
          "Meriwether",
          "Merrimack",
          "Mesa",
          "Miami",
          "Miami",
          "Miami-Dade",
          "Middlesex",
          "Middlesex",
          "Middlesex",
          "Midland",
          "Midland",
          "Milam",
          "Miller",
          "Milwaukee",
          "Minnehaha",
          "Missoula",
          "Mitchell",
          "Mitchell",
          "Mobile",
          "Moniteau",
          "Monmouth",
          "Mono",
          "Monongalia",
          "Monroe",
          "Monroe",
          "Monroe",
          "Monroe",
          "Monroe",
          "Monroe",
          "Monroe",
          "Monroe",
          "Monroe",
          "Montcalm",
          "Monterey",
          "Montgomery",
          "Montgomery",
          "Montgomery",
          "Montgomery",
          "Montgomery",
          "Montgomery",
          "Montgomery",
          "Montgomery",
          "Montgomery",
          "Montgomery",
          "Montgomery",
          "Montour",
          "Montrose",
          "Moore",
          "Morgan",
          "Morgan",
          "Morgan",
          "Morgan",
          "Morris",
          "Morris",
          "Morton",
          "Mower",
          "Muhlenberg",
          "Multnomah",
          "Muscatine",
          "Muscogee",
          "Muskegon",
          "Muskogee",
          "Napa",
          "Nash",
          "Nassau",
          "Nassau",
          "Natchitoches",
          "Natrona",
          "Navajo",
          "Nelson",
          "Nelson",
          "Nemaha",
          "Nevada",
          "New Castle",
          "New Hanover",
          "New Haven",
          "New London",
          "New York City",
          "Newaygo",
          "Newberry",
          "Newport",
          "Newport News",
          "Newton",
          "Newton",
          "Niagara",
          "Nicollet",
          "Noble",
          "Noble",
          "Norfolk",
          "Norfolk",
          "Northampton",
          "Northampton",
          "Noxubee",
          "Nueces",
          "Nye",
          "Oakland",
          "Ocean",
          "Oconee",
          "Oconee",
          "Ohio",
          "Okaloosa",
          "Oklahoma",
          "Oktibbeha",
          "Oldham",
          "Oldham",
          "Olmsted",
          "Oneida",
          "Onondaga",
          "Onslow",
          "Ontario",
          "Orange",
          "Orange",
          "Orange",
          "Orange",
          "Orange",
          "Orange",
          "Orange",
          "Orangeburg",
          "Orleans",
          "Orleans",
          "Osceola",
          "Oswego",
          "Otsego",
          "Otsego",
          "Ottawa",
          "Ouachita",
          "Out of MI",
          "Out of TN",
          "Out of UT",
          "Outagamie",
          "Overton",
          "Owen",
          "Oxford",
          "Ozaukee",
          "Palm Beach",
          "Panola",
          "Park",
          "Park",
          "Parker",
          "Pasco",
          "Pasquotank",
          "Passaic",
          "Paulding",
          "Pawnee",
          "Payne",
          "Peach",
          "Pearl River",
          "Pemiscot",
          "Pennington",
          "Penobscot",
          "Peoria",
          "Perry",
          "Perry",
          "Perry",
          "Philadelphia",
          "Pickens",
          "Pickens",
          "Pierce",
          "Pierce",
          "Pierce",
          "Pierce",
          "Pike",
          "Pike",
          "Pike",
          "Pima",
          "Pinal",
          "Pinellas",
          "Pitkin",
          "Pitt",
          "Placer",
          "Plaquemines",
          "Platte",
          "Plymouth",
          "Poinsett",
          "Polk",
          "Polk",
          "Polk",
          "Polk",
          "Polk",
          "Pontotoc",
          "Pontotoc",
          "Pope",
          "Portage",
          "Porter",
          "Pottawatomie",
          "Pottawattamie",
          "Potter",
          "Potter",
          "Poweshiek",
          "Prince Edward",
          "Prince George's",
          "Prince William",
          "Providence",
          "Pueblo",
          "Pulaski",
          "Pulaski",
          "Pulaski",
          "Pulaski",
          "Putnam",
          "Putnam",
          "Putnam",
          "Putnam",
          "Putnam",
          "Queen Anne's",
          "Racine",
          "Ramsey",
          "Ramsey",
          "Randall",
          "Randolph",
          "Randolph",
          "Randolph",
          "Rankin",
          "Rapides",
          "Ravalli",
          "Reno",
          "Rensselaer",
          "Renville",
          "Rice",
          "Richland",
          "Richland",
          "Richland",
          "Richmond",
          "Richmond City",
          "Ripley",
          "Riverside",
          "Roane",
          "Robertson",
          "Robertson",
          "Robeson",
          "Rock",
          "Rock Island",
          "Rockbridge",
          "Rockdale",
          "Rockingham",
          "Rockingham",
          "Rockland",
          "Roosevelt",
          "Roscommon",
          "Routt",
          "Rowan",
          "Rusk",
          "Rutherford",
          "Rutland",
          "Sacramento",
          "Sagadahoc",
          "Saginaw",
          "Salem",
          "Saline",
          "Salt Lake",
          "Saluda",
          "Sampson",
          "San Benito",
          "San Bernardino",
          "San Diego",
          "San Francisco",
          "San Joaquin",
          "San Juan",
          "San Juan",
          "San Luis Obispo",
          "San Mateo",
          "San Miguel",
          "San Miguel",
          "Sandoval",
          "Sandusky",
          "Sangamon",
          "Santa Barbara",
          "Santa Clara",
          "Santa Cruz",
          "Santa Cruz",
          "Santa Fe",
          "Santa Rosa",
          "Sarasota",
          "Saratoga",
          "Sarpy",
          "Sauk",
          "Saunders",
          "Schenectady",
          "Schoharie",
          "Schuylkill",
          "Scotland",
          "Scott",
          "Scott",
          "Scott",
          "Scott",
          "Scott",
          "Scott",
          "Scott",
          "Searcy",
          "Sebastian",
          "Sedgwick",
          "Seminole",
          "Seneca",
          "Sevier",
          "Sevier",
          "Shasta",
          "Sheboygan",
          "Shelby",
          "Shelby",
          "Shelby",
          "Sherburne",
          "Sheridan",
          "Silver Bow",
          "Simpson",
          "Simpson",
          "Sioux",
          "Siskiyou",
          "Skagit",
          "Smith",
          "Smith",
          "Snohomish",
          "Socorro",
          "Solano",
          "Somerset",
          "Somerset",
          "Somerset",
          "Sonoma",
          "Spalding",
          "Spartanburg",
          "Spencer",
          "Spokane",
          "Spotsylvania",
          "St. Bernard",
          "St. Charles",
          "St. Charles",
          "St. Clair",
          "St. Clair",
          "St. Clair",
          "St. Croix",
          "St. Francois",
          "St. James",
          "St. John the Baptist",
          "St. Johns",
          "St. Joseph",
          "St. Landry",
          "St. Lawrence",
          "St. Louis",
          "St. Louis",
          "St. Louis City",
          "St. Lucie",
          "St. Martin",
          "St. Mary",
          "St. Mary's",
          "St. Tammany",
          "Stafford",
          "Stanislaus",
          "Stark",
          "Starke",
          "Stearns",
          "Steele",
          "Stephens",
          "Stephenson",
          "Steuben",
          "Stevens",
          "Stone",
          "Story",
          "Strafford",
          "Suffolk",
          "Suffolk",
          "Suffolk",
          "Sullivan",
          "Sullivan",
          "Sullivan",
          "Summit",
          "Summit",
          "Summit",
          "Sumner",
          "Sumter",
          "Sumter",
          "Sumter",
          "Sunflower",
          "Sussex",
          "Sussex",
          "Talbot",
          "Talladega",
          "Tallahatchie",
          "Tallapoosa",
          "Tama",
          "Taney",
          "Tangipahoa",
          "Taos",
          "Tarrant",
          "Tate",
          "Tattnall",
          "Teller",
          "Terrebonne",
          "Terrell",
          "Terry",
          "Teton",
          "Teton",
          "Thurston",
          "Tift",
          "Tioga",
          "Tippah",
          "Tippecanoe",
          "Tipton",
          "Tipton",
          "Tolland",
          "Tom Green",
          "Tompkins",
          "Tooele",
          "Transylvania",
          "Travis",
          "Troup",
          "Trumbull",
          "Tucker",
          "Tulare",
          "Tulsa",
          "Tunica",
          "Turner",
          "Tuscaloosa",
          "Tuscarawas",
          "Tuscola",
          "Twiggs",
          "Twin Falls",
          "Ulster",
          "Umatilla",
          "Unassigned",
          "Unassigned",
          "Unassigned",
          "Unassigned",
          "Unassigned",
          "Unassigned",
          "Unassigned",
          "Unassigned",
          "Unassigned",
          "Unassigned",
          "Unassigned",
          "Unassigned",
          "Unassigned",
          "Unassigned",
          "Unassigned",
          "Union",
          "Union",
          "Union",
          "Union",
          "Union",
          "Union",
          "Utah",
          "Valley",
          "Van Buren",
          "Van Zandt",
          "Vance",
          "Vanderburgh",
          "Ventura",
          "Vernon",
          "Victoria",
          "Vigo",
          "Virginia Beach",
          "Volusia",
          "Wabasha",
          "Wake",
          "Waldo",
          "Walker",
          "Walker",
          "Walla Walla",
          "Waller",
          "Walsh",
          "Walthall",
          "Walton",
          "Walton",
          "Walworth",
          "Wapello",
          "Ward",
          "Warren",
          "Warren",
          "Warren",
          "Warren",
          "Warren",
          "Warrick",
          "Wasatch",
          "Waseca",
          "Washington",
          "Washington",
          "Washington",
          "Washington",
          "Washington",
          "Washington",
          "Washington",
          "Washington",
          "Washington",
          "Washington",
          "Washington",
          "Washington",
          "Washington",
          "Washington",
          "Washington",
          "Washington",
          "Washington",
          "Washington",
          "Washington",
          "Washington",
          "Washington",
          "Washoe",
          "Washtenaw",
          "Watauga",
          "Waukesha",
          "Wayne",
          "Wayne",
          "Wayne",
          "Wayne",
          "Webb",
          "Weber",
          "Webster",
          "Webster",
          "Webster",
          "Weld",
          "Wells",
          "West Baton Rouge",
          "Westchester",
          "Westmoreland",
          "Wexford",
          "Wharton",
          "Whatcom",
          "White",
          "Whiteside",
          "Whitfield",
          "Whitman",
          "Wichita",
          "Wicomico",
          "Wilkinson",
          "Will",
          "Williamsburg",
          "Williamson",
          "Williamson",
          "Wilson",
          "Wilson",
          "Windham",
          "Windham",
          "Windsor",
          "Winnebago",
          "Winnebago",
          "Winneshiek",
          "Winston",
          "Wood",
          "Wood",
          "Woodbury",
          "Woodford",
          "Woodruff",
          "Woodson",
          "Worcester",
          "Worcester",
          "Worth",
          "Wright",
          "Wyandotte",
          "Wyoming",
          "Yakima",
          "Yamhill",
          "Yavapai",
          "Yazoo",
          "Yellowstone",
          "Yolo",
          "York",
          "York",
          "York",
          "York",
          "Yuba",
          "Yuma",
          "Yuma",
          "Alabama",
          "Alaska",
          "Arizona",
          "Arkansas",
          "California",
          "Colorado",
          "Connecticut",
          "Delaware",
          "District of Columbia",
          "Florida",
          "Georgia",
          "Hawaii",
          "Idaho",
          "Illinois",
          "Indiana",
          "Iowa",
          "Kansas",
          "Kentucky",
          "Louisiana",
          "Maine",
          "Maryland",
          "Massachusetts",
          "Michigan",
          "Minnesota",
          "Mississippi",
          "Missouri",
          "Montana",
          "Nebraska",
          "Nevada",
          "New Hampshire",
          "New Jersey",
          "New Mexico",
          "New York",
          "North Carolina",
          "North Dakota",
          "Ohio",
          "Oklahoma",
          "Oregon",
          "Pennsylvania",
          "Rhode Island",
          "South Carolina",
          "South Dakota",
          "Tennessee",
          "Texas",
          "Utah",
          "Vermont",
          "Virginia",
          "Washington",
          "West Virginia",
          "Wisconsin",
          "Wyoming"
         ],
         "name": "",
         "parents": [
          "South Carolina",
          "Louisiana",
          "Virginia",
          "Idaho",
          "Iowa",
          "Missouri",
          "Colorado",
          "Illinois",
          "Indiana",
          "Mississippi",
          "Nebraska",
          "Pennsylvania",
          "Washington",
          "Vermont",
          "South Carolina",
          "Florida",
          "North Carolina",
          "California",
          "New York",
          "Virginia",
          "Virginia",
          "Iowa",
          "Michigan",
          "New York",
          "Pennsylvania",
          "Indiana",
          "Louisiana",
          "California",
          "Virginia",
          "Alaska",
          "Kentucky",
          "South Carolina",
          "Tennessee",
          "Maine",
          "Maryland",
          "Minnesota",
          "Arizona",
          "Colorado",
          "Virginia",
          "Pennsylvania",
          "Louisiana",
          "Ohio",
          "Ohio",
          "Louisiana",
          "Texas",
          "New Jersey",
          "Mississippi",
          "Alabama",
          "Louisiana",
          "Florida",
          "Georgia",
          "Alabama",
          "Georgia",
          "Maryland",
          "Maryland",
          "Idaho",
          "Massachusetts",
          "Georgia",
          "Michigan",
          "Indiana",
          "Georgia",
          "Texas",
          "Missouri",
          "Florida",
          "Michigan",
          "Wisconsin",
          "South Dakota",
          "North Carolina",
          "South Carolina",
          "Louisiana",
          "Pennsylvania",
          "Virginia",
          "New Hampshire",
          "Texas",
          "Ohio",
          "Georgia",
          "Vermont",
          "Arkansas",
          "Minnesota",
          "Oregon",
          "Washington",
          "New Jersey",
          "South Carolina",
          "Pennsylvania",
          "Massachusetts",
          "New Mexico",
          "Michigan",
          "North Carolina",
          "Texas",
          "Georgia",
          "Louisiana",
          "Minnesota",
          "Idaho",
          "Iowa",
          "Idaho",
          "Texas",
          "Tennessee",
          "Minnesota",
          "Mississippi",
          "South Dakota",
          "Arkansas",
          "Indiana",
          "Kentucky",
          "Missouri",
          "Louisiana",
          "Virginia",
          "Colorado",
          "Kansas",
          "Kentucky",
          "Texas",
          "Utah",
          "Florida",
          "Pennsylvania",
          "Arkansas",
          "Tennessee",
          "Texas",
          "Texas",
          "Kentucky",
          "Florida",
          "Massachusetts",
          "Rhode Island",
          "Montana",
          "South Dakota",
          "New York",
          "Colorado",
          "Florida",
          "Indiana",
          "South Dakota",
          "Texas",
          "Wisconsin",
          "North Carolina",
          "Georgia",
          "Iowa",
          "Pennsylvania",
          "Nebraska",
          "North Carolina",
          "Georgia",
          "North Dakota",
          "New Jersey",
          "Texas",
          "Kansas",
          "Ohio",
          "Pennsylvania",
          "California",
          "Georgia",
          "North Carolina",
          "Utah",
          "Louisiana",
          "California",
          "Louisiana",
          "North Carolina",
          "Vermont",
          "Alabama",
          "Michigan",
          "South Carolina",
          "Missouri",
          "Kentucky",
          "Wisconsin",
          "Maryland",
          "Pennsylvania",
          "Georgia",
          "Missouri",
          "New Jersey",
          "Texas",
          "Kentucky",
          "Tennessee",
          "Wyoming",
          "Oklahoma",
          "Idaho",
          "New Jersey",
          "Pennsylvania",
          "Wyoming",
          "Maryland",
          "Georgia",
          "Iowa",
          "Maryland",
          "New Hampshire",
          "Ohio",
          "Tennessee",
          "Nevada",
          "North Carolina",
          "Minnesota",
          "Montana",
          "Minnesota",
          "Missouri",
          "Nebraska",
          "North Dakota",
          "Idaho",
          "Texas",
          "Louisiana",
          "North Carolina",
          "Georgia",
          "New York",
          "Maryland",
          "Iowa",
          "Pennsylvania",
          "Iowa",
          "Colorado",
          "Alabama",
          "Texas",
          "Illinois",
          "Ohio",
          "Maryland",
          "Virginia",
          "South Dakota",
          "South Carolina",
          "Michigan",
          "Florida",
          "Virginia",
          "Georgia",
          "Georgia",
          "North Carolina",
          "Georgia",
          "New York",
          "New Mexico",
          "Tennessee",
          "Washington",
          "New York",
          "New York",
          "Georgia",
          "Kansas",
          "North Carolina",
          "Virginia",
          "New Hampshire",
          "Pennsylvania",
          "South Carolina",
          "Tennessee",
          "South Carolina",
          "Virginia",
          "Mississippi",
          "Michigan",
          "Wisconsin",
          "Minnesota",
          "Vermont",
          "Mississippi",
          "North Carolina",
          "Illinois",
          "Kentucky",
          "Missouri",
          "New Mexico",
          "Florida",
          "Oregon",
          "Louisiana",
          "Tennessee",
          "Washington",
          "Michigan",
          "South Carolina",
          "Arkansas",
          "Indiana",
          "Kentucky",
          "Nevada",
          "Ohio",
          "Washington",
          "Georgia",
          "Oregon",
          "Florida",
          "Minnesota",
          "Mississippi",
          "Missouri",
          "Georgia",
          "Colorado",
          "Pennsylvania",
          "Arkansas",
          "Ohio",
          "Arkansas",
          "Oklahoma",
          "Georgia",
          "Illinois",
          "Michigan",
          "Missouri",
          "New York",
          "Ohio",
          "Mississippi",
          "Georgia",
          "Arizona",
          "Tennessee",
          "Arizona",
          "South Dakota",
          "Georgia",
          "Missouri",
          "South Carolina",
          "Florida",
          "Texas",
          "Georgia",
          "Arkansas",
          "Florida",
          "Georgia",
          "New York",
          "Pennsylvania",
          "Washington",
          "Wisconsin",
          "Ohio",
          "Texas",
          "California",
          "Arkansas",
          "Illinois",
          "Mississippi",
          "New York",
          "Ohio",
          "Georgia",
          "Washington",
          "Arkansas",
          "Texas",
          "North Carolina",
          "Arkansas",
          "Kansas",
          "Ohio",
          "Georgia",
          "Arkansas",
          "Arkansas",
          "Colorado",
          "Alabama",
          "Virginia",
          "Illinois",
          "Maine",
          "New Jersey",
          "North Carolina",
          "Pennsylvania",
          "Tennessee",
          "New Mexico",
          "Oklahoma",
          "Ohio",
          "Minnesota",
          "Iowa",
          "Texas",
          "Wisconsin",
          "Virginia",
          "Ohio",
          "South Carolina",
          "Pennsylvania",
          "North Carolina",
          "Tennessee",
          "North Carolina",
          "Kentucky",
          "Utah",
          "South Dakota",
          "Georgia",
          "Louisiana",
          "Georgia",
          "Illinois",
          "Florida",
          "Mississippi",
          "Texas",
          "Texas",
          "Indiana",
          "Indiana",
          "Ohio",
          "Indiana",
          "New York",
          "Ohio",
          "Pennsylvania",
          "Texas",
          "Colorado",
          "Oregon",
          "Arkansas",
          "Tennessee",
          "South Carolina",
          "District of Columbia",
          "Minnesota",
          "Wisconsin",
          "New Mexico",
          "Kansas",
          "South Carolina",
          "Georgia",
          "Colorado",
          "Georgia",
          "Kansas",
          "Nebraska",
          "Nevada",
          "Oregon",
          "Washington",
          "Wisconsin",
          "Illinois",
          "Indiana",
          "Iowa",
          "Massachusetts",
          "Missouri",
          "North Dakota",
          "Wisconsin",
          "North Carolina",
          "North Carolina",
          "New York",
          "Florida",
          "Tennessee",
          "Colorado",
          "Georgia",
          "Louisiana",
          "Texas",
          "Michigan",
          "Wisconsin",
          "South Carolina",
          "Georgia",
          "California",
          "Colorado",
          "Texas",
          "Colorado",
          "Indiana",
          "Nevada",
          "Texas",
          "Alabama",
          "Michigan",
          "Texas",
          "New York",
          "Ohio",
          "Pennsylvania",
          "Florida",
          "Massachusetts",
          "New Jersey",
          "New York",
          "Louisiana",
          "Alaska",
          "Virginia",
          "Connecticut",
          "Ohio",
          "South Carolina",
          "Texas",
          "Texas",
          "Arkansas",
          "Georgia",
          "Indiana",
          "Iowa",
          "Kentucky",
          "Pennsylvania",
          "Tennessee",
          "Texas",
          "Minnesota",
          "Florida",
          "Montana",
          "South Carolina",
          "Georgia",
          "Indiana",
          "Virginia",
          "Wisconsin",
          "Mississippi",
          "Georgia",
          "North Carolina",
          "Texas",
          "Alabama",
          "Indiana",
          "Kansas",
          "Kentucky",
          "Massachusetts",
          "Mississippi",
          "North Carolina",
          "Ohio",
          "Pennsylvania",
          "Tennessee",
          "Vermont",
          "Virginia",
          "Washington",
          "Maryland",
          "Wyoming",
          "California",
          "Georgia",
          "New York",
          "Florida",
          "Nebraska",
          "Texas",
          "Montana",
          "Ohio",
          "Texas",
          "Colorado",
          "Arkansas",
          "Maryland",
          "Oklahoma",
          "North Carolina",
          "Ohio",
          "Michigan",
          "New York",
          "Mississippi",
          "South Carolina",
          "Indiana",
          "Tennessee",
          "Michigan",
          "New Jersey",
          "Virginia",
          "Georgia",
          "Virginia",
          "Georgia",
          "Oklahoma",
          "New Hampshire",
          "Arizona",
          "Colorado",
          "Michigan",
          "Arkansas",
          "Indiana",
          "Louisiana",
          "Oregon",
          "Washington",
          "North Carolina",
          "Washington",
          "Texas",
          "Wisconsin",
          "Arkansas",
          "Georgia",
          "Indiana",
          "Missouri",
          "New York",
          "Ohio",
          "Tennessee",
          "South Carolina",
          "South Carolina",
          "Texas",
          "Mississippi",
          "Texas",
          "Illinois",
          "Tennessee",
          "Texas",
          "North Carolina",
          "Colorado",
          "Georgia",
          "Virginia",
          "Georgia",
          "Tennessee",
          "Indiana",
          "New York",
          "Ohio",
          "Tennessee",
          "Massachusetts",
          "Massachusetts",
          "Indiana",
          "Iowa",
          "Mississippi",
          "Ohio",
          "Virginia",
          "Kentucky",
          "Tennessee",
          "Texas",
          "Maryland",
          "North Carolina",
          "Georgia",
          "Texas",
          "Iowa",
          "Kentucky",
          "Mississippi",
          "West Virginia",
          "Virginia",
          "Connecticut",
          "Hawaii",
          "Texas",
          "Georgia",
          "Arkansas",
          "Kentucky",
          "North Carolina",
          "Indiana",
          "Minnesota",
          "Virginia",
          "Georgia",
          "Iowa",
          "Missouri",
          "New York",
          "Florida",
          "North Carolina",
          "Texas",
          "Ohio",
          "Florida",
          "Florida",
          "New Hampshire",
          "Michigan",
          "Mississippi",
          "Colorado",
          "Texas",
          "North Carolina",
          "Mississippi",
          "Hawaii",
          "Oregon",
          "Texas",
          "South Carolina",
          "Alabama",
          "Georgia",
          "Tennessee",
          "Indiana",
          "Maryland",
          "New Jersey",
          "South Dakota",
          "California",
          "Mississippi",
          "Texas",
          "New Jersey",
          "Ohio",
          "North Carolina",
          "Louisiana",
          "Louisiana",
          "California",
          "Arkansas",
          "Florida",
          "Michigan",
          "Wisconsin",
          "North Carolina",
          "Georgia",
          "Michigan",
          "Washington",
          "Virginia",
          "Mississippi",
          "Alabama",
          "Florida",
          "Illinois",
          "Indiana",
          "Kansas",
          "Michigan",
          "Minnesota",
          "Mississippi",
          "Missouri",
          "North Carolina",
          "Oklahoma",
          "Oregon",
          "West Virginia",
          "Virginia",
          "Georgia",
          "Iowa",
          "Missouri",
          "South Carolina",
          "Alabama",
          "Arkansas",
          "Colorado",
          "Idaho",
          "Kentucky",
          "Louisiana",
          "Missouri",
          "New York",
          "Tennessee",
          "Texas",
          "Washington",
          "West Virginia",
          "Wisconsin",
          "Indiana",
          "Kentucky",
          "Illinois",
          "Indiana",
          "Iowa",
          "Kansas",
          "Missouri",
          "Texas",
          "North Carolina",
          "Mississippi",
          "Oregon",
          "Alaska",
          "Pennsylvania",
          "Michigan",
          "Michigan",
          "West Virginia",
          "Illinois",
          "Illinois",
          "Missouri",
          "Hawaii",
          "Oklahoma",
          "Alaska",
          "Illinois",
          "Texas",
          "Maine",
          "Wisconsin",
          "Delaware",
          "Michigan",
          "Rhode Island",
          "Kentucky",
          "California",
          "South Carolina",
          "Alaska",
          "Washington",
          "Washington",
          "Washington",
          "Oregon",
          "Washington",
          "Maine",
          "Nebraska",
          "Ohio",
          "Tennessee",
          "Idaho",
          "Iowa",
          "Wisconsin",
          "Indiana",
          "Illinois",
          "Pennsylvania",
          "Louisiana",
          "Mississippi",
          "Missouri",
          "Louisiana",
          "Florida",
          "Illinois",
          "Indiana",
          "Ohio",
          "Alabama",
          "Georgia",
          "Mississippi",
          "Texas",
          "Vermont",
          "Nebraska",
          "Pennsylvania",
          "South Carolina",
          "Oregon",
          "Michigan",
          "Wyoming",
          "Colorado",
          "Alabama",
          "Kentucky",
          "Georgia",
          "Texas",
          "Arkansas",
          "Indiana",
          "Mississippi",
          "Minnesota",
          "New Mexico",
          "Mississippi",
          "Kansas",
          "Pennsylvania",
          "Alabama",
          "Florida",
          "Georgia",
          "Mississippi",
          "North Carolina",
          "South Carolina",
          "Virginia",
          "Michigan",
          "Mississippi",
          "Pennsylvania",
          "North Carolina",
          "Florida",
          "Washington",
          "Montana",
          "South Carolina",
          "Georgia",
          "Texas",
          "Ohio",
          "Alabama",
          "Arkansas",
          "Georgia",
          "Louisiana",
          "Maine",
          "Mississippi",
          "Nebraska",
          "North Carolina",
          "Tennessee",
          "Washington",
          "Iowa",
          "Kansas",
          "Oregon",
          "Connecticut",
          "Illinois",
          "Louisiana",
          "Michigan",
          "New York",
          "Texas",
          "Colorado",
          "Kentucky",
          "Ohio",
          "Oklahoma",
          "Ohio",
          "California",
          "Tennessee",
          "Virginia",
          "Virginia",
          "Georgia",
          "Mississippi",
          "Texas",
          "Ohio",
          "Georgia",
          "Pennsylvania",
          "South Dakota",
          "Kansas",
          "Kentucky",
          "Michigan",
          "Georgia",
          "California",
          "Alabama",
          "Georgia",
          "Idaho",
          "Illinois",
          "Indiana",
          "Kentucky",
          "Mississippi",
          "Montana",
          "Nebraska",
          "New York",
          "Ohio",
          "Tennessee",
          "Virginia",
          "Ohio",
          "Florida",
          "Michigan",
          "Wisconsin",
          "Arizona",
          "California",
          "Alabama",
          "Florida",
          "Indiana",
          "Mississippi",
          "Ohio",
          "Oregon",
          "Tennessee",
          "South Carolina",
          "Michigan",
          "Mississippi",
          "West Virginia",
          "Florida",
          "Kentucky",
          "Minnesota",
          "Washington",
          "Texas",
          "Hawaii",
          "Tennessee",
          "Texas",
          "Oklahoma",
          "Oklahoma",
          "South Dakota",
          "Kentucky",
          "North Carolina",
          "Illinois",
          "New Mexico",
          "Illinois",
          "Texas",
          "Tennessee",
          "North Carolina",
          "Virginia",
          "Ohio",
          "Texas",
          "California",
          "Kentucky",
          "California",
          "New Jersey",
          "Pennsylvania",
          "West Virginia",
          "Georgia",
          "New Hampshire",
          "Colorado",
          "Indiana",
          "Ohio",
          "Florida",
          "Connecticut",
          "Massachusetts",
          "New Jersey",
          "Michigan",
          "Texas",
          "Texas",
          "Georgia",
          "Wisconsin",
          "South Dakota",
          "Montana",
          "Georgia",
          "Kansas",
          "Alabama",
          "Missouri",
          "New Jersey",
          "California",
          "West Virginia",
          "Florida",
          "Georgia",
          "Illinois",
          "Indiana",
          "Michigan",
          "Mississippi",
          "New York",
          "Pennsylvania",
          "Tennessee",
          "Michigan",
          "California",
          "Alabama",
          "Indiana",
          "Kentucky",
          "Maryland",
          "Mississippi",
          "New York",
          "North Carolina",
          "Ohio",
          "Pennsylvania",
          "Tennessee",
          "Texas",
          "Pennsylvania",
          "Colorado",
          "North Carolina",
          "Alabama",
          "Colorado",
          "Georgia",
          "Indiana",
          "Kansas",
          "New Jersey",
          "North Dakota",
          "Minnesota",
          "Kentucky",
          "Oregon",
          "Iowa",
          "Georgia",
          "Michigan",
          "Oklahoma",
          "California",
          "North Carolina",
          "Florida",
          "New York",
          "Louisiana",
          "Wyoming",
          "Arizona",
          "Kentucky",
          "Virginia",
          "Nebraska",
          "California",
          "Delaware",
          "North Carolina",
          "Connecticut",
          "Connecticut",
          "New York",
          "Michigan",
          "South Carolina",
          "Rhode Island",
          "Virginia",
          "Georgia",
          "Mississippi",
          "New York",
          "Minnesota",
          "Indiana",
          "Oklahoma",
          "Massachusetts",
          "Virginia",
          "North Carolina",
          "Pennsylvania",
          "Mississippi",
          "Texas",
          "Nevada",
          "Michigan",
          "New Jersey",
          "Georgia",
          "South Carolina",
          "Indiana",
          "Florida",
          "Oklahoma",
          "Mississippi",
          "Kentucky",
          "Texas",
          "Minnesota",
          "New York",
          "New York",
          "North Carolina",
          "New York",
          "California",
          "Florida",
          "New York",
          "North Carolina",
          "Texas",
          "Vermont",
          "Virginia",
          "South Carolina",
          "Louisiana",
          "Vermont",
          "Florida",
          "New York",
          "Michigan",
          "New York",
          "Michigan",
          "Louisiana",
          "Michigan",
          "Tennessee",
          "Utah",
          "Wisconsin",
          "Tennessee",
          "Indiana",
          "Maine",
          "Wisconsin",
          "Florida",
          "Mississippi",
          "Colorado",
          "Wyoming",
          "Texas",
          "Florida",
          "North Carolina",
          "New Jersey",
          "Georgia",
          "Oklahoma",
          "Oklahoma",
          "Georgia",
          "Mississippi",
          "Missouri",
          "South Dakota",
          "Maine",
          "Illinois",
          "Mississippi",
          "Missouri",
          "Tennessee",
          "Pennsylvania",
          "Georgia",
          "South Carolina",
          "Georgia",
          "North Dakota",
          "Washington",
          "Wisconsin",
          "Arkansas",
          "Mississippi",
          "Pennsylvania",
          "Arizona",
          "Arizona",
          "Florida",
          "Colorado",
          "North Carolina",
          "California",
          "Louisiana",
          "Missouri",
          "Massachusetts",
          "Arkansas",
          "Arkansas",
          "Florida",
          "Georgia",
          "Iowa",
          "Oregon",
          "Mississippi",
          "Oklahoma",
          "Arkansas",
          "Ohio",
          "Indiana",
          "Kansas",
          "Iowa",
          "Pennsylvania",
          "Texas",
          "Iowa",
          "Virginia",
          "Maryland",
          "Virginia",
          "Rhode Island",
          "Colorado",
          "Arkansas",
          "Georgia",
          "Kentucky",
          "Missouri",
          "Florida",
          "Indiana",
          "New York",
          "Tennessee",
          "West Virginia",
          "Maryland",
          "Wisconsin",
          "Minnesota",
          "North Dakota",
          "Texas",
          "Georgia",
          "Missouri",
          "North Carolina",
          "Mississippi",
          "Louisiana",
          "Montana",
          "Kansas",
          "New York",
          "Minnesota",
          "Minnesota",
          "Louisiana",
          "Ohio",
          "South Carolina",
          "Georgia",
          "Virginia",
          "Indiana",
          "California",
          "Tennessee",
          "Tennessee",
          "Texas",
          "North Carolina",
          "Wisconsin",
          "Illinois",
          "Virginia",
          "Georgia",
          "New Hampshire",
          "Virginia",
          "New York",
          "Montana",
          "Michigan",
          "Colorado",
          "North Carolina",
          "Texas",
          "Tennessee",
          "Vermont",
          "California",
          "Maine",
          "Michigan",
          "New Jersey",
          "Arkansas",
          "Utah",
          "South Carolina",
          "North Carolina",
          "California",
          "California",
          "California",
          "California",
          "California",
          "New Mexico",
          "Washington",
          "California",
          "California",
          "Colorado",
          "New Mexico",
          "New Mexico",
          "Ohio",
          "Illinois",
          "California",
          "California",
          "Arizona",
          "California",
          "New Mexico",
          "Florida",
          "Florida",
          "New York",
          "Nebraska",
          "Wisconsin",
          "Nebraska",
          "New York",
          "New York",
          "Pennsylvania",
          "North Carolina",
          "Indiana",
          "Iowa",
          "Kentucky",
          "Minnesota",
          "Mississippi",
          "Missouri",
          "Tennessee",
          "Arkansas",
          "Arkansas",
          "Kansas",
          "Florida",
          "Ohio",
          "Arkansas",
          "Tennessee",
          "California",
          "Wisconsin",
          "Alabama",
          "Indiana",
          "Tennessee",
          "Minnesota",
          "Wyoming",
          "Montana",
          "Kentucky",
          "Mississippi",
          "Iowa",
          "California",
          "Washington",
          "Mississippi",
          "Texas",
          "Washington",
          "New Mexico",
          "California",
          "Maryland",
          "New Jersey",
          "Pennsylvania",
          "California",
          "Georgia",
          "South Carolina",
          "Kentucky",
          "Washington",
          "Virginia",
          "Louisiana",
          "Louisiana",
          "Missouri",
          "Alabama",
          "Illinois",
          "Michigan",
          "Wisconsin",
          "Missouri",
          "Louisiana",
          "Louisiana",
          "Florida",
          "Indiana",
          "Louisiana",
          "New York",
          "Minnesota",
          "Missouri",
          "Missouri",
          "Florida",
          "Louisiana",
          "Louisiana",
          "Maryland",
          "Louisiana",
          "Virginia",
          "California",
          "Ohio",
          "Indiana",
          "Minnesota",
          "Minnesota",
          "Georgia",
          "Illinois",
          "New York",
          "Washington",
          "Arkansas",
          "Iowa",
          "New Hampshire",
          "Massachusetts",
          "New York",
          "Virginia",
          "New Hampshire",
          "New York",
          "Tennessee",
          "Colorado",
          "Ohio",
          "Utah",
          "Tennessee",
          "Florida",
          "Georgia",
          "South Carolina",
          "Mississippi",
          "Delaware",
          "New Jersey",
          "Maryland",
          "Alabama",
          "Mississippi",
          "Alabama",
          "Iowa",
          "Missouri",
          "Louisiana",
          "New Mexico",
          "Texas",
          "Mississippi",
          "Georgia",
          "Colorado",
          "Louisiana",
          "Georgia",
          "Texas",
          "Idaho",
          "Wyoming",
          "Washington",
          "Georgia",
          "New York",
          "Mississippi",
          "Indiana",
          "Indiana",
          "Tennessee",
          "Connecticut",
          "Texas",
          "New York",
          "Utah",
          "North Carolina",
          "Texas",
          "Georgia",
          "Ohio",
          "West Virginia",
          "California",
          "Oklahoma",
          "Mississippi",
          "Georgia",
          "Alabama",
          "Ohio",
          "Michigan",
          "Georgia",
          "Idaho",
          "New York",
          "Oregon",
          "Arkansas",
          "Colorado",
          "Georgia",
          "Hawaii",
          "Iowa",
          "Kentucky",
          "Louisiana",
          "Massachusetts",
          "Missouri",
          "Montana",
          "Nevada",
          "New Jersey",
          "Rhode Island",
          "Tennessee",
          "Washington",
          "Arkansas",
          "Mississippi",
          "New Jersey",
          "North Carolina",
          "Ohio",
          "Oregon",
          "Utah",
          "Idaho",
          "Arkansas",
          "Texas",
          "North Carolina",
          "Indiana",
          "California",
          "Louisiana",
          "Texas",
          "Indiana",
          "Virginia",
          "Florida",
          "Minnesota",
          "North Carolina",
          "Maine",
          "Alabama",
          "Texas",
          "Washington",
          "Texas",
          "North Dakota",
          "Mississippi",
          "Florida",
          "Georgia",
          "Wisconsin",
          "Iowa",
          "North Dakota",
          "Iowa",
          "Kentucky",
          "New Jersey",
          "New York",
          "Ohio",
          "Indiana",
          "Utah",
          "Minnesota",
          "Alabama",
          "Arkansas",
          "Georgia",
          "Illinois",
          "Indiana",
          "Iowa",
          "Louisiana",
          "Maryland",
          "Minnesota",
          "Mississippi",
          "Nebraska",
          "New York",
          "Ohio",
          "Oklahoma",
          "Oregon",
          "Pennsylvania",
          "Rhode Island",
          "Tennessee",
          "Utah",
          "Vermont",
          "Wisconsin",
          "Nevada",
          "Michigan",
          "North Carolina",
          "Wisconsin",
          "Michigan",
          "New York",
          "North Carolina",
          "Pennsylvania",
          "Texas",
          "Utah",
          "Kentucky",
          "Louisiana",
          "Mississippi",
          "Colorado",
          "Indiana",
          "Louisiana",
          "New York",
          "Pennsylvania",
          "Michigan",
          "Texas",
          "Washington",
          "Arkansas",
          "Illinois",
          "Georgia",
          "Washington",
          "Texas",
          "Maryland",
          "Mississippi",
          "Illinois",
          "Virginia",
          "Tennessee",
          "Texas",
          "North Carolina",
          "Tennessee",
          "Connecticut",
          "Vermont",
          "Vermont",
          "Illinois",
          "Wisconsin",
          "Iowa",
          "Mississippi",
          "Ohio",
          "Wisconsin",
          "Iowa",
          "Illinois",
          "Arkansas",
          "Kansas",
          "Maryland",
          "Massachusetts",
          "Georgia",
          "Minnesota",
          "Kansas",
          "New York",
          "Washington",
          "Oregon",
          "Arizona",
          "Mississippi",
          "Montana",
          "California",
          "Maine",
          "Pennsylvania",
          "South Carolina",
          "Virginia",
          "California",
          "Arizona",
          "Colorado",
          "",
          "",
          "",
          "",
          "",
          "",
          "",
          "",
          "",
          "",
          "",
          "",
          "",
          "",
          "",
          "",
          "",
          "",
          "",
          "",
          "",
          "",
          "",
          "",
          "",
          "",
          "",
          "",
          "",
          "",
          "",
          "",
          "",
          "",
          "",
          "",
          "",
          "",
          "",
          "",
          "",
          "",
          "",
          "",
          "",
          "",
          "",
          "",
          "",
          "",
          ""
         ],
         "type": "treemap",
         "values": [
          1,
          2,
          1,
          19,
          1,
          1,
          25,
          1,
          1,
          2,
          1,
          6,
          1,
          8,
          2,
          37,
          3,
          135,
          146,
          2,
          8,
          6,
          1,
          2,
          58,
          7,
          2,
          2,
          1,
          17,
          2,
          16,
          1,
          3,
          24,
          7,
          4,
          58,
          36,
          1,
          36,
          1,
          3,
          2,
          2,
          6,
          3,
          1,
          3,
          4,
          2,
          4,
          2,
          42,
          41,
          2,
          40,
          1,
          1,
          5,
          74,
          1,
          1,
          1,
          2,
          1,
          13,
          2,
          22,
          2,
          3,
          1,
          7,
          18,
          2,
          1,
          9,
          1,
          1,
          4,
          9,
          701,
          4,
          16,
          37,
          43,
          8,
          1,
          69,
          4,
          1,
          1,
          2,
          4,
          36,
          1,
          3,
          5,
          4,
          1,
          1,
          3,
          1,
          20,
          12,
          1,
          39,
          1,
          2,
          1,
          1,
          1,
          1,
          4,
          2,
          28,
          16,
          1,
          9,
          31,
          24,
          1,
          1,
          9,
          2,
          311,
          1,
          1,
          2,
          3,
          10,
          2,
          1,
          69,
          2,
          12,
          1,
          18,
          42,
          1,
          3,
          18,
          6,
          2,
          2,
          10,
          3,
          40,
          2,
          5,
          1,
          1,
          2,
          4,
          1,
          2,
          1,
          1,
          3,
          1,
          1,
          1,
          51,
          6,
          1,
          2,
          1,
          4,
          5,
          3,
          1,
          2,
          1,
          26,
          1,
          5,
          7,
          3,
          3,
          2,
          5,
          8,
          3,
          1,
          6,
          2,
          3,
          1,
          2,
          1,
          4,
          1,
          2,
          3,
          1,
          7,
          2,
          3,
          5,
          1,
          4,
          1,
          5,
          1,
          1,
          36,
          3,
          3,
          5,
          1,
          7,
          3,
          1,
          2,
          4,
          5,
          6,
          3,
          3,
          28,
          2,
          4,
          1,
          1,
          40,
          1,
          1,
          1,
          10,
          6,
          1,
          1,
          2,
          40,
          1,
          1,
          1,
          2,
          2,
          1,
          9,
          17,
          2,
          1,
          4,
          1,
          5,
          6,
          5,
          2,
          212,
          2,
          13,
          16,
          1,
          10,
          3,
          1,
          3,
          21,
          3,
          1,
          32,
          5,
          3,
          22,
          1,
          3,
          5,
          1,
          6,
          1,
          11,
          86,
          1,
          1,
          18,
          1,
          2,
          5,
          1,
          41,
          45,
          2,
          1,
          3,
          4,
          18,
          1,
          1,
          5,
          3,
          5,
          86,
          1,
          1194,
          5,
          2,
          3,
          10,
          3,
          4,
          1,
          3,
          1,
          2,
          1,
          3,
          1,
          1,
          1,
          3,
          2,
          1,
          74,
          2,
          5,
          13,
          3,
          1,
          2,
          167,
          21,
          7,
          169,
          72,
          1,
          1,
          8,
          4,
          3,
          253,
          1,
          11,
          31,
          2,
          1,
          6,
          94,
          1,
          1,
          29,
          1,
          1,
          2,
          6,
          2,
          4,
          3,
          11,
          84,
          38,
          148,
          10,
          2,
          5,
          1,
          141,
          3,
          2,
          13,
          1,
          3,
          90,
          48,
          11,
          6,
          39,
          2,
          1,
          1,
          4,
          103,
          1,
          6,
          2,
          1,
          1,
          1,
          1,
          71,
          124,
          50,
          2,
          92,
          2,
          58,
          1,
          3,
          4,
          1,
          2,
          2,
          69,
          10,
          3,
          4,
          2,
          6,
          8,
          2,
          1,
          114,
          1,
          5,
          10,
          118,
          342,
          3,
          2,
          7,
          46,
          384,
          2,
          2,
          1,
          1,
          14,
          12,
          2,
          1,
          15,
          2,
          2,
          1,
          3,
          4,
          4,
          5,
          11,
          6,
          1,
          18,
          14,
          8,
          14,
          46,
          1,
          7,
          1,
          2,
          10,
          3,
          4,
          75,
          3,
          1,
          2,
          1,
          5,
          4,
          10,
          13,
          184,
          1,
          1,
          1,
          1,
          16,
          1,
          18,
          8,
          10,
          3,
          2,
          4,
          5,
          34,
          1,
          1,
          2,
          2,
          2,
          2,
          19,
          2,
          5,
          3,
          7,
          1,
          20,
          2,
          2,
          3,
          3,
          3,
          1,
          1,
          23,
          1,
          1,
          2,
          1,
          1,
          1,
          1,
          19,
          4,
          3,
          5,
          39,
          2,
          1,
          2,
          2,
          1,
          1,
          4,
          16,
          28,
          45,
          1,
          14,
          2,
          25,
          2,
          38,
          8,
          24,
          8,
          4,
          2,
          5,
          1,
          1,
          2,
          1,
          2,
          5,
          9,
          1,
          134,
          3,
          8,
          24,
          2,
          1,
          88,
          2,
          7,
          1,
          1,
          2,
          2,
          13,
          103,
          14,
          13,
          1,
          1,
          4,
          5,
          1,
          2,
          1,
          4,
          91,
          19,
          1,
          31,
          1,
          3,
          1,
          6,
          58,
          1,
          1,
          19,
          1,
          3,
          1,
          6,
          30,
          234,
          1,
          4,
          1,
          1,
          25,
          2,
          1,
          2,
          14,
          6,
          3,
          11,
          15,
          1,
          9,
          1,
          2,
          25,
          2,
          3,
          2,
          1,
          1,
          1,
          1,
          6,
          1,
          10,
          14,
          1,
          1,
          3,
          1,
          37,
          1,
          1,
          1,
          2,
          91,
          21,
          55,
          2,
          33,
          293,
          4,
          2,
          4,
          6,
          8,
          3,
          4,
          2,
          1,
          1,
          18,
          37,
          36,
          1,
          2,
          4,
          1,
          1,
          1,
          1,
          3,
          1,
          4,
          24,
          4,
          21,
          1,
          5,
          3,
          4,
          1,
          5,
          13,
          10,
          31,
          7,
          5,
          13,
          58,
          6,
          1170,
          18,
          5,
          1,
          4,
          1,
          2,
          1,
          15,
          8,
          1,
          5,
          2,
          3,
          15,
          12,
          8,
          1,
          16,
          14,
          111,
          17,
          11,
          1,
          3,
          2,
          1,
          2,
          2,
          10,
          7,
          4,
          1,
          7,
          34,
          3,
          1,
          5,
          1,
          1,
          1,
          2,
          5,
          1,
          2,
          7,
          3,
          26,
          32,
          20,
          12,
          1,
          2,
          2,
          1,
          10,
          27,
          1,
          8,
          2,
          3,
          19,
          1,
          1,
          2,
          4,
          2,
          1,
          2,
          5,
          4,
          3,
          1,
          1,
          1,
          6,
          2,
          21,
          22,
          1,
          6,
          13,
          3,
          1,
          2,
          1,
          2,
          1,
          30,
          662,
          2,
          18,
          2,
          10,
          6,
          12,
          13,
          3,
          21,
          1,
          2,
          1,
          225,
          1,
          6,
          21,
          1,
          2,
          2,
          3,
          2,
          14,
          1,
          1,
          4,
          1,
          1,
          1,
          28,
          16,
          1,
          1,
          199,
          47,
          1,
          4,
          161,
          1,
          4,
          32,
          1,
          1,
          1,
          3,
          2,
          4,
          1,
          8,
          1,
          4,
          9,
          6,
          1,
          1,
          1,
          2,
          1,
          2,
          14,
          3,
          7,
          24,
          2,
          142,
          2,
          15,
          1,
          2,
          1,
          1,
          58,
          2,
          2,
          1,
          4,
          5,
          1,
          19,
          338,
          8,
          304,
          277,
          5,
          3,
          2,
          1,
          243,
          5,
          6,
          3,
          1,
          6,
          1,
          288,
          1,
          5,
          3,
          3,
          1,
          3,
          12,
          3,
          106,
          45,
          2,
          1,
          20,
          9,
          1,
          2,
          107,
          2,
          3,
          1,
          10,
          159,
          6,
          23,
          3,
          1,
          2,
          2,
          3,
          1,
          3,
          2,
          204,
          7,
          6,
          2,
          25,
          5,
          3,
          3,
          1,
          2,
          4,
          1,
          2869,
          2,
          2,
          32,
          1,
          1,
          1,
          3,
          71,
          10,
          89,
          6,
          14904,
          2,
          1,
          9,
          3,
          5,
          1,
          10,
          3,
          1,
          2,
          129,
          8,
          1,
          33,
          1,
          6,
          1,
          428,
          180,
          5,
          2,
          1,
          14,
          41,
          5,
          1,
          1,
          18,
          10,
          60,
          3,
          6,
          152,
          50,
          498,
          6,
          1,
          3,
          1,
          8,
          675,
          2,
          26,
          2,
          5,
          1,
          15,
          7,
          6,
          95,
          13,
          2,
          1,
          2,
          6,
          16,
          101,
          2,
          1,
          1,
          1,
          15,
          1,
          216,
          6,
          4,
          3,
          3,
          13,
          1,
          1,
          4,
          3,
          1,
          2,
          1,
          252,
          4,
          1,
          1,
          2,
          138,
          3,
          1,
          7,
          4,
          42,
          22,
          45,
          18,
          6,
          20,
          8,
          2,
          64,
          3,
          1,
          13,
          8,
          15,
          3,
          2,
          1,
          1,
          4,
          1,
          1,
          2,
          1,
          3,
          2,
          1,
          63,
          23,
          52,
          3,
          64,
          1,
          3,
          4,
          2,
          1,
          82,
          8,
          1,
          1,
          5,
          26,
          1,
          2,
          1,
          1,
          3,
          13,
          10,
          1,
          2,
          33,
          1,
          2,
          1,
          4,
          45,
          11,
          11,
          6,
          57,
          1,
          12,
          1,
          2,
          3,
          1,
          1,
          7,
          38,
          3,
          671,
          1,
          1,
          3,
          5,
          1,
          13,
          5,
          88,
          3,
          8,
          1,
          4,
          124,
          1,
          1,
          6,
          31,
          226,
          152,
          51,
          7,
          1,
          42,
          161,
          1,
          1,
          7,
          1,
          5,
          18,
          375,
          1,
          22,
          14,
          4,
          26,
          53,
          8,
          4,
          1,
          44,
          1,
          5,
          1,
          1,
          1,
          1,
          5,
          2,
          1,
          1,
          2,
          1,
          7,
          23,
          1,
          1,
          2,
          2,
          6,
          27,
          1,
          135,
          1,
          4,
          2,
          1,
          1,
          1,
          2,
          45,
          1,
          14,
          614,
          2,
          21,
          1,
          102,
          1,
          29,
          5,
          4,
          1,
          29,
          2,
          19,
          15,
          8,
          4,
          7,
          8,
          4,
          2,
          9,
          21,
          22,
          18,
          3,
          1,
          2,
          100,
          23,
          6,
          1,
          2,
          2,
          52,
          6,
          11,
          13,
          2,
          5,
          5,
          1,
          1,
          8,
          1,
          1,
          2,
          4,
          234,
          1880,
          1,
          1,
          23,
          2,
          8,
          36,
          82,
          34,
          10,
          2,
          8,
          3,
          23,
          18,
          1,
          2,
          2,
          2,
          4,
          1,
          4,
          3,
          71,
          1,
          1,
          3,
          14,
          3,
          1,
          2,
          2,
          11,
          2,
          1,
          11,
          3,
          2,
          6,
          19,
          1,
          16,
          2,
          1,
          86,
          6,
          4,
          2,
          17,
          12,
          3,
          1,
          10,
          3,
          1,
          1,
          1,
          35,
          2,
          13,
          5,
          81,
          20,
          2,
          46,
          12,
          85,
          6,
          6,
          15,
          645,
          23,
          38,
          112,
          1,
          1,
          246,
          18,
          2,
          1,
          13,
          1,
          5,
          1,
          1,
          1,
          35,
          2,
          3,
          3,
          17,
          18,
          1,
          66,
          1,
          5,
          1,
          1,
          1,
          1,
          2,
          10,
          1,
          4,
          1,
          3,
          1,
          4,
          15,
          2,
          7,
          1,
          15,
          1,
          1,
          5,
          1,
          1,
          2,
          4,
          3,
          2,
          10,
          5,
          3,
          3,
          1,
          2,
          76,
          9,
          9,
          7,
          5,
          3,
          17,
          44,
          50,
          3,
          31,
          876,
          6,
          2,
          4,
          4,
          9,
          1,
          3,
          2,
          50,
          1,
          5,
          3891,
          11,
          1,
          1,
          48,
          1,
          1,
          2,
          2,
          5,
          4,
          4,
          28,
          5,
          64,
          14,
          4,
          7,
          2,
          5,
          15,
          5,
          5,
          1,
          2,
          2,
          1,
          2,
          3,
          1,
          1,
          2,
          73,
          4,
          3,
          22,
          4,
          25,
          6,
          3,
          3,
          7,
          8,
          16,
          18,
          11,
          6,
          3,
          2,
          1,
          242,
          34,
          326,
          219,
          2538,
          723,
          618,
          104,
          141,
          1412,
          1026,
          90,
          81,
          1537,
          368,
          124,
          100,
          162,
          1388,
          118,
          349,
          1159,
          1793,
          261,
          320,
          257,
          51,
          66,
          278,
          101,
          3675,
          100,
          25681,
          495,
          36,
          567,
          106,
          210,
          946,
          124,
          342,
          30,
          772,
          955,
          298,
          95,
          293,
          2328,
          22,
          481,
          29
         ]
        }
       ],
       "layout": {
        "autosize": true,
        "legend": {
         "tracegroupgap": 0
        },
        "margin": {
         "t": 60
        },
        "template": {
         "data": {
          "bar": [
           {
            "error_x": {
             "color": "#2a3f5f"
            },
            "error_y": {
             "color": "#2a3f5f"
            },
            "marker": {
             "line": {
              "color": "#E5ECF6",
              "width": 0.5
             }
            },
            "type": "bar"
           }
          ],
          "barpolar": [
           {
            "marker": {
             "line": {
              "color": "#E5ECF6",
              "width": 0.5
             }
            },
            "type": "barpolar"
           }
          ],
          "carpet": [
           {
            "aaxis": {
             "endlinecolor": "#2a3f5f",
             "gridcolor": "white",
             "linecolor": "white",
             "minorgridcolor": "white",
             "startlinecolor": "#2a3f5f"
            },
            "baxis": {
             "endlinecolor": "#2a3f5f",
             "gridcolor": "white",
             "linecolor": "white",
             "minorgridcolor": "white",
             "startlinecolor": "#2a3f5f"
            },
            "type": "carpet"
           }
          ],
          "choropleth": [
           {
            "colorbar": {
             "outlinewidth": 0,
             "ticks": ""
            },
            "type": "choropleth"
           }
          ],
          "contour": [
           {
            "colorbar": {
             "outlinewidth": 0,
             "ticks": ""
            },
            "colorscale": [
             [
              0,
              "#0d0887"
             ],
             [
              0.1111111111111111,
              "#46039f"
             ],
             [
              0.2222222222222222,
              "#7201a8"
             ],
             [
              0.3333333333333333,
              "#9c179e"
             ],
             [
              0.4444444444444444,
              "#bd3786"
             ],
             [
              0.5555555555555556,
              "#d8576b"
             ],
             [
              0.6666666666666666,
              "#ed7953"
             ],
             [
              0.7777777777777778,
              "#fb9f3a"
             ],
             [
              0.8888888888888888,
              "#fdca26"
             ],
             [
              1,
              "#f0f921"
             ]
            ],
            "type": "contour"
           }
          ],
          "contourcarpet": [
           {
            "colorbar": {
             "outlinewidth": 0,
             "ticks": ""
            },
            "type": "contourcarpet"
           }
          ],
          "heatmap": [
           {
            "colorbar": {
             "outlinewidth": 0,
             "ticks": ""
            },
            "colorscale": [
             [
              0,
              "#0d0887"
             ],
             [
              0.1111111111111111,
              "#46039f"
             ],
             [
              0.2222222222222222,
              "#7201a8"
             ],
             [
              0.3333333333333333,
              "#9c179e"
             ],
             [
              0.4444444444444444,
              "#bd3786"
             ],
             [
              0.5555555555555556,
              "#d8576b"
             ],
             [
              0.6666666666666666,
              "#ed7953"
             ],
             [
              0.7777777777777778,
              "#fb9f3a"
             ],
             [
              0.8888888888888888,
              "#fdca26"
             ],
             [
              1,
              "#f0f921"
             ]
            ],
            "type": "heatmap"
           }
          ],
          "heatmapgl": [
           {
            "colorbar": {
             "outlinewidth": 0,
             "ticks": ""
            },
            "colorscale": [
             [
              0,
              "#0d0887"
             ],
             [
              0.1111111111111111,
              "#46039f"
             ],
             [
              0.2222222222222222,
              "#7201a8"
             ],
             [
              0.3333333333333333,
              "#9c179e"
             ],
             [
              0.4444444444444444,
              "#bd3786"
             ],
             [
              0.5555555555555556,
              "#d8576b"
             ],
             [
              0.6666666666666666,
              "#ed7953"
             ],
             [
              0.7777777777777778,
              "#fb9f3a"
             ],
             [
              0.8888888888888888,
              "#fdca26"
             ],
             [
              1,
              "#f0f921"
             ]
            ],
            "type": "heatmapgl"
           }
          ],
          "histogram": [
           {
            "marker": {
             "colorbar": {
              "outlinewidth": 0,
              "ticks": ""
             }
            },
            "type": "histogram"
           }
          ],
          "histogram2d": [
           {
            "colorbar": {
             "outlinewidth": 0,
             "ticks": ""
            },
            "colorscale": [
             [
              0,
              "#0d0887"
             ],
             [
              0.1111111111111111,
              "#46039f"
             ],
             [
              0.2222222222222222,
              "#7201a8"
             ],
             [
              0.3333333333333333,
              "#9c179e"
             ],
             [
              0.4444444444444444,
              "#bd3786"
             ],
             [
              0.5555555555555556,
              "#d8576b"
             ],
             [
              0.6666666666666666,
              "#ed7953"
             ],
             [
              0.7777777777777778,
              "#fb9f3a"
             ],
             [
              0.8888888888888888,
              "#fdca26"
             ],
             [
              1,
              "#f0f921"
             ]
            ],
            "type": "histogram2d"
           }
          ],
          "histogram2dcontour": [
           {
            "colorbar": {
             "outlinewidth": 0,
             "ticks": ""
            },
            "colorscale": [
             [
              0,
              "#0d0887"
             ],
             [
              0.1111111111111111,
              "#46039f"
             ],
             [
              0.2222222222222222,
              "#7201a8"
             ],
             [
              0.3333333333333333,
              "#9c179e"
             ],
             [
              0.4444444444444444,
              "#bd3786"
             ],
             [
              0.5555555555555556,
              "#d8576b"
             ],
             [
              0.6666666666666666,
              "#ed7953"
             ],
             [
              0.7777777777777778,
              "#fb9f3a"
             ],
             [
              0.8888888888888888,
              "#fdca26"
             ],
             [
              1,
              "#f0f921"
             ]
            ],
            "type": "histogram2dcontour"
           }
          ],
          "mesh3d": [
           {
            "colorbar": {
             "outlinewidth": 0,
             "ticks": ""
            },
            "type": "mesh3d"
           }
          ],
          "parcoords": [
           {
            "line": {
             "colorbar": {
              "outlinewidth": 0,
              "ticks": ""
             }
            },
            "type": "parcoords"
           }
          ],
          "pie": [
           {
            "automargin": true,
            "type": "pie"
           }
          ],
          "scatter": [
           {
            "marker": {
             "colorbar": {
              "outlinewidth": 0,
              "ticks": ""
             }
            },
            "type": "scatter"
           }
          ],
          "scatter3d": [
           {
            "line": {
             "colorbar": {
              "outlinewidth": 0,
              "ticks": ""
             }
            },
            "marker": {
             "colorbar": {
              "outlinewidth": 0,
              "ticks": ""
             }
            },
            "type": "scatter3d"
           }
          ],
          "scattercarpet": [
           {
            "marker": {
             "colorbar": {
              "outlinewidth": 0,
              "ticks": ""
             }
            },
            "type": "scattercarpet"
           }
          ],
          "scattergeo": [
           {
            "marker": {
             "colorbar": {
              "outlinewidth": 0,
              "ticks": ""
             }
            },
            "type": "scattergeo"
           }
          ],
          "scattergl": [
           {
            "marker": {
             "colorbar": {
              "outlinewidth": 0,
              "ticks": ""
             }
            },
            "type": "scattergl"
           }
          ],
          "scattermapbox": [
           {
            "marker": {
             "colorbar": {
              "outlinewidth": 0,
              "ticks": ""
             }
            },
            "type": "scattermapbox"
           }
          ],
          "scatterpolar": [
           {
            "marker": {
             "colorbar": {
              "outlinewidth": 0,
              "ticks": ""
             }
            },
            "type": "scatterpolar"
           }
          ],
          "scatterpolargl": [
           {
            "marker": {
             "colorbar": {
              "outlinewidth": 0,
              "ticks": ""
             }
            },
            "type": "scatterpolargl"
           }
          ],
          "scatterternary": [
           {
            "marker": {
             "colorbar": {
              "outlinewidth": 0,
              "ticks": ""
             }
            },
            "type": "scatterternary"
           }
          ],
          "surface": [
           {
            "colorbar": {
             "outlinewidth": 0,
             "ticks": ""
            },
            "colorscale": [
             [
              0,
              "#0d0887"
             ],
             [
              0.1111111111111111,
              "#46039f"
             ],
             [
              0.2222222222222222,
              "#7201a8"
             ],
             [
              0.3333333333333333,
              "#9c179e"
             ],
             [
              0.4444444444444444,
              "#bd3786"
             ],
             [
              0.5555555555555556,
              "#d8576b"
             ],
             [
              0.6666666666666666,
              "#ed7953"
             ],
             [
              0.7777777777777778,
              "#fb9f3a"
             ],
             [
              0.8888888888888888,
              "#fdca26"
             ],
             [
              1,
              "#f0f921"
             ]
            ],
            "type": "surface"
           }
          ],
          "table": [
           {
            "cells": {
             "fill": {
              "color": "#EBF0F8"
             },
             "line": {
              "color": "white"
             }
            },
            "header": {
             "fill": {
              "color": "#C8D4E3"
             },
             "line": {
              "color": "white"
             }
            },
            "type": "table"
           }
          ]
         },
         "layout": {
          "annotationdefaults": {
           "arrowcolor": "#2a3f5f",
           "arrowhead": 0,
           "arrowwidth": 1
          },
          "coloraxis": {
           "colorbar": {
            "outlinewidth": 0,
            "ticks": ""
           }
          },
          "colorscale": {
           "diverging": [
            [
             0,
             "#8e0152"
            ],
            [
             0.1,
             "#c51b7d"
            ],
            [
             0.2,
             "#de77ae"
            ],
            [
             0.3,
             "#f1b6da"
            ],
            [
             0.4,
             "#fde0ef"
            ],
            [
             0.5,
             "#f7f7f7"
            ],
            [
             0.6,
             "#e6f5d0"
            ],
            [
             0.7,
             "#b8e186"
            ],
            [
             0.8,
             "#7fbc41"
            ],
            [
             0.9,
             "#4d9221"
            ],
            [
             1,
             "#276419"
            ]
           ],
           "sequential": [
            [
             0,
             "#0d0887"
            ],
            [
             0.1111111111111111,
             "#46039f"
            ],
            [
             0.2222222222222222,
             "#7201a8"
            ],
            [
             0.3333333333333333,
             "#9c179e"
            ],
            [
             0.4444444444444444,
             "#bd3786"
            ],
            [
             0.5555555555555556,
             "#d8576b"
            ],
            [
             0.6666666666666666,
             "#ed7953"
            ],
            [
             0.7777777777777778,
             "#fb9f3a"
            ],
            [
             0.8888888888888888,
             "#fdca26"
            ],
            [
             1,
             "#f0f921"
            ]
           ],
           "sequentialminus": [
            [
             0,
             "#0d0887"
            ],
            [
             0.1111111111111111,
             "#46039f"
            ],
            [
             0.2222222222222222,
             "#7201a8"
            ],
            [
             0.3333333333333333,
             "#9c179e"
            ],
            [
             0.4444444444444444,
             "#bd3786"
            ],
            [
             0.5555555555555556,
             "#d8576b"
            ],
            [
             0.6666666666666666,
             "#ed7953"
            ],
            [
             0.7777777777777778,
             "#fb9f3a"
            ],
            [
             0.8888888888888888,
             "#fdca26"
            ],
            [
             1,
             "#f0f921"
            ]
           ]
          },
          "colorway": [
           "#636efa",
           "#EF553B",
           "#00cc96",
           "#ab63fa",
           "#FFA15A",
           "#19d3f3",
           "#FF6692",
           "#B6E880",
           "#FF97FF",
           "#FECB52"
          ],
          "font": {
           "color": "#2a3f5f"
          },
          "geo": {
           "bgcolor": "white",
           "lakecolor": "white",
           "landcolor": "#E5ECF6",
           "showlakes": true,
           "showland": true,
           "subunitcolor": "white"
          },
          "hoverlabel": {
           "align": "left"
          },
          "hovermode": "closest",
          "mapbox": {
           "style": "light"
          },
          "paper_bgcolor": "white",
          "plot_bgcolor": "#E5ECF6",
          "polar": {
           "angularaxis": {
            "gridcolor": "white",
            "linecolor": "white",
            "ticks": ""
           },
           "bgcolor": "#E5ECF6",
           "radialaxis": {
            "gridcolor": "white",
            "linecolor": "white",
            "ticks": ""
           }
          },
          "scene": {
           "xaxis": {
            "backgroundcolor": "#E5ECF6",
            "gridcolor": "white",
            "gridwidth": 2,
            "linecolor": "white",
            "showbackground": true,
            "ticks": "",
            "zerolinecolor": "white"
           },
           "yaxis": {
            "backgroundcolor": "#E5ECF6",
            "gridcolor": "white",
            "gridwidth": 2,
            "linecolor": "white",
            "showbackground": true,
            "ticks": "",
            "zerolinecolor": "white"
           },
           "zaxis": {
            "backgroundcolor": "#E5ECF6",
            "gridcolor": "white",
            "gridwidth": 2,
            "linecolor": "white",
            "showbackground": true,
            "ticks": "",
            "zerolinecolor": "white"
           }
          },
          "shapedefaults": {
           "line": {
            "color": "#2a3f5f"
           }
          },
          "ternary": {
           "aaxis": {
            "gridcolor": "white",
            "linecolor": "white",
            "ticks": ""
           },
           "baxis": {
            "gridcolor": "white",
            "linecolor": "white",
            "ticks": ""
           },
           "bgcolor": "#E5ECF6",
           "caxis": {
            "gridcolor": "white",
            "linecolor": "white",
            "ticks": ""
           }
          },
          "title": {
           "x": 0.05
          },
          "xaxis": {
           "automargin": true,
           "gridcolor": "white",
           "linecolor": "white",
           "ticks": "",
           "title": {
            "standoff": 15
           },
           "zerolinecolor": "white",
           "zerolinewidth": 2
          },
          "yaxis": {
           "automargin": true,
           "gridcolor": "white",
           "linecolor": "white",
           "ticks": "",
           "title": {
            "standoff": 15
           },
           "zerolinecolor": "white",
           "zerolinewidth": 2
          }
         }
        }
       }
      },
      "image/png": "[encoded data removed]",
      "text/html": [
       "<div>\n",
       "        \n",
       "        \n",
       "            <div id=\"3a0314be-f1bf-461e-b7ba-e164d755f1d4\" class=\"plotly-graph-div\" style=\"height:525px; width:100%;\"></div>\n",
       "            <script type=\"text/javascript\">\n",
       "                require([\"plotly\"], function(Plotly) {\n",
       "                    window.PLOTLYENV=window.PLOTLYENV || {};\n",
       "                    \n",
       "                if (document.getElementById(\"3a0314be-f1bf-461e-b7ba-e164d755f1d4\")) {\n",
       "                    Plotly.newPlot(\n",
       "                        '3a0314be-f1bf-461e-b7ba-e164d755f1d4',\n",
       "                        [{\"branchvalues\": \"total\", \"domain\": {\"x\": [0.0, 1.0], \"y\": [0.0, 1.0]}, \"hoverlabel\": {\"namelength\": 0}, \"hovertemplate\": \"labels=%{label}<br>Confirmed=%{value}<br>parent=%{parent}<br>id=%{id}\", \"ids\": [\"South Carolina/Abbeville\", \"Louisiana/Acadia\", \"Virginia/Accomack\", \"Idaho/Ada\", \"Iowa/Adair\", \"Missouri/Adair\", \"Colorado/Adams\", \"Illinois/Adams\", \"Indiana/Adams\", \"Mississippi/Adams\", \"Nebraska/Adams\", \"Pennsylvania/Adams\", \"Washington/Adams\", \"Vermont/Addison\", \"South Carolina/Aiken\", \"Florida/Alachua\", \"North Carolina/Alamance\", \"California/Alameda\", \"New York/Albany\", \"Virginia/Albemarle\", \"Virginia/Alexandria\", \"Iowa/Allamakee\", \"Michigan/Allegan\", \"New York/Allegany\", \"Pennsylvania/Allegheny\", \"Indiana/Allen\", \"Louisiana/Allen\", \"California/Amador\", \"Virginia/Amherst\", \"Alaska/Anchorage\", \"Kentucky/Anderson\", \"South Carolina/Anderson\", \"Tennessee/Anderson\", \"Maine/Androscoggin\", \"Maryland/Anne Arundel\", \"Minnesota/Anoka\", \"Arizona/Apache\", \"Colorado/Arapahoe\", \"Virginia/Arlington\", \"Pennsylvania/Armstrong\", \"Louisiana/Ascension\", \"Ohio/Ashland\", \"Ohio/Ashtabula\", \"Louisiana/Assumption\", \"Texas/Atascosa\", \"New Jersey/Atlantic\", \"Mississippi/Attala\", \"Alabama/Autauga\", \"Louisiana/Avoyelles\", \"Florida/Baker\", \"Georgia/Baker\", \"Alabama/Baldwin\", \"Georgia/Baldwin\", \"Maryland/Baltimore\", \"Maryland/Baltimore City\", \"Idaho/Bannock\", \"Massachusetts/Barnstable\", \"Georgia/Barrow\", \"Michigan/Barry\", \"Indiana/Bartholomew\", \"Georgia/Bartow\", \"Texas/Bastrop\", \"Missouri/Bates\", \"Florida/Bay\", \"Michigan/Bay\", \"Wisconsin/Bayfield\", \"South Dakota/Beadle\", \"North Carolina/Beaufort\", \"South Carolina/Beaufort\", \"Louisiana/Beauregard\", \"Pennsylvania/Beaver\", \"Virginia/Bedford\", \"New Hampshire/Belknap\", \"Texas/Bell\", \"Ohio/Belmont\", \"Georgia/Ben Hill\", \"Vermont/Bennington\", \"Arkansas/Benton\", \"Minnesota/Benton\", \"Oregon/Benton\", \"Washington/Benton\", \"New Jersey/Bergen\", \"South Carolina/Berkeley\", \"Pennsylvania/Berks\", \"Massachusetts/Berkshire\", \"New Mexico/Bernalillo\", \"Michigan/Berrien\", \"North Carolina/Bertie\", \"Texas/Bexar\", \"Georgia/Bibb\", \"Louisiana/Bienville\", \"Minnesota/Big Stone\", \"Idaho/Bingham\", \"Iowa/Black Hawk\", \"Idaho/Blaine\", \"Texas/Blanco\", \"Tennessee/Blount\", \"Minnesota/Blue Earth\", \"Mississippi/Bolivar\", \"South Dakota/Bon Homme\", \"Arkansas/Boone\", \"Indiana/Boone\", \"Kentucky/Boone\", \"Missouri/Boone\", \"Louisiana/Bossier\", \"Virginia/Botetourt\", \"Colorado/Boulder\", \"Kansas/Bourbon\", \"Kentucky/Bourbon\", \"Texas/Bowie\", \"Utah/Box Elder\", \"Florida/Bradford\", \"Pennsylvania/Bradford\", \"Arkansas/Bradley\", \"Tennessee/Bradley\", \"Texas/Brazoria\", \"Texas/Brazos\", \"Kentucky/Breathitt\", \"Florida/Brevard\", \"Massachusetts/Bristol\", \"Rhode Island/Bristol\", \"Montana/Broadwater\", \"South Dakota/Brookings\", \"New York/Broome\", \"Colorado/Broomfield\", \"Florida/Broward\", \"Indiana/Brown\", \"South Dakota/Brown\", \"Texas/Brown\", \"Wisconsin/Brown\", \"North Carolina/Brunswick\", \"Georgia/Bryan\", \"Iowa/Buchanan\", \"Pennsylvania/Bucks\", \"Nebraska/Buffalo\", \"North Carolina/Buncombe\", \"Georgia/Burke\", \"North Dakota/Burleigh\", \"New Jersey/Burlington\", \"Texas/Burnet\", \"Kansas/Butler\", \"Ohio/Butler\", \"Pennsylvania/Butler\", \"California/Butte\", \"Georgia/Butts\", \"North Carolina/Cabarrus\", \"Utah/Cache\", \"Louisiana/Caddo\", \"California/Calaveras\", \"Louisiana/Calcasieu\", \"North Carolina/Caldwell\", \"Vermont/Caledonia\", \"Alabama/Calhoun\", \"Michigan/Calhoun\", \"South Carolina/Calhoun\", \"Missouri/Callaway\", \"Kentucky/Calloway\", \"Wisconsin/Calumet\", \"Maryland/Calvert\", \"Pennsylvania/Cambria\", \"Georgia/Camden\", \"Missouri/Camden\", \"New Jersey/Camden\", \"Texas/Cameron\", \"Kentucky/Campbell\", \"Tennessee/Campbell\", \"Wyoming/Campbell\", \"Oklahoma/Canadian\", \"Idaho/Canyon\", \"New Jersey/Cape May\", \"Pennsylvania/Carbon\", \"Wyoming/Carbon\", \"Maryland/Caroline\", \"Georgia/Carroll\", \"Iowa/Carroll\", \"Maryland/Carroll\", \"New Hampshire/Carroll\", \"Ohio/Carroll\", \"Tennessee/Carroll\", \"Nevada/Carson City\", \"North Carolina/Carteret\", \"Minnesota/Carver\", \"Montana/Cascade\", \"Minnesota/Cass\", \"Missouri/Cass\", \"Nebraska/Cass\", \"North Dakota/Cass\", \"Idaho/Cassia\", \"Texas/Castro\", \"Louisiana/Catahoula\", \"North Carolina/Catawba\", \"Georgia/Catoosa\", \"New York/Cayuga\", \"Maryland/Cecil\", \"Iowa/Cedar\", \"Pennsylvania/Centre\", \"Iowa/Cerro Gordo\", \"Colorado/Chaffee\", \"Alabama/Chambers\", \"Texas/Chambers\", \"Illinois/Champaign\", \"Ohio/Champaign\", \"Maryland/Charles\", \"Virginia/Charles City\", \"South Dakota/Charles Mix\", \"South Carolina/Charleston\", \"Michigan/Charlevoix\", \"Florida/Charlotte\", \"Virginia/Charlottesville\", \"Georgia/Charlton\", \"Georgia/Chatham\", \"North Carolina/Chatham\", \"Georgia/Chattooga\", \"New York/Chautauqua\", \"New Mexico/Chaves\", \"Tennessee/Cheatham\", \"Washington/Chelan\", \"New York/Chemung\", \"New York/Chenango\", \"Georgia/Cherokee\", \"Kansas/Cherokee\", \"North Carolina/Cherokee\", \"Virginia/Chesapeake\", \"New Hampshire/Cheshire\", \"Pennsylvania/Chester\", \"South Carolina/Chester\", \"Tennessee/Chester\", \"South Carolina/Chesterfield\", \"Virginia/Chesterfield\", \"Mississippi/Chickasaw\", \"Michigan/Chippewa\", \"Wisconsin/Chippewa\", \"Minnesota/Chisago\", \"Vermont/Chittenden\", \"Mississippi/Choctaw\", \"North Carolina/Chowan\", \"Illinois/Christian\", \"Kentucky/Christian\", \"Missouri/Christian\", \"New Mexico/Cibola\", \"Florida/Citrus\", \"Oregon/Clackamas\", \"Louisiana/Claiborne\", \"Tennessee/Claiborne\", \"Washington/Clallam\", \"Michigan/Clare\", \"South Carolina/Clarendon\", \"Arkansas/Clark\", \"Indiana/Clark\", \"Kentucky/Clark\", \"Nevada/Clark\", \"Ohio/Clark\", \"Washington/Clark\", \"Georgia/Clarke\", \"Oregon/Clatsop\", \"Florida/Clay\", \"Minnesota/Clay\", \"Mississippi/Clay\", \"Missouri/Clay\", \"Georgia/Clayton\", \"Colorado/Clear Creek\", \"Pennsylvania/Clearfield\", \"Arkansas/Cleburne\", \"Ohio/Clermont\", \"Arkansas/Cleveland\", \"Oklahoma/Cleveland\", \"Georgia/Clinch\", \"Illinois/Clinton\", \"Michigan/Clinton\", \"Missouri/Clinton\", \"New York/Clinton\", \"Ohio/Clinton\", \"Mississippi/Coahoma\", \"Georgia/Cobb\", \"Arizona/Cochise\", \"Tennessee/Cocke\", \"Arizona/Coconino\", \"South Dakota/Codington\", \"Georgia/Coffee\", \"Missouri/Cole\", \"South Carolina/Colleton\", \"Florida/Collier\", \"Texas/Collin\", \"Georgia/Colquitt\", \"Arkansas/Columbia\", \"Florida/Columbia\", \"Georgia/Columbia\", \"New York/Columbia\", \"Pennsylvania/Columbia\", \"Washington/Columbia\", \"Wisconsin/Columbia\", \"Ohio/Columbiana\", \"Texas/Comal\", \"California/Contra Costa\", \"Arkansas/Conway\", \"Illinois/Cook\", \"Mississippi/Copiah\", \"New York/Cortland\", \"Ohio/Coshocton\", \"Georgia/Coweta\", \"Washington/Cowlitz\", \"Arkansas/Craighead\", \"Texas/Crane\", \"North Carolina/Craven\", \"Arkansas/Crawford\", \"Kansas/Crawford\", \"Ohio/Crawford\", \"Georgia/Crisp\", \"Arkansas/Crittenden\", \"Arkansas/Cross\", \"Colorado/Crowley\", \"Alabama/Cullman\", \"Virginia/Culpeper\", \"Illinois/Cumberland\", \"Maine/Cumberland\", \"New Jersey/Cumberland\", \"North Carolina/Cumberland\", \"Pennsylvania/Cumberland\", \"Tennessee/Cumberland\", \"New Mexico/Curry\", \"Oklahoma/Custer\", \"Ohio/Cuyahoga\", \"Minnesota/Dakota\", \"Iowa/Dallas\", \"Texas/Dallas\", \"Wisconsin/Dane\", \"Virginia/Danville\", \"Ohio/Darke\", \"South Carolina/Darlington\", \"Pennsylvania/Dauphin\", \"North Carolina/Davidson\", \"Tennessee/Davidson\", \"North Carolina/Davie\", \"Kentucky/Daviess\", \"Utah/Davis\", \"South Dakota/Davison\", \"Georgia/Dawson\", \"Louisiana/De Soto\", \"Georgia/DeKalb\", \"Illinois/DeKalb\", \"Florida/DeSoto\", \"Mississippi/DeSoto\", \"Texas/DeWitt\", \"Texas/Deaf Smith\", \"Indiana/Dearborn\", \"Indiana/Decatur\", \"Ohio/Defiance\", \"Indiana/Delaware\", \"New York/Delaware\", \"Ohio/Delaware\", \"Pennsylvania/Delaware\", \"Texas/Denton\", \"Colorado/Denver\", \"Oregon/Deschutes\", \"Arkansas/Desha\", \"Tennessee/Dickson\", \"South Carolina/Dillon\", \"District of Columbia/District of Columbia\", \"Minnesota/Dodge\", \"Wisconsin/Dodge\", \"New Mexico/Dona Ana\", \"Kansas/Doniphan\", \"South Carolina/Dorchester\", \"Georgia/Dougherty\", \"Colorado/Douglas\", \"Georgia/Douglas\", \"Kansas/Douglas\", \"Nebraska/Douglas\", \"Nevada/Douglas\", \"Oregon/Douglas\", \"Washington/Douglas\", \"Wisconsin/Douglas\", \"Illinois/DuPage\", \"Indiana/Dubois\", \"Iowa/Dubuque\", \"Massachusetts/Dukes and Nantucket\", \"Missouri/Dunklin\", \"North Dakota/Dunn\", \"Wisconsin/Dunn\", \"North Carolina/Duplin\", \"North Carolina/Durham\", \"New York/Dutchess\", \"Florida/Duval\", \"Tennessee/Dyer\", \"Colorado/Eagle\", \"Georgia/Early\", \"Louisiana/East Baton Rouge\", \"Texas/Eastland\", \"Michigan/Eaton\", \"Wisconsin/Eau Claire\", \"South Carolina/Edgefield\", \"Georgia/Effingham\", \"California/El Dorado\", \"Colorado/El Paso\", \"Texas/El Paso\", \"Colorado/Elbert\", \"Indiana/Elkhart\", \"Nevada/Elko County\", \"Texas/Ellis\", \"Alabama/Elmore\", \"Michigan/Emmet\", \"Texas/Erath\", \"New York/Erie\", \"Ohio/Erie\", \"Pennsylvania/Erie\", \"Florida/Escambia\", \"Massachusetts/Essex\", \"New Jersey/Essex\", \"New York/Essex\", \"Louisiana/Evangeline\", \"Alaska/Fairbanks North Star\", \"Virginia/Fairfax\", \"Connecticut/Fairfield\", \"Ohio/Fairfield\", \"South Carolina/Fairfield\", \"Texas/Falls\", \"Texas/Fannin\", \"Arkansas/Faulkner\", \"Georgia/Fayette\", \"Indiana/Fayette\", \"Iowa/Fayette\", \"Kentucky/Fayette\", \"Pennsylvania/Fayette\", \"Tennessee/Fayette\", \"Texas/Fayette\", \"Minnesota/Fillmore\", \"Florida/Flagler\", \"Montana/Flathead\", \"South Carolina/Florence\", \"Georgia/Floyd\", \"Indiana/Floyd\", \"Virginia/Fluvanna\", \"Wisconsin/Fond du Lac\", \"Mississippi/Forrest\", \"Georgia/Forsyth\", \"North Carolina/Forsyth\", \"Texas/Fort Bend\", \"Alabama/Franklin\", \"Indiana/Franklin\", \"Kansas/Franklin\", \"Kentucky/Franklin\", \"Massachusetts/Franklin\", \"Mississippi/Franklin\", \"North Carolina/Franklin\", \"Ohio/Franklin\", \"Pennsylvania/Franklin\", \"Tennessee/Franklin\", \"Vermont/Franklin\", \"Virginia/Franklin\", \"Washington/Franklin\", \"Maryland/Frederick\", \"Wyoming/Fremont\", \"California/Fresno\", \"Georgia/Fulton\", \"New York/Fulton\", \"Florida/Gadsden\", \"Nebraska/Gage\", \"Texas/Gaines\", \"Montana/Gallatin\", \"Ohio/Gallia\", \"Texas/Galveston\", \"Colorado/Garfield\", \"Arkansas/Garland\", \"Maryland/Garrett\", \"Oklahoma/Garvin\", \"North Carolina/Gaston\", \"Ohio/Geauga\", \"Michigan/Genesee\", \"New York/Genesee\", \"Mississippi/George\", \"South Carolina/Georgetown\", \"Indiana/Gibson\", \"Tennessee/Gibson\", \"Michigan/Gladwin\", \"New Jersey/Gloucester\", \"Virginia/Gloucester\", \"Georgia/Glynn\", \"Virginia/Goochland\", \"Georgia/Gordon\", \"Oklahoma/Grady\", \"New Hampshire/Grafton\", \"Arizona/Graham\", \"Colorado/Grand\", \"Michigan/Grand Traverse\", \"Arkansas/Grant\", \"Indiana/Grant\", \"Louisiana/Grant\", \"Oregon/Grant\", \"Washington/Grant\", \"North Carolina/Granville\", \"Washington/Grays Harbor\", \"Texas/Grayson\", \"Wisconsin/Green\", \"Arkansas/Greene\", \"Georgia/Greene\", \"Indiana/Greene\", \"Missouri/Greene\", \"New York/Greene\", \"Ohio/Greene\", \"Tennessee/Greene\", \"South Carolina/Greenville\", \"South Carolina/Greenwood\", \"Texas/Gregg\", \"Mississippi/Grenada\", \"Texas/Grimes\", \"Illinois/Grundy\", \"Tennessee/Grundy\", \"Texas/Guadalupe\", \"North Carolina/Guilford\", \"Colorado/Gunnison\", \"Georgia/Gwinnett\", \"Virginia/Halifax\", \"Georgia/Hall\", \"Tennessee/Hamblen\", \"Indiana/Hamilton\", \"New York/Hamilton\", \"Ohio/Hamilton\", \"Tennessee/Hamilton\", \"Massachusetts/Hampden\", \"Massachusetts/Hampshire\", \"Indiana/Hancock\", \"Iowa/Hancock\", \"Mississippi/Hancock\", \"Ohio/Hancock\", \"Virginia/Hanover\", \"Kentucky/Hardin\", \"Tennessee/Hardin\", \"Texas/Hardin\", \"Maryland/Harford\", \"North Carolina/Harnett\", \"Georgia/Harris\", \"Texas/Harris\", \"Iowa/Harrison\", \"Kentucky/Harrison\", \"Mississippi/Harrison\", \"West Virginia/Harrison\", \"Virginia/Harrisonburg\", \"Connecticut/Hartford\", \"Hawaii/Hawaii\", \"Texas/Hays\", \"Georgia/Heard\", \"Arkansas/Hempstead\", \"Kentucky/Henderson\", \"North Carolina/Henderson\", \"Indiana/Hendricks\", \"Minnesota/Hennepin\", \"Virginia/Henrico\", \"Georgia/Henry\", \"Iowa/Henry\", \"Missouri/Henry\", \"New York/Herkimer\", \"Florida/Hernando\", \"North Carolina/Hertford\", \"Texas/Hidalgo\", \"Ohio/Highland\", \"Florida/Highlands\", \"Florida/Hillsborough\", \"New Hampshire/Hillsborough\", \"Michigan/Hillsdale\", \"Mississippi/Hinds\", \"Colorado/Hinsdale\", \"Texas/Hockley\", \"North Carolina/Hoke\", \"Mississippi/Holmes\", \"Hawaii/Honolulu\", \"Oregon/Hood River\", \"Texas/Hopkins\", \"South Carolina/Horry\", \"Alabama/Houston\", \"Georgia/Houston\", \"Tennessee/Houston\", \"Indiana/Howard\", \"Maryland/Howard\", \"New Jersey/Hudson\", \"South Dakota/Hughes\", \"California/Humboldt\", \"Mississippi/Humphreys\", \"Texas/Hunt\", \"New Jersey/Hunterdon\", \"Ohio/Huron\", \"North Carolina/Hyde\", \"Louisiana/Iberia\", \"Louisiana/Iberville\", \"California/Imperial\", \"Arkansas/Independence\", \"Florida/Indian River\", \"Michigan/Ingham\", \"Wisconsin/Iowa\", \"North Carolina/Iredell\", \"Georgia/Irwin\", \"Michigan/Isabella\", \"Washington/Island\", \"Virginia/Isle of Wight\", \"Mississippi/Itawamba\", \"Alabama/Jackson\", \"Florida/Jackson\", \"Illinois/Jackson\", \"Indiana/Jackson\", \"Kansas/Jackson\", \"Michigan/Jackson\", \"Minnesota/Jackson\", \"Mississippi/Jackson\", \"Missouri/Jackson\", \"North Carolina/Jackson\", \"Oklahoma/Jackson\", \"Oregon/Jackson\", \"West Virginia/Jackson\", \"Virginia/James City\", \"Georgia/Jasper\", \"Iowa/Jasper\", \"Missouri/Jasper\", \"South Carolina/Jasper\", \"Alabama/Jefferson\", \"Arkansas/Jefferson\", \"Colorado/Jefferson\", \"Idaho/Jefferson\", \"Kentucky/Jefferson\", \"Louisiana/Jefferson\", \"Missouri/Jefferson\", \"New York/Jefferson\", \"Tennessee/Jefferson\", \"Texas/Jefferson\", \"Washington/Jefferson\", \"West Virginia/Jefferson\", \"Wisconsin/Jefferson\", \"Indiana/Jennings\", \"Kentucky/Jessamine\", \"Illinois/Jo Daviess\", \"Indiana/Johnson\", \"Iowa/Johnson\", \"Kansas/Johnson\", \"Missouri/Johnson\", \"Texas/Johnson\", \"North Carolina/Johnston\", \"Mississippi/Jones\", \"Oregon/Josephine\", \"Alaska/Juneau\", \"Pennsylvania/Juniata\", \"Michigan/Kalamazoo\", \"Michigan/Kalkaska\", \"West Virginia/Kanawha\", \"Illinois/Kane\", \"Illinois/Kankakee\", \"Missouri/Kansas City\", \"Hawaii/Kauai\", \"Oklahoma/Kay\", \"Alaska/Kenai Peninsula\", \"Illinois/Kendall\", \"Texas/Kendall\", \"Maine/Kennebec\", \"Wisconsin/Kenosha\", \"Delaware/Kent\", \"Michigan/Kent\", \"Rhode Island/Kent\", \"Kentucky/Kenton\", \"California/Kern\", \"South Carolina/Kershaw\", \"Alaska/Ketchikan Gateway\", \"Washington/King\", \"Washington/Kitsap\", \"Washington/Kittitas\", \"Oregon/Klamath\", \"Washington/Klickitat\", \"Maine/Knox\", \"Nebraska/Knox\", \"Ohio/Knox\", \"Tennessee/Knox\", \"Idaho/Kootenai\", \"Iowa/Kossuth\", \"Wisconsin/La Crosse\", \"Indiana/LaPorte\", \"Illinois/LaSalle\", \"Pennsylvania/Lackawanna\", \"Louisiana/Lafayette\", \"Mississippi/Lafayette\", \"Missouri/Lafayette\", \"Louisiana/Lafourche\", \"Florida/Lake\", \"Illinois/Lake\", \"Indiana/Lake\", \"Ohio/Lake\", \"Alabama/Lamar\", \"Georgia/Lamar\", \"Mississippi/Lamar\", \"Texas/Lamar\", \"Vermont/Lamoille\", \"Nebraska/Lancaster\", \"Pennsylvania/Lancaster\", \"South Carolina/Lancaster\", \"Oregon/Lane\", \"Michigan/Lapeer\", \"Wyoming/Laramie\", \"Colorado/Larimer\", \"Alabama/Lauderdale\", \"Kentucky/Laurel\", \"Georgia/Laurens\", \"Texas/Lavaca\", \"Arkansas/Lawrence\", \"Indiana/Lawrence\", \"Mississippi/Lawrence\", \"Minnesota/Le Sueur\", \"New Mexico/Lea\", \"Mississippi/Leake\", \"Kansas/Leavenworth\", \"Pennsylvania/Lebanon\", \"Alabama/Lee\", \"Florida/Lee\", \"Georgia/Lee\", \"Mississippi/Lee\", \"North Carolina/Lee\", \"South Carolina/Lee\", \"Virginia/Lee\", \"Michigan/Leelanau\", \"Mississippi/Leflore\", \"Pennsylvania/Lehigh\", \"North Carolina/Lenoir\", \"Florida/Leon\", \"Washington/Lewis\", \"Montana/Lewis and Clark\", \"South Carolina/Lexington\", \"Georgia/Liberty\", \"Texas/Liberty\", \"Ohio/Licking\", \"Alabama/Limestone\", \"Arkansas/Lincoln\", \"Georgia/Lincoln\", \"Louisiana/Lincoln\", \"Maine/Lincoln\", \"Mississippi/Lincoln\", \"Nebraska/Lincoln\", \"North Carolina/Lincoln\", \"Tennessee/Lincoln\", \"Washington/Lincoln\", \"Iowa/Linn\", \"Kansas/Linn\", \"Oregon/Linn\", \"Connecticut/Litchfield\", \"Illinois/Livingston\", \"Louisiana/Livingston\", \"Michigan/Livingston\", \"New York/Livingston\", \"Texas/Llano\", \"Colorado/Logan\", \"Kentucky/Logan\", \"Ohio/Logan\", \"Oklahoma/Logan\", \"Ohio/Lorain\", \"California/Los Angeles\", \"Tennessee/Loudon\", \"Virginia/Loudoun\", \"Virginia/Louisa\", \"Georgia/Lowndes\", \"Mississippi/Lowndes\", \"Texas/Lubbock\", \"Ohio/Lucas\", \"Georgia/Lumpkin\", \"Pennsylvania/Luzerne\", \"South Dakota/Lyman\", \"Kansas/Lyon\", \"Kentucky/Lyon\", \"Michigan/Macomb\", \"Georgia/Macon\", \"California/Madera\", \"Alabama/Madison\", \"Georgia/Madison\", \"Idaho/Madison\", \"Illinois/Madison\", \"Indiana/Madison\", \"Kentucky/Madison\", \"Mississippi/Madison\", \"Montana/Madison\", \"Nebraska/Madison\", \"New York/Madison\", \"Ohio/Madison\", \"Tennessee/Madison\", \"Virginia/Madison\", \"Ohio/Mahoning\", \"Florida/Manatee\", \"Michigan/Manistee\", \"Wisconsin/Marathon\", \"Arizona/Maricopa\", \"California/Marin\", \"Alabama/Marion\", \"Florida/Marion\", \"Indiana/Marion\", \"Mississippi/Marion\", \"Ohio/Marion\", \"Oregon/Marion\", \"Tennessee/Marion\", \"South Carolina/Marlboro\", \"Michigan/Marquette\", \"Mississippi/Marshall\", \"West Virginia/Marshall\", \"Florida/Martin\", \"Kentucky/Martin\", \"Minnesota/Martin\", \"Washington/Mason\", \"Texas/Matagorda\", \"Hawaii/Maui\", \"Tennessee/Maury\", \"Texas/Maverick\", \"Oklahoma/Mayes\", \"Oklahoma/McClain\", \"South Dakota/McCook\", \"Kentucky/McCracken\", \"North Carolina/McDowell\", \"Illinois/McHenry\", \"New Mexico/McKinley\", \"Illinois/McLean\", \"Texas/McLennan\", \"Tennessee/McMinn\", \"North Carolina/Mecklenburg\", \"Virginia/Mecklenburg\", \"Ohio/Medina\", \"Texas/Medina\", \"California/Mendocino\", \"Kentucky/Menifee\", \"California/Merced\", \"New Jersey/Mercer\", \"Pennsylvania/Mercer\", \"West Virginia/Mercer\", \"Georgia/Meriwether\", \"New Hampshire/Merrimack\", \"Colorado/Mesa\", \"Indiana/Miami\", \"Ohio/Miami\", \"Florida/Miami-Dade\", \"Connecticut/Middlesex\", \"Massachusetts/Middlesex\", \"New Jersey/Middlesex\", \"Michigan/Midland\", \"Texas/Midland\", \"Texas/Milam\", \"Georgia/Miller\", \"Wisconsin/Milwaukee\", \"South Dakota/Minnehaha\", \"Montana/Missoula\", \"Georgia/Mitchell\", \"Kansas/Mitchell\", \"Alabama/Mobile\", \"Missouri/Moniteau\", \"New Jersey/Monmouth\", \"California/Mono\", \"West Virginia/Monongalia\", \"Florida/Monroe\", \"Georgia/Monroe\", \"Illinois/Monroe\", \"Indiana/Monroe\", \"Michigan/Monroe\", \"Mississippi/Monroe\", \"New York/Monroe\", \"Pennsylvania/Monroe\", \"Tennessee/Monroe\", \"Michigan/Montcalm\", \"California/Monterey\", \"Alabama/Montgomery\", \"Indiana/Montgomery\", \"Kentucky/Montgomery\", \"Maryland/Montgomery\", \"Mississippi/Montgomery\", \"New York/Montgomery\", \"North Carolina/Montgomery\", \"Ohio/Montgomery\", \"Pennsylvania/Montgomery\", \"Tennessee/Montgomery\", \"Texas/Montgomery\", \"Pennsylvania/Montour\", \"Colorado/Montrose\", \"North Carolina/Moore\", \"Alabama/Morgan\", \"Colorado/Morgan\", \"Georgia/Morgan\", \"Indiana/Morgan\", \"Kansas/Morris\", \"New Jersey/Morris\", \"North Dakota/Morton\", \"Minnesota/Mower\", \"Kentucky/Muhlenberg\", \"Oregon/Multnomah\", \"Iowa/Muscatine\", \"Georgia/Muscogee\", \"Michigan/Muskegon\", \"Oklahoma/Muskogee\", \"California/Napa\", \"North Carolina/Nash\", \"Florida/Nassau\", \"New York/Nassau\", \"Louisiana/Natchitoches\", \"Wyoming/Natrona\", \"Arizona/Navajo\", \"Kentucky/Nelson\", \"Virginia/Nelson\", \"Nebraska/Nemaha\", \"California/Nevada\", \"Delaware/New Castle\", \"North Carolina/New Hanover\", \"Connecticut/New Haven\", \"Connecticut/New London\", \"New York/New York City\", \"Michigan/Newaygo\", \"South Carolina/Newberry\", \"Rhode Island/Newport\", \"Virginia/Newport News\", \"Georgia/Newton\", \"Mississippi/Newton\", \"New York/Niagara\", \"Minnesota/Nicollet\", \"Indiana/Noble\", \"Oklahoma/Noble\", \"Massachusetts/Norfolk\", \"Virginia/Norfolk\", \"North Carolina/Northampton\", \"Pennsylvania/Northampton\", \"Mississippi/Noxubee\", \"Texas/Nueces\", \"Nevada/Nye\", \"Michigan/Oakland\", \"New Jersey/Ocean\", \"Georgia/Oconee\", \"South Carolina/Oconee\", \"Indiana/Ohio\", \"Florida/Okaloosa\", \"Oklahoma/Oklahoma\", \"Mississippi/Oktibbeha\", \"Kentucky/Oldham\", \"Texas/Oldham\", \"Minnesota/Olmsted\", \"New York/Oneida\", \"New York/Onondaga\", \"North Carolina/Onslow\", \"New York/Ontario\", \"California/Orange\", \"Florida/Orange\", \"New York/Orange\", \"North Carolina/Orange\", \"Texas/Orange\", \"Vermont/Orange\", \"Virginia/Orange\", \"South Carolina/Orangeburg\", \"Louisiana/Orleans\", \"Vermont/Orleans\", \"Florida/Osceola\", \"New York/Oswego\", \"Michigan/Otsego\", \"New York/Otsego\", \"Michigan/Ottawa\", \"Louisiana/Ouachita\", \"Michigan/Out of MI\", \"Tennessee/Out of TN\", \"Utah/Out of UT\", \"Wisconsin/Outagamie\", \"Tennessee/Overton\", \"Indiana/Owen\", \"Maine/Oxford\", \"Wisconsin/Ozaukee\", \"Florida/Palm Beach\", \"Mississippi/Panola\", \"Colorado/Park\", \"Wyoming/Park\", \"Texas/Parker\", \"Florida/Pasco\", \"North Carolina/Pasquotank\", \"New Jersey/Passaic\", \"Georgia/Paulding\", \"Oklahoma/Pawnee\", \"Oklahoma/Payne\", \"Georgia/Peach\", \"Mississippi/Pearl River\", \"Missouri/Pemiscot\", \"South Dakota/Pennington\", \"Maine/Penobscot\", \"Illinois/Peoria\", \"Mississippi/Perry\", \"Missouri/Perry\", \"Tennessee/Perry\", \"Pennsylvania/Philadelphia\", \"Georgia/Pickens\", \"South Carolina/Pickens\", \"Georgia/Pierce\", \"North Dakota/Pierce\", \"Washington/Pierce\", \"Wisconsin/Pierce\", \"Arkansas/Pike\", \"Mississippi/Pike\", \"Pennsylvania/Pike\", \"Arizona/Pima\", \"Arizona/Pinal\", \"Florida/Pinellas\", \"Colorado/Pitkin\", \"North Carolina/Pitt\", \"California/Placer\", \"Louisiana/Plaquemines\", \"Missouri/Platte\", \"Massachusetts/Plymouth\", \"Arkansas/Poinsett\", \"Arkansas/Polk\", \"Florida/Polk\", \"Georgia/Polk\", \"Iowa/Polk\", \"Oregon/Polk\", \"Mississippi/Pontotoc\", \"Oklahoma/Pontotoc\", \"Arkansas/Pope\", \"Ohio/Portage\", \"Indiana/Porter\", \"Kansas/Pottawatomie\", \"Iowa/Pottawattamie\", \"Pennsylvania/Potter\", \"Texas/Potter\", \"Iowa/Poweshiek\", \"Virginia/Prince Edward\", \"Maryland/Prince George's\", \"Virginia/Prince William\", \"Rhode Island/Providence\", \"Colorado/Pueblo\", \"Arkansas/Pulaski\", \"Georgia/Pulaski\", \"Kentucky/Pulaski\", \"Missouri/Pulaski\", \"Florida/Putnam\", \"Indiana/Putnam\", \"New York/Putnam\", \"Tennessee/Putnam\", \"West Virginia/Putnam\", \"Maryland/Queen Anne's\", \"Wisconsin/Racine\", \"Minnesota/Ramsey\", \"North Dakota/Ramsey\", \"Texas/Randall\", \"Georgia/Randolph\", \"Missouri/Randolph\", \"North Carolina/Randolph\", \"Mississippi/Rankin\", \"Louisiana/Rapides\", \"Montana/Ravalli\", \"Kansas/Reno\", \"New York/Rensselaer\", \"Minnesota/Renville\", \"Minnesota/Rice\", \"Louisiana/Richland\", \"Ohio/Richland\", \"South Carolina/Richland\", \"Georgia/Richmond\", \"Virginia/Richmond City\", \"Indiana/Ripley\", \"California/Riverside\", \"Tennessee/Roane\", \"Tennessee/Robertson\", \"Texas/Robertson\", \"North Carolina/Robeson\", \"Wisconsin/Rock\", \"Illinois/Rock Island\", \"Virginia/Rockbridge\", \"Georgia/Rockdale\", \"New Hampshire/Rockingham\", \"Virginia/Rockingham\", \"New York/Rockland\", \"Montana/Roosevelt\", \"Michigan/Roscommon\", \"Colorado/Routt\", \"North Carolina/Rowan\", \"Texas/Rusk\", \"Tennessee/Rutherford\", \"Vermont/Rutland\", \"California/Sacramento\", \"Maine/Sagadahoc\", \"Michigan/Saginaw\", \"New Jersey/Salem\", \"Arkansas/Saline\", \"Utah/Salt Lake\", \"South Carolina/Saluda\", \"North Carolina/Sampson\", \"California/San Benito\", \"California/San Bernardino\", \"California/San Diego\", \"California/San Francisco\", \"California/San Joaquin\", \"New Mexico/San Juan\", \"Washington/San Juan\", \"California/San Luis Obispo\", \"California/San Mateo\", \"Colorado/San Miguel\", \"New Mexico/San Miguel\", \"New Mexico/Sandoval\", \"Ohio/Sandusky\", \"Illinois/Sangamon\", \"California/Santa Barbara\", \"California/Santa Clara\", \"Arizona/Santa Cruz\", \"California/Santa Cruz\", \"New Mexico/Santa Fe\", \"Florida/Santa Rosa\", \"Florida/Sarasota\", \"New York/Saratoga\", \"Nebraska/Sarpy\", \"Wisconsin/Sauk\", \"Nebraska/Saunders\", \"New York/Schenectady\", \"New York/Schoharie\", \"Pennsylvania/Schuylkill\", \"North Carolina/Scotland\", \"Indiana/Scott\", \"Iowa/Scott\", \"Kentucky/Scott\", \"Minnesota/Scott\", \"Mississippi/Scott\", \"Missouri/Scott\", \"Tennessee/Scott\", \"Arkansas/Searcy\", \"Arkansas/Sebastian\", \"Kansas/Sedgwick\", \"Florida/Seminole\", \"Ohio/Seneca\", \"Arkansas/Sevier\", \"Tennessee/Sevier\", \"California/Shasta\", \"Wisconsin/Sheboygan\", \"Alabama/Shelby\", \"Indiana/Shelby\", \"Tennessee/Shelby\", \"Minnesota/Sherburne\", \"Wyoming/Sheridan\", \"Montana/Silver Bow\", \"Kentucky/Simpson\", \"Mississippi/Simpson\", \"Iowa/Sioux\", \"California/Siskiyou\", \"Washington/Skagit\", \"Mississippi/Smith\", \"Texas/Smith\", \"Washington/Snohomish\", \"New Mexico/Socorro\", \"California/Solano\", \"Maryland/Somerset\", \"New Jersey/Somerset\", \"Pennsylvania/Somerset\", \"California/Sonoma\", \"Georgia/Spalding\", \"South Carolina/Spartanburg\", \"Kentucky/Spencer\", \"Washington/Spokane\", \"Virginia/Spotsylvania\", \"Louisiana/St. Bernard\", \"Louisiana/St. Charles\", \"Missouri/St. Charles\", \"Alabama/St. Clair\", \"Illinois/St. Clair\", \"Michigan/St. Clair\", \"Wisconsin/St. Croix\", \"Missouri/St. Francois\", \"Louisiana/St. James\", \"Louisiana/St. John the Baptist\", \"Florida/St. Johns\", \"Indiana/St. Joseph\", \"Louisiana/St. Landry\", \"New York/St. Lawrence\", \"Minnesota/St. Louis\", \"Missouri/St. Louis\", \"Missouri/St. Louis City\", \"Florida/St. Lucie\", \"Louisiana/St. Martin\", \"Louisiana/St. Mary\", \"Maryland/St. Mary's\", \"Louisiana/St. Tammany\", \"Virginia/Stafford\", \"California/Stanislaus\", \"Ohio/Stark\", \"Indiana/Starke\", \"Minnesota/Stearns\", \"Minnesota/Steele\", \"Georgia/Stephens\", \"Illinois/Stephenson\", \"New York/Steuben\", \"Washington/Stevens\", \"Arkansas/Stone\", \"Iowa/Story\", \"New Hampshire/Strafford\", \"Massachusetts/Suffolk\", \"New York/Suffolk\", \"Virginia/Suffolk\", \"New Hampshire/Sullivan\", \"New York/Sullivan\", \"Tennessee/Sullivan\", \"Colorado/Summit\", \"Ohio/Summit\", \"Utah/Summit\", \"Tennessee/Sumner\", \"Florida/Sumter\", \"Georgia/Sumter\", \"South Carolina/Sumter\", \"Mississippi/Sunflower\", \"Delaware/Sussex\", \"New Jersey/Sussex\", \"Maryland/Talbot\", \"Alabama/Talladega\", \"Mississippi/Tallahatchie\", \"Alabama/Tallapoosa\", \"Iowa/Tama\", \"Missouri/Taney\", \"Louisiana/Tangipahoa\", \"New Mexico/Taos\", \"Texas/Tarrant\", \"Mississippi/Tate\", \"Georgia/Tattnall\", \"Colorado/Teller\", \"Louisiana/Terrebonne\", \"Georgia/Terrell\", \"Texas/Terry\", \"Idaho/Teton\", \"Wyoming/Teton\", \"Washington/Thurston\", \"Georgia/Tift\", \"New York/Tioga\", \"Mississippi/Tippah\", \"Indiana/Tippecanoe\", \"Indiana/Tipton\", \"Tennessee/Tipton\", \"Connecticut/Tolland\", \"Texas/Tom Green\", \"New York/Tompkins\", \"Utah/Tooele\", \"North Carolina/Transylvania\", \"Texas/Travis\", \"Georgia/Troup\", \"Ohio/Trumbull\", \"West Virginia/Tucker\", \"California/Tulare\", \"Oklahoma/Tulsa\", \"Mississippi/Tunica\", \"Georgia/Turner\", \"Alabama/Tuscaloosa\", \"Ohio/Tuscarawas\", \"Michigan/Tuscola\", \"Georgia/Twiggs\", \"Idaho/Twin Falls\", \"New York/Ulster\", \"Oregon/Umatilla\", \"Arkansas/Unassigned\", \"Colorado/Unassigned\", \"Georgia/Unassigned\", \"Hawaii/Unassigned\", \"Iowa/Unassigned\", \"Kentucky/Unassigned\", \"Louisiana/Unassigned\", \"Massachusetts/Unassigned\", \"Missouri/Unassigned\", \"Montana/Unassigned\", \"Nevada/Unassigned\", \"New Jersey/Unassigned\", \"Rhode Island/Unassigned\", \"Tennessee/Unassigned\", \"Washington/Unassigned\", \"Arkansas/Union\", \"Mississippi/Union\", \"New Jersey/Union\", \"North Carolina/Union\", \"Ohio/Union\", \"Oregon/Union\", \"Utah/Utah\", \"Idaho/Valley\", \"Arkansas/Van Buren\", \"Texas/Van Zandt\", \"North Carolina/Vance\", \"Indiana/Vanderburgh\", \"California/Ventura\", \"Louisiana/Vernon\", \"Texas/Victoria\", \"Indiana/Vigo\", \"Virginia/Virginia Beach\", \"Florida/Volusia\", \"Minnesota/Wabasha\", \"North Carolina/Wake\", \"Maine/Waldo\", \"Alabama/Walker\", \"Texas/Walker\", \"Washington/Walla Walla\", \"Texas/Waller\", \"North Dakota/Walsh\", \"Mississippi/Walthall\", \"Florida/Walton\", \"Georgia/Walton\", \"Wisconsin/Walworth\", \"Iowa/Wapello\", \"North Dakota/Ward\", \"Iowa/Warren\", \"Kentucky/Warren\", \"New Jersey/Warren\", \"New York/Warren\", \"Ohio/Warren\", \"Indiana/Warrick\", \"Utah/Wasatch\", \"Minnesota/Waseca\", \"Alabama/Washington\", \"Arkansas/Washington\", \"Georgia/Washington\", \"Illinois/Washington\", \"Indiana/Washington\", \"Iowa/Washington\", \"Louisiana/Washington\", \"Maryland/Washington\", \"Minnesota/Washington\", \"Mississippi/Washington\", \"Nebraska/Washington\", \"New York/Washington\", \"Ohio/Washington\", \"Oklahoma/Washington\", \"Oregon/Washington\", \"Pennsylvania/Washington\", \"Rhode Island/Washington\", \"Tennessee/Washington\", \"Utah/Washington\", \"Vermont/Washington\", \"Wisconsin/Washington\", \"Nevada/Washoe\", \"Michigan/Washtenaw\", \"North Carolina/Watauga\", \"Wisconsin/Waukesha\", \"Michigan/Wayne\", \"New York/Wayne\", \"North Carolina/Wayne\", \"Pennsylvania/Wayne\", \"Texas/Webb\", \"Utah/Weber\", \"Kentucky/Webster\", \"Louisiana/Webster\", \"Mississippi/Webster\", \"Colorado/Weld\", \"Indiana/Wells\", \"Louisiana/West Baton Rouge\", \"New York/Westchester\", \"Pennsylvania/Westmoreland\", \"Michigan/Wexford\", \"Texas/Wharton\", \"Washington/Whatcom\", \"Arkansas/White\", \"Illinois/Whiteside\", \"Georgia/Whitfield\", \"Washington/Whitman\", \"Texas/Wichita\", \"Maryland/Wicomico\", \"Mississippi/Wilkinson\", \"Illinois/Will\", \"Virginia/Williamsburg\", \"Tennessee/Williamson\", \"Texas/Williamson\", \"North Carolina/Wilson\", \"Tennessee/Wilson\", \"Connecticut/Windham\", \"Vermont/Windham\", \"Vermont/Windsor\", \"Illinois/Winnebago\", \"Wisconsin/Winnebago\", \"Iowa/Winneshiek\", \"Mississippi/Winston\", \"Ohio/Wood\", \"Wisconsin/Wood\", \"Iowa/Woodbury\", \"Illinois/Woodford\", \"Arkansas/Woodruff\", \"Kansas/Woodson\", \"Maryland/Worcester\", \"Massachusetts/Worcester\", \"Georgia/Worth\", \"Minnesota/Wright\", \"Kansas/Wyandotte\", \"New York/Wyoming\", \"Washington/Yakima\", \"Oregon/Yamhill\", \"Arizona/Yavapai\", \"Mississippi/Yazoo\", \"Montana/Yellowstone\", \"California/Yolo\", \"Maine/York\", \"Pennsylvania/York\", \"South Carolina/York\", \"Virginia/York\", \"California/Yuba\", \"Arizona/Yuma\", \"Colorado/Yuma\", \"Alabama\", \"Alaska\", \"Arizona\", \"Arkansas\", \"California\", \"Colorado\", \"Connecticut\", \"Delaware\", \"District of Columbia\", \"Florida\", \"Georgia\", \"Hawaii\", \"Idaho\", \"Illinois\", \"Indiana\", \"Iowa\", \"Kansas\", \"Kentucky\", \"Louisiana\", \"Maine\", \"Maryland\", \"Massachusetts\", \"Michigan\", \"Minnesota\", \"Mississippi\", \"Missouri\", \"Montana\", \"Nebraska\", \"Nevada\", \"New Hampshire\", \"New Jersey\", \"New Mexico\", \"New York\", \"North Carolina\", \"North Dakota\", \"Ohio\", \"Oklahoma\", \"Oregon\", \"Pennsylvania\", \"Rhode Island\", \"South Carolina\", \"South Dakota\", \"Tennessee\", \"Texas\", \"Utah\", \"Vermont\", \"Virginia\", \"Washington\", \"West Virginia\", \"Wisconsin\", \"Wyoming\"], \"labels\": [\"Abbeville\", \"Acadia\", \"Accomack\", \"Ada\", \"Adair\", \"Adair\", \"Adams\", \"Adams\", \"Adams\", \"Adams\", \"Adams\", \"Adams\", \"Adams\", \"Addison\", \"Aiken\", \"Alachua\", \"Alamance\", \"Alameda\", \"Albany\", \"Albemarle\", \"Alexandria\", \"Allamakee\", \"Allegan\", \"Allegany\", \"Allegheny\", \"Allen\", \"Allen\", \"Amador\", \"Amherst\", \"Anchorage\", \"Anderson\", \"Anderson\", \"Anderson\", \"Androscoggin\", \"Anne Arundel\", \"Anoka\", \"Apache\", \"Arapahoe\", \"Arlington\", \"Armstrong\", \"Ascension\", \"Ashland\", \"Ashtabula\", \"Assumption\", \"Atascosa\", \"Atlantic\", \"Attala\", \"Autauga\", \"Avoyelles\", \"Baker\", \"Baker\", \"Baldwin\", \"Baldwin\", \"Baltimore\", \"Baltimore City\", \"Bannock\", \"Barnstable\", \"Barrow\", \"Barry\", \"Bartholomew\", \"Bartow\", \"Bastrop\", \"Bates\", \"Bay\", \"Bay\", \"Bayfield\", \"Beadle\", \"Beaufort\", \"Beaufort\", \"Beauregard\", \"Beaver\", \"Bedford\", \"Belknap\", \"Bell\", \"Belmont\", \"Ben Hill\", \"Bennington\", \"Benton\", \"Benton\", \"Benton\", \"Benton\", \"Bergen\", \"Berkeley\", \"Berks\", \"Berkshire\", \"Bernalillo\", \"Berrien\", \"Bertie\", \"Bexar\", \"Bibb\", \"Bienville\", \"Big Stone\", \"Bingham\", \"Black Hawk\", \"Blaine\", \"Blanco\", \"Blount\", \"Blue Earth\", \"Bolivar\", \"Bon Homme\", \"Boone\", \"Boone\", \"Boone\", \"Boone\", \"Bossier\", \"Botetourt\", \"Boulder\", \"Bourbon\", \"Bourbon\", \"Bowie\", \"Box Elder\", \"Bradford\", \"Bradford\", \"Bradley\", \"Bradley\", \"Brazoria\", \"Brazos\", \"Breathitt\", \"Brevard\", \"Bristol\", \"Bristol\", \"Broadwater\", \"Brookings\", \"Broome\", \"Broomfield\", \"Broward\", \"Brown\", \"Brown\", \"Brown\", \"Brown\", \"Brunswick\", \"Bryan\", \"Buchanan\", \"Bucks\", \"Buffalo\", \"Buncombe\", \"Burke\", \"Burleigh\", \"Burlington\", \"Burnet\", \"Butler\", \"Butler\", \"Butler\", \"Butte\", \"Butts\", \"Cabarrus\", \"Cache\", \"Caddo\", \"Calaveras\", \"Calcasieu\", \"Caldwell\", \"Caledonia\", \"Calhoun\", \"Calhoun\", \"Calhoun\", \"Callaway\", \"Calloway\", \"Calumet\", \"Calvert\", \"Cambria\", \"Camden\", \"Camden\", \"Camden\", \"Cameron\", \"Campbell\", \"Campbell\", \"Campbell\", \"Canadian\", \"Canyon\", \"Cape May\", \"Carbon\", \"Carbon\", \"Caroline\", \"Carroll\", \"Carroll\", \"Carroll\", \"Carroll\", \"Carroll\", \"Carroll\", \"Carson City\", \"Carteret\", \"Carver\", \"Cascade\", \"Cass\", \"Cass\", \"Cass\", \"Cass\", \"Cassia\", \"Castro\", \"Catahoula\", \"Catawba\", \"Catoosa\", \"Cayuga\", \"Cecil\", \"Cedar\", \"Centre\", \"Cerro Gordo\", \"Chaffee\", \"Chambers\", \"Chambers\", \"Champaign\", \"Champaign\", \"Charles\", \"Charles City\", \"Charles Mix\", \"Charleston\", \"Charlevoix\", \"Charlotte\", \"Charlottesville\", \"Charlton\", \"Chatham\", \"Chatham\", \"Chattooga\", \"Chautauqua\", \"Chaves\", \"Cheatham\", \"Chelan\", \"Chemung\", \"Chenango\", \"Cherokee\", \"Cherokee\", \"Cherokee\", \"Chesapeake\", \"Cheshire\", \"Chester\", \"Chester\", \"Chester\", \"Chesterfield\", \"Chesterfield\", \"Chickasaw\", \"Chippewa\", \"Chippewa\", \"Chisago\", \"Chittenden\", \"Choctaw\", \"Chowan\", \"Christian\", \"Christian\", \"Christian\", \"Cibola\", \"Citrus\", \"Clackamas\", \"Claiborne\", \"Claiborne\", \"Clallam\", \"Clare\", \"Clarendon\", \"Clark\", \"Clark\", \"Clark\", \"Clark\", \"Clark\", \"Clark\", \"Clarke\", \"Clatsop\", \"Clay\", \"Clay\", \"Clay\", \"Clay\", \"Clayton\", \"Clear Creek\", \"Clearfield\", \"Cleburne\", \"Clermont\", \"Cleveland\", \"Cleveland\", \"Clinch\", \"Clinton\", \"Clinton\", \"Clinton\", \"Clinton\", \"Clinton\", \"Coahoma\", \"Cobb\", \"Cochise\", \"Cocke\", \"Coconino\", \"Codington\", \"Coffee\", \"Cole\", \"Colleton\", \"Collier\", \"Collin\", \"Colquitt\", \"Columbia\", \"Columbia\", \"Columbia\", \"Columbia\", \"Columbia\", \"Columbia\", \"Columbia\", \"Columbiana\", \"Comal\", \"Contra Costa\", \"Conway\", \"Cook\", \"Copiah\", \"Cortland\", \"Coshocton\", \"Coweta\", \"Cowlitz\", \"Craighead\", \"Crane\", \"Craven\", \"Crawford\", \"Crawford\", \"Crawford\", \"Crisp\", \"Crittenden\", \"Cross\", \"Crowley\", \"Cullman\", \"Culpeper\", \"Cumberland\", \"Cumberland\", \"Cumberland\", \"Cumberland\", \"Cumberland\", \"Cumberland\", \"Curry\", \"Custer\", \"Cuyahoga\", \"Dakota\", \"Dallas\", \"Dallas\", \"Dane\", \"Danville\", \"Darke\", \"Darlington\", \"Dauphin\", \"Davidson\", \"Davidson\", \"Davie\", \"Daviess\", \"Davis\", \"Davison\", \"Dawson\", \"De Soto\", \"DeKalb\", \"DeKalb\", \"DeSoto\", \"DeSoto\", \"DeWitt\", \"Deaf Smith\", \"Dearborn\", \"Decatur\", \"Defiance\", \"Delaware\", \"Delaware\", \"Delaware\", \"Delaware\", \"Denton\", \"Denver\", \"Deschutes\", \"Desha\", \"Dickson\", \"Dillon\", \"District of Columbia\", \"Dodge\", \"Dodge\", \"Dona Ana\", \"Doniphan\", \"Dorchester\", \"Dougherty\", \"Douglas\", \"Douglas\", \"Douglas\", \"Douglas\", \"Douglas\", \"Douglas\", \"Douglas\", \"Douglas\", \"DuPage\", \"Dubois\", \"Dubuque\", \"Dukes and Nantucket\", \"Dunklin\", \"Dunn\", \"Dunn\", \"Duplin\", \"Durham\", \"Dutchess\", \"Duval\", \"Dyer\", \"Eagle\", \"Early\", \"East Baton Rouge\", \"Eastland\", \"Eaton\", \"Eau Claire\", \"Edgefield\", \"Effingham\", \"El Dorado\", \"El Paso\", \"El Paso\", \"Elbert\", \"Elkhart\", \"Elko County\", \"Ellis\", \"Elmore\", \"Emmet\", \"Erath\", \"Erie\", \"Erie\", \"Erie\", \"Escambia\", \"Essex\", \"Essex\", \"Essex\", \"Evangeline\", \"Fairbanks North Star\", \"Fairfax\", \"Fairfield\", \"Fairfield\", \"Fairfield\", \"Falls\", \"Fannin\", \"Faulkner\", \"Fayette\", \"Fayette\", \"Fayette\", \"Fayette\", \"Fayette\", \"Fayette\", \"Fayette\", \"Fillmore\", \"Flagler\", \"Flathead\", \"Florence\", \"Floyd\", \"Floyd\", \"Fluvanna\", \"Fond du Lac\", \"Forrest\", \"Forsyth\", \"Forsyth\", \"Fort Bend\", \"Franklin\", \"Franklin\", \"Franklin\", \"Franklin\", \"Franklin\", \"Franklin\", \"Franklin\", \"Franklin\", \"Franklin\", \"Franklin\", \"Franklin\", \"Franklin\", \"Franklin\", \"Frederick\", \"Fremont\", \"Fresno\", \"Fulton\", \"Fulton\", \"Gadsden\", \"Gage\", \"Gaines\", \"Gallatin\", \"Gallia\", \"Galveston\", \"Garfield\", \"Garland\", \"Garrett\", \"Garvin\", \"Gaston\", \"Geauga\", \"Genesee\", \"Genesee\", \"George\", \"Georgetown\", \"Gibson\", \"Gibson\", \"Gladwin\", \"Gloucester\", \"Gloucester\", \"Glynn\", \"Goochland\", \"Gordon\", \"Grady\", \"Grafton\", \"Graham\", \"Grand\", \"Grand Traverse\", \"Grant\", \"Grant\", \"Grant\", \"Grant\", \"Grant\", \"Granville\", \"Grays Harbor\", \"Grayson\", \"Green\", \"Greene\", \"Greene\", \"Greene\", \"Greene\", \"Greene\", \"Greene\", \"Greene\", \"Greenville\", \"Greenwood\", \"Gregg\", \"Grenada\", \"Grimes\", \"Grundy\", \"Grundy\", \"Guadalupe\", \"Guilford\", \"Gunnison\", \"Gwinnett\", \"Halifax\", \"Hall\", \"Hamblen\", \"Hamilton\", \"Hamilton\", \"Hamilton\", \"Hamilton\", \"Hampden\", \"Hampshire\", \"Hancock\", \"Hancock\", \"Hancock\", \"Hancock\", \"Hanover\", \"Hardin\", \"Hardin\", \"Hardin\", \"Harford\", \"Harnett\", \"Harris\", \"Harris\", \"Harrison\", \"Harrison\", \"Harrison\", \"Harrison\", \"Harrisonburg\", \"Hartford\", \"Hawaii\", \"Hays\", \"Heard\", \"Hempstead\", \"Henderson\", \"Henderson\", \"Hendricks\", \"Hennepin\", \"Henrico\", \"Henry\", \"Henry\", \"Henry\", \"Herkimer\", \"Hernando\", \"Hertford\", \"Hidalgo\", \"Highland\", \"Highlands\", \"Hillsborough\", \"Hillsborough\", \"Hillsdale\", \"Hinds\", \"Hinsdale\", \"Hockley\", \"Hoke\", \"Holmes\", \"Honolulu\", \"Hood River\", \"Hopkins\", \"Horry\", \"Houston\", \"Houston\", \"Houston\", \"Howard\", \"Howard\", \"Hudson\", \"Hughes\", \"Humboldt\", \"Humphreys\", \"Hunt\", \"Hunterdon\", \"Huron\", \"Hyde\", \"Iberia\", \"Iberville\", \"Imperial\", \"Independence\", \"Indian River\", \"Ingham\", \"Iowa\", \"Iredell\", \"Irwin\", \"Isabella\", \"Island\", \"Isle of Wight\", \"Itawamba\", \"Jackson\", \"Jackson\", \"Jackson\", \"Jackson\", \"Jackson\", \"Jackson\", \"Jackson\", \"Jackson\", \"Jackson\", \"Jackson\", \"Jackson\", \"Jackson\", \"Jackson\", \"James City\", \"Jasper\", \"Jasper\", \"Jasper\", \"Jasper\", \"Jefferson\", \"Jefferson\", \"Jefferson\", \"Jefferson\", \"Jefferson\", \"Jefferson\", \"Jefferson\", \"Jefferson\", \"Jefferson\", \"Jefferson\", \"Jefferson\", \"Jefferson\", \"Jefferson\", \"Jennings\", \"Jessamine\", \"Jo Daviess\", \"Johnson\", \"Johnson\", \"Johnson\", \"Johnson\", \"Johnson\", \"Johnston\", \"Jones\", \"Josephine\", \"Juneau\", \"Juniata\", \"Kalamazoo\", \"Kalkaska\", \"Kanawha\", \"Kane\", \"Kankakee\", \"Kansas City\", \"Kauai\", \"Kay\", \"Kenai Peninsula\", \"Kendall\", \"Kendall\", \"Kennebec\", \"Kenosha\", \"Kent\", \"Kent\", \"Kent\", \"Kenton\", \"Kern\", \"Kershaw\", \"Ketchikan Gateway\", \"King\", \"Kitsap\", \"Kittitas\", \"Klamath\", \"Klickitat\", \"Knox\", \"Knox\", \"Knox\", \"Knox\", \"Kootenai\", \"Kossuth\", \"La Crosse\", \"LaPorte\", \"LaSalle\", \"Lackawanna\", \"Lafayette\", \"Lafayette\", \"Lafayette\", \"Lafourche\", \"Lake\", \"Lake\", \"Lake\", \"Lake\", \"Lamar\", \"Lamar\", \"Lamar\", \"Lamar\", \"Lamoille\", \"Lancaster\", \"Lancaster\", \"Lancaster\", \"Lane\", \"Lapeer\", \"Laramie\", \"Larimer\", \"Lauderdale\", \"Laurel\", \"Laurens\", \"Lavaca\", \"Lawrence\", \"Lawrence\", \"Lawrence\", \"Le Sueur\", \"Lea\", \"Leake\", \"Leavenworth\", \"Lebanon\", \"Lee\", \"Lee\", \"Lee\", \"Lee\", \"Lee\", \"Lee\", \"Lee\", \"Leelanau\", \"Leflore\", \"Lehigh\", \"Lenoir\", \"Leon\", \"Lewis\", \"Lewis and Clark\", \"Lexington\", \"Liberty\", \"Liberty\", \"Licking\", \"Limestone\", \"Lincoln\", \"Lincoln\", \"Lincoln\", \"Lincoln\", \"Lincoln\", \"Lincoln\", \"Lincoln\", \"Lincoln\", \"Lincoln\", \"Linn\", \"Linn\", \"Linn\", \"Litchfield\", \"Livingston\", \"Livingston\", \"Livingston\", \"Livingston\", \"Llano\", \"Logan\", \"Logan\", \"Logan\", \"Logan\", \"Lorain\", \"Los Angeles\", \"Loudon\", \"Loudoun\", \"Louisa\", \"Lowndes\", \"Lowndes\", \"Lubbock\", \"Lucas\", \"Lumpkin\", \"Luzerne\", \"Lyman\", \"Lyon\", \"Lyon\", \"Macomb\", \"Macon\", \"Madera\", \"Madison\", \"Madison\", \"Madison\", \"Madison\", \"Madison\", \"Madison\", \"Madison\", \"Madison\", \"Madison\", \"Madison\", \"Madison\", \"Madison\", \"Madison\", \"Mahoning\", \"Manatee\", \"Manistee\", \"Marathon\", \"Maricopa\", \"Marin\", \"Marion\", \"Marion\", \"Marion\", \"Marion\", \"Marion\", \"Marion\", \"Marion\", \"Marlboro\", \"Marquette\", \"Marshall\", \"Marshall\", \"Martin\", \"Martin\", \"Martin\", \"Mason\", \"Matagorda\", \"Maui\", \"Maury\", \"Maverick\", \"Mayes\", \"McClain\", \"McCook\", \"McCracken\", \"McDowell\", \"McHenry\", \"McKinley\", \"McLean\", \"McLennan\", \"McMinn\", \"Mecklenburg\", \"Mecklenburg\", \"Medina\", \"Medina\", \"Mendocino\", \"Menifee\", \"Merced\", \"Mercer\", \"Mercer\", \"Mercer\", \"Meriwether\", \"Merrimack\", \"Mesa\", \"Miami\", \"Miami\", \"Miami-Dade\", \"Middlesex\", \"Middlesex\", \"Middlesex\", \"Midland\", \"Midland\", \"Milam\", \"Miller\", \"Milwaukee\", \"Minnehaha\", \"Missoula\", \"Mitchell\", \"Mitchell\", \"Mobile\", \"Moniteau\", \"Monmouth\", \"Mono\", \"Monongalia\", \"Monroe\", \"Monroe\", \"Monroe\", \"Monroe\", \"Monroe\", \"Monroe\", \"Monroe\", \"Monroe\", \"Monroe\", \"Montcalm\", \"Monterey\", \"Montgomery\", \"Montgomery\", \"Montgomery\", \"Montgomery\", \"Montgomery\", \"Montgomery\", \"Montgomery\", \"Montgomery\", \"Montgomery\", \"Montgomery\", \"Montgomery\", \"Montour\", \"Montrose\", \"Moore\", \"Morgan\", \"Morgan\", \"Morgan\", \"Morgan\", \"Morris\", \"Morris\", \"Morton\", \"Mower\", \"Muhlenberg\", \"Multnomah\", \"Muscatine\", \"Muscogee\", \"Muskegon\", \"Muskogee\", \"Napa\", \"Nash\", \"Nassau\", \"Nassau\", \"Natchitoches\", \"Natrona\", \"Navajo\", \"Nelson\", \"Nelson\", \"Nemaha\", \"Nevada\", \"New Castle\", \"New Hanover\", \"New Haven\", \"New London\", \"New York City\", \"Newaygo\", \"Newberry\", \"Newport\", \"Newport News\", \"Newton\", \"Newton\", \"Niagara\", \"Nicollet\", \"Noble\", \"Noble\", \"Norfolk\", \"Norfolk\", \"Northampton\", \"Northampton\", \"Noxubee\", \"Nueces\", \"Nye\", \"Oakland\", \"Ocean\", \"Oconee\", \"Oconee\", \"Ohio\", \"Okaloosa\", \"Oklahoma\", \"Oktibbeha\", \"Oldham\", \"Oldham\", \"Olmsted\", \"Oneida\", \"Onondaga\", \"Onslow\", \"Ontario\", \"Orange\", \"Orange\", \"Orange\", \"Orange\", \"Orange\", \"Orange\", \"Orange\", \"Orangeburg\", \"Orleans\", \"Orleans\", \"Osceola\", \"Oswego\", \"Otsego\", \"Otsego\", \"Ottawa\", \"Ouachita\", \"Out of MI\", \"Out of TN\", \"Out of UT\", \"Outagamie\", \"Overton\", \"Owen\", \"Oxford\", \"Ozaukee\", \"Palm Beach\", \"Panola\", \"Park\", \"Park\", \"Parker\", \"Pasco\", \"Pasquotank\", \"Passaic\", \"Paulding\", \"Pawnee\", \"Payne\", \"Peach\", \"Pearl River\", \"Pemiscot\", \"Pennington\", \"Penobscot\", \"Peoria\", \"Perry\", \"Perry\", \"Perry\", \"Philadelphia\", \"Pickens\", \"Pickens\", \"Pierce\", \"Pierce\", \"Pierce\", \"Pierce\", \"Pike\", \"Pike\", \"Pike\", \"Pima\", \"Pinal\", \"Pinellas\", \"Pitkin\", \"Pitt\", \"Placer\", \"Plaquemines\", \"Platte\", \"Plymouth\", \"Poinsett\", \"Polk\", \"Polk\", \"Polk\", \"Polk\", \"Polk\", \"Pontotoc\", \"Pontotoc\", \"Pope\", \"Portage\", \"Porter\", \"Pottawatomie\", \"Pottawattamie\", \"Potter\", \"Potter\", \"Poweshiek\", \"Prince Edward\", \"Prince George's\", \"Prince William\", \"Providence\", \"Pueblo\", \"Pulaski\", \"Pulaski\", \"Pulaski\", \"Pulaski\", \"Putnam\", \"Putnam\", \"Putnam\", \"Putnam\", \"Putnam\", \"Queen Anne's\", \"Racine\", \"Ramsey\", \"Ramsey\", \"Randall\", \"Randolph\", \"Randolph\", \"Randolph\", \"Rankin\", \"Rapides\", \"Ravalli\", \"Reno\", \"Rensselaer\", \"Renville\", \"Rice\", \"Richland\", \"Richland\", \"Richland\", \"Richmond\", \"Richmond City\", \"Ripley\", \"Riverside\", \"Roane\", \"Robertson\", \"Robertson\", \"Robeson\", \"Rock\", \"Rock Island\", \"Rockbridge\", \"Rockdale\", \"Rockingham\", \"Rockingham\", \"Rockland\", \"Roosevelt\", \"Roscommon\", \"Routt\", \"Rowan\", \"Rusk\", \"Rutherford\", \"Rutland\", \"Sacramento\", \"Sagadahoc\", \"Saginaw\", \"Salem\", \"Saline\", \"Salt Lake\", \"Saluda\", \"Sampson\", \"San Benito\", \"San Bernardino\", \"San Diego\", \"San Francisco\", \"San Joaquin\", \"San Juan\", \"San Juan\", \"San Luis Obispo\", \"San Mateo\", \"San Miguel\", \"San Miguel\", \"Sandoval\", \"Sandusky\", \"Sangamon\", \"Santa Barbara\", \"Santa Clara\", \"Santa Cruz\", \"Santa Cruz\", \"Santa Fe\", \"Santa Rosa\", \"Sarasota\", \"Saratoga\", \"Sarpy\", \"Sauk\", \"Saunders\", \"Schenectady\", \"Schoharie\", \"Schuylkill\", \"Scotland\", \"Scott\", \"Scott\", \"Scott\", \"Scott\", \"Scott\", \"Scott\", \"Scott\", \"Searcy\", \"Sebastian\", \"Sedgwick\", \"Seminole\", \"Seneca\", \"Sevier\", \"Sevier\", \"Shasta\", \"Sheboygan\", \"Shelby\", \"Shelby\", \"Shelby\", \"Sherburne\", \"Sheridan\", \"Silver Bow\", \"Simpson\", \"Simpson\", \"Sioux\", \"Siskiyou\", \"Skagit\", \"Smith\", \"Smith\", \"Snohomish\", \"Socorro\", \"Solano\", \"Somerset\", \"Somerset\", \"Somerset\", \"Sonoma\", \"Spalding\", \"Spartanburg\", \"Spencer\", \"Spokane\", \"Spotsylvania\", \"St. Bernard\", \"St. Charles\", \"St. Charles\", \"St. Clair\", \"St. Clair\", \"St. Clair\", \"St. Croix\", \"St. Francois\", \"St. James\", \"St. John the Baptist\", \"St. Johns\", \"St. Joseph\", \"St. Landry\", \"St. Lawrence\", \"St. Louis\", \"St. Louis\", \"St. Louis City\", \"St. Lucie\", \"St. Martin\", \"St. Mary\", \"St. Mary's\", \"St. Tammany\", \"Stafford\", \"Stanislaus\", \"Stark\", \"Starke\", \"Stearns\", \"Steele\", \"Stephens\", \"Stephenson\", \"Steuben\", \"Stevens\", \"Stone\", \"Story\", \"Strafford\", \"Suffolk\", \"Suffolk\", \"Suffolk\", \"Sullivan\", \"Sullivan\", \"Sullivan\", \"Summit\", \"Summit\", \"Summit\", \"Sumner\", \"Sumter\", \"Sumter\", \"Sumter\", \"Sunflower\", \"Sussex\", \"Sussex\", \"Talbot\", \"Talladega\", \"Tallahatchie\", \"Tallapoosa\", \"Tama\", \"Taney\", \"Tangipahoa\", \"Taos\", \"Tarrant\", \"Tate\", \"Tattnall\", \"Teller\", \"Terrebonne\", \"Terrell\", \"Terry\", \"Teton\", \"Teton\", \"Thurston\", \"Tift\", \"Tioga\", \"Tippah\", \"Tippecanoe\", \"Tipton\", \"Tipton\", \"Tolland\", \"Tom Green\", \"Tompkins\", \"Tooele\", \"Transylvania\", \"Travis\", \"Troup\", \"Trumbull\", \"Tucker\", \"Tulare\", \"Tulsa\", \"Tunica\", \"Turner\", \"Tuscaloosa\", \"Tuscarawas\", \"Tuscola\", \"Twiggs\", \"Twin Falls\", \"Ulster\", \"Umatilla\", \"Unassigned\", \"Unassigned\", \"Unassigned\", \"Unassigned\", \"Unassigned\", \"Unassigned\", \"Unassigned\", \"Unassigned\", \"Unassigned\", \"Unassigned\", \"Unassigned\", \"Unassigned\", \"Unassigned\", \"Unassigned\", \"Unassigned\", \"Union\", \"Union\", \"Union\", \"Union\", \"Union\", \"Union\", \"Utah\", \"Valley\", \"Van Buren\", \"Van Zandt\", \"Vance\", \"Vanderburgh\", \"Ventura\", \"Vernon\", \"Victoria\", \"Vigo\", \"Virginia Beach\", \"Volusia\", \"Wabasha\", \"Wake\", \"Waldo\", \"Walker\", \"Walker\", \"Walla Walla\", \"Waller\", \"Walsh\", \"Walthall\", \"Walton\", \"Walton\", \"Walworth\", \"Wapello\", \"Ward\", \"Warren\", \"Warren\", \"Warren\", \"Warren\", \"Warren\", \"Warrick\", \"Wasatch\", \"Waseca\", \"Washington\", \"Washington\", \"Washington\", \"Washington\", \"Washington\", \"Washington\", \"Washington\", \"Washington\", \"Washington\", \"Washington\", \"Washington\", \"Washington\", \"Washington\", \"Washington\", \"Washington\", \"Washington\", \"Washington\", \"Washington\", \"Washington\", \"Washington\", \"Washington\", \"Washoe\", \"Washtenaw\", \"Watauga\", \"Waukesha\", \"Wayne\", \"Wayne\", \"Wayne\", \"Wayne\", \"Webb\", \"Weber\", \"Webster\", \"Webster\", \"Webster\", \"Weld\", \"Wells\", \"West Baton Rouge\", \"Westchester\", \"Westmoreland\", \"Wexford\", \"Wharton\", \"Whatcom\", \"White\", \"Whiteside\", \"Whitfield\", \"Whitman\", \"Wichita\", \"Wicomico\", \"Wilkinson\", \"Will\", \"Williamsburg\", \"Williamson\", \"Williamson\", \"Wilson\", \"Wilson\", \"Windham\", \"Windham\", \"Windsor\", \"Winnebago\", \"Winnebago\", \"Winneshiek\", \"Winston\", \"Wood\", \"Wood\", \"Woodbury\", \"Woodford\", \"Woodruff\", \"Woodson\", \"Worcester\", \"Worcester\", \"Worth\", \"Wright\", \"Wyandotte\", \"Wyoming\", \"Yakima\", \"Yamhill\", \"Yavapai\", \"Yazoo\", \"Yellowstone\", \"Yolo\", \"York\", \"York\", \"York\", \"York\", \"Yuba\", \"Yuma\", \"Yuma\", \"Alabama\", \"Alaska\", \"Arizona\", \"Arkansas\", \"California\", \"Colorado\", \"Connecticut\", \"Delaware\", \"District of Columbia\", \"Florida\", \"Georgia\", \"Hawaii\", \"Idaho\", \"Illinois\", \"Indiana\", \"Iowa\", \"Kansas\", \"Kentucky\", \"Louisiana\", \"Maine\", \"Maryland\", \"Massachusetts\", \"Michigan\", \"Minnesota\", \"Mississippi\", \"Missouri\", \"Montana\", \"Nebraska\", \"Nevada\", \"New Hampshire\", \"New Jersey\", \"New Mexico\", \"New York\", \"North Carolina\", \"North Dakota\", \"Ohio\", \"Oklahoma\", \"Oregon\", \"Pennsylvania\", \"Rhode Island\", \"South Carolina\", \"South Dakota\", \"Tennessee\", \"Texas\", \"Utah\", \"Vermont\", \"Virginia\", \"Washington\", \"West Virginia\", \"Wisconsin\", \"Wyoming\"], \"name\": \"\", \"parents\": [\"South Carolina\", \"Louisiana\", \"Virginia\", \"Idaho\", \"Iowa\", \"Missouri\", \"Colorado\", \"Illinois\", \"Indiana\", \"Mississippi\", \"Nebraska\", \"Pennsylvania\", \"Washington\", \"Vermont\", \"South Carolina\", \"Florida\", \"North Carolina\", \"California\", \"New York\", \"Virginia\", \"Virginia\", \"Iowa\", \"Michigan\", \"New York\", \"Pennsylvania\", \"Indiana\", \"Louisiana\", \"California\", \"Virginia\", \"Alaska\", \"Kentucky\", \"South Carolina\", \"Tennessee\", \"Maine\", \"Maryland\", \"Minnesota\", \"Arizona\", \"Colorado\", \"Virginia\", \"Pennsylvania\", \"Louisiana\", \"Ohio\", \"Ohio\", \"Louisiana\", \"Texas\", \"New Jersey\", \"Mississippi\", \"Alabama\", \"Louisiana\", \"Florida\", \"Georgia\", \"Alabama\", \"Georgia\", \"Maryland\", \"Maryland\", \"Idaho\", \"Massachusetts\", \"Georgia\", \"Michigan\", \"Indiana\", \"Georgia\", \"Texas\", \"Missouri\", \"Florida\", \"Michigan\", \"Wisconsin\", \"South Dakota\", \"North Carolina\", \"South Carolina\", \"Louisiana\", \"Pennsylvania\", \"Virginia\", \"New Hampshire\", \"Texas\", \"Ohio\", \"Georgia\", \"Vermont\", \"Arkansas\", \"Minnesota\", \"Oregon\", \"Washington\", \"New Jersey\", \"South Carolina\", \"Pennsylvania\", \"Massachusetts\", \"New Mexico\", \"Michigan\", \"North Carolina\", \"Texas\", \"Georgia\", \"Louisiana\", \"Minnesota\", \"Idaho\", \"Iowa\", \"Idaho\", \"Texas\", \"Tennessee\", \"Minnesota\", \"Mississippi\", \"South Dakota\", \"Arkansas\", \"Indiana\", \"Kentucky\", \"Missouri\", \"Louisiana\", \"Virginia\", \"Colorado\", \"Kansas\", \"Kentucky\", \"Texas\", \"Utah\", \"Florida\", \"Pennsylvania\", \"Arkansas\", \"Tennessee\", \"Texas\", \"Texas\", \"Kentucky\", \"Florida\", \"Massachusetts\", \"Rhode Island\", \"Montana\", \"South Dakota\", \"New York\", \"Colorado\", \"Florida\", \"Indiana\", \"South Dakota\", \"Texas\", \"Wisconsin\", \"North Carolina\", \"Georgia\", \"Iowa\", \"Pennsylvania\", \"Nebraska\", \"North Carolina\", \"Georgia\", \"North Dakota\", \"New Jersey\", \"Texas\", \"Kansas\", \"Ohio\", \"Pennsylvania\", \"California\", \"Georgia\", \"North Carolina\", \"Utah\", \"Louisiana\", \"California\", \"Louisiana\", \"North Carolina\", \"Vermont\", \"Alabama\", \"Michigan\", \"South Carolina\", \"Missouri\", \"Kentucky\", \"Wisconsin\", \"Maryland\", \"Pennsylvania\", \"Georgia\", \"Missouri\", \"New Jersey\", \"Texas\", \"Kentucky\", \"Tennessee\", \"Wyoming\", \"Oklahoma\", \"Idaho\", \"New Jersey\", \"Pennsylvania\", \"Wyoming\", \"Maryland\", \"Georgia\", \"Iowa\", \"Maryland\", \"New Hampshire\", \"Ohio\", \"Tennessee\", \"Nevada\", \"North Carolina\", \"Minnesota\", \"Montana\", \"Minnesota\", \"Missouri\", \"Nebraska\", \"North Dakota\", \"Idaho\", \"Texas\", \"Louisiana\", \"North Carolina\", \"Georgia\", \"New York\", \"Maryland\", \"Iowa\", \"Pennsylvania\", \"Iowa\", \"Colorado\", \"Alabama\", \"Texas\", \"Illinois\", \"Ohio\", \"Maryland\", \"Virginia\", \"South Dakota\", \"South Carolina\", \"Michigan\", \"Florida\", \"Virginia\", \"Georgia\", \"Georgia\", \"North Carolina\", \"Georgia\", \"New York\", \"New Mexico\", \"Tennessee\", \"Washington\", \"New York\", \"New York\", \"Georgia\", \"Kansas\", \"North Carolina\", \"Virginia\", \"New Hampshire\", \"Pennsylvania\", \"South Carolina\", \"Tennessee\", \"South Carolina\", \"Virginia\", \"Mississippi\", \"Michigan\", \"Wisconsin\", \"Minnesota\", \"Vermont\", \"Mississippi\", \"North Carolina\", \"Illinois\", \"Kentucky\", \"Missouri\", \"New Mexico\", \"Florida\", \"Oregon\", \"Louisiana\", \"Tennessee\", \"Washington\", \"Michigan\", \"South Carolina\", \"Arkansas\", \"Indiana\", \"Kentucky\", \"Nevada\", \"Ohio\", \"Washington\", \"Georgia\", \"Oregon\", \"Florida\", \"Minnesota\", \"Mississippi\", \"Missouri\", \"Georgia\", \"Colorado\", \"Pennsylvania\", \"Arkansas\", \"Ohio\", \"Arkansas\", \"Oklahoma\", \"Georgia\", \"Illinois\", \"Michigan\", \"Missouri\", \"New York\", \"Ohio\", \"Mississippi\", \"Georgia\", \"Arizona\", \"Tennessee\", \"Arizona\", \"South Dakota\", \"Georgia\", \"Missouri\", \"South Carolina\", \"Florida\", \"Texas\", \"Georgia\", \"Arkansas\", \"Florida\", \"Georgia\", \"New York\", \"Pennsylvania\", \"Washington\", \"Wisconsin\", \"Ohio\", \"Texas\", \"California\", \"Arkansas\", \"Illinois\", \"Mississippi\", \"New York\", \"Ohio\", \"Georgia\", \"Washington\", \"Arkansas\", \"Texas\", \"North Carolina\", \"Arkansas\", \"Kansas\", \"Ohio\", \"Georgia\", \"Arkansas\", \"Arkansas\", \"Colorado\", \"Alabama\", \"Virginia\", \"Illinois\", \"Maine\", \"New Jersey\", \"North Carolina\", \"Pennsylvania\", \"Tennessee\", \"New Mexico\", \"Oklahoma\", \"Ohio\", \"Minnesota\", \"Iowa\", \"Texas\", \"Wisconsin\", \"Virginia\", \"Ohio\", \"South Carolina\", \"Pennsylvania\", \"North Carolina\", \"Tennessee\", \"North Carolina\", \"Kentucky\", \"Utah\", \"South Dakota\", \"Georgia\", \"Louisiana\", \"Georgia\", \"Illinois\", \"Florida\", \"Mississippi\", \"Texas\", \"Texas\", \"Indiana\", \"Indiana\", \"Ohio\", \"Indiana\", \"New York\", \"Ohio\", \"Pennsylvania\", \"Texas\", \"Colorado\", \"Oregon\", \"Arkansas\", \"Tennessee\", \"South Carolina\", \"District of Columbia\", \"Minnesota\", \"Wisconsin\", \"New Mexico\", \"Kansas\", \"South Carolina\", \"Georgia\", \"Colorado\", \"Georgia\", \"Kansas\", \"Nebraska\", \"Nevada\", \"Oregon\", \"Washington\", \"Wisconsin\", \"Illinois\", \"Indiana\", \"Iowa\", \"Massachusetts\", \"Missouri\", \"North Dakota\", \"Wisconsin\", \"North Carolina\", \"North Carolina\", \"New York\", \"Florida\", \"Tennessee\", \"Colorado\", \"Georgia\", \"Louisiana\", \"Texas\", \"Michigan\", \"Wisconsin\", \"South Carolina\", \"Georgia\", \"California\", \"Colorado\", \"Texas\", \"Colorado\", \"Indiana\", \"Nevada\", \"Texas\", \"Alabama\", \"Michigan\", \"Texas\", \"New York\", \"Ohio\", \"Pennsylvania\", \"Florida\", \"Massachusetts\", \"New Jersey\", \"New York\", \"Louisiana\", \"Alaska\", \"Virginia\", \"Connecticut\", \"Ohio\", \"South Carolina\", \"Texas\", \"Texas\", \"Arkansas\", \"Georgia\", \"Indiana\", \"Iowa\", \"Kentucky\", \"Pennsylvania\", \"Tennessee\", \"Texas\", \"Minnesota\", \"Florida\", \"Montana\", \"South Carolina\", \"Georgia\", \"Indiana\", \"Virginia\", \"Wisconsin\", \"Mississippi\", \"Georgia\", \"North Carolina\", \"Texas\", \"Alabama\", \"Indiana\", \"Kansas\", \"Kentucky\", \"Massachusetts\", \"Mississippi\", \"North Carolina\", \"Ohio\", \"Pennsylvania\", \"Tennessee\", \"Vermont\", \"Virginia\", \"Washington\", \"Maryland\", \"Wyoming\", \"California\", \"Georgia\", \"New York\", \"Florida\", \"Nebraska\", \"Texas\", \"Montana\", \"Ohio\", \"Texas\", \"Colorado\", \"Arkansas\", \"Maryland\", \"Oklahoma\", \"North Carolina\", \"Ohio\", \"Michigan\", \"New York\", \"Mississippi\", \"South Carolina\", \"Indiana\", \"Tennessee\", \"Michigan\", \"New Jersey\", \"Virginia\", \"Georgia\", \"Virginia\", \"Georgia\", \"Oklahoma\", \"New Hampshire\", \"Arizona\", \"Colorado\", \"Michigan\", \"Arkansas\", \"Indiana\", \"Louisiana\", \"Oregon\", \"Washington\", \"North Carolina\", \"Washington\", \"Texas\", \"Wisconsin\", \"Arkansas\", \"Georgia\", \"Indiana\", \"Missouri\", \"New York\", \"Ohio\", \"Tennessee\", \"South Carolina\", \"South Carolina\", \"Texas\", \"Mississippi\", \"Texas\", \"Illinois\", \"Tennessee\", \"Texas\", \"North Carolina\", \"Colorado\", \"Georgia\", \"Virginia\", \"Georgia\", \"Tennessee\", \"Indiana\", \"New York\", \"Ohio\", \"Tennessee\", \"Massachusetts\", \"Massachusetts\", \"Indiana\", \"Iowa\", \"Mississippi\", \"Ohio\", \"Virginia\", \"Kentucky\", \"Tennessee\", \"Texas\", \"Maryland\", \"North Carolina\", \"Georgia\", \"Texas\", \"Iowa\", \"Kentucky\", \"Mississippi\", \"West Virginia\", \"Virginia\", \"Connecticut\", \"Hawaii\", \"Texas\", \"Georgia\", \"Arkansas\", \"Kentucky\", \"North Carolina\", \"Indiana\", \"Minnesota\", \"Virginia\", \"Georgia\", \"Iowa\", \"Missouri\", \"New York\", \"Florida\", \"North Carolina\", \"Texas\", \"Ohio\", \"Florida\", \"Florida\", \"New Hampshire\", \"Michigan\", \"Mississippi\", \"Colorado\", \"Texas\", \"North Carolina\", \"Mississippi\", \"Hawaii\", \"Oregon\", \"Texas\", \"South Carolina\", \"Alabama\", \"Georgia\", \"Tennessee\", \"Indiana\", \"Maryland\", \"New Jersey\", \"South Dakota\", \"California\", \"Mississippi\", \"Texas\", \"New Jersey\", \"Ohio\", \"North Carolina\", \"Louisiana\", \"Louisiana\", \"California\", \"Arkansas\", \"Florida\", \"Michigan\", \"Wisconsin\", \"North Carolina\", \"Georgia\", \"Michigan\", \"Washington\", \"Virginia\", \"Mississippi\", \"Alabama\", \"Florida\", \"Illinois\", \"Indiana\", \"Kansas\", \"Michigan\", \"Minnesota\", \"Mississippi\", \"Missouri\", \"North Carolina\", \"Oklahoma\", \"Oregon\", \"West Virginia\", \"Virginia\", \"Georgia\", \"Iowa\", \"Missouri\", \"South Carolina\", \"Alabama\", \"Arkansas\", \"Colorado\", \"Idaho\", \"Kentucky\", \"Louisiana\", \"Missouri\", \"New York\", \"Tennessee\", \"Texas\", \"Washington\", \"West Virginia\", \"Wisconsin\", \"Indiana\", \"Kentucky\", \"Illinois\", \"Indiana\", \"Iowa\", \"Kansas\", \"Missouri\", \"Texas\", \"North Carolina\", \"Mississippi\", \"Oregon\", \"Alaska\", \"Pennsylvania\", \"Michigan\", \"Michigan\", \"West Virginia\", \"Illinois\", \"Illinois\", \"Missouri\", \"Hawaii\", \"Oklahoma\", \"Alaska\", \"Illinois\", \"Texas\", \"Maine\", \"Wisconsin\", \"Delaware\", \"Michigan\", \"Rhode Island\", \"Kentucky\", \"California\", \"South Carolina\", \"Alaska\", \"Washington\", \"Washington\", \"Washington\", \"Oregon\", \"Washington\", \"Maine\", \"Nebraska\", \"Ohio\", \"Tennessee\", \"Idaho\", \"Iowa\", \"Wisconsin\", \"Indiana\", \"Illinois\", \"Pennsylvania\", \"Louisiana\", \"Mississippi\", \"Missouri\", \"Louisiana\", \"Florida\", \"Illinois\", \"Indiana\", \"Ohio\", \"Alabama\", \"Georgia\", \"Mississippi\", \"Texas\", \"Vermont\", \"Nebraska\", \"Pennsylvania\", \"South Carolina\", \"Oregon\", \"Michigan\", \"Wyoming\", \"Colorado\", \"Alabama\", \"Kentucky\", \"Georgia\", \"Texas\", \"Arkansas\", \"Indiana\", \"Mississippi\", \"Minnesota\", \"New Mexico\", \"Mississippi\", \"Kansas\", \"Pennsylvania\", \"Alabama\", \"Florida\", \"Georgia\", \"Mississippi\", \"North Carolina\", \"South Carolina\", \"Virginia\", \"Michigan\", \"Mississippi\", \"Pennsylvania\", \"North Carolina\", \"Florida\", \"Washington\", \"Montana\", \"South Carolina\", \"Georgia\", \"Texas\", \"Ohio\", \"Alabama\", \"Arkansas\", \"Georgia\", \"Louisiana\", \"Maine\", \"Mississippi\", \"Nebraska\", \"North Carolina\", \"Tennessee\", \"Washington\", \"Iowa\", \"Kansas\", \"Oregon\", \"Connecticut\", \"Illinois\", \"Louisiana\", \"Michigan\", \"New York\", \"Texas\", \"Colorado\", \"Kentucky\", \"Ohio\", \"Oklahoma\", \"Ohio\", \"California\", \"Tennessee\", \"Virginia\", \"Virginia\", \"Georgia\", \"Mississippi\", \"Texas\", \"Ohio\", \"Georgia\", \"Pennsylvania\", \"South Dakota\", \"Kansas\", \"Kentucky\", \"Michigan\", \"Georgia\", \"California\", \"Alabama\", \"Georgia\", \"Idaho\", \"Illinois\", \"Indiana\", \"Kentucky\", \"Mississippi\", \"Montana\", \"Nebraska\", \"New York\", \"Ohio\", \"Tennessee\", \"Virginia\", \"Ohio\", \"Florida\", \"Michigan\", \"Wisconsin\", \"Arizona\", \"California\", \"Alabama\", \"Florida\", \"Indiana\", \"Mississippi\", \"Ohio\", \"Oregon\", \"Tennessee\", \"South Carolina\", \"Michigan\", \"Mississippi\", \"West Virginia\", \"Florida\", \"Kentucky\", \"Minnesota\", \"Washington\", \"Texas\", \"Hawaii\", \"Tennessee\", \"Texas\", \"Oklahoma\", \"Oklahoma\", \"South Dakota\", \"Kentucky\", \"North Carolina\", \"Illinois\", \"New Mexico\", \"Illinois\", \"Texas\", \"Tennessee\", \"North Carolina\", \"Virginia\", \"Ohio\", \"Texas\", \"California\", \"Kentucky\", \"California\", \"New Jersey\", \"Pennsylvania\", \"West Virginia\", \"Georgia\", \"New Hampshire\", \"Colorado\", \"Indiana\", \"Ohio\", \"Florida\", \"Connecticut\", \"Massachusetts\", \"New Jersey\", \"Michigan\", \"Texas\", \"Texas\", \"Georgia\", \"Wisconsin\", \"South Dakota\", \"Montana\", \"Georgia\", \"Kansas\", \"Alabama\", \"Missouri\", \"New Jersey\", \"California\", \"West Virginia\", \"Florida\", \"Georgia\", \"Illinois\", \"Indiana\", \"Michigan\", \"Mississippi\", \"New York\", \"Pennsylvania\", \"Tennessee\", \"Michigan\", \"California\", \"Alabama\", \"Indiana\", \"Kentucky\", \"Maryland\", \"Mississippi\", \"New York\", \"North Carolina\", \"Ohio\", \"Pennsylvania\", \"Tennessee\", \"Texas\", \"Pennsylvania\", \"Colorado\", \"North Carolina\", \"Alabama\", \"Colorado\", \"Georgia\", \"Indiana\", \"Kansas\", \"New Jersey\", \"North Dakota\", \"Minnesota\", \"Kentucky\", \"Oregon\", \"Iowa\", \"Georgia\", \"Michigan\", \"Oklahoma\", \"California\", \"North Carolina\", \"Florida\", \"New York\", \"Louisiana\", \"Wyoming\", \"Arizona\", \"Kentucky\", \"Virginia\", \"Nebraska\", \"California\", \"Delaware\", \"North Carolina\", \"Connecticut\", \"Connecticut\", \"New York\", \"Michigan\", \"South Carolina\", \"Rhode Island\", \"Virginia\", \"Georgia\", \"Mississippi\", \"New York\", \"Minnesota\", \"Indiana\", \"Oklahoma\", \"Massachusetts\", \"Virginia\", \"North Carolina\", \"Pennsylvania\", \"Mississippi\", \"Texas\", \"Nevada\", \"Michigan\", \"New Jersey\", \"Georgia\", \"South Carolina\", \"Indiana\", \"Florida\", \"Oklahoma\", \"Mississippi\", \"Kentucky\", \"Texas\", \"Minnesota\", \"New York\", \"New York\", \"North Carolina\", \"New York\", \"California\", \"Florida\", \"New York\", \"North Carolina\", \"Texas\", \"Vermont\", \"Virginia\", \"South Carolina\", \"Louisiana\", \"Vermont\", \"Florida\", \"New York\", \"Michigan\", \"New York\", \"Michigan\", \"Louisiana\", \"Michigan\", \"Tennessee\", \"Utah\", \"Wisconsin\", \"Tennessee\", \"Indiana\", \"Maine\", \"Wisconsin\", \"Florida\", \"Mississippi\", \"Colorado\", \"Wyoming\", \"Texas\", \"Florida\", \"North Carolina\", \"New Jersey\", \"Georgia\", \"Oklahoma\", \"Oklahoma\", \"Georgia\", \"Mississippi\", \"Missouri\", \"South Dakota\", \"Maine\", \"Illinois\", \"Mississippi\", \"Missouri\", \"Tennessee\", \"Pennsylvania\", \"Georgia\", \"South Carolina\", \"Georgia\", \"North Dakota\", \"Washington\", \"Wisconsin\", \"Arkansas\", \"Mississippi\", \"Pennsylvania\", \"Arizona\", \"Arizona\", \"Florida\", \"Colorado\", \"North Carolina\", \"California\", \"Louisiana\", \"Missouri\", \"Massachusetts\", \"Arkansas\", \"Arkansas\", \"Florida\", \"Georgia\", \"Iowa\", \"Oregon\", \"Mississippi\", \"Oklahoma\", \"Arkansas\", \"Ohio\", \"Indiana\", \"Kansas\", \"Iowa\", \"Pennsylvania\", \"Texas\", \"Iowa\", \"Virginia\", \"Maryland\", \"Virginia\", \"Rhode Island\", \"Colorado\", \"Arkansas\", \"Georgia\", \"Kentucky\", \"Missouri\", \"Florida\", \"Indiana\", \"New York\", \"Tennessee\", \"West Virginia\", \"Maryland\", \"Wisconsin\", \"Minnesota\", \"North Dakota\", \"Texas\", \"Georgia\", \"Missouri\", \"North Carolina\", \"Mississippi\", \"Louisiana\", \"Montana\", \"Kansas\", \"New York\", \"Minnesota\", \"Minnesota\", \"Louisiana\", \"Ohio\", \"South Carolina\", \"Georgia\", \"Virginia\", \"Indiana\", \"California\", \"Tennessee\", \"Tennessee\", \"Texas\", \"North Carolina\", \"Wisconsin\", \"Illinois\", \"Virginia\", \"Georgia\", \"New Hampshire\", \"Virginia\", \"New York\", \"Montana\", \"Michigan\", \"Colorado\", \"North Carolina\", \"Texas\", \"Tennessee\", \"Vermont\", \"California\", \"Maine\", \"Michigan\", \"New Jersey\", \"Arkansas\", \"Utah\", \"South Carolina\", \"North Carolina\", \"California\", \"California\", \"California\", \"California\", \"California\", \"New Mexico\", \"Washington\", \"California\", \"California\", \"Colorado\", \"New Mexico\", \"New Mexico\", \"Ohio\", \"Illinois\", \"California\", \"California\", \"Arizona\", \"California\", \"New Mexico\", \"Florida\", \"Florida\", \"New York\", \"Nebraska\", \"Wisconsin\", \"Nebraska\", \"New York\", \"New York\", \"Pennsylvania\", \"North Carolina\", \"Indiana\", \"Iowa\", \"Kentucky\", \"Minnesota\", \"Mississippi\", \"Missouri\", \"Tennessee\", \"Arkansas\", \"Arkansas\", \"Kansas\", \"Florida\", \"Ohio\", \"Arkansas\", \"Tennessee\", \"California\", \"Wisconsin\", \"Alabama\", \"Indiana\", \"Tennessee\", \"Minnesota\", \"Wyoming\", \"Montana\", \"Kentucky\", \"Mississippi\", \"Iowa\", \"California\", \"Washington\", \"Mississippi\", \"Texas\", \"Washington\", \"New Mexico\", \"California\", \"Maryland\", \"New Jersey\", \"Pennsylvania\", \"California\", \"Georgia\", \"South Carolina\", \"Kentucky\", \"Washington\", \"Virginia\", \"Louisiana\", \"Louisiana\", \"Missouri\", \"Alabama\", \"Illinois\", \"Michigan\", \"Wisconsin\", \"Missouri\", \"Louisiana\", \"Louisiana\", \"Florida\", \"Indiana\", \"Louisiana\", \"New York\", \"Minnesota\", \"Missouri\", \"Missouri\", \"Florida\", \"Louisiana\", \"Louisiana\", \"Maryland\", \"Louisiana\", \"Virginia\", \"California\", \"Ohio\", \"Indiana\", \"Minnesota\", \"Minnesota\", \"Georgia\", \"Illinois\", \"New York\", \"Washington\", \"Arkansas\", \"Iowa\", \"New Hampshire\", \"Massachusetts\", \"New York\", \"Virginia\", \"New Hampshire\", \"New York\", \"Tennessee\", \"Colorado\", \"Ohio\", \"Utah\", \"Tennessee\", \"Florida\", \"Georgia\", \"South Carolina\", \"Mississippi\", \"Delaware\", \"New Jersey\", \"Maryland\", \"Alabama\", \"Mississippi\", \"Alabama\", \"Iowa\", \"Missouri\", \"Louisiana\", \"New Mexico\", \"Texas\", \"Mississippi\", \"Georgia\", \"Colorado\", \"Louisiana\", \"Georgia\", \"Texas\", \"Idaho\", \"Wyoming\", \"Washington\", \"Georgia\", \"New York\", \"Mississippi\", \"Indiana\", \"Indiana\", \"Tennessee\", \"Connecticut\", \"Texas\", \"New York\", \"Utah\", \"North Carolina\", \"Texas\", \"Georgia\", \"Ohio\", \"West Virginia\", \"California\", \"Oklahoma\", \"Mississippi\", \"Georgia\", \"Alabama\", \"Ohio\", \"Michigan\", \"Georgia\", \"Idaho\", \"New York\", \"Oregon\", \"Arkansas\", \"Colorado\", \"Georgia\", \"Hawaii\", \"Iowa\", \"Kentucky\", \"Louisiana\", \"Massachusetts\", \"Missouri\", \"Montana\", \"Nevada\", \"New Jersey\", \"Rhode Island\", \"Tennessee\", \"Washington\", \"Arkansas\", \"Mississippi\", \"New Jersey\", \"North Carolina\", \"Ohio\", \"Oregon\", \"Utah\", \"Idaho\", \"Arkansas\", \"Texas\", \"North Carolina\", \"Indiana\", \"California\", \"Louisiana\", \"Texas\", \"Indiana\", \"Virginia\", \"Florida\", \"Minnesota\", \"North Carolina\", \"Maine\", \"Alabama\", \"Texas\", \"Washington\", \"Texas\", \"North Dakota\", \"Mississippi\", \"Florida\", \"Georgia\", \"Wisconsin\", \"Iowa\", \"North Dakota\", \"Iowa\", \"Kentucky\", \"New Jersey\", \"New York\", \"Ohio\", \"Indiana\", \"Utah\", \"Minnesota\", \"Alabama\", \"Arkansas\", \"Georgia\", \"Illinois\", \"Indiana\", \"Iowa\", \"Louisiana\", \"Maryland\", \"Minnesota\", \"Mississippi\", \"Nebraska\", \"New York\", \"Ohio\", \"Oklahoma\", \"Oregon\", \"Pennsylvania\", \"Rhode Island\", \"Tennessee\", \"Utah\", \"Vermont\", \"Wisconsin\", \"Nevada\", \"Michigan\", \"North Carolina\", \"Wisconsin\", \"Michigan\", \"New York\", \"North Carolina\", \"Pennsylvania\", \"Texas\", \"Utah\", \"Kentucky\", \"Louisiana\", \"Mississippi\", \"Colorado\", \"Indiana\", \"Louisiana\", \"New York\", \"Pennsylvania\", \"Michigan\", \"Texas\", \"Washington\", \"Arkansas\", \"Illinois\", \"Georgia\", \"Washington\", \"Texas\", \"Maryland\", \"Mississippi\", \"Illinois\", \"Virginia\", \"Tennessee\", \"Texas\", \"North Carolina\", \"Tennessee\", \"Connecticut\", \"Vermont\", \"Vermont\", \"Illinois\", \"Wisconsin\", \"Iowa\", \"Mississippi\", \"Ohio\", \"Wisconsin\", \"Iowa\", \"Illinois\", \"Arkansas\", \"Kansas\", \"Maryland\", \"Massachusetts\", \"Georgia\", \"Minnesota\", \"Kansas\", \"New York\", \"Washington\", \"Oregon\", \"Arizona\", \"Mississippi\", \"Montana\", \"California\", \"Maine\", \"Pennsylvania\", \"South Carolina\", \"Virginia\", \"California\", \"Arizona\", \"Colorado\", \"\", \"\", \"\", \"\", \"\", \"\", \"\", \"\", \"\", \"\", \"\", \"\", \"\", \"\", \"\", \"\", \"\", \"\", \"\", \"\", \"\", \"\", \"\", \"\", \"\", \"\", \"\", \"\", \"\", \"\", \"\", \"\", \"\", \"\", \"\", \"\", \"\", \"\", \"\", \"\", \"\", \"\", \"\", \"\", \"\", \"\", \"\", \"\", \"\", \"\", \"\"], \"type\": \"treemap\", \"values\": [1, 2, 1, 19, 1, 1, 25, 1, 1, 2, 1, 6, 1, 8, 2, 37, 3, 135, 146, 2, 8, 6, 1, 2, 58, 7, 2, 2, 1, 17, 2, 16, 1, 3, 24, 7, 4, 58, 36, 1, 36, 1, 3, 2, 2, 6, 3, 1, 3, 4, 2, 4, 2, 42, 41, 2, 40, 1, 1, 5, 74, 1, 1, 1, 2, 1, 13, 2, 22, 2, 3, 1, 7, 18, 2, 1, 9, 1, 1, 4, 9, 701, 4, 16, 37, 43, 8, 1, 69, 4, 1, 1, 2, 4, 36, 1, 3, 5, 4, 1, 1, 3, 1, 20, 12, 1, 39, 1, 2, 1, 1, 1, 1, 4, 2, 28, 16, 1, 9, 31, 24, 1, 1, 9, 2, 311, 1, 1, 2, 3, 10, 2, 1, 69, 2, 12, 1, 18, 42, 1, 3, 18, 6, 2, 2, 10, 3, 40, 2, 5, 1, 1, 2, 4, 1, 2, 1, 1, 3, 1, 1, 1, 51, 6, 1, 2, 1, 4, 5, 3, 1, 2, 1, 26, 1, 5, 7, 3, 3, 2, 5, 8, 3, 1, 6, 2, 3, 1, 2, 1, 4, 1, 2, 3, 1, 7, 2, 3, 5, 1, 4, 1, 5, 1, 1, 36, 3, 3, 5, 1, 7, 3, 1, 2, 4, 5, 6, 3, 3, 28, 2, 4, 1, 1, 40, 1, 1, 1, 10, 6, 1, 1, 2, 40, 1, 1, 1, 2, 2, 1, 9, 17, 2, 1, 4, 1, 5, 6, 5, 2, 212, 2, 13, 16, 1, 10, 3, 1, 3, 21, 3, 1, 32, 5, 3, 22, 1, 3, 5, 1, 6, 1, 11, 86, 1, 1, 18, 1, 2, 5, 1, 41, 45, 2, 1, 3, 4, 18, 1, 1, 5, 3, 5, 86, 1, 1194, 5, 2, 3, 10, 3, 4, 1, 3, 1, 2, 1, 3, 1, 1, 1, 3, 2, 1, 74, 2, 5, 13, 3, 1, 2, 167, 21, 7, 169, 72, 1, 1, 8, 4, 3, 253, 1, 11, 31, 2, 1, 6, 94, 1, 1, 29, 1, 1, 2, 6, 2, 4, 3, 11, 84, 38, 148, 10, 2, 5, 1, 141, 3, 2, 13, 1, 3, 90, 48, 11, 6, 39, 2, 1, 1, 4, 103, 1, 6, 2, 1, 1, 1, 1, 71, 124, 50, 2, 92, 2, 58, 1, 3, 4, 1, 2, 2, 69, 10, 3, 4, 2, 6, 8, 2, 1, 114, 1, 5, 10, 118, 342, 3, 2, 7, 46, 384, 2, 2, 1, 1, 14, 12, 2, 1, 15, 2, 2, 1, 3, 4, 4, 5, 11, 6, 1, 18, 14, 8, 14, 46, 1, 7, 1, 2, 10, 3, 4, 75, 3, 1, 2, 1, 5, 4, 10, 13, 184, 1, 1, 1, 1, 16, 1, 18, 8, 10, 3, 2, 4, 5, 34, 1, 1, 2, 2, 2, 2, 19, 2, 5, 3, 7, 1, 20, 2, 2, 3, 3, 3, 1, 1, 23, 1, 1, 2, 1, 1, 1, 1, 19, 4, 3, 5, 39, 2, 1, 2, 2, 1, 1, 4, 16, 28, 45, 1, 14, 2, 25, 2, 38, 8, 24, 8, 4, 2, 5, 1, 1, 2, 1, 2, 5, 9, 1, 134, 3, 8, 24, 2, 1, 88, 2, 7, 1, 1, 2, 2, 13, 103, 14, 13, 1, 1, 4, 5, 1, 2, 1, 4, 91, 19, 1, 31, 1, 3, 1, 6, 58, 1, 1, 19, 1, 3, 1, 6, 30, 234, 1, 4, 1, 1, 25, 2, 1, 2, 14, 6, 3, 11, 15, 1, 9, 1, 2, 25, 2, 3, 2, 1, 1, 1, 1, 6, 1, 10, 14, 1, 1, 3, 1, 37, 1, 1, 1, 2, 91, 21, 55, 2, 33, 293, 4, 2, 4, 6, 8, 3, 4, 2, 1, 1, 18, 37, 36, 1, 2, 4, 1, 1, 1, 1, 3, 1, 4, 24, 4, 21, 1, 5, 3, 4, 1, 5, 13, 10, 31, 7, 5, 13, 58, 6, 1170, 18, 5, 1, 4, 1, 2, 1, 15, 8, 1, 5, 2, 3, 15, 12, 8, 1, 16, 14, 111, 17, 11, 1, 3, 2, 1, 2, 2, 10, 7, 4, 1, 7, 34, 3, 1, 5, 1, 1, 1, 2, 5, 1, 2, 7, 3, 26, 32, 20, 12, 1, 2, 2, 1, 10, 27, 1, 8, 2, 3, 19, 1, 1, 2, 4, 2, 1, 2, 5, 4, 3, 1, 1, 1, 6, 2, 21, 22, 1, 6, 13, 3, 1, 2, 1, 2, 1, 30, 662, 2, 18, 2, 10, 6, 12, 13, 3, 21, 1, 2, 1, 225, 1, 6, 21, 1, 2, 2, 3, 2, 14, 1, 1, 4, 1, 1, 1, 28, 16, 1, 1, 199, 47, 1, 4, 161, 1, 4, 32, 1, 1, 1, 3, 2, 4, 1, 8, 1, 4, 9, 6, 1, 1, 1, 2, 1, 2, 14, 3, 7, 24, 2, 142, 2, 15, 1, 2, 1, 1, 58, 2, 2, 1, 4, 5, 1, 19, 338, 8, 304, 277, 5, 3, 2, 1, 243, 5, 6, 3, 1, 6, 1, 288, 1, 5, 3, 3, 1, 3, 12, 3, 106, 45, 2, 1, 20, 9, 1, 2, 107, 2, 3, 1, 10, 159, 6, 23, 3, 1, 2, 2, 3, 1, 3, 2, 204, 7, 6, 2, 25, 5, 3, 3, 1, 2, 4, 1, 2869, 2, 2, 32, 1, 1, 1, 3, 71, 10, 89, 6, 14904, 2, 1, 9, 3, 5, 1, 10, 3, 1, 2, 129, 8, 1, 33, 1, 6, 1, 428, 180, 5, 2, 1, 14, 41, 5, 1, 1, 18, 10, 60, 3, 6, 152, 50, 498, 6, 1, 3, 1, 8, 675, 2, 26, 2, 5, 1, 15, 7, 6, 95, 13, 2, 1, 2, 6, 16, 101, 2, 1, 1, 1, 15, 1, 216, 6, 4, 3, 3, 13, 1, 1, 4, 3, 1, 2, 1, 252, 4, 1, 1, 2, 138, 3, 1, 7, 4, 42, 22, 45, 18, 6, 20, 8, 2, 64, 3, 1, 13, 8, 15, 3, 2, 1, 1, 4, 1, 1, 2, 1, 3, 2, 1, 63, 23, 52, 3, 64, 1, 3, 4, 2, 1, 82, 8, 1, 1, 5, 26, 1, 2, 1, 1, 3, 13, 10, 1, 2, 33, 1, 2, 1, 4, 45, 11, 11, 6, 57, 1, 12, 1, 2, 3, 1, 1, 7, 38, 3, 671, 1, 1, 3, 5, 1, 13, 5, 88, 3, 8, 1, 4, 124, 1, 1, 6, 31, 226, 152, 51, 7, 1, 42, 161, 1, 1, 7, 1, 5, 18, 375, 1, 22, 14, 4, 26, 53, 8, 4, 1, 44, 1, 5, 1, 1, 1, 1, 5, 2, 1, 1, 2, 1, 7, 23, 1, 1, 2, 2, 6, 27, 1, 135, 1, 4, 2, 1, 1, 1, 2, 45, 1, 14, 614, 2, 21, 1, 102, 1, 29, 5, 4, 1, 29, 2, 19, 15, 8, 4, 7, 8, 4, 2, 9, 21, 22, 18, 3, 1, 2, 100, 23, 6, 1, 2, 2, 52, 6, 11, 13, 2, 5, 5, 1, 1, 8, 1, 1, 2, 4, 234, 1880, 1, 1, 23, 2, 8, 36, 82, 34, 10, 2, 8, 3, 23, 18, 1, 2, 2, 2, 4, 1, 4, 3, 71, 1, 1, 3, 14, 3, 1, 2, 2, 11, 2, 1, 11, 3, 2, 6, 19, 1, 16, 2, 1, 86, 6, 4, 2, 17, 12, 3, 1, 10, 3, 1, 1, 1, 35, 2, 13, 5, 81, 20, 2, 46, 12, 85, 6, 6, 15, 645, 23, 38, 112, 1, 1, 246, 18, 2, 1, 13, 1, 5, 1, 1, 1, 35, 2, 3, 3, 17, 18, 1, 66, 1, 5, 1, 1, 1, 1, 2, 10, 1, 4, 1, 3, 1, 4, 15, 2, 7, 1, 15, 1, 1, 5, 1, 1, 2, 4, 3, 2, 10, 5, 3, 3, 1, 2, 76, 9, 9, 7, 5, 3, 17, 44, 50, 3, 31, 876, 6, 2, 4, 4, 9, 1, 3, 2, 50, 1, 5, 3891, 11, 1, 1, 48, 1, 1, 2, 2, 5, 4, 4, 28, 5, 64, 14, 4, 7, 2, 5, 15, 5, 5, 1, 2, 2, 1, 2, 3, 1, 1, 2, 73, 4, 3, 22, 4, 25, 6, 3, 3, 7, 8, 16, 18, 11, 6, 3, 2, 1, 242, 34, 326, 219, 2538, 723, 618, 104, 141, 1412, 1026, 90, 81, 1537, 368, 124, 100, 162, 1388, 118, 349, 1159, 1793, 261, 320, 257, 51, 66, 278, 101, 3675, 100, 25681, 495, 36, 567, 106, 210, 946, 124, 342, 30, 772, 955, 298, 95, 293, 2328, 22, 481, 29]}],\n",
       "                        {\"legend\": {\"tracegroupgap\": 0}, \"margin\": {\"t\": 60}, \"template\": {\"data\": {\"bar\": [{\"error_x\": {\"color\": \"#2a3f5f\"}, \"error_y\": {\"color\": \"#2a3f5f\"}, \"marker\": {\"line\": {\"color\": \"#E5ECF6\", \"width\": 0.5}}, \"type\": \"bar\"}], \"barpolar\": [{\"marker\": {\"line\": {\"color\": \"#E5ECF6\", \"width\": 0.5}}, \"type\": \"barpolar\"}], \"carpet\": [{\"aaxis\": {\"endlinecolor\": \"#2a3f5f\", \"gridcolor\": \"white\", \"linecolor\": \"white\", \"minorgridcolor\": \"white\", \"startlinecolor\": \"#2a3f5f\"}, \"baxis\": {\"endlinecolor\": \"#2a3f5f\", \"gridcolor\": \"white\", \"linecolor\": \"white\", \"minorgridcolor\": \"white\", \"startlinecolor\": \"#2a3f5f\"}, \"type\": \"carpet\"}], \"choropleth\": [{\"colorbar\": {\"outlinewidth\": 0, \"ticks\": \"\"}, \"type\": \"choropleth\"}], \"contour\": [{\"colorbar\": {\"outlinewidth\": 0, \"ticks\": \"\"}, \"colorscale\": [[0.0, \"#0d0887\"], [0.1111111111111111, \"#46039f\"], [0.2222222222222222, \"#7201a8\"], [0.3333333333333333, \"#9c179e\"], [0.4444444444444444, \"#bd3786\"], [0.5555555555555556, \"#d8576b\"], [0.6666666666666666, \"#ed7953\"], [0.7777777777777778, \"#fb9f3a\"], [0.8888888888888888, \"#fdca26\"], [1.0, \"#f0f921\"]], \"type\": \"contour\"}], \"contourcarpet\": [{\"colorbar\": {\"outlinewidth\": 0, \"ticks\": \"\"}, \"type\": \"contourcarpet\"}], \"heatmap\": [{\"colorbar\": {\"outlinewidth\": 0, \"ticks\": \"\"}, \"colorscale\": [[0.0, \"#0d0887\"], [0.1111111111111111, \"#46039f\"], [0.2222222222222222, \"#7201a8\"], [0.3333333333333333, \"#9c179e\"], [0.4444444444444444, \"#bd3786\"], [0.5555555555555556, \"#d8576b\"], [0.6666666666666666, \"#ed7953\"], [0.7777777777777778, \"#fb9f3a\"], [0.8888888888888888, \"#fdca26\"], [1.0, \"#f0f921\"]], \"type\": \"heatmap\"}], \"heatmapgl\": [{\"colorbar\": {\"outlinewidth\": 0, \"ticks\": \"\"}, \"colorscale\": [[0.0, \"#0d0887\"], [0.1111111111111111, \"#46039f\"], [0.2222222222222222, \"#7201a8\"], [0.3333333333333333, \"#9c179e\"], [0.4444444444444444, \"#bd3786\"], [0.5555555555555556, \"#d8576b\"], [0.6666666666666666, \"#ed7953\"], [0.7777777777777778, \"#fb9f3a\"], [0.8888888888888888, \"#fdca26\"], [1.0, \"#f0f921\"]], \"type\": \"heatmapgl\"}], \"histogram\": [{\"marker\": {\"colorbar\": {\"outlinewidth\": 0, \"ticks\": \"\"}}, \"type\": \"histogram\"}], \"histogram2d\": [{\"colorbar\": {\"outlinewidth\": 0, \"ticks\": \"\"}, \"colorscale\": [[0.0, \"#0d0887\"], [0.1111111111111111, \"#46039f\"], [0.2222222222222222, \"#7201a8\"], [0.3333333333333333, \"#9c179e\"], [0.4444444444444444, \"#bd3786\"], [0.5555555555555556, \"#d8576b\"], [0.6666666666666666, \"#ed7953\"], [0.7777777777777778, \"#fb9f3a\"], [0.8888888888888888, \"#fdca26\"], [1.0, \"#f0f921\"]], \"type\": \"histogram2d\"}], \"histogram2dcontour\": [{\"colorbar\": {\"outlinewidth\": 0, \"ticks\": \"\"}, \"colorscale\": [[0.0, \"#0d0887\"], [0.1111111111111111, \"#46039f\"], [0.2222222222222222, \"#7201a8\"], [0.3333333333333333, \"#9c179e\"], [0.4444444444444444, \"#bd3786\"], [0.5555555555555556, \"#d8576b\"], [0.6666666666666666, \"#ed7953\"], [0.7777777777777778, \"#fb9f3a\"], [0.8888888888888888, \"#fdca26\"], [1.0, \"#f0f921\"]], \"type\": \"histogram2dcontour\"}], \"mesh3d\": [{\"colorbar\": {\"outlinewidth\": 0, \"ticks\": \"\"}, \"type\": \"mesh3d\"}], \"parcoords\": [{\"line\": {\"colorbar\": {\"outlinewidth\": 0, \"ticks\": \"\"}}, \"type\": \"parcoords\"}], \"pie\": [{\"automargin\": true, \"type\": \"pie\"}], \"scatter\": [{\"marker\": {\"colorbar\": {\"outlinewidth\": 0, \"ticks\": \"\"}}, \"type\": \"scatter\"}], \"scatter3d\": [{\"line\": {\"colorbar\": {\"outlinewidth\": 0, \"ticks\": \"\"}}, \"marker\": {\"colorbar\": {\"outlinewidth\": 0, \"ticks\": \"\"}}, \"type\": \"scatter3d\"}], \"scattercarpet\": [{\"marker\": {\"colorbar\": {\"outlinewidth\": 0, \"ticks\": \"\"}}, \"type\": \"scattercarpet\"}], \"scattergeo\": [{\"marker\": {\"colorbar\": {\"outlinewidth\": 0, \"ticks\": \"\"}}, \"type\": \"scattergeo\"}], \"scattergl\": [{\"marker\": {\"colorbar\": {\"outlinewidth\": 0, \"ticks\": \"\"}}, \"type\": \"scattergl\"}], \"scattermapbox\": [{\"marker\": {\"colorbar\": {\"outlinewidth\": 0, \"ticks\": \"\"}}, \"type\": \"scattermapbox\"}], \"scatterpolar\": [{\"marker\": {\"colorbar\": {\"outlinewidth\": 0, \"ticks\": \"\"}}, \"type\": \"scatterpolar\"}], \"scatterpolargl\": [{\"marker\": {\"colorbar\": {\"outlinewidth\": 0, \"ticks\": \"\"}}, \"type\": \"scatterpolargl\"}], \"scatterternary\": [{\"marker\": {\"colorbar\": {\"outlinewidth\": 0, \"ticks\": \"\"}}, \"type\": \"scatterternary\"}], \"surface\": [{\"colorbar\": {\"outlinewidth\": 0, \"ticks\": \"\"}, \"colorscale\": [[0.0, \"#0d0887\"], [0.1111111111111111, \"#46039f\"], [0.2222222222222222, \"#7201a8\"], [0.3333333333333333, \"#9c179e\"], [0.4444444444444444, \"#bd3786\"], [0.5555555555555556, \"#d8576b\"], [0.6666666666666666, \"#ed7953\"], [0.7777777777777778, \"#fb9f3a\"], [0.8888888888888888, \"#fdca26\"], [1.0, \"#f0f921\"]], \"type\": \"surface\"}], \"table\": [{\"cells\": {\"fill\": {\"color\": \"#EBF0F8\"}, \"line\": {\"color\": \"white\"}}, \"header\": {\"fill\": {\"color\": \"#C8D4E3\"}, \"line\": {\"color\": \"white\"}}, \"type\": \"table\"}]}, \"layout\": {\"annotationdefaults\": {\"arrowcolor\": \"#2a3f5f\", \"arrowhead\": 0, \"arrowwidth\": 1}, \"coloraxis\": {\"colorbar\": {\"outlinewidth\": 0, \"ticks\": \"\"}}, \"colorscale\": {\"diverging\": [[0, \"#8e0152\"], [0.1, \"#c51b7d\"], [0.2, \"#de77ae\"], [0.3, \"#f1b6da\"], [0.4, \"#fde0ef\"], [0.5, \"#f7f7f7\"], [0.6, \"#e6f5d0\"], [0.7, \"#b8e186\"], [0.8, \"#7fbc41\"], [0.9, \"#4d9221\"], [1, \"#276419\"]], \"sequential\": [[0.0, \"#0d0887\"], [0.1111111111111111, \"#46039f\"], [0.2222222222222222, \"#7201a8\"], [0.3333333333333333, \"#9c179e\"], [0.4444444444444444, \"#bd3786\"], [0.5555555555555556, \"#d8576b\"], [0.6666666666666666, \"#ed7953\"], [0.7777777777777778, \"#fb9f3a\"], [0.8888888888888888, \"#fdca26\"], [1.0, \"#f0f921\"]], \"sequentialminus\": [[0.0, \"#0d0887\"], [0.1111111111111111, \"#46039f\"], [0.2222222222222222, \"#7201a8\"], [0.3333333333333333, \"#9c179e\"], [0.4444444444444444, \"#bd3786\"], [0.5555555555555556, \"#d8576b\"], [0.6666666666666666, \"#ed7953\"], [0.7777777777777778, \"#fb9f3a\"], [0.8888888888888888, \"#fdca26\"], [1.0, \"#f0f921\"]]}, \"colorway\": [\"#636efa\", \"#EF553B\", \"#00cc96\", \"#ab63fa\", \"#FFA15A\", \"#19d3f3\", \"#FF6692\", \"#B6E880\", \"#FF97FF\", \"#FECB52\"], \"font\": {\"color\": \"#2a3f5f\"}, \"geo\": {\"bgcolor\": \"white\", \"lakecolor\": \"white\", \"landcolor\": \"#E5ECF6\", \"showlakes\": true, \"showland\": true, \"subunitcolor\": \"white\"}, \"hoverlabel\": {\"align\": \"left\"}, \"hovermode\": \"closest\", \"mapbox\": {\"style\": \"light\"}, \"paper_bgcolor\": \"white\", \"plot_bgcolor\": \"#E5ECF6\", \"polar\": {\"angularaxis\": {\"gridcolor\": \"white\", \"linecolor\": \"white\", \"ticks\": \"\"}, \"bgcolor\": \"#E5ECF6\", \"radialaxis\": {\"gridcolor\": \"white\", \"linecolor\": \"white\", \"ticks\": \"\"}}, \"scene\": {\"xaxis\": {\"backgroundcolor\": \"#E5ECF6\", \"gridcolor\": \"white\", \"gridwidth\": 2, \"linecolor\": \"white\", \"showbackground\": true, \"ticks\": \"\", \"zerolinecolor\": \"white\"}, \"yaxis\": {\"backgroundcolor\": \"#E5ECF6\", \"gridcolor\": \"white\", \"gridwidth\": 2, \"linecolor\": \"white\", \"showbackground\": true, \"ticks\": \"\", \"zerolinecolor\": \"white\"}, \"zaxis\": {\"backgroundcolor\": \"#E5ECF6\", \"gridcolor\": \"white\", \"gridwidth\": 2, \"linecolor\": \"white\", \"showbackground\": true, \"ticks\": \"\", \"zerolinecolor\": \"white\"}}, \"shapedefaults\": {\"line\": {\"color\": \"#2a3f5f\"}}, \"ternary\": {\"aaxis\": {\"gridcolor\": \"white\", \"linecolor\": \"white\", \"ticks\": \"\"}, \"baxis\": {\"gridcolor\": \"white\", \"linecolor\": \"white\", \"ticks\": \"\"}, \"bgcolor\": \"#E5ECF6\", \"caxis\": {\"gridcolor\": \"white\", \"linecolor\": \"white\", \"ticks\": \"\"}}, \"title\": {\"x\": 0.05}, \"xaxis\": {\"automargin\": true, \"gridcolor\": \"white\", \"linecolor\": \"white\", \"ticks\": \"\", \"title\": {\"standoff\": 15}, \"zerolinecolor\": \"white\", \"zerolinewidth\": 2}, \"yaxis\": {\"automargin\": true, \"gridcolor\": \"white\", \"linecolor\": \"white\", \"ticks\": \"\", \"title\": {\"standoff\": 15}, \"zerolinecolor\": \"white\", \"zerolinewidth\": 2}}}},\n",
       "                        {\"responsive\": true}\n",
       "                    ).then(function(){\n",
       "                            \n",
       "var gd = document.getElementById('3a0314be-f1bf-461e-b7ba-e164d755f1d4');\n",
       "var x = new MutationObserver(function (mutations, observer) {{\n",
       "        var display = window.getComputedStyle(gd).display;\n",
       "        if (!display || display === 'none') {{\n",
       "            console.log([gd, 'removed!']);\n",
       "            Plotly.purge(gd);\n",
       "            observer.disconnect();\n",
       "        }}\n",
       "}});\n",
       "\n",
       "// Listen for the removal of the full notebook cells\n",
       "var notebookContainer = gd.closest('#notebook-container');\n",
       "if (notebookContainer) {{\n",
       "    x.observe(notebookContainer, {childList: true});\n",
       "}}\n",
       "\n",
       "// Listen for the clearing of the current output cell\n",
       "var outputEl = gd.closest('.output');\n",
       "if (outputEl) {{\n",
       "    x.observe(outputEl, {childList: true});\n",
       "}}\n",
       "\n",
       "                        })\n",
       "                };\n",
       "                });\n",
       "            </script>\n",
       "        </div>"
      ]
     },
     "metadata": {},
     "output_type": "display_data"
    }
   ],
   "source": [
    "import plotly.express as px\n",
    "fig = px.treemap(df1, path=['State', 'County'], values='Confirmed')\n",
    "fig.show()"
   ]
  }
 ],
 "metadata": {
  "kernelspec": {
   "display_name": "Python 3",
   "language": "python",
   "name": "python3"
  },
  "language_info": {
   "codemirror_mode": {
    "name": "ipython",
    "version": 3
   },
   "file_extension": ".py",
   "mimetype": "text/x-python",
   "name": "python",
   "nbconvert_exporter": "python",
   "pygments_lexer": "ipython3",
   "version": "3.6.10"
  }
 },
 "nbformat": 4,
 "nbformat_minor": 4
}
