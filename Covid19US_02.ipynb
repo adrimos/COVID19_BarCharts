{
 "cells": [
  {
   "cell_type": "code",
   "execution_count": 2,
   "metadata": {},
   "outputs": [],
   "source": [
    "# Setting up the environment.\n",
    "import numpy as np\n",
    "import pandas as pd\n",
    "import matplotlib.pyplot as plt\n",
    "import matplotlib as mpl\n",
    "import seaborn as sns\n",
    "from scipy import stats\n",
    "from matplotlib.ticker import FuncFormatter\n",
    "from cycler import cycler"
   ]
  },
  {
   "cell_type": "code",
   "execution_count": 3,
   "metadata": {},
   "outputs": [],
   "source": [
    "# Load the data from the John Hopkins github repo\n",
    "df = pd.read_csv('https://raw.githubusercontent.com/CSSEGISandData/COVID-19/master/csse_covid_19_data/csse_covid_19_daily_reports/03-24-2020.csv', index_col=0)\n",
    "latest = '3/24/20'"
   ]
  },
  {
   "cell_type": "code",
   "execution_count": 4,
   "metadata": {},
   "outputs": [
    {
     "data": {
      "text/html": [
       "<div>\n",
       "<style scoped>\n",
       "    .dataframe tbody tr th:only-of-type {\n",
       "        vertical-align: middle;\n",
       "    }\n",
       "\n",
       "    .dataframe tbody tr th {\n",
       "        vertical-align: top;\n",
       "    }\n",
       "\n",
       "    .dataframe thead th {\n",
       "        text-align: right;\n",
       "    }\n",
       "</style>\n",
       "<table border=\"1\" class=\"dataframe\">\n",
       "  <thead>\n",
       "    <tr style=\"text-align: right;\">\n",
       "      <th></th>\n",
       "      <th>Admin2</th>\n",
       "      <th>Province_State</th>\n",
       "      <th>Country_Region</th>\n",
       "      <th>Last_Update</th>\n",
       "      <th>Lat</th>\n",
       "      <th>Long_</th>\n",
       "      <th>Confirmed</th>\n",
       "      <th>Deaths</th>\n",
       "      <th>Recovered</th>\n",
       "      <th>Active</th>\n",
       "      <th>Combined_Key</th>\n",
       "    </tr>\n",
       "    <tr>\n",
       "      <th>FIPS</th>\n",
       "      <th></th>\n",
       "      <th></th>\n",
       "      <th></th>\n",
       "      <th></th>\n",
       "      <th></th>\n",
       "      <th></th>\n",
       "      <th></th>\n",
       "      <th></th>\n",
       "      <th></th>\n",
       "      <th></th>\n",
       "      <th></th>\n",
       "    </tr>\n",
       "  </thead>\n",
       "  <tbody>\n",
       "    <tr>\n",
       "      <th>45001.0</th>\n",
       "      <td>Abbeville</td>\n",
       "      <td>South Carolina</td>\n",
       "      <td>US</td>\n",
       "      <td>2020-03-24 23:37:31</td>\n",
       "      <td>34.223334</td>\n",
       "      <td>-82.461707</td>\n",
       "      <td>1</td>\n",
       "      <td>0</td>\n",
       "      <td>0</td>\n",
       "      <td>0</td>\n",
       "      <td>Abbeville, South Carolina, US</td>\n",
       "    </tr>\n",
       "    <tr>\n",
       "      <th>22001.0</th>\n",
       "      <td>Acadia</td>\n",
       "      <td>Louisiana</td>\n",
       "      <td>US</td>\n",
       "      <td>2020-03-24 23:37:31</td>\n",
       "      <td>30.295065</td>\n",
       "      <td>-92.414197</td>\n",
       "      <td>2</td>\n",
       "      <td>0</td>\n",
       "      <td>0</td>\n",
       "      <td>0</td>\n",
       "      <td>Acadia, Louisiana, US</td>\n",
       "    </tr>\n",
       "    <tr>\n",
       "      <th>51001.0</th>\n",
       "      <td>Accomack</td>\n",
       "      <td>Virginia</td>\n",
       "      <td>US</td>\n",
       "      <td>2020-03-24 23:37:31</td>\n",
       "      <td>37.767072</td>\n",
       "      <td>-75.632346</td>\n",
       "      <td>1</td>\n",
       "      <td>0</td>\n",
       "      <td>0</td>\n",
       "      <td>0</td>\n",
       "      <td>Accomack, Virginia, US</td>\n",
       "    </tr>\n",
       "    <tr>\n",
       "      <th>16001.0</th>\n",
       "      <td>Ada</td>\n",
       "      <td>Idaho</td>\n",
       "      <td>US</td>\n",
       "      <td>2020-03-24 23:37:31</td>\n",
       "      <td>43.452658</td>\n",
       "      <td>-116.241552</td>\n",
       "      <td>19</td>\n",
       "      <td>0</td>\n",
       "      <td>0</td>\n",
       "      <td>0</td>\n",
       "      <td>Ada, Idaho, US</td>\n",
       "    </tr>\n",
       "    <tr>\n",
       "      <th>19001.0</th>\n",
       "      <td>Adair</td>\n",
       "      <td>Iowa</td>\n",
       "      <td>US</td>\n",
       "      <td>2020-03-24 23:37:31</td>\n",
       "      <td>41.330756</td>\n",
       "      <td>-94.471059</td>\n",
       "      <td>1</td>\n",
       "      <td>0</td>\n",
       "      <td>0</td>\n",
       "      <td>0</td>\n",
       "      <td>Adair, Iowa, US</td>\n",
       "    </tr>\n",
       "  </tbody>\n",
       "</table>\n",
       "</div>"
      ],
      "text/plain": [
       "            Admin2  Province_State Country_Region          Last_Update  \\\n",
       "FIPS                                                                     \n",
       "45001.0  Abbeville  South Carolina             US  2020-03-24 23:37:31   \n",
       "22001.0     Acadia       Louisiana             US  2020-03-24 23:37:31   \n",
       "51001.0   Accomack        Virginia             US  2020-03-24 23:37:31   \n",
       "16001.0        Ada           Idaho             US  2020-03-24 23:37:31   \n",
       "19001.0      Adair            Iowa             US  2020-03-24 23:37:31   \n",
       "\n",
       "               Lat       Long_  Confirmed  Deaths  Recovered  Active  \\\n",
       "FIPS                                                                   \n",
       "45001.0  34.223334  -82.461707          1       0          0       0   \n",
       "22001.0  30.295065  -92.414197          2       0          0       0   \n",
       "51001.0  37.767072  -75.632346          1       0          0       0   \n",
       "16001.0  43.452658 -116.241552         19       0          0       0   \n",
       "19001.0  41.330756  -94.471059          1       0          0       0   \n",
       "\n",
       "                          Combined_Key  \n",
       "FIPS                                    \n",
       "45001.0  Abbeville, South Carolina, US  \n",
       "22001.0          Acadia, Louisiana, US  \n",
       "51001.0         Accomack, Virginia, US  \n",
       "16001.0                 Ada, Idaho, US  \n",
       "19001.0                Adair, Iowa, US  "
      ]
     },
     "execution_count": 4,
     "metadata": {},
     "output_type": "execute_result"
    }
   ],
   "source": [
    "df.head(5)"
   ]
  },
  {
   "cell_type": "code",
   "execution_count": 5,
   "metadata": {},
   "outputs": [
    {
     "data": {
      "text/html": [
       "<div>\n",
       "<style scoped>\n",
       "    .dataframe tbody tr th:only-of-type {\n",
       "        vertical-align: middle;\n",
       "    }\n",
       "\n",
       "    .dataframe tbody tr th {\n",
       "        vertical-align: top;\n",
       "    }\n",
       "\n",
       "    .dataframe thead th {\n",
       "        text-align: right;\n",
       "    }\n",
       "</style>\n",
       "<table border=\"1\" class=\"dataframe\">\n",
       "  <thead>\n",
       "    <tr style=\"text-align: right;\">\n",
       "      <th></th>\n",
       "      <th>FIPS</th>\n",
       "      <th>County</th>\n",
       "      <th>State</th>\n",
       "      <th>Country</th>\n",
       "      <th>Confirmed</th>\n",
       "      <th>Deaths</th>\n",
       "      <th>County/State</th>\n",
       "    </tr>\n",
       "  </thead>\n",
       "  <tbody>\n",
       "    <tr>\n",
       "      <th>0</th>\n",
       "      <td>1001.0</td>\n",
       "      <td>Autauga</td>\n",
       "      <td>Alabama</td>\n",
       "      <td>US</td>\n",
       "      <td>1</td>\n",
       "      <td>0</td>\n",
       "      <td>Autauga, Alabama</td>\n",
       "    </tr>\n",
       "    <tr>\n",
       "      <th>1</th>\n",
       "      <td>1059.0</td>\n",
       "      <td>Franklin</td>\n",
       "      <td>Alabama</td>\n",
       "      <td>US</td>\n",
       "      <td>1</td>\n",
       "      <td>0</td>\n",
       "      <td>Franklin, Alabama</td>\n",
       "    </tr>\n",
       "    <tr>\n",
       "      <th>2</th>\n",
       "      <td>1069.0</td>\n",
       "      <td>Houston</td>\n",
       "      <td>Alabama</td>\n",
       "      <td>US</td>\n",
       "      <td>1</td>\n",
       "      <td>0</td>\n",
       "      <td>Houston, Alabama</td>\n",
       "    </tr>\n",
       "    <tr>\n",
       "      <th>3</th>\n",
       "      <td>1075.0</td>\n",
       "      <td>Lamar</td>\n",
       "      <td>Alabama</td>\n",
       "      <td>US</td>\n",
       "      <td>1</td>\n",
       "      <td>0</td>\n",
       "      <td>Lamar, Alabama</td>\n",
       "    </tr>\n",
       "    <tr>\n",
       "      <th>4</th>\n",
       "      <td>1093.0</td>\n",
       "      <td>Marion</td>\n",
       "      <td>Alabama</td>\n",
       "      <td>US</td>\n",
       "      <td>1</td>\n",
       "      <td>0</td>\n",
       "      <td>Marion, Alabama</td>\n",
       "    </tr>\n",
       "  </tbody>\n",
       "</table>\n",
       "</div>"
      ],
      "text/plain": [
       "     FIPS    County    State Country  Confirmed  Deaths       County/State\n",
       "0  1001.0   Autauga  Alabama      US          1       0   Autauga, Alabama\n",
       "1  1059.0  Franklin  Alabama      US          1       0  Franklin, Alabama\n",
       "2  1069.0   Houston  Alabama      US          1       0   Houston, Alabama\n",
       "3  1075.0     Lamar  Alabama      US          1       0     Lamar, Alabama\n",
       "4  1093.0    Marion  Alabama      US          1       0    Marion, Alabama"
      ]
     },
     "execution_count": 5,
     "metadata": {},
     "output_type": "execute_result"
    }
   ],
   "source": [
    "# Dropping some columns and sorting\n",
    "\n",
    "df1 = df[[\"Admin2\", \"Province_State\", \"Country_Region\", \"Confirmed\", \"Deaths\", \"Combined_Key\"]] #getting the columns I want\n",
    "df1 = df1[df1['Confirmed'] !=0] #dropping States with 0 confirmed\n",
    "df1 = df1[(df1[\"Country_Region\"] == \"US\")] #dropping countries other than the US\n",
    "df1 = df1.sort_values(by=['Province_State','Confirmed'], ascending=True) #sorting by State and then Confirmed\n",
    "df1 = df1.dropna() #dropping NA values\n",
    "df1 = df1[df1.Province_State != 'Wuhan Evacuee'] #dropping this row because it is not US\n",
    "df1['Combined_Key'] = df1['Combined_Key'].str.replace(r', US', '') #removing US from Combined key so it looks better in the hover text\n",
    "#df1 = df1.groupby(['Province_State'])\n",
    "df1 = df1.reset_index() #resetting index so FIPS is not the index\n",
    "df1 = df1.rename(columns={'Province_State': 'State'})\n",
    "df1 = df1.rename(columns={'Admin2': 'County'})\n",
    "df1 = df1.rename(columns={'Country_Region': 'Country'})\n",
    "df1 = df1.rename(columns={'Combined_Key': 'County/State'})\n",
    "df1.head(5)\n",
    "#df1.shape"
   ]
  },
  {
   "cell_type": "code",
   "execution_count": 230,
   "metadata": {
    "collapsed": true,
    "jupyter": {
     "outputs_hidden": true,
     "source_hidden": true
    }
   },
   "outputs": [
    {
     "data": {
      "text/html": [
       "<div>\n",
       "<style scoped>\n",
       "    .dataframe tbody tr th:only-of-type {\n",
       "        vertical-align: middle;\n",
       "    }\n",
       "\n",
       "    .dataframe tbody tr th {\n",
       "        vertical-align: top;\n",
       "    }\n",
       "\n",
       "    .dataframe thead th {\n",
       "        text-align: right;\n",
       "    }\n",
       "</style>\n",
       "<table border=\"1\" class=\"dataframe\">\n",
       "  <thead>\n",
       "    <tr style=\"text-align: right;\">\n",
       "      <th></th>\n",
       "      <th>Province_State</th>\n",
       "      <th>Total Confirmed</th>\n",
       "      <th>Total Deaths</th>\n",
       "    </tr>\n",
       "  </thead>\n",
       "  <tbody>\n",
       "    <tr>\n",
       "      <th>32</th>\n",
       "      <td>New York</td>\n",
       "      <td>25681</td>\n",
       "      <td>171</td>\n",
       "    </tr>\n",
       "    <tr>\n",
       "      <th>30</th>\n",
       "      <td>New Jersey</td>\n",
       "      <td>3675</td>\n",
       "      <td>44</td>\n",
       "    </tr>\n",
       "    <tr>\n",
       "      <th>4</th>\n",
       "      <td>California</td>\n",
       "      <td>2538</td>\n",
       "      <td>50</td>\n",
       "    </tr>\n",
       "    <tr>\n",
       "      <th>47</th>\n",
       "      <td>Washington</td>\n",
       "      <td>2328</td>\n",
       "      <td>116</td>\n",
       "    </tr>\n",
       "    <tr>\n",
       "      <th>22</th>\n",
       "      <td>Michigan</td>\n",
       "      <td>1793</td>\n",
       "      <td>24</td>\n",
       "    </tr>\n",
       "  </tbody>\n",
       "</table>\n",
       "</div>"
      ],
      "text/plain": [
       "   Province_State  Total Confirmed  Total Deaths\n",
       "32       New York            25681           171\n",
       "30     New Jersey             3675            44\n",
       "4      California             2538            50\n",
       "47     Washington             2328           116\n",
       "22       Michigan             1793            24"
      ]
     },
     "execution_count": 230,
     "metadata": {},
     "output_type": "execute_result"
    }
   ],
   "source": [
    "df2 = df1.groupby(['Province_State']).sum()\n",
    "df2 = df2.rename(columns={'Confirmed': 'Total Confirmed'})\n",
    "df2 = df2.rename(columns={'Deaths': 'Total Deaths'})\n",
    "df2 = df2.reset_index()\n",
    "#df2 = df2[df['Confirmed'] > 20]\n",
    "df2 = df2.sort_values(by=['Total Confirmed', 'Province_State'], ascending=False)\n",
    "df2.head(5)"
   ]
  },
  {
   "cell_type": "code",
   "execution_count": 229,
   "metadata": {
    "collapsed": true,
    "jupyter": {
     "outputs_hidden": true,
     "source_hidden": true
    }
   },
   "outputs": [
    {
     "data": {
      "text/html": [
       "<div>\n",
       "<style scoped>\n",
       "    .dataframe tbody tr th:only-of-type {\n",
       "        vertical-align: middle;\n",
       "    }\n",
       "\n",
       "    .dataframe tbody tr th {\n",
       "        vertical-align: top;\n",
       "    }\n",
       "\n",
       "    .dataframe thead th {\n",
       "        text-align: right;\n",
       "    }\n",
       "</style>\n",
       "<table border=\"1\" class=\"dataframe\">\n",
       "  <thead>\n",
       "    <tr style=\"text-align: right;\">\n",
       "      <th></th>\n",
       "      <th>Admin2</th>\n",
       "      <th>Province_State</th>\n",
       "      <th>Country_Region</th>\n",
       "      <th>Confirmed</th>\n",
       "      <th>Deaths</th>\n",
       "      <th>Combined_Key</th>\n",
       "      <th>Total Confirmed</th>\n",
       "      <th>Total Deaths</th>\n",
       "    </tr>\n",
       "  </thead>\n",
       "  <tbody>\n",
       "    <tr>\n",
       "      <th>1001.0</th>\n",
       "      <td>Autauga</td>\n",
       "      <td>Alabama</td>\n",
       "      <td>US</td>\n",
       "      <td>1.0</td>\n",
       "      <td>0.0</td>\n",
       "      <td>Autauga, Alabama, US</td>\n",
       "      <td>NaN</td>\n",
       "      <td>NaN</td>\n",
       "    </tr>\n",
       "    <tr>\n",
       "      <th>1059.0</th>\n",
       "      <td>Franklin</td>\n",
       "      <td>Alabama</td>\n",
       "      <td>US</td>\n",
       "      <td>1.0</td>\n",
       "      <td>0.0</td>\n",
       "      <td>Franklin, Alabama, US</td>\n",
       "      <td>NaN</td>\n",
       "      <td>NaN</td>\n",
       "    </tr>\n",
       "    <tr>\n",
       "      <th>1069.0</th>\n",
       "      <td>Houston</td>\n",
       "      <td>Alabama</td>\n",
       "      <td>US</td>\n",
       "      <td>1.0</td>\n",
       "      <td>0.0</td>\n",
       "      <td>Houston, Alabama, US</td>\n",
       "      <td>NaN</td>\n",
       "      <td>NaN</td>\n",
       "    </tr>\n",
       "    <tr>\n",
       "      <th>1075.0</th>\n",
       "      <td>Lamar</td>\n",
       "      <td>Alabama</td>\n",
       "      <td>US</td>\n",
       "      <td>1.0</td>\n",
       "      <td>0.0</td>\n",
       "      <td>Lamar, Alabama, US</td>\n",
       "      <td>NaN</td>\n",
       "      <td>NaN</td>\n",
       "    </tr>\n",
       "    <tr>\n",
       "      <th>1093.0</th>\n",
       "      <td>Marion</td>\n",
       "      <td>Alabama</td>\n",
       "      <td>US</td>\n",
       "      <td>1.0</td>\n",
       "      <td>0.0</td>\n",
       "      <td>Marion, Alabama, US</td>\n",
       "      <td>NaN</td>\n",
       "      <td>NaN</td>\n",
       "    </tr>\n",
       "  </tbody>\n",
       "</table>\n",
       "</div>"
      ],
      "text/plain": [
       "          Admin2 Province_State Country_Region  Confirmed  Deaths  \\\n",
       "1001.0   Autauga        Alabama             US        1.0     0.0   \n",
       "1059.0  Franklin        Alabama             US        1.0     0.0   \n",
       "1069.0   Houston        Alabama             US        1.0     0.0   \n",
       "1075.0     Lamar        Alabama             US        1.0     0.0   \n",
       "1093.0    Marion        Alabama             US        1.0     0.0   \n",
       "\n",
       "                 Combined_Key  Total Confirmed  Total Deaths  \n",
       "1001.0   Autauga, Alabama, US              NaN           NaN  \n",
       "1059.0  Franklin, Alabama, US              NaN           NaN  \n",
       "1069.0   Houston, Alabama, US              NaN           NaN  \n",
       "1075.0     Lamar, Alabama, US              NaN           NaN  \n",
       "1093.0    Marion, Alabama, US              NaN           NaN  "
      ]
     },
     "execution_count": 229,
     "metadata": {},
     "output_type": "execute_result"
    }
   ],
   "source": [
    "frames = [df1, df2]\n",
    "#df3 = pd.concat([df1, df2], axis=0, sort=False)\n",
    "df3 = pd.concat(frames)\n",
    "df3.head(5)"
   ]
  },
  {
   "cell_type": "code",
   "execution_count": 219,
   "metadata": {
    "collapsed": true,
    "jupyter": {
     "outputs_hidden": true,
     "source_hidden": true
    }
   },
   "outputs": [
    {
     "data": {
      "text/html": [
       "<div>\n",
       "<style scoped>\n",
       "    .dataframe tbody tr th:only-of-type {\n",
       "        vertical-align: middle;\n",
       "    }\n",
       "\n",
       "    .dataframe tbody tr th {\n",
       "        vertical-align: top;\n",
       "    }\n",
       "\n",
       "    .dataframe thead th {\n",
       "        text-align: right;\n",
       "    }\n",
       "</style>\n",
       "<table border=\"1\" class=\"dataframe\">\n",
       "  <thead>\n",
       "    <tr style=\"text-align: right;\">\n",
       "      <th></th>\n",
       "      <th>Admin2</th>\n",
       "      <th>Province_State</th>\n",
       "      <th>Country_Region</th>\n",
       "      <th>Confirmed</th>\n",
       "      <th>Deaths</th>\n",
       "      <th>Combined_Key</th>\n",
       "    </tr>\n",
       "    <tr>\n",
       "      <th>FIPS</th>\n",
       "      <th></th>\n",
       "      <th></th>\n",
       "      <th></th>\n",
       "      <th></th>\n",
       "      <th></th>\n",
       "      <th></th>\n",
       "    </tr>\n",
       "  </thead>\n",
       "  <tbody>\n",
       "  </tbody>\n",
       "</table>\n",
       "</div>"
      ],
      "text/plain": [
       "Empty DataFrame\n",
       "Columns: [Admin2, Province_State, Country_Region, Confirmed, Deaths, Combined_Key]\n",
       "Index: []"
      ]
     },
     "execution_count": 219,
     "metadata": {},
     "output_type": "execute_result"
    }
   ],
   "source": [
    "dd = df1.loc[df1['Province_State']=='Wuhan Evacuee'] \n",
    "dd.head()"
   ]
  },
  {
   "cell_type": "code",
   "execution_count": 216,
   "metadata": {
    "collapsed": true,
    "jupyter": {
     "outputs_hidden": true,
     "source_hidden": true
    }
   },
   "outputs": [
    {
     "data": {
      "text/html": [
       "<div>\n",
       "<style scoped>\n",
       "    .dataframe tbody tr th:only-of-type {\n",
       "        vertical-align: middle;\n",
       "    }\n",
       "\n",
       "    .dataframe tbody tr th {\n",
       "        vertical-align: top;\n",
       "    }\n",
       "\n",
       "    .dataframe thead th {\n",
       "        text-align: right;\n",
       "    }\n",
       "</style>\n",
       "<table border=\"1\" class=\"dataframe\">\n",
       "  <thead>\n",
       "    <tr style=\"text-align: right;\">\n",
       "      <th></th>\n",
       "      <th>Admin2</th>\n",
       "      <th>Province_State</th>\n",
       "      <th>Country_Region</th>\n",
       "      <th>Last_Update</th>\n",
       "      <th>Lat</th>\n",
       "      <th>Long_</th>\n",
       "      <th>Confirmed</th>\n",
       "      <th>Deaths</th>\n",
       "      <th>Recovered</th>\n",
       "      <th>Active</th>\n",
       "      <th>Combined_Key</th>\n",
       "    </tr>\n",
       "    <tr>\n",
       "      <th>FIPS</th>\n",
       "      <th></th>\n",
       "      <th></th>\n",
       "      <th></th>\n",
       "      <th></th>\n",
       "      <th></th>\n",
       "      <th></th>\n",
       "      <th></th>\n",
       "      <th></th>\n",
       "      <th></th>\n",
       "      <th></th>\n",
       "      <th></th>\n",
       "    </tr>\n",
       "  </thead>\n",
       "  <tbody>\n",
       "    <tr>\n",
       "      <th>36001.0</th>\n",
       "      <td>Albany</td>\n",
       "      <td>New York</td>\n",
       "      <td>US</td>\n",
       "      <td>2020-03-24 23:37:31</td>\n",
       "      <td>42.600603</td>\n",
       "      <td>-73.977239</td>\n",
       "      <td>146</td>\n",
       "      <td>0</td>\n",
       "      <td>0</td>\n",
       "      <td>0</td>\n",
       "      <td>Albany, New York, US</td>\n",
       "    </tr>\n",
       "    <tr>\n",
       "      <th>36003.0</th>\n",
       "      <td>Allegany</td>\n",
       "      <td>New York</td>\n",
       "      <td>US</td>\n",
       "      <td>2020-03-24 23:37:31</td>\n",
       "      <td>42.257484</td>\n",
       "      <td>-78.027505</td>\n",
       "      <td>2</td>\n",
       "      <td>0</td>\n",
       "      <td>0</td>\n",
       "      <td>0</td>\n",
       "      <td>Allegany, New York, US</td>\n",
       "    </tr>\n",
       "    <tr>\n",
       "      <th>36005.0</th>\n",
       "      <td>Bronx</td>\n",
       "      <td>New York</td>\n",
       "      <td>US</td>\n",
       "      <td>2020-03-24 23:37:31</td>\n",
       "      <td>40.852093</td>\n",
       "      <td>-73.862828</td>\n",
       "      <td>0</td>\n",
       "      <td>0</td>\n",
       "      <td>0</td>\n",
       "      <td>0</td>\n",
       "      <td>Bronx, New York, US</td>\n",
       "    </tr>\n",
       "    <tr>\n",
       "      <th>36007.0</th>\n",
       "      <td>Broome</td>\n",
       "      <td>New York</td>\n",
       "      <td>US</td>\n",
       "      <td>2020-03-24 23:37:31</td>\n",
       "      <td>42.159032</td>\n",
       "      <td>-75.813261</td>\n",
       "      <td>9</td>\n",
       "      <td>1</td>\n",
       "      <td>0</td>\n",
       "      <td>0</td>\n",
       "      <td>Broome, New York, US</td>\n",
       "    </tr>\n",
       "    <tr>\n",
       "      <th>36009.0</th>\n",
       "      <td>Cattaraugus</td>\n",
       "      <td>New York</td>\n",
       "      <td>US</td>\n",
       "      <td>2020-03-24 23:37:31</td>\n",
       "      <td>42.247782</td>\n",
       "      <td>-78.679231</td>\n",
       "      <td>0</td>\n",
       "      <td>0</td>\n",
       "      <td>0</td>\n",
       "      <td>0</td>\n",
       "      <td>Cattaraugus, New York, US</td>\n",
       "    </tr>\n",
       "  </tbody>\n",
       "</table>\n",
       "</div>"
      ],
      "text/plain": [
       "              Admin2 Province_State Country_Region          Last_Update  \\\n",
       "FIPS                                                                      \n",
       "36001.0       Albany       New York             US  2020-03-24 23:37:31   \n",
       "36003.0     Allegany       New York             US  2020-03-24 23:37:31   \n",
       "36005.0        Bronx       New York             US  2020-03-24 23:37:31   \n",
       "36007.0       Broome       New York             US  2020-03-24 23:37:31   \n",
       "36009.0  Cattaraugus       New York             US  2020-03-24 23:37:31   \n",
       "\n",
       "               Lat      Long_  Confirmed  Deaths  Recovered  Active  \\\n",
       "FIPS                                                                  \n",
       "36001.0  42.600603 -73.977239        146       0          0       0   \n",
       "36003.0  42.257484 -78.027505          2       0          0       0   \n",
       "36005.0  40.852093 -73.862828          0       0          0       0   \n",
       "36007.0  42.159032 -75.813261          9       1          0       0   \n",
       "36009.0  42.247782 -78.679231          0       0          0       0   \n",
       "\n",
       "                      Combined_Key  \n",
       "FIPS                                \n",
       "36001.0       Albany, New York, US  \n",
       "36003.0     Allegany, New York, US  \n",
       "36005.0        Bronx, New York, US  \n",
       "36007.0       Broome, New York, US  \n",
       "36009.0  Cattaraugus, New York, US  "
      ]
     },
     "execution_count": 216,
     "metadata": {},
     "output_type": "execute_result"
    }
   ],
   "source": [
    "dftop = df.loc[df['Province_State']=='New York']\n",
    "#dftop = df.loc[df['Province_State']=='New York', 'New Jersey', 'California', 'Washington', 'Michigan']\n",
    "#dftop = df2[(df2['Province_State'] == 'New York') & (df2['Province_State'] == 'New Jersey')]\n",
    "#print(dfwa['Confirmed'].sum())\n",
    "watotal = dfwa[dfwa['Province_State']=='Washington']['Confirmed'].sum()\n",
    "#print(watotal)\n",
    "dftop.head(5)"
   ]
  },
  {
   "cell_type": "code",
   "execution_count": 17,
   "metadata": {},
   "outputs": [
    {
     "data": {
      "application/vnd.plotly.v1+json": {
       "config": {
        "plotlyServerURL": "https://plot.ly"
       },
       "data": [
        {
         "alignmentgroup": "True",
         "customdata": [
          [
           1,
           0
          ],
          [
           1,
           0
          ],
          [
           1,
           0
          ],
          [
           1,
           0
          ],
          [
           1,
           0
          ],
          [
           1,
           0
          ],
          [
           2,
           0
          ],
          [
           2,
           0
          ],
          [
           2,
           0
          ],
          [
           2,
           0
          ],
          [
           2,
           0
          ],
          [
           3,
           0
          ],
          [
           3,
           0
          ],
          [
           4,
           0
          ],
          [
           4,
           0
          ],
          [
           4,
           0
          ],
          [
           5,
           0
          ],
          [
           5,
           0
          ],
          [
           6,
           0
          ],
          [
           8,
           0
          ],
          [
           9,
           0
          ],
          [
           10,
           0
          ],
          [
           21,
           0
          ],
          [
           26,
           0
          ],
          [
           27,
           0
          ],
          [
           91,
           0
          ]
         ],
         "hoverlabel": {
          "namelength": 0
         },
         "hovertemplate": "<b>%{hovertext}</b><br><br>State=%{y}<br>Confirmed=%{text}<br>Deaths=%{customdata[1]}",
         "hovertext": [
          "Autauga",
          "Franklin",
          "Houston",
          "Lamar",
          "Marion",
          "Washington",
          "Calhoun",
          "Jackson",
          "Morgan",
          "Talladega",
          "Tallapoosa",
          "Cullman",
          "Lauderdale",
          "Baldwin",
          "Limestone",
          "St. Clair",
          "Chambers",
          "Walker",
          "Mobile",
          "Elmore",
          "Montgomery",
          "Tuscaloosa",
          "Madison",
          "Lee",
          "Shelby",
          "Jefferson"
         ],
         "legendgroup": "Alabama",
         "marker": {
          "color": "#636efa"
         },
         "name": "Alabama",
         "offsetgroup": "Alabama",
         "orientation": "h",
         "showlegend": true,
         "text": [
          1,
          1,
          1,
          1,
          1,
          1,
          2,
          2,
          2,
          2,
          2,
          3,
          3,
          4,
          4,
          4,
          5,
          5,
          6,
          8,
          9,
          10,
          21,
          26,
          27,
          91
         ],
         "textposition": "inside",
         "texttemplate": "%{text:.2s}",
         "type": "bar",
         "x": [
          1,
          1,
          1,
          1,
          1,
          1,
          2,
          2,
          2,
          2,
          2,
          3,
          3,
          4,
          4,
          4,
          5,
          5,
          6,
          8,
          9,
          10,
          21,
          26,
          27,
          91
         ],
         "xaxis": "x",
         "y": [
          "Alabama",
          "Alabama",
          "Alabama",
          "Alabama",
          "Alabama",
          "Alabama",
          "Alabama",
          "Alabama",
          "Alabama",
          "Alabama",
          "Alabama",
          "Alabama",
          "Alabama",
          "Alabama",
          "Alabama",
          "Alabama",
          "Alabama",
          "Alabama",
          "Alabama",
          "Alabama",
          "Alabama",
          "Alabama",
          "Alabama",
          "Alabama",
          "Alabama",
          "Alabama"
         ],
         "yaxis": "y"
        },
        {
         "alignmentgroup": "True",
         "customdata": [
          [
           1,
           0
          ],
          [
           3,
           0
          ],
          [
           6,
           0
          ],
          [
           7,
           0
          ],
          [
           17,
           0
          ]
         ],
         "hoverlabel": {
          "namelength": 0
         },
         "hovertemplate": "<b>%{hovertext}</b><br><br>State=%{y}<br>Confirmed=%{text}<br>Deaths=%{customdata[1]}",
         "hovertext": [
          "Juneau",
          "Kenai Peninsula",
          "Ketchikan Gateway",
          "Fairbanks North Star",
          "Anchorage"
         ],
         "legendgroup": "Alaska",
         "marker": {
          "color": "#EF553B"
         },
         "name": "Alaska",
         "offsetgroup": "Alaska",
         "orientation": "h",
         "showlegend": true,
         "text": [
          1,
          3,
          6,
          7,
          17
         ],
         "textposition": "inside",
         "texttemplate": "%{text:.2s}",
         "type": "bar",
         "x": [
          1,
          3,
          6,
          7,
          17
         ],
         "xaxis": "x",
         "y": [
          "Alaska",
          "Alaska",
          "Alaska",
          "Alaska",
          "Alaska"
         ],
         "yaxis": "y"
        },
        {
         "alignmentgroup": "True",
         "customdata": [
          [
           1,
           0
          ],
          [
           1,
           0
          ],
          [
           2,
           0
          ],
          [
           2,
           0
          ],
          [
           3,
           0
          ],
          [
           4,
           0
          ],
          [
           18,
           0
          ],
          [
           22,
           0
          ],
          [
           32,
           0
          ],
          [
           42,
           1
          ],
          [
           199,
           2
          ]
         ],
         "hoverlabel": {
          "namelength": 0
         },
         "hovertemplate": "<b>%{hovertext}</b><br><br>State=%{y}<br>Confirmed=%{text}<br>Deaths=%{customdata[1]}",
         "hovertext": [
          "Cochise",
          "Santa Cruz",
          "Graham",
          "Yuma",
          "Yavapai",
          "Apache",
          "Coconino",
          "Pinal",
          "Navajo",
          "Pima",
          "Maricopa"
         ],
         "legendgroup": "Arizona",
         "marker": {
          "color": "#00cc96"
         },
         "name": "Arizona",
         "offsetgroup": "Arizona",
         "orientation": "h",
         "showlegend": true,
         "text": [
          1,
          1,
          2,
          2,
          3,
          4,
          18,
          22,
          32,
          42,
          199
         ],
         "textposition": "inside",
         "texttemplate": "%{text:.2s}",
         "type": "bar",
         "x": [
          1,
          1,
          2,
          2,
          3,
          4,
          18,
          22,
          32,
          42,
          199
         ],
         "xaxis": "x",
         "y": [
          "Arizona",
          "Arizona",
          "Arizona",
          "Arizona",
          "Arizona",
          "Arizona",
          "Arizona",
          "Arizona",
          "Arizona",
          "Arizona",
          "Arizona"
         ],
         "yaxis": "y"
        },
        {
         "alignmentgroup": "True",
         "customdata": [
          [
           1,
           0
          ],
          [
           1,
           0
          ],
          [
           1,
           0
          ],
          [
           1,
           0
          ],
          [
           1,
           0
          ],
          [
           1,
           0
          ],
          [
           1,
           0
          ],
          [
           1,
           0
          ],
          [
           1,
           0
          ],
          [
           1,
           0
          ],
          [
           1,
           0
          ],
          [
           1,
           0
          ],
          [
           1,
           0
          ],
          [
           1,
           0
          ],
          [
           1,
           0
          ],
          [
           1,
           0
          ],
          [
           1,
           0
          ],
          [
           1,
           0
          ],
          [
           1,
           0
          ],
          [
           2,
           0
          ],
          [
           2,
           0
          ],
          [
           2,
           0
          ],
          [
           3,
           0
          ],
          [
           3,
           0
          ],
          [
           3,
           0
          ],
          [
           3,
           0
          ],
          [
           4,
           0
          ],
          [
           4,
           0
          ],
          [
           4,
           0
          ],
          [
           5,
           0
          ],
          [
           5,
           0
          ],
          [
           6,
           0
          ],
          [
           10,
           0
          ],
          [
           13,
           1
          ],
          [
           14,
           0
          ],
          [
           21,
           0
          ],
          [
           32,
           1
          ],
          [
           64,
           0
          ]
         ],
         "hoverlabel": {
          "namelength": 0
         },
         "hovertemplate": "<b>%{hovertext}</b><br><br>State=%{y}<br>Confirmed=%{text}<br>Deaths=%{customdata[1]}",
         "hovertext": [
          "Benton",
          "Boone",
          "Columbia",
          "Conway",
          "Crawford",
          "Crittenden",
          "Cross",
          "Greene",
          "Hempstead",
          "Lawrence",
          "Pike",
          "Polk",
          "Pope",
          "Sebastian",
          "Sevier",
          "Stone",
          "Union",
          "White",
          "Woodruff",
          "Desha",
          "Lincoln",
          "Searcy",
          "Cleveland",
          "Grant",
          "Independence",
          "Poinsett",
          "Bradley",
          "Craighead",
          "Saline",
          "Van Buren",
          "Washington",
          "Clark",
          "Garland",
          "Unassigned",
          "Faulkner",
          "Jefferson",
          "Cleburne",
          "Pulaski"
         ],
         "legendgroup": "Arkansas",
         "marker": {
          "color": "#ab63fa"
         },
         "name": "Arkansas",
         "offsetgroup": "Arkansas",
         "orientation": "h",
         "showlegend": true,
         "text": [
          1,
          1,
          1,
          1,
          1,
          1,
          1,
          1,
          1,
          1,
          1,
          1,
          1,
          1,
          1,
          1,
          1,
          1,
          1,
          2,
          2,
          2,
          3,
          3,
          3,
          3,
          4,
          4,
          4,
          5,
          5,
          6,
          10,
          13,
          14,
          21,
          32,
          64
         ],
         "textposition": "inside",
         "texttemplate": "%{text:.2s}",
         "type": "bar",
         "x": [
          1,
          1,
          1,
          1,
          1,
          1,
          1,
          1,
          1,
          1,
          1,
          1,
          1,
          1,
          1,
          1,
          1,
          1,
          1,
          2,
          2,
          2,
          3,
          3,
          3,
          3,
          4,
          4,
          4,
          5,
          5,
          6,
          10,
          13,
          14,
          21,
          32,
          64
         ],
         "xaxis": "x",
         "y": [
          "Arkansas",
          "Arkansas",
          "Arkansas",
          "Arkansas",
          "Arkansas",
          "Arkansas",
          "Arkansas",
          "Arkansas",
          "Arkansas",
          "Arkansas",
          "Arkansas",
          "Arkansas",
          "Arkansas",
          "Arkansas",
          "Arkansas",
          "Arkansas",
          "Arkansas",
          "Arkansas",
          "Arkansas",
          "Arkansas",
          "Arkansas",
          "Arkansas",
          "Arkansas",
          "Arkansas",
          "Arkansas",
          "Arkansas",
          "Arkansas",
          "Arkansas",
          "Arkansas",
          "Arkansas",
          "Arkansas",
          "Arkansas",
          "Arkansas",
          "Arkansas",
          "Arkansas",
          "Arkansas",
          "Arkansas",
          "Arkansas"
         ],
         "yaxis": "y"
        },
        {
         "alignmentgroup": "True",
         "customdata": [
          [
           1,
           0
          ],
          [
           1,
           0
          ],
          [
           2,
           0
          ],
          [
           2,
           0
          ],
          [
           2,
           0
          ],
          [
           2,
           0
          ],
          [
           2,
           0
          ],
          [
           2,
           0
          ],
          [
           2,
           0
          ],
          [
           2,
           0
          ],
          [
           3,
           0
          ],
          [
           3,
           0
          ],
          [
           4,
           0
          ],
          [
           6,
           0
          ],
          [
           6,
           0
          ],
          [
           6,
           1
          ],
          [
           8,
           1
          ],
          [
           11,
           0
          ],
          [
           13,
           0
          ],
          [
           13,
           0
          ],
          [
           17,
           0
          ],
          [
           18,
           0
          ],
          [
           20,
           1
          ],
          [
           20,
           1
          ],
          [
           21,
           0
          ],
          [
           22,
           0
          ],
          [
           29,
           1
          ],
          [
           31,
           0
          ],
          [
           35,
           1
          ],
          [
           42,
           0
          ],
          [
           47,
           0
          ],
          [
           51,
           2
          ],
          [
           57,
           6
          ],
          [
           86,
           1
          ],
          [
           88,
           4
          ],
          [
           135,
           2
          ],
          [
           152,
           0
          ],
          [
           152,
           0
          ],
          [
           161,
           1
          ],
          [
           226,
           1
          ],
          [
           375,
           16
          ],
          [
           662,
           11
          ]
         ],
         "hoverlabel": {
          "namelength": 0
         },
         "hovertemplate": "<b>%{hovertext}</b><br><br>State=%{y}<br>Confirmed=%{text}<br>Deaths=%{customdata[1]}",
         "hovertext": [
          "Merced",
          "Mono",
          "Amador",
          "Butte",
          "Calaveras",
          "El Dorado",
          "Mendocino",
          "Napa",
          "Shasta",
          "Siskiyou",
          "Nevada",
          "Yuba",
          "Humboldt",
          "Imperial",
          "Madera",
          "San Benito",
          "Yolo",
          "Stanislaus",
          "Fresno",
          "Kern",
          "Tulare",
          "Santa Barbara",
          "Monterey",
          "Placer",
          "Solano",
          "Santa Cruz",
          "Sonoma",
          "San Bernardino",
          "Ventura",
          "San Luis Obispo",
          "Marin",
          "San Joaquin",
          "Riverside",
          "Contra Costa",
          "Sacramento",
          "Alameda",
          "Orange",
          "San Francisco",
          "San Mateo",
          "San Diego",
          "Santa Clara",
          "Los Angeles"
         ],
         "legendgroup": "California",
         "marker": {
          "color": "#FFA15A"
         },
         "name": "California",
         "offsetgroup": "California",
         "orientation": "h",
         "showlegend": true,
         "text": [
          1,
          1,
          2,
          2,
          2,
          2,
          2,
          2,
          2,
          2,
          3,
          3,
          4,
          6,
          6,
          6,
          8,
          11,
          13,
          13,
          17,
          18,
          20,
          20,
          21,
          22,
          29,
          31,
          35,
          42,
          47,
          51,
          57,
          86,
          88,
          135,
          152,
          152,
          161,
          226,
          375,
          662
         ],
         "textposition": "inside",
         "texttemplate": "%{text:.2s}",
         "type": "bar",
         "x": [
          1,
          1,
          2,
          2,
          2,
          2,
          2,
          2,
          2,
          2,
          3,
          3,
          4,
          6,
          6,
          6,
          8,
          11,
          13,
          13,
          17,
          18,
          20,
          20,
          21,
          22,
          29,
          31,
          35,
          42,
          47,
          51,
          57,
          86,
          88,
          135,
          152,
          152,
          161,
          226,
          375,
          662
         ],
         "xaxis": "x",
         "y": [
          "California",
          "California",
          "California",
          "California",
          "California",
          "California",
          "California",
          "California",
          "California",
          "California",
          "California",
          "California",
          "California",
          "California",
          "California",
          "California",
          "California",
          "California",
          "California",
          "California",
          "California",
          "California",
          "California",
          "California",
          "California",
          "California",
          "California",
          "California",
          "California",
          "California",
          "California",
          "California",
          "California",
          "California",
          "California",
          "California",
          "California",
          "California",
          "California",
          "California",
          "California",
          "California"
         ],
         "yaxis": "y"
        },
        {
         "alignmentgroup": "True",
         "customdata": [
          [
           1,
           1
          ],
          [
           1,
           0
          ],
          [
           1,
           0
          ],
          [
           1,
           0
          ],
          [
           1,
           0
          ],
          [
           1,
           0
          ],
          [
           2,
           0
          ],
          [
           2,
           0
          ],
          [
           2,
           0
          ],
          [
           3,
           0
          ],
          [
           3,
           0
          ],
          [
           3,
           0
          ],
          [
           3,
           0
          ],
          [
           3,
           0
          ],
          [
           3,
           0
          ],
          [
           3,
           0
          ],
          [
           5,
           0
          ],
          [
           5,
           0
          ],
          [
           8,
           0
          ],
          [
           8,
           0
          ],
          [
           18,
           0
          ],
          [
           25,
           0
          ],
          [
           28,
           0
          ],
          [
           34,
           0
          ],
          [
           39,
           0
          ],
          [
           48,
           0
          ],
          [
           50,
           2
          ],
          [
           55,
           0
          ],
          [
           58,
           0
          ],
          [
           69,
           4
          ],
          [
           92,
           1
          ],
          [
           148,
           0
          ]
         ],
         "hoverlabel": {
          "namelength": 0
         },
         "hovertemplate": "<b>%{hovertext}</b><br><br>State=%{y}<br>Confirmed=%{text}<br>Deaths=%{customdata[1]}",
         "hovertext": [
          "Crowley",
          "Hinsdale",
          "Montrose",
          "Park",
          "San Miguel",
          "Yuma",
          "Broomfield",
          "Grand",
          "Logan",
          "Chaffee",
          "Clear Creek",
          "Elbert",
          "Morgan",
          "Pueblo",
          "Routt",
          "Teller",
          "Mesa",
          "Unassigned",
          "Garfield",
          "Summit",
          "Pitkin",
          "Adams",
          "Gunnison",
          "Larimer",
          "Boulder",
          "Douglas",
          "Weld",
          "Jefferson",
          "Arapahoe",
          "El Paso",
          "Eagle",
          "Denver"
         ],
         "legendgroup": "Colorado",
         "marker": {
          "color": "#19d3f3"
         },
         "name": "Colorado",
         "offsetgroup": "Colorado",
         "orientation": "h",
         "showlegend": true,
         "text": [
          1,
          1,
          1,
          1,
          1,
          1,
          2,
          2,
          2,
          3,
          3,
          3,
          3,
          3,
          3,
          3,
          5,
          5,
          8,
          8,
          18,
          25,
          28,
          34,
          39,
          48,
          50,
          55,
          58,
          69,
          92,
          148
         ],
         "textposition": "inside",
         "texttemplate": "%{text:.2s}",
         "type": "bar",
         "x": [
          1,
          1,
          1,
          1,
          1,
          1,
          2,
          2,
          2,
          3,
          3,
          3,
          3,
          3,
          3,
          3,
          5,
          5,
          8,
          8,
          18,
          25,
          28,
          34,
          39,
          48,
          50,
          55,
          58,
          69,
          92,
          148
         ],
         "xaxis": "x",
         "y": [
          "Colorado",
          "Colorado",
          "Colorado",
          "Colorado",
          "Colorado",
          "Colorado",
          "Colorado",
          "Colorado",
          "Colorado",
          "Colorado",
          "Colorado",
          "Colorado",
          "Colorado",
          "Colorado",
          "Colorado",
          "Colorado",
          "Colorado",
          "Colorado",
          "Colorado",
          "Colorado",
          "Colorado",
          "Colorado",
          "Colorado",
          "Colorado",
          "Colorado",
          "Colorado",
          "Colorado",
          "Colorado",
          "Colorado",
          "Colorado",
          "Colorado",
          "Colorado"
         ],
         "yaxis": "y"
        },
        {
         "alignmentgroup": "True",
         "customdata": [
          [
           2,
           0
          ],
          [
           6,
           0
          ],
          [
           8,
           0
          ],
          [
           19,
           3
          ],
          [
           22,
           0
          ],
          [
           88,
           2
          ],
          [
           89,
           0
          ],
          [
           384,
           7
          ]
         ],
         "hoverlabel": {
          "namelength": 0
         },
         "hovertemplate": "<b>%{hovertext}</b><br><br>State=%{y}<br>Confirmed=%{text}<br>Deaths=%{customdata[1]}",
         "hovertext": [
          "Windham",
          "New London",
          "Middlesex",
          "Tolland",
          "Litchfield",
          "Hartford",
          "New Haven",
          "Fairfield"
         ],
         "legendgroup": "Connecticut",
         "marker": {
          "color": "#FF6692"
         },
         "name": "Connecticut",
         "offsetgroup": "Connecticut",
         "orientation": "h",
         "showlegend": true,
         "text": [
          2,
          6,
          8,
          19,
          22,
          88,
          89,
          384
         ],
         "textposition": "inside",
         "texttemplate": "%{text:.2s}",
         "type": "bar",
         "x": [
          2,
          6,
          8,
          19,
          22,
          88,
          89,
          384
         ],
         "xaxis": "x",
         "y": [
          "Connecticut",
          "Connecticut",
          "Connecticut",
          "Connecticut",
          "Connecticut",
          "Connecticut",
          "Connecticut",
          "Connecticut"
         ],
         "yaxis": "y"
        },
        {
         "alignmentgroup": "True",
         "customdata": [
          [
           10,
           0
          ],
          [
           23,
           0
          ],
          [
           71,
           0
          ]
         ],
         "hoverlabel": {
          "namelength": 0
         },
         "hovertemplate": "<b>%{hovertext}</b><br><br>State=%{y}<br>Confirmed=%{text}<br>Deaths=%{customdata[1]}",
         "hovertext": [
          "Kent",
          "Sussex",
          "New Castle"
         ],
         "legendgroup": "Delaware",
         "marker": {
          "color": "#B6E880"
         },
         "name": "Delaware",
         "offsetgroup": "Delaware",
         "orientation": "h",
         "showlegend": true,
         "text": [
          10,
          23,
          71
         ],
         "textposition": "inside",
         "texttemplate": "%{text:.2s}",
         "type": "bar",
         "x": [
          10,
          23,
          71
         ],
         "xaxis": "x",
         "y": [
          "Delaware",
          "Delaware",
          "Delaware"
         ],
         "yaxis": "y"
        },
        {
         "alignmentgroup": "True",
         "customdata": [
          [
           141,
           2
          ]
         ],
         "hoverlabel": {
          "namelength": 0
         },
         "hovertemplate": "<b>%{hovertext}</b><br><br>State=%{y}<br>Confirmed=%{text}<br>Deaths=%{customdata[1]}",
         "hovertext": [
          "District of Columbia"
         ],
         "legendgroup": "District of Columbia",
         "marker": {
          "color": "#FF97FF"
         },
         "name": "District of Columbia",
         "offsetgroup": "District of Columbia",
         "orientation": "h",
         "showlegend": true,
         "text": [
          141
         ],
         "textposition": "inside",
         "texttemplate": "%{text:.2s}",
         "type": "bar",
         "x": [
          141
         ],
         "xaxis": "x",
         "y": [
          "District of Columbia"
         ],
         "yaxis": "y"
        },
        {
         "alignmentgroup": "True",
         "customdata": [
          [
           1,
           0
          ],
          [
           1,
           0
          ],
          [
           1,
           0
          ],
          [
           1,
           0
          ],
          [
           1,
           0
          ],
          [
           1,
           0
          ],
          [
           2,
           0
          ],
          [
           3,
           0
          ],
          [
           3,
           0
          ],
          [
           3,
           0
          ],
          [
           4,
           0
          ],
          [
           4,
           0
          ],
          [
           4,
           0
          ],
          [
           4,
           0
          ],
          [
           4,
           0
          ],
          [
           4,
           1
          ],
          [
           5,
           0
          ],
          [
           6,
           0
          ],
          [
           8,
           1
          ],
          [
           9,
           0
          ],
          [
           9,
           0
          ],
          [
           10,
           2
          ],
          [
           10,
           0
          ],
          [
           10,
           0
          ],
          [
           10,
           0
          ],
          [
           11,
           0
          ],
          [
           13,
           0
          ],
          [
           14,
           0
          ],
          [
           14,
           0
          ],
          [
           15,
           1
          ],
          [
           16,
           1
          ],
          [
           18,
           0
          ],
          [
           22,
           0
          ],
          [
           23,
           0
          ],
          [
           26,
           0
          ],
          [
           26,
           0
          ],
          [
           32,
           2
          ],
          [
           37,
           0
          ],
          [
           41,
           0
          ],
          [
           45,
           0
          ],
          [
           50,
           1
          ],
          [
           50,
           2
          ],
          [
           91,
           0
          ],
          [
           101,
           3
          ],
          [
           311,
           3
          ],
          [
           338,
           0
          ]
         ],
         "hoverlabel": {
          "namelength": 0
         },
         "hovertemplate": "<b>%{hovertext}</b><br><br>State=%{y}<br>Confirmed=%{text}<br>Deaths=%{customdata[1]}",
         "hovertext": [
          "Bay",
          "Bradford",
          "DeSoto",
          "Gadsden",
          "Jackson",
          "Nassau",
          "Putnam",
          "Charlotte",
          "Columbia",
          "Monroe",
          "Baker",
          "Flagler",
          "Highlands",
          "Marion",
          "Martin",
          "Santa Rosa",
          "Hernando",
          "St. Lucie",
          "Leon",
          "Brevard",
          "Citrus",
          "Clay",
          "Escambia",
          "Sumter",
          "Walton",
          "Indian River",
          "Polk",
          "Lake",
          "Okaloosa",
          "Pasco",
          "Manatee",
          "Volusia",
          "St. Johns",
          "Seminole",
          "Osceola",
          "Sarasota",
          "Lee",
          "Alachua",
          "Collier",
          "Pinellas",
          "Duval",
          "Orange",
          "Hillsborough",
          "Palm Beach",
          "Broward",
          "Miami-Dade"
         ],
         "legendgroup": "Florida",
         "marker": {
          "color": "#FECB52"
         },
         "name": "Florida",
         "offsetgroup": "Florida",
         "orientation": "h",
         "showlegend": true,
         "text": [
          1,
          1,
          1,
          1,
          1,
          1,
          2,
          3,
          3,
          3,
          4,
          4,
          4,
          4,
          4,
          4,
          5,
          6,
          8,
          9,
          9,
          10,
          10,
          10,
          10,
          11,
          13,
          14,
          14,
          15,
          16,
          18,
          22,
          23,
          26,
          26,
          32,
          37,
          41,
          45,
          50,
          50,
          91,
          101,
          311,
          338
         ],
         "textposition": "inside",
         "texttemplate": "%{text:.2s}",
         "type": "bar",
         "x": [
          1,
          1,
          1,
          1,
          1,
          1,
          2,
          3,
          3,
          3,
          4,
          4,
          4,
          4,
          4,
          4,
          5,
          6,
          8,
          9,
          9,
          10,
          10,
          10,
          10,
          11,
          13,
          14,
          14,
          15,
          16,
          18,
          22,
          23,
          26,
          26,
          32,
          37,
          41,
          45,
          50,
          50,
          91,
          101,
          311,
          338
         ],
         "xaxis": "x",
         "y": [
          "Florida",
          "Florida",
          "Florida",
          "Florida",
          "Florida",
          "Florida",
          "Florida",
          "Florida",
          "Florida",
          "Florida",
          "Florida",
          "Florida",
          "Florida",
          "Florida",
          "Florida",
          "Florida",
          "Florida",
          "Florida",
          "Florida",
          "Florida",
          "Florida",
          "Florida",
          "Florida",
          "Florida",
          "Florida",
          "Florida",
          "Florida",
          "Florida",
          "Florida",
          "Florida",
          "Florida",
          "Florida",
          "Florida",
          "Florida",
          "Florida",
          "Florida",
          "Florida",
          "Florida",
          "Florida",
          "Florida",
          "Florida",
          "Florida",
          "Florida",
          "Florida",
          "Florida",
          "Florida"
         ],
         "yaxis": "y"
        },
        {
         "alignmentgroup": "True",
         "customdata": [
          [
           1,
           0
          ],
          [
           1,
           0
          ],
          [
           1,
           0
          ],
          [
           1,
           0
          ],
          [
           1,
           0
          ],
          [
           1,
           0
          ],
          [
           1,
           0
          ],
          [
           1,
           0
          ],
          [
           1,
           0
          ],
          [
           1,
           0
          ],
          [
           1,
           0
          ],
          [
           1,
           0
          ],
          [
           1,
           0
          ],
          [
           1,
           0
          ],
          [
           1,
           0
          ],
          [
           1,
           0
          ],
          [
           1,
           0
          ],
          [
           1,
           0
          ],
          [
           1,
           0
          ],
          [
           1,
           0
          ],
          [
           1,
           0
          ],
          [
           1,
           0
          ],
          [
           1,
           0
          ],
          [
           1,
           0
          ],
          [
           1,
           0
          ],
          [
           1,
           0
          ],
          [
           1,
           0
          ],
          [
           1,
           0
          ],
          [
           1,
           0
          ],
          [
           1,
           0
          ],
          [
           2,
           0
          ],
          [
           2,
           0
          ],
          [
           2,
           0
          ],
          [
           2,
           0
          ],
          [
           2,
           0
          ],
          [
           2,
           0
          ],
          [
           2,
           1
          ],
          [
           2,
           0
          ],
          [
           2,
           0
          ],
          [
           2,
           0
          ],
          [
           2,
           0
          ],
          [
           3,
           0
          ],
          [
           3,
           0
          ],
          [
           3,
           0
          ],
          [
           3,
           0
          ],
          [
           3,
           0
          ],
          [
           3,
           0
          ],
          [
           3,
           0
          ],
          [
           3,
           0
          ],
          [
           3,
           0
          ],
          [
           4,
           0
          ],
          [
           4,
           0
          ],
          [
           4,
           0
          ],
          [
           4,
           0
          ],
          [
           5,
           0
          ],
          [
           5,
           0
          ],
          [
           5,
           0
          ],
          [
           5,
           0
          ],
          [
           5,
           0
          ],
          [
           6,
           0
          ],
          [
           6,
           0
          ],
          [
           7,
           0
          ],
          [
           7,
           0
          ],
          [
           7,
           0
          ],
          [
           8,
           0
          ],
          [
           8,
           0
          ],
          [
           10,
           0
          ],
          [
           10,
           0
          ],
          [
           11,
           0
          ],
          [
           11,
           1
          ],
          [
           11,
           0
          ],
          [
           12,
           1
          ],
          [
           13,
           0
          ],
          [
           14,
           0
          ],
          [
           16,
           0
          ],
          [
           20,
           0
          ],
          [
           21,
           0
          ],
          [
           26,
           0
          ],
          [
           28,
           0
          ],
          [
           45,
           1
          ],
          [
           74,
           1
          ],
          [
           81,
           17
          ],
          [
           86,
           2
          ],
          [
           90,
           6
          ],
          [
           94,
           0
          ],
          [
           184,
           2
          ]
         ],
         "hoverlabel": {
          "namelength": 0
         },
         "hovertemplate": "<b>%{hovertext}</b><br><br>State=%{y}<br>Confirmed=%{text}<br>Deaths=%{customdata[1]}",
         "hovertext": [
          "Barrow",
          "Ben Hill",
          "Burke",
          "Camden",
          "Catoosa",
          "Charlton",
          "Chattooga",
          "Clinch",
          "Dawson",
          "Greene",
          "Harris",
          "Heard",
          "Irwin",
          "Jasper",
          "Liberty",
          "Lincoln",
          "Macon",
          "Madison",
          "Meriwether",
          "Miller",
          "Morgan",
          "Pierce",
          "Pulaski",
          "Randolph",
          "Stephens",
          "Tattnall",
          "Turner",
          "Twiggs",
          "Walton",
          "Washington",
          "Baker",
          "Baldwin",
          "Bryan",
          "Butts",
          "Coffee",
          "Colquitt",
          "Early",
          "Effingham",
          "Sumter",
          "Tift",
          "Whitfield",
          "Crisp",
          "Houston",
          "Lamar",
          "Lumpkin",
          "Mitchell",
          "Monroe",
          "Muscogee",
          "Peach",
          "Terrell",
          "Bibb",
          "Columbia",
          "Pickens",
          "Worth",
          "Glynn",
          "Laurens",
          "Newton",
          "Oconee",
          "Spalding",
          "Paulding",
          "Troup",
          "Chatham",
          "Gordon",
          "Rockdale",
          "Forsyth",
          "Polk",
          "Coweta",
          "Lowndes",
          "Douglas",
          "Floyd",
          "Richmond",
          "Fayette",
          "Henry",
          "Hall",
          "Clarke",
          "Lee",
          "Clayton",
          "Carroll",
          "Cherokee",
          "Gwinnett",
          "Bartow",
          "Unassigned",
          "Cobb",
          "Dougherty",
          "DeKalb",
          "Fulton"
         ],
         "legendgroup": "Georgia",
         "marker": {
          "color": "#636efa"
         },
         "name": "Georgia",
         "offsetgroup": "Georgia",
         "orientation": "h",
         "showlegend": true,
         "text": [
          1,
          1,
          1,
          1,
          1,
          1,
          1,
          1,
          1,
          1,
          1,
          1,
          1,
          1,
          1,
          1,
          1,
          1,
          1,
          1,
          1,
          1,
          1,
          1,
          1,
          1,
          1,
          1,
          1,
          1,
          2,
          2,
          2,
          2,
          2,
          2,
          2,
          2,
          2,
          2,
          2,
          3,
          3,
          3,
          3,
          3,
          3,
          3,
          3,
          3,
          4,
          4,
          4,
          4,
          5,
          5,
          5,
          5,
          5,
          6,
          6,
          7,
          7,
          7,
          8,
          8,
          10,
          10,
          11,
          11,
          11,
          12,
          13,
          14,
          16,
          20,
          21,
          26,
          28,
          45,
          74,
          81,
          86,
          90,
          94,
          184
         ],
         "textposition": "inside",
         "texttemplate": "%{text:.2s}",
         "type": "bar",
         "x": [
          1,
          1,
          1,
          1,
          1,
          1,
          1,
          1,
          1,
          1,
          1,
          1,
          1,
          1,
          1,
          1,
          1,
          1,
          1,
          1,
          1,
          1,
          1,
          1,
          1,
          1,
          1,
          1,
          1,
          1,
          2,
          2,
          2,
          2,
          2,
          2,
          2,
          2,
          2,
          2,
          2,
          3,
          3,
          3,
          3,
          3,
          3,
          3,
          3,
          3,
          4,
          4,
          4,
          4,
          5,
          5,
          5,
          5,
          5,
          6,
          6,
          7,
          7,
          7,
          8,
          8,
          10,
          10,
          11,
          11,
          11,
          12,
          13,
          14,
          16,
          20,
          21,
          26,
          28,
          45,
          74,
          81,
          86,
          90,
          94,
          184
         ],
         "xaxis": "x",
         "y": [
          "Georgia",
          "Georgia",
          "Georgia",
          "Georgia",
          "Georgia",
          "Georgia",
          "Georgia",
          "Georgia",
          "Georgia",
          "Georgia",
          "Georgia",
          "Georgia",
          "Georgia",
          "Georgia",
          "Georgia",
          "Georgia",
          "Georgia",
          "Georgia",
          "Georgia",
          "Georgia",
          "Georgia",
          "Georgia",
          "Georgia",
          "Georgia",
          "Georgia",
          "Georgia",
          "Georgia",
          "Georgia",
          "Georgia",
          "Georgia",
          "Georgia",
          "Georgia",
          "Georgia",
          "Georgia",
          "Georgia",
          "Georgia",
          "Georgia",
          "Georgia",
          "Georgia",
          "Georgia",
          "Georgia",
          "Georgia",
          "Georgia",
          "Georgia",
          "Georgia",
          "Georgia",
          "Georgia",
          "Georgia",
          "Georgia",
          "Georgia",
          "Georgia",
          "Georgia",
          "Georgia",
          "Georgia",
          "Georgia",
          "Georgia",
          "Georgia",
          "Georgia",
          "Georgia",
          "Georgia",
          "Georgia",
          "Georgia",
          "Georgia",
          "Georgia",
          "Georgia",
          "Georgia",
          "Georgia",
          "Georgia",
          "Georgia",
          "Georgia",
          "Georgia",
          "Georgia",
          "Georgia",
          "Georgia",
          "Georgia",
          "Georgia",
          "Georgia",
          "Georgia",
          "Georgia",
          "Georgia",
          "Georgia",
          "Georgia",
          "Georgia",
          "Georgia",
          "Georgia",
          "Georgia"
         ],
         "yaxis": "y"
        },
        {
         "alignmentgroup": "True",
         "customdata": [
          [
           1,
           0
          ],
          [
           2,
           0
          ],
          [
           9,
           0
          ],
          [
           20,
           0
          ],
          [
           58,
           1
          ]
         ],
         "hoverlabel": {
          "namelength": 0
         },
         "hovertemplate": "<b>%{hovertext}</b><br><br>State=%{y}<br>Confirmed=%{text}<br>Deaths=%{customdata[1]}",
         "hovertext": [
          "Kauai",
          "Hawaii",
          "Maui",
          "Unassigned",
          "Honolulu"
         ],
         "legendgroup": "Hawaii",
         "marker": {
          "color": "#EF553B"
         },
         "name": "Hawaii",
         "offsetgroup": "Hawaii",
         "orientation": "h",
         "showlegend": true,
         "text": [
          1,
          2,
          9,
          20,
          58
         ],
         "textposition": "inside",
         "texttemplate": "%{text:.2s}",
         "type": "bar",
         "x": [
          1,
          2,
          9,
          20,
          58
         ],
         "xaxis": "x",
         "y": [
          "Hawaii",
          "Hawaii",
          "Hawaii",
          "Hawaii",
          "Hawaii"
         ],
         "yaxis": "y"
        },
        {
         "alignmentgroup": "True",
         "customdata": [
          [
           1,
           0
          ],
          [
           1,
           0
          ],
          [
           1,
           0
          ],
          [
           2,
           0
          ],
          [
           2,
           0
          ],
          [
           2,
           0
          ],
          [
           2,
           0
          ],
          [
           2,
           0
          ],
          [
           5,
           0
          ],
          [
           8,
           0
          ],
          [
           19,
           0
          ],
          [
           36,
           0
          ]
         ],
         "hoverlabel": {
          "namelength": 0
         },
         "hovertemplate": "<b>%{hovertext}</b><br><br>State=%{y}<br>Confirmed=%{text}<br>Deaths=%{customdata[1]}",
         "hovertext": [
          "Cassia",
          "Twin Falls",
          "Valley",
          "Bannock",
          "Bingham",
          "Jefferson",
          "Madison",
          "Teton",
          "Canyon",
          "Kootenai",
          "Ada",
          "Blaine"
         ],
         "legendgroup": "Idaho",
         "marker": {
          "color": "#00cc96"
         },
         "name": "Idaho",
         "offsetgroup": "Idaho",
         "orientation": "h",
         "showlegend": true,
         "text": [
          1,
          1,
          1,
          2,
          2,
          2,
          2,
          2,
          5,
          8,
          19,
          36
         ],
         "textposition": "inside",
         "texttemplate": "%{text:.2s}",
         "type": "bar",
         "x": [
          1,
          1,
          1,
          2,
          2,
          2,
          2,
          2,
          5,
          8,
          19,
          36
         ],
         "xaxis": "x",
         "y": [
          "Idaho",
          "Idaho",
          "Idaho",
          "Idaho",
          "Idaho",
          "Idaho",
          "Idaho",
          "Idaho",
          "Idaho",
          "Idaho",
          "Idaho",
          "Idaho"
         ],
         "yaxis": "y"
        },
        {
         "alignmentgroup": "True",
         "customdata": [
          [
           1,
           0
          ],
          [
           1,
           0
          ],
          [
           1,
           0
          ],
          [
           1,
           0
          ],
          [
           1,
           0
          ],
          [
           1,
           0
          ],
          [
           1,
           0
          ],
          [
           1,
           0
          ],
          [
           1,
           0
          ],
          [
           1,
           0
          ],
          [
           1,
           0
          ],
          [
           1,
           0
          ],
          [
           1,
           0
          ],
          [
           2,
           0
          ],
          [
           3,
           0
          ],
          [
           3,
           0
          ],
          [
           3,
           0
          ],
          [
           3,
           0
          ],
          [
           4,
           0
          ],
          [
           4,
           0
          ],
          [
           4,
           0
          ],
          [
           5,
           1
          ],
          [
           5,
           0
          ],
          [
           7,
           1
          ],
          [
           7,
           0
          ],
          [
           14,
           0
          ],
          [
           24,
           0
          ],
          [
           28,
           1
          ],
          [
           103,
           0
          ],
          [
           111,
           0
          ],
          [
           1194,
           9
          ]
         ],
         "hoverlabel": {
          "namelength": 0
         },
         "hovertemplate": "<b>%{hovertext}</b><br><br>State=%{y}<br>Confirmed=%{text}<br>Deaths=%{customdata[1]}",
         "hovertext": [
          "Adams",
          "Christian",
          "Cumberland",
          "DeKalb",
          "Grundy",
          "Jackson",
          "Jo Daviess",
          "Livingston",
          "Monroe",
          "Rock Island",
          "Stephenson",
          "Washington",
          "Whiteside",
          "Madison",
          "Clinton",
          "LaSalle",
          "Peoria",
          "Woodford",
          "Champaign",
          "Kankakee",
          "Kendall",
          "Sangamon",
          "Winnebago",
          "McLean",
          "St. Clair",
          "McHenry",
          "Kane",
          "Will",
          "DuPage",
          "Lake",
          "Cook"
         ],
         "legendgroup": "Illinois",
         "marker": {
          "color": "#ab63fa"
         },
         "name": "Illinois",
         "offsetgroup": "Illinois",
         "orientation": "h",
         "showlegend": true,
         "text": [
          1,
          1,
          1,
          1,
          1,
          1,
          1,
          1,
          1,
          1,
          1,
          1,
          1,
          2,
          3,
          3,
          3,
          3,
          4,
          4,
          4,
          5,
          5,
          7,
          7,
          14,
          24,
          28,
          103,
          111,
          1194
         ],
         "textposition": "inside",
         "texttemplate": "%{text:.2s}",
         "type": "bar",
         "x": [
          1,
          1,
          1,
          1,
          1,
          1,
          1,
          1,
          1,
          1,
          1,
          1,
          1,
          2,
          3,
          3,
          3,
          3,
          4,
          4,
          4,
          5,
          5,
          7,
          7,
          14,
          24,
          28,
          103,
          111,
          1194
         ],
         "xaxis": "x",
         "y": [
          "Illinois",
          "Illinois",
          "Illinois",
          "Illinois",
          "Illinois",
          "Illinois",
          "Illinois",
          "Illinois",
          "Illinois",
          "Illinois",
          "Illinois",
          "Illinois",
          "Illinois",
          "Illinois",
          "Illinois",
          "Illinois",
          "Illinois",
          "Illinois",
          "Illinois",
          "Illinois",
          "Illinois",
          "Illinois",
          "Illinois",
          "Illinois",
          "Illinois",
          "Illinois",
          "Illinois",
          "Illinois",
          "Illinois",
          "Illinois",
          "Illinois"
         ],
         "yaxis": "y"
        },
        {
         "alignmentgroup": "True",
         "customdata": [
          [
           1,
           0
          ],
          [
           1,
           0
          ],
          [
           1,
           0
          ],
          [
           1,
           0
          ],
          [
           1,
           0
          ],
          [
           1,
           0
          ],
          [
           1,
           0
          ],
          [
           1,
           0
          ],
          [
           1,
           0
          ],
          [
           1,
           0
          ],
          [
           1,
           0
          ],
          [
           1,
           0
          ],
          [
           1,
           1
          ],
          [
           1,
           0
          ],
          [
           1,
           0
          ],
          [
           1,
           0
          ],
          [
           1,
           0
          ],
          [
           2,
           0
          ],
          [
           2,
           0
          ],
          [
           2,
           0
          ],
          [
           2,
           0
          ],
          [
           2,
           0
          ],
          [
           2,
           0
          ],
          [
           2,
           0
          ],
          [
           2,
           0
          ],
          [
           2,
           0
          ],
          [
           3,
           0
          ],
          [
           3,
           0
          ],
          [
           3,
           0
          ],
          [
           3,
           0
          ],
          [
           3,
           0
          ],
          [
           3,
           0
          ],
          [
           3,
           0
          ],
          [
           4,
           1
          ],
          [
           4,
           0
          ],
          [
           4,
           0
          ],
          [
           5,
           0
          ],
          [
           5,
           0
          ],
          [
           6,
           0
          ],
          [
           6,
           0
          ],
          [
           6,
           0
          ],
          [
           6,
           0
          ],
          [
           7,
           1
          ],
          [
           7,
           0
          ],
          [
           13,
           0
          ],
          [
           17,
           0
          ],
          [
           18,
           3
          ],
          [
           18,
           0
          ],
          [
           25,
           0
          ],
          [
           161,
           6
          ]
         ],
         "hoverlabel": {
          "namelength": 0
         },
         "hovertemplate": "<b>%{hovertext}</b><br><br>State=%{y}<br>Confirmed=%{text}<br>Deaths=%{customdata[1]}",
         "hovertext": [
          "Adams",
          "Brown",
          "Dubois",
          "Greene",
          "Jackson",
          "Lawrence",
          "Miami",
          "Montgomery",
          "Noble",
          "Ohio",
          "Porter",
          "Putnam",
          "Scott",
          "Shelby",
          "Vanderburgh",
          "Warrick",
          "Wells",
          "Dearborn",
          "Fayette",
          "Gibson",
          "Jennings",
          "LaPorte",
          "Owen",
          "Starke",
          "Tipton",
          "Washington",
          "Boone",
          "Grant",
          "Madison",
          "Monroe",
          "Morgan",
          "Tippecanoe",
          "Vigo",
          "Delaware",
          "Elkhart",
          "Hancock",
          "Bartholomew",
          "Clark",
          "Decatur",
          "Floyd",
          "Howard",
          "Ripley",
          "Allen",
          "Franklin",
          "Hendricks",
          "Lake",
          "Johnson",
          "St. Joseph",
          "Hamilton",
          "Marion"
         ],
         "legendgroup": "Indiana",
         "marker": {
          "color": "#FFA15A"
         },
         "name": "Indiana",
         "offsetgroup": "Indiana",
         "orientation": "h",
         "showlegend": true,
         "text": [
          1,
          1,
          1,
          1,
          1,
          1,
          1,
          1,
          1,
          1,
          1,
          1,
          1,
          1,
          1,
          1,
          1,
          2,
          2,
          2,
          2,
          2,
          2,
          2,
          2,
          2,
          3,
          3,
          3,
          3,
          3,
          3,
          3,
          4,
          4,
          4,
          5,
          5,
          6,
          6,
          6,
          6,
          7,
          7,
          13,
          17,
          18,
          18,
          25,
          161
         ],
         "textposition": "inside",
         "texttemplate": "%{text:.2s}",
         "type": "bar",
         "x": [
          1,
          1,
          1,
          1,
          1,
          1,
          1,
          1,
          1,
          1,
          1,
          1,
          1,
          1,
          1,
          1,
          1,
          2,
          2,
          2,
          2,
          2,
          2,
          2,
          2,
          2,
          3,
          3,
          3,
          3,
          3,
          3,
          3,
          4,
          4,
          4,
          5,
          5,
          6,
          6,
          6,
          6,
          7,
          7,
          13,
          17,
          18,
          18,
          25,
          161
         ],
         "xaxis": "x",
         "y": [
          "Indiana",
          "Indiana",
          "Indiana",
          "Indiana",
          "Indiana",
          "Indiana",
          "Indiana",
          "Indiana",
          "Indiana",
          "Indiana",
          "Indiana",
          "Indiana",
          "Indiana",
          "Indiana",
          "Indiana",
          "Indiana",
          "Indiana",
          "Indiana",
          "Indiana",
          "Indiana",
          "Indiana",
          "Indiana",
          "Indiana",
          "Indiana",
          "Indiana",
          "Indiana",
          "Indiana",
          "Indiana",
          "Indiana",
          "Indiana",
          "Indiana",
          "Indiana",
          "Indiana",
          "Indiana",
          "Indiana",
          "Indiana",
          "Indiana",
          "Indiana",
          "Indiana",
          "Indiana",
          "Indiana",
          "Indiana",
          "Indiana",
          "Indiana",
          "Indiana",
          "Indiana",
          "Indiana",
          "Indiana",
          "Indiana",
          "Indiana"
         ],
         "yaxis": "y"
        },
        {
         "alignmentgroup": "True",
         "customdata": [
          [
           1,
           0
          ],
          [
           1,
           0
          ],
          [
           1,
           0
          ],
          [
           1,
           0
          ],
          [
           1,
           0
          ],
          [
           1,
           0
          ],
          [
           1,
           0
          ],
          [
           1,
           0
          ],
          [
           1,
           0
          ],
          [
           1,
           0
          ],
          [
           1,
           0
          ],
          [
           1,
           0
          ],
          [
           1,
           0
          ],
          [
           2,
           0
          ],
          [
           2,
           0
          ],
          [
           2,
           0
          ],
          [
           2,
           0
          ],
          [
           2,
           0
          ],
          [
           2,
           0
          ],
          [
           2,
           0
          ],
          [
           3,
           0
          ],
          [
           4,
           0
          ],
          [
           4,
           0
          ],
          [
           4,
           0
          ],
          [
           5,
           0
          ],
          [
           6,
           0
          ],
          [
           6,
           0
          ],
          [
           6,
           0
          ],
          [
           7,
           0
          ],
          [
           15,
           0
          ],
          [
           37,
           0
          ]
         ],
         "hoverlabel": {
          "namelength": 0
         },
         "hovertemplate": "<b>%{hovertext}</b><br><br>State=%{y}<br>Confirmed=%{text}<br>Deaths=%{customdata[1]}",
         "hovertext": [
          "Adair",
          "Buchanan",
          "Carroll",
          "Cedar",
          "Fayette",
          "Henry",
          "Jasper",
          "Kossuth",
          "Scott",
          "Sioux",
          "Wapello",
          "Warren",
          "Winneshiek",
          "Cerro Gordo",
          "Hancock",
          "Pottawattamie",
          "Poweshiek",
          "Story",
          "Unassigned",
          "Woodbury",
          "Harrison",
          "Black Hawk",
          "Tama",
          "Washington",
          "Muscatine",
          "Allamakee",
          "Dubuque",
          "Linn",
          "Dallas",
          "Polk",
          "Johnson"
         ],
         "legendgroup": "Iowa",
         "marker": {
          "color": "#19d3f3"
         },
         "name": "Iowa",
         "offsetgroup": "Iowa",
         "orientation": "h",
         "showlegend": true,
         "text": [
          1,
          1,
          1,
          1,
          1,
          1,
          1,
          1,
          1,
          1,
          1,
          1,
          1,
          2,
          2,
          2,
          2,
          2,
          2,
          2,
          3,
          4,
          4,
          4,
          5,
          6,
          6,
          6,
          7,
          15,
          37
         ],
         "textposition": "inside",
         "texttemplate": "%{text:.2s}",
         "type": "bar",
         "x": [
          1,
          1,
          1,
          1,
          1,
          1,
          1,
          1,
          1,
          1,
          1,
          1,
          1,
          2,
          2,
          2,
          2,
          2,
          2,
          2,
          3,
          4,
          4,
          4,
          5,
          6,
          6,
          6,
          7,
          15,
          37
         ],
         "xaxis": "x",
         "y": [
          "Iowa",
          "Iowa",
          "Iowa",
          "Iowa",
          "Iowa",
          "Iowa",
          "Iowa",
          "Iowa",
          "Iowa",
          "Iowa",
          "Iowa",
          "Iowa",
          "Iowa",
          "Iowa",
          "Iowa",
          "Iowa",
          "Iowa",
          "Iowa",
          "Iowa",
          "Iowa",
          "Iowa",
          "Iowa",
          "Iowa",
          "Iowa",
          "Iowa",
          "Iowa",
          "Iowa",
          "Iowa",
          "Iowa",
          "Iowa",
          "Iowa"
         ],
         "yaxis": "y"
        },
        {
         "alignmentgroup": "True",
         "customdata": [
          [
           1,
           0
          ],
          [
           1,
           0
          ],
          [
           1,
           0
          ],
          [
           1,
           0
          ],
          [
           1,
           0
          ],
          [
           1,
           0
          ],
          [
           1,
           0
          ],
          [
           2,
           0
          ],
          [
           2,
           0
          ],
          [
           2,
           0
          ],
          [
           2,
           0
          ],
          [
           2,
           0
          ],
          [
           2,
           0
          ],
          [
           3,
           0
          ],
          [
           6,
           0
          ],
          [
           7,
           0
          ],
          [
           7,
           0
          ],
          [
           22,
           1
          ],
          [
           36,
           1
          ]
         ],
         "hoverlabel": {
          "namelength": 0
         },
         "hovertemplate": "<b>%{hovertext}</b><br><br>State=%{y}<br>Confirmed=%{text}<br>Deaths=%{customdata[1]}",
         "hovertext": [
          "Bourbon",
          "Doniphan",
          "Franklin",
          "Jackson",
          "Mitchell",
          "Pottawatomie",
          "Woodson",
          "Cherokee",
          "Crawford",
          "Linn",
          "Lyon",
          "Morris",
          "Reno",
          "Butler",
          "Douglas",
          "Leavenworth",
          "Sedgwick",
          "Wyandotte",
          "Johnson"
         ],
         "legendgroup": "Kansas",
         "marker": {
          "color": "#FF6692"
         },
         "name": "Kansas",
         "offsetgroup": "Kansas",
         "orientation": "h",
         "showlegend": true,
         "text": [
          1,
          1,
          1,
          1,
          1,
          1,
          1,
          2,
          2,
          2,
          2,
          2,
          2,
          3,
          6,
          7,
          7,
          22,
          36
         ],
         "textposition": "inside",
         "texttemplate": "%{text:.2s}",
         "type": "bar",
         "x": [
          1,
          1,
          1,
          1,
          1,
          1,
          1,
          2,
          2,
          2,
          2,
          2,
          2,
          3,
          6,
          7,
          7,
          22,
          36
         ],
         "xaxis": "x",
         "y": [
          "Kansas",
          "Kansas",
          "Kansas",
          "Kansas",
          "Kansas",
          "Kansas",
          "Kansas",
          "Kansas",
          "Kansas",
          "Kansas",
          "Kansas",
          "Kansas",
          "Kansas",
          "Kansas",
          "Kansas",
          "Kansas",
          "Kansas",
          "Kansas",
          "Kansas"
         ],
         "yaxis": "y"
        },
        {
         "alignmentgroup": "True",
         "customdata": [
          [
           1,
           0
          ],
          [
           1,
           0
          ],
          [
           1,
           0
          ],
          [
           1,
           0
          ],
          [
           1,
           0
          ],
          [
           1,
           0
          ],
          [
           1,
           0
          ],
          [
           1,
           0
          ],
          [
           1,
           0
          ],
          [
           1,
           0
          ],
          [
           1,
           0
          ],
          [
           1,
           0
          ],
          [
           1,
           0
          ],
          [
           1,
           0
          ],
          [
           1,
           0
          ],
          [
           1,
           0
          ],
          [
           1,
           0
          ],
          [
           2,
           1
          ],
          [
           2,
           1
          ],
          [
           2,
           0
          ],
          [
           2,
           0
          ],
          [
           2,
           0
          ],
          [
           2,
           0
          ],
          [
           2,
           0
          ],
          [
           2,
           0
          ],
          [
           2,
           0
          ],
          [
           2,
           0
          ],
          [
           3,
           0
          ],
          [
           4,
           0
          ],
          [
           5,
           0
          ],
          [
           8,
           0
          ],
          [
           11,
           0
          ],
          [
           15,
           1
          ],
          [
           33,
           1
          ],
          [
           46,
           0
          ]
         ],
         "hoverlabel": {
          "namelength": 0
         },
         "hovertemplate": "<b>%{hovertext}</b><br><br>State=%{y}<br>Confirmed=%{text}<br>Deaths=%{customdata[1]}",
         "hovertext": [
          "Boone",
          "Breathitt",
          "Calloway",
          "Campbell",
          "Jessamine",
          "Laurel",
          "Logan",
          "Lyon",
          "Martin",
          "McCracken",
          "Menifee",
          "Nelson",
          "Oldham",
          "Scott",
          "Simpson",
          "Spencer",
          "Webster",
          "Anderson",
          "Bourbon",
          "Christian",
          "Clark",
          "Franklin",
          "Hardin",
          "Henderson",
          "Madison",
          "Montgomery",
          "Muhlenberg",
          "Pulaski",
          "Warren",
          "Kenton",
          "Harrison",
          "Daviess",
          "Fayette",
          "Jefferson",
          "Unassigned"
         ],
         "legendgroup": "Kentucky",
         "marker": {
          "color": "#B6E880"
         },
         "name": "Kentucky",
         "offsetgroup": "Kentucky",
         "orientation": "h",
         "showlegend": true,
         "text": [
          1,
          1,
          1,
          1,
          1,
          1,
          1,
          1,
          1,
          1,
          1,
          1,
          1,
          1,
          1,
          1,
          1,
          2,
          2,
          2,
          2,
          2,
          2,
          2,
          2,
          2,
          2,
          3,
          4,
          5,
          8,
          11,
          15,
          33,
          46
         ],
         "textposition": "inside",
         "texttemplate": "%{text:.2s}",
         "type": "bar",
         "x": [
          1,
          1,
          1,
          1,
          1,
          1,
          1,
          1,
          1,
          1,
          1,
          1,
          1,
          1,
          1,
          1,
          1,
          2,
          2,
          2,
          2,
          2,
          2,
          2,
          2,
          2,
          2,
          3,
          4,
          5,
          8,
          11,
          15,
          33,
          46
         ],
         "xaxis": "x",
         "y": [
          "Kentucky",
          "Kentucky",
          "Kentucky",
          "Kentucky",
          "Kentucky",
          "Kentucky",
          "Kentucky",
          "Kentucky",
          "Kentucky",
          "Kentucky",
          "Kentucky",
          "Kentucky",
          "Kentucky",
          "Kentucky",
          "Kentucky",
          "Kentucky",
          "Kentucky",
          "Kentucky",
          "Kentucky",
          "Kentucky",
          "Kentucky",
          "Kentucky",
          "Kentucky",
          "Kentucky",
          "Kentucky",
          "Kentucky",
          "Kentucky",
          "Kentucky",
          "Kentucky",
          "Kentucky",
          "Kentucky",
          "Kentucky",
          "Kentucky",
          "Kentucky",
          "Kentucky"
         ],
         "yaxis": "y"
        },
        {
         "alignmentgroup": "True",
         "customdata": [
          [
           1,
           0
          ],
          [
           1,
           1
          ],
          [
           1,
           0
          ],
          [
           1,
           0
          ],
          [
           1,
           0
          ],
          [
           2,
           0
          ],
          [
           2,
           0
          ],
          [
           2,
           0
          ],
          [
           2,
           0
          ],
          [
           2,
           0
          ],
          [
           2,
           0
          ],
          [
           2,
           0
          ],
          [
           2,
           0
          ],
          [
           2,
           0
          ],
          [
           2,
           0
          ],
          [
           2,
           0
          ],
          [
           3,
           0
          ],
          [
           3,
           0
          ],
          [
           3,
           1
          ],
          [
           3,
           1
          ],
          [
           4,
           0
          ],
          [
           5,
           1
          ],
          [
           5,
           1
          ],
          [
           6,
           0
          ],
          [
           6,
           0
          ],
          [
           7,
           1
          ],
          [
           8,
           0
          ],
          [
           9,
           1
          ],
          [
           10,
           1
          ],
          [
           12,
           0
          ],
          [
           12,
           0
          ],
          [
           12,
           1
          ],
          [
           14,
           1
          ],
          [
           14,
           0
          ],
          [
           15,
           0
          ],
          [
           16,
           0
          ],
          [
           19,
           0
          ],
          [
           21,
           0
          ],
          [
           36,
           1
          ],
          [
           40,
           0
          ],
          [
           52,
           1
          ],
          [
           58,
           2
          ],
          [
           293,
           6
          ],
          [
           675,
           26
          ]
         ],
         "hoverlabel": {
          "namelength": 0
         },
         "hovertemplate": "<b>%{hovertext}</b><br><br>State=%{y}<br>Confirmed=%{text}<br>Deaths=%{customdata[1]}",
         "hovertext": [
          "Bienville",
          "Catahoula",
          "Grant",
          "Richland",
          "St. Martin",
          "Acadia",
          "Allen",
          "Assumption",
          "Beauregard",
          "Claiborne",
          "Evangeline",
          "Iberia",
          "Lincoln",
          "Natchitoches",
          "St. Mary",
          "Vernon",
          "Avoyelles",
          "St. Landry",
          "Washington",
          "Webster",
          "Tangipahoa",
          "Calcasieu",
          "West Baton Rouge",
          "De Soto",
          "Livingston",
          "Ouachita",
          "Plaquemines",
          "St. James",
          "Rapides",
          "Bossier",
          "Lafayette",
          "Unassigned",
          "Iberville",
          "Terrebonne",
          "St. Charles",
          "Lafourche",
          "St. Bernard",
          "St. John the Baptist",
          "Ascension",
          "Caddo",
          "St. Tammany",
          "East Baton Rouge",
          "Jefferson",
          "Orleans"
         ],
         "legendgroup": "Louisiana",
         "marker": {
          "color": "#FF97FF"
         },
         "name": "Louisiana",
         "offsetgroup": "Louisiana",
         "orientation": "h",
         "showlegend": true,
         "text": [
          1,
          1,
          1,
          1,
          1,
          2,
          2,
          2,
          2,
          2,
          2,
          2,
          2,
          2,
          2,
          2,
          3,
          3,
          3,
          3,
          4,
          5,
          5,
          6,
          6,
          7,
          8,
          9,
          10,
          12,
          12,
          12,
          14,
          14,
          15,
          16,
          19,
          21,
          36,
          40,
          52,
          58,
          293,
          675
         ],
         "textposition": "inside",
         "texttemplate": "%{text:.2s}",
         "type": "bar",
         "x": [
          1,
          1,
          1,
          1,
          1,
          2,
          2,
          2,
          2,
          2,
          2,
          2,
          2,
          2,
          2,
          2,
          3,
          3,
          3,
          3,
          4,
          5,
          5,
          6,
          6,
          7,
          8,
          9,
          10,
          12,
          12,
          12,
          14,
          14,
          15,
          16,
          19,
          21,
          36,
          40,
          52,
          58,
          293,
          675
         ],
         "xaxis": "x",
         "y": [
          "Louisiana",
          "Louisiana",
          "Louisiana",
          "Louisiana",
          "Louisiana",
          "Louisiana",
          "Louisiana",
          "Louisiana",
          "Louisiana",
          "Louisiana",
          "Louisiana",
          "Louisiana",
          "Louisiana",
          "Louisiana",
          "Louisiana",
          "Louisiana",
          "Louisiana",
          "Louisiana",
          "Louisiana",
          "Louisiana",
          "Louisiana",
          "Louisiana",
          "Louisiana",
          "Louisiana",
          "Louisiana",
          "Louisiana",
          "Louisiana",
          "Louisiana",
          "Louisiana",
          "Louisiana",
          "Louisiana",
          "Louisiana",
          "Louisiana",
          "Louisiana",
          "Louisiana",
          "Louisiana",
          "Louisiana",
          "Louisiana",
          "Louisiana",
          "Louisiana",
          "Louisiana",
          "Louisiana",
          "Louisiana",
          "Louisiana"
         ],
         "yaxis": "y"
        },
        {
         "alignmentgroup": "True",
         "customdata": [
          [
           1,
           0
          ],
          [
           1,
           0
          ],
          [
           3,
           0
          ],
          [
           3,
           0
          ],
          [
           4,
           0
          ],
          [
           5,
           0
          ],
          [
           5,
           0
          ],
          [
           6,
           0
          ],
          [
           16,
           0
          ],
          [
           74,
           0
          ]
         ],
         "hoverlabel": {
          "namelength": 0
         },
         "hovertemplate": "<b>%{hovertext}</b><br><br>State=%{y}<br>Confirmed=%{text}<br>Deaths=%{customdata[1]}",
         "hovertext": [
          "Knox",
          "Waldo",
          "Androscoggin",
          "Sagadahoc",
          "Penobscot",
          "Kennebec",
          "Lincoln",
          "Oxford",
          "York",
          "Cumberland"
         ],
         "legendgroup": "Maine",
         "marker": {
          "color": "#FECB52"
         },
         "name": "Maine",
         "offsetgroup": "Maine",
         "orientation": "h",
         "showlegend": true,
         "text": [
          1,
          1,
          3,
          3,
          4,
          5,
          5,
          6,
          16,
          74
         ],
         "textposition": "inside",
         "texttemplate": "%{text:.2s}",
         "type": "bar",
         "x": [
          1,
          1,
          3,
          3,
          4,
          5,
          5,
          6,
          16,
          74
         ],
         "xaxis": "x",
         "y": [
          "Maine",
          "Maine",
          "Maine",
          "Maine",
          "Maine",
          "Maine",
          "Maine",
          "Maine",
          "Maine",
          "Maine"
         ],
         "yaxis": "y"
        },
        {
         "alignmentgroup": "True",
         "customdata": [
          [
           1,
           0
          ],
          [
           1,
           0
          ],
          [
           1,
           0
          ],
          [
           1,
           0
          ],
          [
           2,
           0
          ],
          [
           2,
           0
          ],
          [
           2,
           0
          ],
          [
           3,
           0
          ],
          [
           3,
           0
          ],
          [
           3,
           0
          ],
          [
           4,
           0
          ],
          [
           4,
           0
          ],
          [
           5,
           0
          ],
          [
           5,
           0
          ],
          [
           5,
           0
          ],
          [
           24,
           0
          ],
          [
           30,
           0
          ],
          [
           41,
           0
          ],
          [
           42,
           1
          ],
          [
           63,
           2
          ],
          [
           107,
           1
          ]
         ],
         "hoverlabel": {
          "namelength": 0
         },
         "hovertemplate": "<b>%{hovertext}</b><br><br>State=%{y}<br>Confirmed=%{text}<br>Deaths=%{customdata[1]}",
         "hovertext": [
          "Caroline",
          "Queen Anne's",
          "Somerset",
          "Talbot",
          "St. Mary's",
          "Washington",
          "Worcester",
          "Calvert",
          "Cecil",
          "Garrett",
          "Frederick",
          "Wicomico",
          "Carroll",
          "Charles",
          "Harford",
          "Anne Arundel",
          "Howard",
          "Baltimore City",
          "Baltimore",
          "Prince George's",
          "Montgomery"
         ],
         "legendgroup": "Maryland",
         "marker": {
          "color": "#636efa"
         },
         "name": "Maryland",
         "offsetgroup": "Maryland",
         "orientation": "h",
         "showlegend": true,
         "text": [
          1,
          1,
          1,
          1,
          2,
          2,
          2,
          3,
          3,
          3,
          4,
          4,
          5,
          5,
          5,
          24,
          30,
          41,
          42,
          63,
          107
         ],
         "textposition": "inside",
         "texttemplate": "%{text:.2s}",
         "type": "bar",
         "x": [
          1,
          1,
          1,
          1,
          2,
          2,
          2,
          3,
          3,
          3,
          4,
          4,
          5,
          5,
          5,
          24,
          30,
          41,
          42,
          63,
          107
         ],
         "xaxis": "x",
         "y": [
          "Maryland",
          "Maryland",
          "Maryland",
          "Maryland",
          "Maryland",
          "Maryland",
          "Maryland",
          "Maryland",
          "Maryland",
          "Maryland",
          "Maryland",
          "Maryland",
          "Maryland",
          "Maryland",
          "Maryland",
          "Maryland",
          "Maryland",
          "Maryland",
          "Maryland",
          "Maryland",
          "Maryland"
         ],
         "yaxis": "y"
        },
        {
         "alignmentgroup": "True",
         "customdata": [
          [
           2,
           0
          ],
          [
           8,
           0
          ],
          [
           10,
           0
          ],
          [
           24,
           0
          ],
          [
           31,
           0
          ],
          [
           37,
           0
          ],
          [
           40,
           0
          ],
          [
           64,
           0
          ],
          [
           73,
           0
          ],
          [
           85,
           9
          ],
          [
           118,
           0
          ],
          [
           129,
           0
          ],
          [
           234,
           1
          ],
          [
           304,
           1
          ]
         ],
         "hoverlabel": {
          "namelength": 0
         },
         "hovertemplate": "<b>%{hovertext}</b><br><br>State=%{y}<br>Confirmed=%{text}<br>Deaths=%{customdata[1]}",
         "hovertext": [
          "Dukes and Nantucket",
          "Hampshire",
          "Franklin",
          "Hampden",
          "Bristol",
          "Berkshire",
          "Barnstable",
          "Plymouth",
          "Worcester",
          "Unassigned",
          "Essex",
          "Norfolk",
          "Suffolk",
          "Middlesex"
         ],
         "legendgroup": "Massachusetts",
         "marker": {
          "color": "#EF553B"
         },
         "name": "Massachusetts",
         "offsetgroup": "Massachusetts",
         "orientation": "h",
         "showlegend": true,
         "text": [
          2,
          8,
          10,
          24,
          31,
          37,
          40,
          64,
          73,
          85,
          118,
          129,
          234,
          304
         ],
         "textposition": "inside",
         "texttemplate": "%{text:.2s}",
         "type": "bar",
         "x": [
          2,
          8,
          10,
          24,
          31,
          37,
          40,
          64,
          73,
          85,
          118,
          129,
          234,
          304
         ],
         "xaxis": "x",
         "y": [
          "Massachusetts",
          "Massachusetts",
          "Massachusetts",
          "Massachusetts",
          "Massachusetts",
          "Massachusetts",
          "Massachusetts",
          "Massachusetts",
          "Massachusetts",
          "Massachusetts",
          "Massachusetts",
          "Massachusetts",
          "Massachusetts",
          "Massachusetts"
         ],
         "yaxis": "y"
        },
        {
         "alignmentgroup": "True",
         "customdata": [
          [
           1,
           0
          ],
          [
           1,
           0
          ],
          [
           1,
           0
          ],
          [
           1,
           0
          ],
          [
           1,
           0
          ],
          [
           1,
           0
          ],
          [
           1,
           0
          ],
          [
           1,
           0
          ],
          [
           1,
           0
          ],
          [
           1,
           0
          ],
          [
           1,
           0
          ],
          [
           1,
           0
          ],
          [
           1,
           0
          ],
          [
           1,
           0
          ],
          [
           2,
           0
          ],
          [
           2,
           0
          ],
          [
           2,
           0
          ],
          [
           2,
           0
          ],
          [
           2,
           0
          ],
          [
           3,
           0
          ],
          [
           3,
           0
          ],
          [
           3,
           0
          ],
          [
           3,
           0
          ],
          [
           3,
           0
          ],
          [
           4,
           0
          ],
          [
           5,
           0
          ],
          [
           5,
           0
          ],
          [
           5,
           0
          ],
          [
           6,
           0
          ],
          [
           6,
           0
          ],
          [
           8,
           0
          ],
          [
           8,
           0
          ],
          [
           8,
           0
          ],
          [
           12,
           0
          ],
          [
           13,
           0
          ],
          [
           15,
           0
          ],
          [
           15,
           0
          ],
          [
           31,
           1
          ],
          [
           34,
           0
          ],
          [
           50,
           3
          ],
          [
           225,
           3
          ],
          [
           428,
           4
          ],
          [
           876,
           13
          ]
         ],
         "hoverlabel": {
          "namelength": 0
         },
         "hovertemplate": "<b>%{hovertext}</b><br><br>State=%{y}<br>Confirmed=%{text}<br>Deaths=%{customdata[1]}",
         "hovertext": [
          "Allegan",
          "Barry",
          "Chippewa",
          "Clare",
          "Hillsdale",
          "Kalkaska",
          "Lapeer",
          "Leelanau",
          "Manistee",
          "Marquette",
          "Montcalm",
          "Roscommon",
          "Tuscola",
          "Wexford",
          "Bay",
          "Emmet",
          "Gladwin",
          "Isabella",
          "Newaygo",
          "Charlevoix",
          "Eaton",
          "Grand Traverse",
          "Kalamazoo",
          "Muskegon",
          "Calhoun",
          "Clinton",
          "Midland",
          "Otsego",
          "Jackson",
          "Out of MI",
          "Berrien",
          "Saginaw",
          "St. Clair",
          "Monroe",
          "Livingston",
          "Ingham",
          "Ottawa",
          "Kent",
          "Genesee",
          "Washtenaw",
          "Macomb",
          "Oakland",
          "Wayne"
         ],
         "legendgroup": "Michigan",
         "marker": {
          "color": "#00cc96"
         },
         "name": "Michigan",
         "offsetgroup": "Michigan",
         "orientation": "h",
         "showlegend": true,
         "text": [
          1,
          1,
          1,
          1,
          1,
          1,
          1,
          1,
          1,
          1,
          1,
          1,
          1,
          1,
          2,
          2,
          2,
          2,
          2,
          3,
          3,
          3,
          3,
          3,
          4,
          5,
          5,
          5,
          6,
          6,
          8,
          8,
          8,
          12,
          13,
          15,
          15,
          31,
          34,
          50,
          225,
          428,
          876
         ],
         "textposition": "inside",
         "texttemplate": "%{text:.2s}",
         "type": "bar",
         "x": [
          1,
          1,
          1,
          1,
          1,
          1,
          1,
          1,
          1,
          1,
          1,
          1,
          1,
          1,
          2,
          2,
          2,
          2,
          2,
          3,
          3,
          3,
          3,
          3,
          4,
          5,
          5,
          5,
          6,
          6,
          8,
          8,
          8,
          12,
          13,
          15,
          15,
          31,
          34,
          50,
          225,
          428,
          876
         ],
         "xaxis": "x",
         "y": [
          "Michigan",
          "Michigan",
          "Michigan",
          "Michigan",
          "Michigan",
          "Michigan",
          "Michigan",
          "Michigan",
          "Michigan",
          "Michigan",
          "Michigan",
          "Michigan",
          "Michigan",
          "Michigan",
          "Michigan",
          "Michigan",
          "Michigan",
          "Michigan",
          "Michigan",
          "Michigan",
          "Michigan",
          "Michigan",
          "Michigan",
          "Michigan",
          "Michigan",
          "Michigan",
          "Michigan",
          "Michigan",
          "Michigan",
          "Michigan",
          "Michigan",
          "Michigan",
          "Michigan",
          "Michigan",
          "Michigan",
          "Michigan",
          "Michigan",
          "Michigan",
          "Michigan",
          "Michigan",
          "Michigan",
          "Michigan",
          "Michigan"
         ],
         "yaxis": "y"
        },
        {
         "alignmentgroup": "True",
         "customdata": [
          [
           1,
           0
          ],
          [
           1,
           0
          ],
          [
           1,
           0
          ],
          [
           1,
           0
          ],
          [
           1,
           0
          ],
          [
           1,
           0
          ],
          [
           1,
           0
          ],
          [
           1,
           0
          ],
          [
           2,
           0
          ],
          [
           2,
           0
          ],
          [
           2,
           0
          ],
          [
           3,
           0
          ],
          [
           3,
           0
          ],
          [
           3,
           0
          ],
          [
           3,
           0
          ],
          [
           3,
           0
          ],
          [
           5,
           0
          ],
          [
           5,
           0
          ],
          [
           5,
           0
          ],
          [
           5,
           0
          ],
          [
           5,
           0
          ],
          [
           6,
           0
          ],
          [
           7,
           0
          ],
          [
           8,
           0
          ],
          [
           8,
           0
          ],
          [
           10,
           0
          ],
          [
           18,
           0
          ],
          [
           21,
           0
          ],
          [
           26,
           1
          ],
          [
           103,
           0
          ]
         ],
         "hoverlabel": {
          "namelength": 0
         },
         "hovertemplate": "<b>%{hovertext}</b><br><br>State=%{y}<br>Confirmed=%{text}<br>Deaths=%{customdata[1]}",
         "hovertext": [
          "Benton",
          "Big Stone",
          "Cass",
          "Jackson",
          "Renville",
          "Sherburne",
          "Wabasha",
          "Waseca",
          "Chisago",
          "Rice",
          "St. Louis",
          "Clay",
          "Dodge",
          "Fillmore",
          "Nicollet",
          "Wright",
          "Blue Earth",
          "Le Sueur",
          "Scott",
          "Stearns",
          "Steele",
          "Mower",
          "Anoka",
          "Carver",
          "Martin",
          "Washington",
          "Olmsted",
          "Dakota",
          "Ramsey",
          "Hennepin"
         ],
         "legendgroup": "Minnesota",
         "marker": {
          "color": "#ab63fa"
         },
         "name": "Minnesota",
         "offsetgroup": "Minnesota",
         "orientation": "h",
         "showlegend": true,
         "text": [
          1,
          1,
          1,
          1,
          1,
          1,
          1,
          1,
          2,
          2,
          2,
          3,
          3,
          3,
          3,
          3,
          5,
          5,
          5,
          5,
          5,
          6,
          7,
          8,
          8,
          10,
          18,
          21,
          26,
          103
         ],
         "textposition": "inside",
         "texttemplate": "%{text:.2s}",
         "type": "bar",
         "x": [
          1,
          1,
          1,
          1,
          1,
          1,
          1,
          1,
          2,
          2,
          2,
          3,
          3,
          3,
          3,
          3,
          5,
          5,
          5,
          5,
          5,
          6,
          7,
          8,
          8,
          10,
          18,
          21,
          26,
          103
         ],
         "xaxis": "x",
         "y": [
          "Minnesota",
          "Minnesota",
          "Minnesota",
          "Minnesota",
          "Minnesota",
          "Minnesota",
          "Minnesota",
          "Minnesota",
          "Minnesota",
          "Minnesota",
          "Minnesota",
          "Minnesota",
          "Minnesota",
          "Minnesota",
          "Minnesota",
          "Minnesota",
          "Minnesota",
          "Minnesota",
          "Minnesota",
          "Minnesota",
          "Minnesota",
          "Minnesota",
          "Minnesota",
          "Minnesota",
          "Minnesota",
          "Minnesota",
          "Minnesota",
          "Minnesota",
          "Minnesota",
          "Minnesota"
         ],
         "yaxis": "y"
        },
        {
         "alignmentgroup": "True",
         "customdata": [
          [
           1,
           0
          ],
          [
           1,
           0
          ],
          [
           1,
           0
          ],
          [
           1,
           0
          ],
          [
           1,
           0
          ],
          [
           1,
           0
          ],
          [
           1,
           0
          ],
          [
           1,
           0
          ],
          [
           1,
           0
          ],
          [
           1,
           0
          ],
          [
           1,
           0
          ],
          [
           1,
           0
          ],
          [
           1,
           0
          ],
          [
           2,
           0
          ],
          [
           2,
           0
          ],
          [
           2,
           0
          ],
          [
           2,
           0
          ],
          [
           2,
           0
          ],
          [
           2,
           0
          ],
          [
           2,
           0
          ],
          [
           2,
           0
          ],
          [
           2,
           0
          ],
          [
           2,
           0
          ],
          [
           2,
           0
          ],
          [
           2,
           0
          ],
          [
           2,
           0
          ],
          [
           3,
           0
          ],
          [
           3,
           0
          ],
          [
           3,
           0
          ],
          [
           3,
           0
          ],
          [
           3,
           0
          ],
          [
           3,
           0
          ],
          [
           3,
           0
          ],
          [
           3,
           0
          ],
          [
           4,
           0
          ],
          [
           4,
           0
          ],
          [
           4,
           0
          ],
          [
           5,
           0
          ],
          [
           5,
           1
          ],
          [
           5,
           0
          ],
          [
           5,
           0
          ],
          [
           6,
           0
          ],
          [
           6,
           0
          ],
          [
           6,
           0
          ],
          [
           7,
           0
          ],
          [
           8,
           0
          ],
          [
           10,
           0
          ],
          [
           10,
           0
          ],
          [
           11,
           0
          ],
          [
           11,
           0
          ],
          [
           12,
           0
          ],
          [
           13,
           0
          ],
          [
           13,
           0
          ],
          [
           14,
           0
          ],
          [
           14,
           0
          ],
          [
           24,
           0
          ],
          [
           29,
           0
          ],
          [
           31,
           0
          ]
         ],
         "hoverlabel": {
          "namelength": 0
         },
         "hovertemplate": "<b>%{hovertext}</b><br><br>State=%{y}<br>Confirmed=%{text}<br>Deaths=%{customdata[1]}",
         "hovertext": [
          "Choctaw",
          "Clay",
          "George",
          "Humphreys",
          "Jones",
          "Marion",
          "Newton",
          "Noxubee",
          "Perry",
          "Simpson",
          "Smith",
          "Tate",
          "Union",
          "Adams",
          "Grenada",
          "Lamar",
          "Lawrence",
          "Leake",
          "Montgomery",
          "Panola",
          "Pontotoc",
          "Scott",
          "Tallahatchie",
          "Walthall",
          "Webster",
          "Winston",
          "Attala",
          "Franklin",
          "Itawamba",
          "Marshall",
          "Monroe",
          "Sunflower",
          "Tunica",
          "Yazoo",
          "Bolivar",
          "Lincoln",
          "Wilkinson",
          "Copiah",
          "Hancock",
          "Oktibbeha",
          "Washington",
          "Chickasaw",
          "Holmes",
          "Lowndes",
          "Pike",
          "Lafayette",
          "Jackson",
          "Leflore",
          "Coahoma",
          "Tippah",
          "Lee",
          "Pearl River",
          "Rankin",
          "Forrest",
          "Madison",
          "Harrison",
          "DeSoto",
          "Hinds"
         ],
         "legendgroup": "Mississippi",
         "marker": {
          "color": "#FFA15A"
         },
         "name": "Mississippi",
         "offsetgroup": "Mississippi",
         "orientation": "h",
         "showlegend": true,
         "text": [
          1,
          1,
          1,
          1,
          1,
          1,
          1,
          1,
          1,
          1,
          1,
          1,
          1,
          2,
          2,
          2,
          2,
          2,
          2,
          2,
          2,
          2,
          2,
          2,
          2,
          2,
          3,
          3,
          3,
          3,
          3,
          3,
          3,
          3,
          4,
          4,
          4,
          5,
          5,
          5,
          5,
          6,
          6,
          6,
          7,
          8,
          10,
          10,
          11,
          11,
          12,
          13,
          13,
          14,
          14,
          24,
          29,
          31
         ],
         "textposition": "inside",
         "texttemplate": "%{text:.2s}",
         "type": "bar",
         "x": [
          1,
          1,
          1,
          1,
          1,
          1,
          1,
          1,
          1,
          1,
          1,
          1,
          1,
          2,
          2,
          2,
          2,
          2,
          2,
          2,
          2,
          2,
          2,
          2,
          2,
          2,
          3,
          3,
          3,
          3,
          3,
          3,
          3,
          3,
          4,
          4,
          4,
          5,
          5,
          5,
          5,
          6,
          6,
          6,
          7,
          8,
          10,
          10,
          11,
          11,
          12,
          13,
          13,
          14,
          14,
          24,
          29,
          31
         ],
         "xaxis": "x",
         "y": [
          "Mississippi",
          "Mississippi",
          "Mississippi",
          "Mississippi",
          "Mississippi",
          "Mississippi",
          "Mississippi",
          "Mississippi",
          "Mississippi",
          "Mississippi",
          "Mississippi",
          "Mississippi",
          "Mississippi",
          "Mississippi",
          "Mississippi",
          "Mississippi",
          "Mississippi",
          "Mississippi",
          "Mississippi",
          "Mississippi",
          "Mississippi",
          "Mississippi",
          "Mississippi",
          "Mississippi",
          "Mississippi",
          "Mississippi",
          "Mississippi",
          "Mississippi",
          "Mississippi",
          "Mississippi",
          "Mississippi",
          "Mississippi",
          "Mississippi",
          "Mississippi",
          "Mississippi",
          "Mississippi",
          "Mississippi",
          "Mississippi",
          "Mississippi",
          "Mississippi",
          "Mississippi",
          "Mississippi",
          "Mississippi",
          "Mississippi",
          "Mississippi",
          "Mississippi",
          "Mississippi",
          "Mississippi",
          "Mississippi",
          "Mississippi",
          "Mississippi",
          "Mississippi",
          "Mississippi",
          "Mississippi",
          "Mississippi",
          "Mississippi",
          "Mississippi",
          "Mississippi"
         ],
         "yaxis": "y"
        },
        {
         "alignmentgroup": "True",
         "customdata": [
          [
           1,
           0
          ],
          [
           1,
           0
          ],
          [
           1,
           0
          ],
          [
           1,
           0
          ],
          [
           1,
           0
          ],
          [
           1,
           0
          ],
          [
           1,
           0
          ],
          [
           1,
           0
          ],
          [
           1,
           0
          ],
          [
           1,
           0
          ],
          [
           1,
           0
          ],
          [
           1,
           0
          ],
          [
           1,
           0
          ],
          [
           1,
           0
          ],
          [
           2,
           0
          ],
          [
           2,
           0
          ],
          [
           2,
           0
          ],
          [
           2,
           0
          ],
          [
           2,
           0
          ],
          [
           3,
           0
          ],
          [
           4,
           0
          ],
          [
           4,
           0
          ],
          [
           5,
           0
          ],
          [
           6,
           0
          ],
          [
           6,
           0
          ],
          [
           8,
           0
          ],
          [
           14,
           1
          ],
          [
           19,
           3
          ],
          [
           20,
           1
          ],
          [
           21,
           0
          ],
          [
           23,
           1
          ],
          [
           100,
           1
          ]
         ],
         "hoverlabel": {
          "namelength": 0
         },
         "hovertemplate": "<b>%{hovertext}</b><br><br>State=%{y}<br>Confirmed=%{text}<br>Deaths=%{customdata[1]}",
         "hovertext": [
          "Adair",
          "Bates",
          "Camden",
          "Clinton",
          "Dunklin",
          "Henry",
          "Jasper",
          "Johnson",
          "Lafayette",
          "Moniteau",
          "Pemiscot",
          "Randolph",
          "Scott",
          "Taney",
          "Callaway",
          "Christian",
          "Perry",
          "Platte",
          "St. Francois",
          "Clay",
          "Jefferson",
          "Pulaski",
          "Cole",
          "Cass",
          "Unassigned",
          "St. Charles",
          "Jackson",
          "Greene",
          "Boone",
          "Kansas City",
          "St. Louis City",
          "St. Louis"
         ],
         "legendgroup": "Missouri",
         "marker": {
          "color": "#19d3f3"
         },
         "name": "Missouri",
         "offsetgroup": "Missouri",
         "orientation": "h",
         "showlegend": true,
         "text": [
          1,
          1,
          1,
          1,
          1,
          1,
          1,
          1,
          1,
          1,
          1,
          1,
          1,
          1,
          2,
          2,
          2,
          2,
          2,
          3,
          4,
          4,
          5,
          6,
          6,
          8,
          14,
          19,
          20,
          21,
          23,
          100
         ],
         "textposition": "inside",
         "texttemplate": "%{text:.2s}",
         "type": "bar",
         "x": [
          1,
          1,
          1,
          1,
          1,
          1,
          1,
          1,
          1,
          1,
          1,
          1,
          1,
          1,
          2,
          2,
          2,
          2,
          2,
          3,
          4,
          4,
          5,
          6,
          6,
          8,
          14,
          19,
          20,
          21,
          23,
          100
         ],
         "xaxis": "x",
         "y": [
          "Missouri",
          "Missouri",
          "Missouri",
          "Missouri",
          "Missouri",
          "Missouri",
          "Missouri",
          "Missouri",
          "Missouri",
          "Missouri",
          "Missouri",
          "Missouri",
          "Missouri",
          "Missouri",
          "Missouri",
          "Missouri",
          "Missouri",
          "Missouri",
          "Missouri",
          "Missouri",
          "Missouri",
          "Missouri",
          "Missouri",
          "Missouri",
          "Missouri",
          "Missouri",
          "Missouri",
          "Missouri",
          "Missouri",
          "Missouri",
          "Missouri",
          "Missouri"
         ],
         "yaxis": "y"
        },
        {
         "alignmentgroup": "True",
         "customdata": [
          [
           1,
           0
          ],
          [
           1,
           0
          ],
          [
           1,
           0
          ],
          [
           1,
           0
          ],
          [
           2,
           0
          ],
          [
           3,
           0
          ],
          [
           3,
           0
          ],
          [
           4,
           0
          ],
          [
           6,
           0
          ],
          [
           6,
           0
          ],
          [
           7,
           0
          ],
          [
           16,
           0
          ]
         ],
         "hoverlabel": {
          "namelength": 0
         },
         "hovertemplate": "<b>%{hovertext}</b><br><br>State=%{y}<br>Confirmed=%{text}<br>Deaths=%{customdata[1]}",
         "hovertext": [
          "Broadwater",
          "Madison",
          "Ravalli",
          "Roosevelt",
          "Silver Bow",
          "Cascade",
          "Lewis and Clark",
          "Flathead",
          "Missoula",
          "Unassigned",
          "Yellowstone",
          "Gallatin"
         ],
         "legendgroup": "Montana",
         "marker": {
          "color": "#FF6692"
         },
         "name": "Montana",
         "offsetgroup": "Montana",
         "orientation": "h",
         "showlegend": true,
         "text": [
          1,
          1,
          1,
          1,
          2,
          3,
          3,
          4,
          6,
          6,
          7,
          16
         ],
         "textposition": "inside",
         "texttemplate": "%{text:.2s}",
         "type": "bar",
         "x": [
          1,
          1,
          1,
          1,
          2,
          3,
          3,
          4,
          6,
          6,
          7,
          16
         ],
         "xaxis": "x",
         "y": [
          "Montana",
          "Montana",
          "Montana",
          "Montana",
          "Montana",
          "Montana",
          "Montana",
          "Montana",
          "Montana",
          "Montana",
          "Montana",
          "Montana"
         ],
         "yaxis": "y"
        },
        {
         "alignmentgroup": "True",
         "customdata": [
          [
           1,
           0
          ],
          [
           1,
           0
          ],
          [
           1,
           0
          ],
          [
           1,
           0
          ],
          [
           1,
           0
          ],
          [
           2,
           0
          ],
          [
           2,
           0
          ],
          [
           2,
           0
          ],
          [
           2,
           0
          ],
          [
           3,
           0
          ],
          [
           3,
           0
          ],
          [
           8,
           0
          ],
          [
           39,
           0
          ]
         ],
         "hoverlabel": {
          "namelength": 0
         },
         "hovertemplate": "<b>%{hovertext}</b><br><br>State=%{y}<br>Confirmed=%{text}<br>Deaths=%{customdata[1]}",
         "hovertext": [
          "Adams",
          "Gage",
          "Madison",
          "Nemaha",
          "Saunders",
          "Buffalo",
          "Cass",
          "Knox",
          "Lancaster",
          "Lincoln",
          "Washington",
          "Sarpy",
          "Douglas"
         ],
         "legendgroup": "Nebraska",
         "marker": {
          "color": "#B6E880"
         },
         "name": "Nebraska",
         "offsetgroup": "Nebraska",
         "orientation": "h",
         "showlegend": true,
         "text": [
          1,
          1,
          1,
          1,
          1,
          2,
          2,
          2,
          2,
          3,
          3,
          8,
          39
         ],
         "textposition": "inside",
         "texttemplate": "%{text:.2s}",
         "type": "bar",
         "x": [
          1,
          1,
          1,
          1,
          1,
          2,
          2,
          2,
          2,
          3,
          3,
          8,
          39
         ],
         "xaxis": "x",
         "y": [
          "Nebraska",
          "Nebraska",
          "Nebraska",
          "Nebraska",
          "Nebraska",
          "Nebraska",
          "Nebraska",
          "Nebraska",
          "Nebraska",
          "Nebraska",
          "Nebraska",
          "Nebraska",
          "Nebraska"
         ],
         "yaxis": "y"
        },
        {
         "alignmentgroup": "True",
         "customdata": [
          [
           1,
           0
          ],
          [
           2,
           0
          ],
          [
           2,
           0
          ],
          [
           2,
           0
          ],
          [
           15,
           0
          ],
          [
           44,
           0
          ],
          [
           212,
           4
          ]
         ],
         "hoverlabel": {
          "namelength": 0
         },
         "hovertemplate": "<b>%{hovertext}</b><br><br>State=%{y}<br>Confirmed=%{text}<br>Deaths=%{customdata[1]}",
         "hovertext": [
          "Nye",
          "Carson City",
          "Douglas",
          "Elko County",
          "Unassigned",
          "Washoe",
          "Clark"
         ],
         "legendgroup": "Nevada",
         "marker": {
          "color": "#FF97FF"
         },
         "name": "Nevada",
         "offsetgroup": "Nevada",
         "orientation": "h",
         "showlegend": true,
         "text": [
          1,
          2,
          2,
          2,
          15,
          44,
          212
         ],
         "textposition": "inside",
         "texttemplate": "%{text:.2s}",
         "type": "bar",
         "x": [
          1,
          2,
          2,
          2,
          15,
          44,
          212
         ],
         "xaxis": "x",
         "y": [
          "Nevada",
          "Nevada",
          "Nevada",
          "Nevada",
          "Nevada",
          "Nevada",
          "Nevada"
         ],
         "yaxis": "y"
        },
        {
         "alignmentgroup": "True",
         "customdata": [
          [
           1,
           0
          ],
          [
           1,
           0
          ],
          [
           4,
           0
          ],
          [
           4,
           0
          ],
          [
           7,
           0
          ],
          [
           7,
           0
          ],
          [
           19,
           1
          ],
          [
           20,
           0
          ],
          [
           38,
           0
          ]
         ],
         "hoverlabel": {
          "namelength": 0
         },
         "hovertemplate": "<b>%{hovertext}</b><br><br>State=%{y}<br>Confirmed=%{text}<br>Deaths=%{customdata[1]}",
         "hovertext": [
          "Cheshire",
          "Sullivan",
          "Merrimack",
          "Strafford",
          "Belknap",
          "Carroll",
          "Hillsborough",
          "Grafton",
          "Rockingham"
         ],
         "legendgroup": "New Hampshire",
         "marker": {
          "color": "#FECB52"
         },
         "name": "New Hampshire",
         "offsetgroup": "New Hampshire",
         "orientation": "h",
         "showlegend": true,
         "text": [
          1,
          1,
          4,
          4,
          7,
          7,
          19,
          20,
          38
         ],
         "textposition": "inside",
         "texttemplate": "%{text:.2s}",
         "type": "bar",
         "x": [
          1,
          1,
          4,
          4,
          7,
          7,
          19,
          20,
          38
         ],
         "xaxis": "x",
         "y": [
          "New Hampshire",
          "New Hampshire",
          "New Hampshire",
          "New Hampshire",
          "New Hampshire",
          "New Hampshire",
          "New Hampshire",
          "New Hampshire",
          "New Hampshire"
         ],
         "yaxis": "y"
        },
        {
         "alignmentgroup": "True",
         "customdata": [
          [
           1,
           0
          ],
          [
           2,
           0
          ],
          [
           3,
           0
          ],
          [
           6,
           0
          ],
          [
           15,
           0
          ],
          [
           18,
           0
          ],
          [
           19,
           0
          ],
          [
           25,
           0
          ],
          [
           42,
           0
          ],
          [
           51,
           1
          ],
          [
           58,
           0
          ],
          [
           102,
           1
          ],
          [
           180,
           1
          ],
          [
           204,
           1
          ],
          [
           216,
           0
          ],
          [
           234,
           1
          ],
          [
           246,
           0
          ],
          [
           277,
           0
          ],
          [
           288,
           3
          ],
          [
           342,
           4
          ],
          [
           645,
           26
          ],
          [
           701,
           6
          ]
         ],
         "hoverlabel": {
          "namelength": 0
         },
         "hovertemplate": "<b>%{hovertext}</b><br><br>State=%{y}<br>Confirmed=%{text}<br>Deaths=%{customdata[1]}",
         "hovertext": [
          "Salem",
          "Cumberland",
          "Cape May",
          "Atlantic",
          "Warren",
          "Sussex",
          "Gloucester",
          "Hunterdon",
          "Burlington",
          "Camden",
          "Mercer",
          "Somerset",
          "Ocean",
          "Morris",
          "Passaic",
          "Hudson",
          "Union",
          "Middlesex",
          "Monmouth",
          "Essex",
          "Unassigned",
          "Bergen"
         ],
         "legendgroup": "New Jersey",
         "marker": {
          "color": "#636efa"
         },
         "name": "New Jersey",
         "offsetgroup": "New Jersey",
         "orientation": "h",
         "showlegend": true,
         "text": [
          1,
          2,
          3,
          6,
          15,
          18,
          19,
          25,
          42,
          51,
          58,
          102,
          180,
          204,
          216,
          234,
          246,
          277,
          288,
          342,
          645,
          701
         ],
         "textposition": "inside",
         "texttemplate": "%{text:.2s}",
         "type": "bar",
         "x": [
          1,
          2,
          3,
          6,
          15,
          18,
          19,
          25,
          42,
          51,
          58,
          102,
          180,
          204,
          216,
          234,
          246,
          277,
          288,
          342,
          645,
          701
         ],
         "xaxis": "x",
         "y": [
          "New Jersey",
          "New Jersey",
          "New Jersey",
          "New Jersey",
          "New Jersey",
          "New Jersey",
          "New Jersey",
          "New Jersey",
          "New Jersey",
          "New Jersey",
          "New Jersey",
          "New Jersey",
          "New Jersey",
          "New Jersey",
          "New Jersey",
          "New Jersey",
          "New Jersey",
          "New Jersey",
          "New Jersey",
          "New Jersey",
          "New Jersey",
          "New Jersey"
         ],
         "yaxis": "y"
        },
        {
         "alignmentgroup": "True",
         "customdata": [
          [
           1,
           0
          ],
          [
           1,
           0
          ],
          [
           1,
           0
          ],
          [
           1,
           0
          ],
          [
           2,
           0
          ],
          [
           3,
           0
          ],
          [
           3,
           0
          ],
          [
           4,
           0
          ],
          [
           7,
           0
          ],
          [
           7,
           0
          ],
          [
           13,
           0
          ],
          [
           14,
           0
          ],
          [
           43,
           0
          ]
         ],
         "hoverlabel": {
          "namelength": 0
         },
         "hovertemplate": "<b>%{hovertext}</b><br><br>State=%{y}<br>Confirmed=%{text}<br>Deaths=%{customdata[1]}",
         "hovertext": [
          "Cibola",
          "Curry",
          "Lea",
          "San Miguel",
          "Socorro",
          "McKinley",
          "Taos",
          "Chaves",
          "San Juan",
          "Sandoval",
          "Dona Ana",
          "Santa Fe",
          "Bernalillo"
         ],
         "legendgroup": "New Mexico",
         "marker": {
          "color": "#EF553B"
         },
         "name": "New Mexico",
         "offsetgroup": "New Mexico",
         "orientation": "h",
         "showlegend": true,
         "text": [
          1,
          1,
          1,
          1,
          2,
          3,
          3,
          4,
          7,
          7,
          13,
          14,
          43
         ],
         "textposition": "inside",
         "texttemplate": "%{text:.2s}",
         "type": "bar",
         "x": [
          1,
          1,
          1,
          1,
          2,
          3,
          3,
          4,
          7,
          7,
          13,
          14,
          43
         ],
         "xaxis": "x",
         "y": [
          "New Mexico",
          "New Mexico",
          "New Mexico",
          "New Mexico",
          "New Mexico",
          "New Mexico",
          "New Mexico",
          "New Mexico",
          "New Mexico",
          "New Mexico",
          "New Mexico",
          "New Mexico",
          "New Mexico"
         ],
         "yaxis": "y"
        },
        {
         "alignmentgroup": "True",
         "customdata": [
          [
           1,
           0
          ],
          [
           1,
           0
          ],
          [
           1,
           0
          ],
          [
           1,
           0
          ],
          [
           1,
           0
          ],
          [
           1,
           0
          ],
          [
           2,
           0
          ],
          [
           2,
           0
          ],
          [
           2,
           0
          ],
          [
           2,
           0
          ],
          [
           2,
           0
          ],
          [
           2,
           0
          ],
          [
           2,
           0
          ],
          [
           2,
           0
          ],
          [
           3,
           0
          ],
          [
           3,
           0
          ],
          [
           3,
           0
          ],
          [
           3,
           0
          ],
          [
           3,
           0
          ],
          [
           3,
           0
          ],
          [
           3,
           0
          ],
          [
           4,
           0
          ],
          [
           4,
           0
          ],
          [
           4,
           1
          ],
          [
           4,
           1
          ],
          [
           6,
           0
          ],
          [
           6,
           0
          ],
          [
           6,
           0
          ],
          [
           8,
           0
          ],
          [
           9,
           1
          ],
          [
           10,
           0
          ],
          [
           10,
           0
          ],
          [
           16,
           0
          ],
          [
           18,
           0
          ],
          [
           23,
           0
          ],
          [
           33,
           0
          ],
          [
           35,
           0
          ],
          [
           44,
           0
          ],
          [
           53,
           0
          ],
          [
           60,
           1
          ],
          [
           82,
           0
          ],
          [
           106,
           3
          ],
          [
           114,
           0
          ],
          [
           124,
           1
          ],
          [
           146,
           0
          ],
          [
           498,
           0
          ],
          [
           671,
           5
          ],
          [
           1880,
           17
          ],
          [
           2869,
           9
          ],
          [
           3891,
           1
          ],
          [
           14904,
           131
          ]
         ],
         "hoverlabel": {
          "namelength": 0
         },
         "hovertemplate": "<b>%{hovertext}</b><br><br>State=%{y}<br>Confirmed=%{text}<br>Deaths=%{customdata[1]}",
         "hovertext": [
          "Fulton",
          "Genesee",
          "Otsego",
          "Schoharie",
          "St. Lawrence",
          "Tioga",
          "Allegany",
          "Cayuga",
          "Chautauqua",
          "Cortland",
          "Hamilton",
          "Jefferson",
          "Oswego",
          "Warren",
          "Chemung",
          "Chenango",
          "Delaware",
          "Essex",
          "Livingston",
          "Montgomery",
          "Washington",
          "Greene",
          "Herkimer",
          "Madison",
          "Wyoming",
          "Clinton",
          "Ontario",
          "Wayne",
          "Steuben",
          "Broome",
          "Niagara",
          "Oneida",
          "Tompkins",
          "Columbia",
          "Sullivan",
          "Rensselaer",
          "Ulster",
          "Schenectady",
          "Saratoga",
          "Onondaga",
          "Putnam",
          "Monroe",
          "Erie",
          "Dutchess",
          "Albany",
          "Orange",
          "Rockland",
          "Suffolk",
          "Nassau",
          "Westchester",
          "New York City"
         ],
         "legendgroup": "New York",
         "marker": {
          "color": "#00cc96"
         },
         "name": "New York",
         "offsetgroup": "New York",
         "orientation": "h",
         "showlegend": true,
         "text": [
          1,
          1,
          1,
          1,
          1,
          1,
          2,
          2,
          2,
          2,
          2,
          2,
          2,
          2,
          3,
          3,
          3,
          3,
          3,
          3,
          3,
          4,
          4,
          4,
          4,
          6,
          6,
          6,
          8,
          9,
          10,
          10,
          16,
          18,
          23,
          33,
          35,
          44,
          53,
          60,
          82,
          106,
          114,
          124,
          146,
          498,
          671,
          1880,
          2869,
          3891,
          14904
         ],
         "textposition": "inside",
         "texttemplate": "%{text:.2s}",
         "type": "bar",
         "x": [
          1,
          1,
          1,
          1,
          1,
          1,
          2,
          2,
          2,
          2,
          2,
          2,
          2,
          2,
          3,
          3,
          3,
          3,
          3,
          3,
          3,
          4,
          4,
          4,
          4,
          6,
          6,
          6,
          8,
          9,
          10,
          10,
          16,
          18,
          23,
          33,
          35,
          44,
          53,
          60,
          82,
          106,
          114,
          124,
          146,
          498,
          671,
          1880,
          2869,
          3891,
          14904
         ],
         "xaxis": "x",
         "y": [
          "New York",
          "New York",
          "New York",
          "New York",
          "New York",
          "New York",
          "New York",
          "New York",
          "New York",
          "New York",
          "New York",
          "New York",
          "New York",
          "New York",
          "New York",
          "New York",
          "New York",
          "New York",
          "New York",
          "New York",
          "New York",
          "New York",
          "New York",
          "New York",
          "New York",
          "New York",
          "New York",
          "New York",
          "New York",
          "New York",
          "New York",
          "New York",
          "New York",
          "New York",
          "New York",
          "New York",
          "New York",
          "New York",
          "New York",
          "New York",
          "New York",
          "New York",
          "New York",
          "New York",
          "New York",
          "New York",
          "New York",
          "New York",
          "New York",
          "New York",
          "New York"
         ],
         "yaxis": "y"
        },
        {
         "alignmentgroup": "True",
         "customdata": [
          [
           1,
           0
          ],
          [
           1,
           0
          ],
          [
           1,
           0
          ],
          [
           1,
           0
          ],
          [
           1,
           0
          ],
          [
           1,
           0
          ],
          [
           1,
           0
          ],
          [
           1,
           0
          ],
          [
           1,
           0
          ],
          [
           1,
           0
          ],
          [
           1,
           0
          ],
          [
           1,
           0
          ],
          [
           1,
           0
          ],
          [
           1,
           0
          ],
          [
           1,
           0
          ],
          [
           1,
           0
          ],
          [
           1,
           0
          ],
          [
           1,
           0
          ],
          [
           1,
           0
          ],
          [
           1,
           0
          ],
          [
           2,
           0
          ],
          [
           2,
           0
          ],
          [
           2,
           0
          ],
          [
           2,
           0
          ],
          [
           2,
           0
          ],
          [
           2,
           0
          ],
          [
           3,
           0
          ],
          [
           3,
           0
          ],
          [
           3,
           0
          ],
          [
           3,
           0
          ],
          [
           3,
           0
          ],
          [
           3,
           0
          ],
          [
           3,
           0
          ],
          [
           4,
           0
          ],
          [
           4,
           0
          ],
          [
           4,
           0
          ],
          [
           4,
           0
          ],
          [
           4,
           0
          ],
          [
           4,
           0
          ],
          [
           4,
           0
          ],
          [
           5,
           0
          ],
          [
           5,
           0
          ],
          [
           5,
           0
          ],
          [
           6,
           0
          ],
          [
           6,
           0
          ],
          [
           9,
           0
          ],
          [
           9,
           0
          ],
          [
           10,
           0
          ],
          [
           10,
           0
          ],
          [
           10,
           0
          ],
          [
           12,
           0
          ],
          [
           14,
           0
          ],
          [
           16,
           0
          ],
          [
           18,
           0
          ],
          [
           66,
           0
          ],
          [
           71,
           0
          ],
          [
           142,
           0
          ]
         ],
         "hoverlabel": {
          "namelength": 0
         },
         "hovertemplate": "<b>%{hovertext}</b><br><br>State=%{y}<br>Confirmed=%{text}<br>Deaths=%{customdata[1]}",
         "hovertext": [
          "Bertie",
          "Caldwell",
          "Chowan",
          "Davie",
          "Duplin",
          "Granville",
          "Hertford",
          "Hoke",
          "Hyde",
          "Jackson",
          "Lee",
          "Lenoir",
          "Lincoln",
          "Montgomery",
          "Northampton",
          "Pasquotank",
          "Sampson",
          "Scotland",
          "Transylvania",
          "Vance",
          "Beaufort",
          "Henderson",
          "McDowell",
          "Moore",
          "Robeson",
          "Wayne",
          "Alamance",
          "Chatham",
          "Craven",
          "Davidson",
          "Onslow",
          "Randolph",
          "Watauga",
          "Catawba",
          "Cherokee",
          "Franklin",
          "Gaston",
          "Johnston",
          "Nash",
          "Wilson",
          "Carteret",
          "Cumberland",
          "Rowan",
          "Orange",
          "Pitt",
          "Harnett",
          "Iredell",
          "Brunswick",
          "Cabarrus",
          "New Hanover",
          "Buncombe",
          "Forsyth",
          "Guilford",
          "Union",
          "Wake",
          "Durham",
          "Mecklenburg"
         ],
         "legendgroup": "North Carolina",
         "marker": {
          "color": "#ab63fa"
         },
         "name": "North Carolina",
         "offsetgroup": "North Carolina",
         "orientation": "h",
         "showlegend": true,
         "text": [
          1,
          1,
          1,
          1,
          1,
          1,
          1,
          1,
          1,
          1,
          1,
          1,
          1,
          1,
          1,
          1,
          1,
          1,
          1,
          1,
          2,
          2,
          2,
          2,
          2,
          2,
          3,
          3,
          3,
          3,
          3,
          3,
          3,
          4,
          4,
          4,
          4,
          4,
          4,
          4,
          5,
          5,
          5,
          6,
          6,
          9,
          9,
          10,
          10,
          10,
          12,
          14,
          16,
          18,
          66,
          71,
          142
         ],
         "textposition": "inside",
         "texttemplate": "%{text:.2s}",
         "type": "bar",
         "x": [
          1,
          1,
          1,
          1,
          1,
          1,
          1,
          1,
          1,
          1,
          1,
          1,
          1,
          1,
          1,
          1,
          1,
          1,
          1,
          1,
          2,
          2,
          2,
          2,
          2,
          2,
          3,
          3,
          3,
          3,
          3,
          3,
          3,
          4,
          4,
          4,
          4,
          4,
          4,
          4,
          5,
          5,
          5,
          6,
          6,
          9,
          9,
          10,
          10,
          10,
          12,
          14,
          16,
          18,
          66,
          71,
          142
         ],
         "xaxis": "x",
         "y": [
          "North Carolina",
          "North Carolina",
          "North Carolina",
          "North Carolina",
          "North Carolina",
          "North Carolina",
          "North Carolina",
          "North Carolina",
          "North Carolina",
          "North Carolina",
          "North Carolina",
          "North Carolina",
          "North Carolina",
          "North Carolina",
          "North Carolina",
          "North Carolina",
          "North Carolina",
          "North Carolina",
          "North Carolina",
          "North Carolina",
          "North Carolina",
          "North Carolina",
          "North Carolina",
          "North Carolina",
          "North Carolina",
          "North Carolina",
          "North Carolina",
          "North Carolina",
          "North Carolina",
          "North Carolina",
          "North Carolina",
          "North Carolina",
          "North Carolina",
          "North Carolina",
          "North Carolina",
          "North Carolina",
          "North Carolina",
          "North Carolina",
          "North Carolina",
          "North Carolina",
          "North Carolina",
          "North Carolina",
          "North Carolina",
          "North Carolina",
          "North Carolina",
          "North Carolina",
          "North Carolina",
          "North Carolina",
          "North Carolina",
          "North Carolina",
          "North Carolina",
          "North Carolina",
          "North Carolina",
          "North Carolina",
          "North Carolina",
          "North Carolina",
          "North Carolina"
         ],
         "yaxis": "y"
        },
        {
         "alignmentgroup": "True",
         "customdata": [
          [
           1,
           0
          ],
          [
           1,
           0
          ],
          [
           1,
           0
          ],
          [
           2,
           0
          ],
          [
           3,
           0
          ],
          [
           3,
           0
          ],
          [
           7,
           0
          ],
          [
           18,
           0
          ]
         ],
         "hoverlabel": {
          "namelength": 0
         },
         "hovertemplate": "<b>%{hovertext}</b><br><br>State=%{y}<br>Confirmed=%{text}<br>Deaths=%{customdata[1]}",
         "hovertext": [
          "Dunn",
          "Ramsey",
          "Walsh",
          "Pierce",
          "Cass",
          "Ward",
          "Morton",
          "Burleigh"
         ],
         "legendgroup": "North Dakota",
         "marker": {
          "color": "#FFA15A"
         },
         "name": "North Dakota",
         "offsetgroup": "North Dakota",
         "orientation": "h",
         "showlegend": true,
         "text": [
          1,
          1,
          1,
          2,
          3,
          3,
          7,
          18
         ],
         "textposition": "inside",
         "texttemplate": "%{text:.2s}",
         "type": "bar",
         "x": [
          1,
          1,
          1,
          2,
          3,
          3,
          7,
          18
         ],
         "xaxis": "x",
         "y": [
          "North Dakota",
          "North Dakota",
          "North Dakota",
          "North Dakota",
          "North Dakota",
          "North Dakota",
          "North Dakota",
          "North Dakota"
         ],
         "yaxis": "y"
        },
        {
         "alignmentgroup": "True",
         "customdata": [
          [
           1,
           0
          ],
          [
           1,
           0
          ],
          [
           1,
           0
          ],
          [
           1,
           0
          ],
          [
           1,
           0
          ],
          [
           1,
           1
          ],
          [
           1,
           1
          ],
          [
           1,
           0
          ],
          [
           1,
           0
          ],
          [
           1,
           0
          ],
          [
           1,
           0
          ],
          [
           1,
           0
          ],
          [
           1,
           0
          ],
          [
           1,
           0
          ],
          [
           2,
           0
          ],
          [
           2,
           0
          ],
          [
           2,
           0
          ],
          [
           2,
           0
          ],
          [
           2,
           0
          ],
          [
           2,
           0
          ],
          [
           2,
           0
          ],
          [
           2,
           0
          ],
          [
           2,
           0
          ],
          [
           3,
           0
          ],
          [
           3,
           0
          ],
          [
           3,
           0
          ],
          [
           3,
           0
          ],
          [
           3,
           0
          ],
          [
           3,
           0
          ],
          [
           4,
           0
          ],
          [
           4,
           0
          ],
          [
           4,
           0
          ],
          [
           4,
           0
          ],
          [
           5,
           0
          ],
          [
           5,
           0
          ],
          [
           7,
           0
          ],
          [
           10,
           0
          ],
          [
           11,
           0
          ],
          [
           11,
           0
          ],
          [
           13,
           1
          ],
          [
           13,
           1
          ],
          [
           15,
           0
          ],
          [
           18,
           0
          ],
          [
           19,
           0
          ],
          [
           28,
           0
          ],
          [
           30,
           0
          ],
          [
           36,
           0
          ],
          [
           38,
           0
          ],
          [
           75,
           2
          ],
          [
           167,
           2
          ]
         ],
         "hoverlabel": {
          "namelength": 0
         },
         "hovertemplate": "<b>%{hovertext}</b><br><br>State=%{y}<br>Confirmed=%{text}<br>Deaths=%{customdata[1]}",
         "hovertext": [
          "Ashland",
          "Champaign",
          "Clinton",
          "Crawford",
          "Darke",
          "Erie",
          "Gallia",
          "Hancock",
          "Highland",
          "Knox",
          "Madison",
          "Sandusky",
          "Seneca",
          "Washington",
          "Belmont",
          "Clark",
          "Defiance",
          "Fairfield",
          "Huron",
          "Licking",
          "Logan",
          "Union",
          "Wood",
          "Ashtabula",
          "Carroll",
          "Columbiana",
          "Coshocton",
          "Greene",
          "Tuscarawas",
          "Marion",
          "Portage",
          "Richland",
          "Trumbull",
          "Clermont",
          "Geauga",
          "Warren",
          "Montgomery",
          "Delaware",
          "Lake",
          "Lucas",
          "Stark",
          "Medina",
          "Butler",
          "Miami",
          "Mahoning",
          "Lorain",
          "Summit",
          "Hamilton",
          "Franklin",
          "Cuyahoga"
         ],
         "legendgroup": "Ohio",
         "marker": {
          "color": "#19d3f3"
         },
         "name": "Ohio",
         "offsetgroup": "Ohio",
         "orientation": "h",
         "showlegend": true,
         "text": [
          1,
          1,
          1,
          1,
          1,
          1,
          1,
          1,
          1,
          1,
          1,
          1,
          1,
          1,
          2,
          2,
          2,
          2,
          2,
          2,
          2,
          2,
          2,
          3,
          3,
          3,
          3,
          3,
          3,
          4,
          4,
          4,
          4,
          5,
          5,
          7,
          10,
          11,
          11,
          13,
          13,
          15,
          18,
          19,
          28,
          30,
          36,
          38,
          75,
          167
         ],
         "textposition": "inside",
         "texttemplate": "%{text:.2s}",
         "type": "bar",
         "x": [
          1,
          1,
          1,
          1,
          1,
          1,
          1,
          1,
          1,
          1,
          1,
          1,
          1,
          1,
          2,
          2,
          2,
          2,
          2,
          2,
          2,
          2,
          2,
          3,
          3,
          3,
          3,
          3,
          3,
          4,
          4,
          4,
          4,
          5,
          5,
          7,
          10,
          11,
          11,
          13,
          13,
          15,
          18,
          19,
          28,
          30,
          36,
          38,
          75,
          167
         ],
         "xaxis": "x",
         "y": [
          "Ohio",
          "Ohio",
          "Ohio",
          "Ohio",
          "Ohio",
          "Ohio",
          "Ohio",
          "Ohio",
          "Ohio",
          "Ohio",
          "Ohio",
          "Ohio",
          "Ohio",
          "Ohio",
          "Ohio",
          "Ohio",
          "Ohio",
          "Ohio",
          "Ohio",
          "Ohio",
          "Ohio",
          "Ohio",
          "Ohio",
          "Ohio",
          "Ohio",
          "Ohio",
          "Ohio",
          "Ohio",
          "Ohio",
          "Ohio",
          "Ohio",
          "Ohio",
          "Ohio",
          "Ohio",
          "Ohio",
          "Ohio",
          "Ohio",
          "Ohio",
          "Ohio",
          "Ohio",
          "Ohio",
          "Ohio",
          "Ohio",
          "Ohio",
          "Ohio",
          "Ohio",
          "Ohio",
          "Ohio",
          "Ohio",
          "Ohio"
         ],
         "yaxis": "y"
        },
        {
         "alignmentgroup": "True",
         "customdata": [
          [
           1,
           0
          ],
          [
           1,
           0
          ],
          [
           1,
           0
          ],
          [
           1,
           0
          ],
          [
           1,
           0
          ],
          [
           1,
           0
          ],
          [
           1,
           0
          ],
          [
           2,
           0
          ],
          [
           2,
           0
          ],
          [
           2,
           0
          ],
          [
           2,
           0
          ],
          [
           3,
           0
          ],
          [
           4,
           0
          ],
          [
           4,
           1
          ],
          [
           5,
           0
          ],
          [
           12,
           1
          ],
          [
           22,
           1
          ],
          [
           41,
           0
          ]
         ],
         "hoverlabel": {
          "namelength": 0
         },
         "hovertemplate": "<b>%{hovertext}</b><br><br>State=%{y}<br>Confirmed=%{text}<br>Deaths=%{customdata[1]}",
         "hovertext": [
          "Grady",
          "Jackson",
          "Logan",
          "Mayes",
          "McClain",
          "Muskogee",
          "Pontotoc",
          "Custer",
          "Garvin",
          "Noble",
          "Washington",
          "Payne",
          "Canadian",
          "Pawnee",
          "Kay",
          "Tulsa",
          "Cleveland",
          "Oklahoma"
         ],
         "legendgroup": "Oklahoma",
         "marker": {
          "color": "#FF6692"
         },
         "name": "Oklahoma",
         "offsetgroup": "Oklahoma",
         "orientation": "h",
         "showlegend": true,
         "text": [
          1,
          1,
          1,
          1,
          1,
          1,
          1,
          2,
          2,
          2,
          2,
          3,
          4,
          4,
          5,
          12,
          22,
          41
         ],
         "textposition": "inside",
         "texttemplate": "%{text:.2s}",
         "type": "bar",
         "x": [
          1,
          1,
          1,
          1,
          1,
          1,
          1,
          2,
          2,
          2,
          2,
          3,
          4,
          4,
          5,
          12,
          22,
          41
         ],
         "xaxis": "x",
         "y": [
          "Oklahoma",
          "Oklahoma",
          "Oklahoma",
          "Oklahoma",
          "Oklahoma",
          "Oklahoma",
          "Oklahoma",
          "Oklahoma",
          "Oklahoma",
          "Oklahoma",
          "Oklahoma",
          "Oklahoma",
          "Oklahoma",
          "Oklahoma",
          "Oklahoma",
          "Oklahoma",
          "Oklahoma",
          "Oklahoma"
         ],
         "yaxis": "y"
        },
        {
         "alignmentgroup": "True",
         "customdata": [
          [
           1,
           0
          ],
          [
           1,
           0
          ],
          [
           1,
           0
          ],
          [
           1,
           0
          ],
          [
           1,
           0
          ],
          [
           1,
           0
          ],
          [
           1,
           0
          ],
          [
           2,
           0
          ],
          [
           3,
           0
          ],
          [
           3,
           0
          ],
          [
           4,
           0
          ],
          [
           4,
           1
          ],
          [
           6,
           0
          ],
          [
           10,
           0
          ],
          [
           17,
           1
          ],
          [
           21,
           1
          ],
          [
           25,
           2
          ],
          [
           32,
           1
          ],
          [
           76,
           2
          ]
         ],
         "hoverlabel": {
          "namelength": 0
         },
         "hovertemplate": "<b>%{hovertext}</b><br><br>State=%{y}<br>Confirmed=%{text}<br>Deaths=%{customdata[1]}",
         "hovertext": [
          "Clatsop",
          "Douglas",
          "Grant",
          "Hood River",
          "Josephine",
          "Klamath",
          "Union",
          "Umatilla",
          "Jackson",
          "Polk",
          "Benton",
          "Lane",
          "Yamhill",
          "Deschutes",
          "Clackamas",
          "Linn",
          "Multnomah",
          "Marion",
          "Washington"
         ],
         "legendgroup": "Oregon",
         "marker": {
          "color": "#B6E880"
         },
         "name": "Oregon",
         "offsetgroup": "Oregon",
         "orientation": "h",
         "showlegend": true,
         "text": [
          1,
          1,
          1,
          1,
          1,
          1,
          1,
          2,
          3,
          3,
          4,
          4,
          6,
          10,
          17,
          21,
          25,
          32,
          76
         ],
         "textposition": "inside",
         "texttemplate": "%{text:.2s}",
         "type": "bar",
         "x": [
          1,
          1,
          1,
          1,
          1,
          1,
          1,
          2,
          3,
          3,
          4,
          4,
          6,
          10,
          17,
          21,
          25,
          32,
          76
         ],
         "xaxis": "x",
         "y": [
          "Oregon",
          "Oregon",
          "Oregon",
          "Oregon",
          "Oregon",
          "Oregon",
          "Oregon",
          "Oregon",
          "Oregon",
          "Oregon",
          "Oregon",
          "Oregon",
          "Oregon",
          "Oregon",
          "Oregon",
          "Oregon",
          "Oregon",
          "Oregon",
          "Oregon"
         ],
         "yaxis": "y"
        },
        {
         "alignmentgroup": "True",
         "customdata": [
          [
           1,
           0
          ],
          [
           1,
           0
          ],
          [
           1,
           0
          ],
          [
           1,
           0
          ],
          [
           1,
           0
          ],
          [
           1,
           0
          ],
          [
           1,
           0
          ],
          [
           1,
           0
          ],
          [
           1,
           0
          ],
          [
           2,
           0
          ],
          [
           2,
           0
          ],
          [
           3,
           0
          ],
          [
           3,
           0
          ],
          [
           3,
           0
          ],
          [
           3,
           0
          ],
          [
           4,
           0
          ],
          [
           4,
           0
          ],
          [
           4,
           0
          ],
          [
           5,
           0
          ],
          [
           5,
           0
          ],
          [
           6,
           0
          ],
          [
           6,
           0
          ],
          [
           7,
           0
          ],
          [
           9,
           0
          ],
          [
           10,
           0
          ],
          [
           11,
           0
          ],
          [
           13,
           0
          ],
          [
           15,
           1
          ],
          [
           16,
           0
          ],
          [
           18,
           0
          ],
          [
           21,
           0
          ],
          [
           27,
           1
          ],
          [
           33,
           2
          ],
          [
           40,
           0
          ],
          [
           45,
           1
          ],
          [
           58,
           2
          ],
          [
           69,
           0
          ],
          [
           84,
           0
          ],
          [
           159,
           1
          ],
          [
           252,
           0
          ]
         ],
         "hoverlabel": {
          "namelength": 0
         },
         "hovertemplate": "<b>%{hovertext}</b><br><br>State=%{y}<br>Confirmed=%{text}<br>Deaths=%{customdata[1]}",
         "hovertext": [
          "Armstrong",
          "Bradford",
          "Cambria",
          "Carbon",
          "Clearfield",
          "Columbia",
          "Juniata",
          "Potter",
          "Somerset",
          "Fayette",
          "Mercer",
          "Beaver",
          "Franklin",
          "Lebanon",
          "Montour",
          "Dauphin",
          "Pike",
          "Wayne",
          "Erie",
          "Schuylkill",
          "Adams",
          "Butler",
          "Centre",
          "Washington",
          "Lancaster",
          "Westmoreland",
          "Cumberland",
          "Lackawanna",
          "Berks",
          "York",
          "Luzerne",
          "Lehigh",
          "Northampton",
          "Chester",
          "Monroe",
          "Allegheny",
          "Bucks",
          "Delaware",
          "Montgomery",
          "Philadelphia"
         ],
         "legendgroup": "Pennsylvania",
         "marker": {
          "color": "#FF97FF"
         },
         "name": "Pennsylvania",
         "offsetgroup": "Pennsylvania",
         "orientation": "h",
         "showlegend": true,
         "text": [
          1,
          1,
          1,
          1,
          1,
          1,
          1,
          1,
          1,
          2,
          2,
          3,
          3,
          3,
          3,
          4,
          4,
          4,
          5,
          5,
          6,
          6,
          7,
          9,
          10,
          11,
          13,
          15,
          16,
          18,
          21,
          27,
          33,
          40,
          45,
          58,
          69,
          84,
          159,
          252
         ],
         "textposition": "inside",
         "texttemplate": "%{text:.2s}",
         "type": "bar",
         "x": [
          1,
          1,
          1,
          1,
          1,
          1,
          1,
          1,
          1,
          2,
          2,
          3,
          3,
          3,
          3,
          4,
          4,
          4,
          5,
          5,
          6,
          6,
          7,
          9,
          10,
          11,
          13,
          15,
          16,
          18,
          21,
          27,
          33,
          40,
          45,
          58,
          69,
          84,
          159,
          252
         ],
         "xaxis": "x",
         "y": [
          "Pennsylvania",
          "Pennsylvania",
          "Pennsylvania",
          "Pennsylvania",
          "Pennsylvania",
          "Pennsylvania",
          "Pennsylvania",
          "Pennsylvania",
          "Pennsylvania",
          "Pennsylvania",
          "Pennsylvania",
          "Pennsylvania",
          "Pennsylvania",
          "Pennsylvania",
          "Pennsylvania",
          "Pennsylvania",
          "Pennsylvania",
          "Pennsylvania",
          "Pennsylvania",
          "Pennsylvania",
          "Pennsylvania",
          "Pennsylvania",
          "Pennsylvania",
          "Pennsylvania",
          "Pennsylvania",
          "Pennsylvania",
          "Pennsylvania",
          "Pennsylvania",
          "Pennsylvania",
          "Pennsylvania",
          "Pennsylvania",
          "Pennsylvania",
          "Pennsylvania",
          "Pennsylvania",
          "Pennsylvania",
          "Pennsylvania",
          "Pennsylvania",
          "Pennsylvania",
          "Pennsylvania",
          "Pennsylvania"
         ],
         "yaxis": "y"
        },
        {
         "alignmentgroup": "True",
         "customdata": [
          [
           7,
           0
          ],
          [
           9,
           0
          ],
          [
           9,
           0
          ],
          [
           23,
           0
          ],
          [
           24,
           0
          ],
          [
           52,
           0
          ]
         ],
         "hoverlabel": {
          "namelength": 0
         },
         "hovertemplate": "<b>%{hovertext}</b><br><br>State=%{y}<br>Confirmed=%{text}<br>Deaths=%{customdata[1]}",
         "hovertext": [
          "Kent",
          "Newport",
          "Washington",
          "Unassigned",
          "Bristol",
          "Providence"
         ],
         "legendgroup": "Rhode Island",
         "marker": {
          "color": "#FECB52"
         },
         "name": "Rhode Island",
         "offsetgroup": "Rhode Island",
         "orientation": "h",
         "showlegend": true,
         "text": [
          7,
          9,
          9,
          23,
          24,
          52
         ],
         "textposition": "inside",
         "texttemplate": "%{text:.2s}",
         "type": "bar",
         "x": [
          7,
          9,
          9,
          23,
          24,
          52
         ],
         "xaxis": "x",
         "y": [
          "Rhode Island",
          "Rhode Island",
          "Rhode Island",
          "Rhode Island",
          "Rhode Island",
          "Rhode Island"
         ],
         "yaxis": "y"
        },
        {
         "alignmentgroup": "True",
         "customdata": [
          [
           1,
           0
          ],
          [
           1,
           0
          ],
          [
           1,
           0
          ],
          [
           1,
           0
          ],
          [
           1,
           0
          ],
          [
           1,
           0
          ],
          [
           1,
           0
          ],
          [
           1,
           0
          ],
          [
           1,
           0
          ],
          [
           1,
           0
          ],
          [
           1,
           0
          ],
          [
           2,
           0
          ],
          [
           2,
           0
          ],
          [
           2,
           0
          ],
          [
           2,
           0
          ],
          [
           2,
           0
          ],
          [
           2,
           0
          ],
          [
           2,
           0
          ],
          [
           3,
           0
          ],
          [
           4,
           0
          ],
          [
           4,
           0
          ],
          [
           5,
           1
          ],
          [
           5,
           1
          ],
          [
           7,
           0
          ],
          [
           8,
           0
          ],
          [
           8,
           0
          ],
          [
           8,
           0
          ],
          [
           11,
           0
          ],
          [
           16,
           0
          ],
          [
           19,
           0
          ],
          [
           19,
           1
          ],
          [
           22,
           0
          ],
          [
           36,
           1
          ],
          [
           39,
           0
          ],
          [
           45,
           0
          ],
          [
           58,
           1
          ]
         ],
         "hoverlabel": {
          "namelength": 0
         },
         "hovertemplate": "<b>%{hovertext}</b><br><br>State=%{y}<br>Confirmed=%{text}<br>Deaths=%{customdata[1]}",
         "hovertext": [
          "Abbeville",
          "Calhoun",
          "Chester",
          "Chesterfield",
          "Colleton",
          "Dillon",
          "Edgefield",
          "Marlboro",
          "Newberry",
          "Pickens",
          "Saluda",
          "Aiken",
          "Fairfield",
          "Georgetown",
          "Greenwood",
          "Jasper",
          "Lee",
          "Oconee",
          "Dorchester",
          "Berkeley",
          "Spartanburg",
          "Clarendon",
          "Florence",
          "Lancaster",
          "Darlington",
          "Orangeburg",
          "Sumter",
          "York",
          "Anderson",
          "Horry",
          "Lexington",
          "Beaufort",
          "Charleston",
          "Greenville",
          "Richland",
          "Kershaw"
         ],
         "legendgroup": "South Carolina",
         "marker": {
          "color": "#636efa"
         },
         "name": "South Carolina",
         "offsetgroup": "South Carolina",
         "orientation": "h",
         "showlegend": true,
         "text": [
          1,
          1,
          1,
          1,
          1,
          1,
          1,
          1,
          1,
          1,
          1,
          2,
          2,
          2,
          2,
          2,
          2,
          2,
          3,
          4,
          4,
          5,
          5,
          7,
          8,
          8,
          8,
          11,
          16,
          19,
          19,
          22,
          36,
          39,
          45,
          58
         ],
         "textposition": "inside",
         "texttemplate": "%{text:.2s}",
         "type": "bar",
         "x": [
          1,
          1,
          1,
          1,
          1,
          1,
          1,
          1,
          1,
          1,
          1,
          2,
          2,
          2,
          2,
          2,
          2,
          2,
          3,
          4,
          4,
          5,
          5,
          7,
          8,
          8,
          8,
          11,
          16,
          19,
          19,
          22,
          36,
          39,
          45,
          58
         ],
         "xaxis": "x",
         "y": [
          "South Carolina",
          "South Carolina",
          "South Carolina",
          "South Carolina",
          "South Carolina",
          "South Carolina",
          "South Carolina",
          "South Carolina",
          "South Carolina",
          "South Carolina",
          "South Carolina",
          "South Carolina",
          "South Carolina",
          "South Carolina",
          "South Carolina",
          "South Carolina",
          "South Carolina",
          "South Carolina",
          "South Carolina",
          "South Carolina",
          "South Carolina",
          "South Carolina",
          "South Carolina",
          "South Carolina",
          "South Carolina",
          "South Carolina",
          "South Carolina",
          "South Carolina",
          "South Carolina",
          "South Carolina",
          "South Carolina",
          "South Carolina",
          "South Carolina",
          "South Carolina",
          "South Carolina",
          "South Carolina"
         ],
         "yaxis": "y"
        },
        {
         "alignmentgroup": "True",
         "customdata": [
          [
           1,
           0
          ],
          [
           1,
           0
          ],
          [
           1,
           0
          ],
          [
           1,
           0
          ],
          [
           1,
           0
          ],
          [
           1,
           0
          ],
          [
           1,
           0
          ],
          [
           1,
           1
          ],
          [
           2,
           0
          ],
          [
           2,
           0
          ],
          [
           5,
           0
          ],
          [
           13,
           0
          ]
         ],
         "hoverlabel": {
          "namelength": 0
         },
         "hovertemplate": "<b>%{hovertext}</b><br><br>State=%{y}<br>Confirmed=%{text}<br>Deaths=%{customdata[1]}",
         "hovertext": [
          "Bon Homme",
          "Brookings",
          "Brown",
          "Charles Mix",
          "Codington",
          "Hughes",
          "Lyman",
          "Pennington",
          "Davison",
          "McCook",
          "Minnehaha",
          "Beadle"
         ],
         "legendgroup": "South Dakota",
         "marker": {
          "color": "#EF553B"
         },
         "name": "South Dakota",
         "offsetgroup": "South Dakota",
         "orientation": "h",
         "showlegend": true,
         "text": [
          1,
          1,
          1,
          1,
          1,
          1,
          1,
          1,
          2,
          2,
          5,
          13
         ],
         "textposition": "inside",
         "texttemplate": "%{text:.2s}",
         "type": "bar",
         "x": [
          1,
          1,
          1,
          1,
          1,
          1,
          1,
          1,
          2,
          2,
          5,
          13
         ],
         "xaxis": "x",
         "y": [
          "South Dakota",
          "South Dakota",
          "South Dakota",
          "South Dakota",
          "South Dakota",
          "South Dakota",
          "South Dakota",
          "South Dakota",
          "South Dakota",
          "South Dakota",
          "South Dakota",
          "South Dakota"
         ],
         "yaxis": "y"
        },
        {
         "alignmentgroup": "True",
         "customdata": [
          [
           1,
           0
          ],
          [
           1,
           0
          ],
          [
           1,
           0
          ],
          [
           1,
           0
          ],
          [
           1,
           0
          ],
          [
           1,
           0
          ],
          [
           1,
           0
          ],
          [
           1,
           0
          ],
          [
           1,
           0
          ],
          [
           1,
           0
          ],
          [
           1,
           0
          ],
          [
           1,
           0
          ],
          [
           1,
           0
          ],
          [
           1,
           0
          ],
          [
           1,
           0
          ],
          [
           2,
           0
          ],
          [
           2,
           0
          ],
          [
           2,
           0
          ],
          [
           2,
           0
          ],
          [
           2,
           0
          ],
          [
           2,
           0
          ],
          [
           2,
           0
          ],
          [
           2,
           0
          ],
          [
           2,
           0
          ],
          [
           2,
           0
          ],
          [
           2,
           0
          ],
          [
           3,
           0
          ],
          [
           3,
           0
          ],
          [
           3,
           0
          ],
          [
           4,
           0
          ],
          [
           5,
           0
          ],
          [
           5,
           0
          ],
          [
           5,
           0
          ],
          [
           6,
           0
          ],
          [
           6,
           0
          ],
          [
           6,
           0
          ],
          [
           7,
           0
          ],
          [
           7,
           0
          ],
          [
           8,
           0
          ],
          [
           8,
           0
          ],
          [
           12,
           0
          ],
          [
           13,
           0
          ],
          [
           15,
           0
          ],
          [
           34,
           0
          ],
          [
           38,
           0
          ],
          [
           64,
           0
          ],
          [
           95,
           0
          ],
          [
           135,
           0
          ],
          [
           253,
           2
          ]
         ],
         "hoverlabel": {
          "namelength": 0
         },
         "hovertemplate": "<b>%{hovertext}</b><br><br>State=%{y}<br>Confirmed=%{text}<br>Deaths=%{customdata[1]}",
         "hovertext": [
          "Anderson",
          "Chester",
          "Claiborne",
          "Cocke",
          "Franklin",
          "Grundy",
          "Hardin",
          "Houston",
          "Lincoln",
          "Madison",
          "Marion",
          "Overton",
          "Perry",
          "Roane",
          "Scott",
          "Bradley",
          "Campbell",
          "Dyer",
          "Fayette",
          "Gibson",
          "Hamblen",
          "Loudon",
          "McMinn",
          "Monroe",
          "Sevier",
          "Sullivan",
          "Blount",
          "Carroll",
          "Cumberland",
          "Jefferson",
          "Cheatham",
          "Dickson",
          "Greene",
          "Maury",
          "Montgomery",
          "Tipton",
          "Washington",
          "Wilson",
          "Hamilton",
          "Putnam",
          "Robertson",
          "Rutherford",
          "Knox",
          "Sumner",
          "Unassigned",
          "Williamson",
          "Out of TN",
          "Shelby",
          "Davidson"
         ],
         "legendgroup": "Tennessee",
         "marker": {
          "color": "#00cc96"
         },
         "name": "Tennessee",
         "offsetgroup": "Tennessee",
         "orientation": "h",
         "showlegend": true,
         "text": [
          1,
          1,
          1,
          1,
          1,
          1,
          1,
          1,
          1,
          1,
          1,
          1,
          1,
          1,
          1,
          2,
          2,
          2,
          2,
          2,
          2,
          2,
          2,
          2,
          2,
          2,
          3,
          3,
          3,
          4,
          5,
          5,
          5,
          6,
          6,
          6,
          7,
          7,
          8,
          8,
          12,
          13,
          15,
          34,
          38,
          64,
          95,
          135,
          253
         ],
         "textposition": "inside",
         "texttemplate": "%{text:.2s}",
         "type": "bar",
         "x": [
          1,
          1,
          1,
          1,
          1,
          1,
          1,
          1,
          1,
          1,
          1,
          1,
          1,
          1,
          1,
          2,
          2,
          2,
          2,
          2,
          2,
          2,
          2,
          2,
          2,
          2,
          3,
          3,
          3,
          4,
          5,
          5,
          5,
          6,
          6,
          6,
          7,
          7,
          8,
          8,
          12,
          13,
          15,
          34,
          38,
          64,
          95,
          135,
          253
         ],
         "xaxis": "x",
         "y": [
          "Tennessee",
          "Tennessee",
          "Tennessee",
          "Tennessee",
          "Tennessee",
          "Tennessee",
          "Tennessee",
          "Tennessee",
          "Tennessee",
          "Tennessee",
          "Tennessee",
          "Tennessee",
          "Tennessee",
          "Tennessee",
          "Tennessee",
          "Tennessee",
          "Tennessee",
          "Tennessee",
          "Tennessee",
          "Tennessee",
          "Tennessee",
          "Tennessee",
          "Tennessee",
          "Tennessee",
          "Tennessee",
          "Tennessee",
          "Tennessee",
          "Tennessee",
          "Tennessee",
          "Tennessee",
          "Tennessee",
          "Tennessee",
          "Tennessee",
          "Tennessee",
          "Tennessee",
          "Tennessee",
          "Tennessee",
          "Tennessee",
          "Tennessee",
          "Tennessee",
          "Tennessee",
          "Tennessee",
          "Tennessee",
          "Tennessee",
          "Tennessee",
          "Tennessee",
          "Tennessee",
          "Tennessee",
          "Tennessee"
         ],
         "yaxis": "y"
        },
        {
         "alignmentgroup": "True",
         "customdata": [
          [
           1,
           0
          ],
          [
           1,
           0
          ],
          [
           1,
           0
          ],
          [
           1,
           0
          ],
          [
           1,
           0
          ],
          [
           1,
           0
          ],
          [
           1,
           0
          ],
          [
           1,
           0
          ],
          [
           1,
           0
          ],
          [
           1,
           0
          ],
          [
           1,
           0
          ],
          [
           1,
           0
          ],
          [
           1,
           0
          ],
          [
           1,
           0
          ],
          [
           1,
           0
          ],
          [
           1,
           0
          ],
          [
           1,
           0
          ],
          [
           1,
           0
          ],
          [
           1,
           0
          ],
          [
           1,
           0
          ],
          [
           1,
           0
          ],
          [
           1,
           0
          ],
          [
           1,
           0
          ],
          [
           1,
           0
          ],
          [
           1,
           1
          ],
          [
           1,
           0
          ],
          [
           1,
           0
          ],
          [
           1,
           0
          ],
          [
           1,
           0
          ],
          [
           1,
           0
          ],
          [
           1,
           0
          ],
          [
           1,
           0
          ],
          [
           1,
           0
          ],
          [
           1,
           0
          ],
          [
           1,
           0
          ],
          [
           2,
           0
          ],
          [
           2,
           0
          ],
          [
           2,
           0
          ],
          [
           2,
           0
          ],
          [
           2,
           0
          ],
          [
           2,
           0
          ],
          [
           2,
           0
          ],
          [
           2,
           0
          ],
          [
           2,
           0
          ],
          [
           2,
           0
          ],
          [
           3,
           0
          ],
          [
           3,
           1
          ],
          [
           3,
           0
          ],
          [
           3,
           0
          ],
          [
           4,
           0
          ],
          [
           4,
           1
          ],
          [
           4,
           0
          ],
          [
           5,
           0
          ],
          [
           5,
           0
          ],
          [
           6,
           0
          ],
          [
           6,
           0
          ],
          [
           6,
           0
          ],
          [
           6,
           0
          ],
          [
           7,
           0
          ],
          [
           10,
           0
          ],
          [
           12,
           0
          ],
          [
           14,
           0
          ],
          [
           14,
           0
          ],
          [
           16,
           0
          ],
          [
           18,
           0
          ],
          [
           18,
           0
          ],
          [
           23,
           0
          ],
          [
           24,
           0
          ],
          [
           28,
           0
          ],
          [
           38,
           0
          ],
          [
           45,
           1
          ],
          [
           46,
           0
          ],
          [
           69,
           1
          ],
          [
           71,
           1
          ],
          [
           86,
           0
          ],
          [
           134,
           1
          ],
          [
           169,
           5
          ]
         ],
         "hoverlabel": {
          "namelength": 0
         },
         "hovertemplate": "<b>%{hovertext}</b><br><br>State=%{y}<br>Confirmed=%{text}<br>Deaths=%{customdata[1]}",
         "hovertext": [
          "Bastrop",
          "Blanco",
          "Bowie",
          "Burnet",
          "Chambers",
          "Crane",
          "DeWitt",
          "Deaf Smith",
          "Eastland",
          "Erath",
          "Falls",
          "Fannin",
          "Fayette",
          "Gaines",
          "Gregg",
          "Hopkins",
          "Hunt",
          "Kendall",
          "Lamar",
          "Lavaca",
          "Liberty",
          "Llano",
          "Maverick",
          "Medina",
          "Oldham",
          "Orange",
          "Parker",
          "Robertson",
          "Rusk",
          "Terry",
          "Tom Green",
          "Van Zandt",
          "Walker",
          "Waller",
          "Wharton",
          "Atascosa",
          "Brown",
          "Castro",
          "Grayson",
          "Grimes",
          "Hardin",
          "Hidalgo",
          "Johnson",
          "Milam",
          "Randall",
          "Hockley",
          "Midland",
          "Potter",
          "Victoria",
          "Guadalupe",
          "Matagorda",
          "Webb",
          "Comal",
          "Wichita",
          "Cameron",
          "Ellis",
          "Jefferson",
          "Nueces",
          "Hays",
          "El Paso",
          "Lubbock",
          "Smith",
          "Williamson",
          "Brazos",
          "Bell",
          "Galveston",
          "Montgomery",
          "McLennan",
          "Brazoria",
          "Denton",
          "Collin",
          "Fort Bend",
          "Bexar",
          "Tarrant",
          "Travis",
          "Harris",
          "Dallas"
         ],
         "legendgroup": "Texas",
         "marker": {
          "color": "#ab63fa"
         },
         "name": "Texas",
         "offsetgroup": "Texas",
         "orientation": "h",
         "showlegend": true,
         "text": [
          1,
          1,
          1,
          1,
          1,
          1,
          1,
          1,
          1,
          1,
          1,
          1,
          1,
          1,
          1,
          1,
          1,
          1,
          1,
          1,
          1,
          1,
          1,
          1,
          1,
          1,
          1,
          1,
          1,
          1,
          1,
          1,
          1,
          1,
          1,
          2,
          2,
          2,
          2,
          2,
          2,
          2,
          2,
          2,
          2,
          3,
          3,
          3,
          3,
          4,
          4,
          4,
          5,
          5,
          6,
          6,
          6,
          6,
          7,
          10,
          12,
          14,
          14,
          16,
          18,
          18,
          23,
          24,
          28,
          38,
          45,
          46,
          69,
          71,
          86,
          134,
          169
         ],
         "textposition": "inside",
         "texttemplate": "%{text:.2s}",
         "type": "bar",
         "x": [
          1,
          1,
          1,
          1,
          1,
          1,
          1,
          1,
          1,
          1,
          1,
          1,
          1,
          1,
          1,
          1,
          1,
          1,
          1,
          1,
          1,
          1,
          1,
          1,
          1,
          1,
          1,
          1,
          1,
          1,
          1,
          1,
          1,
          1,
          1,
          2,
          2,
          2,
          2,
          2,
          2,
          2,
          2,
          2,
          2,
          3,
          3,
          3,
          3,
          4,
          4,
          4,
          5,
          5,
          6,
          6,
          6,
          6,
          7,
          10,
          12,
          14,
          14,
          16,
          18,
          18,
          23,
          24,
          28,
          38,
          45,
          46,
          69,
          71,
          86,
          134,
          169
         ],
         "xaxis": "x",
         "y": [
          "Texas",
          "Texas",
          "Texas",
          "Texas",
          "Texas",
          "Texas",
          "Texas",
          "Texas",
          "Texas",
          "Texas",
          "Texas",
          "Texas",
          "Texas",
          "Texas",
          "Texas",
          "Texas",
          "Texas",
          "Texas",
          "Texas",
          "Texas",
          "Texas",
          "Texas",
          "Texas",
          "Texas",
          "Texas",
          "Texas",
          "Texas",
          "Texas",
          "Texas",
          "Texas",
          "Texas",
          "Texas",
          "Texas",
          "Texas",
          "Texas",
          "Texas",
          "Texas",
          "Texas",
          "Texas",
          "Texas",
          "Texas",
          "Texas",
          "Texas",
          "Texas",
          "Texas",
          "Texas",
          "Texas",
          "Texas",
          "Texas",
          "Texas",
          "Texas",
          "Texas",
          "Texas",
          "Texas",
          "Texas",
          "Texas",
          "Texas",
          "Texas",
          "Texas",
          "Texas",
          "Texas",
          "Texas",
          "Texas",
          "Texas",
          "Texas",
          "Texas",
          "Texas",
          "Texas",
          "Texas",
          "Texas",
          "Texas",
          "Texas",
          "Texas",
          "Texas",
          "Texas",
          "Texas",
          "Texas"
         ],
         "yaxis": "y"
        },
        {
         "alignmentgroup": "True",
         "customdata": [
          [
           1,
           0
          ],
          [
           2,
           0
          ],
          [
           3,
           0
          ],
          [
           5,
           0
          ],
          [
           9,
           0
          ],
          [
           13,
           0
          ],
          [
           13,
           0
          ],
          [
           15,
           0
          ],
          [
           31,
           1
          ],
          [
           82,
           0
          ],
          [
           124,
           0
          ]
         ],
         "hoverlabel": {
          "namelength": 0
         },
         "hovertemplate": "<b>%{hovertext}</b><br><br>State=%{y}<br>Confirmed=%{text}<br>Deaths=%{customdata[1]}",
         "hovertext": [
          "Box Elder",
          "Tooele",
          "Cache",
          "Washington",
          "Weber",
          "Out of UT",
          "Utah",
          "Wasatch",
          "Davis",
          "Summit",
          "Salt Lake"
         ],
         "legendgroup": "Utah",
         "marker": {
          "color": "#FFA15A"
         },
         "name": "Utah",
         "offsetgroup": "Utah",
         "orientation": "h",
         "showlegend": true,
         "text": [
          1,
          2,
          3,
          5,
          9,
          13,
          13,
          15,
          31,
          82,
          124
         ],
         "textposition": "inside",
         "texttemplate": "%{text:.2s}",
         "type": "bar",
         "x": [
          1,
          2,
          3,
          5,
          9,
          13,
          13,
          15,
          31,
          82,
          124
         ],
         "xaxis": "x",
         "y": [
          "Utah",
          "Utah",
          "Utah",
          "Utah",
          "Utah",
          "Utah",
          "Utah",
          "Utah",
          "Utah",
          "Utah",
          "Utah"
         ],
         "yaxis": "y"
        },
        {
         "alignmentgroup": "True",
         "customdata": [
          [
           1,
           0
          ],
          [
           2,
           0
          ],
          [
           2,
           0
          ],
          [
           2,
           0
          ],
          [
           3,
           0
          ],
          [
           3,
           0
          ],
          [
           5,
           0
          ],
          [
           5,
           0
          ],
          [
           8,
           0
          ],
          [
           9,
           0
          ],
          [
           15,
           1
          ],
          [
           40,
           4
          ]
         ],
         "hoverlabel": {
          "namelength": 0
         },
         "hovertemplate": "<b>%{hovertext}</b><br><br>State=%{y}<br>Confirmed=%{text}<br>Deaths=%{customdata[1]}",
         "hovertext": [
          "Caledonia",
          "Franklin",
          "Lamoille",
          "Orleans",
          "Orange",
          "Washington",
          "Rutland",
          "Windham",
          "Addison",
          "Bennington",
          "Windsor",
          "Chittenden"
         ],
         "legendgroup": "Vermont",
         "marker": {
          "color": "#19d3f3"
         },
         "name": "Vermont",
         "offsetgroup": "Vermont",
         "orientation": "h",
         "showlegend": true,
         "text": [
          1,
          2,
          2,
          2,
          3,
          3,
          5,
          5,
          8,
          9,
          15,
          40
         ],
         "textposition": "inside",
         "texttemplate": "%{text:.2s}",
         "type": "bar",
         "x": [
          1,
          2,
          2,
          2,
          3,
          3,
          5,
          5,
          8,
          9,
          15,
          40
         ],
         "xaxis": "x",
         "y": [
          "Vermont",
          "Vermont",
          "Vermont",
          "Vermont",
          "Vermont",
          "Vermont",
          "Vermont",
          "Vermont",
          "Vermont",
          "Vermont",
          "Vermont",
          "Vermont"
         ],
         "yaxis": "y"
        },
        {
         "alignmentgroup": "True",
         "customdata": [
          [
           1,
           0
          ],
          [
           1,
           0
          ],
          [
           1,
           0
          ],
          [
           1,
           0
          ],
          [
           1,
           0
          ],
          [
           1,
           0
          ],
          [
           1,
           0
          ],
          [
           1,
           0
          ],
          [
           1,
           0
          ],
          [
           1,
           0
          ],
          [
           1,
           0
          ],
          [
           1,
           0
          ],
          [
           1,
           0
          ],
          [
           1,
           0
          ],
          [
           1,
           0
          ],
          [
           1,
           0
          ],
          [
           1,
           0
          ],
          [
           1,
           0
          ],
          [
           2,
           0
          ],
          [
           2,
           0
          ],
          [
           2,
           0
          ],
          [
           2,
           0
          ],
          [
           2,
           0
          ],
          [
           2,
           0
          ],
          [
           2,
           0
          ],
          [
           2,
           0
          ],
          [
           3,
           0
          ],
          [
           3,
           1
          ],
          [
           3,
           0
          ],
          [
           5,
           0
          ],
          [
           5,
           1
          ],
          [
           6,
           0
          ],
          [
           6,
           1
          ],
          [
           8,
           0
          ],
          [
           8,
           0
          ],
          [
           10,
           0
          ],
          [
           11,
           0
          ],
          [
           14,
           2
          ],
          [
           17,
           1
          ],
          [
           18,
           0
          ],
          [
           23,
           0
          ],
          [
           36,
           0
          ],
          [
           37,
           2
          ],
          [
           46,
           1
          ]
         ],
         "hoverlabel": {
          "namelength": 0
         },
         "hovertemplate": "<b>%{hovertext}</b><br><br>State=%{y}<br>Confirmed=%{text}<br>Deaths=%{customdata[1]}",
         "hovertext": [
          "Accomack",
          "Amherst",
          "Bedford",
          "Botetourt",
          "Charles City",
          "Chesapeake",
          "Danville",
          "Fluvanna",
          "Franklin",
          "Halifax",
          "Hanover",
          "Harrisonburg",
          "Madison",
          "Nelson",
          "Orange",
          "Prince Edward",
          "Rockbridge",
          "Suffolk",
          "Albemarle",
          "Culpeper",
          "Gloucester",
          "Isle of Wight",
          "Lee",
          "Louisa",
          "Mecklenburg",
          "Spotsylvania",
          "Goochland",
          "Newport News",
          "Rockingham",
          "Charlottesville",
          "Williamsburg",
          "Stafford",
          "York",
          "Alexandria",
          "Norfolk",
          "Chesterfield",
          "Richmond City",
          "Henrico",
          "Virginia Beach",
          "Loudoun",
          "Prince William",
          "Arlington",
          "James City",
          "Fairfax"
         ],
         "legendgroup": "Virginia",
         "marker": {
          "color": "#FF6692"
         },
         "name": "Virginia",
         "offsetgroup": "Virginia",
         "orientation": "h",
         "showlegend": true,
         "text": [
          1,
          1,
          1,
          1,
          1,
          1,
          1,
          1,
          1,
          1,
          1,
          1,
          1,
          1,
          1,
          1,
          1,
          1,
          2,
          2,
          2,
          2,
          2,
          2,
          2,
          2,
          3,
          3,
          3,
          5,
          5,
          6,
          6,
          8,
          8,
          10,
          11,
          14,
          17,
          18,
          23,
          36,
          37,
          46
         ],
         "textposition": "inside",
         "texttemplate": "%{text:.2s}",
         "type": "bar",
         "x": [
          1,
          1,
          1,
          1,
          1,
          1,
          1,
          1,
          1,
          1,
          1,
          1,
          1,
          1,
          1,
          1,
          1,
          1,
          2,
          2,
          2,
          2,
          2,
          2,
          2,
          2,
          3,
          3,
          3,
          5,
          5,
          6,
          6,
          8,
          8,
          10,
          11,
          14,
          17,
          18,
          23,
          36,
          37,
          46
         ],
         "xaxis": "x",
         "y": [
          "Virginia",
          "Virginia",
          "Virginia",
          "Virginia",
          "Virginia",
          "Virginia",
          "Virginia",
          "Virginia",
          "Virginia",
          "Virginia",
          "Virginia",
          "Virginia",
          "Virginia",
          "Virginia",
          "Virginia",
          "Virginia",
          "Virginia",
          "Virginia",
          "Virginia",
          "Virginia",
          "Virginia",
          "Virginia",
          "Virginia",
          "Virginia",
          "Virginia",
          "Virginia",
          "Virginia",
          "Virginia",
          "Virginia",
          "Virginia",
          "Virginia",
          "Virginia",
          "Virginia",
          "Virginia",
          "Virginia",
          "Virginia",
          "Virginia",
          "Virginia",
          "Virginia",
          "Virginia",
          "Virginia",
          "Virginia",
          "Virginia",
          "Virginia"
         ],
         "yaxis": "y"
        },
        {
         "alignmentgroup": "True",
         "customdata": [
          [
           1,
           0
          ],
          [
           1,
           0
          ],
          [
           1,
           0
          ],
          [
           1,
           0
          ],
          [
           1,
           0
          ],
          [
           1,
           0
          ],
          [
           1,
           0
          ],
          [
           1,
           0
          ],
          [
           1,
           0
          ],
          [
           2,
           0
          ],
          [
           2,
           0
          ],
          [
           3,
           0
          ],
          [
           4,
           0
          ],
          [
           4,
           0
          ],
          [
           5,
           0
          ],
          [
           5,
           0
          ],
          [
           6,
           0
          ],
          [
           8,
           0
          ],
          [
           9,
           3
          ],
          [
           11,
           0
          ],
          [
           13,
           4
          ],
          [
           18,
           0
          ],
          [
           23,
           1
          ],
          [
           25,
           1
          ],
          [
           25,
           0
          ],
          [
           29,
           0
          ],
          [
           45,
           1
          ],
          [
           48,
           2
          ],
          [
           112,
           0
          ],
          [
           138,
           1
          ],
          [
           614,
           16
          ],
          [
           1170,
           87
          ]
         ],
         "hoverlabel": {
          "namelength": 0
         },
         "hovertemplate": "<b>%{hovertext}</b><br><br>State=%{y}<br>Confirmed=%{text}<br>Deaths=%{customdata[1]}",
         "hovertext": [
          "Adams",
          "Columbia",
          "Douglas",
          "Grays Harbor",
          "Lincoln",
          "Mason",
          "San Juan",
          "Stevens",
          "Walla Walla",
          "Lewis",
          "Whitman",
          "Cowlitz",
          "Clallam",
          "Klickitat",
          "Franklin",
          "Kittitas",
          "Chelan",
          "Jefferson",
          "Benton",
          "Thurston",
          "Clark",
          "Kitsap",
          "Grant",
          "Island",
          "Yakima",
          "Spokane",
          "Skagit",
          "Whatcom",
          "Unassigned",
          "Pierce",
          "Snohomish",
          "King"
         ],
         "legendgroup": "Washington",
         "marker": {
          "color": "#B6E880"
         },
         "name": "Washington",
         "offsetgroup": "Washington",
         "orientation": "h",
         "showlegend": true,
         "text": [
          1,
          1,
          1,
          1,
          1,
          1,
          1,
          1,
          1,
          2,
          2,
          3,
          4,
          4,
          5,
          5,
          6,
          8,
          9,
          11,
          13,
          18,
          23,
          25,
          25,
          29,
          45,
          48,
          112,
          138,
          614,
          1170
         ],
         "textposition": "inside",
         "texttemplate": "%{text:.2s}",
         "type": "bar",
         "x": [
          1,
          1,
          1,
          1,
          1,
          1,
          1,
          1,
          1,
          2,
          2,
          3,
          4,
          4,
          5,
          5,
          6,
          8,
          9,
          11,
          13,
          18,
          23,
          25,
          25,
          29,
          45,
          48,
          112,
          138,
          614,
          1170
         ],
         "xaxis": "x",
         "y": [
          "Washington",
          "Washington",
          "Washington",
          "Washington",
          "Washington",
          "Washington",
          "Washington",
          "Washington",
          "Washington",
          "Washington",
          "Washington",
          "Washington",
          "Washington",
          "Washington",
          "Washington",
          "Washington",
          "Washington",
          "Washington",
          "Washington",
          "Washington",
          "Washington",
          "Washington",
          "Washington",
          "Washington",
          "Washington",
          "Washington",
          "Washington",
          "Washington",
          "Washington",
          "Washington",
          "Washington",
          "Washington"
         ],
         "yaxis": "y"
        },
        {
         "alignmentgroup": "True",
         "customdata": [
          [
           1,
           0
          ],
          [
           1,
           0
          ],
          [
           2,
           0
          ],
          [
           2,
           0
          ],
          [
           2,
           0
          ],
          [
           2,
           0
          ],
          [
           3,
           0
          ],
          [
           4,
           0
          ],
          [
           5,
           0
          ]
         ],
         "hoverlabel": {
          "namelength": 0
         },
         "hovertemplate": "<b>%{hovertext}</b><br><br>State=%{y}<br>Confirmed=%{text}<br>Deaths=%{customdata[1]}",
         "hovertext": [
          "Jackson",
          "Putnam",
          "Harrison",
          "Marshall",
          "Mercer",
          "Tucker",
          "Jefferson",
          "Kanawha",
          "Monongalia"
         ],
         "legendgroup": "West Virginia",
         "marker": {
          "color": "#FF97FF"
         },
         "name": "West Virginia",
         "offsetgroup": "West Virginia",
         "orientation": "h",
         "showlegend": true,
         "text": [
          1,
          1,
          2,
          2,
          2,
          2,
          3,
          4,
          5
         ],
         "textposition": "inside",
         "texttemplate": "%{text:.2s}",
         "type": "bar",
         "x": [
          1,
          1,
          2,
          2,
          2,
          2,
          3,
          4,
          5
         ],
         "xaxis": "x",
         "y": [
          "West Virginia",
          "West Virginia",
          "West Virginia",
          "West Virginia",
          "West Virginia",
          "West Virginia",
          "West Virginia",
          "West Virginia",
          "West Virginia"
         ],
         "yaxis": "y"
        },
        {
         "alignmentgroup": "True",
         "customdata": [
          [
           1,
           0
          ],
          [
           1,
           0
          ],
          [
           1,
           0
          ],
          [
           1,
           0
          ],
          [
           1,
           0
          ],
          [
           1,
           0
          ],
          [
           1,
           0
          ],
          [
           1,
           0
          ],
          [
           2,
           0
          ],
          [
           2,
           0
          ],
          [
           3,
           0
          ],
          [
           3,
           0
          ],
          [
           3,
           0
          ],
          [
           4,
           0
          ],
          [
           4,
           0
          ],
          [
           4,
           0
          ],
          [
           4,
           0
          ],
          [
           4,
           0
          ],
          [
           4,
           0
          ],
          [
           5,
           0
          ],
          [
           5,
           0
          ],
          [
           5,
           0
          ],
          [
           5,
           0
          ],
          [
           6,
           0
          ],
          [
           13,
           0
          ],
          [
           16,
           1
          ],
          [
           17,
           0
          ],
          [
           18,
           1
          ],
          [
           31,
           0
          ],
          [
           72,
           0
          ],
          [
           243,
           3
          ]
         ],
         "hoverlabel": {
          "namelength": 0
         },
         "hovertemplate": "<b>%{hovertext}</b><br><br>State=%{y}<br>Confirmed=%{text}<br>Deaths=%{customdata[1]}",
         "hovertext": [
          "Bayfield",
          "Calumet",
          "Chippewa",
          "Dunn",
          "Green",
          "Iowa",
          "Marathon",
          "Wood",
          "Dodge",
          "Outagamie",
          "Brown",
          "Pierce",
          "Rock",
          "Douglas",
          "Eau Claire",
          "Jefferson",
          "Sauk",
          "St. Croix",
          "Walworth",
          "Columbia",
          "La Crosse",
          "Racine",
          "Winnebago",
          "Sheboygan",
          "Kenosha",
          "Ozaukee",
          "Washington",
          "Fond du Lac",
          "Waukesha",
          "Dane",
          "Milwaukee"
         ],
         "legendgroup": "Wisconsin",
         "marker": {
          "color": "#FECB52"
         },
         "name": "Wisconsin",
         "offsetgroup": "Wisconsin",
         "orientation": "h",
         "showlegend": true,
         "text": [
          1,
          1,
          1,
          1,
          1,
          1,
          1,
          1,
          2,
          2,
          3,
          3,
          3,
          4,
          4,
          4,
          4,
          4,
          4,
          5,
          5,
          5,
          5,
          6,
          13,
          16,
          17,
          18,
          31,
          72,
          243
         ],
         "textposition": "inside",
         "texttemplate": "%{text:.2s}",
         "type": "bar",
         "x": [
          1,
          1,
          1,
          1,
          1,
          1,
          1,
          1,
          2,
          2,
          3,
          3,
          3,
          4,
          4,
          4,
          4,
          4,
          4,
          5,
          5,
          5,
          5,
          6,
          13,
          16,
          17,
          18,
          31,
          72,
          243
         ],
         "xaxis": "x",
         "y": [
          "Wisconsin",
          "Wisconsin",
          "Wisconsin",
          "Wisconsin",
          "Wisconsin",
          "Wisconsin",
          "Wisconsin",
          "Wisconsin",
          "Wisconsin",
          "Wisconsin",
          "Wisconsin",
          "Wisconsin",
          "Wisconsin",
          "Wisconsin",
          "Wisconsin",
          "Wisconsin",
          "Wisconsin",
          "Wisconsin",
          "Wisconsin",
          "Wisconsin",
          "Wisconsin",
          "Wisconsin",
          "Wisconsin",
          "Wisconsin",
          "Wisconsin",
          "Wisconsin",
          "Wisconsin",
          "Wisconsin",
          "Wisconsin",
          "Wisconsin",
          "Wisconsin"
         ],
         "yaxis": "y"
        },
        {
         "alignmentgroup": "True",
         "customdata": [
          [
           1,
           0
          ],
          [
           1,
           0
          ],
          [
           2,
           0
          ],
          [
           2,
           0
          ],
          [
           2,
           0
          ],
          [
           4,
           0
          ],
          [
           7,
           0
          ],
          [
           10,
           0
          ]
         ],
         "hoverlabel": {
          "namelength": 0
         },
         "hovertemplate": "<b>%{hovertext}</b><br><br>State=%{y}<br>Confirmed=%{text}<br>Deaths=%{customdata[1]}",
         "hovertext": [
          "Campbell",
          "Park",
          "Carbon",
          "Natrona",
          "Teton",
          "Sheridan",
          "Laramie",
          "Fremont"
         ],
         "legendgroup": "Wyoming",
         "marker": {
          "color": "#636efa"
         },
         "name": "Wyoming",
         "offsetgroup": "Wyoming",
         "orientation": "h",
         "showlegend": true,
         "text": [
          1,
          1,
          2,
          2,
          2,
          4,
          7,
          10
         ],
         "textposition": "inside",
         "texttemplate": "%{text:.2s}",
         "type": "bar",
         "x": [
          1,
          1,
          2,
          2,
          2,
          4,
          7,
          10
         ],
         "xaxis": "x",
         "y": [
          "Wyoming",
          "Wyoming",
          "Wyoming",
          "Wyoming",
          "Wyoming",
          "Wyoming",
          "Wyoming",
          "Wyoming"
         ],
         "yaxis": "y"
        }
       ],
       "layout": {
        "autosize": true,
        "barmode": "relative",
        "dragmode": false,
        "font": {
         "color": "#7f7f7f"
        },
        "legend": {
         "title": {
          "text": "State"
         },
         "tracegroupgap": 0
        },
        "margin": {
         "t": 60
        },
        "showlegend": false,
        "template": {
         "data": {
          "bar": [
           {
            "error_x": {
             "color": "#2a3f5f"
            },
            "error_y": {
             "color": "#2a3f5f"
            },
            "marker": {
             "line": {
              "color": "#E5ECF6",
              "width": 0.5
             }
            },
            "type": "bar"
           }
          ],
          "barpolar": [
           {
            "marker": {
             "line": {
              "color": "#E5ECF6",
              "width": 0.5
             }
            },
            "type": "barpolar"
           }
          ],
          "carpet": [
           {
            "aaxis": {
             "endlinecolor": "#2a3f5f",
             "gridcolor": "white",
             "linecolor": "white",
             "minorgridcolor": "white",
             "startlinecolor": "#2a3f5f"
            },
            "baxis": {
             "endlinecolor": "#2a3f5f",
             "gridcolor": "white",
             "linecolor": "white",
             "minorgridcolor": "white",
             "startlinecolor": "#2a3f5f"
            },
            "type": "carpet"
           }
          ],
          "choropleth": [
           {
            "colorbar": {
             "outlinewidth": 0,
             "ticks": ""
            },
            "type": "choropleth"
           }
          ],
          "contour": [
           {
            "colorbar": {
             "outlinewidth": 0,
             "ticks": ""
            },
            "colorscale": [
             [
              0,
              "#0d0887"
             ],
             [
              0.1111111111111111,
              "#46039f"
             ],
             [
              0.2222222222222222,
              "#7201a8"
             ],
             [
              0.3333333333333333,
              "#9c179e"
             ],
             [
              0.4444444444444444,
              "#bd3786"
             ],
             [
              0.5555555555555556,
              "#d8576b"
             ],
             [
              0.6666666666666666,
              "#ed7953"
             ],
             [
              0.7777777777777778,
              "#fb9f3a"
             ],
             [
              0.8888888888888888,
              "#fdca26"
             ],
             [
              1,
              "#f0f921"
             ]
            ],
            "type": "contour"
           }
          ],
          "contourcarpet": [
           {
            "colorbar": {
             "outlinewidth": 0,
             "ticks": ""
            },
            "type": "contourcarpet"
           }
          ],
          "heatmap": [
           {
            "colorbar": {
             "outlinewidth": 0,
             "ticks": ""
            },
            "colorscale": [
             [
              0,
              "#0d0887"
             ],
             [
              0.1111111111111111,
              "#46039f"
             ],
             [
              0.2222222222222222,
              "#7201a8"
             ],
             [
              0.3333333333333333,
              "#9c179e"
             ],
             [
              0.4444444444444444,
              "#bd3786"
             ],
             [
              0.5555555555555556,
              "#d8576b"
             ],
             [
              0.6666666666666666,
              "#ed7953"
             ],
             [
              0.7777777777777778,
              "#fb9f3a"
             ],
             [
              0.8888888888888888,
              "#fdca26"
             ],
             [
              1,
              "#f0f921"
             ]
            ],
            "type": "heatmap"
           }
          ],
          "heatmapgl": [
           {
            "colorbar": {
             "outlinewidth": 0,
             "ticks": ""
            },
            "colorscale": [
             [
              0,
              "#0d0887"
             ],
             [
              0.1111111111111111,
              "#46039f"
             ],
             [
              0.2222222222222222,
              "#7201a8"
             ],
             [
              0.3333333333333333,
              "#9c179e"
             ],
             [
              0.4444444444444444,
              "#bd3786"
             ],
             [
              0.5555555555555556,
              "#d8576b"
             ],
             [
              0.6666666666666666,
              "#ed7953"
             ],
             [
              0.7777777777777778,
              "#fb9f3a"
             ],
             [
              0.8888888888888888,
              "#fdca26"
             ],
             [
              1,
              "#f0f921"
             ]
            ],
            "type": "heatmapgl"
           }
          ],
          "histogram": [
           {
            "marker": {
             "colorbar": {
              "outlinewidth": 0,
              "ticks": ""
             }
            },
            "type": "histogram"
           }
          ],
          "histogram2d": [
           {
            "colorbar": {
             "outlinewidth": 0,
             "ticks": ""
            },
            "colorscale": [
             [
              0,
              "#0d0887"
             ],
             [
              0.1111111111111111,
              "#46039f"
             ],
             [
              0.2222222222222222,
              "#7201a8"
             ],
             [
              0.3333333333333333,
              "#9c179e"
             ],
             [
              0.4444444444444444,
              "#bd3786"
             ],
             [
              0.5555555555555556,
              "#d8576b"
             ],
             [
              0.6666666666666666,
              "#ed7953"
             ],
             [
              0.7777777777777778,
              "#fb9f3a"
             ],
             [
              0.8888888888888888,
              "#fdca26"
             ],
             [
              1,
              "#f0f921"
             ]
            ],
            "type": "histogram2d"
           }
          ],
          "histogram2dcontour": [
           {
            "colorbar": {
             "outlinewidth": 0,
             "ticks": ""
            },
            "colorscale": [
             [
              0,
              "#0d0887"
             ],
             [
              0.1111111111111111,
              "#46039f"
             ],
             [
              0.2222222222222222,
              "#7201a8"
             ],
             [
              0.3333333333333333,
              "#9c179e"
             ],
             [
              0.4444444444444444,
              "#bd3786"
             ],
             [
              0.5555555555555556,
              "#d8576b"
             ],
             [
              0.6666666666666666,
              "#ed7953"
             ],
             [
              0.7777777777777778,
              "#fb9f3a"
             ],
             [
              0.8888888888888888,
              "#fdca26"
             ],
             [
              1,
              "#f0f921"
             ]
            ],
            "type": "histogram2dcontour"
           }
          ],
          "mesh3d": [
           {
            "colorbar": {
             "outlinewidth": 0,
             "ticks": ""
            },
            "type": "mesh3d"
           }
          ],
          "parcoords": [
           {
            "line": {
             "colorbar": {
              "outlinewidth": 0,
              "ticks": ""
             }
            },
            "type": "parcoords"
           }
          ],
          "pie": [
           {
            "automargin": true,
            "type": "pie"
           }
          ],
          "scatter": [
           {
            "marker": {
             "colorbar": {
              "outlinewidth": 0,
              "ticks": ""
             }
            },
            "type": "scatter"
           }
          ],
          "scatter3d": [
           {
            "line": {
             "colorbar": {
              "outlinewidth": 0,
              "ticks": ""
             }
            },
            "marker": {
             "colorbar": {
              "outlinewidth": 0,
              "ticks": ""
             }
            },
            "type": "scatter3d"
           }
          ],
          "scattercarpet": [
           {
            "marker": {
             "colorbar": {
              "outlinewidth": 0,
              "ticks": ""
             }
            },
            "type": "scattercarpet"
           }
          ],
          "scattergeo": [
           {
            "marker": {
             "colorbar": {
              "outlinewidth": 0,
              "ticks": ""
             }
            },
            "type": "scattergeo"
           }
          ],
          "scattergl": [
           {
            "marker": {
             "colorbar": {
              "outlinewidth": 0,
              "ticks": ""
             }
            },
            "type": "scattergl"
           }
          ],
          "scattermapbox": [
           {
            "marker": {
             "colorbar": {
              "outlinewidth": 0,
              "ticks": ""
             }
            },
            "type": "scattermapbox"
           }
          ],
          "scatterpolar": [
           {
            "marker": {
             "colorbar": {
              "outlinewidth": 0,
              "ticks": ""
             }
            },
            "type": "scatterpolar"
           }
          ],
          "scatterpolargl": [
           {
            "marker": {
             "colorbar": {
              "outlinewidth": 0,
              "ticks": ""
             }
            },
            "type": "scatterpolargl"
           }
          ],
          "scatterternary": [
           {
            "marker": {
             "colorbar": {
              "outlinewidth": 0,
              "ticks": ""
             }
            },
            "type": "scatterternary"
           }
          ],
          "surface": [
           {
            "colorbar": {
             "outlinewidth": 0,
             "ticks": ""
            },
            "colorscale": [
             [
              0,
              "#0d0887"
             ],
             [
              0.1111111111111111,
              "#46039f"
             ],
             [
              0.2222222222222222,
              "#7201a8"
             ],
             [
              0.3333333333333333,
              "#9c179e"
             ],
             [
              0.4444444444444444,
              "#bd3786"
             ],
             [
              0.5555555555555556,
              "#d8576b"
             ],
             [
              0.6666666666666666,
              "#ed7953"
             ],
             [
              0.7777777777777778,
              "#fb9f3a"
             ],
             [
              0.8888888888888888,
              "#fdca26"
             ],
             [
              1,
              "#f0f921"
             ]
            ],
            "type": "surface"
           }
          ],
          "table": [
           {
            "cells": {
             "fill": {
              "color": "#EBF0F8"
             },
             "line": {
              "color": "white"
             }
            },
            "header": {
             "fill": {
              "color": "#C8D4E3"
             },
             "line": {
              "color": "white"
             }
            },
            "type": "table"
           }
          ]
         },
         "layout": {
          "annotationdefaults": {
           "arrowcolor": "#2a3f5f",
           "arrowhead": 0,
           "arrowwidth": 1
          },
          "coloraxis": {
           "colorbar": {
            "outlinewidth": 0,
            "ticks": ""
           }
          },
          "colorscale": {
           "diverging": [
            [
             0,
             "#8e0152"
            ],
            [
             0.1,
             "#c51b7d"
            ],
            [
             0.2,
             "#de77ae"
            ],
            [
             0.3,
             "#f1b6da"
            ],
            [
             0.4,
             "#fde0ef"
            ],
            [
             0.5,
             "#f7f7f7"
            ],
            [
             0.6,
             "#e6f5d0"
            ],
            [
             0.7,
             "#b8e186"
            ],
            [
             0.8,
             "#7fbc41"
            ],
            [
             0.9,
             "#4d9221"
            ],
            [
             1,
             "#276419"
            ]
           ],
           "sequential": [
            [
             0,
             "#0d0887"
            ],
            [
             0.1111111111111111,
             "#46039f"
            ],
            [
             0.2222222222222222,
             "#7201a8"
            ],
            [
             0.3333333333333333,
             "#9c179e"
            ],
            [
             0.4444444444444444,
             "#bd3786"
            ],
            [
             0.5555555555555556,
             "#d8576b"
            ],
            [
             0.6666666666666666,
             "#ed7953"
            ],
            [
             0.7777777777777778,
             "#fb9f3a"
            ],
            [
             0.8888888888888888,
             "#fdca26"
            ],
            [
             1,
             "#f0f921"
            ]
           ],
           "sequentialminus": [
            [
             0,
             "#0d0887"
            ],
            [
             0.1111111111111111,
             "#46039f"
            ],
            [
             0.2222222222222222,
             "#7201a8"
            ],
            [
             0.3333333333333333,
             "#9c179e"
            ],
            [
             0.4444444444444444,
             "#bd3786"
            ],
            [
             0.5555555555555556,
             "#d8576b"
            ],
            [
             0.6666666666666666,
             "#ed7953"
            ],
            [
             0.7777777777777778,
             "#fb9f3a"
            ],
            [
             0.8888888888888888,
             "#fdca26"
            ],
            [
             1,
             "#f0f921"
            ]
           ]
          },
          "colorway": [
           "#636efa",
           "#EF553B",
           "#00cc96",
           "#ab63fa",
           "#FFA15A",
           "#19d3f3",
           "#FF6692",
           "#B6E880",
           "#FF97FF",
           "#FECB52"
          ],
          "font": {
           "color": "#2a3f5f"
          },
          "geo": {
           "bgcolor": "white",
           "lakecolor": "white",
           "landcolor": "#E5ECF6",
           "showlakes": true,
           "showland": true,
           "subunitcolor": "white"
          },
          "hoverlabel": {
           "align": "left"
          },
          "hovermode": "closest",
          "mapbox": {
           "style": "light"
          },
          "paper_bgcolor": "white",
          "plot_bgcolor": "#E5ECF6",
          "polar": {
           "angularaxis": {
            "gridcolor": "white",
            "linecolor": "white",
            "ticks": ""
           },
           "bgcolor": "#E5ECF6",
           "radialaxis": {
            "gridcolor": "white",
            "linecolor": "white",
            "ticks": ""
           }
          },
          "scene": {
           "xaxis": {
            "backgroundcolor": "#E5ECF6",
            "gridcolor": "white",
            "gridwidth": 2,
            "linecolor": "white",
            "showbackground": true,
            "ticks": "",
            "zerolinecolor": "white"
           },
           "yaxis": {
            "backgroundcolor": "#E5ECF6",
            "gridcolor": "white",
            "gridwidth": 2,
            "linecolor": "white",
            "showbackground": true,
            "ticks": "",
            "zerolinecolor": "white"
           },
           "zaxis": {
            "backgroundcolor": "#E5ECF6",
            "gridcolor": "white",
            "gridwidth": 2,
            "linecolor": "white",
            "showbackground": true,
            "ticks": "",
            "zerolinecolor": "white"
           }
          },
          "shapedefaults": {
           "line": {
            "color": "#2a3f5f"
           }
          },
          "ternary": {
           "aaxis": {
            "gridcolor": "white",
            "linecolor": "white",
            "ticks": ""
           },
           "baxis": {
            "gridcolor": "white",
            "linecolor": "white",
            "ticks": ""
           },
           "bgcolor": "#E5ECF6",
           "caxis": {
            "gridcolor": "white",
            "linecolor": "white",
            "ticks": ""
           }
          },
          "title": {
           "x": 0.05
          },
          "xaxis": {
           "automargin": true,
           "gridcolor": "white",
           "linecolor": "white",
           "ticks": "",
           "title": {
            "standoff": 15
           },
           "zerolinecolor": "white",
           "zerolinewidth": 2
          },
          "yaxis": {
           "automargin": true,
           "gridcolor": "white",
           "linecolor": "white",
           "ticks": "",
           "title": {
            "standoff": 15
           },
           "zerolinecolor": "white",
           "zerolinewidth": 2
          }
         }
        },
        "title": {
         "text": "Confirmed COVID19 Cases in the United States as of March 24, 2020",
         "x": 0.54,
         "xanchor": "center",
         "y": 0.98,
         "yanchor": "top"
        },
        "uniformtext": {
         "minsize": 12,
         "mode": "hide"
        },
        "xaxis": {
         "anchor": "y",
         "autorange": true,
         "categoryorder": "category ascending",
         "domain": [
          0,
          1
         ],
         "fixedrange": true,
         "linewidth": 0.2,
         "range": [
          0,
          27032.631578947367
         ],
         "showline": true,
         "title": {
          "text": "Confirmed"
         },
         "type": "linear"
        },
        "yaxis": {
         "anchor": "x",
         "autorange": true,
         "categoryarray": [
          "Wyoming",
          "Wisconsin",
          "West Virginia",
          "Washington",
          "Virginia",
          "Vermont",
          "Utah",
          "Texas",
          "Tennessee",
          "South Dakota",
          "South Carolina",
          "Rhode Island",
          "Pennsylvania",
          "Oregon",
          "Oklahoma",
          "Ohio",
          "North Dakota",
          "North Carolina",
          "New York",
          "New Mexico",
          "New Jersey",
          "New Hampshire",
          "Nevada",
          "Nebraska",
          "Montana",
          "Missouri",
          "Mississippi",
          "Minnesota",
          "Michigan",
          "Massachusetts",
          "Maryland",
          "Maine",
          "Louisiana",
          "Kentucky",
          "Kansas",
          "Iowa",
          "Indiana",
          "Illinois",
          "Idaho",
          "Hawaii",
          "Georgia",
          "Florida",
          "District of Columbia",
          "Delaware",
          "Connecticut",
          "Colorado",
          "California",
          "Arkansas",
          "Arizona",
          "Alaska",
          "Alabama"
         ],
         "categoryorder": "total descending",
         "domain": [
          0,
          1
         ],
         "fixedrange": true,
         "range": [
          50.5,
          -0.5
         ],
         "title": {
          "text": ""
         },
         "type": "category"
        }
       }
      },
      "image/png": "[encoded data removed]",
      "text/html": [
       "<div>\n",
       "        \n",
       "        \n",
       "            <div id=\"9682f647-b8c9-4303-b37b-19480ca75e58\" class=\"plotly-graph-div\" style=\"height:1700px; width:100%;\"></div>\n",
       "            <script type=\"text/javascript\">\n",
       "                require([\"plotly\"], function(Plotly) {\n",
       "                    window.PLOTLYENV=window.PLOTLYENV || {};\n",
       "                    \n",
       "                if (document.getElementById(\"9682f647-b8c9-4303-b37b-19480ca75e58\")) {\n",
       "                    Plotly.newPlot(\n",
       "                        '9682f647-b8c9-4303-b37b-19480ca75e58',\n",
       "                        [{\"alignmentgroup\": \"True\", \"customdata\": [[1, 0], [1, 0], [1, 0], [1, 0], [1, 0], [1, 0], [2, 0], [2, 0], [2, 0], [2, 0], [2, 0], [3, 0], [3, 0], [4, 0], [4, 0], [4, 0], [5, 0], [5, 0], [6, 0], [8, 0], [9, 0], [10, 0], [21, 0], [26, 0], [27, 0], [91, 0]], \"hoverlabel\": {\"namelength\": 0}, \"hovertemplate\": \"<b>%{hovertext}</b><br><br>State=%{y}<br>Confirmed=%{text}<br>Deaths=%{customdata[1]}\", \"hovertext\": [\"Autauga\", \"Franklin\", \"Houston\", \"Lamar\", \"Marion\", \"Washington\", \"Calhoun\", \"Jackson\", \"Morgan\", \"Talladega\", \"Tallapoosa\", \"Cullman\", \"Lauderdale\", \"Baldwin\", \"Limestone\", \"St. Clair\", \"Chambers\", \"Walker\", \"Mobile\", \"Elmore\", \"Montgomery\", \"Tuscaloosa\", \"Madison\", \"Lee\", \"Shelby\", \"Jefferson\"], \"legendgroup\": \"Alabama\", \"marker\": {\"color\": \"#636efa\"}, \"name\": \"Alabama\", \"offsetgroup\": \"Alabama\", \"orientation\": \"h\", \"showlegend\": true, \"text\": [1.0, 1.0, 1.0, 1.0, 1.0, 1.0, 2.0, 2.0, 2.0, 2.0, 2.0, 3.0, 3.0, 4.0, 4.0, 4.0, 5.0, 5.0, 6.0, 8.0, 9.0, 10.0, 21.0, 26.0, 27.0, 91.0], \"textposition\": \"inside\", \"texttemplate\": \"%{text:.2s}\", \"type\": \"bar\", \"x\": [1, 1, 1, 1, 1, 1, 2, 2, 2, 2, 2, 3, 3, 4, 4, 4, 5, 5, 6, 8, 9, 10, 21, 26, 27, 91], \"xaxis\": \"x\", \"y\": [\"Alabama\", \"Alabama\", \"Alabama\", \"Alabama\", \"Alabama\", \"Alabama\", \"Alabama\", \"Alabama\", \"Alabama\", \"Alabama\", \"Alabama\", \"Alabama\", \"Alabama\", \"Alabama\", \"Alabama\", \"Alabama\", \"Alabama\", \"Alabama\", \"Alabama\", \"Alabama\", \"Alabama\", \"Alabama\", \"Alabama\", \"Alabama\", \"Alabama\", \"Alabama\"], \"yaxis\": \"y\"}, {\"alignmentgroup\": \"True\", \"customdata\": [[1, 0], [3, 0], [6, 0], [7, 0], [17, 0]], \"hoverlabel\": {\"namelength\": 0}, \"hovertemplate\": \"<b>%{hovertext}</b><br><br>State=%{y}<br>Confirmed=%{text}<br>Deaths=%{customdata[1]}\", \"hovertext\": [\"Juneau\", \"Kenai Peninsula\", \"Ketchikan Gateway\", \"Fairbanks North Star\", \"Anchorage\"], \"legendgroup\": \"Alaska\", \"marker\": {\"color\": \"#EF553B\"}, \"name\": \"Alaska\", \"offsetgroup\": \"Alaska\", \"orientation\": \"h\", \"showlegend\": true, \"text\": [1.0, 3.0, 6.0, 7.0, 17.0], \"textposition\": \"inside\", \"texttemplate\": \"%{text:.2s}\", \"type\": \"bar\", \"x\": [1, 3, 6, 7, 17], \"xaxis\": \"x\", \"y\": [\"Alaska\", \"Alaska\", \"Alaska\", \"Alaska\", \"Alaska\"], \"yaxis\": \"y\"}, {\"alignmentgroup\": \"True\", \"customdata\": [[1, 0], [1, 0], [2, 0], [2, 0], [3, 0], [4, 0], [18, 0], [22, 0], [32, 0], [42, 1], [199, 2]], \"hoverlabel\": {\"namelength\": 0}, \"hovertemplate\": \"<b>%{hovertext}</b><br><br>State=%{y}<br>Confirmed=%{text}<br>Deaths=%{customdata[1]}\", \"hovertext\": [\"Cochise\", \"Santa Cruz\", \"Graham\", \"Yuma\", \"Yavapai\", \"Apache\", \"Coconino\", \"Pinal\", \"Navajo\", \"Pima\", \"Maricopa\"], \"legendgroup\": \"Arizona\", \"marker\": {\"color\": \"#00cc96\"}, \"name\": \"Arizona\", \"offsetgroup\": \"Arizona\", \"orientation\": \"h\", \"showlegend\": true, \"text\": [1.0, 1.0, 2.0, 2.0, 3.0, 4.0, 18.0, 22.0, 32.0, 42.0, 199.0], \"textposition\": \"inside\", \"texttemplate\": \"%{text:.2s}\", \"type\": \"bar\", \"x\": [1, 1, 2, 2, 3, 4, 18, 22, 32, 42, 199], \"xaxis\": \"x\", \"y\": [\"Arizona\", \"Arizona\", \"Arizona\", \"Arizona\", \"Arizona\", \"Arizona\", \"Arizona\", \"Arizona\", \"Arizona\", \"Arizona\", \"Arizona\"], \"yaxis\": \"y\"}, {\"alignmentgroup\": \"True\", \"customdata\": [[1, 0], [1, 0], [1, 0], [1, 0], [1, 0], [1, 0], [1, 0], [1, 0], [1, 0], [1, 0], [1, 0], [1, 0], [1, 0], [1, 0], [1, 0], [1, 0], [1, 0], [1, 0], [1, 0], [2, 0], [2, 0], [2, 0], [3, 0], [3, 0], [3, 0], [3, 0], [4, 0], [4, 0], [4, 0], [5, 0], [5, 0], [6, 0], [10, 0], [13, 1], [14, 0], [21, 0], [32, 1], [64, 0]], \"hoverlabel\": {\"namelength\": 0}, \"hovertemplate\": \"<b>%{hovertext}</b><br><br>State=%{y}<br>Confirmed=%{text}<br>Deaths=%{customdata[1]}\", \"hovertext\": [\"Benton\", \"Boone\", \"Columbia\", \"Conway\", \"Crawford\", \"Crittenden\", \"Cross\", \"Greene\", \"Hempstead\", \"Lawrence\", \"Pike\", \"Polk\", \"Pope\", \"Sebastian\", \"Sevier\", \"Stone\", \"Union\", \"White\", \"Woodruff\", \"Desha\", \"Lincoln\", \"Searcy\", \"Cleveland\", \"Grant\", \"Independence\", \"Poinsett\", \"Bradley\", \"Craighead\", \"Saline\", \"Van Buren\", \"Washington\", \"Clark\", \"Garland\", \"Unassigned\", \"Faulkner\", \"Jefferson\", \"Cleburne\", \"Pulaski\"], \"legendgroup\": \"Arkansas\", \"marker\": {\"color\": \"#ab63fa\"}, \"name\": \"Arkansas\", \"offsetgroup\": \"Arkansas\", \"orientation\": \"h\", \"showlegend\": true, \"text\": [1.0, 1.0, 1.0, 1.0, 1.0, 1.0, 1.0, 1.0, 1.0, 1.0, 1.0, 1.0, 1.0, 1.0, 1.0, 1.0, 1.0, 1.0, 1.0, 2.0, 2.0, 2.0, 3.0, 3.0, 3.0, 3.0, 4.0, 4.0, 4.0, 5.0, 5.0, 6.0, 10.0, 13.0, 14.0, 21.0, 32.0, 64.0], \"textposition\": \"inside\", \"texttemplate\": \"%{text:.2s}\", \"type\": \"bar\", \"x\": [1, 1, 1, 1, 1, 1, 1, 1, 1, 1, 1, 1, 1, 1, 1, 1, 1, 1, 1, 2, 2, 2, 3, 3, 3, 3, 4, 4, 4, 5, 5, 6, 10, 13, 14, 21, 32, 64], \"xaxis\": \"x\", \"y\": [\"Arkansas\", \"Arkansas\", \"Arkansas\", \"Arkansas\", \"Arkansas\", \"Arkansas\", \"Arkansas\", \"Arkansas\", \"Arkansas\", \"Arkansas\", \"Arkansas\", \"Arkansas\", \"Arkansas\", \"Arkansas\", \"Arkansas\", \"Arkansas\", \"Arkansas\", \"Arkansas\", \"Arkansas\", \"Arkansas\", \"Arkansas\", \"Arkansas\", \"Arkansas\", \"Arkansas\", \"Arkansas\", \"Arkansas\", \"Arkansas\", \"Arkansas\", \"Arkansas\", \"Arkansas\", \"Arkansas\", \"Arkansas\", \"Arkansas\", \"Arkansas\", \"Arkansas\", \"Arkansas\", \"Arkansas\", \"Arkansas\"], \"yaxis\": \"y\"}, {\"alignmentgroup\": \"True\", \"customdata\": [[1, 0], [1, 0], [2, 0], [2, 0], [2, 0], [2, 0], [2, 0], [2, 0], [2, 0], [2, 0], [3, 0], [3, 0], [4, 0], [6, 0], [6, 0], [6, 1], [8, 1], [11, 0], [13, 0], [13, 0], [17, 0], [18, 0], [20, 1], [20, 1], [21, 0], [22, 0], [29, 1], [31, 0], [35, 1], [42, 0], [47, 0], [51, 2], [57, 6], [86, 1], [88, 4], [135, 2], [152, 0], [152, 0], [161, 1], [226, 1], [375, 16], [662, 11]], \"hoverlabel\": {\"namelength\": 0}, \"hovertemplate\": \"<b>%{hovertext}</b><br><br>State=%{y}<br>Confirmed=%{text}<br>Deaths=%{customdata[1]}\", \"hovertext\": [\"Merced\", \"Mono\", \"Amador\", \"Butte\", \"Calaveras\", \"El Dorado\", \"Mendocino\", \"Napa\", \"Shasta\", \"Siskiyou\", \"Nevada\", \"Yuba\", \"Humboldt\", \"Imperial\", \"Madera\", \"San Benito\", \"Yolo\", \"Stanislaus\", \"Fresno\", \"Kern\", \"Tulare\", \"Santa Barbara\", \"Monterey\", \"Placer\", \"Solano\", \"Santa Cruz\", \"Sonoma\", \"San Bernardino\", \"Ventura\", \"San Luis Obispo\", \"Marin\", \"San Joaquin\", \"Riverside\", \"Contra Costa\", \"Sacramento\", \"Alameda\", \"Orange\", \"San Francisco\", \"San Mateo\", \"San Diego\", \"Santa Clara\", \"Los Angeles\"], \"legendgroup\": \"California\", \"marker\": {\"color\": \"#FFA15A\"}, \"name\": \"California\", \"offsetgroup\": \"California\", \"orientation\": \"h\", \"showlegend\": true, \"text\": [1.0, 1.0, 2.0, 2.0, 2.0, 2.0, 2.0, 2.0, 2.0, 2.0, 3.0, 3.0, 4.0, 6.0, 6.0, 6.0, 8.0, 11.0, 13.0, 13.0, 17.0, 18.0, 20.0, 20.0, 21.0, 22.0, 29.0, 31.0, 35.0, 42.0, 47.0, 51.0, 57.0, 86.0, 88.0, 135.0, 152.0, 152.0, 161.0, 226.0, 375.0, 662.0], \"textposition\": \"inside\", \"texttemplate\": \"%{text:.2s}\", \"type\": \"bar\", \"x\": [1, 1, 2, 2, 2, 2, 2, 2, 2, 2, 3, 3, 4, 6, 6, 6, 8, 11, 13, 13, 17, 18, 20, 20, 21, 22, 29, 31, 35, 42, 47, 51, 57, 86, 88, 135, 152, 152, 161, 226, 375, 662], \"xaxis\": \"x\", \"y\": [\"California\", \"California\", \"California\", \"California\", \"California\", \"California\", \"California\", \"California\", \"California\", \"California\", \"California\", \"California\", \"California\", \"California\", \"California\", \"California\", \"California\", \"California\", \"California\", \"California\", \"California\", \"California\", \"California\", \"California\", \"California\", \"California\", \"California\", \"California\", \"California\", \"California\", \"California\", \"California\", \"California\", \"California\", \"California\", \"California\", \"California\", \"California\", \"California\", \"California\", \"California\", \"California\"], \"yaxis\": \"y\"}, {\"alignmentgroup\": \"True\", \"customdata\": [[1, 1], [1, 0], [1, 0], [1, 0], [1, 0], [1, 0], [2, 0], [2, 0], [2, 0], [3, 0], [3, 0], [3, 0], [3, 0], [3, 0], [3, 0], [3, 0], [5, 0], [5, 0], [8, 0], [8, 0], [18, 0], [25, 0], [28, 0], [34, 0], [39, 0], [48, 0], [50, 2], [55, 0], [58, 0], [69, 4], [92, 1], [148, 0]], \"hoverlabel\": {\"namelength\": 0}, \"hovertemplate\": \"<b>%{hovertext}</b><br><br>State=%{y}<br>Confirmed=%{text}<br>Deaths=%{customdata[1]}\", \"hovertext\": [\"Crowley\", \"Hinsdale\", \"Montrose\", \"Park\", \"San Miguel\", \"Yuma\", \"Broomfield\", \"Grand\", \"Logan\", \"Chaffee\", \"Clear Creek\", \"Elbert\", \"Morgan\", \"Pueblo\", \"Routt\", \"Teller\", \"Mesa\", \"Unassigned\", \"Garfield\", \"Summit\", \"Pitkin\", \"Adams\", \"Gunnison\", \"Larimer\", \"Boulder\", \"Douglas\", \"Weld\", \"Jefferson\", \"Arapahoe\", \"El Paso\", \"Eagle\", \"Denver\"], \"legendgroup\": \"Colorado\", \"marker\": {\"color\": \"#19d3f3\"}, \"name\": \"Colorado\", \"offsetgroup\": \"Colorado\", \"orientation\": \"h\", \"showlegend\": true, \"text\": [1.0, 1.0, 1.0, 1.0, 1.0, 1.0, 2.0, 2.0, 2.0, 3.0, 3.0, 3.0, 3.0, 3.0, 3.0, 3.0, 5.0, 5.0, 8.0, 8.0, 18.0, 25.0, 28.0, 34.0, 39.0, 48.0, 50.0, 55.0, 58.0, 69.0, 92.0, 148.0], \"textposition\": \"inside\", \"texttemplate\": \"%{text:.2s}\", \"type\": \"bar\", \"x\": [1, 1, 1, 1, 1, 1, 2, 2, 2, 3, 3, 3, 3, 3, 3, 3, 5, 5, 8, 8, 18, 25, 28, 34, 39, 48, 50, 55, 58, 69, 92, 148], \"xaxis\": \"x\", \"y\": [\"Colorado\", \"Colorado\", \"Colorado\", \"Colorado\", \"Colorado\", \"Colorado\", \"Colorado\", \"Colorado\", \"Colorado\", \"Colorado\", \"Colorado\", \"Colorado\", \"Colorado\", \"Colorado\", \"Colorado\", \"Colorado\", \"Colorado\", \"Colorado\", \"Colorado\", \"Colorado\", \"Colorado\", \"Colorado\", \"Colorado\", \"Colorado\", \"Colorado\", \"Colorado\", \"Colorado\", \"Colorado\", \"Colorado\", \"Colorado\", \"Colorado\", \"Colorado\"], \"yaxis\": \"y\"}, {\"alignmentgroup\": \"True\", \"customdata\": [[2, 0], [6, 0], [8, 0], [19, 3], [22, 0], [88, 2], [89, 0], [384, 7]], \"hoverlabel\": {\"namelength\": 0}, \"hovertemplate\": \"<b>%{hovertext}</b><br><br>State=%{y}<br>Confirmed=%{text}<br>Deaths=%{customdata[1]}\", \"hovertext\": [\"Windham\", \"New London\", \"Middlesex\", \"Tolland\", \"Litchfield\", \"Hartford\", \"New Haven\", \"Fairfield\"], \"legendgroup\": \"Connecticut\", \"marker\": {\"color\": \"#FF6692\"}, \"name\": \"Connecticut\", \"offsetgroup\": \"Connecticut\", \"orientation\": \"h\", \"showlegend\": true, \"text\": [2.0, 6.0, 8.0, 19.0, 22.0, 88.0, 89.0, 384.0], \"textposition\": \"inside\", \"texttemplate\": \"%{text:.2s}\", \"type\": \"bar\", \"x\": [2, 6, 8, 19, 22, 88, 89, 384], \"xaxis\": \"x\", \"y\": [\"Connecticut\", \"Connecticut\", \"Connecticut\", \"Connecticut\", \"Connecticut\", \"Connecticut\", \"Connecticut\", \"Connecticut\"], \"yaxis\": \"y\"}, {\"alignmentgroup\": \"True\", \"customdata\": [[10, 0], [23, 0], [71, 0]], \"hoverlabel\": {\"namelength\": 0}, \"hovertemplate\": \"<b>%{hovertext}</b><br><br>State=%{y}<br>Confirmed=%{text}<br>Deaths=%{customdata[1]}\", \"hovertext\": [\"Kent\", \"Sussex\", \"New Castle\"], \"legendgroup\": \"Delaware\", \"marker\": {\"color\": \"#B6E880\"}, \"name\": \"Delaware\", \"offsetgroup\": \"Delaware\", \"orientation\": \"h\", \"showlegend\": true, \"text\": [10.0, 23.0, 71.0], \"textposition\": \"inside\", \"texttemplate\": \"%{text:.2s}\", \"type\": \"bar\", \"x\": [10, 23, 71], \"xaxis\": \"x\", \"y\": [\"Delaware\", \"Delaware\", \"Delaware\"], \"yaxis\": \"y\"}, {\"alignmentgroup\": \"True\", \"customdata\": [[141, 2]], \"hoverlabel\": {\"namelength\": 0}, \"hovertemplate\": \"<b>%{hovertext}</b><br><br>State=%{y}<br>Confirmed=%{text}<br>Deaths=%{customdata[1]}\", \"hovertext\": [\"District of Columbia\"], \"legendgroup\": \"District of Columbia\", \"marker\": {\"color\": \"#FF97FF\"}, \"name\": \"District of Columbia\", \"offsetgroup\": \"District of Columbia\", \"orientation\": \"h\", \"showlegend\": true, \"text\": [141.0], \"textposition\": \"inside\", \"texttemplate\": \"%{text:.2s}\", \"type\": \"bar\", \"x\": [141], \"xaxis\": \"x\", \"y\": [\"District of Columbia\"], \"yaxis\": \"y\"}, {\"alignmentgroup\": \"True\", \"customdata\": [[1, 0], [1, 0], [1, 0], [1, 0], [1, 0], [1, 0], [2, 0], [3, 0], [3, 0], [3, 0], [4, 0], [4, 0], [4, 0], [4, 0], [4, 0], [4, 1], [5, 0], [6, 0], [8, 1], [9, 0], [9, 0], [10, 2], [10, 0], [10, 0], [10, 0], [11, 0], [13, 0], [14, 0], [14, 0], [15, 1], [16, 1], [18, 0], [22, 0], [23, 0], [26, 0], [26, 0], [32, 2], [37, 0], [41, 0], [45, 0], [50, 1], [50, 2], [91, 0], [101, 3], [311, 3], [338, 0]], \"hoverlabel\": {\"namelength\": 0}, \"hovertemplate\": \"<b>%{hovertext}</b><br><br>State=%{y}<br>Confirmed=%{text}<br>Deaths=%{customdata[1]}\", \"hovertext\": [\"Bay\", \"Bradford\", \"DeSoto\", \"Gadsden\", \"Jackson\", \"Nassau\", \"Putnam\", \"Charlotte\", \"Columbia\", \"Monroe\", \"Baker\", \"Flagler\", \"Highlands\", \"Marion\", \"Martin\", \"Santa Rosa\", \"Hernando\", \"St. Lucie\", \"Leon\", \"Brevard\", \"Citrus\", \"Clay\", \"Escambia\", \"Sumter\", \"Walton\", \"Indian River\", \"Polk\", \"Lake\", \"Okaloosa\", \"Pasco\", \"Manatee\", \"Volusia\", \"St. Johns\", \"Seminole\", \"Osceola\", \"Sarasota\", \"Lee\", \"Alachua\", \"Collier\", \"Pinellas\", \"Duval\", \"Orange\", \"Hillsborough\", \"Palm Beach\", \"Broward\", \"Miami-Dade\"], \"legendgroup\": \"Florida\", \"marker\": {\"color\": \"#FECB52\"}, \"name\": \"Florida\", \"offsetgroup\": \"Florida\", \"orientation\": \"h\", \"showlegend\": true, \"text\": [1.0, 1.0, 1.0, 1.0, 1.0, 1.0, 2.0, 3.0, 3.0, 3.0, 4.0, 4.0, 4.0, 4.0, 4.0, 4.0, 5.0, 6.0, 8.0, 9.0, 9.0, 10.0, 10.0, 10.0, 10.0, 11.0, 13.0, 14.0, 14.0, 15.0, 16.0, 18.0, 22.0, 23.0, 26.0, 26.0, 32.0, 37.0, 41.0, 45.0, 50.0, 50.0, 91.0, 101.0, 311.0, 338.0], \"textposition\": \"inside\", \"texttemplate\": \"%{text:.2s}\", \"type\": \"bar\", \"x\": [1, 1, 1, 1, 1, 1, 2, 3, 3, 3, 4, 4, 4, 4, 4, 4, 5, 6, 8, 9, 9, 10, 10, 10, 10, 11, 13, 14, 14, 15, 16, 18, 22, 23, 26, 26, 32, 37, 41, 45, 50, 50, 91, 101, 311, 338], \"xaxis\": \"x\", \"y\": [\"Florida\", \"Florida\", \"Florida\", \"Florida\", \"Florida\", \"Florida\", \"Florida\", \"Florida\", \"Florida\", \"Florida\", \"Florida\", \"Florida\", \"Florida\", \"Florida\", \"Florida\", \"Florida\", \"Florida\", \"Florida\", \"Florida\", \"Florida\", \"Florida\", \"Florida\", \"Florida\", \"Florida\", \"Florida\", \"Florida\", \"Florida\", \"Florida\", \"Florida\", \"Florida\", \"Florida\", \"Florida\", \"Florida\", \"Florida\", \"Florida\", \"Florida\", \"Florida\", \"Florida\", \"Florida\", \"Florida\", \"Florida\", \"Florida\", \"Florida\", \"Florida\", \"Florida\", \"Florida\"], \"yaxis\": \"y\"}, {\"alignmentgroup\": \"True\", \"customdata\": [[1, 0], [1, 0], [1, 0], [1, 0], [1, 0], [1, 0], [1, 0], [1, 0], [1, 0], [1, 0], [1, 0], [1, 0], [1, 0], [1, 0], [1, 0], [1, 0], [1, 0], [1, 0], [1, 0], [1, 0], [1, 0], [1, 0], [1, 0], [1, 0], [1, 0], [1, 0], [1, 0], [1, 0], [1, 0], [1, 0], [2, 0], [2, 0], [2, 0], [2, 0], [2, 0], [2, 0], [2, 1], [2, 0], [2, 0], [2, 0], [2, 0], [3, 0], [3, 0], [3, 0], [3, 0], [3, 0], [3, 0], [3, 0], [3, 0], [3, 0], [4, 0], [4, 0], [4, 0], [4, 0], [5, 0], [5, 0], [5, 0], [5, 0], [5, 0], [6, 0], [6, 0], [7, 0], [7, 0], [7, 0], [8, 0], [8, 0], [10, 0], [10, 0], [11, 0], [11, 1], [11, 0], [12, 1], [13, 0], [14, 0], [16, 0], [20, 0], [21, 0], [26, 0], [28, 0], [45, 1], [74, 1], [81, 17], [86, 2], [90, 6], [94, 0], [184, 2]], \"hoverlabel\": {\"namelength\": 0}, \"hovertemplate\": \"<b>%{hovertext}</b><br><br>State=%{y}<br>Confirmed=%{text}<br>Deaths=%{customdata[1]}\", \"hovertext\": [\"Barrow\", \"Ben Hill\", \"Burke\", \"Camden\", \"Catoosa\", \"Charlton\", \"Chattooga\", \"Clinch\", \"Dawson\", \"Greene\", \"Harris\", \"Heard\", \"Irwin\", \"Jasper\", \"Liberty\", \"Lincoln\", \"Macon\", \"Madison\", \"Meriwether\", \"Miller\", \"Morgan\", \"Pierce\", \"Pulaski\", \"Randolph\", \"Stephens\", \"Tattnall\", \"Turner\", \"Twiggs\", \"Walton\", \"Washington\", \"Baker\", \"Baldwin\", \"Bryan\", \"Butts\", \"Coffee\", \"Colquitt\", \"Early\", \"Effingham\", \"Sumter\", \"Tift\", \"Whitfield\", \"Crisp\", \"Houston\", \"Lamar\", \"Lumpkin\", \"Mitchell\", \"Monroe\", \"Muscogee\", \"Peach\", \"Terrell\", \"Bibb\", \"Columbia\", \"Pickens\", \"Worth\", \"Glynn\", \"Laurens\", \"Newton\", \"Oconee\", \"Spalding\", \"Paulding\", \"Troup\", \"Chatham\", \"Gordon\", \"Rockdale\", \"Forsyth\", \"Polk\", \"Coweta\", \"Lowndes\", \"Douglas\", \"Floyd\", \"Richmond\", \"Fayette\", \"Henry\", \"Hall\", \"Clarke\", \"Lee\", \"Clayton\", \"Carroll\", \"Cherokee\", \"Gwinnett\", \"Bartow\", \"Unassigned\", \"Cobb\", \"Dougherty\", \"DeKalb\", \"Fulton\"], \"legendgroup\": \"Georgia\", \"marker\": {\"color\": \"#636efa\"}, \"name\": \"Georgia\", \"offsetgroup\": \"Georgia\", \"orientation\": \"h\", \"showlegend\": true, \"text\": [1.0, 1.0, 1.0, 1.0, 1.0, 1.0, 1.0, 1.0, 1.0, 1.0, 1.0, 1.0, 1.0, 1.0, 1.0, 1.0, 1.0, 1.0, 1.0, 1.0, 1.0, 1.0, 1.0, 1.0, 1.0, 1.0, 1.0, 1.0, 1.0, 1.0, 2.0, 2.0, 2.0, 2.0, 2.0, 2.0, 2.0, 2.0, 2.0, 2.0, 2.0, 3.0, 3.0, 3.0, 3.0, 3.0, 3.0, 3.0, 3.0, 3.0, 4.0, 4.0, 4.0, 4.0, 5.0, 5.0, 5.0, 5.0, 5.0, 6.0, 6.0, 7.0, 7.0, 7.0, 8.0, 8.0, 10.0, 10.0, 11.0, 11.0, 11.0, 12.0, 13.0, 14.0, 16.0, 20.0, 21.0, 26.0, 28.0, 45.0, 74.0, 81.0, 86.0, 90.0, 94.0, 184.0], \"textposition\": \"inside\", \"texttemplate\": \"%{text:.2s}\", \"type\": \"bar\", \"x\": [1, 1, 1, 1, 1, 1, 1, 1, 1, 1, 1, 1, 1, 1, 1, 1, 1, 1, 1, 1, 1, 1, 1, 1, 1, 1, 1, 1, 1, 1, 2, 2, 2, 2, 2, 2, 2, 2, 2, 2, 2, 3, 3, 3, 3, 3, 3, 3, 3, 3, 4, 4, 4, 4, 5, 5, 5, 5, 5, 6, 6, 7, 7, 7, 8, 8, 10, 10, 11, 11, 11, 12, 13, 14, 16, 20, 21, 26, 28, 45, 74, 81, 86, 90, 94, 184], \"xaxis\": \"x\", \"y\": [\"Georgia\", \"Georgia\", \"Georgia\", \"Georgia\", \"Georgia\", \"Georgia\", \"Georgia\", \"Georgia\", \"Georgia\", \"Georgia\", \"Georgia\", \"Georgia\", \"Georgia\", \"Georgia\", \"Georgia\", \"Georgia\", \"Georgia\", \"Georgia\", \"Georgia\", \"Georgia\", \"Georgia\", \"Georgia\", \"Georgia\", \"Georgia\", \"Georgia\", \"Georgia\", \"Georgia\", \"Georgia\", \"Georgia\", \"Georgia\", \"Georgia\", \"Georgia\", \"Georgia\", \"Georgia\", \"Georgia\", \"Georgia\", \"Georgia\", \"Georgia\", \"Georgia\", \"Georgia\", \"Georgia\", \"Georgia\", \"Georgia\", \"Georgia\", \"Georgia\", \"Georgia\", \"Georgia\", \"Georgia\", \"Georgia\", \"Georgia\", \"Georgia\", \"Georgia\", \"Georgia\", \"Georgia\", \"Georgia\", \"Georgia\", \"Georgia\", \"Georgia\", \"Georgia\", \"Georgia\", \"Georgia\", \"Georgia\", \"Georgia\", \"Georgia\", \"Georgia\", \"Georgia\", \"Georgia\", \"Georgia\", \"Georgia\", \"Georgia\", \"Georgia\", \"Georgia\", \"Georgia\", \"Georgia\", \"Georgia\", \"Georgia\", \"Georgia\", \"Georgia\", \"Georgia\", \"Georgia\", \"Georgia\", \"Georgia\", \"Georgia\", \"Georgia\", \"Georgia\", \"Georgia\"], \"yaxis\": \"y\"}, {\"alignmentgroup\": \"True\", \"customdata\": [[1, 0], [2, 0], [9, 0], [20, 0], [58, 1]], \"hoverlabel\": {\"namelength\": 0}, \"hovertemplate\": \"<b>%{hovertext}</b><br><br>State=%{y}<br>Confirmed=%{text}<br>Deaths=%{customdata[1]}\", \"hovertext\": [\"Kauai\", \"Hawaii\", \"Maui\", \"Unassigned\", \"Honolulu\"], \"legendgroup\": \"Hawaii\", \"marker\": {\"color\": \"#EF553B\"}, \"name\": \"Hawaii\", \"offsetgroup\": \"Hawaii\", \"orientation\": \"h\", \"showlegend\": true, \"text\": [1.0, 2.0, 9.0, 20.0, 58.0], \"textposition\": \"inside\", \"texttemplate\": \"%{text:.2s}\", \"type\": \"bar\", \"x\": [1, 2, 9, 20, 58], \"xaxis\": \"x\", \"y\": [\"Hawaii\", \"Hawaii\", \"Hawaii\", \"Hawaii\", \"Hawaii\"], \"yaxis\": \"y\"}, {\"alignmentgroup\": \"True\", \"customdata\": [[1, 0], [1, 0], [1, 0], [2, 0], [2, 0], [2, 0], [2, 0], [2, 0], [5, 0], [8, 0], [19, 0], [36, 0]], \"hoverlabel\": {\"namelength\": 0}, \"hovertemplate\": \"<b>%{hovertext}</b><br><br>State=%{y}<br>Confirmed=%{text}<br>Deaths=%{customdata[1]}\", \"hovertext\": [\"Cassia\", \"Twin Falls\", \"Valley\", \"Bannock\", \"Bingham\", \"Jefferson\", \"Madison\", \"Teton\", \"Canyon\", \"Kootenai\", \"Ada\", \"Blaine\"], \"legendgroup\": \"Idaho\", \"marker\": {\"color\": \"#00cc96\"}, \"name\": \"Idaho\", \"offsetgroup\": \"Idaho\", \"orientation\": \"h\", \"showlegend\": true, \"text\": [1.0, 1.0, 1.0, 2.0, 2.0, 2.0, 2.0, 2.0, 5.0, 8.0, 19.0, 36.0], \"textposition\": \"inside\", \"texttemplate\": \"%{text:.2s}\", \"type\": \"bar\", \"x\": [1, 1, 1, 2, 2, 2, 2, 2, 5, 8, 19, 36], \"xaxis\": \"x\", \"y\": [\"Idaho\", \"Idaho\", \"Idaho\", \"Idaho\", \"Idaho\", \"Idaho\", \"Idaho\", \"Idaho\", \"Idaho\", \"Idaho\", \"Idaho\", \"Idaho\"], \"yaxis\": \"y\"}, {\"alignmentgroup\": \"True\", \"customdata\": [[1, 0], [1, 0], [1, 0], [1, 0], [1, 0], [1, 0], [1, 0], [1, 0], [1, 0], [1, 0], [1, 0], [1, 0], [1, 0], [2, 0], [3, 0], [3, 0], [3, 0], [3, 0], [4, 0], [4, 0], [4, 0], [5, 1], [5, 0], [7, 1], [7, 0], [14, 0], [24, 0], [28, 1], [103, 0], [111, 0], [1194, 9]], \"hoverlabel\": {\"namelength\": 0}, \"hovertemplate\": \"<b>%{hovertext}</b><br><br>State=%{y}<br>Confirmed=%{text}<br>Deaths=%{customdata[1]}\", \"hovertext\": [\"Adams\", \"Christian\", \"Cumberland\", \"DeKalb\", \"Grundy\", \"Jackson\", \"Jo Daviess\", \"Livingston\", \"Monroe\", \"Rock Island\", \"Stephenson\", \"Washington\", \"Whiteside\", \"Madison\", \"Clinton\", \"LaSalle\", \"Peoria\", \"Woodford\", \"Champaign\", \"Kankakee\", \"Kendall\", \"Sangamon\", \"Winnebago\", \"McLean\", \"St. Clair\", \"McHenry\", \"Kane\", \"Will\", \"DuPage\", \"Lake\", \"Cook\"], \"legendgroup\": \"Illinois\", \"marker\": {\"color\": \"#ab63fa\"}, \"name\": \"Illinois\", \"offsetgroup\": \"Illinois\", \"orientation\": \"h\", \"showlegend\": true, \"text\": [1.0, 1.0, 1.0, 1.0, 1.0, 1.0, 1.0, 1.0, 1.0, 1.0, 1.0, 1.0, 1.0, 2.0, 3.0, 3.0, 3.0, 3.0, 4.0, 4.0, 4.0, 5.0, 5.0, 7.0, 7.0, 14.0, 24.0, 28.0, 103.0, 111.0, 1194.0], \"textposition\": \"inside\", \"texttemplate\": \"%{text:.2s}\", \"type\": \"bar\", \"x\": [1, 1, 1, 1, 1, 1, 1, 1, 1, 1, 1, 1, 1, 2, 3, 3, 3, 3, 4, 4, 4, 5, 5, 7, 7, 14, 24, 28, 103, 111, 1194], \"xaxis\": \"x\", \"y\": [\"Illinois\", \"Illinois\", \"Illinois\", \"Illinois\", \"Illinois\", \"Illinois\", \"Illinois\", \"Illinois\", \"Illinois\", \"Illinois\", \"Illinois\", \"Illinois\", \"Illinois\", \"Illinois\", \"Illinois\", \"Illinois\", \"Illinois\", \"Illinois\", \"Illinois\", \"Illinois\", \"Illinois\", \"Illinois\", \"Illinois\", \"Illinois\", \"Illinois\", \"Illinois\", \"Illinois\", \"Illinois\", \"Illinois\", \"Illinois\", \"Illinois\"], \"yaxis\": \"y\"}, {\"alignmentgroup\": \"True\", \"customdata\": [[1, 0], [1, 0], [1, 0], [1, 0], [1, 0], [1, 0], [1, 0], [1, 0], [1, 0], [1, 0], [1, 0], [1, 0], [1, 1], [1, 0], [1, 0], [1, 0], [1, 0], [2, 0], [2, 0], [2, 0], [2, 0], [2, 0], [2, 0], [2, 0], [2, 0], [2, 0], [3, 0], [3, 0], [3, 0], [3, 0], [3, 0], [3, 0], [3, 0], [4, 1], [4, 0], [4, 0], [5, 0], [5, 0], [6, 0], [6, 0], [6, 0], [6, 0], [7, 1], [7, 0], [13, 0], [17, 0], [18, 3], [18, 0], [25, 0], [161, 6]], \"hoverlabel\": {\"namelength\": 0}, \"hovertemplate\": \"<b>%{hovertext}</b><br><br>State=%{y}<br>Confirmed=%{text}<br>Deaths=%{customdata[1]}\", \"hovertext\": [\"Adams\", \"Brown\", \"Dubois\", \"Greene\", \"Jackson\", \"Lawrence\", \"Miami\", \"Montgomery\", \"Noble\", \"Ohio\", \"Porter\", \"Putnam\", \"Scott\", \"Shelby\", \"Vanderburgh\", \"Warrick\", \"Wells\", \"Dearborn\", \"Fayette\", \"Gibson\", \"Jennings\", \"LaPorte\", \"Owen\", \"Starke\", \"Tipton\", \"Washington\", \"Boone\", \"Grant\", \"Madison\", \"Monroe\", \"Morgan\", \"Tippecanoe\", \"Vigo\", \"Delaware\", \"Elkhart\", \"Hancock\", \"Bartholomew\", \"Clark\", \"Decatur\", \"Floyd\", \"Howard\", \"Ripley\", \"Allen\", \"Franklin\", \"Hendricks\", \"Lake\", \"Johnson\", \"St. Joseph\", \"Hamilton\", \"Marion\"], \"legendgroup\": \"Indiana\", \"marker\": {\"color\": \"#FFA15A\"}, \"name\": \"Indiana\", \"offsetgroup\": \"Indiana\", \"orientation\": \"h\", \"showlegend\": true, \"text\": [1.0, 1.0, 1.0, 1.0, 1.0, 1.0, 1.0, 1.0, 1.0, 1.0, 1.0, 1.0, 1.0, 1.0, 1.0, 1.0, 1.0, 2.0, 2.0, 2.0, 2.0, 2.0, 2.0, 2.0, 2.0, 2.0, 3.0, 3.0, 3.0, 3.0, 3.0, 3.0, 3.0, 4.0, 4.0, 4.0, 5.0, 5.0, 6.0, 6.0, 6.0, 6.0, 7.0, 7.0, 13.0, 17.0, 18.0, 18.0, 25.0, 161.0], \"textposition\": \"inside\", \"texttemplate\": \"%{text:.2s}\", \"type\": \"bar\", \"x\": [1, 1, 1, 1, 1, 1, 1, 1, 1, 1, 1, 1, 1, 1, 1, 1, 1, 2, 2, 2, 2, 2, 2, 2, 2, 2, 3, 3, 3, 3, 3, 3, 3, 4, 4, 4, 5, 5, 6, 6, 6, 6, 7, 7, 13, 17, 18, 18, 25, 161], \"xaxis\": \"x\", \"y\": [\"Indiana\", \"Indiana\", \"Indiana\", \"Indiana\", \"Indiana\", \"Indiana\", \"Indiana\", \"Indiana\", \"Indiana\", \"Indiana\", \"Indiana\", \"Indiana\", \"Indiana\", \"Indiana\", \"Indiana\", \"Indiana\", \"Indiana\", \"Indiana\", \"Indiana\", \"Indiana\", \"Indiana\", \"Indiana\", \"Indiana\", \"Indiana\", \"Indiana\", \"Indiana\", \"Indiana\", \"Indiana\", \"Indiana\", \"Indiana\", \"Indiana\", \"Indiana\", \"Indiana\", \"Indiana\", \"Indiana\", \"Indiana\", \"Indiana\", \"Indiana\", \"Indiana\", \"Indiana\", \"Indiana\", \"Indiana\", \"Indiana\", \"Indiana\", \"Indiana\", \"Indiana\", \"Indiana\", \"Indiana\", \"Indiana\", \"Indiana\"], \"yaxis\": \"y\"}, {\"alignmentgroup\": \"True\", \"customdata\": [[1, 0], [1, 0], [1, 0], [1, 0], [1, 0], [1, 0], [1, 0], [1, 0], [1, 0], [1, 0], [1, 0], [1, 0], [1, 0], [2, 0], [2, 0], [2, 0], [2, 0], [2, 0], [2, 0], [2, 0], [3, 0], [4, 0], [4, 0], [4, 0], [5, 0], [6, 0], [6, 0], [6, 0], [7, 0], [15, 0], [37, 0]], \"hoverlabel\": {\"namelength\": 0}, \"hovertemplate\": \"<b>%{hovertext}</b><br><br>State=%{y}<br>Confirmed=%{text}<br>Deaths=%{customdata[1]}\", \"hovertext\": [\"Adair\", \"Buchanan\", \"Carroll\", \"Cedar\", \"Fayette\", \"Henry\", \"Jasper\", \"Kossuth\", \"Scott\", \"Sioux\", \"Wapello\", \"Warren\", \"Winneshiek\", \"Cerro Gordo\", \"Hancock\", \"Pottawattamie\", \"Poweshiek\", \"Story\", \"Unassigned\", \"Woodbury\", \"Harrison\", \"Black Hawk\", \"Tama\", \"Washington\", \"Muscatine\", \"Allamakee\", \"Dubuque\", \"Linn\", \"Dallas\", \"Polk\", \"Johnson\"], \"legendgroup\": \"Iowa\", \"marker\": {\"color\": \"#19d3f3\"}, \"name\": \"Iowa\", \"offsetgroup\": \"Iowa\", \"orientation\": \"h\", \"showlegend\": true, \"text\": [1.0, 1.0, 1.0, 1.0, 1.0, 1.0, 1.0, 1.0, 1.0, 1.0, 1.0, 1.0, 1.0, 2.0, 2.0, 2.0, 2.0, 2.0, 2.0, 2.0, 3.0, 4.0, 4.0, 4.0, 5.0, 6.0, 6.0, 6.0, 7.0, 15.0, 37.0], \"textposition\": \"inside\", \"texttemplate\": \"%{text:.2s}\", \"type\": \"bar\", \"x\": [1, 1, 1, 1, 1, 1, 1, 1, 1, 1, 1, 1, 1, 2, 2, 2, 2, 2, 2, 2, 3, 4, 4, 4, 5, 6, 6, 6, 7, 15, 37], \"xaxis\": \"x\", \"y\": [\"Iowa\", \"Iowa\", \"Iowa\", \"Iowa\", \"Iowa\", \"Iowa\", \"Iowa\", \"Iowa\", \"Iowa\", \"Iowa\", \"Iowa\", \"Iowa\", \"Iowa\", \"Iowa\", \"Iowa\", \"Iowa\", \"Iowa\", \"Iowa\", \"Iowa\", \"Iowa\", \"Iowa\", \"Iowa\", \"Iowa\", \"Iowa\", \"Iowa\", \"Iowa\", \"Iowa\", \"Iowa\", \"Iowa\", \"Iowa\", \"Iowa\"], \"yaxis\": \"y\"}, {\"alignmentgroup\": \"True\", \"customdata\": [[1, 0], [1, 0], [1, 0], [1, 0], [1, 0], [1, 0], [1, 0], [2, 0], [2, 0], [2, 0], [2, 0], [2, 0], [2, 0], [3, 0], [6, 0], [7, 0], [7, 0], [22, 1], [36, 1]], \"hoverlabel\": {\"namelength\": 0}, \"hovertemplate\": \"<b>%{hovertext}</b><br><br>State=%{y}<br>Confirmed=%{text}<br>Deaths=%{customdata[1]}\", \"hovertext\": [\"Bourbon\", \"Doniphan\", \"Franklin\", \"Jackson\", \"Mitchell\", \"Pottawatomie\", \"Woodson\", \"Cherokee\", \"Crawford\", \"Linn\", \"Lyon\", \"Morris\", \"Reno\", \"Butler\", \"Douglas\", \"Leavenworth\", \"Sedgwick\", \"Wyandotte\", \"Johnson\"], \"legendgroup\": \"Kansas\", \"marker\": {\"color\": \"#FF6692\"}, \"name\": \"Kansas\", \"offsetgroup\": \"Kansas\", \"orientation\": \"h\", \"showlegend\": true, \"text\": [1.0, 1.0, 1.0, 1.0, 1.0, 1.0, 1.0, 2.0, 2.0, 2.0, 2.0, 2.0, 2.0, 3.0, 6.0, 7.0, 7.0, 22.0, 36.0], \"textposition\": \"inside\", \"texttemplate\": \"%{text:.2s}\", \"type\": \"bar\", \"x\": [1, 1, 1, 1, 1, 1, 1, 2, 2, 2, 2, 2, 2, 3, 6, 7, 7, 22, 36], \"xaxis\": \"x\", \"y\": [\"Kansas\", \"Kansas\", \"Kansas\", \"Kansas\", \"Kansas\", \"Kansas\", \"Kansas\", \"Kansas\", \"Kansas\", \"Kansas\", \"Kansas\", \"Kansas\", \"Kansas\", \"Kansas\", \"Kansas\", \"Kansas\", \"Kansas\", \"Kansas\", \"Kansas\"], \"yaxis\": \"y\"}, {\"alignmentgroup\": \"True\", \"customdata\": [[1, 0], [1, 0], [1, 0], [1, 0], [1, 0], [1, 0], [1, 0], [1, 0], [1, 0], [1, 0], [1, 0], [1, 0], [1, 0], [1, 0], [1, 0], [1, 0], [1, 0], [2, 1], [2, 1], [2, 0], [2, 0], [2, 0], [2, 0], [2, 0], [2, 0], [2, 0], [2, 0], [3, 0], [4, 0], [5, 0], [8, 0], [11, 0], [15, 1], [33, 1], [46, 0]], \"hoverlabel\": {\"namelength\": 0}, \"hovertemplate\": \"<b>%{hovertext}</b><br><br>State=%{y}<br>Confirmed=%{text}<br>Deaths=%{customdata[1]}\", \"hovertext\": [\"Boone\", \"Breathitt\", \"Calloway\", \"Campbell\", \"Jessamine\", \"Laurel\", \"Logan\", \"Lyon\", \"Martin\", \"McCracken\", \"Menifee\", \"Nelson\", \"Oldham\", \"Scott\", \"Simpson\", \"Spencer\", \"Webster\", \"Anderson\", \"Bourbon\", \"Christian\", \"Clark\", \"Franklin\", \"Hardin\", \"Henderson\", \"Madison\", \"Montgomery\", \"Muhlenberg\", \"Pulaski\", \"Warren\", \"Kenton\", \"Harrison\", \"Daviess\", \"Fayette\", \"Jefferson\", \"Unassigned\"], \"legendgroup\": \"Kentucky\", \"marker\": {\"color\": \"#B6E880\"}, \"name\": \"Kentucky\", \"offsetgroup\": \"Kentucky\", \"orientation\": \"h\", \"showlegend\": true, \"text\": [1.0, 1.0, 1.0, 1.0, 1.0, 1.0, 1.0, 1.0, 1.0, 1.0, 1.0, 1.0, 1.0, 1.0, 1.0, 1.0, 1.0, 2.0, 2.0, 2.0, 2.0, 2.0, 2.0, 2.0, 2.0, 2.0, 2.0, 3.0, 4.0, 5.0, 8.0, 11.0, 15.0, 33.0, 46.0], \"textposition\": \"inside\", \"texttemplate\": \"%{text:.2s}\", \"type\": \"bar\", \"x\": [1, 1, 1, 1, 1, 1, 1, 1, 1, 1, 1, 1, 1, 1, 1, 1, 1, 2, 2, 2, 2, 2, 2, 2, 2, 2, 2, 3, 4, 5, 8, 11, 15, 33, 46], \"xaxis\": \"x\", \"y\": [\"Kentucky\", \"Kentucky\", \"Kentucky\", \"Kentucky\", \"Kentucky\", \"Kentucky\", \"Kentucky\", \"Kentucky\", \"Kentucky\", \"Kentucky\", \"Kentucky\", \"Kentucky\", \"Kentucky\", \"Kentucky\", \"Kentucky\", \"Kentucky\", \"Kentucky\", \"Kentucky\", \"Kentucky\", \"Kentucky\", \"Kentucky\", \"Kentucky\", \"Kentucky\", \"Kentucky\", \"Kentucky\", \"Kentucky\", \"Kentucky\", \"Kentucky\", \"Kentucky\", \"Kentucky\", \"Kentucky\", \"Kentucky\", \"Kentucky\", \"Kentucky\", \"Kentucky\"], \"yaxis\": \"y\"}, {\"alignmentgroup\": \"True\", \"customdata\": [[1, 0], [1, 1], [1, 0], [1, 0], [1, 0], [2, 0], [2, 0], [2, 0], [2, 0], [2, 0], [2, 0], [2, 0], [2, 0], [2, 0], [2, 0], [2, 0], [3, 0], [3, 0], [3, 1], [3, 1], [4, 0], [5, 1], [5, 1], [6, 0], [6, 0], [7, 1], [8, 0], [9, 1], [10, 1], [12, 0], [12, 0], [12, 1], [14, 1], [14, 0], [15, 0], [16, 0], [19, 0], [21, 0], [36, 1], [40, 0], [52, 1], [58, 2], [293, 6], [675, 26]], \"hoverlabel\": {\"namelength\": 0}, \"hovertemplate\": \"<b>%{hovertext}</b><br><br>State=%{y}<br>Confirmed=%{text}<br>Deaths=%{customdata[1]}\", \"hovertext\": [\"Bienville\", \"Catahoula\", \"Grant\", \"Richland\", \"St. Martin\", \"Acadia\", \"Allen\", \"Assumption\", \"Beauregard\", \"Claiborne\", \"Evangeline\", \"Iberia\", \"Lincoln\", \"Natchitoches\", \"St. Mary\", \"Vernon\", \"Avoyelles\", \"St. Landry\", \"Washington\", \"Webster\", \"Tangipahoa\", \"Calcasieu\", \"West Baton Rouge\", \"De Soto\", \"Livingston\", \"Ouachita\", \"Plaquemines\", \"St. James\", \"Rapides\", \"Bossier\", \"Lafayette\", \"Unassigned\", \"Iberville\", \"Terrebonne\", \"St. Charles\", \"Lafourche\", \"St. Bernard\", \"St. John the Baptist\", \"Ascension\", \"Caddo\", \"St. Tammany\", \"East Baton Rouge\", \"Jefferson\", \"Orleans\"], \"legendgroup\": \"Louisiana\", \"marker\": {\"color\": \"#FF97FF\"}, \"name\": \"Louisiana\", \"offsetgroup\": \"Louisiana\", \"orientation\": \"h\", \"showlegend\": true, \"text\": [1.0, 1.0, 1.0, 1.0, 1.0, 2.0, 2.0, 2.0, 2.0, 2.0, 2.0, 2.0, 2.0, 2.0, 2.0, 2.0, 3.0, 3.0, 3.0, 3.0, 4.0, 5.0, 5.0, 6.0, 6.0, 7.0, 8.0, 9.0, 10.0, 12.0, 12.0, 12.0, 14.0, 14.0, 15.0, 16.0, 19.0, 21.0, 36.0, 40.0, 52.0, 58.0, 293.0, 675.0], \"textposition\": \"inside\", \"texttemplate\": \"%{text:.2s}\", \"type\": \"bar\", \"x\": [1, 1, 1, 1, 1, 2, 2, 2, 2, 2, 2, 2, 2, 2, 2, 2, 3, 3, 3, 3, 4, 5, 5, 6, 6, 7, 8, 9, 10, 12, 12, 12, 14, 14, 15, 16, 19, 21, 36, 40, 52, 58, 293, 675], \"xaxis\": \"x\", \"y\": [\"Louisiana\", \"Louisiana\", \"Louisiana\", \"Louisiana\", \"Louisiana\", \"Louisiana\", \"Louisiana\", \"Louisiana\", \"Louisiana\", \"Louisiana\", \"Louisiana\", \"Louisiana\", \"Louisiana\", \"Louisiana\", \"Louisiana\", \"Louisiana\", \"Louisiana\", \"Louisiana\", \"Louisiana\", \"Louisiana\", \"Louisiana\", \"Louisiana\", \"Louisiana\", \"Louisiana\", \"Louisiana\", \"Louisiana\", \"Louisiana\", \"Louisiana\", \"Louisiana\", \"Louisiana\", \"Louisiana\", \"Louisiana\", \"Louisiana\", \"Louisiana\", \"Louisiana\", \"Louisiana\", \"Louisiana\", \"Louisiana\", \"Louisiana\", \"Louisiana\", \"Louisiana\", \"Louisiana\", \"Louisiana\", \"Louisiana\"], \"yaxis\": \"y\"}, {\"alignmentgroup\": \"True\", \"customdata\": [[1, 0], [1, 0], [3, 0], [3, 0], [4, 0], [5, 0], [5, 0], [6, 0], [16, 0], [74, 0]], \"hoverlabel\": {\"namelength\": 0}, \"hovertemplate\": \"<b>%{hovertext}</b><br><br>State=%{y}<br>Confirmed=%{text}<br>Deaths=%{customdata[1]}\", \"hovertext\": [\"Knox\", \"Waldo\", \"Androscoggin\", \"Sagadahoc\", \"Penobscot\", \"Kennebec\", \"Lincoln\", \"Oxford\", \"York\", \"Cumberland\"], \"legendgroup\": \"Maine\", \"marker\": {\"color\": \"#FECB52\"}, \"name\": \"Maine\", \"offsetgroup\": \"Maine\", \"orientation\": \"h\", \"showlegend\": true, \"text\": [1.0, 1.0, 3.0, 3.0, 4.0, 5.0, 5.0, 6.0, 16.0, 74.0], \"textposition\": \"inside\", \"texttemplate\": \"%{text:.2s}\", \"type\": \"bar\", \"x\": [1, 1, 3, 3, 4, 5, 5, 6, 16, 74], \"xaxis\": \"x\", \"y\": [\"Maine\", \"Maine\", \"Maine\", \"Maine\", \"Maine\", \"Maine\", \"Maine\", \"Maine\", \"Maine\", \"Maine\"], \"yaxis\": \"y\"}, {\"alignmentgroup\": \"True\", \"customdata\": [[1, 0], [1, 0], [1, 0], [1, 0], [2, 0], [2, 0], [2, 0], [3, 0], [3, 0], [3, 0], [4, 0], [4, 0], [5, 0], [5, 0], [5, 0], [24, 0], [30, 0], [41, 0], [42, 1], [63, 2], [107, 1]], \"hoverlabel\": {\"namelength\": 0}, \"hovertemplate\": \"<b>%{hovertext}</b><br><br>State=%{y}<br>Confirmed=%{text}<br>Deaths=%{customdata[1]}\", \"hovertext\": [\"Caroline\", \"Queen Anne's\", \"Somerset\", \"Talbot\", \"St. Mary's\", \"Washington\", \"Worcester\", \"Calvert\", \"Cecil\", \"Garrett\", \"Frederick\", \"Wicomico\", \"Carroll\", \"Charles\", \"Harford\", \"Anne Arundel\", \"Howard\", \"Baltimore City\", \"Baltimore\", \"Prince George's\", \"Montgomery\"], \"legendgroup\": \"Maryland\", \"marker\": {\"color\": \"#636efa\"}, \"name\": \"Maryland\", \"offsetgroup\": \"Maryland\", \"orientation\": \"h\", \"showlegend\": true, \"text\": [1.0, 1.0, 1.0, 1.0, 2.0, 2.0, 2.0, 3.0, 3.0, 3.0, 4.0, 4.0, 5.0, 5.0, 5.0, 24.0, 30.0, 41.0, 42.0, 63.0, 107.0], \"textposition\": \"inside\", \"texttemplate\": \"%{text:.2s}\", \"type\": \"bar\", \"x\": [1, 1, 1, 1, 2, 2, 2, 3, 3, 3, 4, 4, 5, 5, 5, 24, 30, 41, 42, 63, 107], \"xaxis\": \"x\", \"y\": [\"Maryland\", \"Maryland\", \"Maryland\", \"Maryland\", \"Maryland\", \"Maryland\", \"Maryland\", \"Maryland\", \"Maryland\", \"Maryland\", \"Maryland\", \"Maryland\", \"Maryland\", \"Maryland\", \"Maryland\", \"Maryland\", \"Maryland\", \"Maryland\", \"Maryland\", \"Maryland\", \"Maryland\"], \"yaxis\": \"y\"}, {\"alignmentgroup\": \"True\", \"customdata\": [[2, 0], [8, 0], [10, 0], [24, 0], [31, 0], [37, 0], [40, 0], [64, 0], [73, 0], [85, 9], [118, 0], [129, 0], [234, 1], [304, 1]], \"hoverlabel\": {\"namelength\": 0}, \"hovertemplate\": \"<b>%{hovertext}</b><br><br>State=%{y}<br>Confirmed=%{text}<br>Deaths=%{customdata[1]}\", \"hovertext\": [\"Dukes and Nantucket\", \"Hampshire\", \"Franklin\", \"Hampden\", \"Bristol\", \"Berkshire\", \"Barnstable\", \"Plymouth\", \"Worcester\", \"Unassigned\", \"Essex\", \"Norfolk\", \"Suffolk\", \"Middlesex\"], \"legendgroup\": \"Massachusetts\", \"marker\": {\"color\": \"#EF553B\"}, \"name\": \"Massachusetts\", \"offsetgroup\": \"Massachusetts\", \"orientation\": \"h\", \"showlegend\": true, \"text\": [2.0, 8.0, 10.0, 24.0, 31.0, 37.0, 40.0, 64.0, 73.0, 85.0, 118.0, 129.0, 234.0, 304.0], \"textposition\": \"inside\", \"texttemplate\": \"%{text:.2s}\", \"type\": \"bar\", \"x\": [2, 8, 10, 24, 31, 37, 40, 64, 73, 85, 118, 129, 234, 304], \"xaxis\": \"x\", \"y\": [\"Massachusetts\", \"Massachusetts\", \"Massachusetts\", \"Massachusetts\", \"Massachusetts\", \"Massachusetts\", \"Massachusetts\", \"Massachusetts\", \"Massachusetts\", \"Massachusetts\", \"Massachusetts\", \"Massachusetts\", \"Massachusetts\", \"Massachusetts\"], \"yaxis\": \"y\"}, {\"alignmentgroup\": \"True\", \"customdata\": [[1, 0], [1, 0], [1, 0], [1, 0], [1, 0], [1, 0], [1, 0], [1, 0], [1, 0], [1, 0], [1, 0], [1, 0], [1, 0], [1, 0], [2, 0], [2, 0], [2, 0], [2, 0], [2, 0], [3, 0], [3, 0], [3, 0], [3, 0], [3, 0], [4, 0], [5, 0], [5, 0], [5, 0], [6, 0], [6, 0], [8, 0], [8, 0], [8, 0], [12, 0], [13, 0], [15, 0], [15, 0], [31, 1], [34, 0], [50, 3], [225, 3], [428, 4], [876, 13]], \"hoverlabel\": {\"namelength\": 0}, \"hovertemplate\": \"<b>%{hovertext}</b><br><br>State=%{y}<br>Confirmed=%{text}<br>Deaths=%{customdata[1]}\", \"hovertext\": [\"Allegan\", \"Barry\", \"Chippewa\", \"Clare\", \"Hillsdale\", \"Kalkaska\", \"Lapeer\", \"Leelanau\", \"Manistee\", \"Marquette\", \"Montcalm\", \"Roscommon\", \"Tuscola\", \"Wexford\", \"Bay\", \"Emmet\", \"Gladwin\", \"Isabella\", \"Newaygo\", \"Charlevoix\", \"Eaton\", \"Grand Traverse\", \"Kalamazoo\", \"Muskegon\", \"Calhoun\", \"Clinton\", \"Midland\", \"Otsego\", \"Jackson\", \"Out of MI\", \"Berrien\", \"Saginaw\", \"St. Clair\", \"Monroe\", \"Livingston\", \"Ingham\", \"Ottawa\", \"Kent\", \"Genesee\", \"Washtenaw\", \"Macomb\", \"Oakland\", \"Wayne\"], \"legendgroup\": \"Michigan\", \"marker\": {\"color\": \"#00cc96\"}, \"name\": \"Michigan\", \"offsetgroup\": \"Michigan\", \"orientation\": \"h\", \"showlegend\": true, \"text\": [1.0, 1.0, 1.0, 1.0, 1.0, 1.0, 1.0, 1.0, 1.0, 1.0, 1.0, 1.0, 1.0, 1.0, 2.0, 2.0, 2.0, 2.0, 2.0, 3.0, 3.0, 3.0, 3.0, 3.0, 4.0, 5.0, 5.0, 5.0, 6.0, 6.0, 8.0, 8.0, 8.0, 12.0, 13.0, 15.0, 15.0, 31.0, 34.0, 50.0, 225.0, 428.0, 876.0], \"textposition\": \"inside\", \"texttemplate\": \"%{text:.2s}\", \"type\": \"bar\", \"x\": [1, 1, 1, 1, 1, 1, 1, 1, 1, 1, 1, 1, 1, 1, 2, 2, 2, 2, 2, 3, 3, 3, 3, 3, 4, 5, 5, 5, 6, 6, 8, 8, 8, 12, 13, 15, 15, 31, 34, 50, 225, 428, 876], \"xaxis\": \"x\", \"y\": [\"Michigan\", \"Michigan\", \"Michigan\", \"Michigan\", \"Michigan\", \"Michigan\", \"Michigan\", \"Michigan\", \"Michigan\", \"Michigan\", \"Michigan\", \"Michigan\", \"Michigan\", \"Michigan\", \"Michigan\", \"Michigan\", \"Michigan\", \"Michigan\", \"Michigan\", \"Michigan\", \"Michigan\", \"Michigan\", \"Michigan\", \"Michigan\", \"Michigan\", \"Michigan\", \"Michigan\", \"Michigan\", \"Michigan\", \"Michigan\", \"Michigan\", \"Michigan\", \"Michigan\", \"Michigan\", \"Michigan\", \"Michigan\", \"Michigan\", \"Michigan\", \"Michigan\", \"Michigan\", \"Michigan\", \"Michigan\", \"Michigan\"], \"yaxis\": \"y\"}, {\"alignmentgroup\": \"True\", \"customdata\": [[1, 0], [1, 0], [1, 0], [1, 0], [1, 0], [1, 0], [1, 0], [1, 0], [2, 0], [2, 0], [2, 0], [3, 0], [3, 0], [3, 0], [3, 0], [3, 0], [5, 0], [5, 0], [5, 0], [5, 0], [5, 0], [6, 0], [7, 0], [8, 0], [8, 0], [10, 0], [18, 0], [21, 0], [26, 1], [103, 0]], \"hoverlabel\": {\"namelength\": 0}, \"hovertemplate\": \"<b>%{hovertext}</b><br><br>State=%{y}<br>Confirmed=%{text}<br>Deaths=%{customdata[1]}\", \"hovertext\": [\"Benton\", \"Big Stone\", \"Cass\", \"Jackson\", \"Renville\", \"Sherburne\", \"Wabasha\", \"Waseca\", \"Chisago\", \"Rice\", \"St. Louis\", \"Clay\", \"Dodge\", \"Fillmore\", \"Nicollet\", \"Wright\", \"Blue Earth\", \"Le Sueur\", \"Scott\", \"Stearns\", \"Steele\", \"Mower\", \"Anoka\", \"Carver\", \"Martin\", \"Washington\", \"Olmsted\", \"Dakota\", \"Ramsey\", \"Hennepin\"], \"legendgroup\": \"Minnesota\", \"marker\": {\"color\": \"#ab63fa\"}, \"name\": \"Minnesota\", \"offsetgroup\": \"Minnesota\", \"orientation\": \"h\", \"showlegend\": true, \"text\": [1.0, 1.0, 1.0, 1.0, 1.0, 1.0, 1.0, 1.0, 2.0, 2.0, 2.0, 3.0, 3.0, 3.0, 3.0, 3.0, 5.0, 5.0, 5.0, 5.0, 5.0, 6.0, 7.0, 8.0, 8.0, 10.0, 18.0, 21.0, 26.0, 103.0], \"textposition\": \"inside\", \"texttemplate\": \"%{text:.2s}\", \"type\": \"bar\", \"x\": [1, 1, 1, 1, 1, 1, 1, 1, 2, 2, 2, 3, 3, 3, 3, 3, 5, 5, 5, 5, 5, 6, 7, 8, 8, 10, 18, 21, 26, 103], \"xaxis\": \"x\", \"y\": [\"Minnesota\", \"Minnesota\", \"Minnesota\", \"Minnesota\", \"Minnesota\", \"Minnesota\", \"Minnesota\", \"Minnesota\", \"Minnesota\", \"Minnesota\", \"Minnesota\", \"Minnesota\", \"Minnesota\", \"Minnesota\", \"Minnesota\", \"Minnesota\", \"Minnesota\", \"Minnesota\", \"Minnesota\", \"Minnesota\", \"Minnesota\", \"Minnesota\", \"Minnesota\", \"Minnesota\", \"Minnesota\", \"Minnesota\", \"Minnesota\", \"Minnesota\", \"Minnesota\", \"Minnesota\"], \"yaxis\": \"y\"}, {\"alignmentgroup\": \"True\", \"customdata\": [[1, 0], [1, 0], [1, 0], [1, 0], [1, 0], [1, 0], [1, 0], [1, 0], [1, 0], [1, 0], [1, 0], [1, 0], [1, 0], [2, 0], [2, 0], [2, 0], [2, 0], [2, 0], [2, 0], [2, 0], [2, 0], [2, 0], [2, 0], [2, 0], [2, 0], [2, 0], [3, 0], [3, 0], [3, 0], [3, 0], [3, 0], [3, 0], [3, 0], [3, 0], [4, 0], [4, 0], [4, 0], [5, 0], [5, 1], [5, 0], [5, 0], [6, 0], [6, 0], [6, 0], [7, 0], [8, 0], [10, 0], [10, 0], [11, 0], [11, 0], [12, 0], [13, 0], [13, 0], [14, 0], [14, 0], [24, 0], [29, 0], [31, 0]], \"hoverlabel\": {\"namelength\": 0}, \"hovertemplate\": \"<b>%{hovertext}</b><br><br>State=%{y}<br>Confirmed=%{text}<br>Deaths=%{customdata[1]}\", \"hovertext\": [\"Choctaw\", \"Clay\", \"George\", \"Humphreys\", \"Jones\", \"Marion\", \"Newton\", \"Noxubee\", \"Perry\", \"Simpson\", \"Smith\", \"Tate\", \"Union\", \"Adams\", \"Grenada\", \"Lamar\", \"Lawrence\", \"Leake\", \"Montgomery\", \"Panola\", \"Pontotoc\", \"Scott\", \"Tallahatchie\", \"Walthall\", \"Webster\", \"Winston\", \"Attala\", \"Franklin\", \"Itawamba\", \"Marshall\", \"Monroe\", \"Sunflower\", \"Tunica\", \"Yazoo\", \"Bolivar\", \"Lincoln\", \"Wilkinson\", \"Copiah\", \"Hancock\", \"Oktibbeha\", \"Washington\", \"Chickasaw\", \"Holmes\", \"Lowndes\", \"Pike\", \"Lafayette\", \"Jackson\", \"Leflore\", \"Coahoma\", \"Tippah\", \"Lee\", \"Pearl River\", \"Rankin\", \"Forrest\", \"Madison\", \"Harrison\", \"DeSoto\", \"Hinds\"], \"legendgroup\": \"Mississippi\", \"marker\": {\"color\": \"#FFA15A\"}, \"name\": \"Mississippi\", \"offsetgroup\": \"Mississippi\", \"orientation\": \"h\", \"showlegend\": true, \"text\": [1.0, 1.0, 1.0, 1.0, 1.0, 1.0, 1.0, 1.0, 1.0, 1.0, 1.0, 1.0, 1.0, 2.0, 2.0, 2.0, 2.0, 2.0, 2.0, 2.0, 2.0, 2.0, 2.0, 2.0, 2.0, 2.0, 3.0, 3.0, 3.0, 3.0, 3.0, 3.0, 3.0, 3.0, 4.0, 4.0, 4.0, 5.0, 5.0, 5.0, 5.0, 6.0, 6.0, 6.0, 7.0, 8.0, 10.0, 10.0, 11.0, 11.0, 12.0, 13.0, 13.0, 14.0, 14.0, 24.0, 29.0, 31.0], \"textposition\": \"inside\", \"texttemplate\": \"%{text:.2s}\", \"type\": \"bar\", \"x\": [1, 1, 1, 1, 1, 1, 1, 1, 1, 1, 1, 1, 1, 2, 2, 2, 2, 2, 2, 2, 2, 2, 2, 2, 2, 2, 3, 3, 3, 3, 3, 3, 3, 3, 4, 4, 4, 5, 5, 5, 5, 6, 6, 6, 7, 8, 10, 10, 11, 11, 12, 13, 13, 14, 14, 24, 29, 31], \"xaxis\": \"x\", \"y\": [\"Mississippi\", \"Mississippi\", \"Mississippi\", \"Mississippi\", \"Mississippi\", \"Mississippi\", \"Mississippi\", \"Mississippi\", \"Mississippi\", \"Mississippi\", \"Mississippi\", \"Mississippi\", \"Mississippi\", \"Mississippi\", \"Mississippi\", \"Mississippi\", \"Mississippi\", \"Mississippi\", \"Mississippi\", \"Mississippi\", \"Mississippi\", \"Mississippi\", \"Mississippi\", \"Mississippi\", \"Mississippi\", \"Mississippi\", \"Mississippi\", \"Mississippi\", \"Mississippi\", \"Mississippi\", \"Mississippi\", \"Mississippi\", \"Mississippi\", \"Mississippi\", \"Mississippi\", \"Mississippi\", \"Mississippi\", \"Mississippi\", \"Mississippi\", \"Mississippi\", \"Mississippi\", \"Mississippi\", \"Mississippi\", \"Mississippi\", \"Mississippi\", \"Mississippi\", \"Mississippi\", \"Mississippi\", \"Mississippi\", \"Mississippi\", \"Mississippi\", \"Mississippi\", \"Mississippi\", \"Mississippi\", \"Mississippi\", \"Mississippi\", \"Mississippi\", \"Mississippi\"], \"yaxis\": \"y\"}, {\"alignmentgroup\": \"True\", \"customdata\": [[1, 0], [1, 0], [1, 0], [1, 0], [1, 0], [1, 0], [1, 0], [1, 0], [1, 0], [1, 0], [1, 0], [1, 0], [1, 0], [1, 0], [2, 0], [2, 0], [2, 0], [2, 0], [2, 0], [3, 0], [4, 0], [4, 0], [5, 0], [6, 0], [6, 0], [8, 0], [14, 1], [19, 3], [20, 1], [21, 0], [23, 1], [100, 1]], \"hoverlabel\": {\"namelength\": 0}, \"hovertemplate\": \"<b>%{hovertext}</b><br><br>State=%{y}<br>Confirmed=%{text}<br>Deaths=%{customdata[1]}\", \"hovertext\": [\"Adair\", \"Bates\", \"Camden\", \"Clinton\", \"Dunklin\", \"Henry\", \"Jasper\", \"Johnson\", \"Lafayette\", \"Moniteau\", \"Pemiscot\", \"Randolph\", \"Scott\", \"Taney\", \"Callaway\", \"Christian\", \"Perry\", \"Platte\", \"St. Francois\", \"Clay\", \"Jefferson\", \"Pulaski\", \"Cole\", \"Cass\", \"Unassigned\", \"St. Charles\", \"Jackson\", \"Greene\", \"Boone\", \"Kansas City\", \"St. Louis City\", \"St. Louis\"], \"legendgroup\": \"Missouri\", \"marker\": {\"color\": \"#19d3f3\"}, \"name\": \"Missouri\", \"offsetgroup\": \"Missouri\", \"orientation\": \"h\", \"showlegend\": true, \"text\": [1.0, 1.0, 1.0, 1.0, 1.0, 1.0, 1.0, 1.0, 1.0, 1.0, 1.0, 1.0, 1.0, 1.0, 2.0, 2.0, 2.0, 2.0, 2.0, 3.0, 4.0, 4.0, 5.0, 6.0, 6.0, 8.0, 14.0, 19.0, 20.0, 21.0, 23.0, 100.0], \"textposition\": \"inside\", \"texttemplate\": \"%{text:.2s}\", \"type\": \"bar\", \"x\": [1, 1, 1, 1, 1, 1, 1, 1, 1, 1, 1, 1, 1, 1, 2, 2, 2, 2, 2, 3, 4, 4, 5, 6, 6, 8, 14, 19, 20, 21, 23, 100], \"xaxis\": \"x\", \"y\": [\"Missouri\", \"Missouri\", \"Missouri\", \"Missouri\", \"Missouri\", \"Missouri\", \"Missouri\", \"Missouri\", \"Missouri\", \"Missouri\", \"Missouri\", \"Missouri\", \"Missouri\", \"Missouri\", \"Missouri\", \"Missouri\", \"Missouri\", \"Missouri\", \"Missouri\", \"Missouri\", \"Missouri\", \"Missouri\", \"Missouri\", \"Missouri\", \"Missouri\", \"Missouri\", \"Missouri\", \"Missouri\", \"Missouri\", \"Missouri\", \"Missouri\", \"Missouri\"], \"yaxis\": \"y\"}, {\"alignmentgroup\": \"True\", \"customdata\": [[1, 0], [1, 0], [1, 0], [1, 0], [2, 0], [3, 0], [3, 0], [4, 0], [6, 0], [6, 0], [7, 0], [16, 0]], \"hoverlabel\": {\"namelength\": 0}, \"hovertemplate\": \"<b>%{hovertext}</b><br><br>State=%{y}<br>Confirmed=%{text}<br>Deaths=%{customdata[1]}\", \"hovertext\": [\"Broadwater\", \"Madison\", \"Ravalli\", \"Roosevelt\", \"Silver Bow\", \"Cascade\", \"Lewis and Clark\", \"Flathead\", \"Missoula\", \"Unassigned\", \"Yellowstone\", \"Gallatin\"], \"legendgroup\": \"Montana\", \"marker\": {\"color\": \"#FF6692\"}, \"name\": \"Montana\", \"offsetgroup\": \"Montana\", \"orientation\": \"h\", \"showlegend\": true, \"text\": [1.0, 1.0, 1.0, 1.0, 2.0, 3.0, 3.0, 4.0, 6.0, 6.0, 7.0, 16.0], \"textposition\": \"inside\", \"texttemplate\": \"%{text:.2s}\", \"type\": \"bar\", \"x\": [1, 1, 1, 1, 2, 3, 3, 4, 6, 6, 7, 16], \"xaxis\": \"x\", \"y\": [\"Montana\", \"Montana\", \"Montana\", \"Montana\", \"Montana\", \"Montana\", \"Montana\", \"Montana\", \"Montana\", \"Montana\", \"Montana\", \"Montana\"], \"yaxis\": \"y\"}, {\"alignmentgroup\": \"True\", \"customdata\": [[1, 0], [1, 0], [1, 0], [1, 0], [1, 0], [2, 0], [2, 0], [2, 0], [2, 0], [3, 0], [3, 0], [8, 0], [39, 0]], \"hoverlabel\": {\"namelength\": 0}, \"hovertemplate\": \"<b>%{hovertext}</b><br><br>State=%{y}<br>Confirmed=%{text}<br>Deaths=%{customdata[1]}\", \"hovertext\": [\"Adams\", \"Gage\", \"Madison\", \"Nemaha\", \"Saunders\", \"Buffalo\", \"Cass\", \"Knox\", \"Lancaster\", \"Lincoln\", \"Washington\", \"Sarpy\", \"Douglas\"], \"legendgroup\": \"Nebraska\", \"marker\": {\"color\": \"#B6E880\"}, \"name\": \"Nebraska\", \"offsetgroup\": \"Nebraska\", \"orientation\": \"h\", \"showlegend\": true, \"text\": [1.0, 1.0, 1.0, 1.0, 1.0, 2.0, 2.0, 2.0, 2.0, 3.0, 3.0, 8.0, 39.0], \"textposition\": \"inside\", \"texttemplate\": \"%{text:.2s}\", \"type\": \"bar\", \"x\": [1, 1, 1, 1, 1, 2, 2, 2, 2, 3, 3, 8, 39], \"xaxis\": \"x\", \"y\": [\"Nebraska\", \"Nebraska\", \"Nebraska\", \"Nebraska\", \"Nebraska\", \"Nebraska\", \"Nebraska\", \"Nebraska\", \"Nebraska\", \"Nebraska\", \"Nebraska\", \"Nebraska\", \"Nebraska\"], \"yaxis\": \"y\"}, {\"alignmentgroup\": \"True\", \"customdata\": [[1, 0], [2, 0], [2, 0], [2, 0], [15, 0], [44, 0], [212, 4]], \"hoverlabel\": {\"namelength\": 0}, \"hovertemplate\": \"<b>%{hovertext}</b><br><br>State=%{y}<br>Confirmed=%{text}<br>Deaths=%{customdata[1]}\", \"hovertext\": [\"Nye\", \"Carson City\", \"Douglas\", \"Elko County\", \"Unassigned\", \"Washoe\", \"Clark\"], \"legendgroup\": \"Nevada\", \"marker\": {\"color\": \"#FF97FF\"}, \"name\": \"Nevada\", \"offsetgroup\": \"Nevada\", \"orientation\": \"h\", \"showlegend\": true, \"text\": [1.0, 2.0, 2.0, 2.0, 15.0, 44.0, 212.0], \"textposition\": \"inside\", \"texttemplate\": \"%{text:.2s}\", \"type\": \"bar\", \"x\": [1, 2, 2, 2, 15, 44, 212], \"xaxis\": \"x\", \"y\": [\"Nevada\", \"Nevada\", \"Nevada\", \"Nevada\", \"Nevada\", \"Nevada\", \"Nevada\"], \"yaxis\": \"y\"}, {\"alignmentgroup\": \"True\", \"customdata\": [[1, 0], [1, 0], [4, 0], [4, 0], [7, 0], [7, 0], [19, 1], [20, 0], [38, 0]], \"hoverlabel\": {\"namelength\": 0}, \"hovertemplate\": \"<b>%{hovertext}</b><br><br>State=%{y}<br>Confirmed=%{text}<br>Deaths=%{customdata[1]}\", \"hovertext\": [\"Cheshire\", \"Sullivan\", \"Merrimack\", \"Strafford\", \"Belknap\", \"Carroll\", \"Hillsborough\", \"Grafton\", \"Rockingham\"], \"legendgroup\": \"New Hampshire\", \"marker\": {\"color\": \"#FECB52\"}, \"name\": \"New Hampshire\", \"offsetgroup\": \"New Hampshire\", \"orientation\": \"h\", \"showlegend\": true, \"text\": [1.0, 1.0, 4.0, 4.0, 7.0, 7.0, 19.0, 20.0, 38.0], \"textposition\": \"inside\", \"texttemplate\": \"%{text:.2s}\", \"type\": \"bar\", \"x\": [1, 1, 4, 4, 7, 7, 19, 20, 38], \"xaxis\": \"x\", \"y\": [\"New Hampshire\", \"New Hampshire\", \"New Hampshire\", \"New Hampshire\", \"New Hampshire\", \"New Hampshire\", \"New Hampshire\", \"New Hampshire\", \"New Hampshire\"], \"yaxis\": \"y\"}, {\"alignmentgroup\": \"True\", \"customdata\": [[1, 0], [2, 0], [3, 0], [6, 0], [15, 0], [18, 0], [19, 0], [25, 0], [42, 0], [51, 1], [58, 0], [102, 1], [180, 1], [204, 1], [216, 0], [234, 1], [246, 0], [277, 0], [288, 3], [342, 4], [645, 26], [701, 6]], \"hoverlabel\": {\"namelength\": 0}, \"hovertemplate\": \"<b>%{hovertext}</b><br><br>State=%{y}<br>Confirmed=%{text}<br>Deaths=%{customdata[1]}\", \"hovertext\": [\"Salem\", \"Cumberland\", \"Cape May\", \"Atlantic\", \"Warren\", \"Sussex\", \"Gloucester\", \"Hunterdon\", \"Burlington\", \"Camden\", \"Mercer\", \"Somerset\", \"Ocean\", \"Morris\", \"Passaic\", \"Hudson\", \"Union\", \"Middlesex\", \"Monmouth\", \"Essex\", \"Unassigned\", \"Bergen\"], \"legendgroup\": \"New Jersey\", \"marker\": {\"color\": \"#636efa\"}, \"name\": \"New Jersey\", \"offsetgroup\": \"New Jersey\", \"orientation\": \"h\", \"showlegend\": true, \"text\": [1.0, 2.0, 3.0, 6.0, 15.0, 18.0, 19.0, 25.0, 42.0, 51.0, 58.0, 102.0, 180.0, 204.0, 216.0, 234.0, 246.0, 277.0, 288.0, 342.0, 645.0, 701.0], \"textposition\": \"inside\", \"texttemplate\": \"%{text:.2s}\", \"type\": \"bar\", \"x\": [1, 2, 3, 6, 15, 18, 19, 25, 42, 51, 58, 102, 180, 204, 216, 234, 246, 277, 288, 342, 645, 701], \"xaxis\": \"x\", \"y\": [\"New Jersey\", \"New Jersey\", \"New Jersey\", \"New Jersey\", \"New Jersey\", \"New Jersey\", \"New Jersey\", \"New Jersey\", \"New Jersey\", \"New Jersey\", \"New Jersey\", \"New Jersey\", \"New Jersey\", \"New Jersey\", \"New Jersey\", \"New Jersey\", \"New Jersey\", \"New Jersey\", \"New Jersey\", \"New Jersey\", \"New Jersey\", \"New Jersey\"], \"yaxis\": \"y\"}, {\"alignmentgroup\": \"True\", \"customdata\": [[1, 0], [1, 0], [1, 0], [1, 0], [2, 0], [3, 0], [3, 0], [4, 0], [7, 0], [7, 0], [13, 0], [14, 0], [43, 0]], \"hoverlabel\": {\"namelength\": 0}, \"hovertemplate\": \"<b>%{hovertext}</b><br><br>State=%{y}<br>Confirmed=%{text}<br>Deaths=%{customdata[1]}\", \"hovertext\": [\"Cibola\", \"Curry\", \"Lea\", \"San Miguel\", \"Socorro\", \"McKinley\", \"Taos\", \"Chaves\", \"San Juan\", \"Sandoval\", \"Dona Ana\", \"Santa Fe\", \"Bernalillo\"], \"legendgroup\": \"New Mexico\", \"marker\": {\"color\": \"#EF553B\"}, \"name\": \"New Mexico\", \"offsetgroup\": \"New Mexico\", \"orientation\": \"h\", \"showlegend\": true, \"text\": [1.0, 1.0, 1.0, 1.0, 2.0, 3.0, 3.0, 4.0, 7.0, 7.0, 13.0, 14.0, 43.0], \"textposition\": \"inside\", \"texttemplate\": \"%{text:.2s}\", \"type\": \"bar\", \"x\": [1, 1, 1, 1, 2, 3, 3, 4, 7, 7, 13, 14, 43], \"xaxis\": \"x\", \"y\": [\"New Mexico\", \"New Mexico\", \"New Mexico\", \"New Mexico\", \"New Mexico\", \"New Mexico\", \"New Mexico\", \"New Mexico\", \"New Mexico\", \"New Mexico\", \"New Mexico\", \"New Mexico\", \"New Mexico\"], \"yaxis\": \"y\"}, {\"alignmentgroup\": \"True\", \"customdata\": [[1, 0], [1, 0], [1, 0], [1, 0], [1, 0], [1, 0], [2, 0], [2, 0], [2, 0], [2, 0], [2, 0], [2, 0], [2, 0], [2, 0], [3, 0], [3, 0], [3, 0], [3, 0], [3, 0], [3, 0], [3, 0], [4, 0], [4, 0], [4, 1], [4, 1], [6, 0], [6, 0], [6, 0], [8, 0], [9, 1], [10, 0], [10, 0], [16, 0], [18, 0], [23, 0], [33, 0], [35, 0], [44, 0], [53, 0], [60, 1], [82, 0], [106, 3], [114, 0], [124, 1], [146, 0], [498, 0], [671, 5], [1880, 17], [2869, 9], [3891, 1], [14904, 131]], \"hoverlabel\": {\"namelength\": 0}, \"hovertemplate\": \"<b>%{hovertext}</b><br><br>State=%{y}<br>Confirmed=%{text}<br>Deaths=%{customdata[1]}\", \"hovertext\": [\"Fulton\", \"Genesee\", \"Otsego\", \"Schoharie\", \"St. Lawrence\", \"Tioga\", \"Allegany\", \"Cayuga\", \"Chautauqua\", \"Cortland\", \"Hamilton\", \"Jefferson\", \"Oswego\", \"Warren\", \"Chemung\", \"Chenango\", \"Delaware\", \"Essex\", \"Livingston\", \"Montgomery\", \"Washington\", \"Greene\", \"Herkimer\", \"Madison\", \"Wyoming\", \"Clinton\", \"Ontario\", \"Wayne\", \"Steuben\", \"Broome\", \"Niagara\", \"Oneida\", \"Tompkins\", \"Columbia\", \"Sullivan\", \"Rensselaer\", \"Ulster\", \"Schenectady\", \"Saratoga\", \"Onondaga\", \"Putnam\", \"Monroe\", \"Erie\", \"Dutchess\", \"Albany\", \"Orange\", \"Rockland\", \"Suffolk\", \"Nassau\", \"Westchester\", \"New York City\"], \"legendgroup\": \"New York\", \"marker\": {\"color\": \"#00cc96\"}, \"name\": \"New York\", \"offsetgroup\": \"New York\", \"orientation\": \"h\", \"showlegend\": true, \"text\": [1.0, 1.0, 1.0, 1.0, 1.0, 1.0, 2.0, 2.0, 2.0, 2.0, 2.0, 2.0, 2.0, 2.0, 3.0, 3.0, 3.0, 3.0, 3.0, 3.0, 3.0, 4.0, 4.0, 4.0, 4.0, 6.0, 6.0, 6.0, 8.0, 9.0, 10.0, 10.0, 16.0, 18.0, 23.0, 33.0, 35.0, 44.0, 53.0, 60.0, 82.0, 106.0, 114.0, 124.0, 146.0, 498.0, 671.0, 1880.0, 2869.0, 3891.0, 14904.0], \"textposition\": \"inside\", \"texttemplate\": \"%{text:.2s}\", \"type\": \"bar\", \"x\": [1, 1, 1, 1, 1, 1, 2, 2, 2, 2, 2, 2, 2, 2, 3, 3, 3, 3, 3, 3, 3, 4, 4, 4, 4, 6, 6, 6, 8, 9, 10, 10, 16, 18, 23, 33, 35, 44, 53, 60, 82, 106, 114, 124, 146, 498, 671, 1880, 2869, 3891, 14904], \"xaxis\": \"x\", \"y\": [\"New York\", \"New York\", \"New York\", \"New York\", \"New York\", \"New York\", \"New York\", \"New York\", \"New York\", \"New York\", \"New York\", \"New York\", \"New York\", \"New York\", \"New York\", \"New York\", \"New York\", \"New York\", \"New York\", \"New York\", \"New York\", \"New York\", \"New York\", \"New York\", \"New York\", \"New York\", \"New York\", \"New York\", \"New York\", \"New York\", \"New York\", \"New York\", \"New York\", \"New York\", \"New York\", \"New York\", \"New York\", \"New York\", \"New York\", \"New York\", \"New York\", \"New York\", \"New York\", \"New York\", \"New York\", \"New York\", \"New York\", \"New York\", \"New York\", \"New York\", \"New York\"], \"yaxis\": \"y\"}, {\"alignmentgroup\": \"True\", \"customdata\": [[1, 0], [1, 0], [1, 0], [1, 0], [1, 0], [1, 0], [1, 0], [1, 0], [1, 0], [1, 0], [1, 0], [1, 0], [1, 0], [1, 0], [1, 0], [1, 0], [1, 0], [1, 0], [1, 0], [1, 0], [2, 0], [2, 0], [2, 0], [2, 0], [2, 0], [2, 0], [3, 0], [3, 0], [3, 0], [3, 0], [3, 0], [3, 0], [3, 0], [4, 0], [4, 0], [4, 0], [4, 0], [4, 0], [4, 0], [4, 0], [5, 0], [5, 0], [5, 0], [6, 0], [6, 0], [9, 0], [9, 0], [10, 0], [10, 0], [10, 0], [12, 0], [14, 0], [16, 0], [18, 0], [66, 0], [71, 0], [142, 0]], \"hoverlabel\": {\"namelength\": 0}, \"hovertemplate\": \"<b>%{hovertext}</b><br><br>State=%{y}<br>Confirmed=%{text}<br>Deaths=%{customdata[1]}\", \"hovertext\": [\"Bertie\", \"Caldwell\", \"Chowan\", \"Davie\", \"Duplin\", \"Granville\", \"Hertford\", \"Hoke\", \"Hyde\", \"Jackson\", \"Lee\", \"Lenoir\", \"Lincoln\", \"Montgomery\", \"Northampton\", \"Pasquotank\", \"Sampson\", \"Scotland\", \"Transylvania\", \"Vance\", \"Beaufort\", \"Henderson\", \"McDowell\", \"Moore\", \"Robeson\", \"Wayne\", \"Alamance\", \"Chatham\", \"Craven\", \"Davidson\", \"Onslow\", \"Randolph\", \"Watauga\", \"Catawba\", \"Cherokee\", \"Franklin\", \"Gaston\", \"Johnston\", \"Nash\", \"Wilson\", \"Carteret\", \"Cumberland\", \"Rowan\", \"Orange\", \"Pitt\", \"Harnett\", \"Iredell\", \"Brunswick\", \"Cabarrus\", \"New Hanover\", \"Buncombe\", \"Forsyth\", \"Guilford\", \"Union\", \"Wake\", \"Durham\", \"Mecklenburg\"], \"legendgroup\": \"North Carolina\", \"marker\": {\"color\": \"#ab63fa\"}, \"name\": \"North Carolina\", \"offsetgroup\": \"North Carolina\", \"orientation\": \"h\", \"showlegend\": true, \"text\": [1.0, 1.0, 1.0, 1.0, 1.0, 1.0, 1.0, 1.0, 1.0, 1.0, 1.0, 1.0, 1.0, 1.0, 1.0, 1.0, 1.0, 1.0, 1.0, 1.0, 2.0, 2.0, 2.0, 2.0, 2.0, 2.0, 3.0, 3.0, 3.0, 3.0, 3.0, 3.0, 3.0, 4.0, 4.0, 4.0, 4.0, 4.0, 4.0, 4.0, 5.0, 5.0, 5.0, 6.0, 6.0, 9.0, 9.0, 10.0, 10.0, 10.0, 12.0, 14.0, 16.0, 18.0, 66.0, 71.0, 142.0], \"textposition\": \"inside\", \"texttemplate\": \"%{text:.2s}\", \"type\": \"bar\", \"x\": [1, 1, 1, 1, 1, 1, 1, 1, 1, 1, 1, 1, 1, 1, 1, 1, 1, 1, 1, 1, 2, 2, 2, 2, 2, 2, 3, 3, 3, 3, 3, 3, 3, 4, 4, 4, 4, 4, 4, 4, 5, 5, 5, 6, 6, 9, 9, 10, 10, 10, 12, 14, 16, 18, 66, 71, 142], \"xaxis\": \"x\", \"y\": [\"North Carolina\", \"North Carolina\", \"North Carolina\", \"North Carolina\", \"North Carolina\", \"North Carolina\", \"North Carolina\", \"North Carolina\", \"North Carolina\", \"North Carolina\", \"North Carolina\", \"North Carolina\", \"North Carolina\", \"North Carolina\", \"North Carolina\", \"North Carolina\", \"North Carolina\", \"North Carolina\", \"North Carolina\", \"North Carolina\", \"North Carolina\", \"North Carolina\", \"North Carolina\", \"North Carolina\", \"North Carolina\", \"North Carolina\", \"North Carolina\", \"North Carolina\", \"North Carolina\", \"North Carolina\", \"North Carolina\", \"North Carolina\", \"North Carolina\", \"North Carolina\", \"North Carolina\", \"North Carolina\", \"North Carolina\", \"North Carolina\", \"North Carolina\", \"North Carolina\", \"North Carolina\", \"North Carolina\", \"North Carolina\", \"North Carolina\", \"North Carolina\", \"North Carolina\", \"North Carolina\", \"North Carolina\", \"North Carolina\", \"North Carolina\", \"North Carolina\", \"North Carolina\", \"North Carolina\", \"North Carolina\", \"North Carolina\", \"North Carolina\", \"North Carolina\"], \"yaxis\": \"y\"}, {\"alignmentgroup\": \"True\", \"customdata\": [[1, 0], [1, 0], [1, 0], [2, 0], [3, 0], [3, 0], [7, 0], [18, 0]], \"hoverlabel\": {\"namelength\": 0}, \"hovertemplate\": \"<b>%{hovertext}</b><br><br>State=%{y}<br>Confirmed=%{text}<br>Deaths=%{customdata[1]}\", \"hovertext\": [\"Dunn\", \"Ramsey\", \"Walsh\", \"Pierce\", \"Cass\", \"Ward\", \"Morton\", \"Burleigh\"], \"legendgroup\": \"North Dakota\", \"marker\": {\"color\": \"#FFA15A\"}, \"name\": \"North Dakota\", \"offsetgroup\": \"North Dakota\", \"orientation\": \"h\", \"showlegend\": true, \"text\": [1.0, 1.0, 1.0, 2.0, 3.0, 3.0, 7.0, 18.0], \"textposition\": \"inside\", \"texttemplate\": \"%{text:.2s}\", \"type\": \"bar\", \"x\": [1, 1, 1, 2, 3, 3, 7, 18], \"xaxis\": \"x\", \"y\": [\"North Dakota\", \"North Dakota\", \"North Dakota\", \"North Dakota\", \"North Dakota\", \"North Dakota\", \"North Dakota\", \"North Dakota\"], \"yaxis\": \"y\"}, {\"alignmentgroup\": \"True\", \"customdata\": [[1, 0], [1, 0], [1, 0], [1, 0], [1, 0], [1, 1], [1, 1], [1, 0], [1, 0], [1, 0], [1, 0], [1, 0], [1, 0], [1, 0], [2, 0], [2, 0], [2, 0], [2, 0], [2, 0], [2, 0], [2, 0], [2, 0], [2, 0], [3, 0], [3, 0], [3, 0], [3, 0], [3, 0], [3, 0], [4, 0], [4, 0], [4, 0], [4, 0], [5, 0], [5, 0], [7, 0], [10, 0], [11, 0], [11, 0], [13, 1], [13, 1], [15, 0], [18, 0], [19, 0], [28, 0], [30, 0], [36, 0], [38, 0], [75, 2], [167, 2]], \"hoverlabel\": {\"namelength\": 0}, \"hovertemplate\": \"<b>%{hovertext}</b><br><br>State=%{y}<br>Confirmed=%{text}<br>Deaths=%{customdata[1]}\", \"hovertext\": [\"Ashland\", \"Champaign\", \"Clinton\", \"Crawford\", \"Darke\", \"Erie\", \"Gallia\", \"Hancock\", \"Highland\", \"Knox\", \"Madison\", \"Sandusky\", \"Seneca\", \"Washington\", \"Belmont\", \"Clark\", \"Defiance\", \"Fairfield\", \"Huron\", \"Licking\", \"Logan\", \"Union\", \"Wood\", \"Ashtabula\", \"Carroll\", \"Columbiana\", \"Coshocton\", \"Greene\", \"Tuscarawas\", \"Marion\", \"Portage\", \"Richland\", \"Trumbull\", \"Clermont\", \"Geauga\", \"Warren\", \"Montgomery\", \"Delaware\", \"Lake\", \"Lucas\", \"Stark\", \"Medina\", \"Butler\", \"Miami\", \"Mahoning\", \"Lorain\", \"Summit\", \"Hamilton\", \"Franklin\", \"Cuyahoga\"], \"legendgroup\": \"Ohio\", \"marker\": {\"color\": \"#19d3f3\"}, \"name\": \"Ohio\", \"offsetgroup\": \"Ohio\", \"orientation\": \"h\", \"showlegend\": true, \"text\": [1.0, 1.0, 1.0, 1.0, 1.0, 1.0, 1.0, 1.0, 1.0, 1.0, 1.0, 1.0, 1.0, 1.0, 2.0, 2.0, 2.0, 2.0, 2.0, 2.0, 2.0, 2.0, 2.0, 3.0, 3.0, 3.0, 3.0, 3.0, 3.0, 4.0, 4.0, 4.0, 4.0, 5.0, 5.0, 7.0, 10.0, 11.0, 11.0, 13.0, 13.0, 15.0, 18.0, 19.0, 28.0, 30.0, 36.0, 38.0, 75.0, 167.0], \"textposition\": \"inside\", \"texttemplate\": \"%{text:.2s}\", \"type\": \"bar\", \"x\": [1, 1, 1, 1, 1, 1, 1, 1, 1, 1, 1, 1, 1, 1, 2, 2, 2, 2, 2, 2, 2, 2, 2, 3, 3, 3, 3, 3, 3, 4, 4, 4, 4, 5, 5, 7, 10, 11, 11, 13, 13, 15, 18, 19, 28, 30, 36, 38, 75, 167], \"xaxis\": \"x\", \"y\": [\"Ohio\", \"Ohio\", \"Ohio\", \"Ohio\", \"Ohio\", \"Ohio\", \"Ohio\", \"Ohio\", \"Ohio\", \"Ohio\", \"Ohio\", \"Ohio\", \"Ohio\", \"Ohio\", \"Ohio\", \"Ohio\", \"Ohio\", \"Ohio\", \"Ohio\", \"Ohio\", \"Ohio\", \"Ohio\", \"Ohio\", \"Ohio\", \"Ohio\", \"Ohio\", \"Ohio\", \"Ohio\", \"Ohio\", \"Ohio\", \"Ohio\", \"Ohio\", \"Ohio\", \"Ohio\", \"Ohio\", \"Ohio\", \"Ohio\", \"Ohio\", \"Ohio\", \"Ohio\", \"Ohio\", \"Ohio\", \"Ohio\", \"Ohio\", \"Ohio\", \"Ohio\", \"Ohio\", \"Ohio\", \"Ohio\", \"Ohio\"], \"yaxis\": \"y\"}, {\"alignmentgroup\": \"True\", \"customdata\": [[1, 0], [1, 0], [1, 0], [1, 0], [1, 0], [1, 0], [1, 0], [2, 0], [2, 0], [2, 0], [2, 0], [3, 0], [4, 0], [4, 1], [5, 0], [12, 1], [22, 1], [41, 0]], \"hoverlabel\": {\"namelength\": 0}, \"hovertemplate\": \"<b>%{hovertext}</b><br><br>State=%{y}<br>Confirmed=%{text}<br>Deaths=%{customdata[1]}\", \"hovertext\": [\"Grady\", \"Jackson\", \"Logan\", \"Mayes\", \"McClain\", \"Muskogee\", \"Pontotoc\", \"Custer\", \"Garvin\", \"Noble\", \"Washington\", \"Payne\", \"Canadian\", \"Pawnee\", \"Kay\", \"Tulsa\", \"Cleveland\", \"Oklahoma\"], \"legendgroup\": \"Oklahoma\", \"marker\": {\"color\": \"#FF6692\"}, \"name\": \"Oklahoma\", \"offsetgroup\": \"Oklahoma\", \"orientation\": \"h\", \"showlegend\": true, \"text\": [1.0, 1.0, 1.0, 1.0, 1.0, 1.0, 1.0, 2.0, 2.0, 2.0, 2.0, 3.0, 4.0, 4.0, 5.0, 12.0, 22.0, 41.0], \"textposition\": \"inside\", \"texttemplate\": \"%{text:.2s}\", \"type\": \"bar\", \"x\": [1, 1, 1, 1, 1, 1, 1, 2, 2, 2, 2, 3, 4, 4, 5, 12, 22, 41], \"xaxis\": \"x\", \"y\": [\"Oklahoma\", \"Oklahoma\", \"Oklahoma\", \"Oklahoma\", \"Oklahoma\", \"Oklahoma\", \"Oklahoma\", \"Oklahoma\", \"Oklahoma\", \"Oklahoma\", \"Oklahoma\", \"Oklahoma\", \"Oklahoma\", \"Oklahoma\", \"Oklahoma\", \"Oklahoma\", \"Oklahoma\", \"Oklahoma\"], \"yaxis\": \"y\"}, {\"alignmentgroup\": \"True\", \"customdata\": [[1, 0], [1, 0], [1, 0], [1, 0], [1, 0], [1, 0], [1, 0], [2, 0], [3, 0], [3, 0], [4, 0], [4, 1], [6, 0], [10, 0], [17, 1], [21, 1], [25, 2], [32, 1], [76, 2]], \"hoverlabel\": {\"namelength\": 0}, \"hovertemplate\": \"<b>%{hovertext}</b><br><br>State=%{y}<br>Confirmed=%{text}<br>Deaths=%{customdata[1]}\", \"hovertext\": [\"Clatsop\", \"Douglas\", \"Grant\", \"Hood River\", \"Josephine\", \"Klamath\", \"Union\", \"Umatilla\", \"Jackson\", \"Polk\", \"Benton\", \"Lane\", \"Yamhill\", \"Deschutes\", \"Clackamas\", \"Linn\", \"Multnomah\", \"Marion\", \"Washington\"], \"legendgroup\": \"Oregon\", \"marker\": {\"color\": \"#B6E880\"}, \"name\": \"Oregon\", \"offsetgroup\": \"Oregon\", \"orientation\": \"h\", \"showlegend\": true, \"text\": [1.0, 1.0, 1.0, 1.0, 1.0, 1.0, 1.0, 2.0, 3.0, 3.0, 4.0, 4.0, 6.0, 10.0, 17.0, 21.0, 25.0, 32.0, 76.0], \"textposition\": \"inside\", \"texttemplate\": \"%{text:.2s}\", \"type\": \"bar\", \"x\": [1, 1, 1, 1, 1, 1, 1, 2, 3, 3, 4, 4, 6, 10, 17, 21, 25, 32, 76], \"xaxis\": \"x\", \"y\": [\"Oregon\", \"Oregon\", \"Oregon\", \"Oregon\", \"Oregon\", \"Oregon\", \"Oregon\", \"Oregon\", \"Oregon\", \"Oregon\", \"Oregon\", \"Oregon\", \"Oregon\", \"Oregon\", \"Oregon\", \"Oregon\", \"Oregon\", \"Oregon\", \"Oregon\"], \"yaxis\": \"y\"}, {\"alignmentgroup\": \"True\", \"customdata\": [[1, 0], [1, 0], [1, 0], [1, 0], [1, 0], [1, 0], [1, 0], [1, 0], [1, 0], [2, 0], [2, 0], [3, 0], [3, 0], [3, 0], [3, 0], [4, 0], [4, 0], [4, 0], [5, 0], [5, 0], [6, 0], [6, 0], [7, 0], [9, 0], [10, 0], [11, 0], [13, 0], [15, 1], [16, 0], [18, 0], [21, 0], [27, 1], [33, 2], [40, 0], [45, 1], [58, 2], [69, 0], [84, 0], [159, 1], [252, 0]], \"hoverlabel\": {\"namelength\": 0}, \"hovertemplate\": \"<b>%{hovertext}</b><br><br>State=%{y}<br>Confirmed=%{text}<br>Deaths=%{customdata[1]}\", \"hovertext\": [\"Armstrong\", \"Bradford\", \"Cambria\", \"Carbon\", \"Clearfield\", \"Columbia\", \"Juniata\", \"Potter\", \"Somerset\", \"Fayette\", \"Mercer\", \"Beaver\", \"Franklin\", \"Lebanon\", \"Montour\", \"Dauphin\", \"Pike\", \"Wayne\", \"Erie\", \"Schuylkill\", \"Adams\", \"Butler\", \"Centre\", \"Washington\", \"Lancaster\", \"Westmoreland\", \"Cumberland\", \"Lackawanna\", \"Berks\", \"York\", \"Luzerne\", \"Lehigh\", \"Northampton\", \"Chester\", \"Monroe\", \"Allegheny\", \"Bucks\", \"Delaware\", \"Montgomery\", \"Philadelphia\"], \"legendgroup\": \"Pennsylvania\", \"marker\": {\"color\": \"#FF97FF\"}, \"name\": \"Pennsylvania\", \"offsetgroup\": \"Pennsylvania\", \"orientation\": \"h\", \"showlegend\": true, \"text\": [1.0, 1.0, 1.0, 1.0, 1.0, 1.0, 1.0, 1.0, 1.0, 2.0, 2.0, 3.0, 3.0, 3.0, 3.0, 4.0, 4.0, 4.0, 5.0, 5.0, 6.0, 6.0, 7.0, 9.0, 10.0, 11.0, 13.0, 15.0, 16.0, 18.0, 21.0, 27.0, 33.0, 40.0, 45.0, 58.0, 69.0, 84.0, 159.0, 252.0], \"textposition\": \"inside\", \"texttemplate\": \"%{text:.2s}\", \"type\": \"bar\", \"x\": [1, 1, 1, 1, 1, 1, 1, 1, 1, 2, 2, 3, 3, 3, 3, 4, 4, 4, 5, 5, 6, 6, 7, 9, 10, 11, 13, 15, 16, 18, 21, 27, 33, 40, 45, 58, 69, 84, 159, 252], \"xaxis\": \"x\", \"y\": [\"Pennsylvania\", \"Pennsylvania\", \"Pennsylvania\", \"Pennsylvania\", \"Pennsylvania\", \"Pennsylvania\", \"Pennsylvania\", \"Pennsylvania\", \"Pennsylvania\", \"Pennsylvania\", \"Pennsylvania\", \"Pennsylvania\", \"Pennsylvania\", \"Pennsylvania\", \"Pennsylvania\", \"Pennsylvania\", \"Pennsylvania\", \"Pennsylvania\", \"Pennsylvania\", \"Pennsylvania\", \"Pennsylvania\", \"Pennsylvania\", \"Pennsylvania\", \"Pennsylvania\", \"Pennsylvania\", \"Pennsylvania\", \"Pennsylvania\", \"Pennsylvania\", \"Pennsylvania\", \"Pennsylvania\", \"Pennsylvania\", \"Pennsylvania\", \"Pennsylvania\", \"Pennsylvania\", \"Pennsylvania\", \"Pennsylvania\", \"Pennsylvania\", \"Pennsylvania\", \"Pennsylvania\", \"Pennsylvania\"], \"yaxis\": \"y\"}, {\"alignmentgroup\": \"True\", \"customdata\": [[7, 0], [9, 0], [9, 0], [23, 0], [24, 0], [52, 0]], \"hoverlabel\": {\"namelength\": 0}, \"hovertemplate\": \"<b>%{hovertext}</b><br><br>State=%{y}<br>Confirmed=%{text}<br>Deaths=%{customdata[1]}\", \"hovertext\": [\"Kent\", \"Newport\", \"Washington\", \"Unassigned\", \"Bristol\", \"Providence\"], \"legendgroup\": \"Rhode Island\", \"marker\": {\"color\": \"#FECB52\"}, \"name\": \"Rhode Island\", \"offsetgroup\": \"Rhode Island\", \"orientation\": \"h\", \"showlegend\": true, \"text\": [7.0, 9.0, 9.0, 23.0, 24.0, 52.0], \"textposition\": \"inside\", \"texttemplate\": \"%{text:.2s}\", \"type\": \"bar\", \"x\": [7, 9, 9, 23, 24, 52], \"xaxis\": \"x\", \"y\": [\"Rhode Island\", \"Rhode Island\", \"Rhode Island\", \"Rhode Island\", \"Rhode Island\", \"Rhode Island\"], \"yaxis\": \"y\"}, {\"alignmentgroup\": \"True\", \"customdata\": [[1, 0], [1, 0], [1, 0], [1, 0], [1, 0], [1, 0], [1, 0], [1, 0], [1, 0], [1, 0], [1, 0], [2, 0], [2, 0], [2, 0], [2, 0], [2, 0], [2, 0], [2, 0], [3, 0], [4, 0], [4, 0], [5, 1], [5, 1], [7, 0], [8, 0], [8, 0], [8, 0], [11, 0], [16, 0], [19, 0], [19, 1], [22, 0], [36, 1], [39, 0], [45, 0], [58, 1]], \"hoverlabel\": {\"namelength\": 0}, \"hovertemplate\": \"<b>%{hovertext}</b><br><br>State=%{y}<br>Confirmed=%{text}<br>Deaths=%{customdata[1]}\", \"hovertext\": [\"Abbeville\", \"Calhoun\", \"Chester\", \"Chesterfield\", \"Colleton\", \"Dillon\", \"Edgefield\", \"Marlboro\", \"Newberry\", \"Pickens\", \"Saluda\", \"Aiken\", \"Fairfield\", \"Georgetown\", \"Greenwood\", \"Jasper\", \"Lee\", \"Oconee\", \"Dorchester\", \"Berkeley\", \"Spartanburg\", \"Clarendon\", \"Florence\", \"Lancaster\", \"Darlington\", \"Orangeburg\", \"Sumter\", \"York\", \"Anderson\", \"Horry\", \"Lexington\", \"Beaufort\", \"Charleston\", \"Greenville\", \"Richland\", \"Kershaw\"], \"legendgroup\": \"South Carolina\", \"marker\": {\"color\": \"#636efa\"}, \"name\": \"South Carolina\", \"offsetgroup\": \"South Carolina\", \"orientation\": \"h\", \"showlegend\": true, \"text\": [1.0, 1.0, 1.0, 1.0, 1.0, 1.0, 1.0, 1.0, 1.0, 1.0, 1.0, 2.0, 2.0, 2.0, 2.0, 2.0, 2.0, 2.0, 3.0, 4.0, 4.0, 5.0, 5.0, 7.0, 8.0, 8.0, 8.0, 11.0, 16.0, 19.0, 19.0, 22.0, 36.0, 39.0, 45.0, 58.0], \"textposition\": \"inside\", \"texttemplate\": \"%{text:.2s}\", \"type\": \"bar\", \"x\": [1, 1, 1, 1, 1, 1, 1, 1, 1, 1, 1, 2, 2, 2, 2, 2, 2, 2, 3, 4, 4, 5, 5, 7, 8, 8, 8, 11, 16, 19, 19, 22, 36, 39, 45, 58], \"xaxis\": \"x\", \"y\": [\"South Carolina\", \"South Carolina\", \"South Carolina\", \"South Carolina\", \"South Carolina\", \"South Carolina\", \"South Carolina\", \"South Carolina\", \"South Carolina\", \"South Carolina\", \"South Carolina\", \"South Carolina\", \"South Carolina\", \"South Carolina\", \"South Carolina\", \"South Carolina\", \"South Carolina\", \"South Carolina\", \"South Carolina\", \"South Carolina\", \"South Carolina\", \"South Carolina\", \"South Carolina\", \"South Carolina\", \"South Carolina\", \"South Carolina\", \"South Carolina\", \"South Carolina\", \"South Carolina\", \"South Carolina\", \"South Carolina\", \"South Carolina\", \"South Carolina\", \"South Carolina\", \"South Carolina\", \"South Carolina\"], \"yaxis\": \"y\"}, {\"alignmentgroup\": \"True\", \"customdata\": [[1, 0], [1, 0], [1, 0], [1, 0], [1, 0], [1, 0], [1, 0], [1, 1], [2, 0], [2, 0], [5, 0], [13, 0]], \"hoverlabel\": {\"namelength\": 0}, \"hovertemplate\": \"<b>%{hovertext}</b><br><br>State=%{y}<br>Confirmed=%{text}<br>Deaths=%{customdata[1]}\", \"hovertext\": [\"Bon Homme\", \"Brookings\", \"Brown\", \"Charles Mix\", \"Codington\", \"Hughes\", \"Lyman\", \"Pennington\", \"Davison\", \"McCook\", \"Minnehaha\", \"Beadle\"], \"legendgroup\": \"South Dakota\", \"marker\": {\"color\": \"#EF553B\"}, \"name\": \"South Dakota\", \"offsetgroup\": \"South Dakota\", \"orientation\": \"h\", \"showlegend\": true, \"text\": [1.0, 1.0, 1.0, 1.0, 1.0, 1.0, 1.0, 1.0, 2.0, 2.0, 5.0, 13.0], \"textposition\": \"inside\", \"texttemplate\": \"%{text:.2s}\", \"type\": \"bar\", \"x\": [1, 1, 1, 1, 1, 1, 1, 1, 2, 2, 5, 13], \"xaxis\": \"x\", \"y\": [\"South Dakota\", \"South Dakota\", \"South Dakota\", \"South Dakota\", \"South Dakota\", \"South Dakota\", \"South Dakota\", \"South Dakota\", \"South Dakota\", \"South Dakota\", \"South Dakota\", \"South Dakota\"], \"yaxis\": \"y\"}, {\"alignmentgroup\": \"True\", \"customdata\": [[1, 0], [1, 0], [1, 0], [1, 0], [1, 0], [1, 0], [1, 0], [1, 0], [1, 0], [1, 0], [1, 0], [1, 0], [1, 0], [1, 0], [1, 0], [2, 0], [2, 0], [2, 0], [2, 0], [2, 0], [2, 0], [2, 0], [2, 0], [2, 0], [2, 0], [2, 0], [3, 0], [3, 0], [3, 0], [4, 0], [5, 0], [5, 0], [5, 0], [6, 0], [6, 0], [6, 0], [7, 0], [7, 0], [8, 0], [8, 0], [12, 0], [13, 0], [15, 0], [34, 0], [38, 0], [64, 0], [95, 0], [135, 0], [253, 2]], \"hoverlabel\": {\"namelength\": 0}, \"hovertemplate\": \"<b>%{hovertext}</b><br><br>State=%{y}<br>Confirmed=%{text}<br>Deaths=%{customdata[1]}\", \"hovertext\": [\"Anderson\", \"Chester\", \"Claiborne\", \"Cocke\", \"Franklin\", \"Grundy\", \"Hardin\", \"Houston\", \"Lincoln\", \"Madison\", \"Marion\", \"Overton\", \"Perry\", \"Roane\", \"Scott\", \"Bradley\", \"Campbell\", \"Dyer\", \"Fayette\", \"Gibson\", \"Hamblen\", \"Loudon\", \"McMinn\", \"Monroe\", \"Sevier\", \"Sullivan\", \"Blount\", \"Carroll\", \"Cumberland\", \"Jefferson\", \"Cheatham\", \"Dickson\", \"Greene\", \"Maury\", \"Montgomery\", \"Tipton\", \"Washington\", \"Wilson\", \"Hamilton\", \"Putnam\", \"Robertson\", \"Rutherford\", \"Knox\", \"Sumner\", \"Unassigned\", \"Williamson\", \"Out of TN\", \"Shelby\", \"Davidson\"], \"legendgroup\": \"Tennessee\", \"marker\": {\"color\": \"#00cc96\"}, \"name\": \"Tennessee\", \"offsetgroup\": \"Tennessee\", \"orientation\": \"h\", \"showlegend\": true, \"text\": [1.0, 1.0, 1.0, 1.0, 1.0, 1.0, 1.0, 1.0, 1.0, 1.0, 1.0, 1.0, 1.0, 1.0, 1.0, 2.0, 2.0, 2.0, 2.0, 2.0, 2.0, 2.0, 2.0, 2.0, 2.0, 2.0, 3.0, 3.0, 3.0, 4.0, 5.0, 5.0, 5.0, 6.0, 6.0, 6.0, 7.0, 7.0, 8.0, 8.0, 12.0, 13.0, 15.0, 34.0, 38.0, 64.0, 95.0, 135.0, 253.0], \"textposition\": \"inside\", \"texttemplate\": \"%{text:.2s}\", \"type\": \"bar\", \"x\": [1, 1, 1, 1, 1, 1, 1, 1, 1, 1, 1, 1, 1, 1, 1, 2, 2, 2, 2, 2, 2, 2, 2, 2, 2, 2, 3, 3, 3, 4, 5, 5, 5, 6, 6, 6, 7, 7, 8, 8, 12, 13, 15, 34, 38, 64, 95, 135, 253], \"xaxis\": \"x\", \"y\": [\"Tennessee\", \"Tennessee\", \"Tennessee\", \"Tennessee\", \"Tennessee\", \"Tennessee\", \"Tennessee\", \"Tennessee\", \"Tennessee\", \"Tennessee\", \"Tennessee\", \"Tennessee\", \"Tennessee\", \"Tennessee\", \"Tennessee\", \"Tennessee\", \"Tennessee\", \"Tennessee\", \"Tennessee\", \"Tennessee\", \"Tennessee\", \"Tennessee\", \"Tennessee\", \"Tennessee\", \"Tennessee\", \"Tennessee\", \"Tennessee\", \"Tennessee\", \"Tennessee\", \"Tennessee\", \"Tennessee\", \"Tennessee\", \"Tennessee\", \"Tennessee\", \"Tennessee\", \"Tennessee\", \"Tennessee\", \"Tennessee\", \"Tennessee\", \"Tennessee\", \"Tennessee\", \"Tennessee\", \"Tennessee\", \"Tennessee\", \"Tennessee\", \"Tennessee\", \"Tennessee\", \"Tennessee\", \"Tennessee\"], \"yaxis\": \"y\"}, {\"alignmentgroup\": \"True\", \"customdata\": [[1, 0], [1, 0], [1, 0], [1, 0], [1, 0], [1, 0], [1, 0], [1, 0], [1, 0], [1, 0], [1, 0], [1, 0], [1, 0], [1, 0], [1, 0], [1, 0], [1, 0], [1, 0], [1, 0], [1, 0], [1, 0], [1, 0], [1, 0], [1, 0], [1, 1], [1, 0], [1, 0], [1, 0], [1, 0], [1, 0], [1, 0], [1, 0], [1, 0], [1, 0], [1, 0], [2, 0], [2, 0], [2, 0], [2, 0], [2, 0], [2, 0], [2, 0], [2, 0], [2, 0], [2, 0], [3, 0], [3, 1], [3, 0], [3, 0], [4, 0], [4, 1], [4, 0], [5, 0], [5, 0], [6, 0], [6, 0], [6, 0], [6, 0], [7, 0], [10, 0], [12, 0], [14, 0], [14, 0], [16, 0], [18, 0], [18, 0], [23, 0], [24, 0], [28, 0], [38, 0], [45, 1], [46, 0], [69, 1], [71, 1], [86, 0], [134, 1], [169, 5]], \"hoverlabel\": {\"namelength\": 0}, \"hovertemplate\": \"<b>%{hovertext}</b><br><br>State=%{y}<br>Confirmed=%{text}<br>Deaths=%{customdata[1]}\", \"hovertext\": [\"Bastrop\", \"Blanco\", \"Bowie\", \"Burnet\", \"Chambers\", \"Crane\", \"DeWitt\", \"Deaf Smith\", \"Eastland\", \"Erath\", \"Falls\", \"Fannin\", \"Fayette\", \"Gaines\", \"Gregg\", \"Hopkins\", \"Hunt\", \"Kendall\", \"Lamar\", \"Lavaca\", \"Liberty\", \"Llano\", \"Maverick\", \"Medina\", \"Oldham\", \"Orange\", \"Parker\", \"Robertson\", \"Rusk\", \"Terry\", \"Tom Green\", \"Van Zandt\", \"Walker\", \"Waller\", \"Wharton\", \"Atascosa\", \"Brown\", \"Castro\", \"Grayson\", \"Grimes\", \"Hardin\", \"Hidalgo\", \"Johnson\", \"Milam\", \"Randall\", \"Hockley\", \"Midland\", \"Potter\", \"Victoria\", \"Guadalupe\", \"Matagorda\", \"Webb\", \"Comal\", \"Wichita\", \"Cameron\", \"Ellis\", \"Jefferson\", \"Nueces\", \"Hays\", \"El Paso\", \"Lubbock\", \"Smith\", \"Williamson\", \"Brazos\", \"Bell\", \"Galveston\", \"Montgomery\", \"McLennan\", \"Brazoria\", \"Denton\", \"Collin\", \"Fort Bend\", \"Bexar\", \"Tarrant\", \"Travis\", \"Harris\", \"Dallas\"], \"legendgroup\": \"Texas\", \"marker\": {\"color\": \"#ab63fa\"}, \"name\": \"Texas\", \"offsetgroup\": \"Texas\", \"orientation\": \"h\", \"showlegend\": true, \"text\": [1.0, 1.0, 1.0, 1.0, 1.0, 1.0, 1.0, 1.0, 1.0, 1.0, 1.0, 1.0, 1.0, 1.0, 1.0, 1.0, 1.0, 1.0, 1.0, 1.0, 1.0, 1.0, 1.0, 1.0, 1.0, 1.0, 1.0, 1.0, 1.0, 1.0, 1.0, 1.0, 1.0, 1.0, 1.0, 2.0, 2.0, 2.0, 2.0, 2.0, 2.0, 2.0, 2.0, 2.0, 2.0, 3.0, 3.0, 3.0, 3.0, 4.0, 4.0, 4.0, 5.0, 5.0, 6.0, 6.0, 6.0, 6.0, 7.0, 10.0, 12.0, 14.0, 14.0, 16.0, 18.0, 18.0, 23.0, 24.0, 28.0, 38.0, 45.0, 46.0, 69.0, 71.0, 86.0, 134.0, 169.0], \"textposition\": \"inside\", \"texttemplate\": \"%{text:.2s}\", \"type\": \"bar\", \"x\": [1, 1, 1, 1, 1, 1, 1, 1, 1, 1, 1, 1, 1, 1, 1, 1, 1, 1, 1, 1, 1, 1, 1, 1, 1, 1, 1, 1, 1, 1, 1, 1, 1, 1, 1, 2, 2, 2, 2, 2, 2, 2, 2, 2, 2, 3, 3, 3, 3, 4, 4, 4, 5, 5, 6, 6, 6, 6, 7, 10, 12, 14, 14, 16, 18, 18, 23, 24, 28, 38, 45, 46, 69, 71, 86, 134, 169], \"xaxis\": \"x\", \"y\": [\"Texas\", \"Texas\", \"Texas\", \"Texas\", \"Texas\", \"Texas\", \"Texas\", \"Texas\", \"Texas\", \"Texas\", \"Texas\", \"Texas\", \"Texas\", \"Texas\", \"Texas\", \"Texas\", \"Texas\", \"Texas\", \"Texas\", \"Texas\", \"Texas\", \"Texas\", \"Texas\", \"Texas\", \"Texas\", \"Texas\", \"Texas\", \"Texas\", \"Texas\", \"Texas\", \"Texas\", \"Texas\", \"Texas\", \"Texas\", \"Texas\", \"Texas\", \"Texas\", \"Texas\", \"Texas\", \"Texas\", \"Texas\", \"Texas\", \"Texas\", \"Texas\", \"Texas\", \"Texas\", \"Texas\", \"Texas\", \"Texas\", \"Texas\", \"Texas\", \"Texas\", \"Texas\", \"Texas\", \"Texas\", \"Texas\", \"Texas\", \"Texas\", \"Texas\", \"Texas\", \"Texas\", \"Texas\", \"Texas\", \"Texas\", \"Texas\", \"Texas\", \"Texas\", \"Texas\", \"Texas\", \"Texas\", \"Texas\", \"Texas\", \"Texas\", \"Texas\", \"Texas\", \"Texas\", \"Texas\"], \"yaxis\": \"y\"}, {\"alignmentgroup\": \"True\", \"customdata\": [[1, 0], [2, 0], [3, 0], [5, 0], [9, 0], [13, 0], [13, 0], [15, 0], [31, 1], [82, 0], [124, 0]], \"hoverlabel\": {\"namelength\": 0}, \"hovertemplate\": \"<b>%{hovertext}</b><br><br>State=%{y}<br>Confirmed=%{text}<br>Deaths=%{customdata[1]}\", \"hovertext\": [\"Box Elder\", \"Tooele\", \"Cache\", \"Washington\", \"Weber\", \"Out of UT\", \"Utah\", \"Wasatch\", \"Davis\", \"Summit\", \"Salt Lake\"], \"legendgroup\": \"Utah\", \"marker\": {\"color\": \"#FFA15A\"}, \"name\": \"Utah\", \"offsetgroup\": \"Utah\", \"orientation\": \"h\", \"showlegend\": true, \"text\": [1.0, 2.0, 3.0, 5.0, 9.0, 13.0, 13.0, 15.0, 31.0, 82.0, 124.0], \"textposition\": \"inside\", \"texttemplate\": \"%{text:.2s}\", \"type\": \"bar\", \"x\": [1, 2, 3, 5, 9, 13, 13, 15, 31, 82, 124], \"xaxis\": \"x\", \"y\": [\"Utah\", \"Utah\", \"Utah\", \"Utah\", \"Utah\", \"Utah\", \"Utah\", \"Utah\", \"Utah\", \"Utah\", \"Utah\"], \"yaxis\": \"y\"}, {\"alignmentgroup\": \"True\", \"customdata\": [[1, 0], [2, 0], [2, 0], [2, 0], [3, 0], [3, 0], [5, 0], [5, 0], [8, 0], [9, 0], [15, 1], [40, 4]], \"hoverlabel\": {\"namelength\": 0}, \"hovertemplate\": \"<b>%{hovertext}</b><br><br>State=%{y}<br>Confirmed=%{text}<br>Deaths=%{customdata[1]}\", \"hovertext\": [\"Caledonia\", \"Franklin\", \"Lamoille\", \"Orleans\", \"Orange\", \"Washington\", \"Rutland\", \"Windham\", \"Addison\", \"Bennington\", \"Windsor\", \"Chittenden\"], \"legendgroup\": \"Vermont\", \"marker\": {\"color\": \"#19d3f3\"}, \"name\": \"Vermont\", \"offsetgroup\": \"Vermont\", \"orientation\": \"h\", \"showlegend\": true, \"text\": [1.0, 2.0, 2.0, 2.0, 3.0, 3.0, 5.0, 5.0, 8.0, 9.0, 15.0, 40.0], \"textposition\": \"inside\", \"texttemplate\": \"%{text:.2s}\", \"type\": \"bar\", \"x\": [1, 2, 2, 2, 3, 3, 5, 5, 8, 9, 15, 40], \"xaxis\": \"x\", \"y\": [\"Vermont\", \"Vermont\", \"Vermont\", \"Vermont\", \"Vermont\", \"Vermont\", \"Vermont\", \"Vermont\", \"Vermont\", \"Vermont\", \"Vermont\", \"Vermont\"], \"yaxis\": \"y\"}, {\"alignmentgroup\": \"True\", \"customdata\": [[1, 0], [1, 0], [1, 0], [1, 0], [1, 0], [1, 0], [1, 0], [1, 0], [1, 0], [1, 0], [1, 0], [1, 0], [1, 0], [1, 0], [1, 0], [1, 0], [1, 0], [1, 0], [2, 0], [2, 0], [2, 0], [2, 0], [2, 0], [2, 0], [2, 0], [2, 0], [3, 0], [3, 1], [3, 0], [5, 0], [5, 1], [6, 0], [6, 1], [8, 0], [8, 0], [10, 0], [11, 0], [14, 2], [17, 1], [18, 0], [23, 0], [36, 0], [37, 2], [46, 1]], \"hoverlabel\": {\"namelength\": 0}, \"hovertemplate\": \"<b>%{hovertext}</b><br><br>State=%{y}<br>Confirmed=%{text}<br>Deaths=%{customdata[1]}\", \"hovertext\": [\"Accomack\", \"Amherst\", \"Bedford\", \"Botetourt\", \"Charles City\", \"Chesapeake\", \"Danville\", \"Fluvanna\", \"Franklin\", \"Halifax\", \"Hanover\", \"Harrisonburg\", \"Madison\", \"Nelson\", \"Orange\", \"Prince Edward\", \"Rockbridge\", \"Suffolk\", \"Albemarle\", \"Culpeper\", \"Gloucester\", \"Isle of Wight\", \"Lee\", \"Louisa\", \"Mecklenburg\", \"Spotsylvania\", \"Goochland\", \"Newport News\", \"Rockingham\", \"Charlottesville\", \"Williamsburg\", \"Stafford\", \"York\", \"Alexandria\", \"Norfolk\", \"Chesterfield\", \"Richmond City\", \"Henrico\", \"Virginia Beach\", \"Loudoun\", \"Prince William\", \"Arlington\", \"James City\", \"Fairfax\"], \"legendgroup\": \"Virginia\", \"marker\": {\"color\": \"#FF6692\"}, \"name\": \"Virginia\", \"offsetgroup\": \"Virginia\", \"orientation\": \"h\", \"showlegend\": true, \"text\": [1.0, 1.0, 1.0, 1.0, 1.0, 1.0, 1.0, 1.0, 1.0, 1.0, 1.0, 1.0, 1.0, 1.0, 1.0, 1.0, 1.0, 1.0, 2.0, 2.0, 2.0, 2.0, 2.0, 2.0, 2.0, 2.0, 3.0, 3.0, 3.0, 5.0, 5.0, 6.0, 6.0, 8.0, 8.0, 10.0, 11.0, 14.0, 17.0, 18.0, 23.0, 36.0, 37.0, 46.0], \"textposition\": \"inside\", \"texttemplate\": \"%{text:.2s}\", \"type\": \"bar\", \"x\": [1, 1, 1, 1, 1, 1, 1, 1, 1, 1, 1, 1, 1, 1, 1, 1, 1, 1, 2, 2, 2, 2, 2, 2, 2, 2, 3, 3, 3, 5, 5, 6, 6, 8, 8, 10, 11, 14, 17, 18, 23, 36, 37, 46], \"xaxis\": \"x\", \"y\": [\"Virginia\", \"Virginia\", \"Virginia\", \"Virginia\", \"Virginia\", \"Virginia\", \"Virginia\", \"Virginia\", \"Virginia\", \"Virginia\", \"Virginia\", \"Virginia\", \"Virginia\", \"Virginia\", \"Virginia\", \"Virginia\", \"Virginia\", \"Virginia\", \"Virginia\", \"Virginia\", \"Virginia\", \"Virginia\", \"Virginia\", \"Virginia\", \"Virginia\", \"Virginia\", \"Virginia\", \"Virginia\", \"Virginia\", \"Virginia\", \"Virginia\", \"Virginia\", \"Virginia\", \"Virginia\", \"Virginia\", \"Virginia\", \"Virginia\", \"Virginia\", \"Virginia\", \"Virginia\", \"Virginia\", \"Virginia\", \"Virginia\", \"Virginia\"], \"yaxis\": \"y\"}, {\"alignmentgroup\": \"True\", \"customdata\": [[1, 0], [1, 0], [1, 0], [1, 0], [1, 0], [1, 0], [1, 0], [1, 0], [1, 0], [2, 0], [2, 0], [3, 0], [4, 0], [4, 0], [5, 0], [5, 0], [6, 0], [8, 0], [9, 3], [11, 0], [13, 4], [18, 0], [23, 1], [25, 1], [25, 0], [29, 0], [45, 1], [48, 2], [112, 0], [138, 1], [614, 16], [1170, 87]], \"hoverlabel\": {\"namelength\": 0}, \"hovertemplate\": \"<b>%{hovertext}</b><br><br>State=%{y}<br>Confirmed=%{text}<br>Deaths=%{customdata[1]}\", \"hovertext\": [\"Adams\", \"Columbia\", \"Douglas\", \"Grays Harbor\", \"Lincoln\", \"Mason\", \"San Juan\", \"Stevens\", \"Walla Walla\", \"Lewis\", \"Whitman\", \"Cowlitz\", \"Clallam\", \"Klickitat\", \"Franklin\", \"Kittitas\", \"Chelan\", \"Jefferson\", \"Benton\", \"Thurston\", \"Clark\", \"Kitsap\", \"Grant\", \"Island\", \"Yakima\", \"Spokane\", \"Skagit\", \"Whatcom\", \"Unassigned\", \"Pierce\", \"Snohomish\", \"King\"], \"legendgroup\": \"Washington\", \"marker\": {\"color\": \"#B6E880\"}, \"name\": \"Washington\", \"offsetgroup\": \"Washington\", \"orientation\": \"h\", \"showlegend\": true, \"text\": [1.0, 1.0, 1.0, 1.0, 1.0, 1.0, 1.0, 1.0, 1.0, 2.0, 2.0, 3.0, 4.0, 4.0, 5.0, 5.0, 6.0, 8.0, 9.0, 11.0, 13.0, 18.0, 23.0, 25.0, 25.0, 29.0, 45.0, 48.0, 112.0, 138.0, 614.0, 1170.0], \"textposition\": \"inside\", \"texttemplate\": \"%{text:.2s}\", \"type\": \"bar\", \"x\": [1, 1, 1, 1, 1, 1, 1, 1, 1, 2, 2, 3, 4, 4, 5, 5, 6, 8, 9, 11, 13, 18, 23, 25, 25, 29, 45, 48, 112, 138, 614, 1170], \"xaxis\": \"x\", \"y\": [\"Washington\", \"Washington\", \"Washington\", \"Washington\", \"Washington\", \"Washington\", \"Washington\", \"Washington\", \"Washington\", \"Washington\", \"Washington\", \"Washington\", \"Washington\", \"Washington\", \"Washington\", \"Washington\", \"Washington\", \"Washington\", \"Washington\", \"Washington\", \"Washington\", \"Washington\", \"Washington\", \"Washington\", \"Washington\", \"Washington\", \"Washington\", \"Washington\", \"Washington\", \"Washington\", \"Washington\", \"Washington\"], \"yaxis\": \"y\"}, {\"alignmentgroup\": \"True\", \"customdata\": [[1, 0], [1, 0], [2, 0], [2, 0], [2, 0], [2, 0], [3, 0], [4, 0], [5, 0]], \"hoverlabel\": {\"namelength\": 0}, \"hovertemplate\": \"<b>%{hovertext}</b><br><br>State=%{y}<br>Confirmed=%{text}<br>Deaths=%{customdata[1]}\", \"hovertext\": [\"Jackson\", \"Putnam\", \"Harrison\", \"Marshall\", \"Mercer\", \"Tucker\", \"Jefferson\", \"Kanawha\", \"Monongalia\"], \"legendgroup\": \"West Virginia\", \"marker\": {\"color\": \"#FF97FF\"}, \"name\": \"West Virginia\", \"offsetgroup\": \"West Virginia\", \"orientation\": \"h\", \"showlegend\": true, \"text\": [1.0, 1.0, 2.0, 2.0, 2.0, 2.0, 3.0, 4.0, 5.0], \"textposition\": \"inside\", \"texttemplate\": \"%{text:.2s}\", \"type\": \"bar\", \"x\": [1, 1, 2, 2, 2, 2, 3, 4, 5], \"xaxis\": \"x\", \"y\": [\"West Virginia\", \"West Virginia\", \"West Virginia\", \"West Virginia\", \"West Virginia\", \"West Virginia\", \"West Virginia\", \"West Virginia\", \"West Virginia\"], \"yaxis\": \"y\"}, {\"alignmentgroup\": \"True\", \"customdata\": [[1, 0], [1, 0], [1, 0], [1, 0], [1, 0], [1, 0], [1, 0], [1, 0], [2, 0], [2, 0], [3, 0], [3, 0], [3, 0], [4, 0], [4, 0], [4, 0], [4, 0], [4, 0], [4, 0], [5, 0], [5, 0], [5, 0], [5, 0], [6, 0], [13, 0], [16, 1], [17, 0], [18, 1], [31, 0], [72, 0], [243, 3]], \"hoverlabel\": {\"namelength\": 0}, \"hovertemplate\": \"<b>%{hovertext}</b><br><br>State=%{y}<br>Confirmed=%{text}<br>Deaths=%{customdata[1]}\", \"hovertext\": [\"Bayfield\", \"Calumet\", \"Chippewa\", \"Dunn\", \"Green\", \"Iowa\", \"Marathon\", \"Wood\", \"Dodge\", \"Outagamie\", \"Brown\", \"Pierce\", \"Rock\", \"Douglas\", \"Eau Claire\", \"Jefferson\", \"Sauk\", \"St. Croix\", \"Walworth\", \"Columbia\", \"La Crosse\", \"Racine\", \"Winnebago\", \"Sheboygan\", \"Kenosha\", \"Ozaukee\", \"Washington\", \"Fond du Lac\", \"Waukesha\", \"Dane\", \"Milwaukee\"], \"legendgroup\": \"Wisconsin\", \"marker\": {\"color\": \"#FECB52\"}, \"name\": \"Wisconsin\", \"offsetgroup\": \"Wisconsin\", \"orientation\": \"h\", \"showlegend\": true, \"text\": [1.0, 1.0, 1.0, 1.0, 1.0, 1.0, 1.0, 1.0, 2.0, 2.0, 3.0, 3.0, 3.0, 4.0, 4.0, 4.0, 4.0, 4.0, 4.0, 5.0, 5.0, 5.0, 5.0, 6.0, 13.0, 16.0, 17.0, 18.0, 31.0, 72.0, 243.0], \"textposition\": \"inside\", \"texttemplate\": \"%{text:.2s}\", \"type\": \"bar\", \"x\": [1, 1, 1, 1, 1, 1, 1, 1, 2, 2, 3, 3, 3, 4, 4, 4, 4, 4, 4, 5, 5, 5, 5, 6, 13, 16, 17, 18, 31, 72, 243], \"xaxis\": \"x\", \"y\": [\"Wisconsin\", \"Wisconsin\", \"Wisconsin\", \"Wisconsin\", \"Wisconsin\", \"Wisconsin\", \"Wisconsin\", \"Wisconsin\", \"Wisconsin\", \"Wisconsin\", \"Wisconsin\", \"Wisconsin\", \"Wisconsin\", \"Wisconsin\", \"Wisconsin\", \"Wisconsin\", \"Wisconsin\", \"Wisconsin\", \"Wisconsin\", \"Wisconsin\", \"Wisconsin\", \"Wisconsin\", \"Wisconsin\", \"Wisconsin\", \"Wisconsin\", \"Wisconsin\", \"Wisconsin\", \"Wisconsin\", \"Wisconsin\", \"Wisconsin\", \"Wisconsin\"], \"yaxis\": \"y\"}, {\"alignmentgroup\": \"True\", \"customdata\": [[1, 0], [1, 0], [2, 0], [2, 0], [2, 0], [4, 0], [7, 0], [10, 0]], \"hoverlabel\": {\"namelength\": 0}, \"hovertemplate\": \"<b>%{hovertext}</b><br><br>State=%{y}<br>Confirmed=%{text}<br>Deaths=%{customdata[1]}\", \"hovertext\": [\"Campbell\", \"Park\", \"Carbon\", \"Natrona\", \"Teton\", \"Sheridan\", \"Laramie\", \"Fremont\"], \"legendgroup\": \"Wyoming\", \"marker\": {\"color\": \"#636efa\"}, \"name\": \"Wyoming\", \"offsetgroup\": \"Wyoming\", \"orientation\": \"h\", \"showlegend\": true, \"text\": [1.0, 1.0, 2.0, 2.0, 2.0, 4.0, 7.0, 10.0], \"textposition\": \"inside\", \"texttemplate\": \"%{text:.2s}\", \"type\": \"bar\", \"x\": [1, 1, 2, 2, 2, 4, 7, 10], \"xaxis\": \"x\", \"y\": [\"Wyoming\", \"Wyoming\", \"Wyoming\", \"Wyoming\", \"Wyoming\", \"Wyoming\", \"Wyoming\", \"Wyoming\"], \"yaxis\": \"y\"}],\n",
       "                        {\"barmode\": \"relative\", \"dragmode\": false, \"font\": {\"color\": \"#7f7f7f\"}, \"height\": 1700, \"legend\": {\"title\": {\"text\": \"State\"}, \"tracegroupgap\": 0}, \"margin\": {\"t\": 60}, \"showlegend\": false, \"template\": {\"data\": {\"bar\": [{\"error_x\": {\"color\": \"#2a3f5f\"}, \"error_y\": {\"color\": \"#2a3f5f\"}, \"marker\": {\"line\": {\"color\": \"#E5ECF6\", \"width\": 0.5}}, \"type\": \"bar\"}], \"barpolar\": [{\"marker\": {\"line\": {\"color\": \"#E5ECF6\", \"width\": 0.5}}, \"type\": \"barpolar\"}], \"carpet\": [{\"aaxis\": {\"endlinecolor\": \"#2a3f5f\", \"gridcolor\": \"white\", \"linecolor\": \"white\", \"minorgridcolor\": \"white\", \"startlinecolor\": \"#2a3f5f\"}, \"baxis\": {\"endlinecolor\": \"#2a3f5f\", \"gridcolor\": \"white\", \"linecolor\": \"white\", \"minorgridcolor\": \"white\", \"startlinecolor\": \"#2a3f5f\"}, \"type\": \"carpet\"}], \"choropleth\": [{\"colorbar\": {\"outlinewidth\": 0, \"ticks\": \"\"}, \"type\": \"choropleth\"}], \"contour\": [{\"colorbar\": {\"outlinewidth\": 0, \"ticks\": \"\"}, \"colorscale\": [[0.0, \"#0d0887\"], [0.1111111111111111, \"#46039f\"], [0.2222222222222222, \"#7201a8\"], [0.3333333333333333, \"#9c179e\"], [0.4444444444444444, \"#bd3786\"], [0.5555555555555556, \"#d8576b\"], [0.6666666666666666, \"#ed7953\"], [0.7777777777777778, \"#fb9f3a\"], [0.8888888888888888, \"#fdca26\"], [1.0, \"#f0f921\"]], \"type\": \"contour\"}], \"contourcarpet\": [{\"colorbar\": {\"outlinewidth\": 0, \"ticks\": \"\"}, \"type\": \"contourcarpet\"}], \"heatmap\": [{\"colorbar\": {\"outlinewidth\": 0, \"ticks\": \"\"}, \"colorscale\": [[0.0, \"#0d0887\"], [0.1111111111111111, \"#46039f\"], [0.2222222222222222, \"#7201a8\"], [0.3333333333333333, \"#9c179e\"], [0.4444444444444444, \"#bd3786\"], [0.5555555555555556, \"#d8576b\"], [0.6666666666666666, \"#ed7953\"], [0.7777777777777778, \"#fb9f3a\"], [0.8888888888888888, \"#fdca26\"], [1.0, \"#f0f921\"]], \"type\": \"heatmap\"}], \"heatmapgl\": [{\"colorbar\": {\"outlinewidth\": 0, \"ticks\": \"\"}, \"colorscale\": [[0.0, \"#0d0887\"], [0.1111111111111111, \"#46039f\"], [0.2222222222222222, \"#7201a8\"], [0.3333333333333333, \"#9c179e\"], [0.4444444444444444, \"#bd3786\"], [0.5555555555555556, \"#d8576b\"], [0.6666666666666666, \"#ed7953\"], [0.7777777777777778, \"#fb9f3a\"], [0.8888888888888888, \"#fdca26\"], [1.0, \"#f0f921\"]], \"type\": \"heatmapgl\"}], \"histogram\": [{\"marker\": {\"colorbar\": {\"outlinewidth\": 0, \"ticks\": \"\"}}, \"type\": \"histogram\"}], \"histogram2d\": [{\"colorbar\": {\"outlinewidth\": 0, \"ticks\": \"\"}, \"colorscale\": [[0.0, \"#0d0887\"], [0.1111111111111111, \"#46039f\"], [0.2222222222222222, \"#7201a8\"], [0.3333333333333333, \"#9c179e\"], [0.4444444444444444, \"#bd3786\"], [0.5555555555555556, \"#d8576b\"], [0.6666666666666666, \"#ed7953\"], [0.7777777777777778, \"#fb9f3a\"], [0.8888888888888888, \"#fdca26\"], [1.0, \"#f0f921\"]], \"type\": \"histogram2d\"}], \"histogram2dcontour\": [{\"colorbar\": {\"outlinewidth\": 0, \"ticks\": \"\"}, \"colorscale\": [[0.0, \"#0d0887\"], [0.1111111111111111, \"#46039f\"], [0.2222222222222222, \"#7201a8\"], [0.3333333333333333, \"#9c179e\"], [0.4444444444444444, \"#bd3786\"], [0.5555555555555556, \"#d8576b\"], [0.6666666666666666, \"#ed7953\"], [0.7777777777777778, \"#fb9f3a\"], [0.8888888888888888, \"#fdca26\"], [1.0, \"#f0f921\"]], \"type\": \"histogram2dcontour\"}], \"mesh3d\": [{\"colorbar\": {\"outlinewidth\": 0, \"ticks\": \"\"}, \"type\": \"mesh3d\"}], \"parcoords\": [{\"line\": {\"colorbar\": {\"outlinewidth\": 0, \"ticks\": \"\"}}, \"type\": \"parcoords\"}], \"pie\": [{\"automargin\": true, \"type\": \"pie\"}], \"scatter\": [{\"marker\": {\"colorbar\": {\"outlinewidth\": 0, \"ticks\": \"\"}}, \"type\": \"scatter\"}], \"scatter3d\": [{\"line\": {\"colorbar\": {\"outlinewidth\": 0, \"ticks\": \"\"}}, \"marker\": {\"colorbar\": {\"outlinewidth\": 0, \"ticks\": \"\"}}, \"type\": \"scatter3d\"}], \"scattercarpet\": [{\"marker\": {\"colorbar\": {\"outlinewidth\": 0, \"ticks\": \"\"}}, \"type\": \"scattercarpet\"}], \"scattergeo\": [{\"marker\": {\"colorbar\": {\"outlinewidth\": 0, \"ticks\": \"\"}}, \"type\": \"scattergeo\"}], \"scattergl\": [{\"marker\": {\"colorbar\": {\"outlinewidth\": 0, \"ticks\": \"\"}}, \"type\": \"scattergl\"}], \"scattermapbox\": [{\"marker\": {\"colorbar\": {\"outlinewidth\": 0, \"ticks\": \"\"}}, \"type\": \"scattermapbox\"}], \"scatterpolar\": [{\"marker\": {\"colorbar\": {\"outlinewidth\": 0, \"ticks\": \"\"}}, \"type\": \"scatterpolar\"}], \"scatterpolargl\": [{\"marker\": {\"colorbar\": {\"outlinewidth\": 0, \"ticks\": \"\"}}, \"type\": \"scatterpolargl\"}], \"scatterternary\": [{\"marker\": {\"colorbar\": {\"outlinewidth\": 0, \"ticks\": \"\"}}, \"type\": \"scatterternary\"}], \"surface\": [{\"colorbar\": {\"outlinewidth\": 0, \"ticks\": \"\"}, \"colorscale\": [[0.0, \"#0d0887\"], [0.1111111111111111, \"#46039f\"], [0.2222222222222222, \"#7201a8\"], [0.3333333333333333, \"#9c179e\"], [0.4444444444444444, \"#bd3786\"], [0.5555555555555556, \"#d8576b\"], [0.6666666666666666, \"#ed7953\"], [0.7777777777777778, \"#fb9f3a\"], [0.8888888888888888, \"#fdca26\"], [1.0, \"#f0f921\"]], \"type\": \"surface\"}], \"table\": [{\"cells\": {\"fill\": {\"color\": \"#EBF0F8\"}, \"line\": {\"color\": \"white\"}}, \"header\": {\"fill\": {\"color\": \"#C8D4E3\"}, \"line\": {\"color\": \"white\"}}, \"type\": \"table\"}]}, \"layout\": {\"annotationdefaults\": {\"arrowcolor\": \"#2a3f5f\", \"arrowhead\": 0, \"arrowwidth\": 1}, \"coloraxis\": {\"colorbar\": {\"outlinewidth\": 0, \"ticks\": \"\"}}, \"colorscale\": {\"diverging\": [[0, \"#8e0152\"], [0.1, \"#c51b7d\"], [0.2, \"#de77ae\"], [0.3, \"#f1b6da\"], [0.4, \"#fde0ef\"], [0.5, \"#f7f7f7\"], [0.6, \"#e6f5d0\"], [0.7, \"#b8e186\"], [0.8, \"#7fbc41\"], [0.9, \"#4d9221\"], [1, \"#276419\"]], \"sequential\": [[0.0, \"#0d0887\"], [0.1111111111111111, \"#46039f\"], [0.2222222222222222, \"#7201a8\"], [0.3333333333333333, \"#9c179e\"], [0.4444444444444444, \"#bd3786\"], [0.5555555555555556, \"#d8576b\"], [0.6666666666666666, \"#ed7953\"], [0.7777777777777778, \"#fb9f3a\"], [0.8888888888888888, \"#fdca26\"], [1.0, \"#f0f921\"]], \"sequentialminus\": [[0.0, \"#0d0887\"], [0.1111111111111111, \"#46039f\"], [0.2222222222222222, \"#7201a8\"], [0.3333333333333333, \"#9c179e\"], [0.4444444444444444, \"#bd3786\"], [0.5555555555555556, \"#d8576b\"], [0.6666666666666666, \"#ed7953\"], [0.7777777777777778, \"#fb9f3a\"], [0.8888888888888888, \"#fdca26\"], [1.0, \"#f0f921\"]]}, \"colorway\": [\"#636efa\", \"#EF553B\", \"#00cc96\", \"#ab63fa\", \"#FFA15A\", \"#19d3f3\", \"#FF6692\", \"#B6E880\", \"#FF97FF\", \"#FECB52\"], \"font\": {\"color\": \"#2a3f5f\"}, \"geo\": {\"bgcolor\": \"white\", \"lakecolor\": \"white\", \"landcolor\": \"#E5ECF6\", \"showlakes\": true, \"showland\": true, \"subunitcolor\": \"white\"}, \"hoverlabel\": {\"align\": \"left\"}, \"hovermode\": \"closest\", \"mapbox\": {\"style\": \"light\"}, \"paper_bgcolor\": \"white\", \"plot_bgcolor\": \"#E5ECF6\", \"polar\": {\"angularaxis\": {\"gridcolor\": \"white\", \"linecolor\": \"white\", \"ticks\": \"\"}, \"bgcolor\": \"#E5ECF6\", \"radialaxis\": {\"gridcolor\": \"white\", \"linecolor\": \"white\", \"ticks\": \"\"}}, \"scene\": {\"xaxis\": {\"backgroundcolor\": \"#E5ECF6\", \"gridcolor\": \"white\", \"gridwidth\": 2, \"linecolor\": \"white\", \"showbackground\": true, \"ticks\": \"\", \"zerolinecolor\": \"white\"}, \"yaxis\": {\"backgroundcolor\": \"#E5ECF6\", \"gridcolor\": \"white\", \"gridwidth\": 2, \"linecolor\": \"white\", \"showbackground\": true, \"ticks\": \"\", \"zerolinecolor\": \"white\"}, \"zaxis\": {\"backgroundcolor\": \"#E5ECF6\", \"gridcolor\": \"white\", \"gridwidth\": 2, \"linecolor\": \"white\", \"showbackground\": true, \"ticks\": \"\", \"zerolinecolor\": \"white\"}}, \"shapedefaults\": {\"line\": {\"color\": \"#2a3f5f\"}}, \"ternary\": {\"aaxis\": {\"gridcolor\": \"white\", \"linecolor\": \"white\", \"ticks\": \"\"}, \"baxis\": {\"gridcolor\": \"white\", \"linecolor\": \"white\", \"ticks\": \"\"}, \"bgcolor\": \"#E5ECF6\", \"caxis\": {\"gridcolor\": \"white\", \"linecolor\": \"white\", \"ticks\": \"\"}}, \"title\": {\"x\": 0.05}, \"xaxis\": {\"automargin\": true, \"gridcolor\": \"white\", \"linecolor\": \"white\", \"ticks\": \"\", \"title\": {\"standoff\": 15}, \"zerolinecolor\": \"white\", \"zerolinewidth\": 2}, \"yaxis\": {\"automargin\": true, \"gridcolor\": \"white\", \"linecolor\": \"white\", \"ticks\": \"\", \"title\": {\"standoff\": 15}, \"zerolinecolor\": \"white\", \"zerolinewidth\": 2}}}, \"title\": {\"text\": \"Confirmed COVID19 Cases in the United States as of March 24, 2020\", \"x\": 0.54, \"xanchor\": \"center\", \"y\": 0.98, \"yanchor\": \"top\"}, \"uniformtext\": {\"minsize\": 12, \"mode\": \"hide\"}, \"xaxis\": {\"anchor\": \"y\", \"categoryorder\": \"category ascending\", \"domain\": [0.0, 1.0], \"fixedrange\": true, \"linewidth\": 0.2, \"showline\": true, \"title\": {\"text\": \"Confirmed\"}}, \"yaxis\": {\"anchor\": \"x\", \"autorange\": \"reversed\", \"categoryarray\": [\"Wyoming\", \"Wisconsin\", \"West Virginia\", \"Washington\", \"Virginia\", \"Vermont\", \"Utah\", \"Texas\", \"Tennessee\", \"South Dakota\", \"South Carolina\", \"Rhode Island\", \"Pennsylvania\", \"Oregon\", \"Oklahoma\", \"Ohio\", \"North Dakota\", \"North Carolina\", \"New York\", \"New Mexico\", \"New Jersey\", \"New Hampshire\", \"Nevada\", \"Nebraska\", \"Montana\", \"Missouri\", \"Mississippi\", \"Minnesota\", \"Michigan\", \"Massachusetts\", \"Maryland\", \"Maine\", \"Louisiana\", \"Kentucky\", \"Kansas\", \"Iowa\", \"Indiana\", \"Illinois\", \"Idaho\", \"Hawaii\", \"Georgia\", \"Florida\", \"District of Columbia\", \"Delaware\", \"Connecticut\", \"Colorado\", \"California\", \"Arkansas\", \"Arizona\", \"Alaska\", \"Alabama\"], \"categoryorder\": \"total descending\", \"domain\": [0.0, 1.0], \"fixedrange\": true, \"title\": {\"text\": \"\"}}},\n",
       "                        {\"responsive\": true}\n",
       "                    ).then(function(){\n",
       "                            \n",
       "var gd = document.getElementById('9682f647-b8c9-4303-b37b-19480ca75e58');\n",
       "var x = new MutationObserver(function (mutations, observer) {{\n",
       "        var display = window.getComputedStyle(gd).display;\n",
       "        if (!display || display === 'none') {{\n",
       "            console.log([gd, 'removed!']);\n",
       "            Plotly.purge(gd);\n",
       "            observer.disconnect();\n",
       "        }}\n",
       "}});\n",
       "\n",
       "// Listen for the removal of the full notebook cells\n",
       "var notebookContainer = gd.closest('#notebook-container');\n",
       "if (notebookContainer) {{\n",
       "    x.observe(notebookContainer, {childList: true});\n",
       "}}\n",
       "\n",
       "// Listen for the clearing of the current output cell\n",
       "var outputEl = gd.closest('.output');\n",
       "if (outputEl) {{\n",
       "    x.observe(outputEl, {childList: true});\n",
       "}}\n",
       "\n",
       "                        })\n",
       "                };\n",
       "                });\n",
       "            </script>\n",
       "        </div>"
      ]
     },
     "metadata": {},
     "output_type": "display_data"
    }
   ],
   "source": [
    "import plotly.express as px\n",
    "import plotly.graph_objects as go\n",
    "\n",
    "fig = go.Figure()\n",
    "\n",
    "#Confirmed = df1['Confirmed'],\n",
    "#Deaths = df1['Deaths'],\n",
    "#Total_Confirmed = df1['Confirmed'].sum(),\n",
    "\n",
    "fig = px.bar(df1, \n",
    "             x=\"Confirmed\", \n",
    "             y=\"State\",\n",
    "             text=\"Confirmed\", #this adds the numbers inside the bars when possible or outside to the right\n",
    "             color='State', \n",
    "             orientation='h',\n",
    "             hover_name=\"County\", hover_data=[\"Confirmed\", \"Deaths\"],\n",
    "             height=1700,\n",
    "             color_continuous_scale='Magenta',\n",
    "            )\n",
    "             \n",
    "fig.update_layout(\n",
    "    title={\n",
    "        'text': \"Confirmed COVID19 Cases in the United States as of March 24, 2020\",\n",
    "        'y':0.98,\n",
    "        'x':0.54,\n",
    "        'xanchor': 'center',\n",
    "        'yanchor': 'top'},\n",
    "    showlegend=False,\n",
    "    xaxis=dict(categoryorder=\"category ascending\", fixedrange=True),\n",
    "    yaxis=dict(autorange=\"reversed\", title=\"\", categoryorder=\"total descending\", fixedrange=True),\n",
    "    dragmode=False,\n",
    "    font=dict(\n",
    "        #family=\"Times New Roman\",\n",
    "        #size=16,\n",
    "        color=\"#7f7f7f\"),\n",
    "    \n",
    "    uniformtext_minsize=12, uniformtext_mode='hide',\n",
    ")\n",
    "\n",
    "fig.update_xaxes(showline=True, linewidth=0.2)\n",
    "fig.update_traces(texttemplate='%{text:.2s}', textposition='inside')\n",
    "    \n",
    "fig.show()\n",
    "\n",
    "import plotly.io as pio\n",
    "pio.write_html(fig, file='Index.html', auto_open=True)"
   ]
  },
  {
   "cell_type": "code",
   "execution_count": null,
   "metadata": {},
   "outputs": [],
   "source": []
  },
  {
   "cell_type": "code",
   "execution_count": null,
   "metadata": {},
   "outputs": [],
   "source": []
  }
 ],
 "metadata": {
  "kernelspec": {
   "display_name": "Python 3",
   "language": "python",
   "name": "python3"
  },
  "language_info": {
   "codemirror_mode": {
    "name": "ipython",
    "version": 3
   },
   "file_extension": ".py",
   "mimetype": "text/x-python",
   "name": "python",
   "nbconvert_exporter": "python",
   "pygments_lexer": "ipython3",
   "version": "3.6.10"
  }
 },
 "nbformat": 4,
 "nbformat_minor": 4
}
